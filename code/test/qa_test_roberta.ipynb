{
 "cells": [
  {
   "cell_type": "code",
   "execution_count": 1,
   "id": "04ca74cc-700c-45f0-a5f0-f6c2b2ea6298",
   "metadata": {},
   "outputs": [
    {
     "name": "stderr",
     "output_type": "stream",
     "text": [
      "/opt/conda/envs/qa/lib/python3.9/site-packages/tqdm/auto.py:21: TqdmWarning: IProgress not found. Please update jupyter and ipywidgets. See https://ipywidgets.readthedocs.io/en/stable/user_install.html\n",
      "  from .autonotebook import tqdm as notebook_tqdm\n"
     ]
    }
   ],
   "source": [
    "import os\n",
    "import re\n",
    "import torch\n",
    "from torch import nn\n",
    "from tqdm import tqdm\n",
    "from transformers import (\n",
    "    Trainer,\n",
    "    TrainingArguments,\n",
    "    AutoTokenizer,\n",
    "    AutoModelForQuestionAnswering,\n",
    "    DataCollatorWithPadding,\n",
    "    BitsAndBytesConfig,\n",
    ")\n",
    "from tokenizers.processors import TemplateProcessing\n",
    "from trl import SFTConfig, SFTTrainer\n",
    "from peft import (\n",
    "    prepare_model_for_kbit_training, \n",
    "    LoraConfig, \n",
    "    get_peft_model,\n",
    "    TaskType,\n",
    ")\n",
    "from datasets import load_dataset\n",
    "from accelerate import Accelerator"
   ]
  },
  {
   "cell_type": "markdown",
   "id": "18ae1e82-8f3d-48d5-a8a6-401ea78d82b3",
   "metadata": {},
   "source": [
    "# 데이터셋 정의"
   ]
  },
  {
   "cell_type": "code",
   "execution_count": 2,
   "id": "f4719c5d-6bca-4167-857d-3b7fff887839",
   "metadata": {},
   "outputs": [
    {
     "name": "stderr",
     "output_type": "stream",
     "text": [
      "Map: 100%|██████████| 33716/33716 [00:52<00:00, 642.43 examples/s]\n"
     ]
    }
   ],
   "source": [
    "repo = 'uomnf97/klue-roberta-finetuned-korquad-v2'\n",
    "tokenizer = AutoTokenizer.from_pretrained(repo)\n",
    "dataset = load_dataset(\"csv\", data_files=\"/home/jovyan/work/prj_data/open/train.csv\")\n",
    "max_length = 512\n",
    "stride = 160\n",
    "\n",
    "def preprocess_function(examples):\n",
    "    questions, contexts, answers = examples[\"question\"], examples[\"context\"], examples[\"answer\"]\n",
    "    def preprocess_text(text):\n",
    "        text = text.replace('\\n', ' ')\n",
    "        text = re.sub(r'\\s+', ' ', text).strip()\n",
    "        return text\n",
    "    questions = list(map(preprocess_text, questions))\n",
    "    contexts = list(map(preprocess_text, contexts))\n",
    "    answers = list(map(preprocess_text, answers))\n",
    "    \n",
    "    inputs = tokenizer(\n",
    "        questions,\n",
    "        contexts,\n",
    "        max_length=max_length,\n",
    "        truncation=\"only_second\",\n",
    "        stride=stride,\n",
    "        return_overflowing_tokens=True,\n",
    "        return_offsets_mapping=True,\n",
    "        padding=\"max_length\",\n",
    "    )\n",
    "\n",
    "    # offset_mapping: [(token1 start, token1 end), (token2 ~, ), ...]\n",
    "    offset_mapping = inputs.pop(\"offset_mapping\")\n",
    "    sample_map = inputs[\"overflow_to_sample_mapping\"]# inputs.pop(\"overflow_to_sample_mapping\")\n",
    "    start_positions = []\n",
    "    end_positions = []\n",
    "    \n",
    "    for i, offset in enumerate(offset_mapping):\n",
    "        # sequence_ids: (token=None, question=0, context=1)\n",
    "        sequence_ids = inputs.sequence_ids(i)\n",
    "\n",
    "        # 컨텍스트의 시작 및 마지막을 찾는다.\n",
    "        idx = 0\n",
    "        while sequence_ids[idx] != 1:\n",
    "            idx += 1\n",
    "        context_start = idx\n",
    "        while sequence_ids[idx] == 1:\n",
    "            idx += 1\n",
    "        context_end = idx - 1\n",
    "        \n",
    "        sample_idx = sample_map[i]\n",
    "        answer = answers[sample_idx]\n",
    "        \n",
    "        start_char = contexts[sample_idx].find(answer, offset[context_start][0], offset[context_end][1])\n",
    "        end_char = start_char + len(answer)\n",
    "\n",
    "        # 만일 정답이 컨텍스트에 완전히 포함되지 않는다면, 레이블은 (0, 0)임\n",
    "        if offset[context_start][0] > start_char or offset[context_end][1] < end_char:\n",
    "            start_positions.append(0)\n",
    "            end_positions.append(0)\n",
    "        else:\n",
    "            # 그렇지 않으면 정답의 시작 및 마지막 인덱스\n",
    "            idx = context_start\n",
    "            while idx <= context_end and offset[idx][0] <= start_char:\n",
    "                idx += 1\n",
    "            start_positions.append(idx - 1)\n",
    "    \n",
    "            idx = context_end\n",
    "            while idx >= context_start and offset[idx][1] >= end_char:\n",
    "                idx -= 1\n",
    "            end_positions.append(idx + 1)\n",
    "\n",
    "    inputs[\"start_positions\"] = start_positions\n",
    "    inputs[\"end_positions\"] = end_positions\n",
    "    return inputs\n",
    "\n",
    "# 데이터 프레임을 전처리합니다\n",
    "# preprocess_function(dataset[\"train\"][15281])\n",
    "train_dataset = dataset[\"train\"].map(\n",
    "    preprocess_function,\n",
    "    batched = True,\n",
    "    remove_columns=dataset[\"train\"].column_names,\n",
    ")\n",
    "\n",
    "# roBERTa에서는 삭제, BERT에서는 중요한 역할\n",
    "train_dataset = train_dataset.remove_columns(\"token_type_ids\")"
   ]
  },
  {
   "cell_type": "code",
   "execution_count": 3,
   "id": "20f39812-3ba3-4089-abe8-d603fa99bb65",
   "metadata": {},
   "outputs": [
    {
     "name": "stdout",
     "output_type": "stream",
     "text": [
      "Theoretical answer: 6세대, labels give: 6세대\n",
      "[CLS] PM9A3 E1. S가 기반한 V낸드는 몇 세대인가 [SEP] 데이터 암호화와 같은 기본적인 보안 기능 뿐만 아니라 안티롤백, 보안 부팅 등 다양한 보안 솔루션을 제공한다. 안티롤백은 보안이 취약한 하위 버전의 펌웨어가 다운로드 되지 못하도록 막는 기능으로, PM9A3 E1. S는 보안 취약점이 발견된 펌웨어에 대해서는 이력을 따로 저장해놓고 해당 버전을 다운로드할 경우 정상적으로 처리되지 않도록 막는다. 이번 SSD는 기본적으로 허가되지 않은 접근이 안되도록 설계돼 있지만, 보안 부팅 기능을 추가해 보안을 더욱 강화했다. 보안 부팅은 SSD 내부에 갖고 있는 전자서명을 부팅 과정에서 체크해, 정상적으로 인식되는 경우에만 부팅이 될 수 있도록 한다. 삼성전자 메모리사업부 상품기획팀 박철민 상무는 \" PM9A3 E1. S는 6세대 V낸드 기반으로 업계 최고 수준의 전력 효율을 구현한 NVMe SSD로 대규모 데이터센터 고객들에게 최적의 솔루션이 될 것 \" 이라며, \" 향후 OCP에 참여한 다양한 고객사들과 협력해 데이터센터용 SSD 표준을 만들어 나갈 것 \" 이라고 밝혔다. 페이스북의 OCP SSD 총괄 로스 스텐포트는 “ OCP NVMe 클라우드 SSD는 최근 데이터센터의 기술적 난제를 해결하는데 매우 중요한 실마리를 제시해준다 ” 면서 “ 특히 삼성전자의 이번 제품은 대규모 확장이 필요한 데이터센터 환경에 적합한 SSD 요구 사양을 충족하고 있다 ” 고 밝혔다. 삼성전자는 이번 PM9A3 E1. S 양산을 시작으로 5G 시대의 본격 개막과 초연결 라이프 스타일로 변화하는 시대에 발맞춰 글로벌 데이터센터 업체들과 지속 협력하며 차세대 기술 확보와 표준화를 주도해 나갈 계획이다. [SEP] [PAD] [PAD] [PAD] [PAD] [PAD] [PAD] [PAD] [PAD] [PAD] [PAD] [PAD] [PAD] [PAD] [PAD] [PAD] [PAD] [PAD] [PAD] [PAD] [PAD] [PAD] [PAD] [PAD] [PAD] [PAD] [PAD] [PAD] [PAD] [PAD] [PAD] [PAD] [PAD] [PAD] [PAD] [PAD] [PAD] [PAD] [PAD] [PAD] [PAD] [PAD] [PAD] [PAD] [PAD] [PAD] [PAD] [PAD] [PAD] [PAD] [PAD] [PAD] [PAD] [PAD] [PAD] [PAD] [PAD] [PAD] [PAD] [PAD] [PAD] [PAD] [PAD] [PAD] [PAD] [PAD] [PAD] [PAD] [PAD] [PAD] [PAD] [PAD] [PAD] [PAD] [PAD] [PAD] [PAD] [PAD] [PAD] [PAD] [PAD] [PAD] [PAD] [PAD] [PAD] [PAD] [PAD] [PAD] [PAD] [PAD]\n"
     ]
    }
   ],
   "source": [
    "idx = 9\n",
    "sample_idx = train_dataset[\"overflow_to_sample_mapping\"][idx]\n",
    "answer = dataset['train']['answer'][sample_idx]\n",
    "\n",
    "start = train_dataset['start_positions'][idx]\n",
    "end = train_dataset['end_positions'][idx]\n",
    "labeled_answer = tokenizer.decode(train_dataset[\"input_ids\"][idx][start : end + 1])\n",
    "\n",
    "print(f\"Theoretical answer: {answer}, labels give: {labeled_answer}\")\n",
    "print(tokenizer.decode(train_dataset[\"input_ids\"][idx]))"
   ]
  },
  {
   "cell_type": "markdown",
   "id": "51881a81-deed-47c7-aac0-3b998a272c73",
   "metadata": {},
   "source": [
    "# 모델 정의"
   ]
  },
  {
   "cell_type": "code",
   "execution_count": 3,
   "id": "ddb7b1fd-581d-474a-8797-7fdfaa2c4336",
   "metadata": {},
   "outputs": [
    {
     "name": "stdout",
     "output_type": "stream",
     "text": [
      "start\n"
     ]
    },
    {
     "ename": "KeyboardInterrupt",
     "evalue": "",
     "output_type": "error",
     "traceback": [
      "\u001b[0;31m---------------------------------------------------------------------------\u001b[0m",
      "\u001b[0;31mKeyboardInterrupt\u001b[0m                         Traceback (most recent call last)",
      "Cell \u001b[0;32mIn[3], line 8\u001b[0m\n\u001b[1;32m      1\u001b[0m quantization_config \u001b[38;5;241m=\u001b[39m BitsAndBytesConfig(\n\u001b[1;32m      2\u001b[0m     load_in_4bit\u001b[38;5;241m=\u001b[39m\u001b[38;5;28;01mTrue\u001b[39;00m,\n\u001b[1;32m      3\u001b[0m     bnb_4bit_use_double_quant\u001b[38;5;241m=\u001b[39m\u001b[38;5;28;01mTrue\u001b[39;00m,\n\u001b[1;32m      4\u001b[0m     bnb_4bit_quant_type\u001b[38;5;241m=\u001b[39m\u001b[38;5;124m\"\u001b[39m\u001b[38;5;124mnf4\u001b[39m\u001b[38;5;124m\"\u001b[39m,\n\u001b[1;32m      5\u001b[0m     bnb_4bit_compute_dtype\u001b[38;5;241m=\u001b[39mtorch\u001b[38;5;241m.\u001b[39mfloat16,\n\u001b[1;32m      6\u001b[0m )\n\u001b[1;32m      7\u001b[0m \u001b[38;5;28mprint\u001b[39m(\u001b[38;5;124m\"\u001b[39m\u001b[38;5;124mstart\u001b[39m\u001b[38;5;124m\"\u001b[39m)\n\u001b[0;32m----> 8\u001b[0m model \u001b[38;5;241m=\u001b[39m \u001b[43mAutoModelForQuestionAnswering\u001b[49m\u001b[38;5;241;43m.\u001b[39;49m\u001b[43mfrom_pretrained\u001b[49m\u001b[43m(\u001b[49m\n\u001b[1;32m      9\u001b[0m \u001b[43m        \u001b[49m\u001b[43mrepo\u001b[49m\u001b[43m,\u001b[49m\n\u001b[1;32m     10\u001b[0m \u001b[43m        \u001b[49m\u001b[43mdevice_map\u001b[49m\u001b[38;5;241;43m=\u001b[39;49m\u001b[38;5;124;43m\"\u001b[39;49m\u001b[38;5;124;43mcuda:0\u001b[39;49m\u001b[38;5;124;43m\"\u001b[39;49m\u001b[43m,\u001b[49m\n\u001b[1;32m     11\u001b[0m \u001b[43m        \u001b[49m\u001b[43mtorch_dtype\u001b[49m\u001b[38;5;241;43m=\u001b[39;49m\u001b[43mtorch\u001b[49m\u001b[38;5;241;43m.\u001b[39;49m\u001b[43mfloat32\u001b[49m\u001b[43m,\u001b[49m\n\u001b[1;32m     12\u001b[0m \u001b[43m        \u001b[49m\u001b[43mquantization_config\u001b[49m\u001b[38;5;241;43m=\u001b[39;49m\u001b[43mquantization_config\u001b[49m\u001b[43m,\u001b[49m\n\u001b[1;32m     13\u001b[0m \u001b[43m)\u001b[49m\n\u001b[1;32m     14\u001b[0m \u001b[38;5;28mprint\u001b[39m(\u001b[38;5;124m\"\u001b[39m\u001b[38;5;124mend\u001b[39m\u001b[38;5;124m\"\u001b[39m)\n\u001b[1;32m     15\u001b[0m model\u001b[38;5;241m.\u001b[39mresize_token_embeddings(\u001b[38;5;28mlen\u001b[39m(tokenizer))\n",
      "File \u001b[0;32m/opt/conda/envs/qa/lib/python3.9/site-packages/transformers/models/auto/auto_factory.py:564\u001b[0m, in \u001b[0;36m_BaseAutoModelClass.from_pretrained\u001b[0;34m(cls, pretrained_model_name_or_path, *model_args, **kwargs)\u001b[0m\n\u001b[1;32m    562\u001b[0m \u001b[38;5;28;01melif\u001b[39;00m \u001b[38;5;28mtype\u001b[39m(config) \u001b[38;5;129;01min\u001b[39;00m \u001b[38;5;28mcls\u001b[39m\u001b[38;5;241m.\u001b[39m_model_mapping\u001b[38;5;241m.\u001b[39mkeys():\n\u001b[1;32m    563\u001b[0m     model_class \u001b[38;5;241m=\u001b[39m _get_model_class(config, \u001b[38;5;28mcls\u001b[39m\u001b[38;5;241m.\u001b[39m_model_mapping)\n\u001b[0;32m--> 564\u001b[0m     \u001b[38;5;28;01mreturn\u001b[39;00m \u001b[43mmodel_class\u001b[49m\u001b[38;5;241;43m.\u001b[39;49m\u001b[43mfrom_pretrained\u001b[49m\u001b[43m(\u001b[49m\n\u001b[1;32m    565\u001b[0m \u001b[43m        \u001b[49m\u001b[43mpretrained_model_name_or_path\u001b[49m\u001b[43m,\u001b[49m\u001b[43m \u001b[49m\u001b[38;5;241;43m*\u001b[39;49m\u001b[43mmodel_args\u001b[49m\u001b[43m,\u001b[49m\u001b[43m \u001b[49m\u001b[43mconfig\u001b[49m\u001b[38;5;241;43m=\u001b[39;49m\u001b[43mconfig\u001b[49m\u001b[43m,\u001b[49m\u001b[43m \u001b[49m\u001b[38;5;241;43m*\u001b[39;49m\u001b[38;5;241;43m*\u001b[39;49m\u001b[43mhub_kwargs\u001b[49m\u001b[43m,\u001b[49m\u001b[43m \u001b[49m\u001b[38;5;241;43m*\u001b[39;49m\u001b[38;5;241;43m*\u001b[39;49m\u001b[43mkwargs\u001b[49m\n\u001b[1;32m    566\u001b[0m \u001b[43m    \u001b[49m\u001b[43m)\u001b[49m\n\u001b[1;32m    567\u001b[0m \u001b[38;5;28;01mraise\u001b[39;00m \u001b[38;5;167;01mValueError\u001b[39;00m(\n\u001b[1;32m    568\u001b[0m     \u001b[38;5;124mf\u001b[39m\u001b[38;5;124m\"\u001b[39m\u001b[38;5;124mUnrecognized configuration class \u001b[39m\u001b[38;5;132;01m{\u001b[39;00mconfig\u001b[38;5;241m.\u001b[39m\u001b[38;5;18m__class__\u001b[39m\u001b[38;5;132;01m}\u001b[39;00m\u001b[38;5;124m for this kind of AutoModel: \u001b[39m\u001b[38;5;132;01m{\u001b[39;00m\u001b[38;5;28mcls\u001b[39m\u001b[38;5;241m.\u001b[39m\u001b[38;5;18m__name__\u001b[39m\u001b[38;5;132;01m}\u001b[39;00m\u001b[38;5;124m.\u001b[39m\u001b[38;5;130;01m\\n\u001b[39;00m\u001b[38;5;124m\"\u001b[39m\n\u001b[1;32m    569\u001b[0m     \u001b[38;5;124mf\u001b[39m\u001b[38;5;124m\"\u001b[39m\u001b[38;5;124mModel type should be one of \u001b[39m\u001b[38;5;132;01m{\u001b[39;00m\u001b[38;5;124m'\u001b[39m\u001b[38;5;124m, \u001b[39m\u001b[38;5;124m'\u001b[39m\u001b[38;5;241m.\u001b[39mjoin(c\u001b[38;5;241m.\u001b[39m\u001b[38;5;18m__name__\u001b[39m\u001b[38;5;250m \u001b[39m\u001b[38;5;28;01mfor\u001b[39;00m\u001b[38;5;250m \u001b[39mc\u001b[38;5;250m \u001b[39m\u001b[38;5;129;01min\u001b[39;00m\u001b[38;5;250m \u001b[39m\u001b[38;5;28mcls\u001b[39m\u001b[38;5;241m.\u001b[39m_model_mapping\u001b[38;5;241m.\u001b[39mkeys())\u001b[38;5;132;01m}\u001b[39;00m\u001b[38;5;124m.\u001b[39m\u001b[38;5;124m\"\u001b[39m\n\u001b[1;32m    570\u001b[0m )\n",
      "File \u001b[0;32m/opt/conda/envs/qa/lib/python3.9/site-packages/transformers/modeling_utils.py:3522\u001b[0m, in \u001b[0;36mPreTrainedModel.from_pretrained\u001b[0;34m(cls, pretrained_model_name_or_path, config, cache_dir, ignore_mismatched_sizes, force_download, local_files_only, token, revision, use_safetensors, *model_args, **kwargs)\u001b[0m\n\u001b[1;32m   3519\u001b[0m     \u001b[38;5;28;01melse\u001b[39;00m:\n\u001b[1;32m   3520\u001b[0m         \u001b[38;5;66;03m# This repo has no safetensors file of any kind, we switch to PyTorch.\u001b[39;00m\n\u001b[1;32m   3521\u001b[0m         filename \u001b[38;5;241m=\u001b[39m _add_variant(WEIGHTS_NAME, variant)\n\u001b[0;32m-> 3522\u001b[0m         resolved_archive_file \u001b[38;5;241m=\u001b[39m \u001b[43mcached_file\u001b[49m\u001b[43m(\u001b[49m\n\u001b[1;32m   3523\u001b[0m \u001b[43m            \u001b[49m\u001b[43mpretrained_model_name_or_path\u001b[49m\u001b[43m,\u001b[49m\u001b[43m \u001b[49m\u001b[43mfilename\u001b[49m\u001b[43m,\u001b[49m\u001b[43m \u001b[49m\u001b[38;5;241;43m*\u001b[39;49m\u001b[38;5;241;43m*\u001b[39;49m\u001b[43mcached_file_kwargs\u001b[49m\n\u001b[1;32m   3524\u001b[0m \u001b[43m        \u001b[49m\u001b[43m)\u001b[49m\n\u001b[1;32m   3525\u001b[0m \u001b[38;5;28;01mif\u001b[39;00m resolved_archive_file \u001b[38;5;129;01mis\u001b[39;00m \u001b[38;5;28;01mNone\u001b[39;00m \u001b[38;5;129;01mand\u001b[39;00m filename \u001b[38;5;241m==\u001b[39m _add_variant(WEIGHTS_NAME, variant):\n\u001b[1;32m   3526\u001b[0m     \u001b[38;5;66;03m# Maybe the checkpoint is sharded, we try to grab the index name in this case.\u001b[39;00m\n\u001b[1;32m   3527\u001b[0m     resolved_archive_file \u001b[38;5;241m=\u001b[39m cached_file(\n\u001b[1;32m   3528\u001b[0m         pretrained_model_name_or_path,\n\u001b[1;32m   3529\u001b[0m         _add_variant(WEIGHTS_INDEX_NAME, variant),\n\u001b[1;32m   3530\u001b[0m         \u001b[38;5;241m*\u001b[39m\u001b[38;5;241m*\u001b[39mcached_file_kwargs,\n\u001b[1;32m   3531\u001b[0m     )\n",
      "File \u001b[0;32m/opt/conda/envs/qa/lib/python3.9/site-packages/transformers/utils/hub.py:402\u001b[0m, in \u001b[0;36mcached_file\u001b[0;34m(path_or_repo_id, filename, cache_dir, force_download, resume_download, proxies, token, revision, local_files_only, subfolder, repo_type, user_agent, _raise_exceptions_for_gated_repo, _raise_exceptions_for_missing_entries, _raise_exceptions_for_connection_errors, _commit_hash, **deprecated_kwargs)\u001b[0m\n\u001b[1;32m    399\u001b[0m user_agent \u001b[38;5;241m=\u001b[39m http_user_agent(user_agent)\n\u001b[1;32m    400\u001b[0m \u001b[38;5;28;01mtry\u001b[39;00m:\n\u001b[1;32m    401\u001b[0m     \u001b[38;5;66;03m# Load from URL or cache if already cached\u001b[39;00m\n\u001b[0;32m--> 402\u001b[0m     resolved_file \u001b[38;5;241m=\u001b[39m \u001b[43mhf_hub_download\u001b[49m\u001b[43m(\u001b[49m\n\u001b[1;32m    403\u001b[0m \u001b[43m        \u001b[49m\u001b[43mpath_or_repo_id\u001b[49m\u001b[43m,\u001b[49m\n\u001b[1;32m    404\u001b[0m \u001b[43m        \u001b[49m\u001b[43mfilename\u001b[49m\u001b[43m,\u001b[49m\n\u001b[1;32m    405\u001b[0m \u001b[43m        \u001b[49m\u001b[43msubfolder\u001b[49m\u001b[38;5;241;43m=\u001b[39;49m\u001b[38;5;28;43;01mNone\u001b[39;49;00m\u001b[43m \u001b[49m\u001b[38;5;28;43;01mif\u001b[39;49;00m\u001b[43m \u001b[49m\u001b[38;5;28;43mlen\u001b[39;49m\u001b[43m(\u001b[49m\u001b[43msubfolder\u001b[49m\u001b[43m)\u001b[49m\u001b[43m \u001b[49m\u001b[38;5;241;43m==\u001b[39;49m\u001b[43m \u001b[49m\u001b[38;5;241;43m0\u001b[39;49m\u001b[43m \u001b[49m\u001b[38;5;28;43;01melse\u001b[39;49;00m\u001b[43m \u001b[49m\u001b[43msubfolder\u001b[49m\u001b[43m,\u001b[49m\n\u001b[1;32m    406\u001b[0m \u001b[43m        \u001b[49m\u001b[43mrepo_type\u001b[49m\u001b[38;5;241;43m=\u001b[39;49m\u001b[43mrepo_type\u001b[49m\u001b[43m,\u001b[49m\n\u001b[1;32m    407\u001b[0m \u001b[43m        \u001b[49m\u001b[43mrevision\u001b[49m\u001b[38;5;241;43m=\u001b[39;49m\u001b[43mrevision\u001b[49m\u001b[43m,\u001b[49m\n\u001b[1;32m    408\u001b[0m \u001b[43m        \u001b[49m\u001b[43mcache_dir\u001b[49m\u001b[38;5;241;43m=\u001b[39;49m\u001b[43mcache_dir\u001b[49m\u001b[43m,\u001b[49m\n\u001b[1;32m    409\u001b[0m \u001b[43m        \u001b[49m\u001b[43muser_agent\u001b[49m\u001b[38;5;241;43m=\u001b[39;49m\u001b[43muser_agent\u001b[49m\u001b[43m,\u001b[49m\n\u001b[1;32m    410\u001b[0m \u001b[43m        \u001b[49m\u001b[43mforce_download\u001b[49m\u001b[38;5;241;43m=\u001b[39;49m\u001b[43mforce_download\u001b[49m\u001b[43m,\u001b[49m\n\u001b[1;32m    411\u001b[0m \u001b[43m        \u001b[49m\u001b[43mproxies\u001b[49m\u001b[38;5;241;43m=\u001b[39;49m\u001b[43mproxies\u001b[49m\u001b[43m,\u001b[49m\n\u001b[1;32m    412\u001b[0m \u001b[43m        \u001b[49m\u001b[43mresume_download\u001b[49m\u001b[38;5;241;43m=\u001b[39;49m\u001b[43mresume_download\u001b[49m\u001b[43m,\u001b[49m\n\u001b[1;32m    413\u001b[0m \u001b[43m        \u001b[49m\u001b[43mtoken\u001b[49m\u001b[38;5;241;43m=\u001b[39;49m\u001b[43mtoken\u001b[49m\u001b[43m,\u001b[49m\n\u001b[1;32m    414\u001b[0m \u001b[43m        \u001b[49m\u001b[43mlocal_files_only\u001b[49m\u001b[38;5;241;43m=\u001b[39;49m\u001b[43mlocal_files_only\u001b[49m\u001b[43m,\u001b[49m\n\u001b[1;32m    415\u001b[0m \u001b[43m    \u001b[49m\u001b[43m)\u001b[49m\n\u001b[1;32m    416\u001b[0m \u001b[38;5;28;01mexcept\u001b[39;00m GatedRepoError \u001b[38;5;28;01mas\u001b[39;00m e:\n\u001b[1;32m    417\u001b[0m     resolved_file \u001b[38;5;241m=\u001b[39m _get_cache_file_to_return(path_or_repo_id, full_filename, cache_dir, revision)\n",
      "File \u001b[0;32m/opt/conda/envs/qa/lib/python3.9/site-packages/huggingface_hub/utils/_deprecation.py:101\u001b[0m, in \u001b[0;36m_deprecate_arguments.<locals>._inner_deprecate_positional_args.<locals>.inner_f\u001b[0;34m(*args, **kwargs)\u001b[0m\n\u001b[1;32m     99\u001b[0m         message \u001b[38;5;241m+\u001b[39m\u001b[38;5;241m=\u001b[39m \u001b[38;5;124m\"\u001b[39m\u001b[38;5;130;01m\\n\u001b[39;00m\u001b[38;5;130;01m\\n\u001b[39;00m\u001b[38;5;124m\"\u001b[39m \u001b[38;5;241m+\u001b[39m custom_message\n\u001b[1;32m    100\u001b[0m     warnings\u001b[38;5;241m.\u001b[39mwarn(message, \u001b[38;5;167;01mFutureWarning\u001b[39;00m)\n\u001b[0;32m--> 101\u001b[0m \u001b[38;5;28;01mreturn\u001b[39;00m \u001b[43mf\u001b[49m\u001b[43m(\u001b[49m\u001b[38;5;241;43m*\u001b[39;49m\u001b[43margs\u001b[49m\u001b[43m,\u001b[49m\u001b[43m \u001b[49m\u001b[38;5;241;43m*\u001b[39;49m\u001b[38;5;241;43m*\u001b[39;49m\u001b[43mkwargs\u001b[49m\u001b[43m)\u001b[49m\n",
      "File \u001b[0;32m/opt/conda/envs/qa/lib/python3.9/site-packages/huggingface_hub/utils/_validators.py:114\u001b[0m, in \u001b[0;36mvalidate_hf_hub_args.<locals>._inner_fn\u001b[0;34m(*args, **kwargs)\u001b[0m\n\u001b[1;32m    111\u001b[0m \u001b[38;5;28;01mif\u001b[39;00m check_use_auth_token:\n\u001b[1;32m    112\u001b[0m     kwargs \u001b[38;5;241m=\u001b[39m smoothly_deprecate_use_auth_token(fn_name\u001b[38;5;241m=\u001b[39mfn\u001b[38;5;241m.\u001b[39m\u001b[38;5;18m__name__\u001b[39m, has_token\u001b[38;5;241m=\u001b[39mhas_token, kwargs\u001b[38;5;241m=\u001b[39mkwargs)\n\u001b[0;32m--> 114\u001b[0m \u001b[38;5;28;01mreturn\u001b[39;00m \u001b[43mfn\u001b[49m\u001b[43m(\u001b[49m\u001b[38;5;241;43m*\u001b[39;49m\u001b[43margs\u001b[49m\u001b[43m,\u001b[49m\u001b[43m \u001b[49m\u001b[38;5;241;43m*\u001b[39;49m\u001b[38;5;241;43m*\u001b[39;49m\u001b[43mkwargs\u001b[49m\u001b[43m)\u001b[49m\n",
      "File \u001b[0;32m/opt/conda/envs/qa/lib/python3.9/site-packages/huggingface_hub/file_download.py:1240\u001b[0m, in \u001b[0;36mhf_hub_download\u001b[0;34m(repo_id, filename, subfolder, repo_type, revision, library_name, library_version, cache_dir, local_dir, user_agent, force_download, proxies, etag_timeout, token, local_files_only, headers, endpoint, legacy_cache_layout, resume_download, force_filename, local_dir_use_symlinks)\u001b[0m\n\u001b[1;32m   1220\u001b[0m     \u001b[38;5;28;01mreturn\u001b[39;00m _hf_hub_download_to_local_dir(\n\u001b[1;32m   1221\u001b[0m         \u001b[38;5;66;03m# Destination\u001b[39;00m\n\u001b[1;32m   1222\u001b[0m         local_dir\u001b[38;5;241m=\u001b[39mlocal_dir,\n\u001b[0;32m   (...)\u001b[0m\n\u001b[1;32m   1237\u001b[0m         local_files_only\u001b[38;5;241m=\u001b[39mlocal_files_only,\n\u001b[1;32m   1238\u001b[0m     )\n\u001b[1;32m   1239\u001b[0m \u001b[38;5;28;01melse\u001b[39;00m:\n\u001b[0;32m-> 1240\u001b[0m     \u001b[38;5;28;01mreturn\u001b[39;00m \u001b[43m_hf_hub_download_to_cache_dir\u001b[49m\u001b[43m(\u001b[49m\n\u001b[1;32m   1241\u001b[0m \u001b[43m        \u001b[49m\u001b[38;5;66;43;03m# Destination\u001b[39;49;00m\n\u001b[1;32m   1242\u001b[0m \u001b[43m        \u001b[49m\u001b[43mcache_dir\u001b[49m\u001b[38;5;241;43m=\u001b[39;49m\u001b[43mcache_dir\u001b[49m\u001b[43m,\u001b[49m\n\u001b[1;32m   1243\u001b[0m \u001b[43m        \u001b[49m\u001b[38;5;66;43;03m# File info\u001b[39;49;00m\n\u001b[1;32m   1244\u001b[0m \u001b[43m        \u001b[49m\u001b[43mrepo_id\u001b[49m\u001b[38;5;241;43m=\u001b[39;49m\u001b[43mrepo_id\u001b[49m\u001b[43m,\u001b[49m\n\u001b[1;32m   1245\u001b[0m \u001b[43m        \u001b[49m\u001b[43mfilename\u001b[49m\u001b[38;5;241;43m=\u001b[39;49m\u001b[43mfilename\u001b[49m\u001b[43m,\u001b[49m\n\u001b[1;32m   1246\u001b[0m \u001b[43m        \u001b[49m\u001b[43mrepo_type\u001b[49m\u001b[38;5;241;43m=\u001b[39;49m\u001b[43mrepo_type\u001b[49m\u001b[43m,\u001b[49m\n\u001b[1;32m   1247\u001b[0m \u001b[43m        \u001b[49m\u001b[43mrevision\u001b[49m\u001b[38;5;241;43m=\u001b[39;49m\u001b[43mrevision\u001b[49m\u001b[43m,\u001b[49m\n\u001b[1;32m   1248\u001b[0m \u001b[43m        \u001b[49m\u001b[38;5;66;43;03m# HTTP info\u001b[39;49;00m\n\u001b[1;32m   1249\u001b[0m \u001b[43m        \u001b[49m\u001b[43mendpoint\u001b[49m\u001b[38;5;241;43m=\u001b[39;49m\u001b[43mendpoint\u001b[49m\u001b[43m,\u001b[49m\n\u001b[1;32m   1250\u001b[0m \u001b[43m        \u001b[49m\u001b[43metag_timeout\u001b[49m\u001b[38;5;241;43m=\u001b[39;49m\u001b[43metag_timeout\u001b[49m\u001b[43m,\u001b[49m\n\u001b[1;32m   1251\u001b[0m \u001b[43m        \u001b[49m\u001b[43mheaders\u001b[49m\u001b[38;5;241;43m=\u001b[39;49m\u001b[43mheaders\u001b[49m\u001b[43m,\u001b[49m\n\u001b[1;32m   1252\u001b[0m \u001b[43m        \u001b[49m\u001b[43mproxies\u001b[49m\u001b[38;5;241;43m=\u001b[39;49m\u001b[43mproxies\u001b[49m\u001b[43m,\u001b[49m\n\u001b[1;32m   1253\u001b[0m \u001b[43m        \u001b[49m\u001b[43mtoken\u001b[49m\u001b[38;5;241;43m=\u001b[39;49m\u001b[43mtoken\u001b[49m\u001b[43m,\u001b[49m\n\u001b[1;32m   1254\u001b[0m \u001b[43m        \u001b[49m\u001b[38;5;66;43;03m# Additional options\u001b[39;49;00m\n\u001b[1;32m   1255\u001b[0m \u001b[43m        \u001b[49m\u001b[43mlocal_files_only\u001b[49m\u001b[38;5;241;43m=\u001b[39;49m\u001b[43mlocal_files_only\u001b[49m\u001b[43m,\u001b[49m\n\u001b[1;32m   1256\u001b[0m \u001b[43m        \u001b[49m\u001b[43mforce_download\u001b[49m\u001b[38;5;241;43m=\u001b[39;49m\u001b[43mforce_download\u001b[49m\u001b[43m,\u001b[49m\n\u001b[1;32m   1257\u001b[0m \u001b[43m    \u001b[49m\u001b[43m)\u001b[49m\n",
      "File \u001b[0;32m/opt/conda/envs/qa/lib/python3.9/site-packages/huggingface_hub/file_download.py:1389\u001b[0m, in \u001b[0;36m_hf_hub_download_to_cache_dir\u001b[0;34m(cache_dir, repo_id, filename, repo_type, revision, endpoint, etag_timeout, headers, proxies, token, local_files_only, force_download)\u001b[0m\n\u001b[1;32m   1387\u001b[0m Path(lock_path)\u001b[38;5;241m.\u001b[39mparent\u001b[38;5;241m.\u001b[39mmkdir(parents\u001b[38;5;241m=\u001b[39m\u001b[38;5;28;01mTrue\u001b[39;00m, exist_ok\u001b[38;5;241m=\u001b[39m\u001b[38;5;28;01mTrue\u001b[39;00m)\n\u001b[1;32m   1388\u001b[0m \u001b[38;5;28;01mwith\u001b[39;00m WeakFileLock(lock_path):\n\u001b[0;32m-> 1389\u001b[0m     \u001b[43m_download_to_tmp_and_move\u001b[49m\u001b[43m(\u001b[49m\n\u001b[1;32m   1390\u001b[0m \u001b[43m        \u001b[49m\u001b[43mincomplete_path\u001b[49m\u001b[38;5;241;43m=\u001b[39;49m\u001b[43mPath\u001b[49m\u001b[43m(\u001b[49m\u001b[43mblob_path\u001b[49m\u001b[43m \u001b[49m\u001b[38;5;241;43m+\u001b[39;49m\u001b[43m \u001b[49m\u001b[38;5;124;43m\"\u001b[39;49m\u001b[38;5;124;43m.incomplete\u001b[39;49m\u001b[38;5;124;43m\"\u001b[39;49m\u001b[43m)\u001b[49m\u001b[43m,\u001b[49m\n\u001b[1;32m   1391\u001b[0m \u001b[43m        \u001b[49m\u001b[43mdestination_path\u001b[49m\u001b[38;5;241;43m=\u001b[39;49m\u001b[43mPath\u001b[49m\u001b[43m(\u001b[49m\u001b[43mblob_path\u001b[49m\u001b[43m)\u001b[49m\u001b[43m,\u001b[49m\n\u001b[1;32m   1392\u001b[0m \u001b[43m        \u001b[49m\u001b[43murl_to_download\u001b[49m\u001b[38;5;241;43m=\u001b[39;49m\u001b[43murl_to_download\u001b[49m\u001b[43m,\u001b[49m\n\u001b[1;32m   1393\u001b[0m \u001b[43m        \u001b[49m\u001b[43mproxies\u001b[49m\u001b[38;5;241;43m=\u001b[39;49m\u001b[43mproxies\u001b[49m\u001b[43m,\u001b[49m\n\u001b[1;32m   1394\u001b[0m \u001b[43m        \u001b[49m\u001b[43mheaders\u001b[49m\u001b[38;5;241;43m=\u001b[39;49m\u001b[43mheaders\u001b[49m\u001b[43m,\u001b[49m\n\u001b[1;32m   1395\u001b[0m \u001b[43m        \u001b[49m\u001b[43mexpected_size\u001b[49m\u001b[38;5;241;43m=\u001b[39;49m\u001b[43mexpected_size\u001b[49m\u001b[43m,\u001b[49m\n\u001b[1;32m   1396\u001b[0m \u001b[43m        \u001b[49m\u001b[43mfilename\u001b[49m\u001b[38;5;241;43m=\u001b[39;49m\u001b[43mfilename\u001b[49m\u001b[43m,\u001b[49m\n\u001b[1;32m   1397\u001b[0m \u001b[43m        \u001b[49m\u001b[43mforce_download\u001b[49m\u001b[38;5;241;43m=\u001b[39;49m\u001b[43mforce_download\u001b[49m\u001b[43m,\u001b[49m\n\u001b[1;32m   1398\u001b[0m \u001b[43m    \u001b[49m\u001b[43m)\u001b[49m\n\u001b[1;32m   1399\u001b[0m     _create_symlink(blob_path, pointer_path, new_blob\u001b[38;5;241m=\u001b[39m\u001b[38;5;28;01mTrue\u001b[39;00m)\n\u001b[1;32m   1401\u001b[0m \u001b[38;5;28;01mreturn\u001b[39;00m pointer_path\n",
      "File \u001b[0;32m/opt/conda/envs/qa/lib/python3.9/site-packages/huggingface_hub/file_download.py:1915\u001b[0m, in \u001b[0;36m_download_to_tmp_and_move\u001b[0;34m(incomplete_path, destination_path, url_to_download, proxies, headers, expected_size, filename, force_download)\u001b[0m\n\u001b[1;32m   1912\u001b[0m         _check_disk_space(expected_size, incomplete_path\u001b[38;5;241m.\u001b[39mparent)\n\u001b[1;32m   1913\u001b[0m         _check_disk_space(expected_size, destination_path\u001b[38;5;241m.\u001b[39mparent)\n\u001b[0;32m-> 1915\u001b[0m     \u001b[43mhttp_get\u001b[49m\u001b[43m(\u001b[49m\n\u001b[1;32m   1916\u001b[0m \u001b[43m        \u001b[49m\u001b[43murl_to_download\u001b[49m\u001b[43m,\u001b[49m\n\u001b[1;32m   1917\u001b[0m \u001b[43m        \u001b[49m\u001b[43mf\u001b[49m\u001b[43m,\u001b[49m\n\u001b[1;32m   1918\u001b[0m \u001b[43m        \u001b[49m\u001b[43mproxies\u001b[49m\u001b[38;5;241;43m=\u001b[39;49m\u001b[43mproxies\u001b[49m\u001b[43m,\u001b[49m\n\u001b[1;32m   1919\u001b[0m \u001b[43m        \u001b[49m\u001b[43mresume_size\u001b[49m\u001b[38;5;241;43m=\u001b[39;49m\u001b[43mresume_size\u001b[49m\u001b[43m,\u001b[49m\n\u001b[1;32m   1920\u001b[0m \u001b[43m        \u001b[49m\u001b[43mheaders\u001b[49m\u001b[38;5;241;43m=\u001b[39;49m\u001b[43mheaders\u001b[49m\u001b[43m,\u001b[49m\n\u001b[1;32m   1921\u001b[0m \u001b[43m        \u001b[49m\u001b[43mexpected_size\u001b[49m\u001b[38;5;241;43m=\u001b[39;49m\u001b[43mexpected_size\u001b[49m\u001b[43m,\u001b[49m\n\u001b[1;32m   1922\u001b[0m \u001b[43m    \u001b[49m\u001b[43m)\u001b[49m\n\u001b[1;32m   1924\u001b[0m logger\u001b[38;5;241m.\u001b[39minfo(\u001b[38;5;124mf\u001b[39m\u001b[38;5;124m\"\u001b[39m\u001b[38;5;124mDownload complete. Moving file to \u001b[39m\u001b[38;5;132;01m{\u001b[39;00mdestination_path\u001b[38;5;132;01m}\u001b[39;00m\u001b[38;5;124m\"\u001b[39m)\n\u001b[1;32m   1925\u001b[0m _chmod_and_move(incomplete_path, destination_path)\n",
      "File \u001b[0;32m/opt/conda/envs/qa/lib/python3.9/site-packages/huggingface_hub/file_download.py:549\u001b[0m, in \u001b[0;36mhttp_get\u001b[0;34m(url, temp_file, proxies, resume_size, headers, expected_size, displayed_filename, _nb_retries, _tqdm_bar)\u001b[0m\n\u001b[1;32m    547\u001b[0m new_resume_size \u001b[38;5;241m=\u001b[39m resume_size\n\u001b[1;32m    548\u001b[0m \u001b[38;5;28;01mtry\u001b[39;00m:\n\u001b[0;32m--> 549\u001b[0m     \u001b[38;5;28;01mfor\u001b[39;00m chunk \u001b[38;5;129;01min\u001b[39;00m r\u001b[38;5;241m.\u001b[39miter_content(chunk_size\u001b[38;5;241m=\u001b[39mDOWNLOAD_CHUNK_SIZE):\n\u001b[1;32m    550\u001b[0m         \u001b[38;5;28;01mif\u001b[39;00m chunk:  \u001b[38;5;66;03m# filter out keep-alive new chunks\u001b[39;00m\n\u001b[1;32m    551\u001b[0m             progress\u001b[38;5;241m.\u001b[39mupdate(\u001b[38;5;28mlen\u001b[39m(chunk))\n",
      "File \u001b[0;32m/opt/conda/envs/qa/lib/python3.9/site-packages/requests/models.py:820\u001b[0m, in \u001b[0;36mResponse.iter_content.<locals>.generate\u001b[0;34m()\u001b[0m\n\u001b[1;32m    818\u001b[0m \u001b[38;5;28;01mif\u001b[39;00m \u001b[38;5;28mhasattr\u001b[39m(\u001b[38;5;28mself\u001b[39m\u001b[38;5;241m.\u001b[39mraw, \u001b[38;5;124m\"\u001b[39m\u001b[38;5;124mstream\u001b[39m\u001b[38;5;124m\"\u001b[39m):\n\u001b[1;32m    819\u001b[0m     \u001b[38;5;28;01mtry\u001b[39;00m:\n\u001b[0;32m--> 820\u001b[0m         \u001b[38;5;28;01myield from\u001b[39;00m \u001b[38;5;28mself\u001b[39m\u001b[38;5;241m.\u001b[39mraw\u001b[38;5;241m.\u001b[39mstream(chunk_size, decode_content\u001b[38;5;241m=\u001b[39m\u001b[38;5;28;01mTrue\u001b[39;00m)\n\u001b[1;32m    821\u001b[0m     \u001b[38;5;28;01mexcept\u001b[39;00m ProtocolError \u001b[38;5;28;01mas\u001b[39;00m e:\n\u001b[1;32m    822\u001b[0m         \u001b[38;5;28;01mraise\u001b[39;00m ChunkedEncodingError(e)\n",
      "File \u001b[0;32m/opt/conda/envs/qa/lib/python3.9/site-packages/urllib3/response.py:1060\u001b[0m, in \u001b[0;36mHTTPResponse.stream\u001b[0;34m(self, amt, decode_content)\u001b[0m\n\u001b[1;32m   1058\u001b[0m \u001b[38;5;28;01melse\u001b[39;00m:\n\u001b[1;32m   1059\u001b[0m     \u001b[38;5;28;01mwhile\u001b[39;00m \u001b[38;5;129;01mnot\u001b[39;00m is_fp_closed(\u001b[38;5;28mself\u001b[39m\u001b[38;5;241m.\u001b[39m_fp) \u001b[38;5;129;01mor\u001b[39;00m \u001b[38;5;28mlen\u001b[39m(\u001b[38;5;28mself\u001b[39m\u001b[38;5;241m.\u001b[39m_decoded_buffer) \u001b[38;5;241m>\u001b[39m \u001b[38;5;241m0\u001b[39m:\n\u001b[0;32m-> 1060\u001b[0m         data \u001b[38;5;241m=\u001b[39m \u001b[38;5;28;43mself\u001b[39;49m\u001b[38;5;241;43m.\u001b[39;49m\u001b[43mread\u001b[49m\u001b[43m(\u001b[49m\u001b[43mamt\u001b[49m\u001b[38;5;241;43m=\u001b[39;49m\u001b[43mamt\u001b[49m\u001b[43m,\u001b[49m\u001b[43m \u001b[49m\u001b[43mdecode_content\u001b[49m\u001b[38;5;241;43m=\u001b[39;49m\u001b[43mdecode_content\u001b[49m\u001b[43m)\u001b[49m\n\u001b[1;32m   1062\u001b[0m         \u001b[38;5;28;01mif\u001b[39;00m data:\n\u001b[1;32m   1063\u001b[0m             \u001b[38;5;28;01myield\u001b[39;00m data\n",
      "File \u001b[0;32m/opt/conda/envs/qa/lib/python3.9/site-packages/urllib3/response.py:949\u001b[0m, in \u001b[0;36mHTTPResponse.read\u001b[0;34m(self, amt, decode_content, cache_content)\u001b[0m\n\u001b[1;32m    946\u001b[0m     \u001b[38;5;28;01mif\u001b[39;00m \u001b[38;5;28mlen\u001b[39m(\u001b[38;5;28mself\u001b[39m\u001b[38;5;241m.\u001b[39m_decoded_buffer) \u001b[38;5;241m>\u001b[39m\u001b[38;5;241m=\u001b[39m amt:\n\u001b[1;32m    947\u001b[0m         \u001b[38;5;28;01mreturn\u001b[39;00m \u001b[38;5;28mself\u001b[39m\u001b[38;5;241m.\u001b[39m_decoded_buffer\u001b[38;5;241m.\u001b[39mget(amt)\n\u001b[0;32m--> 949\u001b[0m data \u001b[38;5;241m=\u001b[39m \u001b[38;5;28;43mself\u001b[39;49m\u001b[38;5;241;43m.\u001b[39;49m\u001b[43m_raw_read\u001b[49m\u001b[43m(\u001b[49m\u001b[43mamt\u001b[49m\u001b[43m)\u001b[49m\n\u001b[1;32m    951\u001b[0m flush_decoder \u001b[38;5;241m=\u001b[39m amt \u001b[38;5;129;01mis\u001b[39;00m \u001b[38;5;28;01mNone\u001b[39;00m \u001b[38;5;129;01mor\u001b[39;00m (amt \u001b[38;5;241m!=\u001b[39m \u001b[38;5;241m0\u001b[39m \u001b[38;5;129;01mand\u001b[39;00m \u001b[38;5;129;01mnot\u001b[39;00m data)\n\u001b[1;32m    953\u001b[0m \u001b[38;5;28;01mif\u001b[39;00m \u001b[38;5;129;01mnot\u001b[39;00m data \u001b[38;5;129;01mand\u001b[39;00m \u001b[38;5;28mlen\u001b[39m(\u001b[38;5;28mself\u001b[39m\u001b[38;5;241m.\u001b[39m_decoded_buffer) \u001b[38;5;241m==\u001b[39m \u001b[38;5;241m0\u001b[39m:\n",
      "File \u001b[0;32m/opt/conda/envs/qa/lib/python3.9/site-packages/urllib3/response.py:873\u001b[0m, in \u001b[0;36mHTTPResponse._raw_read\u001b[0;34m(self, amt, read1)\u001b[0m\n\u001b[1;32m    870\u001b[0m fp_closed \u001b[38;5;241m=\u001b[39m \u001b[38;5;28mgetattr\u001b[39m(\u001b[38;5;28mself\u001b[39m\u001b[38;5;241m.\u001b[39m_fp, \u001b[38;5;124m\"\u001b[39m\u001b[38;5;124mclosed\u001b[39m\u001b[38;5;124m\"\u001b[39m, \u001b[38;5;28;01mFalse\u001b[39;00m)\n\u001b[1;32m    872\u001b[0m \u001b[38;5;28;01mwith\u001b[39;00m \u001b[38;5;28mself\u001b[39m\u001b[38;5;241m.\u001b[39m_error_catcher():\n\u001b[0;32m--> 873\u001b[0m     data \u001b[38;5;241m=\u001b[39m \u001b[38;5;28;43mself\u001b[39;49m\u001b[38;5;241;43m.\u001b[39;49m\u001b[43m_fp_read\u001b[49m\u001b[43m(\u001b[49m\u001b[43mamt\u001b[49m\u001b[43m,\u001b[49m\u001b[43m \u001b[49m\u001b[43mread1\u001b[49m\u001b[38;5;241;43m=\u001b[39;49m\u001b[43mread1\u001b[49m\u001b[43m)\u001b[49m \u001b[38;5;28;01mif\u001b[39;00m \u001b[38;5;129;01mnot\u001b[39;00m fp_closed \u001b[38;5;28;01melse\u001b[39;00m \u001b[38;5;124mb\u001b[39m\u001b[38;5;124m\"\u001b[39m\u001b[38;5;124m\"\u001b[39m\n\u001b[1;32m    874\u001b[0m     \u001b[38;5;28;01mif\u001b[39;00m amt \u001b[38;5;129;01mis\u001b[39;00m \u001b[38;5;129;01mnot\u001b[39;00m \u001b[38;5;28;01mNone\u001b[39;00m \u001b[38;5;129;01mand\u001b[39;00m amt \u001b[38;5;241m!=\u001b[39m \u001b[38;5;241m0\u001b[39m \u001b[38;5;129;01mand\u001b[39;00m \u001b[38;5;129;01mnot\u001b[39;00m data:\n\u001b[1;32m    875\u001b[0m         \u001b[38;5;66;03m# Platform-specific: Buggy versions of Python.\u001b[39;00m\n\u001b[1;32m    876\u001b[0m         \u001b[38;5;66;03m# Close the connection when no data is returned\u001b[39;00m\n\u001b[0;32m   (...)\u001b[0m\n\u001b[1;32m    881\u001b[0m         \u001b[38;5;66;03m# not properly close the connection in all cases. There is\u001b[39;00m\n\u001b[1;32m    882\u001b[0m         \u001b[38;5;66;03m# no harm in redundantly calling close.\u001b[39;00m\n\u001b[1;32m    883\u001b[0m         \u001b[38;5;28mself\u001b[39m\u001b[38;5;241m.\u001b[39m_fp\u001b[38;5;241m.\u001b[39mclose()\n",
      "File \u001b[0;32m/opt/conda/envs/qa/lib/python3.9/site-packages/urllib3/response.py:856\u001b[0m, in \u001b[0;36mHTTPResponse._fp_read\u001b[0;34m(self, amt, read1)\u001b[0m\n\u001b[1;32m    853\u001b[0m     \u001b[38;5;28;01mreturn\u001b[39;00m \u001b[38;5;28mself\u001b[39m\u001b[38;5;241m.\u001b[39m_fp\u001b[38;5;241m.\u001b[39mread1(amt) \u001b[38;5;28;01mif\u001b[39;00m amt \u001b[38;5;129;01mis\u001b[39;00m \u001b[38;5;129;01mnot\u001b[39;00m \u001b[38;5;28;01mNone\u001b[39;00m \u001b[38;5;28;01melse\u001b[39;00m \u001b[38;5;28mself\u001b[39m\u001b[38;5;241m.\u001b[39m_fp\u001b[38;5;241m.\u001b[39mread1()\n\u001b[1;32m    854\u001b[0m \u001b[38;5;28;01melse\u001b[39;00m:\n\u001b[1;32m    855\u001b[0m     \u001b[38;5;66;03m# StringIO doesn't like amt=None\u001b[39;00m\n\u001b[0;32m--> 856\u001b[0m     \u001b[38;5;28;01mreturn\u001b[39;00m \u001b[38;5;28;43mself\u001b[39;49m\u001b[38;5;241;43m.\u001b[39;49m\u001b[43m_fp\u001b[49m\u001b[38;5;241;43m.\u001b[39;49m\u001b[43mread\u001b[49m\u001b[43m(\u001b[49m\u001b[43mamt\u001b[49m\u001b[43m)\u001b[49m \u001b[38;5;28;01mif\u001b[39;00m amt \u001b[38;5;129;01mis\u001b[39;00m \u001b[38;5;129;01mnot\u001b[39;00m \u001b[38;5;28;01mNone\u001b[39;00m \u001b[38;5;28;01melse\u001b[39;00m \u001b[38;5;28mself\u001b[39m\u001b[38;5;241m.\u001b[39m_fp\u001b[38;5;241m.\u001b[39mread()\n",
      "File \u001b[0;32m/opt/conda/envs/qa/lib/python3.9/http/client.py:463\u001b[0m, in \u001b[0;36mHTTPResponse.read\u001b[0;34m(self, amt)\u001b[0m\n\u001b[1;32m    460\u001b[0m \u001b[38;5;28;01mif\u001b[39;00m amt \u001b[38;5;129;01mis\u001b[39;00m \u001b[38;5;129;01mnot\u001b[39;00m \u001b[38;5;28;01mNone\u001b[39;00m:\n\u001b[1;32m    461\u001b[0m     \u001b[38;5;66;03m# Amount is given, implement using readinto\u001b[39;00m\n\u001b[1;32m    462\u001b[0m     b \u001b[38;5;241m=\u001b[39m \u001b[38;5;28mbytearray\u001b[39m(amt)\n\u001b[0;32m--> 463\u001b[0m     n \u001b[38;5;241m=\u001b[39m \u001b[38;5;28;43mself\u001b[39;49m\u001b[38;5;241;43m.\u001b[39;49m\u001b[43mreadinto\u001b[49m\u001b[43m(\u001b[49m\u001b[43mb\u001b[49m\u001b[43m)\u001b[49m\n\u001b[1;32m    464\u001b[0m     \u001b[38;5;28;01mreturn\u001b[39;00m \u001b[38;5;28mmemoryview\u001b[39m(b)[:n]\u001b[38;5;241m.\u001b[39mtobytes()\n\u001b[1;32m    465\u001b[0m \u001b[38;5;28;01melse\u001b[39;00m:\n\u001b[1;32m    466\u001b[0m     \u001b[38;5;66;03m# Amount is not given (unbounded read) so we must check self.length\u001b[39;00m\n\u001b[1;32m    467\u001b[0m     \u001b[38;5;66;03m# and self.chunked\u001b[39;00m\n",
      "File \u001b[0;32m/opt/conda/envs/qa/lib/python3.9/http/client.py:507\u001b[0m, in \u001b[0;36mHTTPResponse.readinto\u001b[0;34m(self, b)\u001b[0m\n\u001b[1;32m    502\u001b[0m         b \u001b[38;5;241m=\u001b[39m \u001b[38;5;28mmemoryview\u001b[39m(b)[\u001b[38;5;241m0\u001b[39m:\u001b[38;5;28mself\u001b[39m\u001b[38;5;241m.\u001b[39mlength]\n\u001b[1;32m    504\u001b[0m \u001b[38;5;66;03m# we do not use _safe_read() here because this may be a .will_close\u001b[39;00m\n\u001b[1;32m    505\u001b[0m \u001b[38;5;66;03m# connection, and the user is reading more bytes than will be provided\u001b[39;00m\n\u001b[1;32m    506\u001b[0m \u001b[38;5;66;03m# (for example, reading in 1k chunks)\u001b[39;00m\n\u001b[0;32m--> 507\u001b[0m n \u001b[38;5;241m=\u001b[39m \u001b[38;5;28;43mself\u001b[39;49m\u001b[38;5;241;43m.\u001b[39;49m\u001b[43mfp\u001b[49m\u001b[38;5;241;43m.\u001b[39;49m\u001b[43mreadinto\u001b[49m\u001b[43m(\u001b[49m\u001b[43mb\u001b[49m\u001b[43m)\u001b[49m\n\u001b[1;32m    508\u001b[0m \u001b[38;5;28;01mif\u001b[39;00m \u001b[38;5;129;01mnot\u001b[39;00m n \u001b[38;5;129;01mand\u001b[39;00m b:\n\u001b[1;32m    509\u001b[0m     \u001b[38;5;66;03m# Ideally, we would raise IncompleteRead if the content-length\u001b[39;00m\n\u001b[1;32m    510\u001b[0m     \u001b[38;5;66;03m# wasn't satisfied, but it might break compatibility.\u001b[39;00m\n\u001b[1;32m    511\u001b[0m     \u001b[38;5;28mself\u001b[39m\u001b[38;5;241m.\u001b[39m_close_conn()\n",
      "File \u001b[0;32m/opt/conda/envs/qa/lib/python3.9/socket.py:704\u001b[0m, in \u001b[0;36mSocketIO.readinto\u001b[0;34m(self, b)\u001b[0m\n\u001b[1;32m    702\u001b[0m \u001b[38;5;28;01mwhile\u001b[39;00m \u001b[38;5;28;01mTrue\u001b[39;00m:\n\u001b[1;32m    703\u001b[0m     \u001b[38;5;28;01mtry\u001b[39;00m:\n\u001b[0;32m--> 704\u001b[0m         \u001b[38;5;28;01mreturn\u001b[39;00m \u001b[38;5;28;43mself\u001b[39;49m\u001b[38;5;241;43m.\u001b[39;49m\u001b[43m_sock\u001b[49m\u001b[38;5;241;43m.\u001b[39;49m\u001b[43mrecv_into\u001b[49m\u001b[43m(\u001b[49m\u001b[43mb\u001b[49m\u001b[43m)\u001b[49m\n\u001b[1;32m    705\u001b[0m     \u001b[38;5;28;01mexcept\u001b[39;00m timeout:\n\u001b[1;32m    706\u001b[0m         \u001b[38;5;28mself\u001b[39m\u001b[38;5;241m.\u001b[39m_timeout_occurred \u001b[38;5;241m=\u001b[39m \u001b[38;5;28;01mTrue\u001b[39;00m\n",
      "File \u001b[0;32m/opt/conda/envs/qa/lib/python3.9/ssl.py:1275\u001b[0m, in \u001b[0;36mSSLSocket.recv_into\u001b[0;34m(self, buffer, nbytes, flags)\u001b[0m\n\u001b[1;32m   1271\u001b[0m     \u001b[38;5;28;01mif\u001b[39;00m flags \u001b[38;5;241m!=\u001b[39m \u001b[38;5;241m0\u001b[39m:\n\u001b[1;32m   1272\u001b[0m         \u001b[38;5;28;01mraise\u001b[39;00m \u001b[38;5;167;01mValueError\u001b[39;00m(\n\u001b[1;32m   1273\u001b[0m           \u001b[38;5;124m\"\u001b[39m\u001b[38;5;124mnon-zero flags not allowed in calls to recv_into() on \u001b[39m\u001b[38;5;132;01m%s\u001b[39;00m\u001b[38;5;124m\"\u001b[39m \u001b[38;5;241m%\u001b[39m\n\u001b[1;32m   1274\u001b[0m           \u001b[38;5;28mself\u001b[39m\u001b[38;5;241m.\u001b[39m\u001b[38;5;18m__class__\u001b[39m)\n\u001b[0;32m-> 1275\u001b[0m     \u001b[38;5;28;01mreturn\u001b[39;00m \u001b[38;5;28;43mself\u001b[39;49m\u001b[38;5;241;43m.\u001b[39;49m\u001b[43mread\u001b[49m\u001b[43m(\u001b[49m\u001b[43mnbytes\u001b[49m\u001b[43m,\u001b[49m\u001b[43m \u001b[49m\u001b[43mbuffer\u001b[49m\u001b[43m)\u001b[49m\n\u001b[1;32m   1276\u001b[0m \u001b[38;5;28;01melse\u001b[39;00m:\n\u001b[1;32m   1277\u001b[0m     \u001b[38;5;28;01mreturn\u001b[39;00m \u001b[38;5;28msuper\u001b[39m()\u001b[38;5;241m.\u001b[39mrecv_into(buffer, nbytes, flags)\n",
      "File \u001b[0;32m/opt/conda/envs/qa/lib/python3.9/ssl.py:1133\u001b[0m, in \u001b[0;36mSSLSocket.read\u001b[0;34m(self, len, buffer)\u001b[0m\n\u001b[1;32m   1131\u001b[0m \u001b[38;5;28;01mtry\u001b[39;00m:\n\u001b[1;32m   1132\u001b[0m     \u001b[38;5;28;01mif\u001b[39;00m buffer \u001b[38;5;129;01mis\u001b[39;00m \u001b[38;5;129;01mnot\u001b[39;00m \u001b[38;5;28;01mNone\u001b[39;00m:\n\u001b[0;32m-> 1133\u001b[0m         \u001b[38;5;28;01mreturn\u001b[39;00m \u001b[38;5;28;43mself\u001b[39;49m\u001b[38;5;241;43m.\u001b[39;49m\u001b[43m_sslobj\u001b[49m\u001b[38;5;241;43m.\u001b[39;49m\u001b[43mread\u001b[49m\u001b[43m(\u001b[49m\u001b[38;5;28;43mlen\u001b[39;49m\u001b[43m,\u001b[49m\u001b[43m \u001b[49m\u001b[43mbuffer\u001b[49m\u001b[43m)\u001b[49m\n\u001b[1;32m   1134\u001b[0m     \u001b[38;5;28;01melse\u001b[39;00m:\n\u001b[1;32m   1135\u001b[0m         \u001b[38;5;28;01mreturn\u001b[39;00m \u001b[38;5;28mself\u001b[39m\u001b[38;5;241m.\u001b[39m_sslobj\u001b[38;5;241m.\u001b[39mread(\u001b[38;5;28mlen\u001b[39m)\n",
      "\u001b[0;31mKeyboardInterrupt\u001b[0m: "
     ]
    }
   ],
   "source": [
    "quantization_config = BitsAndBytesConfig(\n",
    "    load_in_4bit=True,\n",
    "    bnb_4bit_use_double_quant=True,\n",
    "    bnb_4bit_quant_type=\"nf4\",\n",
    "    bnb_4bit_compute_dtype=torch.float16,\n",
    ")\n",
    "print(\"start\")\n",
    "model = AutoModelForQuestionAnswering.from_pretrained(\n",
    "        repo,\n",
    "        device_map=\"cuda:0\",\n",
    "        torch_dtype=torch.float32,\n",
    "        quantization_config=quantization_config,\n",
    ")\n",
    "print(\"end\")\n",
    "model.resize_token_embeddings(len(tokenizer))\n",
    "\n",
    "lora_config = LoraConfig(\n",
    "    r=16,\n",
    "    lora_alpha=32,\n",
    "    lora_dropout=0.05,\n",
    "    bias=\"none\",\n",
    "    target_modules=[\"query\", \"key\", \"value\"],\n",
    "    task_type=\"QUESTION_ANSWERING\"\n",
    ")\n",
    "\n",
    "model = prepare_model_for_kbit_training(model)\n",
    "model = get_peft_model(model, lora_config)\n",
    "\n",
    "accelerater = Accelerator()\n",
    "model, tokenizer = accelerater.prepare(model, tokenizer)"
   ]
  },
  {
   "cell_type": "markdown",
   "id": "943aad63-fa25-4ec8-8646-bf148ab3a325",
   "metadata": {},
   "source": [
    "# Loss 정의"
   ]
  },
  {
   "cell_type": "markdown",
   "id": "3780df28-a853-4174-952d-a985d5a19db6",
   "metadata": {},
   "source": [
    "# 학습"
   ]
  },
  {
   "cell_type": "code",
   "execution_count": null,
   "id": "3865bb26-e95e-436d-962c-761e35e8603e",
   "metadata": {},
   "outputs": [],
   "source": [
    "import wandb\n",
    "wandb.login()\n",
    "\n",
    "torch.cuda.empty_cache()\n",
    "training_args = TrainingArguments(\n",
    "    output_dir=\"RoBERTa_v2\",\n",
    "    evaluation_strategy=\"no\",\n",
    "    num_train_epochs=4,\n",
    "    save_steps=0.1,\n",
    "    per_device_train_batch_size=16,\n",
    "    gradient_accumulation_steps=1,\n",
    "    max_grad_norm=1.0,\n",
    "    warmup_steps=500,\n",
    "    weight_decay=0.01,\n",
    "    logging_dir=\"./logs\",\n",
    "    logging_steps=10\n",
    ")\n",
    "\n",
    "# Trainer 설정\n",
    "trainer = Trainer(\n",
    "    model=model,\n",
    "    args=training_args,\n",
    "    train_dataset=train_dataset,\n",
    "    tokenizer=tokenizer,\n",
    "    data_collator=DataCollatorWithPadding(tokenizer=tokenizer)\n",
    ")"
   ]
  },
  {
   "cell_type": "code",
   "execution_count": 5,
   "id": "7b19f877-1c71-4268-a9d9-25cae531b5ef",
   "metadata": {
    "scrolled": true
   },
   "outputs": [
    {
     "name": "stderr",
     "output_type": "stream",
     "text": [
      "\u001b[34m\u001b[1mwandb\u001b[0m: \u001b[33mWARNING\u001b[0m The `run_name` is currently set to the same value as `TrainingArguments.output_dir`. If this was not intended, please specify a different run name by setting the `TrainingArguments.run_name` parameter.\n"
     ]
    },
    {
     "data": {
      "text/html": [
       "Tracking run with wandb version 0.17.5"
      ],
      "text/plain": [
       "<IPython.core.display.HTML object>"
      ]
     },
     "metadata": {},
     "output_type": "display_data"
    },
    {
     "data": {
      "text/html": [
       "Run data is saved locally in <code>/home/jovyan/work/ai_chat_qa_task/code/test/wandb/run-20240807_010536-89nvicli</code>"
      ],
      "text/plain": [
       "<IPython.core.display.HTML object>"
      ]
     },
     "metadata": {},
     "output_type": "display_data"
    },
    {
     "data": {
      "text/html": [
       "Syncing run <strong><a href='https://wandb.ai/uijinkim/huggingface/runs/89nvicli' target=\"_blank\">test</a></strong> to <a href='https://wandb.ai/uijinkim/huggingface' target=\"_blank\">Weights & Biases</a> (<a href='https://wandb.me/run' target=\"_blank\">docs</a>)<br/>"
      ],
      "text/plain": [
       "<IPython.core.display.HTML object>"
      ]
     },
     "metadata": {},
     "output_type": "display_data"
    },
    {
     "data": {
      "text/html": [
       " View project at <a href='https://wandb.ai/uijinkim/huggingface' target=\"_blank\">https://wandb.ai/uijinkim/huggingface</a>"
      ],
      "text/plain": [
       "<IPython.core.display.HTML object>"
      ]
     },
     "metadata": {},
     "output_type": "display_data"
    },
    {
     "data": {
      "text/html": [
       " View run at <a href='https://wandb.ai/uijinkim/huggingface/runs/89nvicli' target=\"_blank\">https://wandb.ai/uijinkim/huggingface/runs/89nvicli</a>"
      ],
      "text/plain": [
       "<IPython.core.display.HTML object>"
      ]
     },
     "metadata": {},
     "output_type": "display_data"
    },
    {
     "name": "stderr",
     "output_type": "stream",
     "text": [
      "/opt/conda/envs/qa/lib/python3.9/site-packages/torch/utils/checkpoint.py:464: UserWarning: torch.utils.checkpoint: the use_reentrant parameter should be passed explicitly. In version 2.4 we will raise an exception if use_reentrant is not passed. use_reentrant=False is recommended, but if you need to preserve the current default behavior, you can pass use_reentrant=True. Refer to docs for more details on the differences between the two variants.\n",
      "  warnings.warn(\n"
     ]
    },
    {
     "data": {
      "text/html": [
       "\n",
       "    <div>\n",
       "      \n",
       "      <progress value='55' max='47943' style='width:300px; height:20px; vertical-align: middle;'></progress>\n",
       "      [   55/47943 00:17 < 4:17:38, 3.10 it/s, Epoch 0.00/1]\n",
       "    </div>\n",
       "    <table border=\"1\" class=\"dataframe\">\n",
       "  <thead>\n",
       " <tr style=\"text-align: left;\">\n",
       "      <th>Step</th>\n",
       "      <th>Training Loss</th>\n",
       "    </tr>\n",
       "  </thead>\n",
       "  <tbody>\n",
       "    <tr>\n",
       "      <td>10</td>\n",
       "      <td>2.642200</td>\n",
       "    </tr>\n",
       "    <tr>\n",
       "      <td>20</td>\n",
       "      <td>2.753300</td>\n",
       "    </tr>\n",
       "    <tr>\n",
       "      <td>30</td>\n",
       "      <td>1.907300</td>\n",
       "    </tr>\n",
       "    <tr>\n",
       "      <td>40</td>\n",
       "      <td>2.137500</td>\n",
       "    </tr>\n",
       "    <tr>\n",
       "      <td>50</td>\n",
       "      <td>1.002200</td>\n",
       "    </tr>\n",
       "  </tbody>\n",
       "</table><p>"
      ],
      "text/plain": [
       "<IPython.core.display.HTML object>"
      ]
     },
     "metadata": {},
     "output_type": "display_data"
    },
    {
     "ename": "KeyboardInterrupt",
     "evalue": "",
     "output_type": "error",
     "traceback": [
      "\u001b[0;31m---------------------------------------------------------------------------\u001b[0m",
      "\u001b[0;31mKeyboardInterrupt\u001b[0m                         Traceback (most recent call last)",
      "Cell \u001b[0;32mIn[5], line 1\u001b[0m\n\u001b[0;32m----> 1\u001b[0m \u001b[43mtrainer\u001b[49m\u001b[38;5;241;43m.\u001b[39;49m\u001b[43mtrain\u001b[49m\u001b[43m(\u001b[49m\u001b[43m)\u001b[49m\n",
      "File \u001b[0;32m/opt/conda/envs/qa/lib/python3.9/site-packages/transformers/trainer.py:1938\u001b[0m, in \u001b[0;36mTrainer.train\u001b[0;34m(self, resume_from_checkpoint, trial, ignore_keys_for_eval, **kwargs)\u001b[0m\n\u001b[1;32m   1936\u001b[0m         hf_hub_utils\u001b[38;5;241m.\u001b[39menable_progress_bars()\n\u001b[1;32m   1937\u001b[0m \u001b[38;5;28;01melse\u001b[39;00m:\n\u001b[0;32m-> 1938\u001b[0m     \u001b[38;5;28;01mreturn\u001b[39;00m \u001b[43minner_training_loop\u001b[49m\u001b[43m(\u001b[49m\n\u001b[1;32m   1939\u001b[0m \u001b[43m        \u001b[49m\u001b[43margs\u001b[49m\u001b[38;5;241;43m=\u001b[39;49m\u001b[43margs\u001b[49m\u001b[43m,\u001b[49m\n\u001b[1;32m   1940\u001b[0m \u001b[43m        \u001b[49m\u001b[43mresume_from_checkpoint\u001b[49m\u001b[38;5;241;43m=\u001b[39;49m\u001b[43mresume_from_checkpoint\u001b[49m\u001b[43m,\u001b[49m\n\u001b[1;32m   1941\u001b[0m \u001b[43m        \u001b[49m\u001b[43mtrial\u001b[49m\u001b[38;5;241;43m=\u001b[39;49m\u001b[43mtrial\u001b[49m\u001b[43m,\u001b[49m\n\u001b[1;32m   1942\u001b[0m \u001b[43m        \u001b[49m\u001b[43mignore_keys_for_eval\u001b[49m\u001b[38;5;241;43m=\u001b[39;49m\u001b[43mignore_keys_for_eval\u001b[49m\u001b[43m,\u001b[49m\n\u001b[1;32m   1943\u001b[0m \u001b[43m    \u001b[49m\u001b[43m)\u001b[49m\n",
      "File \u001b[0;32m/opt/conda/envs/qa/lib/python3.9/site-packages/transformers/trainer.py:2279\u001b[0m, in \u001b[0;36mTrainer._inner_training_loop\u001b[0;34m(self, batch_size, args, resume_from_checkpoint, trial, ignore_keys_for_eval)\u001b[0m\n\u001b[1;32m   2276\u001b[0m     \u001b[38;5;28mself\u001b[39m\u001b[38;5;241m.\u001b[39mcontrol \u001b[38;5;241m=\u001b[39m \u001b[38;5;28mself\u001b[39m\u001b[38;5;241m.\u001b[39mcallback_handler\u001b[38;5;241m.\u001b[39mon_step_begin(args, \u001b[38;5;28mself\u001b[39m\u001b[38;5;241m.\u001b[39mstate, \u001b[38;5;28mself\u001b[39m\u001b[38;5;241m.\u001b[39mcontrol)\n\u001b[1;32m   2278\u001b[0m \u001b[38;5;28;01mwith\u001b[39;00m \u001b[38;5;28mself\u001b[39m\u001b[38;5;241m.\u001b[39maccelerator\u001b[38;5;241m.\u001b[39maccumulate(model):\n\u001b[0;32m-> 2279\u001b[0m     tr_loss_step \u001b[38;5;241m=\u001b[39m \u001b[38;5;28;43mself\u001b[39;49m\u001b[38;5;241;43m.\u001b[39;49m\u001b[43mtraining_step\u001b[49m\u001b[43m(\u001b[49m\u001b[43mmodel\u001b[49m\u001b[43m,\u001b[49m\u001b[43m \u001b[49m\u001b[43minputs\u001b[49m\u001b[43m)\u001b[49m\n\u001b[1;32m   2281\u001b[0m \u001b[38;5;28;01mif\u001b[39;00m (\n\u001b[1;32m   2282\u001b[0m     args\u001b[38;5;241m.\u001b[39mlogging_nan_inf_filter\n\u001b[1;32m   2283\u001b[0m     \u001b[38;5;129;01mand\u001b[39;00m \u001b[38;5;129;01mnot\u001b[39;00m is_torch_xla_available()\n\u001b[1;32m   2284\u001b[0m     \u001b[38;5;129;01mand\u001b[39;00m (torch\u001b[38;5;241m.\u001b[39misnan(tr_loss_step) \u001b[38;5;129;01mor\u001b[39;00m torch\u001b[38;5;241m.\u001b[39misinf(tr_loss_step))\n\u001b[1;32m   2285\u001b[0m ):\n\u001b[1;32m   2286\u001b[0m     \u001b[38;5;66;03m# if loss is nan or inf simply add the average of previous logged losses\u001b[39;00m\n\u001b[1;32m   2287\u001b[0m     tr_loss \u001b[38;5;241m+\u001b[39m\u001b[38;5;241m=\u001b[39m tr_loss \u001b[38;5;241m/\u001b[39m (\u001b[38;5;241m1\u001b[39m \u001b[38;5;241m+\u001b[39m \u001b[38;5;28mself\u001b[39m\u001b[38;5;241m.\u001b[39mstate\u001b[38;5;241m.\u001b[39mglobal_step \u001b[38;5;241m-\u001b[39m \u001b[38;5;28mself\u001b[39m\u001b[38;5;241m.\u001b[39m_globalstep_last_logged)\n",
      "File \u001b[0;32m/opt/conda/envs/qa/lib/python3.9/site-packages/transformers/trainer.py:3311\u001b[0m, in \u001b[0;36mTrainer.training_step\u001b[0;34m(self, model, inputs)\u001b[0m\n\u001b[1;32m   3293\u001b[0m \u001b[38;5;28;01mdef\u001b[39;00m \u001b[38;5;21mtraining_step\u001b[39m(\u001b[38;5;28mself\u001b[39m, model: nn\u001b[38;5;241m.\u001b[39mModule, inputs: Dict[\u001b[38;5;28mstr\u001b[39m, Union[torch\u001b[38;5;241m.\u001b[39mTensor, Any]]) \u001b[38;5;241m-\u001b[39m\u001b[38;5;241m>\u001b[39m torch\u001b[38;5;241m.\u001b[39mTensor:\n\u001b[1;32m   3294\u001b[0m \u001b[38;5;250m    \u001b[39m\u001b[38;5;124;03m\"\"\"\u001b[39;00m\n\u001b[1;32m   3295\u001b[0m \u001b[38;5;124;03m    Perform a training step on a batch of inputs.\u001b[39;00m\n\u001b[1;32m   3296\u001b[0m \n\u001b[0;32m   (...)\u001b[0m\n\u001b[1;32m   3309\u001b[0m \u001b[38;5;124;03m        `torch.Tensor`: The tensor with training loss on this batch.\u001b[39;00m\n\u001b[1;32m   3310\u001b[0m \u001b[38;5;124;03m    \"\"\"\u001b[39;00m\n\u001b[0;32m-> 3311\u001b[0m     \u001b[43mmodel\u001b[49m\u001b[38;5;241;43m.\u001b[39;49m\u001b[43mtrain\u001b[49m\u001b[43m(\u001b[49m\u001b[43m)\u001b[49m\n\u001b[1;32m   3312\u001b[0m     inputs \u001b[38;5;241m=\u001b[39m \u001b[38;5;28mself\u001b[39m\u001b[38;5;241m.\u001b[39m_prepare_inputs(inputs)\n\u001b[1;32m   3313\u001b[0m     \u001b[38;5;28;01mif\u001b[39;00m is_sagemaker_mp_enabled():\n",
      "File \u001b[0;32m/opt/conda/envs/qa/lib/python3.9/site-packages/torch/nn/modules/module.py:2430\u001b[0m, in \u001b[0;36mModule.train\u001b[0;34m(self, mode)\u001b[0m\n\u001b[1;32m   2428\u001b[0m \u001b[38;5;28mself\u001b[39m\u001b[38;5;241m.\u001b[39mtraining \u001b[38;5;241m=\u001b[39m mode\n\u001b[1;32m   2429\u001b[0m \u001b[38;5;28;01mfor\u001b[39;00m module \u001b[38;5;129;01min\u001b[39;00m \u001b[38;5;28mself\u001b[39m\u001b[38;5;241m.\u001b[39mchildren():\n\u001b[0;32m-> 2430\u001b[0m     \u001b[43mmodule\u001b[49m\u001b[38;5;241;43m.\u001b[39;49m\u001b[43mtrain\u001b[49m\u001b[43m(\u001b[49m\u001b[43mmode\u001b[49m\u001b[43m)\u001b[49m\n\u001b[1;32m   2431\u001b[0m \u001b[38;5;28;01mreturn\u001b[39;00m \u001b[38;5;28mself\u001b[39m\n",
      "File \u001b[0;32m/opt/conda/envs/qa/lib/python3.9/site-packages/torch/nn/modules/module.py:2430\u001b[0m, in \u001b[0;36mModule.train\u001b[0;34m(self, mode)\u001b[0m\n\u001b[1;32m   2428\u001b[0m \u001b[38;5;28mself\u001b[39m\u001b[38;5;241m.\u001b[39mtraining \u001b[38;5;241m=\u001b[39m mode\n\u001b[1;32m   2429\u001b[0m \u001b[38;5;28;01mfor\u001b[39;00m module \u001b[38;5;129;01min\u001b[39;00m \u001b[38;5;28mself\u001b[39m\u001b[38;5;241m.\u001b[39mchildren():\n\u001b[0;32m-> 2430\u001b[0m     \u001b[43mmodule\u001b[49m\u001b[38;5;241;43m.\u001b[39;49m\u001b[43mtrain\u001b[49m\u001b[43m(\u001b[49m\u001b[43mmode\u001b[49m\u001b[43m)\u001b[49m\n\u001b[1;32m   2431\u001b[0m \u001b[38;5;28;01mreturn\u001b[39;00m \u001b[38;5;28mself\u001b[39m\n",
      "    \u001b[0;31m[... skipping similar frames: Module.train at line 2430 (4 times)]\u001b[0m\n",
      "File \u001b[0;32m/opt/conda/envs/qa/lib/python3.9/site-packages/torch/nn/modules/module.py:2430\u001b[0m, in \u001b[0;36mModule.train\u001b[0;34m(self, mode)\u001b[0m\n\u001b[1;32m   2428\u001b[0m \u001b[38;5;28mself\u001b[39m\u001b[38;5;241m.\u001b[39mtraining \u001b[38;5;241m=\u001b[39m mode\n\u001b[1;32m   2429\u001b[0m \u001b[38;5;28;01mfor\u001b[39;00m module \u001b[38;5;129;01min\u001b[39;00m \u001b[38;5;28mself\u001b[39m\u001b[38;5;241m.\u001b[39mchildren():\n\u001b[0;32m-> 2430\u001b[0m     \u001b[43mmodule\u001b[49m\u001b[38;5;241;43m.\u001b[39;49m\u001b[43mtrain\u001b[49m\u001b[43m(\u001b[49m\u001b[43mmode\u001b[49m\u001b[43m)\u001b[49m\n\u001b[1;32m   2431\u001b[0m \u001b[38;5;28;01mreturn\u001b[39;00m \u001b[38;5;28mself\u001b[39m\n",
      "File \u001b[0;32m/opt/conda/envs/qa/lib/python3.9/site-packages/torch/nn/modules/module.py:2429\u001b[0m, in \u001b[0;36mModule.train\u001b[0;34m(self, mode)\u001b[0m\n\u001b[1;32m   2427\u001b[0m     \u001b[38;5;28;01mraise\u001b[39;00m \u001b[38;5;167;01mValueError\u001b[39;00m(\u001b[38;5;124m\"\u001b[39m\u001b[38;5;124mtraining mode is expected to be boolean\u001b[39m\u001b[38;5;124m\"\u001b[39m)\n\u001b[1;32m   2428\u001b[0m \u001b[38;5;28mself\u001b[39m\u001b[38;5;241m.\u001b[39mtraining \u001b[38;5;241m=\u001b[39m mode\n\u001b[0;32m-> 2429\u001b[0m \u001b[38;5;28;01mfor\u001b[39;00m module \u001b[38;5;129;01min\u001b[39;00m \u001b[38;5;28mself\u001b[39m\u001b[38;5;241m.\u001b[39mchildren():\n\u001b[1;32m   2430\u001b[0m     module\u001b[38;5;241m.\u001b[39mtrain(mode)\n\u001b[1;32m   2431\u001b[0m \u001b[38;5;28;01mreturn\u001b[39;00m \u001b[38;5;28mself\u001b[39m\n",
      "File \u001b[0;32m/opt/conda/envs/qa/lib/python3.9/site-packages/torch/nn/modules/module.py:2319\u001b[0m, in \u001b[0;36mModule.children\u001b[0;34m(self)\u001b[0m\n\u001b[1;32m   2313\u001b[0m \u001b[38;5;28;01mdef\u001b[39;00m \u001b[38;5;21mchildren\u001b[39m(\u001b[38;5;28mself\u001b[39m) \u001b[38;5;241m-\u001b[39m\u001b[38;5;241m>\u001b[39m Iterator[\u001b[38;5;124m'\u001b[39m\u001b[38;5;124mModule\u001b[39m\u001b[38;5;124m'\u001b[39m]:\n\u001b[1;32m   2314\u001b[0m \u001b[38;5;250m    \u001b[39m\u001b[38;5;124mr\u001b[39m\u001b[38;5;124;03m\"\"\"Return an iterator over immediate children modules.\u001b[39;00m\n\u001b[1;32m   2315\u001b[0m \n\u001b[1;32m   2316\u001b[0m \u001b[38;5;124;03m    Yields:\u001b[39;00m\n\u001b[1;32m   2317\u001b[0m \u001b[38;5;124;03m        Module: a child module\u001b[39;00m\n\u001b[1;32m   2318\u001b[0m \u001b[38;5;124;03m    \"\"\"\u001b[39;00m\n\u001b[0;32m-> 2319\u001b[0m     \u001b[38;5;28;01mfor\u001b[39;00m name, module \u001b[38;5;129;01min\u001b[39;00m \u001b[38;5;28;43mself\u001b[39;49m\u001b[38;5;241;43m.\u001b[39;49m\u001b[43mnamed_children\u001b[49m\u001b[43m(\u001b[49m\u001b[43m)\u001b[49m:\n\u001b[1;32m   2320\u001b[0m         \u001b[38;5;28;01myield\u001b[39;00m module\n",
      "\u001b[0;31mKeyboardInterrupt\u001b[0m: "
     ]
    }
   ],
   "source": [
    "trainer.train()"
   ]
  },
  {
   "cell_type": "markdown",
   "id": "9df96a95-ab9f-4213-af0c-b2fa9adf242c",
   "metadata": {},
   "source": [
    "# Inference"
   ]
  },
  {
   "cell_type": "code",
   "execution_count": 11,
   "id": "3ece9da2-b33f-4de3-aea3-30303f07a247",
   "metadata": {},
   "outputs": [],
   "source": [
    "import torch\n",
    "import pandas as pd\n",
    "from transformers import AutoModelForQuestionAnswering, AutoTokenizer, BitsAndBytesConfig\n",
    "from peft import PeftModel, PeftConfig\n",
    "from tqdm import tqdm\n",
    "\n",
    "CHECK_POINT = \"/home/jovyan/work/ai_chat_qa_task/code/huggingface/roBERTa_v2/checkpoint-23972\"\n",
    "TEST_fOLDER = '/home/jovyan/work/prj_data/open/test.csv'\n",
    "OUTPUT = \"test\"\n",
    "\n",
    "DEVICE = \"cuda\" if torch.cuda.is_available() else \"cpu\"\n",
    "csv = pd.read_csv(TEST_fOLDER)\n",
    "\n",
    "quantization_config = BitsAndBytesConfig(\n",
    "    load_in_4bit=True,\n",
    "    bnb_4bit_use_double_quant=True,\n",
    "    bnb_4bit_quant_type=\"nf4\",\n",
    "    bnb_4bit_compute_dtype=torch.float16,\n",
    ")\n",
    "\n",
    "# 모델 및 토크나이저 로드\n",
    "config = PeftConfig.from_pretrained(CHECK_POINT)\n",
    "model = AutoModelForQuestionAnswering.from_pretrained(\n",
    "    config.base_model_name_or_path,\n",
    "    # quantization_config=quantization_config,\n",
    "    device_map=\"cuda:0\",\n",
    "    torch_dtype=torch.float16\n",
    ")\n",
    "# model = PeftModel.from_pretrained(model, CHECK_POINT)\n",
    "model.eval()\n",
    "\n",
    "tokenizer = AutoTokenizer.from_pretrained(config.base_model_name_or_path)\n",
    "# tokenizer.add_tokens(['위챗', '대만 서부', '먀오리현', '(爭訟)'])\n",
    "# model.resize_token_embeddings(len(tokenizer))"
   ]
  },
  {
   "cell_type": "code",
   "execution_count": null,
   "id": "592e72dd-2e6f-4398-9e6d-e333db61f47b",
   "metadata": {},
   "outputs": [
    {
     "name": "stderr",
     "output_type": "stream",
     "text": [
      "  0%|          | 1/1507 [00:04<1:41:06,  4.03s/it]"
     ]
    },
    {
     "name": "stdout",
     "output_type": "stream",
     "text": [
      "ID: TEST_0000 Question: 어떤 기관이 지역 중소기업과 소상공인들에게 큰 힘이 되는 통상진흥원인가요 Generated answer: 제주특별자치도 경제통상진흥원\n"
     ]
    },
    {
     "name": "stderr",
     "output_type": "stream",
     "text": [
      "  0%|          | 2/1507 [00:07<1:34:45,  3.78s/it]"
     ]
    },
    {
     "name": "stdout",
     "output_type": "stream",
     "text": [
      "ID: TEST_0001 Question: 제주 경제통상진흥원이 어떤 해외 시장을 우선적으로 공략하고 있나요 Generated answer: 중국과 일본\n"
     ]
    },
    {
     "name": "stderr",
     "output_type": "stream",
     "text": [
      "  0%|          | 3/1507 [00:11<1:31:02,  3.63s/it]"
     ]
    },
    {
     "name": "stdout",
     "output_type": "stream",
     "text": [
      "ID: TEST_0002 Question: 상해대표처는 어느 시점에 설립되었습니까 Generated answer: 2015년 8월\n"
     ]
    },
    {
     "name": "stderr",
     "output_type": "stream",
     "text": [
      "  0%|          | 4/1507 [00:15<1:38:27,  3.93s/it]"
     ]
    },
    {
     "name": "stdout",
     "output_type": "stream",
     "text": [
      "ID: TEST_0003 Question: 동경통상대표부는 어느 지역에 설립되었습니까 Generated answer: 일본 도쿄 신주쿠\n"
     ]
    },
    {
     "name": "stderr",
     "output_type": "stream",
     "text": [
      "  0%|          | 5/1507 [00:19<1:42:36,  4.10s/it]"
     ]
    },
    {
     "name": "stdout",
     "output_type": "stream",
     "text": [
      "ID: TEST_0004 Question: 제주경제통상진흥원이 지난해에 도내에서 생산된 제품에 대한 일본 수출에 얼마를 지원했나요 Generated answer: 31억7200만원 )\n"
     ]
    },
    {
     "name": "stderr",
     "output_type": "stream",
     "text": [
      "  0%|          | 6/1507 [00:23<1:35:47,  3.83s/it]"
     ]
    },
    {
     "name": "stdout",
     "output_type": "stream",
     "text": [
      "ID: TEST_0005 Question: 서경대 실용음악과 보컬전공의 대입 시험은 어디에서 진행되었나 Generated answer: 서경대의 풋살경기장\n"
     ]
    },
    {
     "name": "stderr",
     "output_type": "stream",
     "text": [
      "  0%|          | 7/1507 [00:26<1:31:36,  3.66s/it]"
     ]
    },
    {
     "name": "stdout",
     "output_type": "stream",
     "text": [
      "ID: TEST_0006 Question: 천막 고사장으로 변경한 이유는 무엇인가 Generated answer: 신종 코로나바이러스 감염증 ( 코로나19 ) 를 예방\n"
     ]
    },
    {
     "name": "stderr",
     "output_type": "stream",
     "text": [
      "  1%|          | 8/1507 [00:29<1:28:38,  3.55s/it]"
     ]
    },
    {
     "name": "stdout",
     "output_type": "stream",
     "text": [
      "ID: TEST_0007 Question: 2021학년도 서경대 실용음악과 보컬 전공 수시에 몇 명이 지원했나 Generated answer: 1710명\n"
     ]
    },
    {
     "name": "stderr",
     "output_type": "stream",
     "text": [
      "  1%|          | 9/1507 [00:33<1:26:38,  3.47s/it]"
     ]
    },
    {
     "name": "stdout",
     "output_type": "stream",
     "text": [
      "ID: TEST_0008 Question: 하나의 시험 당 약 몇 명이 참가했나 Generated answer: 1710명이 지원했다. 운동장에 천막을 설치하고 1시간에 25명\n"
     ]
    },
    {
     "name": "stderr",
     "output_type": "stream",
     "text": [
      "  1%|          | 10/1507 [00:36<1:29:11,  3.57s/it]"
     ]
    },
    {
     "name": "stdout",
     "output_type": "stream",
     "text": [
      "ID: TEST_0009 Question: 기존과 같은 방식으로 대면 면접·실기시험을 치르는 학교들은 어떤 방식을 채택했나 Generated answer: 영상 업로드 '\n"
     ]
    },
    {
     "name": "stderr",
     "output_type": "stream",
     "text": [
      "  1%|          | 11/1507 [00:38<1:10:14,  2.82s/it]"
     ]
    },
    {
     "name": "stdout",
     "output_type": "stream",
     "text": [
      "ID: TEST_0010 Question: 중소기업 혁신바우처 사업이란 어떤 사업인가 Generated answer: 제조 중소기업의 경영혁신과 원활한 회생과 재기 활동을 지원하기 위해 컨설팅, 기술지원, 마케팅 서비스를 제공하는 사업\n"
     ]
    },
    {
     "name": "stderr",
     "output_type": "stream",
     "text": [
      "  1%|          | 12/1507 [00:39<1:01:47,  2.48s/it]"
     ]
    },
    {
     "name": "stdout",
     "output_type": "stream",
     "text": [
      "ID: TEST_0011 Question: 이번에 신설된 컨설팅 서비스 프로그램이 무엇인가 Generated answer: 탄소중립 경영혁신 ‧ 융복합 ‧ 산업안전 )\n"
     ]
    },
    {
     "name": "stderr",
     "output_type": "stream",
     "text": [
      "  1%|          | 13/1507 [00:41<57:30,  2.31s/it]  "
     ]
    },
    {
     "name": "stdout",
     "output_type": "stream",
     "text": [
      "ID: TEST_0012 Question: 일반 바우처를 지원받을 수 있는 기업의 대상 조건은 무엇인가 Generated answer: 최근 3개년 평균 매출액 120억원 이하의 제조 소기업\n"
     ]
    },
    {
     "name": "stderr",
     "output_type": "stream",
     "text": [
      "  1%|          | 14/1507 [00:43<50:32,  2.03s/it]"
     ]
    },
    {
     "name": "stdout",
     "output_type": "stream",
     "text": [
      "ID: TEST_0013 Question: 선정된 기업이 받을 수 있는 바우처 발급금액 한도는 얼마인가 Generated answer: 5000만원\n"
     ]
    },
    {
     "name": "stderr",
     "output_type": "stream",
     "text": [
      "  1%|          | 15/1507 [00:45<51:49,  2.08s/it]"
     ]
    },
    {
     "name": "stdout",
     "output_type": "stream",
     "text": [
      "ID: TEST_0014 Question: 중소기업 혁신바우처 사업의 참여를 위해 신청을 어디에서 할 수 있는가 Generated answer: 혁신바우처플랫폼 ( http : / / www. mssmiv. com ) 홈페이지\n"
     ]
    },
    {
     "name": "stderr",
     "output_type": "stream",
     "text": [
      "  1%|          | 16/1507 [00:47<51:39,  2.08s/it]"
     ]
    },
    {
     "name": "stdout",
     "output_type": "stream",
     "text": [
      "ID: TEST_0015 Question: 산림청과 한국농수산식품유통공사는 어느 온라인 플랫폼에 입점할 임산물 가공식품 업체를 모집하는 계획인가 Generated answer: Shopee '\n"
     ]
    },
    {
     "name": "stderr",
     "output_type": "stream",
     "text": [
      "  1%|          | 17/1507 [00:48<44:49,  1.80s/it]"
     ]
    },
    {
     "name": "stdout",
     "output_type": "stream",
     "text": [
      "ID: TEST_0016 Question: 한국농수산식품유통공사와 산림청이 본격 공략하려는 지역은 어디인가 Generated answer: 신남방지역\n"
     ]
    },
    {
     "name": "stderr",
     "output_type": "stream",
     "text": [
      "  1%|          | 18/1507 [00:49<40:07,  1.62s/it]"
     ]
    },
    {
     "name": "stdout",
     "output_type": "stream",
     "text": [
      "ID: TEST_0017 Question: 산림청과 한국농수산식품유통공사가 선정한 업체에 제공하는 사전 기본교육 비용, 전략 컨설팅 비용, 유료 프로모션 수행 비용 중 가장 높은 지원 금액은 어느 기능에 해당하는가 Generated answer: 키워드 광고 등\n"
     ]
    },
    {
     "name": "stderr",
     "output_type": "stream",
     "text": [
      "  1%|▏         | 19/1507 [00:51<44:15,  1.78s/it]"
     ]
    },
    {
     "name": "stdout",
     "output_type": "stream",
     "text": [
      "ID: TEST_0018 Question: 그간 K-임산물의 수출 확대를 위해 aT와 산림청이 온라인몰 입점 지원사업을 진행했던 주요 국가는 어디로 나타나 있는가 Generated answer: 북미시장 ( 아마존 ) 및 중국시장 ( 알리바바 )\n"
     ]
    },
    {
     "name": "stderr",
     "output_type": "stream",
     "text": [
      "  1%|▏         | 20/1507 [00:53<46:17,  1.87s/it]"
     ]
    },
    {
     "name": "stdout",
     "output_type": "stream",
     "text": [
      "ID: TEST_0019 Question: 동남아 전자상거래 시장 규모는 2025년 기준으로 어느 수준으로 전망되는가 Generated answer: 1720억 달러\n"
     ]
    },
    {
     "name": "stderr",
     "output_type": "stream",
     "text": [
      "  1%|▏         | 21/1507 [00:57<58:09,  2.35s/it]"
     ]
    },
    {
     "name": "stdout",
     "output_type": "stream",
     "text": [
      "ID: TEST_0020 Question: 캠페인은 언제부터 일요일 자정까지 진행되어, 외식 업소에서 몇 번 2만원 이상 결제하면 캐시백 또는 할인 혜택을 받는가 Generated answer: 금요일 오후 4시부터 일요일 자정까지 외식 업소에서 2만원 이상 다섯 차례\n"
     ]
    },
    {
     "name": "stderr",
     "output_type": "stream",
     "text": [
      "  1%|▏         | 22/1507 [01:02<1:21:36,  3.30s/it]"
     ]
    },
    {
     "name": "stdout",
     "output_type": "stream",
     "text": [
      "ID: TEST_0021 Question: 캠페인은 총 얼마의 예산으로 진행될 예정인가 Generated answer: 330억원\n"
     ]
    },
    {
     "name": "stderr",
     "output_type": "stream",
     "text": [
      "  2%|▏         | 23/1507 [01:07<1:31:54,  3.72s/it]"
     ]
    },
    {
     "name": "stdout",
     "output_type": "stream",
     "text": [
      "ID: TEST_0022 Question: 행정에 대한 김우주 고려대구로병원 감염내과 교수의 관점에 따르면 국민은 어떤 메시지에 맞춰야 하는지 어떻게 되는가 Generated answer: 방역 당국은 ‘ 여행하지 말고 실내에 있고 대면하지 말아라 ’ 고 하고 다른 부처는 ‘ 방역을 잘하고 있으니 여행도 가고 외식도 하라 ’ 고 한다.\n"
     ]
    },
    {
     "name": "stderr",
     "output_type": "stream",
     "text": [
      "  2%|▏         | 24/1507 [01:11<1:35:54,  3.88s/it]"
     ]
    },
    {
     "name": "stdout",
     "output_type": "stream",
     "text": [
      "ID: TEST_0023 Question: 고 투 캠페인 사업'은 어떤 비용을 지원하는가 Generated answer: 여행 비용을 지원하는 ‘ 고 투 트레블 ’\n"
     ]
    },
    {
     "name": "stderr",
     "output_type": "stream",
     "text": [
      "  2%|▏         | 25/1507 [01:17<1:46:55,  4.33s/it]"
     ]
    },
    {
     "name": "stdout",
     "output_type": "stream",
     "text": [
      "ID: TEST_0024 Question: 특별 여행주간은 언제로 선포된 것인가 Generated answer: 오는 10월\n"
     ]
    },
    {
     "name": "stderr",
     "output_type": "stream",
     "text": [
      "  2%|▏         | 26/1507 [01:20<1:39:27,  4.03s/it]"
     ]
    },
    {
     "name": "stdout",
     "output_type": "stream",
     "text": [
      "ID: TEST_0025 Question: 조사에 응답한 기업의 대부분은 월 매출 규모가 얼마인 기업인가 Generated answer: 50억원 이하의 중소기업\n"
     ]
    },
    {
     "name": "stderr",
     "output_type": "stream",
     "text": [
      "  2%|▏         | 27/1507 [01:24<1:42:07,  4.14s/it]"
     ]
    },
    {
     "name": "stdout",
     "output_type": "stream",
     "text": [
      "ID: TEST_0026 Question: 2020년 매출이 감소한 기업은 응답한 전체 기업 중 몇 퍼센트인가 Generated answer: 61. 3 %\n"
     ]
    },
    {
     "name": "stderr",
     "output_type": "stream",
     "text": [
      "  2%|▏         | 28/1507 [01:29<1:44:00,  4.22s/it]"
     ]
    },
    {
     "name": "stdout",
     "output_type": "stream",
     "text": [
      "ID: TEST_0027 Question: 2021년에도 온라인 마케팅 사업에 참여하겠다고 응답한 기업은 전체 중 몇 퍼센트인가 Generated answer: 95. 5 %\n"
     ]
    },
    {
     "name": "stderr",
     "output_type": "stream",
     "text": [
      "  2%|▏         | 29/1507 [01:33<1:45:09,  4.27s/it]"
     ]
    },
    {
     "name": "stdout",
     "output_type": "stream",
     "text": [
      "ID: TEST_0028 Question: 기업들이 올해 지원이 필요한 분야로 가장 많이 꼽은 것은 무엇인가 Generated answer: 자금지원 ( 31. 3 % ) 을\n"
     ]
    },
    {
     "name": "stderr",
     "output_type": "stream",
     "text": [
      "  2%|▏         | 30/1507 [01:37<1:40:43,  4.09s/it]"
     ]
    },
    {
     "name": "stdout",
     "output_type": "stream",
     "text": [
      "ID: TEST_0029 Question: 지난해 촉발된 세계경제 위기로 절반에 가까운 광주·전남 기업들의 어떤 비즈니스가 감소한 것으로 나타났는가 Generated answer: 수출을 포함한 매출\n"
     ]
    },
    {
     "name": "stderr",
     "output_type": "stream",
     "text": [
      "  2%|▏         | 31/1507 [01:39<1:23:57,  3.41s/it]"
     ]
    },
    {
     "name": "stdout",
     "output_type": "stream",
     "text": [
      "ID: TEST_0030 Question: 어떤 상품을 기찬들 영암몰에서 10일과 17일에 할인 판매하는가 Generated answer: 쌀, 17일에는 고구마\n"
     ]
    },
    {
     "name": "stderr",
     "output_type": "stream",
     "text": [
      "  2%|▏         | 32/1507 [01:40<1:11:43,  2.92s/it]"
     ]
    },
    {
     "name": "stdout",
     "output_type": "stream",
     "text": [
      "ID: TEST_0031 Question: 기찬들 영암몰에서 신규 회원가입 고객에게 주는 적립금은 얼마인가 Generated answer: 3천원\n"
     ]
    },
    {
     "name": "stderr",
     "output_type": "stream",
     "text": [
      "  2%|▏         | 33/1507 [01:42<1:01:37,  2.51s/it]"
     ]
    },
    {
     "name": "stdout",
     "output_type": "stream",
     "text": [
      "ID: TEST_0032 Question: 최우수 포토후기를 남긴 고객에게 주어지는 상품은 무엇인가 Generated answer: 무화과 쌀빵 1박스\n"
     ]
    },
    {
     "name": "stderr",
     "output_type": "stream",
     "text": [
      "  2%|▏         | 34/1507 [01:44<57:04,  2.32s/it]  "
     ]
    },
    {
     "name": "stdout",
     "output_type": "stream",
     "text": [
      "ID: TEST_0033 Question: 기찬들 영암몰 개관 이후 온라인 판매 누적 매출액은 얼마인가 Generated answer: 7억5천만원\n"
     ]
    },
    {
     "name": "stderr",
     "output_type": "stream",
     "text": [
      "  2%|▏         | 35/1507 [01:45<47:01,  1.92s/it]"
     ]
    },
    {
     "name": "stdout",
     "output_type": "stream",
     "text": [
      "ID: TEST_0034 Question: 기찬들 영암몰'이 연계한 전남도 온라인 쇼핑몰의 이름은 무엇인가 Generated answer: 남도장터 '\n"
     ]
    },
    {
     "name": "stderr",
     "output_type": "stream",
     "text": [
      "  2%|▏         | 36/1507 [01:49<1:00:34,  2.47s/it]"
     ]
    },
    {
     "name": "stdout",
     "output_type": "stream",
     "text": [
      "ID: TEST_0035 Question: 애플이 고 이건희 회장의 빈소에 보낸 조화 화환의 단수는 몇 단인가 Generated answer: 2단 화환\n"
     ]
    },
    {
     "name": "stderr",
     "output_type": "stream",
     "text": [
      "  2%|▏         | 37/1507 [01:52<1:06:38,  2.72s/it]"
     ]
    },
    {
     "name": "stdout",
     "output_type": "stream",
     "text": [
      "ID: TEST_0036 Question: 애플의 창업자 이름은 무엇인가 Generated answer: 고 스티브 잡스\n"
     ]
    },
    {
     "name": "stderr",
     "output_type": "stream",
     "text": [
      "  3%|▎         | 38/1507 [01:57<1:26:15,  3.52s/it]"
     ]
    },
    {
     "name": "stdout",
     "output_type": "stream",
     "text": [
      "ID: TEST_0037 Question: 이재용 부회장이 참석한 스티브 잡스의 추도식이 열린 대학교 이름은 무엇인가 Generated answer: 미국 스탠퍼드 대학교\n"
     ]
    },
    {
     "name": "stderr",
     "output_type": "stream",
     "text": [
      "  3%|▎         | 39/1507 [02:01<1:25:25,  3.49s/it]"
     ]
    },
    {
     "name": "stdout",
     "output_type": "stream",
     "text": [
      "ID: TEST_0038 Question: 스티브 잡스가 1983년 서울에서 만난 삼성 창업주의 이름은 무엇인가 Generated answer: 이병철 삼성 창업주와\n"
     ]
    },
    {
     "name": "stderr",
     "output_type": "stream",
     "text": [
      "  3%|▎         | 40/1507 [02:04<1:24:05,  3.44s/it]"
     ]
    },
    {
     "name": "stdout",
     "output_type": "stream",
     "text": [
      "ID: TEST_0039 Question: 2007년 처음 공개된 제품의 이름은 무엇인가 Generated answer: 아이폰은 2007년 1월 잡스의 손에 의해 처음 공개됐다.\n"
     ]
    },
    {
     "name": "stderr",
     "output_type": "stream",
     "text": [
      "  3%|▎         | 41/1507 [02:08<1:23:50,  3.43s/it]"
     ]
    },
    {
     "name": "stdout",
     "output_type": "stream",
     "text": [
      "ID: TEST_0040 Question: 경남 창녕군 이방면 장천배수장 인근 낙동강 본류 둑이 무너진 시간은 언제인가 Generated answer: 9일 오전 2시\n"
     ]
    },
    {
     "name": "stderr",
     "output_type": "stream",
     "text": [
      "  3%|▎         | 42/1507 [02:11<1:27:27,  3.58s/it]"
     ]
    },
    {
     "name": "stdout",
     "output_type": "stream",
     "text": [
      "ID: TEST_0041 Question: 4대강 살리기 사업'으로 건설된 합천창녕보의 수위가 처음으로 상승하기 시작한 시점은 언제인가 Generated answer: 지난 7일 오후\n"
     ]
    },
    {
     "name": "stderr",
     "output_type": "stream",
     "text": [
      "  3%|▎         | 43/1507 [02:15<1:28:12,  3.62s/it]"
     ]
    },
    {
     "name": "stdout",
     "output_type": "stream",
     "text": [
      "ID: TEST_0042 Question: 둑이 무너져 피해가 발생한 섬진강은 4대강 사업과 어떤 관련이 있는가 Generated answer: 섬진강은 4대강 사업과는 직접 관련이 없는 곳이다.\n"
     ]
    },
    {
     "name": "stderr",
     "output_type": "stream",
     "text": [
      "  3%|▎         | 44/1507 [02:20<1:34:02,  3.86s/it]"
     ]
    },
    {
     "name": "stdout",
     "output_type": "stream",
     "text": [
      "ID: TEST_0043 Question: 둑이 무너진 9일 오전 2시에는 보 수위가 얼마였는가 Generated answer: 17. 51m\n"
     ]
    },
    {
     "name": "stderr",
     "output_type": "stream",
     "text": [
      "  3%|▎         | 45/1507 [02:23<1:30:15,  3.70s/it]"
     ]
    },
    {
     "name": "stdout",
     "output_type": "stream",
     "text": [
      "ID: TEST_0044 Question: 보 상류와 하류의 수위 차이에 대한 홍수통제소 관계자의 설명은 어떻게 이루어졌는가 Generated answer: 보 상류와 하류의 수위 차이가 없다고 보면 된다 \" 고 설명했다.\n"
     ]
    },
    {
     "name": "stderr",
     "output_type": "stream",
     "text": [
      "  3%|▎         | 46/1507 [02:26<1:26:36,  3.56s/it]"
     ]
    },
    {
     "name": "stdout",
     "output_type": "stream",
     "text": [
      "ID: TEST_0045 Question: 김모씨의 고향은 어디인가 Generated answer: 서울에 직장을 둔 워킹맘 김모 ( 32 ) 씨는 올해 설 명절 이후 8개월간 고향인 대구\n"
     ]
    },
    {
     "name": "stderr",
     "output_type": "stream",
     "text": [
      "  3%|▎         | 47/1507 [02:29<1:22:12,  3.38s/it]"
     ]
    },
    {
     "name": "stdout",
     "output_type": "stream",
     "text": [
      "ID: TEST_0046 Question: 전모씨의 아이가 고새 얼마나 자랐나 Generated answer: 10cm\n"
     ]
    },
    {
     "name": "stderr",
     "output_type": "stream",
     "text": [
      "  3%|▎         | 48/1507 [02:32<1:16:36,  3.15s/it]"
     ]
    },
    {
     "name": "stdout",
     "output_type": "stream",
     "text": [
      "ID: TEST_0047 Question: 김모씨의 거주지는 어디인가 Generated answer: 경기 용인시에 거주\n"
     ]
    },
    {
     "name": "stderr",
     "output_type": "stream",
     "text": [
      "  3%|▎         | 49/1507 [02:36<1:25:38,  3.52s/it]"
     ]
    },
    {
     "name": "stdout",
     "output_type": "stream",
     "text": [
      "ID: TEST_0048 Question: 전모씨는 본가로 이동하기 위해 어떤 교통수단을 이용하려 했나 Generated answer: 기차를 타고\n"
     ]
    },
    {
     "name": "stderr",
     "output_type": "stream",
     "text": [
      "  3%|▎         | 50/1507 [02:40<1:31:55,  3.79s/it]"
     ]
    },
    {
     "name": "stdout",
     "output_type": "stream",
     "text": [
      "ID: TEST_0049 Question: 이모씨가 추석을 어디서 보내기로 결정했나 Generated answer: 부산에서 생활하고 있다.\n"
     ]
    },
    {
     "name": "stderr",
     "output_type": "stream",
     "text": [
      "  3%|▎         | 51/1507 [02:44<1:28:23,  3.64s/it]"
     ]
    },
    {
     "name": "stdout",
     "output_type": "stream",
     "text": [
      "ID: TEST_0050 Question: 공수처장 후보로 전 저축은행 합수단장을 추천한 기관은 어디인가 Generated answer: 대법원은 공수처장 후보로 최\n"
     ]
    },
    {
     "name": "stderr",
     "output_type": "stream",
     "text": [
      "  3%|▎         | 52/1507 [02:48<1:30:04,  3.71s/it]"
     ]
    },
    {
     "name": "stdout",
     "output_type": "stream",
     "text": [
      "ID: TEST_0051 Question: 법무부가 추천한 공수처장 후보는 누구인가 Generated answer: 전현정 ( 22기 ) 전 부장판사\n"
     ]
    },
    {
     "name": "stderr",
     "output_type": "stream",
     "text": [
      "  4%|▎         | 53/1507 [02:50<1:23:25,  3.44s/it]"
     ]
    },
    {
     "name": "stdout",
     "output_type": "stream",
     "text": [
      "ID: TEST_0052 Question: 대한변호사협회가 추천한 공수처장 후보 중 헌법재판소 선임연구관은 누구인가 Generated answer: 김진욱 ( 사법연수원 21기 · 대구 )\n"
     ]
    },
    {
     "name": "stderr",
     "output_type": "stream",
     "text": [
      "  4%|▎         | 54/1507 [02:55<1:29:52,  3.71s/it]"
     ]
    },
    {
     "name": "stdout",
     "output_type": "stream",
     "text": [
      "ID: TEST_0053 Question: 더불어민주당에게 추천된 후보자 중 서울고법 판사 출신은 누구인가 Generated answer: 전종민\n"
     ]
    },
    {
     "name": "stderr",
     "output_type": "stream",
     "text": [
      "  4%|▎         | 55/1507 [02:59<1:33:03,  3.85s/it]"
     ]
    },
    {
     "name": "stdout",
     "output_type": "stream",
     "text": [
      "ID: TEST_0054 Question: 국민의힘에게 추천된 후보자 중 전 대한법률구조공단 사무총장은 누구인가 Generated answer: 손기호\n"
     ]
    },
    {
     "name": "stderr",
     "output_type": "stream",
     "text": [
      "  4%|▎         | 56/1507 [03:03<1:37:43,  4.04s/it]"
     ]
    },
    {
     "name": "stdout",
     "output_type": "stream",
     "text": [
      "ID: TEST_0055 Question: 유행에 구멍이 뚫린 상태로 신규 환자가 계속 늘어나는 추세의 확진 지표는 무엇인가 Generated answer: 재생산지수\n"
     ]
    },
    {
     "name": "stderr",
     "output_type": "stream",
     "text": [
      "  4%|▍         | 57/1507 [03:08<1:41:34,  4.20s/it]"
     ]
    },
    {
     "name": "stdout",
     "output_type": "stream",
     "text": [
      "ID: TEST_0056 Question: 정은경 본부장이 현 상황에서 위험요인으로 본 것은 무엇인가 Generated answer: 바이러스에 노출된 것으로 추정되는 미검사자가 여전히 많은 데다 확진자로 인한 n차 전파가 곳곳에서 끊이지 않는다는 점\n"
     ]
    },
    {
     "name": "stderr",
     "output_type": "stream",
     "text": [
      "  4%|▍         | 58/1507 [03:12<1:41:41,  4.21s/it]"
     ]
    },
    {
     "name": "stdout",
     "output_type": "stream",
     "text": [
      "ID: TEST_0057 Question: 질병관리본부 중앙방역대책본부장은 누구인가 Generated answer: 정은경 질병관리본부 중앙방역대책본부장 ( 질병관리본부장 )\n"
     ]
    },
    {
     "name": "stderr",
     "output_type": "stream",
     "text": [
      "  4%|▍         | 59/1507 [03:15<1:31:52,  3.81s/it]"
     ]
    },
    {
     "name": "stdout",
     "output_type": "stream",
     "text": [
      "ID: TEST_0058 Question: 사랑제일교회 관련 환자의 집계 현황은 어떤가 Generated answer: 당국에 따르면 이날 낮 12시 기준으로 사랑제일교회 관련 환자는 전날보다 45명 늘어 누적 841명으로 집계됐다. 수도권에서만 792명이 확진됐다.\n"
     ]
    },
    {
     "name": "stderr",
     "output_type": "stream",
     "text": [
      "  4%|▍         | 60/1507 [03:20<1:40:41,  4.17s/it]"
     ]
    },
    {
     "name": "stdout",
     "output_type": "stream",
     "text": [
      "ID: TEST_0059 Question: 전국의 사회적 거리두기 상태는 몇 단계인가 Generated answer: 2단계\n"
     ]
    },
    {
     "name": "stderr",
     "output_type": "stream",
     "text": [
      "  4%|▍         | 61/1507 [03:24<1:34:27,  3.92s/it]"
     ]
    },
    {
     "name": "stdout",
     "output_type": "stream",
     "text": [
      "ID: TEST_0060 Question: 입사 1년차 직장인 A씨가 가입한 정기적금은 어떤 은행의 제품인가 Generated answer: 입사 1년차 직장인 A씨는 최고 연 7 % ( 기본 2 %, 조건부 우대금리 5 % ) 금리를 제공한다는 광고만 보고 매달 20만원씩 적립하는 ○○은행\n"
     ]
    },
    {
     "name": "stderr",
     "output_type": "stream",
     "text": [
      "  4%|▍         | 62/1507 [03:27<1:30:01,  3.74s/it]"
     ]
    },
    {
     "name": "stdout",
     "output_type": "stream",
     "text": [
      "ID: TEST_0061 Question: A씨가 매달 적립하는 정기적금 금액은 얼마인가 Generated answer: 20만원\n"
     ]
    },
    {
     "name": "stderr",
     "output_type": "stream",
     "text": [
      "  4%|▍         | 63/1507 [03:31<1:33:44,  3.89s/it]"
     ]
    },
    {
     "name": "stdout",
     "output_type": "stream",
     "text": [
      "ID: TEST_0062 Question: A씨가 얻을 수 있었던 최고의 금리는 얼마인가 Generated answer: 연 7 %\n"
     ]
    },
    {
     "name": "stderr",
     "output_type": "stream",
     "text": [
      "  4%|▍         | 64/1507 [03:33<1:22:29,  3.43s/it]"
     ]
    },
    {
     "name": "stdout",
     "output_type": "stream",
     "text": [
      "ID: TEST_0063 Question: 중도해지금리의 연이율은 얼마인가 Generated answer: 연 0. 3 %\n"
     ]
    },
    {
     "name": "stderr",
     "output_type": "stream",
     "text": [
      "  4%|▍         | 65/1507 [03:38<1:29:22,  3.72s/it]"
     ]
    },
    {
     "name": "stdout",
     "output_type": "stream",
     "text": [
      "ID: TEST_0064 Question: 한 서민금융회사에 예금되어있는 예금의 보호 범위는 얼마인가 Generated answer: 5000만원 )\n"
     ]
    },
    {
     "name": "stderr",
     "output_type": "stream",
     "text": [
      "  4%|▍         | 66/1507 [03:42<1:32:38,  3.86s/it]"
     ]
    },
    {
     "name": "stdout",
     "output_type": "stream",
     "text": [
      "ID: TEST_0065 Question: 김종호 신임 민정수석의 전 직책은 무엇이었나 Generated answer: 감사원 사무총장을\n"
     ]
    },
    {
     "name": "stderr",
     "output_type": "stream",
     "text": [
      "  4%|▍         | 67/1507 [03:45<1:28:24,  3.68s/it]"
     ]
    },
    {
     "name": "stdout",
     "output_type": "stream",
     "text": [
      "ID: TEST_0066 Question: 문 대통령이 청와대 민정수석에 검찰 출신을 임명하지 않은 이유는 무엇이라고 생각되나 Generated answer: 검찰에 대한 불신\n"
     ]
    },
    {
     "name": "stderr",
     "output_type": "stream",
     "text": [
      "  5%|▍         | 68/1507 [03:49<1:27:26,  3.65s/it]"
     ]
    },
    {
     "name": "stdout",
     "output_type": "stream",
     "text": [
      "ID: TEST_0067 Question: 문재인 대통령이 저서에서 언급한 민정수석으로서의 가장 아쉬운 점은 무엇이었나 Generated answer: 고위공직자비리수사처 설치를 못한 일\n"
     ]
    },
    {
     "name": "stderr",
     "output_type": "stream",
     "text": [
      "  5%|▍         | 69/1507 [03:53<1:30:34,  3.78s/it]"
     ]
    },
    {
     "name": "stdout",
     "output_type": "stream",
     "text": [
      "ID: TEST_0068 Question: 민정수석 임명 과정에서 법조계에서 우려하는 부분은 무엇인가 Generated answer: 검사 출신 변호사들은 검찰 개혁이 현재 정부 과제 중 가장 중요한데 검사 업무를 모르는 사람이 민정수석으로 온 점을 우려했다.\n"
     ]
    },
    {
     "name": "stderr",
     "output_type": "stream",
     "text": [
      "  5%|▍         | 70/1507 [03:57<1:29:20,  3.73s/it]"
     ]
    },
    {
     "name": "stdout",
     "output_type": "stream",
     "text": [
      "ID: TEST_0069 Question: 김종호 민정수석에 대한 기대는 어떠한 점인가 Generated answer: 다만 김 수석 성격이 강인하면서도 우직해 성과를 낼 수 있다는 기대도 있다.\n"
     ]
    },
    {
     "name": "stderr",
     "output_type": "stream",
     "text": [
      "  5%|▍         | 71/1507 [04:00<1:26:15,  3.60s/it]"
     ]
    },
    {
     "name": "stdout",
     "output_type": "stream",
     "text": [
      "ID: TEST_0070 Question: 아시아나항공을 산업은행이 어느 그룹에 매각하는 방안을 추진하고 있는가 Generated answer: 한진그룹에\n"
     ]
    },
    {
     "name": "stderr",
     "output_type": "stream",
     "text": [
      "  5%|▍         | 72/1507 [04:06<1:47:48,  4.51s/it]"
     ]
    },
    {
     "name": "stdout",
     "output_type": "stream",
     "text": [
      "ID: TEST_0071 Question: 공정거래위원회는 몇 퍼센트의 시장점유율을 가진 회사가 결합하면 경쟁을 제한할 가능성이 있다고 보는가 Generated answer: ##이 50 %\n"
     ]
    },
    {
     "name": "stderr",
     "output_type": "stream",
     "text": [
      "  5%|▍         | 73/1507 [04:12<1:54:34,  4.79s/it]"
     ]
    },
    {
     "name": "stdout",
     "output_type": "stream",
     "text": [
      "ID: TEST_0072 Question: 아시아나 항공의 지분 중 매각될 몇 퍼센트의 지분을 한진칼이 가지고 있는지 제시하라. Generated answer: 30. 77 %\n"
     ]
    },
    {
     "name": "stderr",
     "output_type": "stream",
     "text": [
      "  5%|▍         | 74/1507 [04:16<1:51:51,  4.68s/it]"
     ]
    },
    {
     "name": "stdout",
     "output_type": "stream",
     "text": [
      "ID: TEST_0073 Question: 대한항공과 아시아나의 기체 보유 대수를 합하면 얼마인가 Generated answer: 259대\n"
     ]
    },
    {
     "name": "stderr",
     "output_type": "stream",
     "text": [
      "  5%|▍         | 75/1507 [04:20<1:42:13,  4.28s/it]"
     ]
    },
    {
     "name": "stdout",
     "output_type": "stream",
     "text": [
      "ID: TEST_0074 Question: 대한항공과 아시아나가 합쳐진다면 매출은 얼마가 될 것으로 예상되는가 Generated answer: 15조원\n"
     ]
    },
    {
     "name": "stderr",
     "output_type": "stream",
     "text": [
      "  5%|▌         | 76/1507 [04:22<1:29:58,  3.77s/it]"
     ]
    },
    {
     "name": "stdout",
     "output_type": "stream",
     "text": [
      "ID: TEST_0075 Question: 올해 제주지역 토지 거래량은 몇 필지, 면적은 몇 ㎡로 집계됐나 Generated answer: 1만4622필지, 1060만8000㎡\n"
     ]
    },
    {
     "name": "stderr",
     "output_type": "stream",
     "text": [
      "  5%|▌         | 77/1507 [04:25<1:23:29,  3.50s/it]"
     ]
    },
    {
     "name": "stdout",
     "output_type": "stream",
     "text": [
      "ID: TEST_0076 Question: 제주시의 토지 거래량을 전년 동기 대비로 얼마나 늘었나 Generated answer: 31. 4 %, 27. 7 %\n"
     ]
    },
    {
     "name": "stderr",
     "output_type": "stream",
     "text": [
      "  5%|▌         | 78/1507 [04:29<1:22:33,  3.47s/it]"
     ]
    },
    {
     "name": "stdout",
     "output_type": "stream",
     "text": [
      "ID: TEST_0077 Question: 애월읍에서의 토지 거래량은 몇 필지, 면적은 몇 ㎡로 집계됐나 Generated answer: 1624필지, 116만6000㎡\n"
     ]
    },
    {
     "name": "stderr",
     "output_type": "stream",
     "text": [
      "  5%|▌         | 79/1507 [04:32<1:22:17,  3.46s/it]"
     ]
    },
    {
     "name": "stdout",
     "output_type": "stream",
     "text": [
      "ID: TEST_0078 Question: 제주지역 주택종합 매매가격지수 변동률은 지난해 12월에 얼마였나 Generated answer: 0. 00 %\n"
     ]
    },
    {
     "name": "stderr",
     "output_type": "stream",
     "text": [
      "  5%|▌         | 80/1507 [04:34<1:11:53,  3.02s/it]"
     ]
    },
    {
     "name": "stdout",
     "output_type": "stream",
     "text": [
      "ID: TEST_0079 Question: 제주도 부동산시장 상황은 어떻게 평가되고 있는가 Generated answer: 하지만 여전히 전체적인 토지가격이 하락세를 벗어나지 못하고 있고, 아파트를 제외한 연립ㆍ단독주택 가격도 마이너스를 나타내고 있어 좀 더 지켜봐야 한다는 분석도 나오고 있다.\n"
     ]
    },
    {
     "name": "stderr",
     "output_type": "stream",
     "text": [
      "  5%|▌         | 81/1507 [04:36<1:05:47,  2.77s/it]"
     ]
    },
    {
     "name": "stdout",
     "output_type": "stream",
     "text": [
      "ID: TEST_0080 Question: 소통협력센터 리모델링 공사가 완료되는 시점은 언제인가 Generated answer: 오는 7월\n"
     ]
    },
    {
     "name": "stderr",
     "output_type": "stream",
     "text": [
      "  5%|▌         | 82/1507 [04:38<55:41,  2.35s/it]  "
     ]
    },
    {
     "name": "stdout",
     "output_type": "stream",
     "text": [
      "ID: TEST_0081 Question: 소통협력센터 리모델링에 투입된 총 예산은 얼마인가 Generated answer: 총 70억\n"
     ]
    },
    {
     "name": "stderr",
     "output_type": "stream",
     "text": [
      "  6%|▌         | 83/1507 [04:39<52:29,  2.21s/it]"
     ]
    },
    {
     "name": "stdout",
     "output_type": "stream",
     "text": [
      "ID: TEST_0082 Question: 소통협력센터 리모델링의 건축연면적 규모는 얼마나 되는가 Generated answer: 4631㎡\n"
     ]
    },
    {
     "name": "stderr",
     "output_type": "stream",
     "text": [
      "  6%|▌         | 84/1507 [04:41<45:00,  1.90s/it]"
     ]
    },
    {
     "name": "stdout",
     "output_type": "stream",
     "text": [
      "ID: TEST_0083 Question: 소통협력센터의 5층에 어떤 시설이 들어가는가 Generated answer: 다목적 강당과 공유주방 ( 모두의 부엌 )\n"
     ]
    },
    {
     "name": "stderr",
     "output_type": "stream",
     "text": [
      "  6%|▌         | 85/1507 [04:42<43:47,  1.85s/it]"
     ]
    },
    {
     "name": "stdout",
     "output_type": "stream",
     "text": [
      "ID: TEST_0084 Question: 소통협력센터에 설치된 주차장은 몇 층에 위치하는가 Generated answer: 지하 1ㆍ2층\n"
     ]
    },
    {
     "name": "stderr",
     "output_type": "stream",
     "text": [
      "  6%|▌         | 86/1507 [04:44<42:24,  1.79s/it]"
     ]
    },
    {
     "name": "stdout",
     "output_type": "stream",
     "text": [
      "ID: TEST_0085 Question: 광주 상무지구 유흥업소 관련 코로나19 확진자가 처음 확인된 날짜는 언제인가 Generated answer: 지난 12일\n"
     ]
    },
    {
     "name": "stderr",
     "output_type": "stream",
     "text": [
      "  6%|▌         | 87/1507 [04:48<57:59,  2.45s/it]"
     ]
    },
    {
     "name": "stdout",
     "output_type": "stream",
     "text": [
      "ID: TEST_0086 Question: 광주 서구에 사는 40대 남성 A씨가 코로나19 확진판정을 받아 몇 번째 확진자로 분류되었나 Generated answer: 광주 217번\n"
     ]
    },
    {
     "name": "stderr",
     "output_type": "stream",
     "text": [
      "  6%|▌         | 88/1507 [04:51<1:03:00,  2.66s/it]"
     ]
    },
    {
     "name": "stdout",
     "output_type": "stream",
     "text": [
      "ID: TEST_0087 Question: 광주시는 어디에 위치한 몇 개의 유흥업소에 방문한 확진자들을 확인했는가 Generated answer: 상무지구에 위치한 18곳\n"
     ]
    },
    {
     "name": "stderr",
     "output_type": "stream",
     "text": [
      "  6%|▌         | 89/1507 [04:55<1:10:58,  3.00s/it]"
     ]
    },
    {
     "name": "stdout",
     "output_type": "stream",
     "text": [
      "ID: TEST_0088 Question: 광주시는 광주지역 클럽, 노래방, 유흥주점 등 모든 유흥업소에 대한 집합금지 및 시설폐쇄를 언제까지 내렸는가 Generated answer: 오는 25일까지\n"
     ]
    },
    {
     "name": "stderr",
     "output_type": "stream",
     "text": [
      "  6%|▌         | 90/1507 [04:57<1:06:50,  2.83s/it]"
     ]
    },
    {
     "name": "stdout",
     "output_type": "stream",
     "text": [
      "ID: TEST_0089 Question: 광주시는 어떤 사항들을 동원해서 확진자 접촉자를 확식하려는가 Generated answer: 휴대전화 위성위치확인시스템 ( GPS ), 폐쇄회로TV ( CCTV ), 의료 기록, 신용카드 내역 조회 등 접근 가능한 모든 방법을 동원할 방침이다.\n"
     ]
    },
    {
     "name": "stderr",
     "output_type": "stream",
     "text": [
      "  6%|▌         | 91/1507 [05:00<1:08:46,  2.91s/it]"
     ]
    },
    {
     "name": "stdout",
     "output_type": "stream",
     "text": [
      "ID: TEST_0090 Question: 삼성전자가 세척부터 건조·살균까지 업그레이드해 출시한 신제품은 무엇인가 Generated answer: ##포크 식기세척기 '\n"
     ]
    },
    {
     "name": "stderr",
     "output_type": "stream",
     "text": [
      "  6%|▌         | 92/1507 [05:04<1:14:14,  3.15s/it]"
     ]
    },
    {
     "name": "stdout",
     "output_type": "stream",
     "text": [
      "ID: TEST_0091 Question: 새롭게 출시된 비스포크 식기세척기의 새로운 기능 두 가지는 무엇인가 Generated answer: ' 360도 제트샷'과'열풍건조 '\n"
     ]
    },
    {
     "name": "stderr",
     "output_type": "stream",
     "text": [
      "  6%|▌         | 93/1507 [05:08<1:20:14,  3.40s/it]"
     ]
    },
    {
     "name": "stdout",
     "output_type": "stream",
     "text": [
      "ID: TEST_0092 Question: 와인잔을 놓을 수 있는 부분을 추가한 것은 어떤 모델인가 Generated answer: 일부 모델에는 다양한 크기의 와인잔을 놓을 수 있는'접이식 와인잔 랙'도 추가됐다.\n"
     ]
    },
    {
     "name": "stderr",
     "output_type": "stream",
     "text": [
      "  6%|▌         | 94/1507 [05:12<1:26:05,  3.66s/it]"
     ]
    },
    {
     "name": "stdout",
     "output_type": "stream",
     "text": [
      "ID: TEST_0093 Question: 비스포크 식기세척기의 출고가는 어느 범위인가 Generated answer: 144 ~ 184만원\n"
     ]
    },
    {
     "name": "stderr",
     "output_type": "stream",
     "text": [
      "  6%|▋         | 95/1507 [05:16<1:23:17,  3.54s/it]"
     ]
    },
    {
     "name": "stdout",
     "output_type": "stream",
     "text": [
      "ID: TEST_0094 Question: 비스포크 식기세척기 고객 체험단 응모 기간은 언제까지인가 Generated answer: 11일부터 내달 8일까지\n"
     ]
    },
    {
     "name": "stderr",
     "output_type": "stream",
     "text": [
      "  6%|▋         | 96/1507 [05:19<1:22:59,  3.53s/it]"
     ]
    },
    {
     "name": "stdout",
     "output_type": "stream",
     "text": [
      "ID: TEST_0095 Question: 대검 참모진들이 유임을 희망하는 이유는 무엇인가 Generated answer: 추 장관의 밀어붙이기식 인사와 직제개편에 대한 항의\n"
     ]
    },
    {
     "name": "stderr",
     "output_type": "stream",
     "text": [
      "  6%|▋         | 97/1507 [05:23<1:27:24,  3.72s/it]"
     ]
    },
    {
     "name": "stdout",
     "output_type": "stream",
     "text": [
      "ID: TEST_0096 Question: 법무부 검찰국 검찰과에 제출되는 중간간부 인사 대상자들의 희망 순위는 몇 개인가 Generated answer: 1 ~ 4순위\n"
     ]
    },
    {
     "name": "stderr",
     "output_type": "stream",
     "text": [
      "  7%|▋         | 98/1507 [05:27<1:26:11,  3.67s/it]"
     ]
    },
    {
     "name": "stdout",
     "output_type": "stream",
     "text": [
      "ID: TEST_0097 Question: 검사 전보 및 보직관리 등에 관한 규칙은 중간간부의 필수보직 기간을 몇 년으로 정하고 있는가 Generated answer: 1년으로\n"
     ]
    },
    {
     "name": "stderr",
     "output_type": "stream",
     "text": [
      "  7%|▋         | 99/1507 [05:30<1:23:35,  3.56s/it]"
     ]
    },
    {
     "name": "stdout",
     "output_type": "stream",
     "text": [
      "ID: TEST_0098 Question: 윤석열 총장이 유임시키라고 의사를 전달한 검사부장의 이름은 무엇인가 Generated answer: 배용원\n"
     ]
    },
    {
     "name": "stderr",
     "output_type": "stream",
     "text": [
      "  7%|▋         | 100/1507 [05:34<1:27:43,  3.74s/it]"
     ]
    },
    {
     "name": "stdout",
     "output_type": "stream",
     "text": [
      "ID: TEST_0099 Question: 배용원 검사장이 유임의 필요성을 주장한 이유는 무엇인가 Generated answer: 4 · 15 총선 선거사범의 공소시효는 대부분 오는 10월 15일로 끝나는 상황에서\n"
     ]
    },
    {
     "name": "stderr",
     "output_type": "stream",
     "text": [
      "  7%|▋         | 101/1507 [05:38<1:26:20,  3.68s/it]"
     ]
    },
    {
     "name": "stdout",
     "output_type": "stream",
     "text": [
      "ID: TEST_0100 Question: 올해 경기도 아파트값 상승률은 얼마나 된다고 한단다 Generated answer: 8. 26 %\n"
     ]
    },
    {
     "name": "stderr",
     "output_type": "stream",
     "text": [
      "  7%|▋         | 102/1507 [05:41<1:23:36,  3.57s/it]"
     ]
    },
    {
     "name": "stdout",
     "output_type": "stream",
     "text": [
      "ID: TEST_0101 Question: 수도권에서 집값이 가장 많이 오른 지역은 어떤 곳인가 Generated answer: 구리시다.\n"
     ]
    },
    {
     "name": "stderr",
     "output_type": "stream",
     "text": [
      "  7%|▋         | 103/1507 [05:45<1:25:14,  3.64s/it]"
     ]
    },
    {
     "name": "stdout",
     "output_type": "stream",
     "text": [
      "ID: TEST_0102 Question: 팔달구와 권선구의 아파트 가격이 상승한 비율은 몇 퍼센트인가 Generated answer: 18. 01 %\n"
     ]
    },
    {
     "name": "stderr",
     "output_type": "stream",
     "text": [
      "  7%|▋         | 104/1507 [05:48<1:22:11,  3.52s/it]"
     ]
    },
    {
     "name": "stdout",
     "output_type": "stream",
     "text": [
      "ID: TEST_0103 Question: 올해 서울 아파트 평균 매매가격은 얼마나 되는가 Generated answer: 8억8855만원\n"
     ]
    },
    {
     "name": "stderr",
     "output_type": "stream",
     "text": [
      "  7%|▋         | 105/1507 [05:52<1:25:27,  3.66s/it]"
     ]
    },
    {
     "name": "stdout",
     "output_type": "stream",
     "text": [
      "ID: TEST_0104 Question: 지난해 말 4억4152만원이었던 구리시 평균 매매가격이 현재 얼마인가 Generated answer: 5억4981만원\n"
     ]
    },
    {
     "name": "stderr",
     "output_type": "stream",
     "text": [
      "  7%|▋         | 106/1507 [05:56<1:22:52,  3.55s/it]"
     ]
    },
    {
     "name": "stdout",
     "output_type": "stream",
     "text": [
      "ID: TEST_0105 Question: 서울 목동에 사는 A씨의 직업은 무엇인가 Generated answer: 서울 목동에 사는 교사\n"
     ]
    },
    {
     "name": "stderr",
     "output_type": "stream",
     "text": [
      "  7%|▋         | 107/1507 [05:59<1:21:08,  3.48s/it]"
     ]
    },
    {
     "name": "stdout",
     "output_type": "stream",
     "text": [
      "ID: TEST_0106 Question: A씨가 시부모님을 찾아뵙지 않은 건 몇 년 만인가 Generated answer: 12년 만에 처음\n"
     ]
    },
    {
     "name": "stderr",
     "output_type": "stream",
     "text": [
      "  7%|▋         | 108/1507 [06:03<1:24:24,  3.62s/it]"
     ]
    },
    {
     "name": "stdout",
     "output_type": "stream",
     "text": [
      "ID: TEST_0107 Question: 전북 완주군 이서면 아파트 주민들이 벌인 캠페인의 대상 연령은 얼마인가 Generated answer: 60 ~ 80대\n"
     ]
    },
    {
     "name": "stderr",
     "output_type": "stream",
     "text": [
      "  7%|▋         | 109/1507 [06:07<1:25:30,  3.67s/it]"
     ]
    },
    {
     "name": "stdout",
     "output_type": "stream",
     "text": [
      "ID: TEST_0108 Question: 알바천국'의 조사대상이었던 사람들 중 추석에 고향에 가지 않거나 고민하는 사람의 비율은 얼마인가 Generated answer: 64. 7 %\n"
     ]
    },
    {
     "name": "stderr",
     "output_type": "stream",
     "text": [
      "  7%|▋         | 110/1507 [06:10<1:22:48,  3.56s/it]"
     ]
    },
    {
     "name": "stdout",
     "output_type": "stream",
     "text": [
      "ID: TEST_0109 Question: 추석연휴 기간 제주도를 찾을 것으로 예상되는 사람 수는 얼마인가 Generated answer: 약 19만8000명\n"
     ]
    },
    {
     "name": "stderr",
     "output_type": "stream",
     "text": [
      "  7%|▋         | 111/1507 [06:13<1:20:56,  3.48s/it]"
     ]
    },
    {
     "name": "stdout",
     "output_type": "stream",
     "text": [
      "ID: TEST_0110 Question: A씨는 어떤 일을 하며 어떤 사고를 당했나요 Generated answer: 쿠팡플렉스 ( 일반인이 자기 차량으로 쿠팡 물품을 배달하는 아르바이트 )\n"
     ]
    },
    {
     "name": "stderr",
     "output_type": "stream",
     "text": [
      "  7%|▋         | 112/1507 [06:16<1:19:45,  3.43s/it]"
     ]
    },
    {
     "name": "stdout",
     "output_type": "stream",
     "text": [
      "ID: TEST_0111 Question: 쿠팡플렉스 등 배달플랫폼에서 개인 차량을 이용해 유상 운송에 종사하는 운전자가 보험 사각지대에 놓여 있다는 지적을 한 곳은 어디인가요 Generated answer: 삼성화재 부설 삼성교통안전문화연구소\n"
     ]
    },
    {
     "name": "stderr",
     "output_type": "stream",
     "text": [
      "  7%|▋         | 113/1507 [06:20<1:21:35,  3.51s/it]"
     ]
    },
    {
     "name": "stdout",
     "output_type": "stream",
     "text": [
      "ID: TEST_0112 Question: 올해 쿠팡플렉스, 배민커넥트 등의 화물을 운송하고 있는 운전자 수는 몇 명인가요 Generated answer: 10만 명\n"
     ]
    },
    {
     "name": "stderr",
     "output_type": "stream",
     "text": [
      "  8%|▊         | 114/1507 [06:24<1:25:06,  3.67s/it]"
     ]
    },
    {
     "name": "stdout",
     "output_type": "stream",
     "text": [
      "ID: TEST_0113 Question: 올해 9월까지 유상운송 특약에 가입한 차량은 몇 대인가요 Generated answer: 550대에\n"
     ]
    },
    {
     "name": "stderr",
     "output_type": "stream",
     "text": [
      "  8%|▊         | 115/1507 [06:28<1:24:19,  3.63s/it]"
     ]
    },
    {
     "name": "stdout",
     "output_type": "stream",
     "text": [
      "ID: TEST_0114 Question: 유상운송 특약에 가입하면 기존 차 보험료의 몇 퍼센트 수준을 더 내야 하는가요 Generated answer: 40 % 수준\n"
     ]
    },
    {
     "name": "stderr",
     "output_type": "stream",
     "text": [
      "  8%|▊         | 116/1507 [06:31<1:23:51,  3.62s/it]"
     ]
    },
    {
     "name": "stdout",
     "output_type": "stream",
     "text": [
      "ID: TEST_0115 Question: 신 모 씨가 구매한 스피커의 브랜드는 무엇인가 Generated answer: 뱅앤올룹슨\n"
     ]
    },
    {
     "name": "stderr",
     "output_type": "stream",
     "text": [
      "  8%|▊         | 117/1507 [06:35<1:25:47,  3.70s/it]"
     ]
    },
    {
     "name": "stdout",
     "output_type": "stream",
     "text": [
      "ID: TEST_0116 Question: 이마트의 TV와 안마의자 매출이 2021년 2월부터 이달 11일까지 지난해 같은 기간 대비 얼마나 증가했나 Generated answer: 25 %, 18 %\n"
     ]
    },
    {
     "name": "stderr",
     "output_type": "stream",
     "text": [
      "  8%|▊         | 118/1507 [06:40<1:30:30,  3.91s/it]"
     ]
    },
    {
     "name": "stdout",
     "output_type": "stream",
     "text": [
      "ID: TEST_0117 Question: 전자랜드의 컴퓨터 매출이 2021년 2월부터 이달 6일까지 얼마나 증가했는가 Generated answer: 56 % 늘었다고 했다.\n"
     ]
    },
    {
     "name": "stderr",
     "output_type": "stream",
     "text": [
      "  8%|▊         | 119/1507 [06:44<1:36:22,  4.17s/it]"
     ]
    },
    {
     "name": "stdout",
     "output_type": "stream",
     "text": [
      "ID: TEST_0118 Question: 굳닷컴의 온라인 쇼핑몰 매출이 지난달 리뉴얼 후 한 달 만에 얼마나 증가했나 Generated answer: 141 % 증가\n"
     ]
    },
    {
     "name": "stderr",
     "output_type": "stream",
     "text": [
      "  8%|▊         | 120/1507 [06:48<1:35:34,  4.13s/it]"
     ]
    },
    {
     "name": "stdout",
     "output_type": "stream",
     "text": [
      "ID: TEST_0119 Question: 한샘과 현대리바트의 올해 매출 전망은 얼마인가 Generated answer: 3조원\n"
     ]
    },
    {
     "name": "stderr",
     "output_type": "stream",
     "text": [
      "  8%|▊         | 121/1507 [06:51<1:22:13,  3.56s/it]"
     ]
    },
    {
     "name": "stdout",
     "output_type": "stream",
     "text": [
      "ID: TEST_0120 Question: 갤럭시 노트 20 사전 예약은 언제부터 언제까지 진행되나요 Generated answer: 7일부터 13일까지\n"
     ]
    },
    {
     "name": "stderr",
     "output_type": "stream",
     "text": [
      "  8%|▊         | 122/1507 [06:54<1:20:16,  3.48s/it]"
     ]
    },
    {
     "name": "stdout",
     "output_type": "stream",
     "text": [
      "ID: TEST_0121 Question: 갤럭시 노트20의 공식 출시 날짜는 언제인가요 Generated answer: 오는 21일\n"
     ]
    },
    {
     "name": "stderr",
     "output_type": "stream",
     "text": [
      "  8%|▊         | 123/1507 [06:56<1:12:10,  3.13s/it]"
     ]
    },
    {
     "name": "stdout",
     "output_type": "stream",
     "text": [
      "ID: TEST_0122 Question: 갤럭시 노트20 시리즈의 가격은 얼마인가요 Generated answer: 119만9000원\n"
     ]
    },
    {
     "name": "stderr",
     "output_type": "stream",
     "text": [
      "  8%|▊         | 124/1507 [06:59<1:12:28,  3.14s/it]"
     ]
    },
    {
     "name": "stdout",
     "output_type": "stream",
     "text": [
      "ID: TEST_0123 Question: 갤럭시 노트20 울트라 가격은 어떻게 되나요 Generated answer: 145만2000원\n"
     ]
    },
    {
     "name": "stderr",
     "output_type": "stream",
     "text": [
      "  8%|▊         | 125/1507 [07:04<1:21:00,  3.52s/it]"
     ]
    },
    {
     "name": "stdout",
     "output_type": "stream",
     "text": [
      "ID: TEST_0124 Question: 갤럭시 노트20 사전 예약 후 제품을 수령하고 개통할 수 있는 날은 언제인가요 Generated answer: 오는 14일\n"
     ]
    },
    {
     "name": "stderr",
     "output_type": "stream",
     "text": [
      "  8%|▊         | 126/1507 [07:08<1:27:03,  3.78s/it]"
     ]
    },
    {
     "name": "stdout",
     "output_type": "stream",
     "text": [
      "ID: TEST_0125 Question: 불안감으로 인해 잠을 줄이고 공부하려는 행태는 어떤 결과를 가져올 수 있나요 Generated answer: 역효과를 낼 가능성이 많다. 일찍 깨서 공부를 하는 등 갑자기 수면패턴을 바꾸는 것도 오히려 잠을 더 못자고 시간만 허비할 수 있다.\n"
     ]
    },
    {
     "name": "stderr",
     "output_type": "stream",
     "text": [
      "  8%|▊         | 127/1507 [07:13<1:31:24,  3.97s/it]"
     ]
    },
    {
     "name": "stdout",
     "output_type": "stream",
     "text": [
      "ID: TEST_0126 Question: 정석훈 울산의대 서울아산병원 정신의학과 교수는 수험생이 가져야 하는 최소 수면 시간은 몇 시간이라고 말했나요 Generated answer: 6시간은\n"
     ]
    },
    {
     "name": "stderr",
     "output_type": "stream",
     "text": [
      "  8%|▊         | 128/1507 [07:19<1:45:41,  4.60s/it]"
     ]
    },
    {
     "name": "stdout",
     "output_type": "stream",
     "text": [
      "ID: TEST_0127 Question: 자녀가 잘 먹는 음식 위주로 준비하기보다 아침 식사는 어떤 것을 충분히 포함시켜야 하는가요 Generated answer: 탄수화물과 신선한 야채\n"
     ]
    },
    {
     "name": "stderr",
     "output_type": "stream",
     "text": [
      "  9%|▊         | 129/1507 [07:24<1:48:01,  4.70s/it]"
     ]
    },
    {
     "name": "stdout",
     "output_type": "stream",
     "text": [
      "ID: TEST_0128 Question: 수험생들이 신경안정제를 꼭 복용하고 싶다면 자신들이 어떤 선택을 해야 하는가요 Generated answer: 또 수능에 대한 불안감이 커서 신경안정제를 꼭 복용하고 싶다면 반드시 사전에 전문가와 상의해 약물을 사용해야 할 정도인지를 평가하고 섭취해야 한다.\n"
     ]
    },
    {
     "name": "stderr",
     "output_type": "stream",
     "text": [
      "  9%|▊         | 130/1507 [07:27<1:38:23,  4.29s/it]"
     ]
    },
    {
     "name": "stdout",
     "output_type": "stream",
     "text": [
      "ID: TEST_0129 Question: 건강 관리를 위해 실내 온도를 얼마로 유지해야 하는가요 Generated answer: 18 ~ 22도\n"
     ]
    },
    {
     "name": "stderr",
     "output_type": "stream",
     "text": [
      "  9%|▊         | 131/1507 [07:32<1:43:05,  4.50s/it]"
     ]
    },
    {
     "name": "stdout",
     "output_type": "stream",
     "text": [
      "ID: TEST_0130 Question: SK바이오팜의 주력 제품 세노바메이트가 미국에서 판매되는 명칭은 무엇인가 Generated answer: 엑스코프리 ’\n"
     ]
    },
    {
     "name": "stderr",
     "output_type": "stream",
     "text": [
      "  9%|▉         | 132/1507 [07:37<1:46:08,  4.63s/it]"
     ]
    },
    {
     "name": "stdout",
     "output_type": "stream",
     "text": [
      "ID: TEST_0131 Question: 세노바메이트의 판매가 시작된 시기는 언제인가 Generated answer: 지난 5월\n"
     ]
    },
    {
     "name": "stderr",
     "output_type": "stream",
     "text": [
      "  9%|▉         | 133/1507 [07:42<1:47:37,  4.70s/it]"
     ]
    },
    {
     "name": "stdout",
     "output_type": "stream",
     "text": [
      "ID: TEST_0132 Question: 세노바메이트의 미국 판매를 맡은 SK바이오팜의 자회사는 무엇인가 Generated answer: SK라이프사이언스\n"
     ]
    },
    {
     "name": "stderr",
     "output_type": "stream",
     "text": [
      "  9%|▉         | 134/1507 [07:47<1:48:24,  4.74s/it]"
     ]
    },
    {
     "name": "stdout",
     "output_type": "stream",
     "text": [
      "ID: TEST_0133 Question: 세노바메이트를 유럽에서 판매하려면 어떤 기관의 허가가 필요한가 Generated answer: 유럽의약품청 ( EMA )\n"
     ]
    },
    {
     "name": "stderr",
     "output_type": "stream",
     "text": [
      "  9%|▉         | 135/1507 [07:51<1:44:31,  4.57s/it]"
     ]
    },
    {
     "name": "stdout",
     "output_type": "stream",
     "text": [
      "ID: TEST_0134 Question: SK바이오팜이 준비 중인 신규 파이프라인은 몇 건인가 Generated answer: 7건의\n"
     ]
    },
    {
     "name": "stderr",
     "output_type": "stream",
     "text": [
      "  9%|▉         | 136/1507 [07:56<1:46:34,  4.66s/it]"
     ]
    },
    {
     "name": "stdout",
     "output_type": "stream",
     "text": [
      "ID: TEST_0135 Question: 앤트그룹이 이번 기업공개(IPO)로 어느 정도의 금액을 조달할 계획이었나 Generated answer: 약 345억 달러 ( 약 39조 1500억원 )\n"
     ]
    },
    {
     "name": "stderr",
     "output_type": "stream",
     "text": [
      "  9%|▉         | 137/1507 [08:00<1:41:43,  4.45s/it]"
     ]
    },
    {
     "name": "stdout",
     "output_type": "stream",
     "text": [
      "ID: TEST_0136 Question: 앤트그룹의 상장을 무기한 연기시킨 중국의 기관은 무엇인가 Generated answer: 상하이 증권거래소\n"
     ]
    },
    {
     "name": "stderr",
     "output_type": "stream",
     "text": [
      "  9%|▉         | 138/1507 [08:03<1:37:08,  4.26s/it]"
     ]
    },
    {
     "name": "stdout",
     "output_type": "stream",
     "text": [
      "ID: TEST_0137 Question: 중국의 어떤 위원회가 앤트그룹 경영진을 포함한 마윈을 소환했나 Generated answer: 중국증권감독위원회\n"
     ]
    },
    {
     "name": "stderr",
     "output_type": "stream",
     "text": [
      "  9%|▉         | 139/1507 [08:09<1:45:38,  4.63s/it]"
     ]
    },
    {
     "name": "stdout",
     "output_type": "stream",
     "text": [
      "ID: TEST_0138 Question: 중국 증권거래소는 앤트그룹의 상장을 어떤 상태로 바꿨나 Generated answer: 하지만 3일 저녁 늦게 기류가 바뀌었다. 상하이 증권거래소는 공고문을 내고 앤트그룹의 상장을 잠정 중단\n"
     ]
    },
    {
     "name": "stderr",
     "output_type": "stream",
     "text": [
      "  9%|▉         | 140/1507 [08:13<1:44:03,  4.57s/it]"
     ]
    },
    {
     "name": "stdout",
     "output_type": "stream",
     "text": [
      "ID: TEST_0139 Question: 증시 데뷔와 관련한 앤트그룹의 운명은 누구의 손에 들어갔나 Generated answer: 중국 당국의 손에 들어갔다.\n"
     ]
    },
    {
     "name": "stderr",
     "output_type": "stream",
     "text": [
      "  9%|▉         | 141/1507 [08:14<1:20:20,  3.53s/it]"
     ]
    },
    {
     "name": "stdout",
     "output_type": "stream",
     "text": [
      "ID: TEST_0140 Question: 공직자와 공직자 가족이 부동산 거래 시 의무적으로 신고해야 하도록 하는 법안을 대표 발의한 정당은 무엇인가 Generated answer: 더불어민주당\n"
     ]
    },
    {
     "name": "stderr",
     "output_type": "stream",
     "text": [
      "  9%|▉         | 142/1507 [08:16<1:03:45,  2.80s/it]"
     ]
    },
    {
     "name": "stdout",
     "output_type": "stream",
     "text": [
      "ID: TEST_0141 Question: 공직자와 공직자의 가족이 부동산 거래 시 신고를 의무화하려는 법안을 발의한 국회의원의 이름은 무엇인가 Generated answer: 김회재\n"
     ]
    },
    {
     "name": "stderr",
     "output_type": "stream",
     "text": [
      "  9%|▉         | 143/1507 [08:18<59:34,  2.62s/it]  "
     ]
    },
    {
     "name": "stdout",
     "output_type": "stream",
     "text": [
      "ID: TEST_0142 Question: 개정안에 따르면, 부동산 거래를 신고한 후 누가 사실 여부를 확인하고 업무상 비밀 이용금지 위반 및 투기여부를 조사하게 되는가 Generated answer: 신고를 받은 기관장\n"
     ]
    },
    {
     "name": "stderr",
     "output_type": "stream",
     "text": [
      " 10%|▉         | 144/1507 [08:20<56:37,  2.49s/it]"
     ]
    },
    {
     "name": "stdout",
     "output_type": "stream",
     "text": [
      "ID: TEST_0143 Question: 공무원이나 공공기관 임직원이 일반 국민이 알기 어려운 어떤 정보를 사전에 취득할 수 있게 되는가 Generated answer: 중요 개발 정보\n"
     ]
    },
    {
     "name": "stderr",
     "output_type": "stream",
     "text": [
      " 10%|▉         | 145/1507 [08:21<49:16,  2.17s/it]"
     ]
    },
    {
     "name": "stdout",
     "output_type": "stream",
     "text": [
      "ID: TEST_0144 Question: 법안이 개정되면 어떤 행위를 사전에 방지할 수 있게 된다고 김회재 의원이 언급한 것은 무엇인가 Generated answer: 부동산 투기를\n"
     ]
    },
    {
     "name": "stderr",
     "output_type": "stream",
     "text": [
      " 10%|▉         | 146/1507 [08:25<1:02:24,  2.75s/it]"
     ]
    },
    {
     "name": "stdout",
     "output_type": "stream",
     "text": [
      "ID: TEST_0145 Question: 김웅 국민의힘 의원이 주장한 인천국제공항 사태의 원인은 무엇인가 Generated answer: 청와대가 개입하면서 이 사달이 났다 \" 고\n"
     ]
    },
    {
     "name": "stderr",
     "output_type": "stream",
     "text": [
      " 10%|▉         | 147/1507 [08:30<1:13:41,  3.25s/it]"
     ]
    },
    {
     "name": "stdout",
     "output_type": "stream",
     "text": [
      "ID: TEST_0146 Question: 야당이 주장한 인천국제공항 사태의 원인은 어떤 것인가 Generated answer: 청와대의 무리한 개입 '\n"
     ]
    },
    {
     "name": "stderr",
     "output_type": "stream",
     "text": [
      " 10%|▉         | 148/1507 [08:35<1:28:56,  3.93s/it]"
     ]
    },
    {
     "name": "stdout",
     "output_type": "stream",
     "text": [
      "ID: TEST_0147 Question: 본사 직고용을 하려면 현행 법령상 어떤 전환을 해야 하는가 Generated answer: 특수경비업을 수행하던 요원들을 청원경찰\n"
     ]
    },
    {
     "name": "stderr",
     "output_type": "stream",
     "text": [
      " 10%|▉         | 149/1507 [08:41<1:39:38,  4.40s/it]"
     ]
    },
    {
     "name": "stdout",
     "output_type": "stream",
     "text": [
      "ID: TEST_0148 Question: 여당이 주장한 본사 직고용 결정에 대한 합의 시점은 언제인가 Generated answer: 2017년부터\n"
     ]
    },
    {
     "name": "stderr",
     "output_type": "stream",
     "text": [
      " 10%|▉         | 150/1507 [08:46<1:46:58,  4.73s/it]"
     ]
    },
    {
     "name": "stdout",
     "output_type": "stream",
     "text": [
      "ID: TEST_0149 Question: 구본환 전 인국공 사장의 국정감사 출석을 거부한 이유는 무엇인가 Generated answer: 건강상의 사유 '\n"
     ]
    },
    {
     "name": "stderr",
     "output_type": "stream",
     "text": [
      " 10%|█         | 151/1507 [08:50<1:37:17,  4.30s/it]"
     ]
    },
    {
     "name": "stdout",
     "output_type": "stream",
     "text": [
      "ID: TEST_0150 Question: 지난 10년간 영아 유기 사건은 몇 건 발생했나 Generated answer: 1272건\n"
     ]
    },
    {
     "name": "stderr",
     "output_type": "stream",
     "text": [
      " 10%|█         | 152/1507 [08:56<1:52:41,  4.99s/it]"
     ]
    },
    {
     "name": "stdout",
     "output_type": "stream",
     "text": [
      "ID: TEST_0151 Question: 2019년 국내외 입양 아동 중 미혼모 아동의 비율은 얼마나 되나 Generated answer: 91. 8 %\n"
     ]
    },
    {
     "name": "stderr",
     "output_type": "stream",
     "text": [
      " 10%|█         | 153/1507 [09:01<1:52:34,  4.99s/it]"
     ]
    },
    {
     "name": "stdout",
     "output_type": "stream",
     "text": [
      "ID: TEST_0152 Question: 내년부터 아동양육비를 받을 수 있는 청소년 한부모가족의 연령 제한이 어떻게 변경되나 Generated answer: 만 24세 이하\n"
     ]
    },
    {
     "name": "stderr",
     "output_type": "stream",
     "text": [
      " 10%|█         | 154/1507 [09:07<1:59:32,  5.30s/it]"
     ]
    },
    {
     "name": "stdout",
     "output_type": "stream",
     "text": [
      "ID: TEST_0153 Question: 현재 얼마나 되는 미혼모 중 청소년 미혼모의 비율은 어느 정도인가 Generated answer: 8. 4 %\n"
     ]
    },
    {
     "name": "stderr",
     "output_type": "stream",
     "text": [
      " 10%|█         | 155/1507 [09:11<1:51:29,  4.95s/it]"
     ]
    },
    {
     "name": "stdout",
     "output_type": "stream",
     "text": [
      "ID: TEST_0154 Question: 양육비 채무자에 대한 양육비 미지급 시 어떤 제재를 가하는가 Generated answer: 운전면허를 정지\n"
     ]
    },
    {
     "name": "stderr",
     "output_type": "stream",
     "text": [
      " 10%|█         | 156/1507 [09:15<1:42:15,  4.54s/it]"
     ]
    },
    {
     "name": "stdout",
     "output_type": "stream",
     "text": [
      "ID: TEST_0155 Question: 전국경제인연합회가 긴급 개최한 좌담회의 주제는 무엇이었나요 Generated answer: 미국 대통령 선거 개표에서 조 바이든 민주당 후보가 앞서가고 있지만 누가 대통령이 되든 ‘ 미국 우선주의 ’ 와 ‘ 미 · 중 갈등 ’ 은 이어질 것이라는 얘기다.\n"
     ]
    },
    {
     "name": "stderr",
     "output_type": "stream",
     "text": [
      " 10%|█         | 157/1507 [09:20<1:43:24,  4.60s/it]"
     ]
    },
    {
     "name": "stdout",
     "output_type": "stream",
     "text": [
      "ID: TEST_0156 Question: 좌담회에서 트럼프 대통령 재선이 될 경우 어떠한 경제 상황이 벌어질 것이라 예상했나요 Generated answer: 노골적인 보호무역주의와 양자주의, 중국에 대한 제재와 미 · 중 무역갈등은 더욱 심해질 것 ” 이라며 “ 코로나19로 인한 미국 경제 침체도 그 책임을 중국에 전가하게 될 것 ”\n"
     ]
    },
    {
     "name": "stderr",
     "output_type": "stream",
     "text": [
      " 10%|█         | 158/1507 [09:24<1:40:02,  4.45s/it]"
     ]
    },
    {
     "name": "stdout",
     "output_type": "stream",
     "text": [
      "ID: TEST_0157 Question: 바이든 후보가 당선된다면 어떤 차이점을 가져올 것으로 예상되나요 Generated answer: 트럼프 대통령에 비해 한국에 낫지 않겠나 하는 기대감이 있다 ” 고 했다.\n"
     ]
    },
    {
     "name": "stderr",
     "output_type": "stream",
     "text": [
      " 11%|█         | 159/1507 [09:28<1:38:49,  4.40s/it]"
     ]
    },
    {
     "name": "stdout",
     "output_type": "stream",
     "text": [
      "ID: TEST_0158 Question: 이들 전문가들이 바이든 후보에 대해 어떻게 평가하였나요 Generated answer: 전문가들은 바이든 후보가 외교 전문가라는 점을 강조했다.\n"
     ]
    },
    {
     "name": "stderr",
     "output_type": "stream",
     "text": [
      " 11%|█         | 160/1507 [09:34<1:45:24,  4.70s/it]"
     ]
    },
    {
     "name": "stdout",
     "output_type": "stream",
     "text": [
      "ID: TEST_0159 Question: 안호영 총장이 말했다는, 트럼프 대통령에 비해 바이든 후보가 한국에 더 나은 이유는 무엇인가요 Generated answer: 국제질서를 중시하기 때문에\n"
     ]
    },
    {
     "name": "stderr",
     "output_type": "stream",
     "text": [
      " 11%|█         | 161/1507 [09:37<1:33:43,  4.18s/it]"
     ]
    },
    {
     "name": "stdout",
     "output_type": "stream",
     "text": [
      "ID: TEST_0160 Question: 중국 금융당국이 앤트그룹의 상장을 연기한 날짜는 언제인가 Generated answer: 지난 3일\n"
     ]
    },
    {
     "name": "stderr",
     "output_type": "stream",
     "text": [
      " 11%|█         | 162/1507 [09:40<1:31:48,  4.10s/it]"
     ]
    },
    {
     "name": "stdout",
     "output_type": "stream",
     "text": [
      "ID: TEST_0161 Question: 앤트그룹이 이번 IPO를 통해 조달하려고 했던 금액은 얼마인가 Generated answer: 345억 달러\n"
     ]
    },
    {
     "name": "stderr",
     "output_type": "stream",
     "text": [
      " 11%|█         | 163/1507 [09:44<1:26:30,  3.86s/it]"
     ]
    },
    {
     "name": "stdout",
     "output_type": "stream",
     "text": [
      "ID: TEST_0162 Question: 앤트그룹이 제공하는 간편결제 서비스의 이름은 무엇인가 Generated answer: 알리페이를\n"
     ]
    },
    {
     "name": "stderr",
     "output_type": "stream",
     "text": [
      " 11%|█         | 164/1507 [09:47<1:22:44,  3.70s/it]"
     ]
    },
    {
     "name": "stdout",
     "output_type": "stream",
     "text": [
      "ID: TEST_0163 Question: 앤트그룹의 주력 사업은 무엇인가 Generated answer: 소액대출\n"
     ]
    },
    {
     "name": "stderr",
     "output_type": "stream",
     "text": [
      " 11%|█         | 165/1507 [09:51<1:25:11,  3.81s/it]"
     ]
    },
    {
     "name": "stdout",
     "output_type": "stream",
     "text": [
      "ID: TEST_0164 Question: 마윈이 알리바바 CEO 자리를 내려놓은 날짜는 언제인가 Generated answer: 2018년 10월\n"
     ]
    },
    {
     "name": "stderr",
     "output_type": "stream",
     "text": [
      " 11%|█         | 166/1507 [09:53<1:09:13,  3.10s/it]"
     ]
    },
    {
     "name": "stdout",
     "output_type": "stream",
     "text": [
      "ID: TEST_0165 Question: 함평군의 올해 개별공시지가는 전년대비 얼마나 상승했나 Generated answer: 9. 46 %\n"
     ]
    },
    {
     "name": "stderr",
     "output_type": "stream",
     "text": [
      " 11%|█         | 167/1507 [09:54<1:01:20,  2.75s/it]"
     ]
    },
    {
     "name": "stdout",
     "output_type": "stream",
     "text": [
      "ID: TEST_0166 Question: 개별공시지가를 산정하는 프로세스는 무엇인가 Generated answer: 개별공시지가는 국토부장관이 매년 공시하는 표준공시지가를 기준으로 조사한 개별 토지의 특성과 비교 표준지의 특성 등을 기준으로 산정하고\n"
     ]
    },
    {
     "name": "stderr",
     "output_type": "stream",
     "text": [
      " 11%|█         | 168/1507 [09:56<53:30,  2.40s/it]  "
     ]
    },
    {
     "name": "stdout",
     "output_type": "stream",
     "text": [
      "ID: TEST_0167 Question: 개별공시지가는 어디에서 확인할 수 있는가 Generated answer: 함평군청 홈페이지\n"
     ]
    },
    {
     "name": "stderr",
     "output_type": "stream",
     "text": [
      " 11%|█         | 169/1507 [09:57<45:53,  2.06s/it]"
     ]
    },
    {
     "name": "stdout",
     "output_type": "stream",
     "text": [
      "ID: TEST_0168 Question: 이의신청을 할 수 있는 마감일은 언제인가 Generated answer: 6월30일\n"
     ]
    },
    {
     "name": "stderr",
     "output_type": "stream",
     "text": [
      " 11%|█▏        | 170/1507 [09:59<41:02,  1.84s/it]"
     ]
    },
    {
     "name": "stdout",
     "output_type": "stream",
     "text": [
      "ID: TEST_0169 Question: 조정된 지가를 공시하는 날짜는 언제인가 Generated answer: 7월30일\n"
     ]
    },
    {
     "name": "stderr",
     "output_type": "stream",
     "text": [
      " 11%|█▏        | 171/1507 [10:04<1:01:29,  2.76s/it]"
     ]
    },
    {
     "name": "stdout",
     "output_type": "stream",
     "text": [
      "ID: TEST_0170 Question: SK텔레콤이 본인확인 서비스인 ‘소켓 인증’ 수수료를 얼마로 인상했나 Generated answer: 40원 수준\n"
     ]
    },
    {
     "name": "stderr",
     "output_type": "stream",
     "text": [
      " 11%|█▏        | 172/1507 [10:08<1:12:48,  3.27s/it]"
     ]
    },
    {
     "name": "stdout",
     "output_type": "stream",
     "text": [
      "ID: TEST_0171 Question: 통신사 본인인증은 어느 두 가지 방식으로 나뉘었는가 Generated answer: 문자 메시지로 받은 일련번호를 입력하는 문자인증과 이동통신3사가 2016년 만든 별도의 본인인증 애플리케이션 ‘ 패스 ( PASS ) ’ 를 이용한 패스인증\n"
     ]
    },
    {
     "name": "stderr",
     "output_type": "stream",
     "text": [
      " 11%|█▏        | 173/1507 [10:12<1:20:08,  3.60s/it]"
     ]
    },
    {
     "name": "stdout",
     "output_type": "stream",
     "text": [
      "ID: TEST_0172 Question: 많은 소비자가 통신사의 본인인증 중 어떤 인증을 선호하는가 Generated answer: 문자인증\n"
     ]
    },
    {
     "name": "stderr",
     "output_type": "stream",
     "text": [
      " 12%|█▏        | 174/1507 [10:19<1:37:01,  4.37s/it]"
     ]
    },
    {
     "name": "stdout",
     "output_type": "stream",
     "text": [
      "ID: TEST_0173 Question: 패스인증 수수료는 문자인증 수수료에 비해 어느 정도로 더 낮은가 Generated answer: 10원가량\n"
     ]
    },
    {
     "name": "stderr",
     "output_type": "stream",
     "text": [
      " 12%|█▏        | 175/1507 [10:23<1:40:14,  4.52s/it]"
     ]
    },
    {
     "name": "stdout",
     "output_type": "stream",
     "text": [
      "ID: TEST_0174 Question: 한 인증업계 관계자가 비판한 것은 통신3사의 어떤 행태인가 Generated answer: 특별히 문자인증 수수료를 인상할 이유가 없는데 올렸다. 가맹점이 사실상 패스인증만 선택하도록 한 것 ”\n"
     ]
    },
    {
     "name": "stderr",
     "output_type": "stream",
     "text": [
      " 12%|█▏        | 176/1507 [10:27<1:32:04,  4.15s/it]"
     ]
    },
    {
     "name": "stdout",
     "output_type": "stream",
     "text": [
      "ID: TEST_0175 Question: 추미애 법무부 장관이 지시한 감찰은 어떤 사건에 대한 것인가 Generated answer: 라임 사건 관련\n"
     ]
    },
    {
     "name": "stderr",
     "output_type": "stream",
     "text": [
      " 12%|█▏        | 177/1507 [10:31<1:30:52,  4.10s/it]"
     ]
    },
    {
     "name": "stdout",
     "output_type": "stream",
     "text": [
      "ID: TEST_0176 Question: 추 장관의 감찰 지시는 어느 총장을 겨냥한 것으로 해석되는가 Generated answer: 윤석열 검찰총장\n"
     ]
    },
    {
     "name": "stderr",
     "output_type": "stream",
     "text": [
      " 12%|█▏        | 178/1507 [10:34<1:24:28,  3.81s/it]"
     ]
    },
    {
     "name": "stdout",
     "output_type": "stream",
     "text": [
      "ID: TEST_0177 Question: 추 장관이 감찰 지시를 결정한 시간은 언제인가 Generated answer: 오후 7시 50분\n"
     ]
    },
    {
     "name": "stderr",
     "output_type": "stream",
     "text": [
      " 12%|█▏        | 179/1507 [10:37<1:17:51,  3.52s/it]"
     ]
    },
    {
     "name": "stdout",
     "output_type": "stream",
     "text": [
      "ID: TEST_0178 Question: 법무부 장관의 감찰 지시에 대해 어떤 법적 문제가 제기되었는가 Generated answer: 검찰청법의 취지를 정면으로 위반하는 것 \" 이라고 말했다. 그는 \" 대검 감찰부장이 법무부 장관의 지시에 따라 감찰에 착수하는 것 역시 위법하다 \" 고 덧붙였다.\n"
     ]
    },
    {
     "name": "stderr",
     "output_type": "stream",
     "text": [
      " 12%|█▏        | 180/1507 [10:40<1:16:22,  3.45s/it]"
     ]
    },
    {
     "name": "stdout",
     "output_type": "stream",
     "text": [
      "ID: TEST_0179 Question: 윤 총장이 감찰 지시에 대해 소상히 해명한 사항은 무엇인가 Generated answer: 검사 비위 의혹\n"
     ]
    },
    {
     "name": "stderr",
     "output_type": "stream",
     "text": [
      " 12%|█▏        | 181/1507 [10:42<1:05:06,  2.95s/it]"
     ]
    },
    {
     "name": "stdout",
     "output_type": "stream",
     "text": [
      "ID: TEST_0180 Question: 완도군이 4일부터 개최하는 행사는 무엇인가 Generated answer: 설맞이 완도 수산물 판촉전 '\n"
     ]
    },
    {
     "name": "stderr",
     "output_type": "stream",
     "text": [
      " 12%|█▏        | 182/1507 [10:43<55:42,  2.52s/it]  "
     ]
    },
    {
     "name": "stdout",
     "output_type": "stream",
     "text": [
      "ID: TEST_0181 Question: 완도 수산물 판촉전이 진행되는 온라인 플랫폼은 무엇인가 Generated answer: 울타리USA 자사몰\n"
     ]
    },
    {
     "name": "stderr",
     "output_type": "stream",
     "text": [
      " 12%|█▏        | 183/1507 [10:45<53:14,  2.41s/it]"
     ]
    },
    {
     "name": "stdout",
     "output_type": "stream",
     "text": [
      "ID: TEST_0182 Question: 완도 수산물 판촉전에 참여하는 완도군 우수 수출기업은 어떤 곳들인가 Generated answer: 다시마전복수산, 흥일식품, 세계로수산\n"
     ]
    },
    {
     "name": "stderr",
     "output_type": "stream",
     "text": [
      " 12%|█▏        | 184/1507 [10:47<44:46,  2.03s/it]"
     ]
    },
    {
     "name": "stdout",
     "output_type": "stream",
     "text": [
      "ID: TEST_0183 Question: 울타리USA'가 LA에 설립된 연도는 언제인가 Generated answer: 2006년에\n"
     ]
    },
    {
     "name": "stderr",
     "output_type": "stream",
     "text": [
      " 12%|█▏        | 185/1507 [10:49<45:46,  2.08s/it]"
     ]
    },
    {
     "name": "stdout",
     "output_type": "stream",
     "text": [
      "ID: TEST_0184 Question: 울타리USA가 지난해 추석 판마징전을 개최하여 얻은 매출액은 얼마인가 Generated answer: 3만 6000달러\n"
     ]
    },
    {
     "name": "stderr",
     "output_type": "stream",
     "text": [
      " 12%|█▏        | 186/1507 [10:51<44:26,  2.02s/it]"
     ]
    },
    {
     "name": "stdout",
     "output_type": "stream",
     "text": [
      "ID: TEST_0185 Question: 2018년 주식 관련 도서 대출 수는 몇 권인가 Generated answer: 6권에서 지난해 25권\n"
     ]
    },
    {
     "name": "stderr",
     "output_type": "stream",
     "text": [
      " 12%|█▏        | 187/1507 [10:52<40:29,  1.84s/it]"
     ]
    },
    {
     "name": "stdout",
     "output_type": "stream",
     "text": [
      "ID: TEST_0186 Question: 2020년 주식 관련 도서 대출 수는 몇 권인가 Generated answer: 지난해 25권\n"
     ]
    },
    {
     "name": "stderr",
     "output_type": "stream",
     "text": [
      " 12%|█▏        | 188/1507 [10:54<42:43,  1.94s/it]"
     ]
    },
    {
     "name": "stdout",
     "output_type": "stream",
     "text": [
      "ID: TEST_0187 Question: 금융 관련 도서 대출에서 여성이 빌린 총 대출 수는 얼마나 되나 Generated answer: 6912건 ) 보다 1418건\n"
     ]
    },
    {
     "name": "stderr",
     "output_type": "stream",
     "text": [
      " 13%|█▎        | 189/1507 [10:56<44:20,  2.02s/it]"
     ]
    },
    {
     "name": "stdout",
     "output_type": "stream",
     "text": [
      "ID: TEST_0188 Question: 남성 대비 여성의 총 대출 건수는 얼마나 되나 Generated answer: 64만4609건 )\n"
     ]
    },
    {
     "name": "stderr",
     "output_type": "stream",
     "text": [
      " 13%|█▎        | 190/1507 [10:59<45:07,  2.06s/it]"
     ]
    },
    {
     "name": "stdout",
     "output_type": "stream",
     "text": [
      "ID: TEST_0189 Question: 도서관이 시민들에게 제공할 테마 데이터는 어떤 방식으로 활용하나 Generated answer: 도서관 빅데이터\n"
     ]
    },
    {
     "name": "stderr",
     "output_type": "stream",
     "text": [
      " 13%|█▎        | 191/1507 [11:02<53:46,  2.45s/it]"
     ]
    },
    {
     "name": "stdout",
     "output_type": "stream",
     "text": [
      "ID: TEST_0190 Question: 집회가 열린 날짜는 Generated answer: 14일 서울\n"
     ]
    },
    {
     "name": "stderr",
     "output_type": "stream",
     "text": [
      " 13%|█▎        | 192/1507 [11:05<1:00:33,  2.76s/it]"
     ]
    },
    {
     "name": "stdout",
     "output_type": "stream",
     "text": [
      "ID: TEST_0191 Question: 여의대로 집회에 모인 의사의 수는 Generated answer: 14일 서울 영등포구 여의대로에서 의협 주최로 열린 전국의사총파업 궐기대회에는 정부의 의대 정원 확대 등 4대 의료정책에 반대하는 의사 수만 명\n"
     ]
    },
    {
     "name": "stderr",
     "output_type": "stream",
     "text": [
      " 13%|█▎        | 193/1507 [11:10<1:10:20,  3.21s/it]"
     ]
    },
    {
     "name": "stdout",
     "output_type": "stream",
     "text": [
      "ID: TEST_0192 Question: 정부가 추진하려고 한 정책의 수는 Generated answer: 4대 정책\n"
     ]
    },
    {
     "name": "stderr",
     "output_type": "stream",
     "text": [
      " 13%|█▎        | 194/1507 [11:14<1:18:06,  3.57s/it]"
     ]
    },
    {
     "name": "stdout",
     "output_type": "stream",
     "text": [
      "ID: TEST_0193 Question: 전국적으로 동시다발적으로 열린 궐기대회에 참석한 의사의 수는 Generated answer: 8000명가량\n"
     ]
    },
    {
     "name": "stderr",
     "output_type": "stream",
     "text": [
      " 13%|█▎        | 195/1507 [11:19<1:23:36,  3.82s/it]"
     ]
    },
    {
     "name": "stdout",
     "output_type": "stream",
     "text": [
      "ID: TEST_0194 Question: 응급도 낮은 수술을 일부 연기한 대학병원 관계자가 있는 병원 위치는 Generated answer: 한 대학병원 관계자는 “ 외래진료나 입원을 사전에 조정했다 ” 며 “ 응급도가 낮은 수술도 일부 연기했다.\n"
     ]
    },
    {
     "name": "stderr",
     "output_type": "stream",
     "text": [
      " 13%|█▎        | 196/1507 [11:20<1:08:32,  3.14s/it]"
     ]
    },
    {
     "name": "stdout",
     "output_type": "stream",
     "text": [
      "ID: TEST_0195 Question: 보성군이 확보한 사업비 Generated answer: 3억원\n"
     ]
    },
    {
     "name": "stderr",
     "output_type": "stream",
     "text": [
      " 13%|█▎        | 197/1507 [11:22<59:25,  2.72s/it]  "
     ]
    },
    {
     "name": "stdout",
     "output_type": "stream",
     "text": [
      "ID: TEST_0196 Question: 보성향토시장 청년몰 개수 Generated answer: 10개소\n"
     ]
    },
    {
     "name": "stderr",
     "output_type": "stream",
     "text": [
      " 13%|█▎        | 198/1507 [11:24<53:57,  2.47s/it]"
     ]
    },
    {
     "name": "stdout",
     "output_type": "stream",
     "text": [
      "ID: TEST_0197 Question: 보성향토시장 청년몰 공사 시작 월 Generated answer: 오는 3월\n"
     ]
    },
    {
     "name": "stderr",
     "output_type": "stream",
     "text": [
      " 13%|█▎        | 199/1507 [11:25<46:59,  2.16s/it]"
     ]
    },
    {
     "name": "stdout",
     "output_type": "stream",
     "text": [
      "ID: TEST_0198 Question: 보성향토시장 청년몰 완공 예상 월 Generated answer: 보성향토시장 청년몰 조성 사업은 오는 3월 착공해 7월 경 공사가 마무리 될 예정이다. 7월 지원자를 모집해 연말에 문을 열게 된다.\n"
     ]
    },
    {
     "name": "stderr",
     "output_type": "stream",
     "text": [
      " 13%|█▎        | 200/1507 [11:27<46:39,  2.14s/it]"
     ]
    },
    {
     "name": "stdout",
     "output_type": "stream",
     "text": [
      "ID: TEST_0199 Question: 창출 예정 청년 일자리 수 Generated answer: 50명 )\n"
     ]
    },
    {
     "name": "stderr",
     "output_type": "stream",
     "text": [
      " 13%|█▎        | 201/1507 [11:28<38:48,  1.78s/it]"
     ]
    },
    {
     "name": "stdout",
     "output_type": "stream",
     "text": [
      "ID: TEST_0200 Question: 위니아딤채의 대표 이름은 Generated answer: 김혁표\n"
     ]
    },
    {
     "name": "stderr",
     "output_type": "stream",
     "text": [
      " 13%|█▎        | 202/1507 [11:30<35:54,  1.65s/it]"
     ]
    },
    {
     "name": "stdout",
     "output_type": "stream",
     "text": [
      "ID: TEST_0201 Question: 기부금이 적립되는 공기청정기의 이름은 Generated answer: 위니아 퓨어플렉스\n"
     ]
    },
    {
     "name": "stderr",
     "output_type": "stream",
     "text": [
      " 13%|█▎        | 203/1507 [11:32<39:22,  1.81s/it]"
     ]
    },
    {
     "name": "stdout",
     "output_type": "stream",
     "text": [
      "ID: TEST_0202 Question: 기부금이 적립되는 금액은 Generated answer: 펫 모드가 적용된 위니아 퓨어플렉스 공기청정기 1대를 판매하면 5000원\n"
     ]
    },
    {
     "name": "stderr",
     "output_type": "stream",
     "text": [
      " 14%|█▎        | 204/1507 [11:33<37:32,  1.73s/it]"
     ]
    },
    {
     "name": "stdout",
     "output_type": "stream",
     "text": [
      "ID: TEST_0203 Question: 기부금이 적립되는 단체는 Generated answer: 동물자유연대\n"
     ]
    },
    {
     "name": "stderr",
     "output_type": "stream",
     "text": [
      " 14%|█▎        | 205/1507 [11:35<35:45,  1.65s/it]"
     ]
    },
    {
     "name": "stdout",
     "output_type": "stream",
     "text": [
      "ID: TEST_0204 Question: 캠페인이 종료되는 달은 Generated answer: 오는 5월\n"
     ]
    },
    {
     "name": "stderr",
     "output_type": "stream",
     "text": [
      " 14%|█▎        | 206/1507 [11:37<41:37,  1.92s/it]"
     ]
    },
    {
     "name": "stdout",
     "output_type": "stream",
     "text": [
      "ID: TEST_0205 Question: SGC에너지 출범일 Generated answer: 새로 출범한 SGC에너지는 분산형 전원으로 에너지 효율이 높은 열병합 발전소를 운영하는 회사다. 이번 합병을 통해 산업단지 집단에너지 사업자 중 유일한 유가증권시장 상장회사가 됐다.\n"
     ]
    },
    {
     "name": "stderr",
     "output_type": "stream",
     "text": [
      " 14%|█▎        | 207/1507 [11:42<57:22,  2.65s/it]"
     ]
    },
    {
     "name": "stdout",
     "output_type": "stream",
     "text": [
      "ID: TEST_0206 Question: SGC에너지가 운영하는 발전소 종류 Generated answer: 분산형 전원으로 에너지 효율이 높은 열병합 발전소\n"
     ]
    },
    {
     "name": "stderr",
     "output_type": "stream",
     "text": [
      " 14%|█▍        | 208/1507 [11:45<1:01:51,  2.86s/it]"
     ]
    },
    {
     "name": "stdout",
     "output_type": "stream",
     "text": [
      "ID: TEST_0207 Question: SGC그린파워에서 사용하는 연료 Generated answer: 우드팰릿\n"
     ]
    },
    {
     "name": "stderr",
     "output_type": "stream",
     "text": [
      " 14%|█▍        | 209/1507 [11:48<1:04:47,  2.99s/it]"
     ]
    },
    {
     "name": "stdout",
     "output_type": "stream",
     "text": [
      "ID: TEST_0208 Question: 합병 후 2021년 예상 매출 Generated answer: 2조2000억원\n"
     ]
    },
    {
     "name": "stderr",
     "output_type": "stream",
     "text": [
      " 14%|█▍        | 210/1507 [11:52<1:06:47,  3.09s/it]"
     ]
    },
    {
     "name": "stdout",
     "output_type": "stream",
     "text": [
      "ID: TEST_0209 Question: SGC의 로고 의미 추가 내용 Generated answer: 한편, SGC의 로고는 ‘ 군장에너지, 이테크건설, 삼광글라스 3개 회사가 체인처럼 연결된 완전한 하나 ’\n"
     ]
    },
    {
     "name": "stderr",
     "output_type": "stream",
     "text": [
      " 14%|█▍        | 211/1507 [11:57<1:19:13,  3.67s/it]"
     ]
    },
    {
     "name": "stdout",
     "output_type": "stream",
     "text": [
      "ID: TEST_0210 Question: 세종시에서 주차요금이 무료인 시간대는 Generated answer: 오전 11시30분부터 오후 1시30분까지\n"
     ]
    },
    {
     "name": "stderr",
     "output_type": "stream",
     "text": [
      " 14%|█▍        | 212/1507 [12:00<1:19:57,  3.70s/it]"
     ]
    },
    {
     "name": "stdout",
     "output_type": "stream",
     "text": [
      "ID: TEST_0211 Question: 세종시의 공영주차장 건설에 사용된 예산은 Generated answer: 220억원\n"
     ]
    },
    {
     "name": "stderr",
     "output_type": "stream",
     "text": [
      " 14%|█▍        | 213/1507 [12:04<1:19:00,  3.66s/it]"
     ]
    },
    {
     "name": "stdout",
     "output_type": "stream",
     "text": [
      "ID: TEST_0212 Question: 세종시 공영주차장 중 한 곳의 주차 가능 차량 대수는 Generated answer: 396대\n"
     ]
    },
    {
     "name": "stderr",
     "output_type": "stream",
     "text": [
      " 14%|█▍        | 214/1507 [12:07<1:15:00,  3.48s/it]"
     ]
    },
    {
     "name": "stdout",
     "output_type": "stream",
     "text": [
      "ID: TEST_0213 Question: 세종시의 전체 공영주차장 관리 비용은 Generated answer: 9억4852만원\n"
     ]
    },
    {
     "name": "stderr",
     "output_type": "stream",
     "text": [
      " 14%|█▍        | 215/1507 [12:11<1:17:27,  3.60s/it]"
     ]
    },
    {
     "name": "stdout",
     "output_type": "stream",
     "text": [
      "ID: TEST_0214 Question: 세종시의 연간 공영주차장 운영 적자는 Generated answer: 2억5337만에 달했다. 게다가 이번 조례 개정으로 주차료 수입이 연간 최대 1억3000만 원 줄어들면서 적자가 3억8337만원으로 증가한다고 세종시는 설명했다.\n"
     ]
    },
    {
     "name": "stderr",
     "output_type": "stream",
     "text": [
      " 14%|█▍        | 216/1507 [12:15<1:17:54,  3.62s/it]"
     ]
    },
    {
     "name": "stdout",
     "output_type": "stream",
     "text": [
      "ID: TEST_0215 Question: 한국반도체디스플레이기술학회 2020 온라인 추계학술대회의 개최 날짜는 언제야 Generated answer: 10월 16일 ( 금 )\n"
     ]
    },
    {
     "name": "stderr",
     "output_type": "stream",
     "text": [
      " 14%|█▍        | 217/1507 [12:17<1:13:17,  3.41s/it]"
     ]
    },
    {
     "name": "stdout",
     "output_type": "stream",
     "text": [
      "ID: TEST_0216 Question: 2020 온라인 추계학술대회의 주최자는 누구야 Generated answer: 명지대학교 LINC + 사업단과 한국반도체디스플레이기술학회\n"
     ]
    },
    {
     "name": "stderr",
     "output_type": "stream",
     "text": [
      " 14%|█▍        | 218/1507 [12:22<1:23:17,  3.88s/it]"
     ]
    },
    {
     "name": "stdout",
     "output_type": "stream",
     "text": [
      "ID: TEST_0217 Question: Plenary 세션의 첫 번째 섹션 좌장은 누구야 Generated answer: 한양대 전형탁 교수\n"
     ]
    },
    {
     "name": "stderr",
     "output_type": "stream",
     "text": [
      " 15%|█▍        | 219/1507 [12:28<1:31:58,  4.28s/it]"
     ]
    },
    {
     "name": "stdout",
     "output_type": "stream",
     "text": [
      "ID: TEST_0218 Question: Plenary 세션의 두 번째 섹션 좌장은 누구야 Generated answer: 한기대 장영철 교수\n"
     ]
    },
    {
     "name": "stderr",
     "output_type": "stream",
     "text": [
      " 15%|█▍        | 220/1507 [12:32<1:32:03,  4.29s/it]"
     ]
    },
    {
     "name": "stdout",
     "output_type": "stream",
     "text": [
      "ID: TEST_0219 Question: Session 4 장비의 Invited 강연자는 누구야 Generated answer: 한국산업기술대 김기현 교수\n"
     ]
    },
    {
     "name": "stderr",
     "output_type": "stream",
     "text": [
      " 15%|█▍        | 221/1507 [12:35<1:21:03,  3.78s/it]"
     ]
    },
    {
     "name": "stdout",
     "output_type": "stream",
     "text": [
      "ID: TEST_0220 Question: 부장검사 승진 대상 기수는 Generated answer: 사법연수원 34기\n"
     ]
    },
    {
     "name": "stderr",
     "output_type": "stream",
     "text": [
      " 15%|█▍        | 222/1507 [12:38<1:16:31,  3.57s/it]"
     ]
    },
    {
     "name": "stdout",
     "output_type": "stream",
     "text": [
      "ID: TEST_0221 Question: 동료 평가 절차 종료 날짜는 Generated answer: 18일이나 25일\n"
     ]
    },
    {
     "name": "stderr",
     "output_type": "stream",
     "text": [
      " 15%|█▍        | 223/1507 [12:41<1:12:01,  3.37s/it]"
     ]
    },
    {
     "name": "stdout",
     "output_type": "stream",
     "text": [
      "ID: TEST_0222 Question: 직제 개편 발표일은 Generated answer: 18일이나 25일\n"
     ]
    },
    {
     "name": "stderr",
     "output_type": "stream",
     "text": [
      " 15%|█▍        | 224/1507 [12:45<1:15:48,  3.55s/it]"
     ]
    },
    {
     "name": "stdout",
     "output_type": "stream",
     "text": [
      "ID: TEST_0223 Question: 법무부·검찰개혁위원회의 권고 시점은 Generated answer: 수사정보정책관과 수사정보 1 · 2담당관을 모두 폐지할 것을 권고한 시점 때문이다. 권고는 조 전 장관에 대한 수사가 한창이던 지난해 10월\n"
     ]
    },
    {
     "name": "stderr",
     "output_type": "stream",
     "text": [
      " 15%|█▍        | 225/1507 [12:48<1:16:47,  3.59s/it]"
     ]
    },
    {
     "name": "stdout",
     "output_type": "stream",
     "text": [
      "ID: TEST_0224 Question: 검찰과 대검 정책기획과의 협상 주체는 Generated answer: 법무부 검찰과와 대검 정책기획과다. 그러나 대검 내부에서는 의견 조율이 아니라 사실상 ‘ 일방 통보 ’ 에 불과하다는 불만이 터져 나온다.\n"
     ]
    },
    {
     "name": "stderr",
     "output_type": "stream",
     "text": [
      " 15%|█▍        | 226/1507 [12:51<1:14:31,  3.49s/it]"
     ]
    },
    {
     "name": "stdout",
     "output_type": "stream",
     "text": [
      "ID: TEST_0225 Question: 사하점에서 주로 판매되는 품목 Generated answer: 유아용품, 사상점은 겨울의류가\n"
     ]
    },
    {
     "name": "stderr",
     "output_type": "stream",
     "text": [
      " 15%|█▌        | 227/1507 [12:56<1:18:12,  3.67s/it]"
     ]
    },
    {
     "name": "stdout",
     "output_type": "stream",
     "text": [
      "ID: TEST_0226 Question: 김지순씨가 빅히트 공모주 청약에 투자한 돈은 Generated answer: 1억800만원\n"
     ]
    },
    {
     "name": "stderr",
     "output_type": "stream",
     "text": [
      " 15%|█▌        | 228/1507 [12:59<1:18:59,  3.71s/it]"
     ]
    },
    {
     "name": "stdout",
     "output_type": "stream",
     "text": [
      "ID: TEST_0227 Question: 빅히트 공모주의 첫날 경쟁률은 Generated answer: 89. 6대 1\n"
     ]
    },
    {
     "name": "stderr",
     "output_type": "stream",
     "text": [
      " 15%|█▌        | 229/1507 [13:04<1:22:57,  3.89s/it]"
     ]
    },
    {
     "name": "stdout",
     "output_type": "stream",
     "text": [
      "ID: TEST_0228 Question: 빅히트 공모주 청약 증거금은 얼마인가 Generated answer: 8조6242억원\n"
     ]
    },
    {
     "name": "stderr",
     "output_type": "stream",
     "text": [
      " 15%|█▌        | 230/1507 [13:07<1:20:13,  3.77s/it]"
     ]
    },
    {
     "name": "stdout",
     "output_type": "stream",
     "text": [
      "ID: TEST_0229 Question: 빅히트의 매출 비율 중 BTS가 차지하는 비율은 Generated answer: 빅히트 매출의 80 % 이상이 BTS에서 나오고 BTS 멤버들이 입대를 앞둔 연령대라는 점은 상장 후 주가 움직임에 부담을 줄 수 있는 요소다.\n"
     ]
    },
    {
     "name": "stderr",
     "output_type": "stream",
     "text": [
      " 15%|█▌        | 231/1507 [13:11<1:20:37,  3.79s/it]"
     ]
    },
    {
     "name": "stdout",
     "output_type": "stream",
     "text": [
      "ID: TEST_0230 Question: 김지순씨가 카카오게임즈 청약에서 벌어들인 돈은 Generated answer: 50만원\n"
     ]
    },
    {
     "name": "stderr",
     "output_type": "stream",
     "text": [
      " 15%|█▌        | 232/1507 [13:12<1:03:24,  2.98s/it]"
     ]
    },
    {
     "name": "stdout",
     "output_type": "stream",
     "text": [
      "ID: TEST_0231 Question: 한국마스크산업협회 회장은 누구야 Generated answer: 석호길\n"
     ]
    },
    {
     "name": "stderr",
     "output_type": "stream",
     "text": [
      " 15%|█▌        | 233/1507 [13:13<51:39,  2.43s/it]  "
     ]
    },
    {
     "name": "stdout",
     "output_type": "stream",
     "text": [
      "ID: TEST_0232 Question: Group TRD 회장은 누구야 Generated answer: 한지운 )\n"
     ]
    },
    {
     "name": "stderr",
     "output_type": "stream",
     "text": [
      " 16%|█▌        | 234/1507 [13:15<47:30,  2.24s/it]"
     ]
    },
    {
     "name": "stdout",
     "output_type": "stream",
     "text": [
      "ID: TEST_0233 Question: 익성의 해외총괄그룹장은 누구야 Generated answer: 박성대 )\n"
     ]
    },
    {
     "name": "stderr",
     "output_type": "stream",
     "text": [
      " 16%|█▌        | 235/1507 [13:16<39:00,  1.84s/it]"
     ]
    },
    {
     "name": "stdout",
     "output_type": "stream",
     "text": [
      "ID: TEST_0234 Question: 업무 협약식이 열린 날짜는 언제야 Generated answer: 지난 19일\n"
     ]
    },
    {
     "name": "stderr",
     "output_type": "stream",
     "text": [
      " 16%|█▌        | 236/1507 [13:17<34:07,  1.61s/it]"
     ]
    },
    {
     "name": "stdout",
     "output_type": "stream",
     "text": [
      "ID: TEST_0235 Question: 협약이 체결된 아프리카 국가 중 하나는 어디야 Generated answer: 탄자니아, 케냐\n"
     ]
    },
    {
     "name": "stderr",
     "output_type": "stream",
     "text": [
      " 16%|█▌        | 237/1507 [13:21<48:38,  2.30s/it]"
     ]
    },
    {
     "name": "stdout",
     "output_type": "stream",
     "text": [
      "ID: TEST_0236 Question: GS리테일의 전국 점포망 규모는 Generated answer: 1만 5000개\n"
     ]
    },
    {
     "name": "stderr",
     "output_type": "stream",
     "text": [
      " 16%|█▌        | 238/1507 [13:25<1:01:58,  2.93s/it]"
     ]
    },
    {
     "name": "stdout",
     "output_type": "stream",
     "text": [
      "ID: TEST_0237 Question: GS홈쇼핑의 모바일 쇼핑 앱 사용자 수는 Generated answer: 1800만명\n"
     ]
    },
    {
     "name": "stderr",
     "output_type": "stream",
     "text": [
      " 16%|█▌        | 239/1507 [13:29<1:09:36,  3.29s/it]"
     ]
    },
    {
     "name": "stdout",
     "output_type": "stream",
     "text": [
      "ID: TEST_0238 Question: GS리테일의 연간 거래액 목표는 Generated answer: 25조원\n"
     ]
    },
    {
     "name": "stderr",
     "output_type": "stream",
     "text": [
      " 16%|█▌        | 240/1507 [13:33<1:11:18,  3.38s/it]"
     ]
    },
    {
     "name": "stdout",
     "output_type": "stream",
     "text": [
      "ID: TEST_0239 Question: 합병 후 예측되는 하루 거래 횟수는 Generated answer: 600만건\n"
     ]
    },
    {
     "name": "stderr",
     "output_type": "stream",
     "text": [
      " 16%|█▌        | 241/1507 [13:36<1:08:57,  3.27s/it]"
     ]
    },
    {
     "name": "stdout",
     "output_type": "stream",
     "text": [
      "ID: TEST_0240 Question: GS홈쇼핑 창립 이후의 연혁에서 언급된 시장은 Generated answer: TV홈쇼핑\n"
     ]
    },
    {
     "name": "stderr",
     "output_type": "stream",
     "text": [
      " 16%|█▌        | 242/1507 [13:39<1:05:45,  3.12s/it]"
     ]
    },
    {
     "name": "stdout",
     "output_type": "stream",
     "text": [
      "ID: TEST_0241 Question: 올해 3분기 제조업 매출 현황 경기실사지수(BSI) 수치 Generated answer: 올해 3분기 제조업 매출 현황 경기실사지수 ( BSI ) 는 84\n"
     ]
    },
    {
     "name": "stderr",
     "output_type": "stream",
     "text": [
      " 16%|█▌        | 243/1507 [13:42<1:05:21,  3.10s/it]"
     ]
    },
    {
     "name": "stdout",
     "output_type": "stream",
     "text": [
      "ID: TEST_0242 Question: 4분기 제조업 매출 전망 BSI 수치 Generated answer: 올해 3분기 제조업 매출 현황 경기실사지수 ( BSI ) 는 84로 3분기 만에 전분기 대비 상승했다. 4분기 제조업 매출 전망 BSI도 89\n"
     ]
    },
    {
     "name": "stderr",
     "output_type": "stream",
     "text": [
      " 16%|█▌        | 244/1507 [13:45<1:07:36,  3.21s/it]"
     ]
    },
    {
     "name": "stdout",
     "output_type": "stream",
     "text": [
      "ID: TEST_0243 Question: 3분기 제조업 매출 전망 항목 중 가장 크게 상승한 주요 항목별 BSI Generated answer: 올해 4분기 수출\n"
     ]
    },
    {
     "name": "stderr",
     "output_type": "stream",
     "text": [
      " 16%|█▋        | 245/1507 [13:50<1:14:02,  3.52s/it]"
     ]
    },
    {
     "name": "stdout",
     "output_type": "stream",
     "text": [
      "ID: TEST_0244 Question: 경제심리지수 저점 수치 Generated answer: 70. 9\n"
     ]
    },
    {
     "name": "stderr",
     "output_type": "stream",
     "text": [
      " 16%|█▋        | 246/1507 [13:53<1:12:34,  3.45s/it]"
     ]
    },
    {
     "name": "stdout",
     "output_type": "stream",
     "text": [
      "ID: TEST_0245 Question: 4차 추가경정예산 규모 Generated answer: 7조8000억원\n"
     ]
    },
    {
     "name": "stderr",
     "output_type": "stream",
     "text": [
      " 16%|█▋        | 247/1507 [13:55<1:04:41,  3.08s/it]"
     ]
    },
    {
     "name": "stdout",
     "output_type": "stream",
     "text": [
      "ID: TEST_0246 Question: 현대차그룹과 포스코그룹이 공급하는 수소전기차 대수 Generated answer: 포스코 포항, 광양제철소에서 운영 중인 트럭 등 차량 1500대\n"
     ]
    },
    {
     "name": "stderr",
     "output_type": "stream",
     "text": [
      " 16%|█▋        | 248/1507 [13:57<59:05,  2.82s/it]  "
     ]
    },
    {
     "name": "stdout",
     "output_type": "stream",
     "text": [
      "ID: TEST_0247 Question: 포스코 철강부문장 이름 Generated answer: 김학동 포스코 철강부문장\n"
     ]
    },
    {
     "name": "stderr",
     "output_type": "stream",
     "text": [
      " 17%|█▋        | 249/1507 [13:59<55:07,  2.63s/it]"
     ]
    },
    {
     "name": "stdout",
     "output_type": "stream",
     "text": [
      "ID: TEST_0248 Question: 협약 체결 장소 Generated answer: 포항 포스코 청송대\n"
     ]
    },
    {
     "name": "stderr",
     "output_type": "stream",
     "text": [
      " 17%|█▋        | 250/1507 [14:02<56:15,  2.69s/it]"
     ]
    },
    {
     "name": "stdout",
     "output_type": "stream",
     "text": [
      "ID: TEST_0249 Question: 현대차그룹이 출시한 수소버스 이름 Generated answer: 일렉시티 등\n"
     ]
    },
    {
     "name": "stderr",
     "output_type": "stream",
     "text": [
      " 17%|█▋        | 251/1507 [14:05<55:36,  2.66s/it]"
     ]
    },
    {
     "name": "stdout",
     "output_type": "stream",
     "text": [
      "ID: TEST_0250 Question: 포스코그룹이 목표로 하는 2050년 수소 생산량 Generated answer: 2050년까지 수소 생산 500만톤 체제 구축 및 수소 사업에서 매출 30조원을 달성해 탈탄소시대를 선도하겠다고 밝힌 바 있다.\n"
     ]
    },
    {
     "name": "stderr",
     "output_type": "stream",
     "text": [
      " 17%|█▋        | 252/1507 [14:11<1:19:57,  3.82s/it]"
     ]
    },
    {
     "name": "stdout",
     "output_type": "stream",
     "text": [
      "ID: TEST_0251 Question: 미국투자이민 설명회가 개최되는 장소는 어디인가 Generated answer: 서울 역삼동 본사\n"
     ]
    },
    {
     "name": "stderr",
     "output_type": "stream",
     "text": [
      " 17%|█▋        | 253/1507 [14:16<1:24:34,  4.05s/it]"
     ]
    },
    {
     "name": "stdout",
     "output_type": "stream",
     "text": [
      "ID: TEST_0252 Question: 빅리버II 프로젝트의 투자 모집 금액은 얼마인가 Generated answer: 1억달러\n"
     ]
    },
    {
     "name": "stderr",
     "output_type": "stream",
     "text": [
      " 17%|█▋        | 254/1507 [14:21<1:29:09,  4.27s/it]"
     ]
    },
    {
     "name": "stdout",
     "output_type": "stream",
     "text": [
      "ID: TEST_0253 Question: NIW 급행수속 비용은 얼마인가 Generated answer: 2500달러\n"
     ]
    },
    {
     "name": "stderr",
     "output_type": "stream",
     "text": [
      " 17%|█▋        | 255/1507 [14:26<1:34:33,  4.53s/it]"
     ]
    },
    {
     "name": "stdout",
     "output_type": "stream",
     "text": [
      "ID: TEST_0254 Question: 미국투자이민 설명회의 진행 날짜는 언제인가 Generated answer: 오는 14일\n"
     ]
    },
    {
     "name": "stderr",
     "output_type": "stream",
     "text": [
      " 17%|█▋        | 256/1507 [14:31<1:36:36,  4.63s/it]"
     ]
    },
    {
     "name": "stdout",
     "output_type": "stream",
     "text": [
      "ID: TEST_0255 Question: Big River Steel 프로젝트가 위치한 주는 어디인가 Generated answer: 미국아칸소주\n"
     ]
    },
    {
     "name": "stderr",
     "output_type": "stream",
     "text": [
      " 17%|█▋        | 257/1507 [14:35<1:32:15,  4.43s/it]"
     ]
    },
    {
     "name": "stdout",
     "output_type": "stream",
     "text": [
      "ID: TEST_0256 Question: 최근 4년간 교육공무직 임금인상률 Generated answer: 3. 98 %\n"
     ]
    },
    {
     "name": "stderr",
     "output_type": "stream",
     "text": [
      " 17%|█▋        | 258/1507 [14:38<1:25:06,  4.09s/it]"
     ]
    },
    {
     "name": "stdout",
     "output_type": "stream",
     "text": [
      "ID: TEST_0257 Question: 코로나19 백신 후보물질 수 Generated answer: 200여종\n"
     ]
    },
    {
     "name": "stderr",
     "output_type": "stream",
     "text": [
      " 17%|█▋        | 259/1507 [14:41<1:20:09,  3.85s/it]"
     ]
    },
    {
     "name": "stdout",
     "output_type": "stream",
     "text": [
      "ID: TEST_0258 Question: 인천지법이 허용한 집회의 유형은 Generated answer: 하지만 지난 20일 인천지법은 엄격한 방역수칙을 조건으로 부천시 기독교총연합회의'인권조례 반대 집회'를 허용했다. 드라이브스루 집회도 아닌 일반 집회였지만 허용한 것이다.\n"
     ]
    },
    {
     "name": "stderr",
     "output_type": "stream",
     "text": [
      " 17%|█▋        | 260/1507 [14:45<1:16:16,  3.67s/it]"
     ]
    },
    {
     "name": "stdout",
     "output_type": "stream",
     "text": [
      "ID: TEST_0259 Question: 드림그림을 시작한 연도 Generated answer: 2012년에 장학생과 멘토 20명씩으로 시작해 창립 30주년이었던 2015년부터 장학생과 멘토 각각 40명씩으로 운영하고 있다.\n"
     ]
    },
    {
     "name": "stderr",
     "output_type": "stream",
     "text": [
      " 17%|█▋        | 261/1507 [14:47<1:07:33,  3.25s/it]"
     ]
    },
    {
     "name": "stdout",
     "output_type": "stream",
     "text": [
      "ID: TEST_0260 Question: 드림그림 설립을 주도한 한성자동차 대표 Generated answer: 울프 아우스프룽\n"
     ]
    },
    {
     "name": "stderr",
     "output_type": "stream",
     "text": [
      " 17%|█▋        | 262/1507 [14:50<1:07:41,  3.26s/it]"
     ]
    },
    {
     "name": "stdout",
     "output_type": "stream",
     "text": [
      "ID: TEST_0261 Question: 드림그림 엠버서더 프로그램 시작 연도 Generated answer: 2012년에 장학생과 멘토 20명씩으로 시작해 창립 30주년이었던 2015년부터 장학생과 멘토 각각 40명씩으로 운영하고 있다. 한성자동차는 전사적 차원에서 드림그림을 지원한다. 2013년\n"
     ]
    },
    {
     "name": "stderr",
     "output_type": "stream",
     "text": [
      " 17%|█▋        | 263/1507 [14:53<1:07:57,  3.28s/it]"
     ]
    },
    {
     "name": "stdout",
     "output_type": "stream",
     "text": [
      "ID: TEST_0262 Question: 드림그림 참가 대학생 멘토 숫자 Generated answer: 장학생과 멘토 20명씩으로 시작해 창립 30주년이었던 2015년부터 장학생과 멘토 각각 40명\n"
     ]
    },
    {
     "name": "stderr",
     "output_type": "stream",
     "text": [
      " 18%|█▊        | 264/1507 [14:58<1:14:51,  3.61s/it]"
     ]
    },
    {
     "name": "stdout",
     "output_type": "stream",
     "text": [
      "ID: TEST_0263 Question: 코로나19로 대체된 프로그램 형태 Generated answer: 코로나19 사태로 올해 드림그림은 온라인 수업\n"
     ]
    },
    {
     "name": "stderr",
     "output_type": "stream",
     "text": [
      " 18%|█▊        | 265/1507 [15:02<1:15:45,  3.66s/it]"
     ]
    },
    {
     "name": "stdout",
     "output_type": "stream",
     "text": [
      "ID: TEST_0264 Question: 아이에스동서의 시공능력평가 순위는 Generated answer: 28위에\n"
     ]
    },
    {
     "name": "stderr",
     "output_type": "stream",
     "text": [
      " 18%|█▊        | 266/1507 [15:06<1:17:34,  3.75s/it]"
     ]
    },
    {
     "name": "stdout",
     "output_type": "stream",
     "text": [
      "ID: TEST_0265 Question: 서울 강남구 대치동 A 빌라 전용 51㎡, 1층의 최근 보증금은? Generated answer: 5000만원\n"
     ]
    },
    {
     "name": "stderr",
     "output_type": "stream",
     "text": [
      " 18%|█▊        | 267/1507 [15:09<1:14:44,  3.62s/it]"
     ]
    },
    {
     "name": "stdout",
     "output_type": "stream",
     "text": [
      "ID: TEST_0266 Question: 서울 연립ㆍ다세대주택 전세수급동향지수가 102.3을 기록한 시기는? Generated answer: 2017년 9월\n"
     ]
    },
    {
     "name": "stderr",
     "output_type": "stream",
     "text": [
      " 18%|█▊        | 268/1507 [15:12<1:12:45,  3.52s/it]"
     ]
    },
    {
     "name": "stdout",
     "output_type": "stream",
     "text": [
      "ID: TEST_0267 Question: 서울 빌라의 전셋값이 오르기 시작한 시기는? Generated answer: 올해 들어 403만원 올랐다.\n"
     ]
    },
    {
     "name": "stderr",
     "output_type": "stream",
     "text": [
      " 18%|█▊        | 269/1507 [15:16<1:11:24,  3.46s/it]"
     ]
    },
    {
     "name": "stdout",
     "output_type": "stream",
     "text": [
      "ID: TEST_0268 Question: 6월 17일 대책에 따른 규제로 전세자금대출 회수가 되는 주택 유형은? Generated answer: 3억원 이상 아파트\n"
     ]
    },
    {
     "name": "stderr",
     "output_type": "stream",
     "text": [
      " 18%|█▊        | 270/1507 [15:19<1:11:15,  3.46s/it]"
     ]
    },
    {
     "name": "stdout",
     "output_type": "stream",
     "text": [
      "ID: TEST_0269 Question: 서울 시내 다세대ㆍ연립주택 거래량이 7005건으로 가장 많았던 달은? Generated answer: 지난달 서울 시내의 다세대ㆍ연립주택 거래량은 7005건으로 지난해 7월\n"
     ]
    },
    {
     "name": "stderr",
     "output_type": "stream",
     "text": [
      " 18%|█▊        | 271/1507 [15:23<1:15:24,  3.66s/it]"
     ]
    },
    {
     "name": "stdout",
     "output_type": "stream",
     "text": [
      "ID: TEST_0270 Question: 생계급여 부양 의무자 기준이 단계적으로 폐지되는 연도 Generated answer: 2022년까지\n"
     ]
    },
    {
     "name": "stderr",
     "output_type": "stream",
     "text": [
      " 18%|█▊        | 272/1507 [15:27<1:13:59,  3.59s/it]"
     ]
    },
    {
     "name": "stdout",
     "output_type": "stream",
     "text": [
      "ID: TEST_0271 Question: 기초생활보장 종합계획의 기간 Generated answer: 2021∼2023년 )\n"
     ]
    },
    {
     "name": "stderr",
     "output_type": "stream",
     "text": [
      " 18%|█▊        | 273/1507 [15:31<1:18:36,  3.82s/it]"
     ]
    },
    {
     "name": "stdout",
     "output_type": "stream",
     "text": [
      "ID: TEST_0272 Question: 한국의 건강보험 보장 비율 Generated answer: 63. 8 %\n"
     ]
    },
    {
     "name": "stderr",
     "output_type": "stream",
     "text": [
      " 18%|█▊        | 274/1507 [15:34<1:15:50,  3.69s/it]"
     ]
    },
    {
     "name": "stdout",
     "output_type": "stream",
     "text": [
      "ID: TEST_0273 Question: 빈곤 사각 층 수치 Generated answer: 73만명\n"
     ]
    },
    {
     "name": "stderr",
     "output_type": "stream",
     "text": [
      " 18%|█▊        | 275/1507 [15:38<1:16:16,  3.71s/it]"
     ]
    },
    {
     "name": "stdout",
     "output_type": "stream",
     "text": [
      "ID: TEST_0274 Question: 생계·의료급여의 부양 의무자 기준 폐지 공약한 대통령 Generated answer: 문재인 대통령은 2017년 19대 조기대선 후보시절 부양 의무자 기준의 단계적 폐지를 공약했다.\n"
     ]
    },
    {
     "name": "stderr",
     "output_type": "stream",
     "text": [
      " 18%|█▊        | 276/1507 [15:42<1:16:16,  3.72s/it]"
     ]
    },
    {
     "name": "stdout",
     "output_type": "stream",
     "text": [
      "ID: TEST_0275 Question: 손해보험사의 대표 상품은 무엇을 포함하는가 Generated answer: 실손 보험과 자동차 보험, 일상생활과 관련이 높은 화재보험과 여행자보험 등\n"
     ]
    },
    {
     "name": "stderr",
     "output_type": "stream",
     "text": [
      " 18%|█▊        | 277/1507 [15:45<1:12:32,  3.54s/it]"
     ]
    },
    {
     "name": "stdout",
     "output_type": "stream",
     "text": [
      "ID: TEST_0276 Question: 종신보험과 정기보험의 차이점은 무엇인가 Generated answer: 무조건 보험금을 주는 종신보험과 달리 정기보험은 70세, 80세 등 기한을 정해두고 그 나이에 이르기 전에 사망해야만 보험금을 준다.\n"
     ]
    },
    {
     "name": "stderr",
     "output_type": "stream",
     "text": [
      " 18%|█▊        | 278/1507 [15:48<1:12:00,  3.52s/it]"
     ]
    },
    {
     "name": "stdout",
     "output_type": "stream",
     "text": [
      "ID: TEST_0277 Question: 젊을 때 암보험에 가입해야 하는 이유는 무엇인가 Generated answer: 나이가 많아지면 보험료가 올라가기 때문\n"
     ]
    },
    {
     "name": "stderr",
     "output_type": "stream",
     "text": [
      " 19%|█▊        | 279/1507 [15:52<1:12:22,  3.54s/it]"
     ]
    },
    {
     "name": "stdout",
     "output_type": "stream",
     "text": [
      "ID: TEST_0278 Question: 저축성 보험과 적금의 차이점은 무엇인가 Generated answer: 하지만 대부분 10년 만기로 은행보다 납입 기간이 길고 일반 예 · 적금과 달리 중도 해지할 경우 원금이 보장되지 않는다.\n"
     ]
    },
    {
     "name": "stderr",
     "output_type": "stream",
     "text": [
      " 19%|█▊        | 280/1507 [15:56<1:17:37,  3.80s/it]"
     ]
    },
    {
     "name": "stdout",
     "output_type": "stream",
     "text": [
      "ID: TEST_0279 Question: 저축성 보험의 5년 차 유지율은 얼마인가 Generated answer: 57 % 로 나타났다.\n"
     ]
    },
    {
     "name": "stderr",
     "output_type": "stream",
     "text": [
      " 19%|█▊        | 281/1507 [16:00<1:14:22,  3.64s/it]"
     ]
    },
    {
     "name": "stdout",
     "output_type": "stream",
     "text": [
      "ID: TEST_0280 Question: 영화 콘텐츠 서비스 중단을 결정한 OTT 서비스는 Generated answer: , 웨이브, 티빙\n"
     ]
    },
    {
     "name": "stderr",
     "output_type": "stream",
     "text": [
      " 19%|█▊        | 282/1507 [16:03<1:12:29,  3.55s/it]"
     ]
    },
    {
     "name": "stdout",
     "output_type": "stream",
     "text": [
      "ID: TEST_0281 Question: 영화수입배급사협회가 공청회를 개최한 날짜는 Generated answer: 지난달 17일\n"
     ]
    },
    {
     "name": "stderr",
     "output_type": "stream",
     "text": [
      " 19%|█▉        | 283/1507 [16:07<1:12:44,  3.57s/it]"
     ]
    },
    {
     "name": "stdout",
     "output_type": "stream",
     "text": [
      "ID: TEST_0282 Question: 국내 디지털유통시장이 채택하고 있는 결재 방식은 Generated answer: T VOD ( 건 별 영상 주문 방식 )\n"
     ]
    },
    {
     "name": "stderr",
     "output_type": "stream",
     "text": [
      " 19%|█▉        | 284/1507 [16:10<1:09:19,  3.40s/it]"
     ]
    },
    {
     "name": "stdout",
     "output_type": "stream",
     "text": [
      "ID: TEST_0283 Question: 넷플릭스가 사용하는 계약 방식은 Generated answer: 넷플릭스의 경우 시청 시간이나 횟수를 따지지 않고 판권 계약을 할 때 정산을 마친다.\n"
     ]
    },
    {
     "name": "stderr",
     "output_type": "stream",
     "text": [
      " 19%|█▉        | 285/1507 [16:13<1:08:47,  3.38s/it]"
     ]
    },
    {
     "name": "stdout",
     "output_type": "stream",
     "text": [
      "ID: TEST_0284 Question: 건당 3000원이 결제되는 방식은 Generated answer: IPTV 방식으로\n"
     ]
    },
    {
     "name": "stderr",
     "output_type": "stream",
     "text": [
      " 19%|█▉        | 286/1507 [16:16<1:09:00,  3.39s/it]"
     ]
    },
    {
     "name": "stdout",
     "output_type": "stream",
     "text": [
      "ID: TEST_0285 Question: 적정 백신 보관 온도 범위는 Generated answer: 2∼8℃\n"
     ]
    },
    {
     "name": "stderr",
     "output_type": "stream",
     "text": [
      " 19%|█▉        | 287/1507 [16:20<1:07:47,  3.33s/it]"
     ]
    },
    {
     "name": "stdout",
     "output_type": "stream",
     "text": [
      "ID: TEST_0286 Question: 조사를 시행한 연구팀의 소속 대학은 Generated answer: 서울대학교 산학협력단 ( 책임연구원 오명돈 )\n"
     ]
    },
    {
     "name": "stderr",
     "output_type": "stream",
     "text": [
      " 19%|█▉        | 288/1507 [16:23<1:10:40,  3.48s/it]"
     ]
    },
    {
     "name": "stdout",
     "output_type": "stream",
     "text": [
      "ID: TEST_0287 Question: 보건소 냉장고 중 적정 온도를 유지한 비율은 Generated answer: 38. 5 % )\n"
     ]
    },
    {
     "name": "stderr",
     "output_type": "stream",
     "text": [
      " 19%|█▉        | 289/1507 [16:27<1:13:12,  3.61s/it]"
     ]
    },
    {
     "name": "stdout",
     "output_type": "stream",
     "text": [
      "ID: TEST_0288 Question: 민간병원 냉장고 중 가정용 냉장고 비율은 Generated answer: 40. 7 %\n"
     ]
    },
    {
     "name": "stderr",
     "output_type": "stream",
     "text": [
      " 19%|█▉        | 290/1507 [16:32<1:17:58,  3.84s/it]"
     ]
    },
    {
     "name": "stdout",
     "output_type": "stream",
     "text": [
      "ID: TEST_0289 Question: 수두 백신 역가가 낮을 때의 예방 효과 전망은 Generated answer: 역가가 4000pfu / 0. 5㎖ 미만인 백신은 수두를 예방하지 못하거나 예방 기간이 짧아질 가능성이 있다고 봤다.\n"
     ]
    },
    {
     "name": "stderr",
     "output_type": "stream",
     "text": [
      " 19%|█▉        | 291/1507 [16:36<1:21:18,  4.01s/it]"
     ]
    },
    {
     "name": "stdout",
     "output_type": "stream",
     "text": [
      "ID: TEST_0290 Question: GDP 대비 국가채무비율은 몇 %인가 Generated answer: 43. 5 %\n"
     ]
    },
    {
     "name": "stderr",
     "output_type": "stream",
     "text": [
      " 19%|█▉        | 292/1507 [16:38<1:10:15,  3.47s/it]"
     ]
    },
    {
     "name": "stdout",
     "output_type": "stream",
     "text": [
      "ID: TEST_0291 Question: 전남농촌융복합산업지원센터장이 누구인가 Generated answer: 송경환\n"
     ]
    },
    {
     "name": "stderr",
     "output_type": "stream",
     "text": [
      " 19%|█▉        | 293/1507 [16:41<1:04:51,  3.21s/it]"
     ]
    },
    {
     "name": "stdout",
     "output_type": "stream",
     "text": [
      "ID: TEST_0292 Question: 전남6차센터가 받은 최대 사업비는 얼마인가 Generated answer: 12억5200만원\n"
     ]
    },
    {
     "name": "stderr",
     "output_type": "stream",
     "text": [
      " 20%|█▉        | 294/1507 [16:44<1:03:05,  3.12s/it]"
     ]
    },
    {
     "name": "stdout",
     "output_type": "stream",
     "text": [
      "ID: TEST_0293 Question: 안테나숍의 2019년 매출액은 얼마인가 Generated answer: 6억9100만원\n"
     ]
    },
    {
     "name": "stderr",
     "output_type": "stream",
     "text": [
      " 20%|█▉        | 295/1507 [16:47<1:04:06,  3.17s/it]"
     ]
    },
    {
     "name": "stdout",
     "output_type": "stream",
     "text": [
      "ID: TEST_0294 Question: 유통플랫폼 사업 매출액이 2020년에 얼마로 증가했는가 Generated answer: 487. 3 %\n"
     ]
    },
    {
     "name": "stderr",
     "output_type": "stream",
     "text": [
      " 20%|█▉        | 296/1507 [16:51<1:11:24,  3.54s/it]"
     ]
    },
    {
     "name": "stdout",
     "output_type": "stream",
     "text": [
      "ID: TEST_0295 Question: 홈스쿨 체험박스' 시행 목적은 무엇인가 Generated answer: 코로나19로 방문객이 줄어 어려움을 겪는 경영체에게 간접 농촌체험을 해볼 수 있도록\n"
     ]
    },
    {
     "name": "stderr",
     "output_type": "stream",
     "text": [
      " 20%|█▉        | 297/1507 [16:55<1:10:00,  3.47s/it]"
     ]
    },
    {
     "name": "stdout",
     "output_type": "stream",
     "text": [
      "ID: TEST_0296 Question: 문재인 정부의 몇 번째 부동산 대책인지 Generated answer: 23번째\n"
     ]
    },
    {
     "name": "stderr",
     "output_type": "stream",
     "text": [
      " 20%|█▉        | 298/1507 [16:59<1:12:05,  3.58s/it]"
     ]
    },
    {
     "name": "stdout",
     "output_type": "stream",
     "text": [
      "ID: TEST_0297 Question: 공급 물량이 몇 가구인지 Generated answer: 10만여 가구\n"
     ]
    },
    {
     "name": "stderr",
     "output_type": "stream",
     "text": [
      " 20%|█▉        | 299/1507 [17:03<1:13:58,  3.67s/it]"
     ]
    },
    {
     "name": "stdout",
     "output_type": "stream",
     "text": [
      "ID: TEST_0298 Question: 강남구 대치동 은마아파트의 현재 용적률은 Generated answer: 204 % 다\n"
     ]
    },
    {
     "name": "stderr",
     "output_type": "stream",
     "text": [
      " 20%|█▉        | 300/1507 [17:06<1:14:56,  3.73s/it]"
     ]
    },
    {
     "name": "stdout",
     "output_type": "stream",
     "text": [
      "ID: TEST_0299 Question: SETEC 부지가 위치한 구는 Generated answer: 강남구 서울무역전시장 ( SETEC ) 부지, 강남구\n"
     ]
    },
    {
     "name": "stderr",
     "output_type": "stream",
     "text": [
      " 20%|█▉        | 301/1507 [17:11<1:21:52,  4.07s/it]"
     ]
    },
    {
     "name": "stdout",
     "output_type": "stream",
     "text": [
      "ID: TEST_0300 Question: 서울 용산 정비창 부지의 기존 공급 계획은 몇 가구인지 Generated answer: 8000가구\n"
     ]
    },
    {
     "name": "stderr",
     "output_type": "stream",
     "text": [
      " 20%|██        | 302/1507 [17:15<1:19:03,  3.94s/it]"
     ]
    },
    {
     "name": "stdout",
     "output_type": "stream",
     "text": [
      "ID: TEST_0301 Question: A씨가 실제 거주하는 곳 Generated answer: 분당 소재 88평짜리 대형 주상복합 아파트\n"
     ]
    },
    {
     "name": "stderr",
     "output_type": "stream",
     "text": [
      " 20%|██        | 303/1507 [17:18<1:13:55,  3.68s/it]"
     ]
    },
    {
     "name": "stdout",
     "output_type": "stream",
     "text": [
      "ID: TEST_0302 Question: A씨의 집에서 발견된 현금 금액 Generated answer: 현금 360만원\n"
     ]
    },
    {
     "name": "stderr",
     "output_type": "stream",
     "text": [
      " 20%|██        | 304/1507 [17:21<1:11:39,  3.57s/it]"
     ]
    },
    {
     "name": "stdout",
     "output_type": "stream",
     "text": [
      "ID: TEST_0303 Question: B씨의 사업자 명의를 빌린 사람 Generated answer: B씨의 처남\n"
     ]
    },
    {
     "name": "stderr",
     "output_type": "stream",
     "text": [
      " 20%|██        | 305/1507 [17:25<1:09:58,  3.49s/it]"
     ]
    },
    {
     "name": "stdout",
     "output_type": "stream",
     "text": [
      "ID: TEST_0304 Question: 국세청이 체납자 추적을 위한 분석 방식 Generated answer: 빅데이터 분석\n"
     ]
    },
    {
     "name": "stderr",
     "output_type": "stream",
     "text": [
      " 20%|██        | 306/1507 [17:28<1:12:19,  3.61s/it]"
     ]
    },
    {
     "name": "stdout",
     "output_type": "stream",
     "text": [
      "ID: TEST_0305 Question: 국세청이 체납자 정보 분석을 통해 측정한 거주지 분석 적중률 Generated answer: 85. 7 %\n"
     ]
    },
    {
     "name": "stderr",
     "output_type": "stream",
     "text": [
      " 20%|██        | 307/1507 [17:31<1:08:28,  3.42s/it]"
     ]
    },
    {
     "name": "stdout",
     "output_type": "stream",
     "text": [
      "ID: TEST_0306 Question: 제천시에 위치한 산지 태양광 발전시설의 용량은 Generated answer: 800㎾급\n"
     ]
    },
    {
     "name": "stderr",
     "output_type": "stream",
     "text": [
      " 20%|██        | 308/1507 [17:35<1:06:20,  3.32s/it]"
     ]
    },
    {
     "name": "stdout",
     "output_type": "stream",
     "text": [
      "ID: TEST_0307 Question: 봉양읍 공전리 태양광 발전시설이 건설되기 시작한 연도는 Generated answer: 2018년부터\n"
     ]
    },
    {
     "name": "stderr",
     "output_type": "stream",
     "text": [
      " 21%|██        | 309/1507 [17:38<1:06:11,  3.32s/it]"
     ]
    },
    {
     "name": "stdout",
     "output_type": "stream",
     "text": [
      "ID: TEST_0308 Question: 제천시에 내린 집중호우량은 몇 mm인가 Generated answer: 300㎜의\n"
     ]
    },
    {
     "name": "stderr",
     "output_type": "stream",
     "text": [
      " 21%|██        | 310/1507 [17:41<1:06:06,  3.31s/it]"
     ]
    },
    {
     "name": "stdout",
     "output_type": "stream",
     "text": [
      "ID: TEST_0309 Question: 전국에 설치된 산지 태양광 발전시설의 개수는 Generated answer: 1만2721곳\n"
     ]
    },
    {
     "name": "stderr",
     "output_type": "stream",
     "text": [
      " 21%|██        | 311/1507 [17:44<1:05:26,  3.28s/it]"
     ]
    },
    {
     "name": "stdout",
     "output_type": "stream",
     "text": [
      "ID: TEST_0310 Question: 태양광 발전시설의 보강공사 기준을 강화해야 한다고 말한 강원대 교수는 Generated answer: 문창열 강원대 건설시스템공학과 명예교수\n"
     ]
    },
    {
     "name": "stderr",
     "output_type": "stream",
     "text": [
      " 21%|██        | 312/1507 [17:48<1:08:14,  3.43s/it]"
     ]
    },
    {
     "name": "stdout",
     "output_type": "stream",
     "text": [
      "ID: TEST_0311 Question: 수서역세권 아파트의 청약 경쟁률은 Generated answer: 61대1\n"
     ]
    },
    {
     "name": "stderr",
     "output_type": "stream",
     "text": [
      " 21%|██        | 313/1507 [17:51<1:05:25,  3.29s/it]"
     ]
    },
    {
     "name": "stdout",
     "output_type": "stream",
     "text": [
      "ID: TEST_0312 Question: 국정감사가 본격적으로 시작되는 날짜는 언제인가 Generated answer: 7일부터\n"
     ]
    },
    {
     "name": "stderr",
     "output_type": "stream",
     "text": [
      " 21%|██        | 314/1507 [17:55<1:07:01,  3.37s/it]"
     ]
    },
    {
     "name": "stdout",
     "output_type": "stream",
     "text": [
      "ID: TEST_0313 Question: 법무부의 국정감사 일정은 언제인가 Generated answer: 오는 12일\n"
     ]
    },
    {
     "name": "stderr",
     "output_type": "stream",
     "text": [
      " 21%|██        | 315/1507 [17:58<1:05:42,  3.31s/it]"
     ]
    },
    {
     "name": "stdout",
     "output_type": "stream",
     "text": [
      "ID: TEST_0314 Question: 대검찰청의 국정감사 일정은 언제인가 Generated answer: 22일에\n"
     ]
    },
    {
     "name": "stderr",
     "output_type": "stream",
     "text": [
      " 21%|██        | 316/1507 [18:01<1:06:42,  3.36s/it]"
     ]
    },
    {
     "name": "stdout",
     "output_type": "stream",
     "text": [
      "ID: TEST_0315 Question: 종합감사가 진행되는 날짜는 언제인가 Generated answer: . 26일\n"
     ]
    },
    {
     "name": "stderr",
     "output_type": "stream",
     "text": [
      " 21%|██        | 317/1507 [18:05<1:08:35,  3.46s/it]"
     ]
    },
    {
     "name": "stdout",
     "output_type": "stream",
     "text": [
      "ID: TEST_0316 Question: 윤석열 검찰총장이 국정감사장에서 마지막으로 질의를 받은 해는 언제인가 Generated answer: 지난해 10월\n"
     ]
    },
    {
     "name": "stderr",
     "output_type": "stream",
     "text": [
      " 21%|██        | 318/1507 [18:09<1:10:20,  3.55s/it]"
     ]
    },
    {
     "name": "stdout",
     "output_type": "stream",
     "text": [
      "ID: TEST_0317 Question: 서울시가 도시전환랩을 위해 투자한 금액은 얼마인가 Generated answer: 5억원\n"
     ]
    },
    {
     "name": "stderr",
     "output_type": "stream",
     "text": [
      " 21%|██        | 319/1507 [18:10<57:28,  2.90s/it]  "
     ]
    },
    {
     "name": "stdout",
     "output_type": "stream",
     "text": [
      "ID: TEST_0318 Question: 제주관광공사의 2020년도 매출액은 Generated answer: 324억3900만원\n"
     ]
    },
    {
     "name": "stderr",
     "output_type": "stream",
     "text": [
      " 21%|██        | 320/1507 [18:12<51:28,  2.60s/it]"
     ]
    },
    {
     "name": "stdout",
     "output_type": "stream",
     "text": [
      "ID: TEST_0319 Question: 제주국제컨벤션센터 내 지정면세점의 매출액은 Generated answer: 305억7800만원\n"
     ]
    },
    {
     "name": "stderr",
     "output_type": "stream",
     "text": [
      " 21%|██▏       | 321/1507 [18:13<42:41,  2.16s/it]"
     ]
    },
    {
     "name": "stdout",
     "output_type": "stream",
     "text": [
      "ID: TEST_0320 Question: 2020년 성산항면세점의 매출액은 Generated answer: 5400만원\n"
     ]
    },
    {
     "name": "stderr",
     "output_type": "stream",
     "text": [
      " 21%|██▏       | 322/1507 [18:15<42:03,  2.13s/it]"
     ]
    },
    {
     "name": "stdout",
     "output_type": "stream",
     "text": [
      "ID: TEST_0321 Question: 2019년 당기순손실은 Generated answer: 9600만원\n"
     ]
    },
    {
     "name": "stderr",
     "output_type": "stream",
     "text": [
      " 21%|██▏       | 323/1507 [18:16<36:40,  1.86s/it]"
     ]
    },
    {
     "name": "stdout",
     "output_type": "stream",
     "text": [
      "ID: TEST_0322 Question: 2019년 판매관리비는 Generated answer: 46. 9 % 줄었다.\n"
     ]
    },
    {
     "name": "stderr",
     "output_type": "stream",
     "text": [
      " 21%|██▏       | 324/1507 [18:20<47:36,  2.41s/it]"
     ]
    },
    {
     "name": "stdout",
     "output_type": "stream",
     "text": [
      "ID: TEST_0323 Question: 홍콩 중문대학으로부터 받은 연구비 금액 Generated answer: 6000만원\n"
     ]
    },
    {
     "name": "stderr",
     "output_type": "stream",
     "text": [
      " 22%|██▏       | 325/1507 [18:23<51:51,  2.63s/it]"
     ]
    },
    {
     "name": "stdout",
     "output_type": "stream",
     "text": [
      "ID: TEST_0324 Question: 지페어코리아 2020이 열린 장소는 Generated answer: 경기도와 경기도경제과학진흥원 ( 이하 경과원 ) 이 코로나19 위기 속 중소기업 판로개척을 위해 21일부터 23일까지 킨텍스\n"
     ]
    },
    {
     "name": "stderr",
     "output_type": "stream",
     "text": [
      " 22%|██▏       | 326/1507 [18:27<1:00:54,  3.09s/it]"
     ]
    },
    {
     "name": "stdout",
     "output_type": "stream",
     "text": [
      "ID: TEST_0325 Question: 경과원의 수출 지원사업이 초점을 맞춘 시대적 변화는 Generated answer: 뉴노멀 시대 변화\n"
     ]
    },
    {
     "name": "stderr",
     "output_type": "stream",
     "text": [
      " 22%|██▏       | 327/1507 [18:32<1:07:06,  3.41s/it]"
     ]
    },
    {
     "name": "stdout",
     "output_type": "stream",
     "text": [
      "ID: TEST_0326 Question: 랩타임이 바이어와 상담한 주요 도시 Generated answer: 중국 베이징에서\n"
     ]
    },
    {
     "name": "stderr",
     "output_type": "stream",
     "text": [
      " 22%|██▏       | 328/1507 [18:35<1:07:56,  3.46s/it]"
     ]
    },
    {
     "name": "stdout",
     "output_type": "stream",
     "text": [
      "ID: TEST_0327 Question: 성우금속이 상담한 국내 대형 유통사 Generated answer: 구매담당자는 동사의 주방용품 5종 세트가 가격경쟁력이 있다고 판단해 입점 제안을 했으며, 향후 5억 원 규모의 판매 거래가 예상된다.\n"
     ]
    },
    {
     "name": "stderr",
     "output_type": "stream",
     "text": [
      " 22%|██▏       | 329/1507 [18:38<1:06:58,  3.41s/it]"
     ]
    },
    {
     "name": "stdout",
     "output_type": "stream",
     "text": [
      "ID: TEST_0328 Question: 베트남 바이어 응웬꽝티업의 상담 태도를 형성한 요소 Generated answer: 신뢰를 갖고 상담에 임할 수 있었다 ” 며, “ 이번에 상담한 몇몇 기업과는 빠른 시일 내 거래가 진행될 것 같다 ” 며 참가 소감을 전했다.\n"
     ]
    },
    {
     "name": "stderr",
     "output_type": "stream",
     "text": [
      " 22%|██▏       | 330/1507 [18:42<1:06:23,  3.38s/it]"
     ]
    },
    {
     "name": "stdout",
     "output_type": "stream",
     "text": [
      "ID: TEST_0329 Question: 라임코리아가 협약을 체결한 보험사 Generated answer: 한화손해보험\n"
     ]
    },
    {
     "name": "stderr",
     "output_type": "stream",
     "text": [
      " 22%|██▏       | 331/1507 [18:45<1:05:50,  3.36s/it]"
     ]
    },
    {
     "name": "stdout",
     "output_type": "stream",
     "text": [
      "ID: TEST_0330 Question: 이명박 정부 땅값 상승률은? Generated answer: 연평균 상승액 ( 평균 100조원 )\n"
     ]
    },
    {
     "name": "stderr",
     "output_type": "stream",
     "text": [
      " 22%|██▏       | 332/1507 [18:50<1:11:50,  3.67s/it]"
     ]
    },
    {
     "name": "stdout",
     "output_type": "stream",
     "text": [
      "ID: TEST_0331 Question: 정의당이 '포괄적 차별금지법'을 당론으로 발의한 시점 Generated answer: 지난 6월 말\n"
     ]
    },
    {
     "name": "stderr",
     "output_type": "stream",
     "text": [
      " 22%|██▏       | 333/1507 [18:54<1:15:55,  3.88s/it]"
     ]
    },
    {
     "name": "stdout",
     "output_type": "stream",
     "text": [
      "ID: TEST_0332 Question: 포괄적 차별금지법 제정 촉구 건의안'이 부결된 전북도의회 회의 차수 Generated answer: 전북도의회는 지난달 16일 열린 제374회 임시회\n"
     ]
    },
    {
     "name": "stderr",
     "output_type": "stream",
     "text": [
      " 22%|██▏       | 334/1507 [18:58<1:19:07,  4.05s/it]"
     ]
    },
    {
     "name": "stdout",
     "output_type": "stream",
     "text": [
      "ID: TEST_0333 Question: 전북도의회 의원 중 민주당 소속 의원 수 Generated answer: 11대 전북도의회 전체 의원 39명 중 36명\n"
     ]
    },
    {
     "name": "stderr",
     "output_type": "stream",
     "text": [
      " 22%|██▏       | 335/1507 [19:03<1:21:09,  4.15s/it]"
     ]
    },
    {
     "name": "stdout",
     "output_type": "stream",
     "text": [
      "ID: TEST_0334 Question: 나인권 도의원의 소속 정당 Generated answer: 더불어민주당\n"
     ]
    },
    {
     "name": "stderr",
     "output_type": "stream",
     "text": [
      " 22%|██▏       | 336/1507 [19:07<1:24:16,  4.32s/it]"
     ]
    },
    {
     "name": "stdout",
     "output_type": "stream",
     "text": [
      "ID: TEST_0335 Question: 보수 단체가 난동을 벌인 정의당 대표의 지역 사무실 위치 Generated answer: 앞서 차별금지법에 반대하는 한 보수 단체가 지난달 25일 경기 고양시 화정동 심상정 정의당 대표의 지역 사무실에 난입해 난동을 벌이기도 했다.\n"
     ]
    },
    {
     "name": "stderr",
     "output_type": "stream",
     "text": [
      " 22%|██▏       | 337/1507 [19:10<1:12:42,  3.73s/it]"
     ]
    },
    {
     "name": "stdout",
     "output_type": "stream",
     "text": [
      "ID: TEST_0336 Question: 호가든 오리지널 제품의 알코올 도수는 Generated answer: 4. 9도 )\n"
     ]
    },
    {
     "name": "stderr",
     "output_type": "stream",
     "text": [
      " 22%|██▏       | 338/1507 [19:15<1:20:34,  4.14s/it]"
     ]
    },
    {
     "name": "stdout",
     "output_type": "stream",
     "text": [
      "ID: TEST_0337 Question: 하나은행이 자본시장법상 다하지 않은 의무 Generated answer: 선량한 관리자의 주의 ( 선관주의 ) 의무 '\n"
     ]
    },
    {
     "name": "stderr",
     "output_type": "stream",
     "text": [
      " 22%|██▏       | 339/1507 [19:19<1:18:52,  4.05s/it]"
     ]
    },
    {
     "name": "stdout",
     "output_type": "stream",
     "text": [
      "ID: TEST_0338 Question: 옵티머스와 관련된 부동산 투자자문사 Generated answer: 아트리파라다이스\n"
     ]
    },
    {
     "name": "stderr",
     "output_type": "stream",
     "text": [
      " 23%|██▎       | 340/1507 [19:23<1:17:54,  4.01s/it]"
     ]
    },
    {
     "name": "stdout",
     "output_type": "stream",
     "text": [
      "ID: TEST_0339 Question: 옵티머스 펀드 자산의 대부분을 차지하는 것 Generated answer: 부실 사모사채\n"
     ]
    },
    {
     "name": "stderr",
     "output_type": "stream",
     "text": [
      " 23%|██▎       | 341/1507 [19:27<1:20:11,  4.13s/it]"
     ]
    },
    {
     "name": "stdout",
     "output_type": "stream",
     "text": [
      "ID: TEST_0340 Question: 자산 운용사의 운용상 위법·부당 행위를 감시할 의무가 있는 기관 Generated answer: 수탁사로서'선량한 관리자의 주의 ( 선관주의 ) 의무'도 다하지 않은 것으로 나타났다. 자본시장법은 운용사 운용이 법령 · 약관에 어긋나면 수탁은행\n"
     ]
    },
    {
     "name": "stderr",
     "output_type": "stream",
     "text": [
      " 23%|██▎       | 342/1507 [19:30<1:15:28,  3.89s/it]"
     ]
    },
    {
     "name": "stdout",
     "output_type": "stream",
     "text": [
      "ID: TEST_0341 Question: 유의동 의원이 수행하는 역할 Generated answer: 옵티머스 펀드 수탁사인 하나은행이 투자제안서상 자산과 실제 매입한 사모사채 간 불일치를 알고서도 아무 조치를 하지 않았다는 점을 입증할 내부 문건이 추가로 나왔다.\n"
     ]
    },
    {
     "name": "stderr",
     "output_type": "stream",
     "text": [
      " 23%|██▎       | 343/1507 [19:34<1:12:03,  3.71s/it]"
     ]
    },
    {
     "name": "stdout",
     "output_type": "stream",
     "text": [
      "ID: TEST_0342 Question: 최종판결이 내려질 예정일은 Generated answer: 12월10일\n"
     ]
    },
    {
     "name": "stderr",
     "output_type": "stream",
     "text": [
      " 23%|██▎       | 344/1507 [19:37<1:09:38,  3.59s/it]"
     ]
    },
    {
     "name": "stdout",
     "output_type": "stream",
     "text": [
      "ID: TEST_0343 Question: LG화학이 배터리 합작공장을 짓고 있는 주는 Generated answer: 오하이오주\n"
     ]
    },
    {
     "name": "stderr",
     "output_type": "stream",
     "text": [
      " 23%|██▎       | 345/1507 [19:40<1:07:57,  3.51s/it]"
     ]
    },
    {
     "name": "stdout",
     "output_type": "stream",
     "text": [
      "ID: TEST_0344 Question: 최종 판결이 다시 조정되면서 연기된 총 일수는 Generated answer: 67일 미뤄졌다.\n"
     ]
    },
    {
     "name": "stderr",
     "output_type": "stream",
     "text": [
      " 23%|██▎       | 346/1507 [19:45<1:12:01,  3.72s/it]"
     ]
    },
    {
     "name": "stdout",
     "output_type": "stream",
     "text": [
      "ID: TEST_0345 Question: 포드가 LG배터리와 함께 공급받기로 된 SK배터리 첫 해는 Generated answer: 2023년부터\n"
     ]
    },
    {
     "name": "stderr",
     "output_type": "stream",
     "text": [
      " 23%|██▎       | 347/1507 [19:47<1:05:16,  3.38s/it]"
     ]
    },
    {
     "name": "stdout",
     "output_type": "stream",
     "text": [
      "ID: TEST_0346 Question: 미국 대선이 변수일 가능성이 있는 날짜는 Generated answer: 11월3일\n"
     ]
    },
    {
     "name": "stderr",
     "output_type": "stream",
     "text": [
      " 23%|██▎       | 348/1507 [19:50<1:03:53,  3.31s/it]"
     ]
    },
    {
     "name": "stdout",
     "output_type": "stream",
     "text": [
      "ID: TEST_0347 Question: 김승범 중위의 소속 부대는 어디야 Generated answer: 공군29전술개발훈련비행전대 ( 29전대 )\n"
     ]
    },
    {
     "name": "stderr",
     "output_type": "stream",
     "text": [
      " 23%|██▎       | 349/1507 [19:55<1:10:08,  3.63s/it]"
     ]
    },
    {
     "name": "stdout",
     "output_type": "stream",
     "text": [
      "ID: TEST_0348 Question: 고진형 경장이 표창을 받은 날짜는 언제야 Generated answer: 지난 5일 맨몸으로 급류에 뛰어들어 8세 아동을 구한 의정부경찰서 고진형 ( 29 ) 경장은 10일\n"
     ]
    },
    {
     "name": "stderr",
     "output_type": "stream",
     "text": [
      " 23%|██▎       | 350/1507 [19:59<1:12:33,  3.76s/it]"
     ]
    },
    {
     "name": "stdout",
     "output_type": "stream",
     "text": [
      "ID: TEST_0349 Question: 고진형 경장이 구조한 아동의 나이는 몇 살이야 Generated answer: 8세 아동\n"
     ]
    },
    {
     "name": "stderr",
     "output_type": "stream",
     "text": [
      " 23%|██▎       | 351/1507 [20:02<1:11:55,  3.73s/it]"
     ]
    },
    {
     "name": "stdout",
     "output_type": "stream",
     "text": [
      "ID: TEST_0350 Question: 고진형 경장의 선친은 몇 년 전에 순직했어 Generated answer: 11년 전\n"
     ]
    },
    {
     "name": "stderr",
     "output_type": "stream",
     "text": [
      " 23%|██▎       | 352/1507 [20:06<1:11:43,  3.73s/it]"
     ]
    },
    {
     "name": "stdout",
     "output_type": "stream",
     "text": [
      "ID: TEST_0351 Question: 박건식 순경이 구조한 주민 수는 몇 명이야 Generated answer: 12명을\n"
     ]
    },
    {
     "name": "stderr",
     "output_type": "stream",
     "text": [
      " 23%|██▎       | 353/1507 [20:08<1:02:09,  3.23s/it]"
     ]
    },
    {
     "name": "stdout",
     "output_type": "stream",
     "text": [
      "ID: TEST_0352 Question: 지난달 전체 시가총액은 얼마나 증가했어 Generated answer: 59조1542억원\n"
     ]
    },
    {
     "name": "stderr",
     "output_type": "stream",
     "text": [
      " 23%|██▎       | 354/1507 [20:11<1:00:45,  3.16s/it]"
     ]
    },
    {
     "name": "stdout",
     "output_type": "stream",
     "text": [
      "ID: TEST_0353 Question: 한국전력의 시가총액 감소분은 Generated answer: 2조9209억원\n"
     ]
    },
    {
     "name": "stderr",
     "output_type": "stream",
     "text": [
      " 24%|██▎       | 355/1507 [20:13<55:24,  2.89s/it]  "
     ]
    },
    {
     "name": "stdout",
     "output_type": "stream",
     "text": [
      "ID: TEST_0354 Question: 광주·전남지역 투자자의 거래량 비중은 Generated answer: 2. 28 %\n"
     ]
    },
    {
     "name": "stderr",
     "output_type": "stream",
     "text": [
      " 24%|██▎       | 356/1507 [20:17<57:44,  3.01s/it]"
     ]
    },
    {
     "name": "stdout",
     "output_type": "stream",
     "text": [
      "ID: TEST_0355 Question: 대유에이텍의 시가총액 증가분은 Generated answer: 대유에이텍 ( + 229억원, + 25. 44 % )\n"
     ]
    },
    {
     "name": "stderr",
     "output_type": "stream",
     "text": [
      " 24%|██▎       | 357/1507 [20:19<53:10,  2.77s/it]"
     ]
    },
    {
     "name": "stdout",
     "output_type": "stream",
     "text": [
      "ID: TEST_0356 Question: 코스닥에서 시가총액이 가장 많이 증가한 기업은 Generated answer: 셀트리온헬스케어, 박셀바이오, 셀트리온제약, 씨아이에스\n"
     ]
    },
    {
     "name": "stderr",
     "output_type": "stream",
     "text": [
      " 24%|██▍       | 358/1507 [20:24<1:08:39,  3.59s/it]"
     ]
    },
    {
     "name": "stdout",
     "output_type": "stream",
     "text": [
      "ID: TEST_0357 Question: 화웨이의 3분기 출하량 하락률은 Generated answer: 출하량이 22 %\n"
     ]
    },
    {
     "name": "stderr",
     "output_type": "stream",
     "text": [
      " 24%|██▍       | 359/1507 [20:29<1:13:17,  3.83s/it]"
     ]
    },
    {
     "name": "stdout",
     "output_type": "stream",
     "text": [
      "ID: TEST_0358 Question: 카운터포인트리서치가 집계한 삼성전자의 스마트폰 출하량은 Generated answer: 7980만대로\n"
     ]
    },
    {
     "name": "stderr",
     "output_type": "stream",
     "text": [
      " 24%|██▍       | 360/1507 [20:33<1:18:16,  4.09s/it]"
     ]
    },
    {
     "name": "stdout",
     "output_type": "stream",
     "text": [
      "ID: TEST_0359 Question: 삼성전자가 인도 시장에서 1위를 차지한 스마트폰 브랜드는 Generated answer: 샤오미 ( 23 % ) 를\n"
     ]
    },
    {
     "name": "stderr",
     "output_type": "stream",
     "text": [
      " 24%|██▍       | 361/1507 [20:39<1:24:32,  4.43s/it]"
     ]
    },
    {
     "name": "stdout",
     "output_type": "stream",
     "text": [
      "ID: TEST_0360 Question: 삼성전자의 3분기 중국 스마트폰 시장 점유율은 Generated answer: 1. 2 %\n"
     ]
    },
    {
     "name": "stderr",
     "output_type": "stream",
     "text": [
      " 24%|██▍       | 362/1507 [20:43<1:26:30,  4.53s/it]"
     ]
    },
    {
     "name": "stdout",
     "output_type": "stream",
     "text": [
      "ID: TEST_0361 Question: 내년 5G 스마트폰 시장 출하량 예상치는 Generated answer: 6억3500만대로\n"
     ]
    },
    {
     "name": "stderr",
     "output_type": "stream",
     "text": [
      " 24%|██▍       | 363/1507 [20:46<1:17:24,  4.06s/it]"
     ]
    },
    {
     "name": "stdout",
     "output_type": "stream",
     "text": [
      "ID: TEST_0362 Question: 현대차 소형 상용차 판매량은 Generated answer: 1만1777대\n"
     ]
    },
    {
     "name": "stderr",
     "output_type": "stream",
     "text": [
      " 24%|██▍       | 364/1507 [20:49<1:09:15,  3.64s/it]"
     ]
    },
    {
     "name": "stdout",
     "output_type": "stream",
     "text": [
      "ID: TEST_0363 Question: 청원이 시작된 날은 Generated answer: 8월 17일\n"
     ]
    },
    {
     "name": "stderr",
     "output_type": "stream",
     "text": [
      " 24%|██▍       | 365/1507 [20:50<53:02,  2.79s/it]  "
     ]
    },
    {
     "name": "stdout",
     "output_type": "stream",
     "text": [
      "ID: TEST_0364 Question: 청원이 받은 동의 수는 Generated answer: 40만131명\n"
     ]
    },
    {
     "name": "stderr",
     "output_type": "stream",
     "text": [
      " 24%|██▍       | 367/1507 [20:50<27:47,  1.46s/it]"
     ]
    },
    {
     "name": "stdout",
     "output_type": "stream",
     "text": [
      "ID: TEST_0365 Question: 입원치료비용 지원 근거 법령은 Generated answer: 감염병예방법\n",
      "ID: TEST_0366 Question: 3T 방역 전략 중 '조기 격리 및 치료'는 영어로 Generated answer: 대규모 검사 ( Test ) - 신속한 역학조사 ( Trace ) - 조기 격리 및 치료 ( Treatment )\n"
     ]
    },
    {
     "name": "stderr",
     "output_type": "stream",
     "text": [
      " 24%|██▍       | 368/1507 [20:50<20:34,  1.08s/it]"
     ]
    },
    {
     "name": "stdout",
     "output_type": "stream",
     "text": [
      "ID: TEST_0367 Question: 손해배상청구를 제기한 지자체 수는 Generated answer: 현재 서울을 비롯한 5개\n"
     ]
    },
    {
     "name": "stderr",
     "output_type": "stream",
     "text": [
      " 24%|██▍       | 369/1507 [20:54<33:16,  1.75s/it]"
     ]
    },
    {
     "name": "stdout",
     "output_type": "stream",
     "text": [
      "ID: TEST_0368 Question: 9일 오전 9시 기준으로 산사태 예보가 발령된 전국 시·군·구 수는 Generated answer: 전국 81개\n"
     ]
    },
    {
     "name": "stderr",
     "output_type": "stream",
     "text": [
      " 25%|██▍       | 370/1507 [20:57<42:07,  2.22s/it]"
     ]
    },
    {
     "name": "stdout",
     "output_type": "stream",
     "text": [
      "ID: TEST_0369 Question: 9일 기준으로 전국에서 산사태 경보가 발령된 시·군·구는 Generated answer: 24곳이다. 충북 보은 · 영동, 전남 강진 · 나주 등 57곳에는 산사태 주의보가 발령 중이다. 경기 지역은 31개 시군 전역에 산사태 경보 · 주의보가 내려졌다.\n"
     ]
    },
    {
     "name": "stderr",
     "output_type": "stream",
     "text": [
      " 25%|██▍       | 371/1507 [21:00<44:43,  2.36s/it]"
     ]
    },
    {
     "name": "stdout",
     "output_type": "stream",
     "text": [
      "ID: TEST_0370 Question: 8일 하루에 전국에서 발생한 산사태 건수는 Generated answer: 55건의 산사태가 발생했다.\n"
     ]
    },
    {
     "name": "stderr",
     "output_type": "stream",
     "text": [
      " 25%|██▍       | 372/1507 [21:03<47:12,  2.50s/it]"
     ]
    },
    {
     "name": "stdout",
     "output_type": "stream",
     "text": [
      "ID: TEST_0371 Question: 충북에서 8월 들어 발생한 산사태 건수는 Generated answer: 314건\n"
     ]
    },
    {
     "name": "stderr",
     "output_type": "stream",
     "text": [
      " 25%|██▍       | 373/1507 [21:05<45:34,  2.41s/it]"
     ]
    },
    {
     "name": "stdout",
     "output_type": "stream",
     "text": [
      "ID: TEST_0372 Question: 태양광발전 시설로 피해를 본 시·군·구 수는 Generated answer: 전국 산지 태양광발전 시설 1만2721곳 중 경북 성주와 고령, 전북 남원, 충남 금산 ( 2건 ) · 천안, 강원 철원, 충북 충주 등 12곳\n"
     ]
    },
    {
     "name": "stderr",
     "output_type": "stream",
     "text": [
      " 25%|██▍       | 374/1507 [21:08<51:29,  2.73s/it]"
     ]
    },
    {
     "name": "stdout",
     "output_type": "stream",
     "text": [
      "ID: TEST_0373 Question: 부동산 조세저항 촛불집회가 열린 구는 어디 Generated answer: 구로구 신도림동에서 ‘ 6 · 17 부동산 규제 철회 촉구 ’ 집회가 열렸고, 지난달 18일 · 25일에는 서울시 중구 을지로\n"
     ]
    },
    {
     "name": "stderr",
     "output_type": "stream",
     "text": [
      " 25%|██▍       | 375/1507 [21:13<1:00:03,  3.18s/it]"
     ]
    },
    {
     "name": "stdout",
     "output_type": "stream",
     "text": [
      "ID: TEST_0374 Question: 코스피 시장에서 개인 순매수 규모 Generated answer: 또 연중 최고치다.\n"
     ]
    },
    {
     "name": "stderr",
     "output_type": "stream",
     "text": [
      " 25%|██▍       | 376/1507 [21:17<1:06:59,  3.55s/it]"
     ]
    },
    {
     "name": "stdout",
     "output_type": "stream",
     "text": [
      "ID: TEST_0375 Question: 김대환 전 장관이 노동부 장관을 지낸 시기는 Generated answer: 2004 ~ 2006년\n"
     ]
    },
    {
     "name": "stderr",
     "output_type": "stream",
     "text": [
      " 25%|██▌       | 377/1507 [21:20<1:05:30,  3.48s/it]"
     ]
    },
    {
     "name": "stdout",
     "output_type": "stream",
     "text": [
      "ID: TEST_0376 Question: 대주주의 최대 의결권 제한 비율은 Generated answer: 국내 대기업들은 개방경제 시대를 살며 글로벌 기업들과 무한 경쟁을 하고 있는데, 대주주 의결권 3 % 제한, 다중대표소송제 등은 글로벌 스탠다드에 맞지 않는다 ” 고 말했다.\n"
     ]
    },
    {
     "name": "stderr",
     "output_type": "stream",
     "text": [
      " 25%|██▌       | 378/1507 [21:25<1:12:00,  3.83s/it]"
     ]
    },
    {
     "name": "stdout",
     "output_type": "stream",
     "text": [
      "ID: TEST_0377 Question: 노조법 개정안의 주요 내용 중 하나는 Generated answer: 해고자 · 실업자 노조가입허용 ’ 과 ‘ 노조 전임자 급여지급 허용 ’\n"
     ]
    },
    {
     "name": "stderr",
     "output_type": "stream",
     "text": [
      " 25%|██▌       | 379/1507 [21:29<1:16:13,  4.05s/it]"
     ]
    },
    {
     "name": "stdout",
     "output_type": "stream",
     "text": [
      "ID: TEST_0378 Question: 노동시장의 이중구조에 포함되는 대기업 정규직과 공무원이 속한 시장은 Generated answer: 중소 · 영세기업, 비정규직 일자리\n"
     ]
    },
    {
     "name": "stderr",
     "output_type": "stream",
     "text": [
      " 25%|██▌       | 380/1507 [21:35<1:22:10,  4.37s/it]"
     ]
    },
    {
     "name": "stdout",
     "output_type": "stream",
     "text": [
      "ID: TEST_0379 Question: 김 전 장관이 노동개혁을 위해 대통령의 무엇을 강조했는가 Generated answer: 대통령이 노동개혁 전반에 나서 추진력을 불어주길 바란다 ”\n"
     ]
    },
    {
     "name": "stderr",
     "output_type": "stream",
     "text": [
      " 25%|██▌       | 381/1507 [21:39<1:22:23,  4.39s/it]"
     ]
    },
    {
     "name": "stdout",
     "output_type": "stream",
     "text": [
      "ID: TEST_0380 Question: 씨젠이 3분기에 기록한 영업이익은 얼마야 Generated answer: 2099억원\n"
     ]
    },
    {
     "name": "stderr",
     "output_type": "stream",
     "text": [
      " 25%|██▌       | 382/1507 [21:43<1:22:25,  4.40s/it]"
     ]
    },
    {
     "name": "stdout",
     "output_type": "stream",
     "text": [
      "ID: TEST_0381 Question: 씨젠의 4분기 실적이 나아질 것으로 예상되는 이유는 무엇이야 Generated answer: 각종 호흡기 질환을 한 번에 진단할 수 있는 동시 진단 제품이 시장에서 선방하고 있기 때문\n"
     ]
    },
    {
     "name": "stderr",
     "output_type": "stream",
     "text": [
      " 25%|██▌       | 383/1507 [21:49<1:28:33,  4.73s/it]"
     ]
    },
    {
     "name": "stdout",
     "output_type": "stream",
     "text": [
      "ID: TEST_0382 Question: 코로나19 백신 개발 소식에 씨젠 주가는 며칠 동안 하락했어 Generated answer: 미국 제약사 화이자가 코로나19 백신 임상 3상 중간 결과를 발표한 지난 9일 ( 현지시간 ) 이후 씨젠 주가는 이틀 연속\n"
     ]
    },
    {
     "name": "stderr",
     "output_type": "stream",
     "text": [
      " 25%|██▌       | 384/1507 [21:53<1:24:30,  4.52s/it]"
     ]
    },
    {
     "name": "stdout",
     "output_type": "stream",
     "text": [
      "ID: TEST_0383 Question: 씨젠이 재판매하는 외국산 PCR 장비 명칭은 무엇이야 Generated answer: CFX96\n"
     ]
    },
    {
     "name": "stderr",
     "output_type": "stream",
     "text": [
      " 26%|██▌       | 385/1507 [21:58<1:29:04,  4.76s/it]"
     ]
    },
    {
     "name": "stdout",
     "output_type": "stream",
     "text": [
      "ID: TEST_0384 Question: 씨젠이 예상하는 연간 영업이익률은 몇 퍼센트야 Generated answer: 60 % 달성\n"
     ]
    },
    {
     "name": "stderr",
     "output_type": "stream",
     "text": [
      " 26%|██▌       | 386/1507 [22:02<1:22:28,  4.41s/it]"
     ]
    },
    {
     "name": "stdout",
     "output_type": "stream",
     "text": [
      "ID: TEST_0385 Question: 목포지역에서 일하는 외국인 선원의 수는 Generated answer: 3000여명\n"
     ]
    },
    {
     "name": "stderr",
     "output_type": "stream",
     "text": [
      " 26%|██▌       | 387/1507 [22:06<1:18:21,  4.20s/it]"
     ]
    },
    {
     "name": "stdout",
     "output_type": "stream",
     "text": [
      "ID: TEST_0386 Question: E10 비자를 발급하는 기관은 Generated answer: 해양수산부에서 발급\n"
     ]
    },
    {
     "name": "stderr",
     "output_type": "stream",
     "text": [
      " 26%|██▌       | 388/1507 [22:10<1:18:55,  4.23s/it]"
     ]
    },
    {
     "name": "stdout",
     "output_type": "stream",
     "text": [
      "ID: TEST_0387 Question: 9.77t급 어선에서 일할 수 있는 비자는 Generated answer: E9 비자\n"
     ]
    },
    {
     "name": "stderr",
     "output_type": "stream",
     "text": [
      " 26%|██▌       | 389/1507 [22:13<1:13:37,  3.95s/it]"
     ]
    },
    {
     "name": "stdout",
     "output_type": "stream",
     "text": [
      "ID: TEST_0388 Question: 불법 체류자 조사를 하는 기관은 Generated answer: 전남 목포해양경찰서\n"
     ]
    },
    {
     "name": "stderr",
     "output_type": "stream",
     "text": [
      " 26%|██▌       | 390/1507 [22:16<1:09:51,  3.75s/it]"
     ]
    },
    {
     "name": "stdout",
     "output_type": "stream",
     "text": [
      "ID: TEST_0389 Question: 주요 국적 외국인은 Generated answer: 최근 목포지역에서 일하는 외국인 선원은 코로나19 이후 20 ~ 30 % 이상 줄어든 약 3000명 수준이다.\n"
     ]
    },
    {
     "name": "stderr",
     "output_type": "stream",
     "text": [
      " 26%|██▌       | 391/1507 [22:20<1:06:08,  3.56s/it]"
     ]
    },
    {
     "name": "stdout",
     "output_type": "stream",
     "text": [
      "ID: TEST_0390 Question: 추미애 법무부 장관이 검찰 개혁 명분쌓기에 나선 것으로 분석된 날짜 Generated answer: 추 장관은 21일\n"
     ]
    },
    {
     "name": "stderr",
     "output_type": "stream",
     "text": [
      " 26%|██▌       | 392/1507 [22:22<1:01:09,  3.29s/it]"
     ]
    },
    {
     "name": "stdout",
     "output_type": "stream",
     "text": [
      "ID: TEST_0391 Question: 김봉현 전 회장이 구속된 날짜 Generated answer: 4월 23일\n"
     ]
    },
    {
     "name": "stderr",
     "output_type": "stream",
     "text": [
      " 26%|██▌       | 393/1507 [22:25<59:56,  3.23s/it]  "
     ]
    },
    {
     "name": "stdout",
     "output_type": "stream",
     "text": [
      "ID: TEST_0392 Question: 검찰 인권수사제도 개선 TF가 발표한 날짜 Generated answer: 9월 21일\n"
     ]
    },
    {
     "name": "stderr",
     "output_type": "stream",
     "text": [
      " 26%|██▌       | 394/1507 [22:29<1:00:21,  3.25s/it]"
     ]
    },
    {
     "name": "stdout",
     "output_type": "stream",
     "text": [
      "ID: TEST_0393 Question: 정희도 부장검사의 나이 Generated answer: 54 · 사법연수원 31기 )\n"
     ]
    },
    {
     "name": "stderr",
     "output_type": "stream",
     "text": [
      " 26%|██▌       | 395/1507 [22:32<1:00:41,  3.27s/it]"
     ]
    },
    {
     "name": "stdout",
     "output_type": "stream",
     "text": [
      "ID: TEST_0394 Question: 정희도 부장검사의 사법연수원 기수 Generated answer: 사법연수원 31기\n"
     ]
    },
    {
     "name": "stderr",
     "output_type": "stream",
     "text": [
      " 26%|██▋       | 396/1507 [22:36<1:06:52,  3.61s/it]"
     ]
    },
    {
     "name": "stdout",
     "output_type": "stream",
     "text": [
      "ID: TEST_0395 Question: 권오봉 여수시장이 시민에게 지급하기로 한 재난지원금은 얼마인가 Generated answer: 1인당 25만 원\n"
     ]
    },
    {
     "name": "stderr",
     "output_type": "stream",
     "text": [
      " 26%|██▋       | 397/1507 [22:40<1:07:41,  3.66s/it]"
     ]
    },
    {
     "name": "stdout",
     "output_type": "stream",
     "text": [
      "ID: TEST_0396 Question: 재난지원금 지급 대상이 되는 날짜는 언제인가 Generated answer: 2021년 1월 18일\n"
     ]
    },
    {
     "name": "stderr",
     "output_type": "stream",
     "text": [
      " 26%|██▋       | 398/1507 [22:44<1:09:16,  3.75s/it]"
     ]
    },
    {
     "name": "stdout",
     "output_type": "stream",
     "text": [
      "ID: TEST_0397 Question: 재난지원금 지급 총 규모는 얼마인가 Generated answer: 720억 원\n"
     ]
    },
    {
     "name": "stderr",
     "output_type": "stream",
     "text": [
      " 26%|██▋       | 399/1507 [22:48<1:12:46,  3.94s/it]"
     ]
    },
    {
     "name": "stdout",
     "output_type": "stream",
     "text": [
      "ID: TEST_0398 Question: 재난지원금 지급 방식은 무엇인가 Generated answer: 선불카드 방식\n"
     ]
    },
    {
     "name": "stderr",
     "output_type": "stream",
     "text": [
      " 27%|██▋       | 400/1507 [22:53<1:15:13,  4.08s/it]"
     ]
    },
    {
     "name": "stdout",
     "output_type": "stream",
     "text": [
      "ID: TEST_0399 Question: 65세 이상 어르신에게 지급되는 방식은 무엇인가 Generated answer: 현금으로 지급\n"
     ]
    },
    {
     "name": "stderr",
     "output_type": "stream",
     "text": [
      " 27%|██▋       | 401/1507 [22:56<1:10:57,  3.85s/it]"
     ]
    },
    {
     "name": "stdout",
     "output_type": "stream",
     "text": [
      "ID: TEST_0400 Question: 9일 0시 기준 코로나 환자 수는 Generated answer: 9일 0시 기준 코로나 환자는 54명\n"
     ]
    },
    {
     "name": "stderr",
     "output_type": "stream",
     "text": [
      " 27%|██▋       | 402/1507 [23:00<1:08:18,  3.71s/it]"
     ]
    },
    {
     "name": "stdout",
     "output_type": "stream",
     "text": [
      "ID: TEST_0401 Question: 감염재생산지수가 목표로 하는 수치는 Generated answer: 1 이하 유지\n"
     ]
    },
    {
     "name": "stderr",
     "output_type": "stream",
     "text": [
      " 27%|██▋       | 403/1507 [23:03<1:08:11,  3.71s/it]"
     ]
    },
    {
     "name": "stdout",
     "output_type": "stream",
     "text": [
      "ID: TEST_0402 Question: 집합금지가 통보된 단체의 수는 Generated answer: 10인 이상 집회를 신고한 모든 단체에 대해 집합금지를 통보하는 등 총 139건\n"
     ]
    },
    {
     "name": "stderr",
     "output_type": "stream",
     "text": [
      " 27%|██▋       | 404/1507 [23:07<1:09:23,  3.77s/it]"
     ]
    },
    {
     "name": "stdout",
     "output_type": "stream",
     "text": [
      "ID: TEST_0403 Question: 거리두기 개편안 발표 예정 시기는 Generated answer: 내달 초까지\n"
     ]
    },
    {
     "name": "stderr",
     "output_type": "stream",
     "text": [
      " 27%|██▋       | 405/1507 [23:11<1:08:58,  3.76s/it]"
     ]
    },
    {
     "name": "stdout",
     "output_type": "stream",
     "text": [
      "ID: TEST_0404 Question: 추석 연휴특별방역기간 종료일은 Generated answer: 오는 11일\n"
     ]
    },
    {
     "name": "stderr",
     "output_type": "stream",
     "text": [
      " 27%|██▋       | 406/1507 [23:14<1:04:26,  3.51s/it]"
     ]
    },
    {
     "name": "stdout",
     "output_type": "stream",
     "text": [
      "ID: TEST_0405 Question: 유튜브 프리미엄 과징금 액수는 Generated answer: 8억6700만원\n"
     ]
    },
    {
     "name": "stderr",
     "output_type": "stream",
     "text": [
      " 27%|██▋       | 407/1507 [23:18<1:08:53,  3.76s/it]"
     ]
    },
    {
     "name": "stdout",
     "output_type": "stream",
     "text": [
      "ID: TEST_0406 Question: 추 장관이 윤 총장을 비난하며 인용한 사자성어 Generated answer: ##시작비 (\n"
     ]
    },
    {
     "name": "stderr",
     "output_type": "stream",
     "text": [
      " 27%|██▋       | 408/1507 [23:22<1:06:36,  3.64s/it]"
     ]
    },
    {
     "name": "stdout",
     "output_type": "stream",
     "text": [
      "ID: TEST_0407 Question: 윤 총장이 사회적 강자에 대한 엄벌을 강조한 장소 Generated answer: 법무연수원에서\n"
     ]
    },
    {
     "name": "stderr",
     "output_type": "stream",
     "text": [
      " 27%|██▋       | 409/1507 [23:25<1:04:44,  3.54s/it]"
     ]
    },
    {
     "name": "stdout",
     "output_type": "stream",
     "text": [
      "ID: TEST_0408 Question: 윤 총장을 향한 추 장관의 비판이 주로 이루어진 회의 Generated answer: 국회 법사위\n"
     ]
    },
    {
     "name": "stderr",
     "output_type": "stream",
     "text": [
      " 27%|██▋       | 410/1507 [23:28<1:03:05,  3.45s/it]"
     ]
    },
    {
     "name": "stdout",
     "output_type": "stream",
     "text": [
      "ID: TEST_0409 Question: 추 장관이 참석한 국회 예산결산특별위원회 날짜 Generated answer: ##도 어제의 잘못을 오늘 비로소 깨달았다는 ‘ 금시작비 ( 是 非 ) ’ 란 사자성어를 인용하며 “ ( 윤 총장에게도 ) 그런 자세가 필요하다 ” 고 지적했다.\n"
     ]
    },
    {
     "name": "stderr",
     "output_type": "stream",
     "text": [
      " 27%|██▋       | 411/1507 [23:30<56:35,  3.10s/it]  "
     ]
    },
    {
     "name": "stdout",
     "output_type": "stream",
     "text": [
      "ID: TEST_0410 Question: 윤 총장의 발언이 주목받은 사건 중 하나 Generated answer: 추 장관은 앞서 국회 법사위에서 윤 총장을 비난하는 발언을 여러 차례 했다. 한명숙 전 국무총리 사건 수사팀의 위증 강요 및 채널A 강요미수 의혹, 라임자산운용 사건\n"
     ]
    },
    {
     "name": "stderr",
     "output_type": "stream",
     "text": [
      " 27%|██▋       | 412/1507 [23:35<1:03:47,  3.50s/it]"
     ]
    },
    {
     "name": "stdout",
     "output_type": "stream",
     "text": [
      "ID: TEST_0411 Question: 윤희숙 의원이 전태일 열사를 언급한 날짜 Generated answer: 지난 13일\n"
     ]
    },
    {
     "name": "stderr",
     "output_type": "stream",
     "text": [
      " 27%|██▋       | 413/1507 [23:39<1:08:42,  3.77s/it]"
     ]
    },
    {
     "name": "stdout",
     "output_type": "stream",
     "text": [
      "ID: TEST_0412 Question: 전태일 열사 50주기를 맞은 날 Generated answer: 노동자 삶의 질 향상\n"
     ]
    },
    {
     "name": "stderr",
     "output_type": "stream",
     "text": [
      " 27%|██▋       | 414/1507 [23:44<1:12:07,  3.96s/it]"
     ]
    },
    {
     "name": "stdout",
     "output_type": "stream",
     "text": [
      "ID: TEST_0413 Question: 조혜민 정의당 대변인의 직책 Generated answer: 조혜민 정의당 대변인\n"
     ]
    },
    {
     "name": "stderr",
     "output_type": "stream",
     "text": [
      " 28%|██▊       | 415/1507 [23:47<1:08:25,  3.76s/it]"
     ]
    },
    {
     "name": "stdout",
     "output_type": "stream",
     "text": [
      "ID: TEST_0414 Question: 장제원 의원의 소속 정당 Generated answer: 국민의힘\n"
     ]
    },
    {
     "name": "stderr",
     "output_type": "stream",
     "text": [
      " 28%|██▊       | 416/1507 [23:50<1:05:52,  3.62s/it]"
     ]
    },
    {
     "name": "stdout",
     "output_type": "stream",
     "text": [
      "ID: TEST_0415 Question: 이병태 교수의 소속 대학 Generated answer: 보수 논객인 이병태 카이스트\n"
     ]
    },
    {
     "name": "stderr",
     "output_type": "stream",
     "text": [
      " 28%|██▊       | 417/1507 [23:55<1:09:59,  3.85s/it]"
     ]
    },
    {
     "name": "stdout",
     "output_type": "stream",
     "text": [
      "ID: TEST_0416 Question: 이마트가 준비한 위생 선물세트 종류는 몇 종인가 Generated answer: 총 6종\n"
     ]
    },
    {
     "name": "stderr",
     "output_type": "stream",
     "text": [
      " 28%|██▊       | 418/1507 [24:00<1:18:59,  4.35s/it]"
     ]
    },
    {
     "name": "stdout",
     "output_type": "stream",
     "text": [
      "ID: TEST_0417 Question: 이마트의 지난 2~7월 마스크 매출 증가율은 Generated answer: 888. 2 %\n"
     ]
    },
    {
     "name": "stderr",
     "output_type": "stream",
     "text": [
      " 28%|██▊       | 419/1507 [24:06<1:25:08,  4.70s/it]"
     ]
    },
    {
     "name": "stdout",
     "output_type": "stream",
     "text": [
      "ID: TEST_0418 Question: 이마트가 준비한 건강식품 세트 종류는 몇 종인가 Generated answer: 130종이나\n"
     ]
    },
    {
     "name": "stderr",
     "output_type": "stream",
     "text": [
      " 28%|██▊       | 420/1507 [24:11<1:29:30,  4.94s/it]"
     ]
    },
    {
     "name": "stdout",
     "output_type": "stream",
     "text": [
      "ID: TEST_0419 Question: 7월에 건강식품을 가장 많이 구매한 연령층은 Generated answer: 40대가\n"
     ]
    },
    {
     "name": "stderr",
     "output_type": "stream",
     "text": [
      " 28%|██▊       | 421/1507 [24:17<1:32:31,  5.11s/it]"
     ]
    },
    {
     "name": "stdout",
     "output_type": "stream",
     "text": [
      "ID: TEST_0420 Question: 이마트의 추석 선물 사전 예약 판매 기간은 며칠인가 Generated answer: 다음 달 18일까지 장장 37일\n"
     ]
    },
    {
     "name": "stderr",
     "output_type": "stream",
     "text": [
      " 28%|██▊       | 422/1507 [24:21<1:28:39,  4.90s/it]"
     ]
    },
    {
     "name": "stdout",
     "output_type": "stream",
     "text": [
      "ID: TEST_0421 Question: 공매도 유동성에 대한 의견을 언급한 연구위원은 누구? Generated answer: 황세운\n"
     ]
    },
    {
     "name": "stderr",
     "output_type": "stream",
     "text": [
      " 28%|██▊       | 423/1507 [24:24<1:19:55,  4.42s/it]"
     ]
    },
    {
     "name": "stdout",
     "output_type": "stream",
     "text": [
      "ID: TEST_0422 Question: 1차 긴급 고용안정지원금 신청자를 기준으로 특고·프리랜서의 월 소득 감소율 Generated answer: 69. 1 %\n"
     ]
    },
    {
     "name": "stderr",
     "output_type": "stream",
     "text": [
      " 28%|██▊       | 424/1507 [24:28<1:13:17,  4.06s/it]"
     ]
    },
    {
     "name": "stdout",
     "output_type": "stream",
     "text": [
      "ID: TEST_0423 Question: 긴급 고용안정지원금 최대 지원 기간 Generated answer: 긴급 고용안정지원금은 매달 50만원씩 최대 석 달 간 ( 150만원\n"
     ]
    },
    {
     "name": "stderr",
     "output_type": "stream",
     "text": [
      " 28%|██▊       | 425/1507 [24:30<1:04:16,  3.56s/it]"
     ]
    },
    {
     "name": "stdout",
     "output_type": "stream",
     "text": [
      "ID: TEST_0424 Question: 1차 긴급 고용안정지원금 신청자 중 영세 자영업자의 비율 Generated answer: 62. 5 %\n"
     ]
    },
    {
     "name": "stderr",
     "output_type": "stream",
     "text": [
      " 28%|██▊       | 426/1507 [24:34<1:08:08,  3.78s/it]"
     ]
    },
    {
     "name": "stdout",
     "output_type": "stream",
     "text": [
      "ID: TEST_0425 Question: 소득 하위 10% 계층의 소득 감소율 Generated answer: 소득 1분위 계층\n"
     ]
    },
    {
     "name": "stderr",
     "output_type": "stream",
     "text": [
      " 28%|██▊       | 427/1507 [24:38<1:06:46,  3.71s/it]"
     ]
    },
    {
     "name": "stdout",
     "output_type": "stream",
     "text": [
      "ID: TEST_0426 Question: 지원금 수급자의 소득 하위 40% 비율 Generated answer: 수급자의 83 %\n"
     ]
    },
    {
     "name": "stderr",
     "output_type": "stream",
     "text": [
      " 28%|██▊       | 428/1507 [24:41<1:03:21,  3.52s/it]"
     ]
    },
    {
     "name": "stdout",
     "output_type": "stream",
     "text": [
      "ID: TEST_0427 Question: 플랫폼 가맹사업의 계약 형태는 Generated answer: 차량 단위 가맹계약 ’\n"
     ]
    },
    {
     "name": "stderr",
     "output_type": "stream",
     "text": [
      " 28%|██▊       | 429/1507 [24:44<1:02:03,  3.45s/it]"
     ]
    },
    {
     "name": "stdout",
     "output_type": "stream",
     "text": [
      "ID: TEST_0428 Question: 헝다그룹의 자회사는 Generated answer: 부동산 관리업체\n"
     ]
    },
    {
     "name": "stderr",
     "output_type": "stream",
     "text": [
      " 29%|██▊       | 430/1507 [24:47<1:01:13,  3.41s/it]"
     ]
    },
    {
     "name": "stdout",
     "output_type": "stream",
     "text": [
      "ID: TEST_0429 Question: 헝다그룹의 공모가 목표치는 Generated answer: 주당 8. 50 ~ 9. 75홍콩달러다.\n"
     ]
    },
    {
     "name": "stderr",
     "output_type": "stream",
     "text": [
      " 29%|██▊       | 431/1507 [24:51<1:00:41,  3.38s/it]"
     ]
    },
    {
     "name": "stdout",
     "output_type": "stream",
     "text": [
      "ID: TEST_0430 Question: 헝다가 확보한 펀드 종류는 Generated answer: 펀드 23곳\n"
     ]
    },
    {
     "name": "stderr",
     "output_type": "stream",
     "text": [
      " 29%|██▊       | 432/1507 [24:54<1:00:09,  3.36s/it]"
     ]
    },
    {
     "name": "stdout",
     "output_type": "stream",
     "text": [
      "ID: TEST_0431 Question: 중국 부도사태에 영향을 받을 수 있는 회사는 Generated answer: 부동산 개발회사\n"
     ]
    },
    {
     "name": "stderr",
     "output_type": "stream",
     "text": [
      " 29%|██▊       | 433/1507 [24:59<1:05:42,  3.67s/it]"
     ]
    },
    {
     "name": "stdout",
     "output_type": "stream",
     "text": [
      "ID: TEST_0432 Question: 헝다가 최근 자회사 주식을 판 금액은 Generated answer: 46억 달러\n"
     ]
    },
    {
     "name": "stderr",
     "output_type": "stream",
     "text": [
      " 29%|██▉       | 434/1507 [25:01<57:40,  3.22s/it]  "
     ]
    },
    {
     "name": "stdout",
     "output_type": "stream",
     "text": [
      "ID: TEST_0433 Question: 김순태의 매출 향상율은 몇 퍼센트 Generated answer: 25 ~ 30 %\n"
     ]
    },
    {
     "name": "stderr",
     "output_type": "stream",
     "text": [
      " 29%|██▉       | 435/1507 [25:04<58:04,  3.25s/it]"
     ]
    },
    {
     "name": "stdout",
     "output_type": "stream",
     "text": [
      "ID: TEST_0434 Question: 메콩강과 관련된 갈등이 있는 지역 Generated answer: 동남아시아 국가들과의 수자원 갈등도 점점 커지고 있다. \" 물 부족이 식량 부족, 경제 양극화보다 더 심각한 문제 \" 라는 전문가들의 경고가 나오는 이유다.\n"
     ]
    },
    {
     "name": "stderr",
     "output_type": "stream",
     "text": [
      " 29%|██▉       | 436/1507 [25:08<1:04:06,  3.59s/it]"
     ]
    },
    {
     "name": "stdout",
     "output_type": "stream",
     "text": [
      "ID: TEST_0435 Question: 18일 코스피는 전 거래일보다 몇 포인트 하락했나 Generated answer: 59. 25포인트\n"
     ]
    },
    {
     "name": "stderr",
     "output_type": "stream",
     "text": [
      " 29%|██▉       | 437/1507 [25:12<1:04:26,  3.61s/it]"
     ]
    },
    {
     "name": "stdout",
     "output_type": "stream",
     "text": [
      "ID: TEST_0436 Question: 18일 코스피에서 주식을 가장 많이 팔아치운 투자자는 누구인가 Generated answer: 개인 투자자가\n"
     ]
    },
    {
     "name": "stderr",
     "output_type": "stream",
     "text": [
      " 29%|██▉       | 438/1507 [25:15<1:01:45,  3.47s/it]"
     ]
    },
    {
     "name": "stdout",
     "output_type": "stream",
     "text": [
      "ID: TEST_0437 Question: 코로나19 확진자가 급증한 요인으로 제시된 도시는 어디인가 Generated answer: 서울을 중심으로 확진자가 늘어난 것은 투자 심리를 얼어붙게 했다. 서상영 키움증권 연구원은 \" 대구\n"
     ]
    },
    {
     "name": "stderr",
     "output_type": "stream",
     "text": [
      " 29%|██▉       | 439/1507 [25:20<1:06:42,  3.75s/it]"
     ]
    },
    {
     "name": "stdout",
     "output_type": "stream",
     "text": [
      "ID: TEST_0438 Question: 현대자동차 주가가 전날보다 하락한 퍼센트는 얼마인가 Generated answer: 5. 39 %\n"
     ]
    },
    {
     "name": "stderr",
     "output_type": "stream",
     "text": [
      " 29%|██▉       | 440/1507 [25:24<1:11:38,  4.03s/it]"
     ]
    },
    {
     "name": "stdout",
     "output_type": "stream",
     "text": [
      "ID: TEST_0439 Question: KODEX200 선물인버스2X'의 거래량은 몇 주인가 Generated answer: 2억225만5530주\n"
     ]
    },
    {
     "name": "stderr",
     "output_type": "stream",
     "text": [
      " 29%|██▉       | 441/1507 [25:27<1:05:27,  3.68s/it]"
     ]
    },
    {
     "name": "stdout",
     "output_type": "stream",
     "text": [
      "ID: TEST_0440 Question: 위씨의 대리인 오모씨가 머물던 주택에서 발견된 현금은 얼마야 Generated answer: 47억원\n"
     ]
    },
    {
     "name": "stderr",
     "output_type": "stream",
     "text": [
      " 29%|██▉       | 442/1507 [25:31<1:05:38,  3.70s/it]"
     ]
    },
    {
     "name": "stdout",
     "output_type": "stream",
     "text": [
      "ID: TEST_0441 Question: 반포3주구가 위치한 지역 Generated answer: 서울 서초구 반포동\n"
     ]
    },
    {
     "name": "stderr",
     "output_type": "stream",
     "text": [
      " 29%|██▉       | 443/1507 [25:35<1:07:04,  3.78s/it]"
     ]
    },
    {
     "name": "stdout",
     "output_type": "stream",
     "text": [
      "ID: TEST_0442 Question: 반포3주구의 시공사 Generated answer: 강남 재건축 ‘ 대장 단지 ’ 의 하나로 지난 5월 삼성물산\n"
     ]
    },
    {
     "name": "stderr",
     "output_type": "stream",
     "text": [
      " 29%|██▉       | 444/1507 [25:39<1:10:16,  3.97s/it]"
     ]
    },
    {
     "name": "stdout",
     "output_type": "stream",
     "text": [
      "ID: TEST_0443 Question: 반포3주구의 재건축 후 최고 층수 Generated answer: 최고 50층\n"
     ]
    },
    {
     "name": "stderr",
     "output_type": "stream",
     "text": [
      " 30%|██▉       | 445/1507 [25:44<1:12:28,  4.09s/it]"
     ]
    },
    {
     "name": "stdout",
     "output_type": "stream",
     "text": [
      "ID: TEST_0444 Question: 노무현 정부 시절 재건축 용적률 상한 Generated answer: 노무현 정부 시절 재건축 용적률 상한\n"
     ]
    },
    {
     "name": "stderr",
     "output_type": "stream",
     "text": [
      " 30%|██▉       | 446/1507 [25:48<1:15:28,  4.27s/it]"
     ]
    },
    {
     "name": "stdout",
     "output_type": "stream",
     "text": [
      "ID: TEST_0445 Question: 최근 분양한 강남구 개포동 주공1단지 재건축 아파트 중 임대 가구 수 Generated answer: 386가구\n"
     ]
    },
    {
     "name": "stderr",
     "output_type": "stream",
     "text": [
      " 30%|██▉       | 447/1507 [25:51<1:08:53,  3.90s/it]"
     ]
    },
    {
     "name": "stdout",
     "output_type": "stream",
     "text": [
      "ID: TEST_0446 Question: 에어비앤비의 창업연도는 Generated answer: 창업 12년\n"
     ]
    },
    {
     "name": "stderr",
     "output_type": "stream",
     "text": [
      " 30%|██▉       | 448/1507 [25:56<1:11:30,  4.05s/it]"
     ]
    },
    {
     "name": "stdout",
     "output_type": "stream",
     "text": [
      "ID: TEST_0447 Question: 손정의가 위워크 투자로 본 손실 금액은 Generated answer: 7000억엔\n"
     ]
    },
    {
     "name": "stderr",
     "output_type": "stream",
     "text": [
      " 30%|██▉       | 449/1507 [26:01<1:15:43,  4.29s/it]"
     ]
    },
    {
     "name": "stdout",
     "output_type": "stream",
     "text": [
      "ID: TEST_0448 Question: 위워크가 전 세계 몇 개 국가에 진출했는가 Generated answer: 120개 국가\n"
     ]
    },
    {
     "name": "stderr",
     "output_type": "stream",
     "text": [
      " 30%|██▉       | 450/1507 [26:05<1:16:22,  4.34s/it]"
     ]
    },
    {
     "name": "stdout",
     "output_type": "stream",
     "text": [
      "ID: TEST_0449 Question: 우버가 IPO 당시 모은 금액은 Generated answer: 824억 달러\n"
     ]
    },
    {
     "name": "stderr",
     "output_type": "stream",
     "text": [
      " 30%|██▉       | 451/1507 [26:08<1:11:27,  4.06s/it]"
     ]
    },
    {
     "name": "stdout",
     "output_type": "stream",
     "text": [
      "ID: TEST_0450 Question: 코로나19로 인해 우버 차량호출 예약액이 감소한 비율은 Generated answer: 75 % 까지\n"
     ]
    },
    {
     "name": "stderr",
     "output_type": "stream",
     "text": [
      " 30%|██▉       | 452/1507 [26:10<1:00:19,  3.43s/it]"
     ]
    },
    {
     "name": "stdout",
     "output_type": "stream",
     "text": [
      "ID: TEST_0451 Question: 삼성 윈도우 핏에 적용된 컴프레서의 유형 Generated answer: 두개의 실린더가 회전하면서 진동과 소음을 줄여주는'트윈 인버터'와 2개의 관을 이용해 냉매의 마찰음을 감소하는'트윈튜브 머플러 '\n"
     ]
    },
    {
     "name": "stderr",
     "output_type": "stream",
     "text": [
      " 30%|███       | 453/1507 [26:14<58:44,  3.34s/it]  "
     ]
    },
    {
     "name": "stdout",
     "output_type": "stream",
     "text": [
      "ID: TEST_0452 Question: 저소음 모드에서 작동하는 소음 수준 Generated answer: 40dB\n"
     ]
    },
    {
     "name": "stderr",
     "output_type": "stream",
     "text": [
      " 30%|███       | 454/1507 [26:17<56:53,  3.24s/it]"
     ]
    },
    {
     "name": "stdout",
     "output_type": "stream",
     "text": [
      "ID: TEST_0453 Question: 삼성 윈도우 핏의 전기료 절감률 Generated answer: 최대 70 %\n"
     ]
    },
    {
     "name": "stderr",
     "output_type": "stream",
     "text": [
      " 30%|███       | 455/1507 [26:19<52:52,  3.02s/it]"
     ]
    },
    {
     "name": "stdout",
     "output_type": "stream",
     "text": [
      "ID: TEST_0454 Question: 제공되는 비스포크 색상 수 Generated answer: 그린 · 블루 · 베이지 · 그레이 · 핑크 등 5가지\n"
     ]
    },
    {
     "name": "stderr",
     "output_type": "stream",
     "text": [
      " 30%|███       | 456/1507 [26:21<47:34,  2.72s/it]"
     ]
    },
    {
     "name": "stdout",
     "output_type": "stream",
     "text": [
      "ID: TEST_0455 Question: 삼성 윈도우 핏의 출시 가격 Generated answer: 84만9000원\n"
     ]
    },
    {
     "name": "stderr",
     "output_type": "stream",
     "text": [
      " 30%|███       | 457/1507 [26:24<49:58,  2.86s/it]"
     ]
    },
    {
     "name": "stdout",
     "output_type": "stream",
     "text": [
      "ID: TEST_0456 Question: 파라오 Ⅱ 블랙 에디션에 추가된 안마 시스템 이름 Generated answer: 6매틱 ( Matic ) 시스템으로 부위별 근육의 특징에 따라 큰 근육 부위엔 강하게, 작고 약한 근육에는 부드럽고 섬세한 안마를 제공한다.\n"
     ]
    },
    {
     "name": "stderr",
     "output_type": "stream",
     "text": [
      " 30%|███       | 458/1507 [26:27<47:08,  2.70s/it]"
     ]
    },
    {
     "name": "stdout",
     "output_type": "stream",
     "text": [
      "ID: TEST_0457 Question: 바디프랜드가 설립된 연도 Generated answer: 2009년 구성된 기술연구소\n"
     ]
    },
    {
     "name": "stderr",
     "output_type": "stream",
     "text": [
      " 30%|███       | 459/1507 [26:30<49:28,  2.83s/it]"
     ]
    },
    {
     "name": "stdout",
     "output_type": "stream",
     "text": [
      "ID: TEST_0458 Question: 기술연구소가 설립된 해 Generated answer: 2009년 구성\n"
     ]
    },
    {
     "name": "stderr",
     "output_type": "stream",
     "text": [
      " 31%|███       | 460/1507 [26:33<49:58,  2.86s/it]"
     ]
    },
    {
     "name": "stdout",
     "output_type": "stream",
     "text": [
      "ID: TEST_0459 Question: 바디프랜드가 일본 기업을 제친 연도 Generated answer: 하지만 2017년\n"
     ]
    },
    {
     "name": "stderr",
     "output_type": "stream",
     "text": [
      " 31%|███       | 461/1507 [26:35<49:20,  2.83s/it]"
     ]
    },
    {
     "name": "stdout",
     "output_type": "stream",
     "text": [
      "ID: TEST_0460 Question: 바디프랜드가 디자인 협업을 시작한 해 Generated answer: 2013년 문\n"
     ]
    },
    {
     "name": "stderr",
     "output_type": "stream",
     "text": [
      " 31%|███       | 462/1507 [26:40<58:33,  3.36s/it]"
     ]
    },
    {
     "name": "stdout",
     "output_type": "stream",
     "text": [
      "ID: TEST_0461 Question: ​​10월 수출액은 얼마 Generated answer: 449억8000만 달러\n"
     ]
    },
    {
     "name": "stderr",
     "output_type": "stream",
     "text": [
      " 31%|███       | 463/1507 [26:45<1:04:46,  3.72s/it]"
     ]
    },
    {
     "name": "stdout",
     "output_type": "stream",
     "text": [
      "ID: TEST_0462 Question: ​​10월 수입은 얼마 Generated answer: 390억 달러\n"
     ]
    },
    {
     "name": "stderr",
     "output_type": "stream",
     "text": [
      " 31%|███       | 464/1507 [26:50<1:11:07,  4.09s/it]"
     ]
    },
    {
     "name": "stdout",
     "output_type": "stream",
     "text": [
      "ID: TEST_0463 Question: ​​가장 최근에 일평균 수출액이 증가한 달 Generated answer: 올해 1월\n"
     ]
    },
    {
     "name": "stderr",
     "output_type": "stream",
     "text": [
      " 31%|███       | 465/1507 [26:54<1:13:43,  4.25s/it]"
     ]
    },
    {
     "name": "stdout",
     "output_type": "stream",
     "text": [
      "ID: TEST_0464 Question: ​​반도체 수출액이 세 달 동안 연속으로 돌파한 금액 Generated answer: 80억 달러\n"
     ]
    },
    {
     "name": "stderr",
     "output_type": "stream",
     "text": [
      " 31%|███       | 466/1507 [26:59<1:16:37,  4.42s/it]"
     ]
    },
    {
     "name": "stdout",
     "output_type": "stream",
     "text": [
      "ID: TEST_0465 Question: ​철강의 9월 깜짝 반등 수치는 Generated answer: 1. 5 % )\n"
     ]
    },
    {
     "name": "stderr",
     "output_type": "stream",
     "text": [
      " 31%|███       | 467/1507 [27:02<1:08:43,  3.96s/it]"
     ]
    },
    {
     "name": "stdout",
     "output_type": "stream",
     "text": [
      "ID: TEST_0466 Question: 인천광역시 가천대 길병원이 일반 병실로 전환한 병상 수는 Generated answer: 신종코로나바이러스 감염증 ( 코로나19 ) 환자 병상 78개 중 68개\n"
     ]
    },
    {
     "name": "stderr",
     "output_type": "stream",
     "text": [
      " 31%|███       | 468/1507 [27:05<1:05:10,  3.76s/it]"
     ]
    },
    {
     "name": "stdout",
     "output_type": "stream",
     "text": [
      "ID: TEST_0467 Question: 16일 코로나19 신규 환자 수는 Generated answer: 279명\n"
     ]
    },
    {
     "name": "stderr",
     "output_type": "stream",
     "text": [
      " 31%|███       | 469/1507 [27:09<1:04:00,  3.70s/it]"
     ]
    },
    {
     "name": "stdout",
     "output_type": "stream",
     "text": [
      "ID: TEST_0468 Question: 인하대 병원이 줄인 병상 수는 Generated answer: 20개를 줄였다 ”\n"
     ]
    },
    {
     "name": "stderr",
     "output_type": "stream",
     "text": [
      " 31%|███       | 470/1507 [27:13<1:06:11,  3.83s/it]"
     ]
    },
    {
     "name": "stdout",
     "output_type": "stream",
     "text": [
      "ID: TEST_0469 Question: 수도권에 남아 있는 중증환자 치료 병상 수는 Generated answer: 97개로\n"
     ]
    },
    {
     "name": "stderr",
     "output_type": "stream",
     "text": [
      " 31%|███▏      | 471/1507 [27:18<1:11:08,  4.12s/it]"
     ]
    },
    {
     "name": "stdout",
     "output_type": "stream",
     "text": [
      "ID: TEST_0470 Question: 서울특별시 보라매 병원이 병상을 줄인 시기는 Generated answer: 신규 환자가 감소하면서 자연스럽게 병상을 줄였던 것 같다 ” 고 설명했다.\n"
     ]
    },
    {
     "name": "stderr",
     "output_type": "stream",
     "text": [
      " 31%|███▏      | 472/1507 [27:19<59:01,  3.42s/it]  "
     ]
    },
    {
     "name": "stdout",
     "output_type": "stream",
     "text": [
      "ID: TEST_0471 Question: 장미 한 송이의 원가는 얼마인가 Generated answer: 576원\n"
     ]
    },
    {
     "name": "stderr",
     "output_type": "stream",
     "text": [
      " 31%|███▏      | 473/1507 [27:21<51:25,  2.98s/it]"
     ]
    },
    {
     "name": "stdout",
     "output_type": "stream",
     "text": [
      "ID: TEST_0472 Question: 도매시장에서의 장미 한 송이 가격은 얼마인가 Generated answer: 620원,\n"
     ]
    },
    {
     "name": "stderr",
     "output_type": "stream",
     "text": [
      " 31%|███▏      | 474/1507 [27:23<42:51,  2.49s/it]"
     ]
    },
    {
     "name": "stdout",
     "output_type": "stream",
     "text": [
      "ID: TEST_0473 Question: 최종 소비자가는 얼마에 이르는가 Generated answer: 1300원에\n"
     ]
    },
    {
     "name": "stderr",
     "output_type": "stream",
     "text": [
      " 32%|███▏      | 475/1507 [27:25<41:15,  2.40s/it]"
     ]
    },
    {
     "name": "stdout",
     "output_type": "stream",
     "text": [
      "ID: TEST_0474 Question: 특품 장미 1단의 도매가는 얼마인가 Generated answer: 7 ~ 8000원\n"
     ]
    },
    {
     "name": "stderr",
     "output_type": "stream",
     "text": [
      " 32%|███▏      | 476/1507 [27:27<39:29,  2.30s/it]"
     ]
    },
    {
     "name": "stdout",
     "output_type": "stream",
     "text": [
      "ID: TEST_0475 Question: 꽃집에서의 장미 한 송이 가격은 얼마인가 Generated answer: 2500 ~ 3000원\n"
     ]
    },
    {
     "name": "stderr",
     "output_type": "stream",
     "text": [
      " 32%|███▏      | 477/1507 [27:30<45:21,  2.64s/it]"
     ]
    },
    {
     "name": "stdout",
     "output_type": "stream",
     "text": [
      "ID: TEST_0476 Question: SCO 회원국이었던 5개의 원래 국가는 무엇인가 Generated answer: 중국과 러시아, 카자흐스탄, 키르기스스탄, 타지키스탄\n"
     ]
    },
    {
     "name": "stderr",
     "output_type": "stream",
     "text": [
      " 32%|███▏      | 478/1507 [27:34<52:29,  3.06s/it]"
     ]
    },
    {
     "name": "stdout",
     "output_type": "stream",
     "text": [
      "ID: TEST_0477 Question: SCO 회원국이었던 원래 '상하이 5국'에 우즈베키스탄이 가입한 해는 언제인가 Generated answer: . 2001년\n"
     ]
    },
    {
     "name": "stderr",
     "output_type": "stream",
     "text": [
      " 32%|███▏      | 479/1507 [27:38<54:05,  3.16s/it]"
     ]
    },
    {
     "name": "stdout",
     "output_type": "stream",
     "text": [
      "ID: TEST_0478 Question: SCO 회원국에 추가로 가입한 인도와 파키스탄의 가입 연도는 언제인가 Generated answer: . 2015년\n"
     ]
    },
    {
     "name": "stderr",
     "output_type": "stream",
     "text": [
      " 32%|███▏      | 480/1507 [27:41<56:19,  3.29s/it]"
     ]
    },
    {
     "name": "stdout",
     "output_type": "stream",
     "text": [
      "ID: TEST_0479 Question: SCO의 현재 준회원국의 수는 몇 개국인가 Generated answer: 4개국\n"
     ]
    },
    {
     "name": "stderr",
     "output_type": "stream",
     "text": [
      " 32%|███▏      | 481/1507 [27:46<1:01:52,  3.62s/it]"
     ]
    },
    {
     "name": "stdout",
     "output_type": "stream",
     "text": [
      "ID: TEST_0480 Question: SCO가 다루는 주요 사안들로 무엇들을 반대하는가 Generated answer: 테러리즘과 민족 분리주의, 종교 원리주의\n"
     ]
    },
    {
     "name": "stderr",
     "output_type": "stream",
     "text": [
      " 32%|███▏      | 482/1507 [27:50<1:03:33,  3.72s/it]"
     ]
    },
    {
     "name": "stdout",
     "output_type": "stream",
     "text": [
      "ID: TEST_0481 Question: 현행 기업과 기업인 관련 벌금 총액은 Generated answer: 현행 법체계에서 기업과 기업인 관련 벌금은 총 5억7000만원\n"
     ]
    },
    {
     "name": "stderr",
     "output_type": "stream",
     "text": [
      " 32%|███▏      | 483/1507 [27:53<1:03:03,  3.69s/it]"
     ]
    },
    {
     "name": "stdout",
     "output_type": "stream",
     "text": [
      "ID: TEST_0482 Question: 현재 발의된 법안들 규정 벌금 총액은 Generated answer: 2066억2000만원\n"
     ]
    },
    {
     "name": "stderr",
     "output_type": "stream",
     "text": [
      " 32%|███▏      | 484/1507 [27:57<1:01:13,  3.59s/it]"
     ]
    },
    {
     "name": "stdout",
     "output_type": "stream",
     "text": [
      "ID: TEST_0483 Question: 정무위 소관 관련 조항 개수는 Generated answer: 관련 조항이 41개\n"
     ]
    },
    {
     "name": "stderr",
     "output_type": "stream",
     "text": [
      " 32%|███▏      | 485/1507 [28:00<1:00:07,  3.53s/it]"
     ]
    },
    {
     "name": "stdout",
     "output_type": "stream",
     "text": [
      "ID: TEST_0484 Question: 신설 징역형 총 합산 기간은 Generated answer: 69년,\n"
     ]
    },
    {
     "name": "stderr",
     "output_type": "stream",
     "text": [
      " 32%|███▏      | 486/1507 [28:03<58:56,  3.46s/it]  "
     ]
    },
    {
     "name": "stdout",
     "output_type": "stream",
     "text": [
      "ID: TEST_0485 Question: 과태료 상한액을 3000만원으로 올린 법률안은 Generated answer: ‘ 송유관 안전관리법 일부 개정 법률안 ’\n"
     ]
    },
    {
     "name": "stderr",
     "output_type": "stream",
     "text": [
      " 32%|███▏      | 487/1507 [28:08<1:03:30,  3.74s/it]"
     ]
    },
    {
     "name": "stdout",
     "output_type": "stream",
     "text": [
      "ID: TEST_0486 Question: 석사 논문 대필 비용은 얼마인가 Generated answer: 600만원\n"
     ]
    },
    {
     "name": "stderr",
     "output_type": "stream",
     "text": [
      " 32%|███▏      | 488/1507 [28:13<1:12:29,  4.27s/it]"
     ]
    },
    {
     "name": "stdout",
     "output_type": "stream",
     "text": [
      "ID: TEST_0487 Question: 대필자들이 자주 사용하는 메신저는 무엇인가 Generated answer: ‘ ’\n"
     ]
    },
    {
     "name": "stderr",
     "output_type": "stream",
     "text": [
      " 32%|███▏      | 489/1507 [28:19<1:18:37,  4.63s/it]"
     ]
    },
    {
     "name": "stdout",
     "output_type": "stream",
     "text": [
      "ID: TEST_0488 Question: ABC뉴스는 대필이 성행한다고 보도한 연도는 언제인가 Generated answer: ##도 2019년\n"
     ]
    },
    {
     "name": "stderr",
     "output_type": "stream",
     "text": [
      " 33%|███▎      | 490/1507 [28:24<1:20:17,  4.74s/it]"
     ]
    },
    {
     "name": "stdout",
     "output_type": "stream",
     "text": [
      "ID: TEST_0489 Question: 외국인 유학생 중 한국어능력시험 4급 이상 조건을 만족하는 비율은 얼마나 되는가 Generated answer: 25. 5 %\n"
     ]
    },
    {
     "name": "stderr",
     "output_type": "stream",
     "text": [
      " 33%|███▎      | 491/1507 [28:27<1:09:53,  4.13s/it]"
     ]
    },
    {
     "name": "stdout",
     "output_type": "stream",
     "text": [
      "ID: TEST_0490 Question: 국내 대학 외국인 유학생 수는 얼마인가 Generated answer: 16만165명\n"
     ]
    },
    {
     "name": "stderr",
     "output_type": "stream",
     "text": [
      " 33%|███▎      | 492/1507 [28:32<1:14:54,  4.43s/it]"
     ]
    },
    {
     "name": "stdout",
     "output_type": "stream",
     "text": [
      "ID: TEST_0491 Question: 중국의 쌍순환 전략이 공식화된 회의는 Generated answer: 19기 5중전회 )\n"
     ]
    },
    {
     "name": "stderr",
     "output_type": "stream",
     "text": [
      " 33%|███▎      | 493/1507 [28:35<1:11:04,  4.21s/it]"
     ]
    },
    {
     "name": "stdout",
     "output_type": "stream",
     "text": [
      "ID: TEST_0492 Question: 중국의 생산가능 인구가 감소하기 시작한 기점은 Generated answer: 2011년을 기점으로 중국의 생산가능 인구가 감소하기 시작했고 총인구도 2030년 이후 줄 것으로 예상된다.\n"
     ]
    },
    {
     "name": "stderr",
     "output_type": "stream",
     "text": [
      " 33%|███▎      | 494/1507 [28:40<1:13:06,  4.33s/it]"
     ]
    },
    {
     "name": "stdout",
     "output_type": "stream",
     "text": [
      "ID: TEST_0493 Question: 중국의 최근 10년간 총자본 증가율 연평균은 Generated answer: 10. 5 %\n"
     ]
    },
    {
     "name": "stderr",
     "output_type": "stream",
     "text": [
      " 33%|███▎      | 495/1507 [28:44<1:12:28,  4.30s/it]"
     ]
    },
    {
     "name": "stdout",
     "output_type": "stream",
     "text": [
      "ID: TEST_0494 Question: 부품 및 소재 국산화율 목표 연도는 Generated answer: 2025년까지\n"
     ]
    },
    {
     "name": "stderr",
     "output_type": "stream",
     "text": [
      " 33%|███▎      | 496/1507 [28:49<1:12:48,  4.32s/it]"
     ]
    },
    {
     "name": "stdout",
     "output_type": "stream",
     "text": [
      "ID: TEST_0495 Question: 전략국제연구센터가 위치한 나라는 Generated answer: 미국 싱크탱크인 전략국제연구센터 ( CSIS\n"
     ]
    },
    {
     "name": "stderr",
     "output_type": "stream",
     "text": [
      " 33%|███▎      | 497/1507 [28:53<1:13:07,  4.34s/it]"
     ]
    },
    {
     "name": "stdout",
     "output_type": "stream",
     "text": [
      "ID: TEST_0496 Question: 삼성바이오로직스가 중국 바이오벤처 진퀀텀과 계약한 치료 후보물질은 Generated answer: ##Q1003 '\n"
     ]
    },
    {
     "name": "stderr",
     "output_type": "stream",
     "text": [
      " 33%|███▎      | 498/1507 [28:57<1:10:39,  4.20s/it]"
     ]
    },
    {
     "name": "stdout",
     "output_type": "stream",
     "text": [
      "ID: TEST_0497 Question: 삼성바이오로직스가 처음 위탁개발 계약을 한 중국 본토 기업은 Generated answer: 중국 바이오벤처\n"
     ]
    },
    {
     "name": "stderr",
     "output_type": "stream",
     "text": [
      " 33%|███▎      | 499/1507 [29:01<1:08:42,  4.09s/it]"
     ]
    },
    {
     "name": "stdout",
     "output_type": "stream",
     "text": [
      "ID: TEST_0498 Question: 중국 바이오 의약품 시장 규모는 약 몇 억위안 Generated answer: 약 2578억위안\n"
     ]
    },
    {
     "name": "stderr",
     "output_type": "stream",
     "text": [
      " 33%|███▎      | 500/1507 [29:05<1:09:16,  4.13s/it]"
     ]
    },
    {
     "name": "stdout",
     "output_type": "stream",
     "text": [
      "ID: TEST_0499 Question: 삼성바이오로직스는 2018년에 몇 건의 수주 계약을 확보했나 Generated answer: 60여건\n"
     ]
    },
    {
     "name": "stderr",
     "output_type": "stream",
     "text": [
      " 33%|███▎      | 501/1507 [29:07<1:00:32,  3.61s/it]"
     ]
    },
    {
     "name": "stdout",
     "output_type": "stream",
     "text": [
      "ID: TEST_0500 Question: 삼성바이오로직스가 오는 2035년까지 위탁생산 수주물량 절반가량을 채우려는 분야는 Generated answer: 위탁계약에서 파생된 물량\n"
     ]
    },
    {
     "name": "stderr",
     "output_type": "stream",
     "text": [
      " 33%|███▎      | 502/1507 [29:11<1:00:01,  3.58s/it]"
     ]
    },
    {
     "name": "stdout",
     "output_type": "stream",
     "text": [
      "ID: TEST_0501 Question: 동절기에 접촉 위험이 증가하는 이유는 무엇을 통해서인가 Generated answer: 각종 행사와 모임, 여행\n"
     ]
    },
    {
     "name": "stderr",
     "output_type": "stream",
     "text": [
      " 33%|███▎      | 503/1507 [29:14<1:00:10,  3.60s/it]"
     ]
    },
    {
     "name": "stdout",
     "output_type": "stream",
     "text": [
      "ID: TEST_0502 Question: 수도권 고위험 11종의 집합금지 지속 적용 기한은 언제까지인가 Generated answer: 10월 11일\n"
     ]
    },
    {
     "name": "stderr",
     "output_type": "stream",
     "text": [
      " 33%|███▎      | 504/1507 [29:18<1:01:21,  3.67s/it]"
     ]
    },
    {
     "name": "stdout",
     "output_type": "stream",
     "text": [
      "ID: TEST_0503 Question: 한국 이용자들이 제안한 운동은 Generated answer: # 한복챌린지 ’\n"
     ]
    },
    {
     "name": "stderr",
     "output_type": "stream",
     "text": [
      " 34%|███▎      | 505/1507 [29:21<58:20,  3.49s/it]  "
     ]
    },
    {
     "name": "stdout",
     "output_type": "stream",
     "text": [
      "ID: TEST_0504 Question: 시험을 보지 못한 응시생 수 Generated answer: 67명은 서울 동작구 노량진 임용고시 학원 관련 확진자다. 교육부는 이 학원에 다녔지만, 음성 판정을 받은 수험생 142명과 진단검사 대상자 395명은 별도 시험장에서 시험을 치르게 했다.\n"
     ]
    },
    {
     "name": "stderr",
     "output_type": "stream",
     "text": [
      " 34%|███▎      | 506/1507 [29:24<52:58,  3.18s/it]"
     ]
    },
    {
     "name": "stdout",
     "output_type": "stream",
     "text": [
      "ID: TEST_0505 Question: 확진자 관련 임용고시 학원이 위치한 구명 Generated answer: 노량진 임용고시 학원 관련 확진자다. 교육부는 이 학원에 다녔지만, 음성 판정을 받은 수험생 142명과 진단검사 대상자 395명은 별도 시험장에서 시험을 치르게 했다.\n"
     ]
    },
    {
     "name": "stderr",
     "output_type": "stream",
     "text": [
      " 34%|███▎      | 507/1507 [29:28<58:08,  3.49s/it]"
     ]
    },
    {
     "name": "stdout",
     "output_type": "stream",
     "text": [
      "ID: TEST_0506 Question: 음성 판정을 받은 수험생 수 Generated answer: 음성 판정을 받은 수험생 142명\n"
     ]
    },
    {
     "name": "stderr",
     "output_type": "stream",
     "text": [
      " 34%|███▎      | 508/1507 [29:31<58:00,  3.48s/it]"
     ]
    },
    {
     "name": "stdout",
     "output_type": "stream",
     "text": [
      "ID: TEST_0507 Question: 시험을 치른 진단검사 대상자 수 Generated answer: 395명\n"
     ]
    },
    {
     "name": "stderr",
     "output_type": "stream",
     "text": [
      " 34%|███▍      | 509/1507 [29:34<51:30,  3.10s/it]"
     ]
    },
    {
     "name": "stdout",
     "output_type": "stream",
     "text": [
      "ID: TEST_0508 Question: 관련 법무법인 이름 Generated answer: 음압 병실 같은 시험장을 마련하거나 다른 구제책을 찾는 것이 합리적 \" 이라고 말했다.\n"
     ]
    },
    {
     "name": "stderr",
     "output_type": "stream",
     "text": [
      " 34%|███▍      | 510/1507 [29:37<52:27,  3.16s/it]"
     ]
    },
    {
     "name": "stdout",
     "output_type": "stream",
     "text": [
      "ID: TEST_0509 Question: 김동관 회장의 나이는 Generated answer: 김동관 회장의 나이는\n"
     ]
    },
    {
     "name": "stderr",
     "output_type": "stream",
     "text": [
      " 34%|███▍      | 511/1507 [29:41<54:48,  3.30s/it]"
     ]
    },
    {
     "name": "stdout",
     "output_type": "stream",
     "text": [
      "ID: TEST_0510 Question: 한화그룹 CEO들의 평균 연령은 Generated answer: 55. 7세\n"
     ]
    },
    {
     "name": "stderr",
     "output_type": "stream",
     "text": [
      " 34%|███▍      | 512/1507 [29:45<58:35,  3.53s/it]"
     ]
    },
    {
     "name": "stdout",
     "output_type": "stream",
     "text": [
      "ID: TEST_0511 Question: 한화종합화학/사업부문 대표로 내정된 사람은 Generated answer: 박흥권\n"
     ]
    },
    {
     "name": "stderr",
     "output_type": "stream",
     "text": [
      " 34%|███▍      | 513/1507 [29:48<57:25,  3.47s/it]"
     ]
    },
    {
     "name": "stdout",
     "output_type": "stream",
     "text": [
      "ID: TEST_0512 Question: 미국 에너지 소프트웨어 회사 인수 기업은 Generated answer: 한화솔루션\n"
     ]
    },
    {
     "name": "stderr",
     "output_type": "stream",
     "text": [
      " 34%|███▍      | 514/1507 [29:52<1:01:24,  3.71s/it]"
     ]
    },
    {
     "name": "stdout",
     "output_type": "stream",
     "text": [
      "ID: TEST_0513 Question: 한화그룹의 2020년 2분기 영업이익은 Generated answer: 5013억원\n"
     ]
    },
    {
     "name": "stderr",
     "output_type": "stream",
     "text": [
      " 34%|███▍      | 515/1507 [29:55<55:10,  3.34s/it]  "
     ]
    },
    {
     "name": "stdout",
     "output_type": "stream",
     "text": [
      "ID: TEST_0514 Question: 월성 1호기 경제성 축소 과정에 대해 정부의 관여가 없었다고 말한 사람은 누구 Generated answer: 성윤모\n"
     ]
    },
    {
     "name": "stderr",
     "output_type": "stream",
     "text": [
      " 34%|███▍      | 516/1507 [29:58<54:23,  3.29s/it]"
     ]
    },
    {
     "name": "stdout",
     "output_type": "stream",
     "text": [
      "ID: TEST_0515 Question: 월성 1호기 조기 폐쇄로 인해 사라진 지역 일자리는 몇 개 Generated answer: 32만 개\n"
     ]
    },
    {
     "name": "stderr",
     "output_type": "stream",
     "text": [
      " 34%|███▍      | 517/1507 [30:02<55:55,  3.39s/it]"
     ]
    },
    {
     "name": "stdout",
     "output_type": "stream",
     "text": [
      "ID: TEST_0516 Question: 월성 1호기 조기 폐쇄로 인해 감소한 지방 세액은 얼마 Generated answer: 2조8000억원\n"
     ]
    },
    {
     "name": "stderr",
     "output_type": "stream",
     "text": [
      " 34%|███▍      | 518/1507 [30:06<59:12,  3.59s/it]"
     ]
    },
    {
     "name": "stdout",
     "output_type": "stream",
     "text": [
      "ID: TEST_0517 Question: 감사 자료를 삭제한 산업부 공무원의 행동에 대해 성윤모 장관이 언급한 이유는 무엇 Generated answer: 이유 여하를 막론하고 유감 ” 이라고 인정했다. 다만 자료 삭제는 해당 공무원의 “ 자의적 판단 ”\n"
     ]
    },
    {
     "name": "stderr",
     "output_type": "stream",
     "text": [
      " 34%|███▍      | 519/1507 [30:09<56:59,  3.46s/it]"
     ]
    },
    {
     "name": "stdout",
     "output_type": "stream",
     "text": [
      "ID: TEST_0518 Question: 산자위 국감 도중 휴대전화로 게임을 한 의원은 누구 Generated answer: 강훈식\n"
     ]
    },
    {
     "name": "stderr",
     "output_type": "stream",
     "text": [
      " 35%|███▍      | 520/1507 [30:13<59:35,  3.62s/it]"
     ]
    },
    {
     "name": "stdout",
     "output_type": "stream",
     "text": [
      "ID: TEST_0519 Question: LS전선 동해공장이 초고압 해저 케이블 보관을 위해 도입한 턴테이블의 용량은 Generated answer: 5000t급\n"
     ]
    },
    {
     "name": "stderr",
     "output_type": "stream",
     "text": [
      " 35%|███▍      | 521/1507 [30:16<58:40,  3.57s/it]"
     ]
    },
    {
     "name": "stdout",
     "output_type": "stream",
     "text": [
      "ID: TEST_0520 Question: 해저 케이블의 설계수명은 Generated answer: 30년.\n"
     ]
    },
    {
     "name": "stderr",
     "output_type": "stream",
     "text": [
      " 35%|███▍      | 522/1507 [30:20<59:23,  3.62s/it]"
     ]
    },
    {
     "name": "stdout",
     "output_type": "stream",
     "text": [
      "ID: TEST_0521 Question: 해저 케이블이 설치될 대만의 해상풍력 발전단지는 Generated answer: ( ) 해상풍력 발전단지\n"
     ]
    },
    {
     "name": "stderr",
     "output_type": "stream",
     "text": [
      " 35%|███▍      | 523/1507 [30:23<57:46,  3.52s/it]"
     ]
    },
    {
     "name": "stdout",
     "output_type": "stream",
     "text": [
      "ID: TEST_0522 Question: LS전선이 지난해 대만 해상풍력 발전단지에서 수주한 계약 금액은 Generated answer: 5000억원이다.\n"
     ]
    },
    {
     "name": "stderr",
     "output_type": "stream",
     "text": [
      " 35%|███▍      | 524/1507 [30:27<57:19,  3.50s/it]"
     ]
    },
    {
     "name": "stdout",
     "output_type": "stream",
     "text": [
      "ID: TEST_0523 Question: LS전선 명노현 대표가 마케팅을 집중할 지역은 Generated answer: 미국과 유럽, 아프리카\n"
     ]
    },
    {
     "name": "stderr",
     "output_type": "stream",
     "text": [
      " 35%|███▍      | 525/1507 [30:30<55:34,  3.40s/it]"
     ]
    },
    {
     "name": "stdout",
     "output_type": "stream",
     "text": [
      "ID: TEST_0524 Question: 재산세 감면 대상이 되는 집의 공시지가 기준은 Generated answer: 공시지가 9억원\n"
     ]
    },
    {
     "name": "stderr",
     "output_type": "stream",
     "text": [
      " 35%|███▍      | 526/1507 [30:33<55:04,  3.37s/it]"
     ]
    },
    {
     "name": "stdout",
     "output_type": "stream",
     "text": [
      "ID: TEST_0525 Question: 전체 검토 대상 주택 중 공시지가가 6억원 이하인 주택의 비율은 Generated answer: 95. 5 %\n"
     ]
    },
    {
     "name": "stderr",
     "output_type": "stream",
     "text": [
      " 35%|███▍      | 527/1507 [30:38<1:00:00,  3.67s/it]"
     ]
    },
    {
     "name": "stdout",
     "output_type": "stream",
     "text": [
      "ID: TEST_0526 Question: 재산세 감면율이 가장 큰 공시가격 구간은 Generated answer: 공시가 1억원 이하의 1주택자\n"
     ]
    },
    {
     "name": "stderr",
     "output_type": "stream",
     "text": [
      " 35%|███▌      | 528/1507 [30:42<1:03:25,  3.89s/it]"
     ]
    },
    {
     "name": "stdout",
     "output_type": "stream",
     "text": [
      "ID: TEST_0527 Question: 재산세 감면 혜택이 연간 제공될 세제 지원 효과는 Generated answer: 4785억원\n"
     ]
    },
    {
     "name": "stderr",
     "output_type": "stream",
     "text": [
      " 35%|███▌      | 529/1507 [30:46<1:05:49,  4.04s/it]"
     ]
    },
    {
     "name": "stdout",
     "output_type": "stream",
     "text": [
      "ID: TEST_0528 Question: 이번 재산세 인하가 적용되는 기간은 Generated answer: 내년부터 오는 2023년까지 3년\n"
     ]
    },
    {
     "name": "stderr",
     "output_type": "stream",
     "text": [
      " 35%|███▌      | 530/1507 [30:50<1:02:11,  3.82s/it]"
     ]
    },
    {
     "name": "stdout",
     "output_type": "stream",
     "text": [
      "ID: TEST_0529 Question: 국제통화기금이 재정모니터 보고서를 발표한 날짜 Generated answer: 5일 ( 현지시간 ) 반기 ‘ 재정모니터 보고서 ’ 에서 “ 선진국들이 이례적으로 낮은 수준의 금리를 활용해 적자 재정에 나서 경기를 살려야 한다 ” 고 강조했다.\n"
     ]
    },
    {
     "name": "stderr",
     "output_type": "stream",
     "text": [
      " 35%|███▌      | 531/1507 [30:54<1:02:52,  3.86s/it]"
     ]
    },
    {
     "name": "stdout",
     "output_type": "stream",
     "text": [
      "ID: TEST_0530 Question: IMF가 선진국에 권장한 공공투자 비율 Generated answer: GDP의 1 %\n"
     ]
    },
    {
     "name": "stderr",
     "output_type": "stream",
     "text": [
      " 35%|███▌      | 532/1507 [30:57<1:02:06,  3.82s/it]"
     ]
    },
    {
     "name": "stdout",
     "output_type": "stream",
     "text": [
      "ID: TEST_0531 Question: IMF가 고용 증가를 예측한 비율 Generated answer: GDP의 1 %\n"
     ]
    },
    {
     "name": "stderr",
     "output_type": "stream",
     "text": [
      " 35%|███▌      | 533/1507 [31:01<59:01,  3.64s/it]  "
     ]
    },
    {
     "name": "stdout",
     "output_type": "stream",
     "text": [
      "ID: TEST_0532 Question: 국가들이 공공투자를 확대한 이유 중 하나 Generated answer: 적자 재정에 나서 경기를 살려야 한다 ” 고 강조했다. 파이낸셜타임스 ( FT ) 는 “ 적자재정\n"
     ]
    },
    {
     "name": "stderr",
     "output_type": "stream",
     "text": [
      " 35%|███▌      | 534/1507 [31:05<1:03:08,  3.89s/it]"
     ]
    },
    {
     "name": "stdout",
     "output_type": "stream",
     "text": [
      "ID: TEST_0533 Question: 공공투자가 가장 우선적으로 지출될 분야 Generated answer: 인프라의 유지 보수\n"
     ]
    },
    {
     "name": "stderr",
     "output_type": "stream",
     "text": [
      " 36%|███▌      | 535/1507 [31:07<53:18,  3.29s/it]  "
     ]
    },
    {
     "name": "stdout",
     "output_type": "stream",
     "text": [
      "ID: TEST_0534 Question: 화순군에서 아스파라거스를 재배하는 농가 수는 Generated answer: 11개 농가\n"
     ]
    },
    {
     "name": "stderr",
     "output_type": "stream",
     "text": [
      " 36%|███▌      | 536/1507 [31:08<44:10,  2.73s/it]"
     ]
    },
    {
     "name": "stdout",
     "output_type": "stream",
     "text": [
      "ID: TEST_0535 Question: 화순 아스파라거스가 일본으로 다시 수출되기 시작한 연도는 Generated answer: 2011년 이후 실적이 없다가 지난해\n"
     ]
    },
    {
     "name": "stderr",
     "output_type": "stream",
     "text": [
      " 36%|███▌      | 537/1507 [31:10<41:06,  2.54s/it]"
     ]
    },
    {
     "name": "stdout",
     "output_type": "stream",
     "text": [
      "ID: TEST_0536 Question: 화순군이 아스파라거스 단지 조성 시범 사업에 투자하는 금액은 Generated answer: 4억원\n"
     ]
    },
    {
     "name": "stderr",
     "output_type": "stream",
     "text": [
      " 36%|███▌      | 538/1507 [31:12<34:29,  2.14s/it]"
     ]
    },
    {
     "name": "stdout",
     "output_type": "stream",
     "text": [
      "ID: TEST_0537 Question: 아스파라거스 재배 면적이 집중된 화순의 면은 Generated answer: 춘양면\n"
     ]
    },
    {
     "name": "stderr",
     "output_type": "stream",
     "text": [
      " 36%|███▌      | 539/1507 [31:14<33:36,  2.08s/it]"
     ]
    },
    {
     "name": "stdout",
     "output_type": "stream",
     "text": [
      "ID: TEST_0538 Question: 글로벌 GAP 인증 컨설팅을 함께 진행하는 대학은 Generated answer: 한경대와\n"
     ]
    },
    {
     "name": "stderr",
     "output_type": "stream",
     "text": [
      " 36%|███▌      | 540/1507 [31:16<35:15,  2.19s/it]"
     ]
    },
    {
     "name": "stdout",
     "output_type": "stream",
     "text": [
      "ID: TEST_0539 Question: 탐나는전'의 지류형 발행 규모는 얼마야 Generated answer: 150억원\n"
     ]
    },
    {
     "name": "stderr",
     "output_type": "stream",
     "text": [
      " 36%|███▌      | 541/1507 [31:18<35:17,  2.19s/it]"
     ]
    },
    {
     "name": "stdout",
     "output_type": "stream",
     "text": [
      "ID: TEST_0540 Question: 지류형 '탐나는전'이 출시된 달은 언제야 Generated answer: 지난 2월\n"
     ]
    },
    {
     "name": "stderr",
     "output_type": "stream",
     "text": [
      " 36%|███▌      | 542/1507 [31:21<36:11,  2.25s/it]"
     ]
    },
    {
     "name": "stdout",
     "output_type": "stream",
     "text": [
      "ID: TEST_0541 Question: 할인구매 시 1인당 구매 한도는 얼마야 Generated answer: 월 70만원, 연간 500만원\n"
     ]
    },
    {
     "name": "stderr",
     "output_type": "stream",
     "text": [
      " 36%|███▌      | 543/1507 [31:24<40:19,  2.51s/it]"
     ]
    },
    {
     "name": "stdout",
     "output_type": "stream",
     "text": [
      "ID: TEST_0542 Question: 지류형 탐나는전 발행을 맡은 기관은 어디야 Generated answer: 한국조폐공사\n"
     ]
    },
    {
     "name": "stderr",
     "output_type": "stream",
     "text": [
      " 36%|███▌      | 544/1507 [31:27<42:43,  2.66s/it]"
     ]
    },
    {
     "name": "stdout",
     "output_type": "stream",
     "text": [
      "ID: TEST_0543 Question: 지류형 탐나는전이 품귀 현상을 보인 시기는 언제야 Generated answer: 지난 2월 설명절\n"
     ]
    },
    {
     "name": "stderr",
     "output_type": "stream",
     "text": [
      " 36%|███▌      | 545/1507 [31:30<47:09,  2.94s/it]"
     ]
    },
    {
     "name": "stdout",
     "output_type": "stream",
     "text": [
      "ID: TEST_0544 Question: 삼성에 제시된 BOE 패널 공급 가격 비교 대상 Generated answer: 30 % 가량 저렴한 것으로 알려져 있다.\n"
     ]
    },
    {
     "name": "stderr",
     "output_type": "stream",
     "text": [
      " 36%|███▌      | 546/1507 [31:34<48:47,  3.05s/it]"
     ]
    },
    {
     "name": "stdout",
     "output_type": "stream",
     "text": [
      "ID: TEST_0545 Question: 홍윤정의 미국 이름은 무엇인가 Generated answer: 프란체스카 홍\n"
     ]
    },
    {
     "name": "stderr",
     "output_type": "stream",
     "text": [
      " 36%|███▋      | 547/1507 [31:37<50:01,  3.13s/it]"
     ]
    },
    {
     "name": "stdout",
     "output_type": "stream",
     "text": [
      "ID: TEST_0546 Question: 홍 씨가 당선된 주의회 지역구 번호는 몇 번인가 Generated answer: 76 지역구 )\n"
     ]
    },
    {
     "name": "stderr",
     "output_type": "stream",
     "text": [
      " 36%|███▋      | 548/1507 [31:39<46:32,  2.91s/it]"
     ]
    },
    {
     "name": "stdout",
     "output_type": "stream",
     "text": [
      "ID: TEST_0547 Question: 홍 씨의 나이는 몇 살인가 Generated answer: 32, 한국명 홍윤정 )\n"
     ]
    },
    {
     "name": "stderr",
     "output_type": "stream",
     "text": [
      " 36%|███▋      | 549/1507 [31:43<48:51,  3.06s/it]"
     ]
    },
    {
     "name": "stdout",
     "output_type": "stream",
     "text": [
      "ID: TEST_0548 Question: 위스콘신의 매일 코로나19 확진자 수는 몇 명이었나 Generated answer: 5000명 수준\n"
     ]
    },
    {
     "name": "stderr",
     "output_type": "stream",
     "text": [
      " 36%|███▋      | 550/1507 [31:47<53:53,  3.38s/it]"
     ]
    },
    {
     "name": "stdout",
     "output_type": "stream",
     "text": [
      "ID: TEST_0549 Question: 트럼프 대통령이 위스콘신 유세 당시의 기온은 몇 도였나 Generated answer: 영상 2도\n"
     ]
    },
    {
     "name": "stderr",
     "output_type": "stream",
     "text": [
      " 37%|███▋      | 551/1507 [31:50<51:09,  3.21s/it]"
     ]
    },
    {
     "name": "stdout",
     "output_type": "stream",
     "text": [
      "ID: TEST_0550 Question: 엘포인트 회원이 할인을 받을 수 있는 결제 수단 Generated answer: 롯데, 신한, 현대 등 7대 카드로 결제\n"
     ]
    },
    {
     "name": "stderr",
     "output_type": "stream",
     "text": [
      " 37%|███▋      | 552/1507 [31:52<48:33,  3.05s/it]"
     ]
    },
    {
     "name": "stdout",
     "output_type": "stream",
     "text": [
      "ID: TEST_0551 Question: 황모 씨가 소유한 단독주택 개수 Generated answer: 아파트 한 채와 단독주택 3채\n"
     ]
    },
    {
     "name": "stderr",
     "output_type": "stream",
     "text": [
      " 37%|███▋      | 553/1507 [31:55<46:26,  2.92s/it]"
     ]
    },
    {
     "name": "stdout",
     "output_type": "stream",
     "text": [
      "ID: TEST_0552 Question: 임대차 3법'이 본격 시행된 날짜 Generated answer: 지난달 31일\n"
     ]
    },
    {
     "name": "stderr",
     "output_type": "stream",
     "text": [
      " 37%|███▋      | 554/1507 [31:59<51:18,  3.23s/it]"
     ]
    },
    {
     "name": "stdout",
     "output_type": "stream",
     "text": [
      "ID: TEST_0553 Question: 한씨가 세입자에게 전세계약 갱신 의사를 밝힌 날짜 Generated answer: 지난 2일\n"
     ]
    },
    {
     "name": "stderr",
     "output_type": "stream",
     "text": [
      " 37%|███▋      | 555/1507 [32:02<51:44,  3.26s/it]"
     ]
    },
    {
     "name": "stdout",
     "output_type": "stream",
     "text": [
      "ID: TEST_0554 Question: 새 집주인이 잔금 날짜에 맞춰 집을 판 장소 Generated answer: 실거주할 계획인 매수자는 현재 살고 있는 집을 잔금 날짜에 맞춰 팔았다.\n"
     ]
    },
    {
     "name": "stderr",
     "output_type": "stream",
     "text": [
      " 37%|███▋      | 556/1507 [32:06<52:13,  3.30s/it]"
     ]
    },
    {
     "name": "stdout",
     "output_type": "stream",
     "text": [
      "ID: TEST_0555 Question: 세종시 아파트 값이 지난달 상승률 Generated answer: 6. 53 %\n"
     ]
    },
    {
     "name": "stderr",
     "output_type": "stream",
     "text": [
      " 37%|███▋      | 557/1507 [32:10<57:00,  3.60s/it]"
     ]
    },
    {
     "name": "stdout",
     "output_type": "stream",
     "text": [
      "ID: TEST_0556 Question: KCSI 조사에서 24회 1위를 기록한 정장구두 브랜드는 Generated answer: 금강 ( 정장구두 )\n"
     ]
    },
    {
     "name": "stderr",
     "output_type": "stream",
     "text": [
      " 37%|███▋      | 558/1507 [32:13<55:34,  3.51s/it]"
     ]
    },
    {
     "name": "stdout",
     "output_type": "stream",
     "text": [
      "ID: TEST_0557 Question: 제조업 중 20회 이상 1위를 차지한 자동차 브랜드는 Generated answer: 현대자동차 ( 내구재, 27회 )\n"
     ]
    },
    {
     "name": "stderr",
     "output_type": "stream",
     "text": [
      " 37%|███▋      | 559/1507 [32:17<56:22,  3.57s/it]"
     ]
    },
    {
     "name": "stdout",
     "output_type": "stream",
     "text": [
      "ID: TEST_0558 Question: 에어컨 분야에서 13회 1위를 차지한 브랜드는 Generated answer: LG 13회\n"
     ]
    },
    {
     "name": "stderr",
     "output_type": "stream",
     "text": [
      " 37%|███▋      | 560/1507 [32:21<56:55,  3.61s/it]"
     ]
    },
    {
     "name": "stdout",
     "output_type": "stream",
     "text": [
      "ID: TEST_0559 Question: 소비재 산업 중 12회 1위를 기록한 소주 브랜드는 Generated answer: 금복주\n"
     ]
    },
    {
     "name": "stderr",
     "output_type": "stream",
     "text": [
      " 37%|███▋      | 561/1507 [32:24<57:02,  3.62s/it]"
     ]
    },
    {
     "name": "stdout",
     "output_type": "stream",
     "text": [
      "ID: TEST_0560 Question: 대형서점 산업에서 24회 1위를 기록한 브랜드는 Generated answer: 교보문고 ( 대형서점 ) 등\n"
     ]
    },
    {
     "name": "stderr",
     "output_type": "stream",
     "text": [
      " 37%|███▋      | 562/1507 [32:27<53:42,  3.41s/it]"
     ]
    },
    {
     "name": "stdout",
     "output_type": "stream",
     "text": [
      "ID: TEST_0561 Question: 경기버스라운지가 위치한 출구 Generated answer: 사당역 4번 출구\n"
     ]
    },
    {
     "name": "stderr",
     "output_type": "stream",
     "text": [
      " 37%|███▋      | 563/1507 [32:30<49:49,  3.17s/it]"
     ]
    },
    {
     "name": "stdout",
     "output_type": "stream",
     "text": [
      "ID: TEST_0562 Question: 경기버스라운지에 들어가는 예산 Generated answer: 건물 임대료와 직원 4명에 들어가는 인건비 등 올해 책정한 예산만 9억원이다.\n"
     ]
    },
    {
     "name": "stderr",
     "output_type": "stream",
     "text": [
      " 37%|███▋      | 564/1507 [32:33<48:49,  3.11s/it]"
     ]
    },
    {
     "name": "stdout",
     "output_type": "stream",
     "text": [
      "ID: TEST_0563 Question: 경기버스라운지의 직원 수 Generated answer: 직원 4명\n"
     ]
    },
    {
     "name": "stderr",
     "output_type": "stream",
     "text": [
      " 37%|███▋      | 565/1507 [32:36<50:23,  3.21s/it]"
     ]
    },
    {
     "name": "stdout",
     "output_type": "stream",
     "text": [
      "ID: TEST_0564 Question: 경기버스라운지의 하루 이용객 수 Generated answer: 50 ~ 100명\n"
     ]
    },
    {
     "name": "stderr",
     "output_type": "stream",
     "text": [
      " 38%|███▊      | 566/1507 [32:39<46:35,  2.97s/it]"
     ]
    },
    {
     "name": "stdout",
     "output_type": "stream",
     "text": [
      "ID: TEST_0565 Question: 경기버스라운지 개소 날짜 Generated answer: 지난달 5일\n"
     ]
    },
    {
     "name": "stderr",
     "output_type": "stream",
     "text": [
      " 38%|███▊      | 567/1507 [32:44<59:34,  3.80s/it]"
     ]
    },
    {
     "name": "stdout",
     "output_type": "stream",
     "text": [
      "ID: TEST_0566 Question: 서울에서 아파트 가격 상승률이 가장 낮은 구는 어디? Generated answer: 은평구 ( 39. 4 % ) 로 나타났다.\n"
     ]
    },
    {
     "name": "stderr",
     "output_type": "stream",
     "text": [
      " 38%|███▊      | 568/1507 [32:49<1:01:15,  3.91s/it]"
     ]
    },
    {
     "name": "stdout",
     "output_type": "stream",
     "text": [
      "ID: TEST_0567 Question: 경기도 내 아파트 가격 상승률이 가장 높은 곳은 어디? Generated answer: 과천시 ( 65. 4 % · 5억 5387만원 ), 성남시\n"
     ]
    },
    {
     "name": "stderr",
     "output_type": "stream",
     "text": [
      " 38%|███▊      | 569/1507 [32:53<1:03:26,  4.06s/it]"
     ]
    },
    {
     "name": "stdout",
     "output_type": "stream",
     "text": [
      "ID: TEST_0568 Question: 현 정부 기간 서울 아파트 가격 상승률은 몇 퍼센트? Generated answer: 14. 2 %\n"
     ]
    },
    {
     "name": "stderr",
     "output_type": "stream",
     "text": [
      " 38%|███▊      | 570/1507 [32:58<1:10:09,  4.49s/it]"
     ]
    },
    {
     "name": "stdout",
     "output_type": "stream",
     "text": [
      "ID: TEST_0569 Question: 이번 정부 들어 아파트값이 하락한 경기도 남부 도시는 어디? Generated answer: 평택시 ( - 3 % ), 여주시 ( - 8. 9 % ), 안성시\n"
     ]
    },
    {
     "name": "stderr",
     "output_type": "stream",
     "text": [
      " 38%|███▊      | 571/1507 [33:04<1:13:53,  4.74s/it]"
     ]
    },
    {
     "name": "stdout",
     "output_type": "stream",
     "text": [
      "ID: TEST_0570 Question: 세종시 아파트 가격은 몇 퍼센트 올랐어? Generated answer: 47 % ( 1억 7142만원 ) 올랐다.\n"
     ]
    },
    {
     "name": "stderr",
     "output_type": "stream",
     "text": [
      " 38%|███▊      | 572/1507 [33:06<1:02:56,  4.04s/it]"
     ]
    },
    {
     "name": "stdout",
     "output_type": "stream",
     "text": [
      "ID: TEST_0571 Question: 김신우 교수의 소속 병원 Generated answer: 경북대병원\n"
     ]
    },
    {
     "name": "stderr",
     "output_type": "stream",
     "text": [
      " 38%|███▊      | 573/1507 [33:09<59:23,  3.82s/it]  "
     ]
    },
    {
     "name": "stdout",
     "output_type": "stream",
     "text": [
      "ID: TEST_0572 Question: 정은경의 직책 Generated answer: 정은경 질병관리본부장\n"
     ]
    },
    {
     "name": "stderr",
     "output_type": "stream",
     "text": [
      " 38%|███▊      | 574/1507 [33:13<56:52,  3.66s/it]"
     ]
    },
    {
     "name": "stdout",
     "output_type": "stream",
     "text": [
      "ID: TEST_0573 Question: 김강립의 직책 Generated answer: 직책 오피스텔\n"
     ]
    },
    {
     "name": "stderr",
     "output_type": "stream",
     "text": [
      " 38%|███▊      | 575/1507 [33:16<55:10,  3.55s/it]"
     ]
    },
    {
     "name": "stdout",
     "output_type": "stream",
     "text": [
      "ID: TEST_0574 Question: 스타벅스 파주 야당역점 관련 확진자 수 Generated answer: 스타벅스 파주 야당역점 관련 확진자는 지금까지 총 42명\n"
     ]
    },
    {
     "name": "stderr",
     "output_type": "stream",
     "text": [
      " 38%|███▊      | 576/1507 [33:19<51:20,  3.31s/it]"
     ]
    },
    {
     "name": "stdout",
     "output_type": "stream",
     "text": [
      "ID: TEST_0575 Question: 김우주 교수의 소속 병원 Generated answer: 고대구로병원\n"
     ]
    },
    {
     "name": "stderr",
     "output_type": "stream",
     "text": [
      " 38%|███▊      | 577/1507 [33:20<40:25,  2.61s/it]"
     ]
    },
    {
     "name": "stdout",
     "output_type": "stream",
     "text": [
      "ID: TEST_0576 Question: 올해 전기이륜차 보급 대수 Generated answer: 1200대가 보급된다.\n"
     ]
    },
    {
     "name": "stderr",
     "output_type": "stream",
     "text": [
      " 38%|███▊      | 578/1507 [33:21<35:30,  2.29s/it]"
     ]
    },
    {
     "name": "stdout",
     "output_type": "stream",
     "text": [
      "ID: TEST_0577 Question: 전기이륜차 경형 최대 보조금 Generated answer: 150만원\n"
     ]
    },
    {
     "name": "stderr",
     "output_type": "stream",
     "text": [
      " 38%|███▊      | 579/1507 [33:23<31:01,  2.01s/it]"
     ]
    },
    {
     "name": "stdout",
     "output_type": "stream",
     "text": [
      "ID: TEST_0578 Question: 전기이륜차 소형 최대 보조금 Generated answer: 260만원\n"
     ]
    },
    {
     "name": "stderr",
     "output_type": "stream",
     "text": [
      " 38%|███▊      | 580/1507 [33:24<29:47,  1.93s/it]"
     ]
    },
    {
     "name": "stdout",
     "output_type": "stream",
     "text": [
      "ID: TEST_0579 Question: 추가 보조금 금액 Generated answer: 본인 소유의 내연기관 이륜차를 폐차해 구매하면 유형ㆍ규모별 최대 지원액 한도 내에서 20만원이 추가 지원된다.\n"
     ]
    },
    {
     "name": "stderr",
     "output_type": "stream",
     "text": [
      " 39%|███▊      | 581/1507 [33:26<27:45,  1.80s/it]"
     ]
    },
    {
     "name": "stdout",
     "output_type": "stream",
     "text": [
      "ID: TEST_0580 Question: 무상 사후관리 기간 도입 목적 Generated answer: 올해는 이용자 안전 강화\n"
     ]
    },
    {
     "name": "stderr",
     "output_type": "stream",
     "text": [
      " 39%|███▊      | 582/1507 [33:28<30:00,  1.95s/it]"
     ]
    },
    {
     "name": "stdout",
     "output_type": "stream",
     "text": [
      "ID: TEST_0581 Question: 코리아세일페스타 기간 동안 현대차가 할인하는 차종 수는 Generated answer: 1만3000대\n"
     ]
    },
    {
     "name": "stderr",
     "output_type": "stream",
     "text": [
      " 39%|███▊      | 583/1507 [33:32<36:18,  2.36s/it]"
     ]
    },
    {
     "name": "stdout",
     "output_type": "stream",
     "text": [
      "ID: TEST_0582 Question: 기아차 스포티지 최대 할인 금액은 Generated answer: K5 139만원, K7 245만원\n"
     ]
    },
    {
     "name": "stderr",
     "output_type": "stream",
     "text": [
      " 39%|███▉      | 584/1507 [33:35<41:50,  2.72s/it]"
     ]
    },
    {
     "name": "stdout",
     "output_type": "stream",
     "text": [
      "ID: TEST_0583 Question: 르노삼성의 XM3가 속한 차량 부문은 Generated answer: 최대 200만원\n"
     ]
    },
    {
     "name": "stderr",
     "output_type": "stream",
     "text": [
      " 39%|███▉      | 585/1507 [33:39<48:20,  3.15s/it]"
     ]
    },
    {
     "name": "stdout",
     "output_type": "stream",
     "text": [
      "ID: TEST_0584 Question: 한국GM가 48개월 할부로 제공하는 혜택은 Generated answer: 무이자 할부를\n"
     ]
    },
    {
     "name": "stderr",
     "output_type": "stream",
     "text": [
      " 39%|███▉      | 586/1507 [33:43<49:03,  3.20s/it]"
     ]
    },
    {
     "name": "stdout",
     "output_type": "stream",
     "text": [
      "ID: TEST_0585 Question: 올해 1~9월 자동차 내수 판매량 증가율은 Generated answer: 6. 9 %\n"
     ]
    },
    {
     "name": "stderr",
     "output_type": "stream",
     "text": [
      " 39%|███▉      | 587/1507 [33:48<59:35,  3.89s/it]"
     ]
    },
    {
     "name": "stdout",
     "output_type": "stream",
     "text": [
      "ID: TEST_0586 Question: 디즈니가 스트리밍으로 '뮬란'을 공개하기로 결정한 이유는? Generated answer: 코로나19 확산세가 미국에서 좀처럼 잡히지 않으면서\n"
     ]
    },
    {
     "name": "stderr",
     "output_type": "stream",
     "text": [
      " 39%|███▉      | 588/1507 [33:52<58:03,  3.79s/it]"
     ]
    },
    {
     "name": "stdout",
     "output_type": "stream",
     "text": [
      "ID: TEST_0587 Question: 삶은 계란 다이어트 개발자의 이름은 Generated answer: 아리엘 챈들러\n"
     ]
    },
    {
     "name": "stderr",
     "output_type": "stream",
     "text": [
      " 39%|███▉      | 589/1507 [33:55<55:41,  3.64s/it]"
     ]
    },
    {
     "name": "stdout",
     "output_type": "stream",
     "text": [
      "ID: TEST_0588 Question: 이 다이어트를 통해 2주 만에 감량할 수 있는 체중은 Generated answer: 25파운드 ( 11㎏ )\n"
     ]
    },
    {
     "name": "stderr",
     "output_type": "stream",
     "text": [
      " 39%|███▉      | 590/1507 [33:59<57:56,  3.79s/it]"
     ]
    },
    {
     "name": "stdout",
     "output_type": "stream",
     "text": [
      "ID: TEST_0589 Question: 삶은 계란 다이어트의 아침 식사에 포함될 수 있는 과일은 Generated answer: 자몽 등 저탄수화물 과일\n"
     ]
    },
    {
     "name": "stderr",
     "output_type": "stream",
     "text": [
      " 39%|███▉      | 591/1507 [34:03<1:00:37,  3.97s/it]"
     ]
    },
    {
     "name": "stdout",
     "output_type": "stream",
     "text": [
      "ID: TEST_0590 Question: 권장되는 신체 활동 중 하나는 Generated answer: 자전거 타기ㆍ에어로빅ㆍ빠른 걷기\n"
     ]
    },
    {
     "name": "stderr",
     "output_type": "stream",
     "text": [
      " 39%|███▉      | 592/1507 [34:08<1:02:00,  4.07s/it]"
     ]
    },
    {
     "name": "stdout",
     "output_type": "stream",
     "text": [
      "ID: TEST_0591 Question: 피해야 할 고탄수화물 과일 예시는 Generated answer: 바나나ㆍ파인애플ㆍ망고ㆍ건조 과일 등\n"
     ]
    },
    {
     "name": "stderr",
     "output_type": "stream",
     "text": [
      " 39%|███▉      | 593/1507 [34:12<1:04:03,  4.21s/it]"
     ]
    },
    {
     "name": "stdout",
     "output_type": "stream",
     "text": [
      "ID: TEST_0592 Question: 3분기에 매출액 대비 영업이익률은 몇 퍼센트였나 Generated answer: 7. 25 %\n"
     ]
    },
    {
     "name": "stderr",
     "output_type": "stream",
     "text": [
      " 39%|███▉      | 594/1507 [34:18<1:09:53,  4.59s/it]"
     ]
    },
    {
     "name": "stdout",
     "output_type": "stream",
     "text": [
      "ID: TEST_0593 Question: 삼성전자의 3분기 순이익은 얼마였나 Generated answer: 9조3607억원\n"
     ]
    },
    {
     "name": "stderr",
     "output_type": "stream",
     "text": [
      " 39%|███▉      | 595/1507 [34:23<1:13:53,  4.86s/it]"
     ]
    },
    {
     "name": "stdout",
     "output_type": "stream",
     "text": [
      "ID: TEST_0594 Question: 음식료 업종의 3분기 순이익 증가율은 몇 퍼센트였나 Generated answer: 85. 5 %\n"
     ]
    },
    {
     "name": "stderr",
     "output_type": "stream",
     "text": [
      " 40%|███▉      | 596/1507 [34:28<1:11:43,  4.72s/it]"
     ]
    },
    {
     "name": "stdout",
     "output_type": "stream",
     "text": [
      "ID: TEST_0595 Question: 3분기 원화값은 달러당 얼마로 마감됐나 Generated answer: 1160 ~ 1200원\n"
     ]
    },
    {
     "name": "stderr",
     "output_type": "stream",
     "text": [
      " 40%|███▉      | 597/1507 [34:33<1:15:45,  5.00s/it]"
     ]
    },
    {
     "name": "stdout",
     "output_type": "stream",
     "text": [
      "ID: TEST_0596 Question: 코스닥 상장사 3분기 매출액은 얼마였나 Generated answer: 50조6740억원\n"
     ]
    },
    {
     "name": "stderr",
     "output_type": "stream",
     "text": [
      " 40%|███▉      | 598/1507 [34:34<57:25,  3.79s/it]  "
     ]
    },
    {
     "name": "stdout",
     "output_type": "stream",
     "text": [
      "ID: TEST_0597 Question: 이번 판매행사를 통한 전체 매출액은 Generated answer: 10억원\n"
     ]
    },
    {
     "name": "stderr",
     "output_type": "stream",
     "text": [
      " 40%|███▉      | 599/1507 [34:36<48:33,  3.21s/it]"
     ]
    },
    {
     "name": "stdout",
     "output_type": "stream",
     "text": [
      "ID: TEST_0598 Question: 온라인 쇼핑몰에서 판매된 농산물 매출액은 Generated answer: 1억원\n"
     ]
    },
    {
     "name": "stderr",
     "output_type": "stream",
     "text": [
      " 40%|███▉      | 600/1507 [34:38<40:31,  2.68s/it]"
     ]
    },
    {
     "name": "stdout",
     "output_type": "stream",
     "text": [
      "ID: TEST_0599 Question: 강진군 로컬푸드 직매장의 매출 증가율은 Generated answer: 40 % ( 2억원 )\n"
     ]
    },
    {
     "name": "stderr",
     "output_type": "stream",
     "text": [
      " 40%|███▉      | 601/1507 [34:40<38:11,  2.53s/it]"
     ]
    },
    {
     "name": "stdout",
     "output_type": "stream",
     "text": [
      "ID: TEST_0600 Question: 홍보 서한문을 받은 기관 수는 Generated answer: 504개\n"
     ]
    },
    {
     "name": "stderr",
     "output_type": "stream",
     "text": [
      " 40%|███▉      | 602/1507 [34:42<34:52,  2.31s/it]"
     ]
    },
    {
     "name": "stdout",
     "output_type": "stream",
     "text": [
      "ID: TEST_0601 Question: 청탁금지법에 의한 선물 한도는 Generated answer: 20만원\n"
     ]
    },
    {
     "name": "stderr",
     "output_type": "stream",
     "text": [
      " 40%|████      | 603/1507 [34:45<40:31,  2.69s/it]"
     ]
    },
    {
     "name": "stdout",
     "output_type": "stream",
     "text": [
      "ID: TEST_0602 Question: 오늘 고남면에서 부서지거나 잠긴 선박 수 Generated answer: 선박 25척\n"
     ]
    },
    {
     "name": "stderr",
     "output_type": "stream",
     "text": [
      " 40%|████      | 604/1507 [34:48<40:29,  2.69s/it]"
     ]
    },
    {
     "name": "stdout",
     "output_type": "stream",
     "text": [
      "ID: TEST_0603 Question: 백사장해수욕장에서 대피한 야영객 수 Generated answer: 가 내려졌다\n"
     ]
    },
    {
     "name": "stderr",
     "output_type": "stream",
     "text": [
      " 40%|████      | 605/1507 [34:51<44:01,  2.93s/it]"
     ]
    },
    {
     "name": "stdout",
     "output_type": "stream",
     "text": [
      "ID: TEST_0604 Question: 보령시 대천항에서 줄이 풀린 어선 수 Generated answer: 어선 12척\n"
     ]
    },
    {
     "name": "stderr",
     "output_type": "stream",
     "text": [
      " 40%|████      | 606/1507 [34:54<44:50,  2.99s/it]"
     ]
    },
    {
     "name": "stdout",
     "output_type": "stream",
     "text": [
      "ID: TEST_0605 Question: 남당항 해상에서 침수된 여객선 수 Generated answer: 도선 ( 여객선 ) 1척과 어선 1척이 침수됐다 ” 는 신고가 접수돼 보령해양경찰서 홍성파출소 경찰관들이 긴급 출동, 배수 작업을 마친 뒤 인근 포구로 예인했다.\n"
     ]
    },
    {
     "name": "stderr",
     "output_type": "stream",
     "text": [
      " 40%|████      | 607/1507 [34:57<44:45,  2.98s/it]"
     ]
    },
    {
     "name": "stdout",
     "output_type": "stream",
     "text": [
      "ID: TEST_0606 Question: 당진에 내린 비의 양 Generated answer: 80. 5㎜, 아산 73. 5㎜, 서산 70. 6㎜, 홍성 65. 7㎜, 태안 52. 5㎜\n"
     ]
    },
    {
     "name": "stderr",
     "output_type": "stream",
     "text": [
      " 40%|████      | 608/1507 [35:01<46:05,  3.08s/it]"
     ]
    },
    {
     "name": "stdout",
     "output_type": "stream",
     "text": [
      "ID: TEST_0607 Question: 광화문광장 재구조화 사업의 총 세금 투입 비용 Generated answer: 791억원\n"
     ]
    },
    {
     "name": "stderr",
     "output_type": "stream",
     "text": [
      " 40%|████      | 609/1507 [35:04<47:02,  3.14s/it]"
     ]
    },
    {
     "name": "stdout",
     "output_type": "stream",
     "text": [
      "ID: TEST_0608 Question: 광화문광장 재구조화 사업의 완료 계획 연도 Generated answer: 내년 10월\n"
     ]
    },
    {
     "name": "stderr",
     "output_type": "stream",
     "text": [
      " 40%|████      | 610/1507 [35:07<47:45,  3.19s/it]"
     ]
    },
    {
     "name": "stdout",
     "output_type": "stream",
     "text": [
      "ID: TEST_0609 Question: 광화문광장 재구조화 졸속 추진 중단을 촉구하는 단체 수 Generated answer: 광화문광장 재구조화 졸속 추진 중단을 촉구하는 시민사회단체 ’ 는 17일 “ 감사원 감사 청구와 무효 소송을 제기하겠다 ” 고 반발했다.\n"
     ]
    },
    {
     "name": "stderr",
     "output_type": "stream",
     "text": [
      " 41%|████      | 611/1507 [35:11<49:07,  3.29s/it]"
     ]
    },
    {
     "name": "stdout",
     "output_type": "stream",
     "text": [
      "ID: TEST_0610 Question: 안철수 국민의당 대표가 비판한 이유 중 하나 Generated answer: 한마디로 ‘ 날림행정 ’ 이자 ‘ 불통행정 ’ ‘ 유훈행정 ’ 의 표본 ” 이라고\n"
     ]
    },
    {
     "name": "stderr",
     "output_type": "stream",
     "text": [
      " 41%|████      | 612/1507 [35:14<48:11,  3.23s/it]"
     ]
    },
    {
     "name": "stdout",
     "output_type": "stream",
     "text": [
      "ID: TEST_0611 Question: 김태윤 한양대 교수의 비판 대상 Generated answer: 그는 이어 “ 이순신 장군이 지키고 있으면 되는 광화문광장을 ( 정치인이 ) 자기 것이라고 낙서하듯 훼손해 온 것이 근본적인 문제 ” 라고 지적했다.\n"
     ]
    },
    {
     "name": "stderr",
     "output_type": "stream",
     "text": [
      " 41%|████      | 613/1507 [35:18<53:24,  3.58s/it]"
     ]
    },
    {
     "name": "stdout",
     "output_type": "stream",
     "text": [
      "ID: TEST_0612 Question: 서울 아파트 3.3㎡당 평균 전셋값이 2년 전보다 오른 비율 Generated answer: 10. 2 %\n"
     ]
    },
    {
     "name": "stderr",
     "output_type": "stream",
     "text": [
      " 41%|████      | 614/1507 [35:23<57:45,  3.88s/it]"
     ]
    },
    {
     "name": "stdout",
     "output_type": "stream",
     "text": [
      "ID: TEST_0613 Question: 계약갱신청구권을 행사할 경우 임대료 인상 한도 Generated answer: 2400만원\n"
     ]
    },
    {
     "name": "stderr",
     "output_type": "stream",
     "text": [
      " 41%|████      | 615/1507 [35:28<1:01:47,  4.16s/it]"
     ]
    },
    {
     "name": "stdout",
     "output_type": "stream",
     "text": [
      "ID: TEST_0614 Question: 최대로 증가할 수 있는 임대료 인상 비율 Generated answer: 2400만원\n"
     ]
    },
    {
     "name": "stderr",
     "output_type": "stream",
     "text": [
      " 41%|████      | 616/1507 [35:32<1:01:45,  4.16s/it]"
     ]
    },
    {
     "name": "stdout",
     "output_type": "stream",
     "text": [
      "ID: TEST_0615 Question: 84㎡ 아파트 전셋값이 오른 금액 Generated answer: 7억2000만원\n"
     ]
    },
    {
     "name": "stderr",
     "output_type": "stream",
     "text": [
      " 41%|████      | 617/1507 [35:36<1:01:27,  4.14s/it]"
     ]
    },
    {
     "name": "stdout",
     "output_type": "stream",
     "text": [
      "ID: TEST_0616 Question: 임대주택사업자가 과태료 처분을 받는 임대료 초과 비율 Generated answer: 임대주택사업자가 등록한 임대주택에서는 임대료를 5 % 넘게 받으면 3000만원 이하의 과태료 처분을 받는다.\n"
     ]
    },
    {
     "name": "stderr",
     "output_type": "stream",
     "text": [
      " 41%|████      | 618/1507 [35:40<1:02:33,  4.22s/it]"
     ]
    },
    {
     "name": "stdout",
     "output_type": "stream",
     "text": [
      "ID: TEST_0617 Question: 모금액이 100억 원을 넘은 날짜는 Generated answer: 14일 오전 9시 기준 희망브리지 전국재해구호협회가 개인, 기업 등을 통해 모은 수해 이웃돕기 총 모금액은 실입금액 기준 100억4천909만4천409원\n"
     ]
    },
    {
     "name": "stderr",
     "output_type": "stream",
     "text": [
      " 41%|████      | 619/1507 [35:46<1:06:37,  4.50s/it]"
     ]
    },
    {
     "name": "stdout",
     "output_type": "stream",
     "text": [
      "ID: TEST_0618 Question: MBC가 긴급 편성한 프로그램 이름은 Generated answer: 우리 함께 이겨냅시다 ’\n"
     ]
    },
    {
     "name": "stderr",
     "output_type": "stream",
     "text": [
      " 41%|████      | 620/1507 [35:50<1:06:16,  4.48s/it]"
     ]
    },
    {
     "name": "stdout",
     "output_type": "stream",
     "text": [
      "ID: TEST_0619 Question: 희망브리지에서 파견한 세탁구호차량의 건조기 대수는 Generated answer: 세탁기 3대, 건조기 3대\n"
     ]
    },
    {
     "name": "stderr",
     "output_type": "stream",
     "text": [
      " 41%|████      | 621/1507 [35:54<1:03:23,  4.29s/it]"
     ]
    },
    {
     "name": "stdout",
     "output_type": "stream",
     "text": [
      "ID: TEST_0620 Question: 금일봉을 전달한 사람은 Generated answer: 문재인 대통령과 김정숙 여사\n"
     ]
    },
    {
     "name": "stderr",
     "output_type": "stream",
     "text": [
      " 41%|████▏     | 622/1507 [35:59<1:07:38,  4.59s/it]"
     ]
    },
    {
     "name": "stdout",
     "output_type": "stream",
     "text": [
      "ID: TEST_0621 Question: 방송인 유병재가 기부한 금액은 Generated answer: 1천만 원\n"
     ]
    },
    {
     "name": "stderr",
     "output_type": "stream",
     "text": [
      " 41%|████▏     | 623/1507 [36:02<1:01:57,  4.21s/it]"
     ]
    },
    {
     "name": "stdout",
     "output_type": "stream",
     "text": [
      "ID: TEST_0622 Question: 김동관의 나이는 Generated answer: 37 ) 한화솔루션 전략부문장\n"
     ]
    },
    {
     "name": "stderr",
     "output_type": "stream",
     "text": [
      " 41%|████▏     | 624/1507 [36:07<1:02:45,  4.26s/it]"
     ]
    },
    {
     "name": "stdout",
     "output_type": "stream",
     "text": [
      "ID: TEST_0623 Question: 한화그룹 CEO들의 최근 평균 연령은 Generated answer: 55. 7세\n"
     ]
    },
    {
     "name": "stderr",
     "output_type": "stream",
     "text": [
      " 41%|████▏     | 625/1507 [36:10<58:29,  3.98s/it]  "
     ]
    },
    {
     "name": "stdout",
     "output_type": "stream",
     "text": [
      "ID: TEST_0624 Question: 한화그룹의 자산 규모 순위는 Generated answer: 7위인 한화그룹 ( 71. 7조원 )\n"
     ]
    },
    {
     "name": "stderr",
     "output_type": "stream",
     "text": [
      " 42%|████▏     | 626/1507 [36:14<59:29,  4.05s/it]"
     ]
    },
    {
     "name": "stdout",
     "output_type": "stream",
     "text": [
      "ID: TEST_0625 Question: 포스코의 자산 규모는 Generated answer: 자산 80. 3조 )\n"
     ]
    },
    {
     "name": "stderr",
     "output_type": "stream",
     "text": [
      " 42%|████▏     | 627/1507 [36:18<56:31,  3.85s/it]"
     ]
    },
    {
     "name": "stdout",
     "output_type": "stream",
     "text": [
      "ID: TEST_0626 Question: 김동관의 동생 이름은 Generated answer: 김동원 ( 35 )\n"
     ]
    },
    {
     "name": "stderr",
     "output_type": "stream",
     "text": [
      " 42%|████▏     | 628/1507 [36:21<53:21,  3.64s/it]"
     ]
    },
    {
     "name": "stdout",
     "output_type": "stream",
     "text": [
      "ID: TEST_0627 Question: 중국의 부채 투명성 문제를 지적한 사람 Generated answer: 일부 국가에서 문제를 악화시키는 건 투명성의 부재라고 라인하트\n"
     ]
    },
    {
     "name": "stderr",
     "output_type": "stream",
     "text": [
      " 42%|████▏     | 629/1507 [36:22<43:19,  2.96s/it]"
     ]
    },
    {
     "name": "stdout",
     "output_type": "stream",
     "text": [
      "ID: TEST_0628 Question: 성공기업 달성 기준 성장률 Generated answer: 고용증가율 20 % 이상, 매출액증가율 50 % 이상, 매출액영업이익률 10 % 이상\n"
     ]
    },
    {
     "name": "stderr",
     "output_type": "stream",
     "text": [
      " 42%|████▏     | 630/1507 [36:24<39:58,  2.73s/it]"
     ]
    },
    {
     "name": "stdout",
     "output_type": "stream",
     "text": [
      "ID: TEST_0629 Question: 보고서 발간 날짜 Generated answer: 창업기에는 대표자 능력 ( CEO ), 성장기는 안정적인 거래처 및 고객 확보 ( Customer ), 성숙기는 기업의 혁신추구 ( Change )\n"
     ]
    },
    {
     "name": "stderr",
     "output_type": "stream",
     "text": [
      " 42%|████▏     | 631/1507 [36:27<37:35,  2.57s/it]"
     ]
    },
    {
     "name": "stdout",
     "output_type": "stream",
     "text": [
      "ID: TEST_0630 Question: 중진공의 분석 대상 기업 수 Generated answer: 창업기에는 대표자 능력 ( CEO ), 성장기는 안정적인 거래처 및 고객 확보 ( Customer ), 성숙기는 기업의 혁신추구 ( Change )\n"
     ]
    },
    {
     "name": "stderr",
     "output_type": "stream",
     "text": [
      " 42%|████▏     | 632/1507 [36:29<36:52,  2.53s/it]"
     ]
    },
    {
     "name": "stdout",
     "output_type": "stream",
     "text": [
      "ID: TEST_0631 Question: 성장 단계 세 번째 Generated answer: 창업기에는 대표자 능력 ( CEO ), 성장기는 안정적인 거래처 및 고객 확보 ( Customer ), 성숙기는 기업의 혁신추구 ( Change )\n"
     ]
    },
    {
     "name": "stderr",
     "output_type": "stream",
     "text": [
      " 42%|████▏     | 633/1507 [36:31<34:29,  2.37s/it]"
     ]
    },
    {
     "name": "stdout",
     "output_type": "stream",
     "text": [
      "ID: TEST_0632 Question: 중진공 홈페이지 주소 Generated answer: 창업기에는 대표자 능력 ( CEO ), 성장기는 안정적인 거래처 및 고객 확보 ( Customer ), 성숙기는 기업의 혁신추구 ( Change )\n"
     ]
    },
    {
     "name": "stderr",
     "output_type": "stream",
     "text": [
      " 42%|████▏     | 634/1507 [36:32<29:06,  2.00s/it]"
     ]
    },
    {
     "name": "stdout",
     "output_type": "stream",
     "text": [
      "ID: TEST_0633 Question: 홍보 전단지 제작 부수 Generated answer: 아울러 전남도는 도내 소상공인들이 버팀목 자금에 대해 정확하게 알고 신청할 수 있도록 지원 대상 ․ 금액, 지급방식 등을 담은 홍보 전단지 10만 부를\n"
     ]
    },
    {
     "name": "stderr",
     "output_type": "stream",
     "text": [
      " 42%|████▏     | 635/1507 [36:35<34:37,  2.38s/it]"
     ]
    },
    {
     "name": "stdout",
     "output_type": "stream",
     "text": [
      "ID: TEST_0634 Question: 공동행동 측이 입법 시한으로 설정한 날짜 Generated answer: 12월 31일\n"
     ]
    },
    {
     "name": "stderr",
     "output_type": "stream",
     "text": [
      " 42%|████▏     | 636/1507 [36:40<43:23,  2.99s/it]"
     ]
    },
    {
     "name": "stdout",
     "output_type": "stream",
     "text": [
      "ID: TEST_0635 Question: 3분기 코스피 상장사 순이익 증가율은 Generated answer: 44. 5 %\n"
     ]
    },
    {
     "name": "stderr",
     "output_type": "stream",
     "text": [
      " 42%|████▏     | 637/1507 [36:45<53:53,  3.72s/it]"
     ]
    },
    {
     "name": "stdout",
     "output_type": "stream",
     "text": [
      "ID: TEST_0636 Question: 음식료품 업종 순이익 증가율은 Generated answer: 85. 5 %\n"
     ]
    },
    {
     "name": "stderr",
     "output_type": "stream",
     "text": [
      " 42%|████▏     | 638/1507 [36:50<57:14,  3.95s/it]"
     ]
    },
    {
     "name": "stdout",
     "output_type": "stream",
     "text": [
      "ID: TEST_0637 Question: 삼성전자의 3분기 순이익 증가율은 Generated answer: 48. 9 %\n"
     ]
    },
    {
     "name": "stderr",
     "output_type": "stream",
     "text": [
      " 42%|████▏     | 639/1507 [36:54<59:09,  4.09s/it]"
     ]
    },
    {
     "name": "stdout",
     "output_type": "stream",
     "text": [
      "ID: TEST_0638 Question: 현대자동차의 3분기 순이익은 Generated answer: 도 크게 늘었다.\n"
     ]
    },
    {
     "name": "stderr",
     "output_type": "stream",
     "text": [
      " 42%|████▏     | 640/1507 [36:59<1:03:46,  4.41s/it]"
     ]
    },
    {
     "name": "stdout",
     "output_type": "stream",
     "text": [
      "ID: TEST_0639 Question: 코스닥 상장사의 3분기 매출액 증가율은 Generated answer: 5. 3 %\n"
     ]
    },
    {
     "name": "stderr",
     "output_type": "stream",
     "text": [
      " 43%|████▎     | 641/1507 [37:01<50:09,  3.48s/it]  "
     ]
    },
    {
     "name": "stdout",
     "output_type": "stream",
     "text": [
      "ID: TEST_0640 Question: 마을기업 청년취업 지원사업 신청서 제출 방법 Generated answer: 사업 참여를 희망하는 기업은 시 홈페이지 고시공고에서 신청서와 구비서류를 내려받아 작성한 후 소재지 관할 구청 담당부서에 직접 방문 또는 우편으로 제출하면 된다.\n"
     ]
    },
    {
     "name": "stderr",
     "output_type": "stream",
     "text": [
      " 43%|████▎     | 642/1507 [37:02<42:09,  2.92s/it]"
     ]
    },
    {
     "name": "stdout",
     "output_type": "stream",
     "text": [
      "ID: TEST_0641 Question: 선정된 마을기업에 지원되는 인건비 상한액 Generated answer: 180만원\n"
     ]
    },
    {
     "name": "stderr",
     "output_type": "stream",
     "text": [
      " 43%|████▎     | 643/1507 [37:04<35:11,  2.44s/it]"
     ]
    },
    {
     "name": "stdout",
     "output_type": "stream",
     "text": [
      "ID: TEST_0642 Question: 지원 대상 청년의 연령 범위 Generated answer: 만 18 ~ 39세\n"
     ]
    },
    {
     "name": "stderr",
     "output_type": "stream",
     "text": [
      " 43%|████▎     | 644/1507 [37:05<30:09,  2.10s/it]"
     ]
    },
    {
     "name": "stdout",
     "output_type": "stream",
     "text": [
      "ID: TEST_0643 Question: 사업 기간 동안 제공되는 월급여 Generated answer: 200만원\n"
     ]
    },
    {
     "name": "stderr",
     "output_type": "stream",
     "text": [
      " 43%|████▎     | 645/1507 [37:06<24:58,  1.74s/it]"
     ]
    },
    {
     "name": "stdout",
     "output_type": "stream",
     "text": [
      "ID: TEST_0644 Question: 사업 기간 종료 후 정착 시 제공되는 인센티브 Generated answer: 사업 기간 종료 후 취 ‧ 창업해 지역에 정착하면 1명당 총 1000만원의 인센티브도 제공한다.\n"
     ]
    },
    {
     "name": "stderr",
     "output_type": "stream",
     "text": [
      " 43%|████▎     | 646/1507 [37:10<34:01,  2.37s/it]"
     ]
    },
    {
     "name": "stdout",
     "output_type": "stream",
     "text": [
      "ID: TEST_0645 Question: 정부가 사회적 거리두기를 2단계로 격상한 기간은 Generated answer: 24일부터 다음 달 7일까지 2주간\n"
     ]
    },
    {
     "name": "stderr",
     "output_type": "stream",
     "text": [
      " 43%|████▎     | 647/1507 [37:14<42:44,  2.98s/it]"
     ]
    },
    {
     "name": "stdout",
     "output_type": "stream",
     "text": [
      "ID: TEST_0646 Question: 최근 1주간 수도권의 하루 평균 확진자는 Generated answer: 175. 1명\n"
     ]
    },
    {
     "name": "stderr",
     "output_type": "stream",
     "text": [
      " 43%|████▎     | 648/1507 [37:20<53:32,  3.74s/it]"
     ]
    },
    {
     "name": "stdout",
     "output_type": "stream",
     "text": [
      "ID: TEST_0647 Question: 2단계 격상 기준에서 호남권의 확진자 수는 Generated answer: 27. 4명으로 2단계 기준 ( 30명 )\n"
     ]
    },
    {
     "name": "stderr",
     "output_type": "stream",
     "text": [
      " 43%|████▎     | 649/1507 [37:24<54:18,  3.80s/it]"
     ]
    },
    {
     "name": "stdout",
     "output_type": "stream",
     "text": [
      "ID: TEST_0648 Question: 중대본의 1차장은 Generated answer: 박능후\n"
     ]
    },
    {
     "name": "stderr",
     "output_type": "stream",
     "text": [
      " 43%|████▎     | 650/1507 [37:28<58:54,  4.12s/it]"
     ]
    },
    {
     "name": "stdout",
     "output_type": "stream",
     "text": [
      "ID: TEST_0649 Question: 2단계에서 문을 열 수 없는 고위험시설은 Generated answer: 식당 오후 9시 영업제한, 결혼식장\n"
     ]
    },
    {
     "name": "stderr",
     "output_type": "stream",
     "text": [
      " 43%|████▎     | 651/1507 [37:32<55:18,  3.88s/it]"
     ]
    },
    {
     "name": "stdout",
     "output_type": "stream",
     "text": [
      "ID: TEST_0650 Question: 김학주의 전 소속 기관은 Generated answer: 삼성증권 리서치센터장을 지낸 한동대\n"
     ]
    },
    {
     "name": "stderr",
     "output_type": "stream",
     "text": [
      " 43%|████▎     | 652/1507 [37:35<52:46,  3.70s/it]"
     ]
    },
    {
     "name": "stdout",
     "output_type": "stream",
     "text": [
      "ID: TEST_0651 Question: 추미애 장관이 특수활동비 사용 내역 조사를 지시한 날짜 Generated answer: 지난 6일\n"
     ]
    },
    {
     "name": "stderr",
     "output_type": "stream",
     "text": [
      " 43%|████▎     | 653/1507 [37:39<55:37,  3.91s/it]"
     ]
    },
    {
     "name": "stdout",
     "output_type": "stream",
     "text": [
      "ID: TEST_0652 Question: 추미애 장관이 사용한 '감찰'이 포함된 부서 Generated answer: 이번 특활비 지시에서 추 장관은 ‘ 감찰 ’ 이라는 용어를 직접 쓰지 않았지만, 조사 주체가 ‘ 대검 감찰부 ’\n"
     ]
    },
    {
     "name": "stderr",
     "output_type": "stream",
     "text": [
      " 43%|████▎     | 654/1507 [37:43<54:11,  3.81s/it]"
     ]
    },
    {
     "name": "stdout",
     "output_type": "stream",
     "text": [
      "ID: TEST_0653 Question: 추미애 장관이 국회 법제사법위원회에서 언급한 특수활동비 총액 Generated answer: 윤석열 총장이 특활비를 주머닛돈처럼 사용한다 ”\n"
     ]
    },
    {
     "name": "stderr",
     "output_type": "stream",
     "text": [
      " 43%|████▎     | 655/1507 [37:46<51:14,  3.61s/it]"
     ]
    },
    {
     "name": "stdout",
     "output_type": "stream",
     "text": [
      "ID: TEST_0654 Question: 추미애 장관의 권한 침해를 주장한 법무법인의 이름 Generated answer: 법무법인 동인 )\n"
     ]
    },
    {
     "name": "stderr",
     "output_type": "stream",
     "text": [
      " 44%|████▎     | 656/1507 [37:49<49:30,  3.49s/it]"
     ]
    },
    {
     "name": "stdout",
     "output_type": "stream",
     "text": [
      "ID: TEST_0655 Question: 추미애 장관의 지시에 대해 수사를 의뢰한 시민단체 Generated answer: 법치주의바로세우기행동연대 ( 법세련 )\n"
     ]
    },
    {
     "name": "stderr",
     "output_type": "stream",
     "text": [
      " 44%|████▎     | 657/1507 [37:52<45:14,  3.19s/it]"
     ]
    },
    {
     "name": "stdout",
     "output_type": "stream",
     "text": [
      "ID: TEST_0656 Question: 백세미 손모내기 시연회가 열린 날짜 Generated answer: 지난 28일 죽곡면\n"
     ]
    },
    {
     "name": "stderr",
     "output_type": "stream",
     "text": [
      " 44%|████▎     | 658/1507 [37:54<39:43,  2.81s/it]"
     ]
    },
    {
     "name": "stdout",
     "output_type": "stream",
     "text": [
      "ID: TEST_0657 Question: 백세미 재배 면적 Generated answer: 현재 석곡농협 지역조합원과 인근 농가들이 계약재배를 통해 230여ha의 면적에서 중생종 골든퀸 3호 품종의 백세미를 재배하고 있다.\n"
     ]
    },
    {
     "name": "stderr",
     "output_type": "stream",
     "text": [
      " 44%|████▎     | 659/1507 [37:56<37:04,  2.62s/it]"
     ]
    },
    {
     "name": "stdout",
     "output_type": "stream",
     "text": [
      "ID: TEST_0658 Question: 백세미 도정 방식 Generated answer: 현재 석곡농협 지역조합원과 인근 농가들이 계약재배를 통해 230여ha의 면적에서 중생종 골든퀸 3호 품종의 백세미를 재배하고 있다. 모든 재배 과정은 친환경 방식\n"
     ]
    },
    {
     "name": "stderr",
     "output_type": "stream",
     "text": [
      " 44%|████▍     | 660/1507 [37:59<39:51,  2.82s/it]"
     ]
    },
    {
     "name": "stdout",
     "output_type": "stream",
     "text": [
      "ID: TEST_0659 Question: 지난해 백세미 판매량 Generated answer: 1, 000톤\n"
     ]
    },
    {
     "name": "stderr",
     "output_type": "stream",
     "text": [
      " 44%|████▍     | 661/1507 [38:02<41:47,  2.96s/it]"
     ]
    },
    {
     "name": "stdout",
     "output_type": "stream",
     "text": [
      "ID: TEST_0660 Question: 올해 백세미 매출 목표 Generated answer: 50억 원\n"
     ]
    },
    {
     "name": "stderr",
     "output_type": "stream",
     "text": [
      " 44%|████▍     | 662/1507 [38:07<46:23,  3.29s/it]"
     ]
    },
    {
     "name": "stdout",
     "output_type": "stream",
     "text": [
      "ID: TEST_0661 Question: 한 모 씨의 집이 있는 도시는 Generated answer: 서울 흑석동\n"
     ]
    },
    {
     "name": "stderr",
     "output_type": "stream",
     "text": [
      " 44%|████▍     | 663/1507 [38:10<48:31,  3.45s/it]"
     ]
    },
    {
     "name": "stdout",
     "output_type": "stream",
     "text": [
      "ID: TEST_0662 Question: 한 모 씨가 매매 계약을 체결한 날짜는 Generated answer: 지난달 29일\n"
     ]
    },
    {
     "name": "stderr",
     "output_type": "stream",
     "text": [
      " 44%|████▍     | 664/1507 [38:15<52:52,  3.76s/it]"
     ]
    },
    {
     "name": "stdout",
     "output_type": "stream",
     "text": [
      "ID: TEST_0663 Question: 세입자의 계약갱신요구권을 무시하는 경우 필요한 소송은 Generated answer: 명도 소송을\n"
     ]
    },
    {
     "name": "stderr",
     "output_type": "stream",
     "text": [
      " 44%|████▍     | 665/1507 [38:19<54:30,  3.88s/it]"
     ]
    },
    {
     "name": "stdout",
     "output_type": "stream",
     "text": [
      "ID: TEST_0664 Question: 성 모 씨가 사는 동네는 Generated answer: 서울 흑석동\n"
     ]
    },
    {
     "name": "stderr",
     "output_type": "stream",
     "text": [
      " 44%|████▍     | 666/1507 [38:25<1:01:13,  4.37s/it]"
     ]
    },
    {
     "name": "stdout",
     "output_type": "stream",
     "text": [
      "ID: TEST_0665 Question: 전세계약 만료 시기가 10월인 세입자에게 미리 알린 날짜는 Generated answer: 지난 6월\n"
     ]
    },
    {
     "name": "stderr",
     "output_type": "stream",
     "text": [
      " 44%|████▍     | 667/1507 [38:28<56:41,  4.05s/it]  "
     ]
    },
    {
     "name": "stdout",
     "output_type": "stream",
     "text": [
      "ID: TEST_0666 Question: 크로아티아 국토 면적은 한국의 얼마쯤 되는가 Generated answer: 절반쯤 됩니다.\n"
     ]
    },
    {
     "name": "stderr",
     "output_type": "stream",
     "text": [
      " 44%|████▍     | 668/1507 [38:31<53:30,  3.83s/it]"
     ]
    },
    {
     "name": "stdout",
     "output_type": "stream",
     "text": [
      "ID: TEST_0667 Question: 크로아티아에 있는 섬의 대략적인 수 Generated answer: 약 1000개\n"
     ]
    },
    {
     "name": "stderr",
     "output_type": "stream",
     "text": [
      " 44%|████▍     | 669/1507 [38:35<52:58,  3.79s/it]"
     ]
    },
    {
     "name": "stdout",
     "output_type": "stream",
     "text": [
      "ID: TEST_0668 Question: 코로나19로 크로아티아 국경을 다시 개방한 날짜 Generated answer: 지난 7월 1일\n"
     ]
    },
    {
     "name": "stderr",
     "output_type": "stream",
     "text": [
      " 44%|████▍     | 670/1507 [38:38<51:06,  3.66s/it]"
     ]
    },
    {
     "name": "stdout",
     "output_type": "stream",
     "text": [
      "ID: TEST_0669 Question: 연간 크로아티아를 방문하는 한국 관광객 수 Generated answer: 50만명\n"
     ]
    },
    {
     "name": "stderr",
     "output_type": "stream",
     "text": [
      " 45%|████▍     | 671/1507 [38:42<50:37,  3.63s/it]"
     ]
    },
    {
     "name": "stdout",
     "output_type": "stream",
     "text": [
      "ID: TEST_0670 Question: 실연 박물관'이 있는 크로아티아의 수도 Generated answer: 자그레브\n"
     ]
    },
    {
     "name": "stderr",
     "output_type": "stream",
     "text": [
      " 45%|████▍     | 672/1507 [38:47<55:13,  3.97s/it]"
     ]
    },
    {
     "name": "stdout",
     "output_type": "stream",
     "text": [
      "ID: TEST_0671 Question: 국내 인구의 몇 퍼센트를 위한 백신을 코백스 퍼실리티를 통해 우선 확보할 계획인가 Generated answer: 국내 인구의 20 %\n"
     ]
    },
    {
     "name": "stderr",
     "output_type": "stream",
     "text": [
      " 45%|████▍     | 673/1507 [38:51<56:52,  4.09s/it]"
     ]
    },
    {
     "name": "stdout",
     "output_type": "stream",
     "text": [
      "ID: TEST_0672 Question: 제넥신의 백신 종류는 무엇인가 Generated answer: 핵산 ( DNA ) 백신\n"
     ]
    },
    {
     "name": "stderr",
     "output_type": "stream",
     "text": [
      " 45%|████▍     | 674/1507 [38:55<57:50,  4.17s/it]"
     ]
    },
    {
     "name": "stdout",
     "output_type": "stream",
     "text": [
      "ID: TEST_0673 Question: 코로나19 글로벌 임상시험에서 백신 관련 시험 건수는 몇 개인가 Generated answer: 60개를 차지한다. 국내의 경우 식품의약품안전처가 승인한 코로나19 관련 임상시험계획은 전체 20건으로 ( 19일 기준 ) 치료제 관련 임상시험은 18건, 백신 관련 임상시험은 2건\n"
     ]
    },
    {
     "name": "stderr",
     "output_type": "stream",
     "text": [
      " 45%|████▍     | 675/1507 [38:59<57:31,  4.15s/it]"
     ]
    },
    {
     "name": "stdout",
     "output_type": "stream",
     "text": [
      "ID: TEST_0674 Question: 국내에서 코로나19 관련 임상시험계획이 승인된 전체 건수는 몇 개인가 Generated answer: 전체 20건\n"
     ]
    },
    {
     "name": "stderr",
     "output_type": "stream",
     "text": [
      " 45%|████▍     | 676/1507 [39:03<55:30,  4.01s/it]"
     ]
    },
    {
     "name": "stdout",
     "output_type": "stream",
     "text": [
      "ID: TEST_0675 Question: 정부가 코로나19 백신 접종 1단계에서 우선 접종 대상자로 고려하는 집단은 누구인가 Generated answer: 보건의료인과 사회 필수시설 종사자, 군인은 물론 노인과 기저질환자 등 건강 취약계층\n"
     ]
    },
    {
     "name": "stderr",
     "output_type": "stream",
     "text": [
      " 45%|████▍     | 677/1507 [39:05<47:56,  3.47s/it]"
     ]
    },
    {
     "name": "stdout",
     "output_type": "stream",
     "text": [
      "ID: TEST_0676 Question: 공공디자이너 제도를 도입한 기관은 어디인가 Generated answer: 한국농어촌공사\n"
     ]
    },
    {
     "name": "stderr",
     "output_type": "stream",
     "text": [
      " 45%|████▍     | 678/1507 [39:08<45:13,  3.27s/it]"
     ]
    },
    {
     "name": "stdout",
     "output_type": "stream",
     "text": [
      "ID: TEST_0677 Question: 초대 총괄디자이너로 참여한 홍익대학원 교수 이름은 무엇인가 Generated answer: 장영호 홍익\n"
     ]
    },
    {
     "name": "stderr",
     "output_type": "stream",
     "text": [
      " 45%|████▌     | 679/1507 [39:11<42:45,  3.10s/it]"
     ]
    },
    {
     "name": "stdout",
     "output_type": "stream",
     "text": [
      "ID: TEST_0678 Question: 공공건축 기획이 예정된 시범 운영 지구의 수는 몇 개인가 Generated answer: 9곳에서\n"
     ]
    },
    {
     "name": "stderr",
     "output_type": "stream",
     "text": [
      " 45%|████▌     | 680/1507 [39:14<41:59,  3.05s/it]"
     ]
    },
    {
     "name": "stdout",
     "output_type": "stream",
     "text": [
      "ID: TEST_0679 Question: 공공디자인 가이드라인 발간 시기는 언제인가 Generated answer: 공사는 지난해 연말\n"
     ]
    },
    {
     "name": "stderr",
     "output_type": "stream",
     "text": [
      " 45%|████▌     | 681/1507 [39:16<37:58,  2.76s/it]"
     ]
    },
    {
     "name": "stdout",
     "output_type": "stream",
     "text": [
      "ID: TEST_0680 Question: 공공디자인 가이드라인에서 중점을 둔 세 가지는 무엇인가 Generated answer: 공간효율, 주민행복, 사회적책임\n"
     ]
    },
    {
     "name": "stderr",
     "output_type": "stream",
     "text": [
      " 45%|████▌     | 682/1507 [39:19<39:21,  2.86s/it]"
     ]
    },
    {
     "name": "stdout",
     "output_type": "stream",
     "text": [
      "ID: TEST_0681 Question: MRG 사업의 전신이 되는 인프라 투자는 언제 도입되었나 Generated answer: 외환위기 직후인 1999년\n"
     ]
    },
    {
     "name": "stderr",
     "output_type": "stream",
     "text": [
      " 45%|████▌     | 683/1507 [39:22<40:22,  2.94s/it]"
     ]
    },
    {
     "name": "stdout",
     "output_type": "stream",
     "text": [
      "ID: TEST_0682 Question: 2002년부터 2019년까지 MRG 사업 투자자 수익 보전을 위해 나간 재정 규모는 Generated answer: 7조4109억원\n"
     ]
    },
    {
     "name": "stderr",
     "output_type": "stream",
     "text": [
      " 45%|████▌     | 684/1507 [39:26<44:31,  3.25s/it]"
     ]
    },
    {
     "name": "stdout",
     "output_type": "stream",
     "text": [
      "ID: TEST_0683 Question: 뉴딜 펀드 투자금 3억원까지의 수익금에 적용되는 세율은 몇 퍼센트인가 Generated answer: 5 % 의\n"
     ]
    },
    {
     "name": "stderr",
     "output_type": "stream",
     "text": [
      " 45%|████▌     | 685/1507 [39:30<45:50,  3.35s/it]"
     ]
    },
    {
     "name": "stdout",
     "output_type": "stream",
     "text": [
      "ID: TEST_0684 Question: 2009년에 MRG 사업이 폐지된 이유는 무엇인가 Generated answer: 수요 예측 실패 등으로 적자가 이어지는 동안 정부가 투자자와 약속한 수익을 보전하려다 보니 중앙정부 · 지방자치단체 등의 재정 부담이 커졌다.\n"
     ]
    },
    {
     "name": "stderr",
     "output_type": "stream",
     "text": [
      " 46%|████▌     | 686/1507 [39:33<45:35,  3.33s/it]"
     ]
    },
    {
     "name": "stdout",
     "output_type": "stream",
     "text": [
      "ID: TEST_0685 Question: 뉴딜 펀드 발표 후 논란과 유사했던 기존의 제도는 무엇인가 Generated answer: MRG 사업\n"
     ]
    },
    {
     "name": "stderr",
     "output_type": "stream",
     "text": [
      " 46%|████▌     | 687/1507 [39:36<45:26,  3.32s/it]"
     ]
    },
    {
     "name": "stdout",
     "output_type": "stream",
     "text": [
      "ID: TEST_0686 Question: 신형 카니발 사전 계약 첫날 접수 대수는 Generated answer: 2만3006대\n"
     ]
    },
    {
     "name": "stderr",
     "output_type": "stream",
     "text": [
      " 46%|████▌     | 688/1507 [39:39<45:15,  3.32s/it]"
     ]
    },
    {
     "name": "stdout",
     "output_type": "stream",
     "text": [
      "ID: TEST_0687 Question: 4세대 카니발의 론칭 행사가 열린 날짜는 Generated answer: ##가 18일\n"
     ]
    },
    {
     "name": "stderr",
     "output_type": "stream",
     "text": [
      " 46%|████▌     | 689/1507 [39:43<45:11,  3.31s/it]"
     ]
    },
    {
     "name": "stdout",
     "output_type": "stream",
     "text": [
      "ID: TEST_0688 Question: 신형 카니발이 판매된 누적 대수는 Generated answer: 98만5000대\n"
     ]
    },
    {
     "name": "stderr",
     "output_type": "stream",
     "text": [
      " 46%|████▌     | 690/1507 [39:47<49:31,  3.64s/it]"
     ]
    },
    {
     "name": "stdout",
     "output_type": "stream",
     "text": [
      "ID: TEST_0689 Question: 신형 카니발이 경쟁 대상으로 삼고 있는 미니밴 모델은 Generated answer: 오딧세이 ( 혼다 ) 와 시에나 ( 도요타 )\n"
     ]
    },
    {
     "name": "stderr",
     "output_type": "stream",
     "text": [
      " 46%|████▌     | 691/1507 [39:50<48:05,  3.54s/it]"
     ]
    },
    {
     "name": "stdout",
     "output_type": "stream",
     "text": [
      "ID: TEST_0690 Question: 3세대 카니발의 현지명은 Generated answer: 세도나 )\n"
     ]
    },
    {
     "name": "stderr",
     "output_type": "stream",
     "text": [
      " 46%|████▌     | 692/1507 [39:52<38:54,  2.86s/it]"
     ]
    },
    {
     "name": "stdout",
     "output_type": "stream",
     "text": [
      "ID: TEST_0691 Question: 보성제다가 멕시코 바이어와의 거래협약이 체결된 날짜 Generated answer: 지난 21일\n"
     ]
    },
    {
     "name": "stderr",
     "output_type": "stream",
     "text": [
      " 46%|████▌     | 693/1507 [39:53<30:55,  2.28s/it]"
     ]
    },
    {
     "name": "stdout",
     "output_type": "stream",
     "text": [
      "ID: TEST_0692 Question: 보성제다의 대표 이름 Generated answer: 서찬식\n"
     ]
    },
    {
     "name": "stderr",
     "output_type": "stream",
     "text": [
      " 46%|████▌     | 694/1507 [39:55<29:24,  2.17s/it]"
     ]
    },
    {
     "name": "stdout",
     "output_type": "stream",
     "text": [
      "ID: TEST_0693 Question: 상단회에 참석한 총 바이어 수 Generated answer: 미국, 일본 등 7개국 11명\n"
     ]
    },
    {
     "name": "stderr",
     "output_type": "stream",
     "text": [
      " 46%|████▌     | 695/1507 [39:56<26:08,  1.93s/it]"
     ]
    },
    {
     "name": "stdout",
     "output_type": "stream",
     "text": [
      "ID: TEST_0694 Question: 보성군에서 참여한 차 관련 업체 수 Generated answer: 4개 업체\n"
     ]
    },
    {
     "name": "stderr",
     "output_type": "stream",
     "text": [
      " 46%|████▌     | 696/1507 [39:58<25:38,  1.90s/it]"
     ]
    },
    {
     "name": "stdout",
     "output_type": "stream",
     "text": [
      "ID: TEST_0695 Question: 첫 번째 수출 간담회가 열린 연도 Generated answer: 2019년 멕시코\n"
     ]
    },
    {
     "name": "stderr",
     "output_type": "stream",
     "text": [
      " 46%|████▋     | 697/1507 [39:59<23:54,  1.77s/it]"
     ]
    },
    {
     "name": "stdout",
     "output_type": "stream",
     "text": [
      "ID: TEST_0696 Question: 전남도가 개별공시지가 산정을 마친 날짜는 Generated answer: 올해 1월1일\n"
     ]
    },
    {
     "name": "stderr",
     "output_type": "stream",
     "text": [
      " 46%|████▋     | 698/1507 [40:01<22:32,  1.67s/it]"
     ]
    },
    {
     "name": "stdout",
     "output_type": "stream",
     "text": [
      "ID: TEST_0697 Question: 토지소유자를 포함한 이해 관계인의 의견을 청취하는 기간은 Generated answer: 5일부터 26일까지\n"
     ]
    },
    {
     "name": "stderr",
     "output_type": "stream",
     "text": [
      " 46%|████▋     | 699/1507 [40:03<23:14,  1.73s/it]"
     ]
    },
    {
     "name": "stdout",
     "output_type": "stream",
     "text": [
      "ID: TEST_0698 Question: 결정·공시할 날짜는 Generated answer: 5월31일\n"
     ]
    },
    {
     "name": "stderr",
     "output_type": "stream",
     "text": [
      " 46%|████▋     | 700/1507 [40:05<25:06,  1.87s/it]"
     ]
    },
    {
     "name": "stdout",
     "output_type": "stream",
     "text": [
      "ID: TEST_0699 Question: 의견서를 제출할 수 있는 장소는 Generated answer: 시군 는 읍면동 주민센터\n"
     ]
    },
    {
     "name": "stderr",
     "output_type": "stream",
     "text": [
      " 47%|████▋     | 701/1507 [40:07<26:21,  1.96s/it]"
     ]
    },
    {
     "name": "stdout",
     "output_type": "stream",
     "text": [
      "ID: TEST_0700 Question: 재조사 후 결과를 통지받는 날짜는 Generated answer: 5월10일\n"
     ]
    },
    {
     "name": "stderr",
     "output_type": "stream",
     "text": [
      " 47%|████▋     | 702/1507 [40:11<36:05,  2.69s/it]"
     ]
    },
    {
     "name": "stdout",
     "output_type": "stream",
     "text": [
      "ID: TEST_0701 Question: 윤 총장이 언급한 국민 피해를 막기 위해 쟁송으로 나아가지 않는 이유는 무엇인가 Generated answer: 법적으로 다투거나 쟁송 ( ) 으로 가면 법무검찰 조직이 혼란스러워지면서 피해는 국민에게 돌아가기 때문에\n"
     ]
    },
    {
     "name": "stderr",
     "output_type": "stream",
     "text": [
      " 47%|████▋     | 703/1507 [40:12<29:42,  2.22s/it]"
     ]
    },
    {
     "name": "stdout",
     "output_type": "stream",
     "text": [
      "ID: TEST_0702 Question: 영업제한 업종 지원금액 Generated answer: 집합금지 업종 300만원, 영업제한 업종 200만원, 일반업종 100만원 등이다.\n"
     ]
    },
    {
     "name": "stderr",
     "output_type": "stream",
     "text": [
      " 47%|████▋     | 704/1507 [40:16<34:02,  2.54s/it]"
     ]
    },
    {
     "name": "stdout",
     "output_type": "stream",
     "text": [
      "ID: TEST_0703 Question: 요양병원 전수검사를 전국적으로 확대할 계획이 있는 달은 Generated answer: 11월에\n"
     ]
    },
    {
     "name": "stderr",
     "output_type": "stream",
     "text": [
      " 47%|████▋     | 705/1507 [40:20<40:36,  3.04s/it]"
     ]
    },
    {
     "name": "stdout",
     "output_type": "stream",
     "text": [
      "ID: TEST_0704 Question: 충남에서 확진자가 발생한 도시는 Generated answer: 충남에서는 천안시\n"
     ]
    },
    {
     "name": "stderr",
     "output_type": "stream",
     "text": [
      " 47%|████▋     | 706/1507 [40:24<42:58,  3.22s/it]"
     ]
    },
    {
     "name": "stdout",
     "output_type": "stream",
     "text": [
      "ID: TEST_0705 Question: 최근 집단 발병 장소 중 하나는 Generated answer: 음식점과 주점, 사우나, 수영장, 노래방, 무용 · 음악학원\n"
     ]
    },
    {
     "name": "stderr",
     "output_type": "stream",
     "text": [
      " 47%|████▋     | 707/1507 [40:28<47:06,  3.53s/it]"
     ]
    },
    {
     "name": "stdout",
     "output_type": "stream",
     "text": [
      "ID: TEST_0706 Question: 독감 검출 비율은 몇 퍼센트인가 Generated answer: 0. 3 %\n"
     ]
    },
    {
     "name": "stderr",
     "output_type": "stream",
     "text": [
      " 47%|████▋     | 708/1507 [40:32<50:30,  3.79s/it]"
     ]
    },
    {
     "name": "stdout",
     "output_type": "stream",
     "text": [
      "ID: TEST_0707 Question: 인플루엔자 의심 환자 비율 기준은 몇 명인가 Generated answer: 1. 7명\n"
     ]
    },
    {
     "name": "stderr",
     "output_type": "stream",
     "text": [
      " 47%|████▋     | 709/1507 [40:37<52:52,  3.98s/it]"
     ]
    },
    {
     "name": "stdout",
     "output_type": "stream",
     "text": [
      "ID: TEST_0708 Question: 내년 하반기부터 법정 최고금리는 몇 %로 낮추기로 했나 Generated answer: 20 % 로\n"
     ]
    },
    {
     "name": "stderr",
     "output_type": "stream",
     "text": [
      " 47%|████▋     | 710/1507 [40:41<54:22,  4.09s/it]"
     ]
    },
    {
     "name": "stdout",
     "output_type": "stream",
     "text": [
      "ID: TEST_0709 Question: 현재 기대출자에게 소급적용 여부 Generated answer: 현재 기대출자의 경우 소급적용은 받지 않는다\n"
     ]
    },
    {
     "name": "stderr",
     "output_type": "stream",
     "text": [
      " 47%|████▋     | 711/1507 [40:44<50:14,  3.79s/it]"
     ]
    },
    {
     "name": "stdout",
     "output_type": "stream",
     "text": [
      "ID: TEST_0710 Question: 금융위원회 최고금리 인하 이유 Generated answer: 저금리 기조와 서민들의 부담 경감\n"
     ]
    },
    {
     "name": "stderr",
     "output_type": "stream",
     "text": [
      " 47%|████▋     | 712/1507 [40:49<53:40,  4.05s/it]"
     ]
    },
    {
     "name": "stdout",
     "output_type": "stream",
     "text": [
      "ID: TEST_0711 Question: 추가 공급 계획 중인 정책서민금융 금액 Generated answer: 정부는 햇살론 등 정책서민금융을 연간 2700억원 이상\n"
     ]
    },
    {
     "name": "stderr",
     "output_type": "stream",
     "text": [
      " 47%|████▋     | 713/1507 [40:53<55:28,  4.19s/it]"
     ]
    },
    {
     "name": "stdout",
     "output_type": "stream",
     "text": [
      "ID: TEST_0712 Question: 법정 최고금리 인하로 대출 초과 수요가 발생할 것으로 추산되는 인원 Generated answer: 57만명\n"
     ]
    },
    {
     "name": "stderr",
     "output_type": "stream",
     "text": [
      " 47%|████▋     | 714/1507 [40:55<46:49,  3.54s/it]"
     ]
    },
    {
     "name": "stdout",
     "output_type": "stream",
     "text": [
      "ID: TEST_0713 Question: 괭생이모자반의 학명은 무엇인가 Generated answer: 사르가숨 호르네리 '\n"
     ]
    },
    {
     "name": "stderr",
     "output_type": "stream",
     "text": [
      " 47%|████▋     | 715/1507 [40:56<37:19,  2.83s/it]"
     ]
    },
    {
     "name": "stdout",
     "output_type": "stream",
     "text": [
      "ID: TEST_0714 Question: 괭생이모자반의 일반적인 자라는 크기는 Generated answer: 3∼5ｍ\n"
     ]
    },
    {
     "name": "stderr",
     "output_type": "stream",
     "text": [
      " 48%|████▊     | 716/1507 [40:58<32:03,  2.43s/it]"
     ]
    },
    {
     "name": "stdout",
     "output_type": "stream",
     "text": [
      "ID: TEST_0715 Question: 괭생이모자반의 유입이 추정되는 지역은 Generated answer: 중국 저우산 지역\n"
     ]
    },
    {
     "name": "stderr",
     "output_type": "stream",
     "text": [
      " 48%|████▊     | 717/1507 [41:00<29:26,  2.24s/it]"
     ]
    },
    {
     "name": "stdout",
     "output_type": "stream",
     "text": [
      "ID: TEST_0716 Question: 괭생이모자반이 대량 발생하는 기간은 Generated answer: 3∼6월 사이\n"
     ]
    },
    {
     "name": "stderr",
     "output_type": "stream",
     "text": [
      " 48%|████▊     | 718/1507 [41:01<24:58,  1.90s/it]"
     ]
    },
    {
     "name": "stdout",
     "output_type": "stream",
     "text": [
      "ID: TEST_0717 Question: 건선을 일으키는 약제는 Generated answer: 이미퀴모드\n"
     ]
    },
    {
     "name": "stderr",
     "output_type": "stream",
     "text": [
      " 48%|████▊     | 719/1507 [41:04<29:56,  2.28s/it]"
     ]
    },
    {
     "name": "stdout",
     "output_type": "stream",
     "text": [
      "ID: TEST_0718 Question: 집단 휴진에 돌입한 전공의 수는 Generated answer: 1만3571명으로 이 가운데 9383명이 연가를 낸 것으로 확인됐다. 파업 참여율은 69. 1 % 수준이다.\n"
     ]
    },
    {
     "name": "stderr",
     "output_type": "stream",
     "text": [
      " 48%|████▊     | 720/1507 [41:07<34:28,  2.63s/it]"
     ]
    },
    {
     "name": "stdout",
     "output_type": "stream",
     "text": [
      "ID: TEST_0719 Question: 전공의 파업 참여율은 Generated answer: 69. 1 %\n"
     ]
    },
    {
     "name": "stderr",
     "output_type": "stream",
     "text": [
      " 48%|████▊     | 721/1507 [41:11<37:10,  2.84s/it]"
     ]
    },
    {
     "name": "stdout",
     "output_type": "stream",
     "text": [
      "ID: TEST_0720 Question: 서울대병원 전공의 수는 Generated answer: 500여명\n"
     ]
    },
    {
     "name": "stderr",
     "output_type": "stream",
     "text": [
      " 48%|████▊     | 722/1507 [41:15<43:11,  3.30s/it]"
     ]
    },
    {
     "name": "stdout",
     "output_type": "stream",
     "text": [
      "ID: TEST_0721 Question: 여의도 집회 참석자 추산 수는 Generated answer: 6000명 이상\n"
     ]
    },
    {
     "name": "stderr",
     "output_type": "stream",
     "text": [
      " 48%|████▊     | 723/1507 [41:18<43:12,  3.31s/it]"
     ]
    },
    {
     "name": "stdout",
     "output_type": "stream",
     "text": [
      "ID: TEST_0722 Question: 전공의 소속 기관 수는 Generated answer: 전공의들이 현재 수련 중인 기관은 모두 244곳\n"
     ]
    },
    {
     "name": "stderr",
     "output_type": "stream",
     "text": [
      " 48%|████▊     | 724/1507 [41:20<35:19,  2.71s/it]"
     ]
    },
    {
     "name": "stdout",
     "output_type": "stream",
     "text": [
      "ID: TEST_0723 Question: 담양군의 딸기 품종은 무엇? Generated answer: 메리퀸 '\n"
     ]
    },
    {
     "name": "stderr",
     "output_type": "stream",
     "text": [
      " 48%|████▊     | 725/1507 [41:22<32:27,  2.49s/it]"
     ]
    },
    {
     "name": "stdout",
     "output_type": "stream",
     "text": [
      "ID: TEST_0724 Question: 금성농협과 함께한 컨설팅 참석 농가 수는 몇? Generated answer: 17농가\n"
     ]
    },
    {
     "name": "stderr",
     "output_type": "stream",
     "text": [
      " 48%|████▊     | 726/1507 [41:23<28:04,  2.16s/it]"
     ]
    },
    {
     "name": "stdout",
     "output_type": "stream",
     "text": [
      "ID: TEST_0725 Question: 모든 이에게 즐거움을 주는 딸기'라는 뜻의 품종 이름은? Generated answer: 메리퀸'을 프리미엄 수출품종으로 육성하기 위해'프리미엄 농산물 수출단지 조성 시범사업'올해부터 2년 간 수행할 계획이다. 담양군농업기술센터 이철규 소장이 지난 2017년에 품종 출원한메리퀸\n"
     ]
    },
    {
     "name": "stderr",
     "output_type": "stream",
     "text": [
      " 48%|████▊     | 727/1507 [41:25<25:10,  1.94s/it]"
     ]
    },
    {
     "name": "stdout",
     "output_type": "stream",
     "text": [
      "ID: TEST_0726 Question: 메리퀸 품종 출원 년도는 언제? Generated answer: 2017년에\n"
     ]
    },
    {
     "name": "stderr",
     "output_type": "stream",
     "text": [
      " 48%|████▊     | 728/1507 [41:26<23:47,  1.83s/it]"
     ]
    },
    {
     "name": "stdout",
     "output_type": "stream",
     "text": [
      "ID: TEST_0727 Question: 딸기 수출 주요 국가 중 하나는 어디? Generated answer: 싱가포르와 말레이시아\n"
     ]
    },
    {
     "name": "stderr",
     "output_type": "stream",
     "text": [
      " 48%|████▊     | 729/1507 [41:29<27:05,  2.09s/it]"
     ]
    },
    {
     "name": "stdout",
     "output_type": "stream",
     "text": [
      "ID: TEST_0728 Question: 경증 확진자가 머무는 곳 Generated answer: 생활치료센터\n"
     ]
    },
    {
     "name": "stderr",
     "output_type": "stream",
     "text": [
      " 48%|████▊     | 730/1507 [41:32<29:51,  2.31s/it]"
     ]
    },
    {
     "name": "stdout",
     "output_type": "stream",
     "text": [
      "ID: TEST_0729 Question: 19일 대기 환자가 발생할 가능성을 언급한 사람 Generated answer: 이재갑 한림대 강남성심병원 감염내과 교수\n"
     ]
    },
    {
     "name": "stderr",
     "output_type": "stream",
     "text": [
      " 49%|████▊     | 731/1507 [41:34<30:25,  2.35s/it]"
     ]
    },
    {
     "name": "stdout",
     "output_type": "stream",
     "text": [
      "ID: TEST_0730 Question: 병상 가동률이 71.3%인 병상 종류 Generated answer: 46. 1 %, 71. 3 % 였다.\n"
     ]
    },
    {
     "name": "stderr",
     "output_type": "stream",
     "text": [
      " 49%|████▊     | 732/1507 [41:37<33:04,  2.56s/it]"
     ]
    },
    {
     "name": "stdout",
     "output_type": "stream",
     "text": [
      "ID: TEST_0731 Question: 4일 이후 길병원을 감염병 전담병원에서 해제한 날짜 Generated answer: ##고 11일\n"
     ]
    },
    {
     "name": "stderr",
     "output_type": "stream",
     "text": [
      " 49%|████▊     | 733/1507 [41:39<32:04,  2.49s/it]"
     ]
    },
    {
     "name": "stdout",
     "output_type": "stream",
     "text": [
      "ID: TEST_0732 Question: 하루에 모니터링 횟수 Generated answer: 2회 이상\n"
     ]
    },
    {
     "name": "stderr",
     "output_type": "stream",
     "text": [
      " 49%|████▊     | 734/1507 [41:43<34:47,  2.70s/it]"
     ]
    },
    {
     "name": "stdout",
     "output_type": "stream",
     "text": [
      "ID: TEST_0733 Question: A사가 남동발전에 처음 사업을 제안한 해 Generated answer: 2018년 A\n"
     ]
    },
    {
     "name": "stderr",
     "output_type": "stream",
     "text": [
      " 49%|████▉     | 735/1507 [41:46<37:04,  2.88s/it]"
     ]
    },
    {
     "name": "stdout",
     "output_type": "stream",
     "text": [
      "ID: TEST_0734 Question: 15일 0시 기준 코로나19 신규 확진자 수 Generated answer: 208명이다. 전날 ( 205명 ) 에 이어 이틀째 200명대를 기록했다. 지난 9월 4일 ( 198명 ) 이후 최다 발생 기록을 다시 쓰고 있다.\n"
     ]
    },
    {
     "name": "stderr",
     "output_type": "stream",
     "text": [
      " 49%|████▉     | 736/1507 [41:49<38:37,  3.01s/it]"
     ]
    },
    {
     "name": "stdout",
     "output_type": "stream",
     "text": [
      "ID: TEST_0735 Question: 예비경보가 발령된 지역 Generated answer: 수도권과 강원권\n"
     ]
    },
    {
     "name": "stderr",
     "output_type": "stream",
     "text": [
      " 49%|████▉     | 737/1507 [41:53<40:40,  3.17s/it]"
     ]
    },
    {
     "name": "stdout",
     "output_type": "stream",
     "text": [
      "ID: TEST_0736 Question: 거리두기 1단계 격상 기준 일평균 확진자 수 Generated answer: 강원권의 경우 일주일간 일평균 확진자 수가 11. 1명\n"
     ]
    },
    {
     "name": "stderr",
     "output_type": "stream",
     "text": [
      " 49%|████▉     | 738/1507 [41:56<40:14,  3.14s/it]"
     ]
    },
    {
     "name": "stdout",
     "output_type": "stream",
     "text": [
      "ID: TEST_0737 Question: 강원권의 일주일간 일평균 확진자 수 Generated answer: 11. 1명\n"
     ]
    },
    {
     "name": "stderr",
     "output_type": "stream",
     "text": [
      " 49%|████▉     | 739/1507 [42:00<43:17,  3.38s/it]"
     ]
    },
    {
     "name": "stdout",
     "output_type": "stream",
     "text": [
      "ID: TEST_0738 Question: 노래방 안에서 허용되지 않는 것 Generated answer: 노래방 안에서 음식을 먹지 못한다.\n"
     ]
    },
    {
     "name": "stderr",
     "output_type": "stream",
     "text": [
      " 49%|████▉     | 740/1507 [42:04<44:40,  3.50s/it]"
     ]
    },
    {
     "name": "stdout",
     "output_type": "stream",
     "text": [
      "ID: TEST_0739 Question: 헌재가 낙태 허용 기준으로 제시한 주 수는 Generated answer: 임신 22주 '\n"
     ]
    },
    {
     "name": "stderr",
     "output_type": "stream",
     "text": [
      " 49%|████▉     | 741/1507 [42:07<45:34,  3.57s/it]"
     ]
    },
    {
     "name": "stdout",
     "output_type": "stream",
     "text": [
      "ID: TEST_0740 Question: 형법 269조에 따르면 낙태한 여성에게 처벌되는 징역 기간은 Generated answer: 1년 이하의 징역\n"
     ]
    },
    {
     "name": "stderr",
     "output_type": "stream",
     "text": [
      " 49%|████▉     | 742/1507 [42:10<42:54,  3.37s/it]"
     ]
    },
    {
     "name": "stdout",
     "output_type": "stream",
     "text": [
      "ID: TEST_0741 Question: 양성평등정책위원회가 낙태죄에 대해 권고하는 바는 Generated answer: 지난해 헌법재판소가 위헌성을 판단한'자기낙태죄'( 269조 1항 ) 와'동의낙태죄'( 270조 1항 ) 조항을 폐지\n"
     ]
    },
    {
     "name": "stderr",
     "output_type": "stream",
     "text": [
      " 49%|████▉     | 743/1507 [42:14<42:33,  3.34s/it]"
     ]
    },
    {
     "name": "stdout",
     "output_type": "stream",
     "text": [
      "ID: TEST_0742 Question: 유엔여성차별철폐협약의 영어 약자는 Generated answer: CEDAW )\n"
     ]
    },
    {
     "name": "stderr",
     "output_type": "stream",
     "text": [
      " 49%|████▉     | 744/1507 [42:16<39:40,  3.12s/it]"
     ]
    },
    {
     "name": "stdout",
     "output_type": "stream",
     "text": [
      "ID: TEST_0743 Question: 임신중지와 출산 과정에서 여성을 보호하려는 법 개정의 목적은 Generated answer: 권고안 결정 배경에 대해 한 정책위 위원은 \" 이제는 비범죄화의 틀 안에서 낙태 지원 방안을 고민해야 한다 \" 며 \" 임신중지와 출산 등 과정에서 여성의 재생산권 전반을 보장\n"
     ]
    },
    {
     "name": "stderr",
     "output_type": "stream",
     "text": [
      " 49%|████▉     | 745/1507 [42:19<38:54,  3.06s/it]"
     ]
    },
    {
     "name": "stdout",
     "output_type": "stream",
     "text": [
      "ID: TEST_0744 Question: 부산행사가 열린 장소 Generated answer: 부산지하철 1호선 명륜역의 아름다운가게 명륜역점\n"
     ]
    },
    {
     "name": "stderr",
     "output_type": "stream",
     "text": [
      " 50%|████▉     | 746/1507 [42:22<39:45,  3.13s/it]"
     ]
    },
    {
     "name": "stdout",
     "output_type": "stream",
     "text": [
      "ID: TEST_0745 Question: LG전자 창원공장이 기증한 물품 Generated answer: 트롬 건조기\n"
     ]
    },
    {
     "name": "stderr",
     "output_type": "stream",
     "text": [
      " 50%|████▉     | 747/1507 [42:26<40:20,  3.18s/it]"
     ]
    },
    {
     "name": "stdout",
     "output_type": "stream",
     "text": [
      "ID: TEST_0746 Question: 김경수 경남도지사가 내놓은 기증품 Generated answer: 노무현 대통령 시절 청와대에 제작한 남녀 시계\n"
     ]
    },
    {
     "name": "stderr",
     "output_type": "stream",
     "text": [
      " 50%|████▉     | 748/1507 [42:29<40:43,  3.22s/it]"
     ]
    },
    {
     "name": "stdout",
     "output_type": "stream",
     "text": [
      "ID: TEST_0747 Question: BTS 멤버 지민 아버지가 기증한 물품 Generated answer: BTS의 CD\n"
     ]
    },
    {
     "name": "stderr",
     "output_type": "stream",
     "text": [
      " 50%|████▉     | 749/1507 [42:32<40:56,  3.24s/it]"
     ]
    },
    {
     "name": "stdout",
     "output_type": "stream",
     "text": [
      "ID: TEST_0748 Question: 고경민 선수의 기증품 Generated answer: 20만원\n"
     ]
    },
    {
     "name": "stderr",
     "output_type": "stream",
     "text": [
      " 50%|████▉     | 750/1507 [42:36<42:39,  3.38s/it]"
     ]
    },
    {
     "name": "stdout",
     "output_type": "stream",
     "text": [
      "ID: TEST_0749 Question: 테팔 프라이팬의 할인율은 몇 퍼센트인가 Generated answer: 정가보다 65 %\n"
     ]
    },
    {
     "name": "stderr",
     "output_type": "stream",
     "text": [
      " 50%|████▉     | 751/1507 [42:39<42:11,  3.35s/it]"
     ]
    },
    {
     "name": "stdout",
     "output_type": "stream",
     "text": [
      "ID: TEST_0750 Question: 블라인드 회원 수는 미국에서 몇 명인가 Generated answer: 115만명\n"
     ]
    },
    {
     "name": "stderr",
     "output_type": "stream",
     "text": [
      " 50%|████▉     | 752/1507 [42:43<44:43,  3.55s/it]"
     ]
    },
    {
     "name": "stdout",
     "output_type": "stream",
     "text": [
      "ID: TEST_0751 Question: 이노션의 온라인몰 이름은 무엇인가 Generated answer: 오지랩 (\n"
     ]
    },
    {
     "name": "stderr",
     "output_type": "stream",
     "text": [
      " 50%|████▉     | 753/1507 [42:48<47:49,  3.81s/it]"
     ]
    },
    {
     "name": "stdout",
     "output_type": "stream",
     "text": [
      "ID: TEST_0752 Question: 사이코지만 괜찮아' 굿즈의 완판 소요 시간은 얼마인가 Generated answer: 하루 만에 완판됐다.\n"
     ]
    },
    {
     "name": "stderr",
     "output_type": "stream",
     "text": [
      " 50%|█████     | 754/1507 [42:51<45:42,  3.64s/it]"
     ]
    },
    {
     "name": "stdout",
     "output_type": "stream",
     "text": [
      "ID: TEST_0753 Question: 제일기획의 온라인몰 론칭 시기는 언제인가 Generated answer: 지난 3월\n"
     ]
    },
    {
     "name": "stderr",
     "output_type": "stream",
     "text": [
      " 50%|█████     | 755/1507 [42:55<47:08,  3.76s/it]"
     ]
    },
    {
     "name": "stdout",
     "output_type": "stream",
     "text": [
      "ID: TEST_0754 Question: 개인 실손보험 재개 신청 가능 기간은 Generated answer: 단체 실손보험이 종료된 직후 1개월 이내에 개인 보험 재개 신청을 해야 한다. 이 기간을 놓치면 중지했던 개인 실손보험을 되살릴 수 없다.\n"
     ]
    },
    {
     "name": "stderr",
     "output_type": "stream",
     "text": [
      " 50%|█████     | 756/1507 [42:58<42:50,  3.42s/it]"
     ]
    },
    {
     "name": "stdout",
     "output_type": "stream",
     "text": [
      "ID: TEST_0755 Question: 화이자 백신의 보관 온도는 Generated answer: 영하 70도\n"
     ]
    },
    {
     "name": "stderr",
     "output_type": "stream",
     "text": [
      " 50%|█████     | 757/1507 [43:02<47:02,  3.76s/it]"
     ]
    },
    {
     "name": "stdout",
     "output_type": "stream",
     "text": [
      "ID: TEST_0756 Question: 화이자 백신을 상온에서 사용할 수 있는 시간은 Generated answer: 6시간 안\n"
     ]
    },
    {
     "name": "stderr",
     "output_type": "stream",
     "text": [
      " 50%|█████     | 758/1507 [43:06<49:12,  3.94s/it]"
     ]
    },
    {
     "name": "stdout",
     "output_type": "stream",
     "text": [
      "ID: TEST_0757 Question: 화이자 백신이 초저온에서 품질을 유지할 수 있는 최대 일수는 Generated answer: 5일간\n"
     ]
    },
    {
     "name": "stderr",
     "output_type": "stream",
     "text": [
      " 50%|█████     | 759/1507 [43:11<49:58,  4.01s/it]"
     ]
    },
    {
     "name": "stdout",
     "output_type": "stream",
     "text": [
      "ID: TEST_0758 Question: mRNA 백신에서 유전정보를 바탕으로 만들어지는 것은 Generated answer: 바이러스 단백질 ( 항원 )\n"
     ]
    },
    {
     "name": "stderr",
     "output_type": "stream",
     "text": [
      " 50%|█████     | 760/1507 [43:13<43:39,  3.51s/it]"
     ]
    },
    {
     "name": "stdout",
     "output_type": "stream",
     "text": [
      "ID: TEST_0759 Question: mRNA 백신의 초저온 콜드체인이 필요한 이유는 Generated answer: 화이자 백신을 일선 동네 의원이나 보건소로 보내려면, 전용 용기 속 물량을 다시 소량용기로 재포장해야 한다. 소량용기 속 온도도 영하 70도로 맞춰야 한다.\n"
     ]
    },
    {
     "name": "stderr",
     "output_type": "stream",
     "text": [
      " 50%|█████     | 761/1507 [43:16<43:01,  3.46s/it]"
     ]
    },
    {
     "name": "stdout",
     "output_type": "stream",
     "text": [
      "ID: TEST_0760 Question: 현재 모텔·호텔의 공실률 Generated answer: 50 ~ 70 %\n"
     ]
    },
    {
     "name": "stderr",
     "output_type": "stream",
     "text": [
      " 51%|█████     | 762/1507 [43:20<42:12,  3.40s/it]"
     ]
    },
    {
     "name": "stdout",
     "output_type": "stream",
     "text": [
      "ID: TEST_0761 Question: LG화학 임시 주주총회 개최 예정일 Generated answer: ##은 30일\n"
     ]
    },
    {
     "name": "stderr",
     "output_type": "stream",
     "text": [
      " 51%|█████     | 763/1507 [43:23<41:47,  3.37s/it]"
     ]
    },
    {
     "name": "stdout",
     "output_type": "stream",
     "text": [
      "ID: TEST_0762 Question: 국민연금의 LG화학 지분율 Generated answer: 10. 3 %\n"
     ]
    },
    {
     "name": "stderr",
     "output_type": "stream",
     "text": [
      " 51%|█████     | 764/1507 [43:26<41:31,  3.35s/it]"
     ]
    },
    {
     "name": "stdout",
     "output_type": "stream",
     "text": [
      "ID: TEST_0763 Question: LG화학 지분 중 외국인 투자자 비율 Generated answer: 38. 1 %\n"
     ]
    },
    {
     "name": "stderr",
     "output_type": "stream",
     "text": [
      " 51%|█████     | 765/1507 [43:30<41:16,  3.34s/it]"
     ]
    },
    {
     "name": "stdout",
     "output_type": "stream",
     "text": [
      "ID: TEST_0764 Question: LG화학의 대주주 지분율 Generated answer: 30. 1 % 의 지분을 갖고 있다. 지분 38. 1 % 는 외국인 투자자 몫이고, 나머지 20 % 정도를 국내 기관 · 개인투자자가 갖고 있다.\n"
     ]
    },
    {
     "name": "stderr",
     "output_type": "stream",
     "text": [
      " 51%|█████     | 766/1507 [43:34<45:10,  3.66s/it]"
     ]
    },
    {
     "name": "stdout",
     "output_type": "stream",
     "text": [
      "ID: TEST_0765 Question: LG화학이 향후 3년동안 예정한 최소 배당액 Generated answer: 1만원\n"
     ]
    },
    {
     "name": "stderr",
     "output_type": "stream",
     "text": [
      " 51%|█████     | 767/1507 [43:38<45:46,  3.71s/it]"
     ]
    },
    {
     "name": "stdout",
     "output_type": "stream",
     "text": [
      "ID: TEST_0766 Question: 해뜨락요양병원의 입원환자 수 Generated answer: 환자 중 1명은 지난 12일 숨진 뒤 확진 판정을 받았고, 앞서 13일 요양병원 50대 여성 간호조무사 ( 부산 485번 ) 가 확진됐다.\n"
     ]
    },
    {
     "name": "stderr",
     "output_type": "stream",
     "text": [
      " 51%|█████     | 768/1507 [43:42<46:22,  3.77s/it]"
     ]
    },
    {
     "name": "stdout",
     "output_type": "stream",
     "text": [
      "ID: TEST_0767 Question: 최초 확진자인 간호조무사의 확진 날짜 Generated answer: 요양병원 최초 확진자인 간호조무사는 지난 8일 근무하고 당일 오후부터 발열 등 코로나 증상이 나타났으며, 연휴 휴무를 거쳐 지난 12일 검사해 13일\n"
     ]
    },
    {
     "name": "stderr",
     "output_type": "stream",
     "text": [
      " 51%|█████     | 769/1507 [43:47<52:10,  4.24s/it]"
     ]
    },
    {
     "name": "stdout",
     "output_type": "stream",
     "text": [
      "ID: TEST_0768 Question: 9월 이후 유사증상으로 숨진 환자 수 Generated answer: 호흡곤란과 폐렴 증세\n"
     ]
    },
    {
     "name": "stderr",
     "output_type": "stream",
     "text": [
      " 51%|█████     | 770/1507 [43:50<49:13,  4.01s/it]"
     ]
    },
    {
     "name": "stdout",
     "output_type": "stream",
     "text": [
      "ID: TEST_0769 Question: 해뜨락요양병원의 요양병원 종사자 수 Generated answer: 환자 중 1명은 지난 12일 숨진 뒤 확진 판정을 받았고, 앞서 13일 요양병원 50대 여성 간호조무사 ( 부산 485번 ) 가 확진됐다.\n"
     ]
    },
    {
     "name": "stderr",
     "output_type": "stream",
     "text": [
      " 51%|█████     | 771/1507 [43:54<46:33,  3.80s/it]"
     ]
    },
    {
     "name": "stdout",
     "output_type": "stream",
     "text": [
      "ID: TEST_0770 Question: 고령 환자 8명이 숨진 기간 Generated answer: 지난 9월부터\n"
     ]
    },
    {
     "name": "stderr",
     "output_type": "stream",
     "text": [
      " 51%|█████     | 772/1507 [43:55<37:51,  3.09s/it]"
     ]
    },
    {
     "name": "stdout",
     "output_type": "stream",
     "text": [
      "ID: TEST_0771 Question: 동서발전의 사장 이름은 무엇인가 Generated answer: 박일준\n"
     ]
    },
    {
     "name": "stderr",
     "output_type": "stream",
     "text": [
      " 51%|█████▏    | 773/1507 [43:57<32:14,  2.64s/it]"
     ]
    },
    {
     "name": "stdout",
     "output_type": "stream",
     "text": [
      "ID: TEST_0772 Question: 2021년도 지원사업에서 선정된 기업 수는 몇 곳인가 Generated answer: 58곳 )\n"
     ]
    },
    {
     "name": "stderr",
     "output_type": "stream",
     "text": [
      " 51%|█████▏    | 774/1507 [43:58<28:05,  2.30s/it]"
     ]
    },
    {
     "name": "stdout",
     "output_type": "stream",
     "text": [
      "ID: TEST_0773 Question: 동서발전이 확대 지원하는 분야는 무엇인가 Generated answer: 신재생에너지와 산업재해 예방을 위한 안전분야\n"
     ]
    },
    {
     "name": "stderr",
     "output_type": "stream",
     "text": [
      " 51%|█████▏    | 775/1507 [43:59<23:51,  1.96s/it]"
     ]
    },
    {
     "name": "stdout",
     "output_type": "stream",
     "text": [
      "ID: TEST_0774 Question: 선정된 기업이 받을 수 있는 최대 지원 금액은 얼마인가 Generated answer: 4000만 원\n"
     ]
    },
    {
     "name": "stderr",
     "output_type": "stream",
     "text": [
      " 51%|█████▏    | 776/1507 [44:01<24:00,  1.97s/it]"
     ]
    },
    {
     "name": "stdout",
     "output_type": "stream",
     "text": [
      "ID: TEST_0775 Question: 동서발전이 창출한 신규 일자리 수는 몇 명인가 Generated answer: 237명의 신규 일자리를 창출한 바 있다.\n"
     ]
    },
    {
     "name": "stderr",
     "output_type": "stream",
     "text": [
      " 52%|█████▏    | 777/1507 [44:04<26:41,  2.19s/it]"
     ]
    },
    {
     "name": "stdout",
     "output_type": "stream",
     "text": [
      "ID: TEST_0776 Question: 박씨가 산 소형 아파트의 전용면적은 Generated answer: 41㎡ )\n"
     ]
    },
    {
     "name": "stderr",
     "output_type": "stream",
     "text": [
      " 52%|█████▏    | 778/1507 [44:07<30:23,  2.50s/it]"
     ]
    },
    {
     "name": "stdout",
     "output_type": "stream",
     "text": [
      "ID: TEST_0777 Question: 박씨가 아파트를 구매할 때 실제 낸 돈은 Generated answer: 3000만원\n"
     ]
    },
    {
     "name": "stderr",
     "output_type": "stream",
     "text": [
      " 52%|█████▏    | 779/1507 [44:11<35:48,  2.95s/it]"
     ]
    },
    {
     "name": "stdout",
     "output_type": "stream",
     "text": [
      "ID: TEST_0778 Question: 부산 해운대구의 3개월간 아파트값 상승률은 Generated answer: 8 % 넘게 올랐다.\n"
     ]
    },
    {
     "name": "stderr",
     "output_type": "stream",
     "text": [
      " 52%|█████▏    | 780/1507 [44:16<43:11,  3.56s/it]"
     ]
    },
    {
     "name": "stdout",
     "output_type": "stream",
     "text": [
      "ID: TEST_0779 Question: 비규제지역에서 받을 수 있는 최대 대출 비율은 Generated answer: 집값의 최대 70 %\n"
     ]
    },
    {
     "name": "stderr",
     "output_type": "stream",
     "text": [
      " 52%|█████▏    | 781/1507 [44:20<44:01,  3.64s/it]"
     ]
    },
    {
     "name": "stdout",
     "output_type": "stream",
     "text": [
      "ID: TEST_0780 Question: 경기도 파주의 전세가율은 Generated answer: 80 % )\n"
     ]
    },
    {
     "name": "stderr",
     "output_type": "stream",
     "text": [
      " 52%|█████▏    | 782/1507 [44:25<46:44,  3.87s/it]"
     ]
    },
    {
     "name": "stdout",
     "output_type": "stream",
     "text": [
      "ID: TEST_0781 Question: 11월 13일 0시 기준 코로나19 신규 환자는 Generated answer: 13일 0시 기준으로 코로나19 신규 환자가 191명\n"
     ]
    },
    {
     "name": "stderr",
     "output_type": "stream",
     "text": [
      " 52%|█████▏    | 783/1507 [44:30<51:50,  4.30s/it]"
     ]
    },
    {
     "name": "stdout",
     "output_type": "stream",
     "text": [
      "ID: TEST_0782 Question: 최근 일주일간 수도권의 하루 평균 코로나19 환자는 Generated answer: 109명 ” 이라며 “ 권역별로 수도권이 75명\n"
     ]
    },
    {
     "name": "stderr",
     "output_type": "stream",
     "text": [
      " 52%|█████▏    | 784/1507 [44:35<52:54,  4.39s/it]"
     ]
    },
    {
     "name": "stdout",
     "output_type": "stream",
     "text": [
      "ID: TEST_0783 Question: 인제군 지인모임 누적 확진자는 Generated answer: 12명으로\n"
     ]
    },
    {
     "name": "stderr",
     "output_type": "stream",
     "text": [
      " 52%|█████▏    | 785/1507 [44:39<52:56,  4.40s/it]"
     ]
    },
    {
     "name": "stdout",
     "output_type": "stream",
     "text": [
      "ID: TEST_0784 Question: 광양시 한 기업에서 첫 환자가 발생한 날짜는 Generated answer: ##는 11일\n"
     ]
    },
    {
     "name": "stderr",
     "output_type": "stream",
     "text": [
      " 52%|█████▏    | 786/1507 [44:43<52:51,  4.40s/it]"
     ]
    },
    {
     "name": "stdout",
     "output_type": "stream",
     "text": [
      "ID: TEST_0785 Question: 감염경로 불명 환자 비율은 Generated answer: 13 % 대로\n"
     ]
    },
    {
     "name": "stderr",
     "output_type": "stream",
     "text": [
      " 52%|█████▏    | 787/1507 [44:47<48:51,  4.07s/it]"
     ]
    },
    {
     "name": "stdout",
     "output_type": "stream",
     "text": [
      "ID: TEST_0786 Question: BMW그룹코리아가 설립된 해는 Generated answer: 지난 1995년\n"
     ]
    },
    {
     "name": "stderr",
     "output_type": "stream",
     "text": [
      " 52%|█████▏    | 788/1507 [44:51<49:19,  4.12s/it]"
     ]
    },
    {
     "name": "stdout",
     "output_type": "stream",
     "text": [
      "ID: TEST_0787 Question: BMW 드라이빙센터가 건립된 해는 Generated answer: 2014년 8월\n"
     ]
    },
    {
     "name": "stderr",
     "output_type": "stream",
     "text": [
      " 52%|█████▏    | 789/1507 [44:53<43:09,  3.61s/it]"
     ]
    },
    {
     "name": "stdout",
     "output_type": "stream",
     "text": [
      "ID: TEST_0788 Question: BMW그룹코리아의 2019년 총 판매 대수는 Generated answer: 5만4413대\n"
     ]
    },
    {
     "name": "stderr",
     "output_type": "stream",
     "text": [
      " 52%|█████▏    | 790/1507 [44:58<45:53,  3.84s/it]"
     ]
    },
    {
     "name": "stdout",
     "output_type": "stream",
     "text": [
      "ID: TEST_0789 Question: BMW 코리아 미래재단의 누적 기부 금액은 Generated answer: 약 320억 원\n"
     ]
    },
    {
     "name": "stderr",
     "output_type": "stream",
     "text": [
      " 52%|█████▏    | 791/1507 [45:01<44:48,  3.75s/it]"
     ]
    },
    {
     "name": "stdout",
     "output_type": "stream",
     "text": [
      "ID: TEST_0790 Question: BMW 서비스 센터 개수는 Generated answer: 87개가 운영돼 한국에 진출한 수입차 브랜드 가운데 가장 많다.\n"
     ]
    },
    {
     "name": "stderr",
     "output_type": "stream",
     "text": [
      " 53%|█████▎    | 792/1507 [45:05<44:03,  3.70s/it]"
     ]
    },
    {
     "name": "stdout",
     "output_type": "stream",
     "text": [
      "ID: TEST_0791 Question: 삼성전자가 수립한 '반도체 비전 2030'을 위해 투자하는 전체 금액은 얼마인가 Generated answer: 133조원\n"
     ]
    },
    {
     "name": "stderr",
     "output_type": "stream",
     "text": [
      " 53%|█████▎    | 793/1507 [45:09<44:39,  3.75s/it]"
     ]
    },
    {
     "name": "stdout",
     "output_type": "stream",
     "text": [
      "ID: TEST_0792 Question: 집회 참석자들에게 제공된 품목 Generated answer: 투명한 페이스쉴드 ( 얼굴덮개 )\n"
     ]
    },
    {
     "name": "stderr",
     "output_type": "stream",
     "text": [
      " 53%|█████▎    | 794/1507 [45:12<43:02,  3.62s/it]"
     ]
    },
    {
     "name": "stdout",
     "output_type": "stream",
     "text": [
      "ID: TEST_0793 Question: 윤석열 총장의 차기 대선 주자 선호도 조사 비율 Generated answer: 2일 여론조사기관 리얼미터의 차기 대선 주자 선호도 조사에서 윤 총장에 대한 선호도가 17. 2 %\n"
     ]
    },
    {
     "name": "stderr",
     "output_type": "stream",
     "text": [
      " 53%|█████▎    | 795/1507 [45:15<41:53,  3.53s/it]"
     ]
    },
    {
     "name": "stdout",
     "output_type": "stream",
     "text": [
      "ID: TEST_0794 Question: 더불어민주당 이낙연 대표와 이재명 경기지사의 선호도 비율 Generated answer: 2일 여론조사기관 리얼미터의 차기 대선 주자 선호도 조사에서 윤 총장에 대한 선호도가 17. 2 % 까지 뛰어오른 것으로 나타났다. 더불어민주당 이낙연 대표와 이재명 경기지사 ( 각각 21. 5 %\n"
     ]
    },
    {
     "name": "stderr",
     "output_type": "stream",
     "text": [
      " 53%|█████▎    | 796/1507 [45:19<40:59,  3.46s/it]"
     ]
    },
    {
     "name": "stdout",
     "output_type": "stream",
     "text": [
      "ID: TEST_0795 Question: 여론조사 표본오차 Generated answer: 응답률 4. 4 %, 표본오차는 95 % 신뢰수준에 . 9 %. 자세한 내용은 중앙선거여론조사심의위 홈페이지 참고 )\n"
     ]
    },
    {
     "name": "stderr",
     "output_type": "stream",
     "text": [
      " 53%|█████▎    | 797/1507 [45:22<40:23,  3.41s/it]"
     ]
    },
    {
     "name": "stdout",
     "output_type": "stream",
     "text": [
      "ID: TEST_0796 Question: 윤 총장의 임기 종료 시점 Generated answer: 2021년 7월\n"
     ]
    },
    {
     "name": "stderr",
     "output_type": "stream",
     "text": [
      " 53%|█████▎    | 798/1507 [45:26<42:31,  3.60s/it]"
     ]
    },
    {
     "name": "stdout",
     "output_type": "stream",
     "text": [
      "ID: TEST_0797 Question: 윤 총장이 3일 방문한 장소 Generated answer: 충북 진천 법무연수원\n"
     ]
    },
    {
     "name": "stderr",
     "output_type": "stream",
     "text": [
      " 53%|█████▎    | 799/1507 [45:29<39:25,  3.34s/it]"
     ]
    },
    {
     "name": "stdout",
     "output_type": "stream",
     "text": [
      "ID: TEST_0798 Question: 전북 53번 확진자가 거주하는 지역 Generated answer: 익산에 거주\n"
     ]
    },
    {
     "name": "stderr",
     "output_type": "stream",
     "text": [
      " 53%|█████▎    | 800/1507 [45:32<38:42,  3.28s/it]"
     ]
    },
    {
     "name": "stdout",
     "output_type": "stream",
     "text": [
      "ID: TEST_0799 Question: 군산 50대 남성 B씨가 확진 판정을 받은 시기 Generated answer: 지난 18일\n"
     ]
    },
    {
     "name": "stderr",
     "output_type": "stream",
     "text": [
      " 53%|█████▎    | 801/1507 [45:35<38:45,  3.29s/it]"
     ]
    },
    {
     "name": "stdout",
     "output_type": "stream",
     "text": [
      "ID: TEST_0800 Question: 전북 55번 확진자인 C씨의 나이 Generated answer: 60대 여성\n"
     ]
    },
    {
     "name": "stderr",
     "output_type": "stream",
     "text": [
      " 53%|█████▎    | 802/1507 [45:38<38:46,  3.30s/it]"
     ]
    },
    {
     "name": "stdout",
     "output_type": "stream",
     "text": [
      "ID: TEST_0801 Question: 전북 56번 확진자가 입원한 병원 Generated answer: 군산의료원\n"
     ]
    },
    {
     "name": "stderr",
     "output_type": "stream",
     "text": [
      " 53%|█████▎    | 803/1507 [45:42<38:39,  3.30s/it]"
     ]
    },
    {
     "name": "stdout",
     "output_type": "stream",
     "text": [
      "ID: TEST_0802 Question: 전북도 보건의료과장 이름 Generated answer: 강영석 전북도 보건의료과장은 \" 확진자 가족들이 경기도와 서울에 살기 때문에 사랑제일교회 관련 N차 감염일 수 있지만, 현재까지 파악된 건 없다 \" 고 말했다.\n"
     ]
    },
    {
     "name": "stderr",
     "output_type": "stream",
     "text": [
      " 53%|█████▎    | 804/1507 [45:46<40:28,  3.45s/it]"
     ]
    },
    {
     "name": "stdout",
     "output_type": "stream",
     "text": [
      "ID: TEST_0803 Question: 민주당 대구시당 앞에서 열린 집회의 참가 인원 Generated answer: 참가 인원을 400명\n"
     ]
    },
    {
     "name": "stderr",
     "output_type": "stream",
     "text": [
      " 53%|█████▎    | 805/1507 [45:48<38:06,  3.26s/it]"
     ]
    },
    {
     "name": "stdout",
     "output_type": "stream",
     "text": [
      "ID: TEST_0804 Question: 전태일 50주기 열사 정신 계승 전국 노동자대회의 하나로 열린 집회 지역 Generated answer: 고 ( 故 ) 전태일\n"
     ]
    },
    {
     "name": "stderr",
     "output_type": "stream",
     "text": [
      " 53%|█████▎    | 806/1507 [45:53<42:00,  3.60s/it]"
     ]
    },
    {
     "name": "stdout",
     "output_type": "stream",
     "text": [
      "ID: TEST_0805 Question: 부산민중대회가 열린 장소 Generated answer: 부산시청 시민광장\n"
     ]
    },
    {
     "name": "stderr",
     "output_type": "stream",
     "text": [
      " 54%|█████▎    | 807/1507 [45:56<40:40,  3.49s/it]"
     ]
    },
    {
     "name": "stdout",
     "output_type": "stream",
     "text": [
      "ID: TEST_0806 Question: 민주노총 비상대책위원장의 이름 Generated answer: . 김재하\n"
     ]
    },
    {
     "name": "stderr",
     "output_type": "stream",
     "text": [
      " 54%|█████▎    | 808/1507 [45:59<37:49,  3.25s/it]"
     ]
    },
    {
     "name": "stdout",
     "output_type": "stream",
     "text": [
      "ID: TEST_0807 Question: 전태일 열사의 사망 주기 Generated answer: 50주기\n"
     ]
    },
    {
     "name": "stderr",
     "output_type": "stream",
     "text": [
      " 54%|█████▎    | 809/1507 [46:00<32:42,  2.81s/it]"
     ]
    },
    {
     "name": "stdout",
     "output_type": "stream",
     "text": [
      "ID: TEST_0808 Question: 임대료 인하 시 재산세 감면 한도는 몇 퍼센트까지만 적용? Generated answer: 임대료 인하 비율의 50 %\n"
     ]
    },
    {
     "name": "stderr",
     "output_type": "stream",
     "text": [
      " 54%|█████▎    | 810/1507 [46:02<27:46,  2.39s/it]"
     ]
    },
    {
     "name": "stdout",
     "output_type": "stream",
     "text": [
      "ID: TEST_0809 Question: 재산세 감면 추진안이 시행되는 시기는? Generated answer: ##은 5월\n"
     ]
    },
    {
     "name": "stderr",
     "output_type": "stream",
     "text": [
      " 54%|█████▍    | 811/1507 [46:04<25:57,  2.24s/it]"
     ]
    },
    {
     "name": "stdout",
     "output_type": "stream",
     "text": [
      "ID: TEST_0810 Question: 재산세 감면 대상에서 제외되는 시설은? Generated answer: 유흥주점 등 고급 오락장\n"
     ]
    },
    {
     "name": "stderr",
     "output_type": "stream",
     "text": [
      " 54%|█████▍    | 812/1507 [46:06<25:44,  2.22s/it]"
     ]
    },
    {
     "name": "stdout",
     "output_type": "stream",
     "text": [
      "ID: TEST_0811 Question: 지난해 감면된 재산세 총액은 얼마? Generated answer: 2800여만원\n"
     ]
    },
    {
     "name": "stderr",
     "output_type": "stream",
     "text": [
      " 54%|█████▍    | 813/1507 [46:08<24:50,  2.15s/it]"
     ]
    },
    {
     "name": "stdout",
     "output_type": "stream",
     "text": [
      "ID: TEST_0812 Question: 재산세 감면 추진안이 시행되기 위해 거쳐야 할 절차는? Generated answer: 시의회 의결\n"
     ]
    },
    {
     "name": "stderr",
     "output_type": "stream",
     "text": [
      " 54%|█████▍    | 814/1507 [46:11<29:37,  2.56s/it]"
     ]
    },
    {
     "name": "stdout",
     "output_type": "stream",
     "text": [
      "ID: TEST_0813 Question: 내년도 예산 총지출 증가율은 몇 퍼센트 수준에서 논의 중인가 Generated answer: 7 ~ 8 %\n"
     ]
    },
    {
     "name": "stderr",
     "output_type": "stream",
     "text": [
      " 54%|█████▍    | 815/1507 [46:15<32:07,  2.79s/it]"
     ]
    },
    {
     "name": "stdout",
     "output_type": "stream",
     "text": [
      "ID: TEST_0814 Question: 2021년 예산안 초안을 보고할 인물은 누구인가 Generated answer: 문재인 대통령에\n"
     ]
    },
    {
     "name": "stderr",
     "output_type": "stream",
     "text": [
      " 54%|█████▍    | 816/1507 [46:19<37:36,  3.26s/it]"
     ]
    },
    {
     "name": "stdout",
     "output_type": "stream",
     "text": [
      "ID: TEST_0815 Question: 한국판 뉴딜에 2025년까지 투자할 금액은 Generated answer: 160조원\n"
     ]
    },
    {
     "name": "stderr",
     "output_type": "stream",
     "text": [
      " 54%|█████▍    | 817/1507 [46:24<41:29,  3.61s/it]"
     ]
    },
    {
     "name": "stdout",
     "output_type": "stream",
     "text": [
      "ID: TEST_0816 Question: 올해 본예산 규모는 얼마인가 Generated answer: 512조3000억원\n"
     ]
    },
    {
     "name": "stderr",
     "output_type": "stream",
     "text": [
      " 54%|█████▍    | 818/1507 [46:28<44:10,  3.85s/it]"
     ]
    },
    {
     "name": "stdout",
     "output_type": "stream",
     "text": [
      "ID: TEST_0817 Question: 올해 국가채무 비율은 몇 퍼센트인가 Generated answer: 43. 5 %\n"
     ]
    },
    {
     "name": "stderr",
     "output_type": "stream",
     "text": [
      " 54%|█████▍    | 819/1507 [46:32<44:22,  3.87s/it]"
     ]
    },
    {
     "name": "stdout",
     "output_type": "stream",
     "text": [
      "ID: TEST_0818 Question: A씨가 처음으로 심신이 크게 쇠약해진 이유는 무엇인가 Generated answer: 소화 장애, 호흡곤란, 자궁질환\n"
     ]
    },
    {
     "name": "stderr",
     "output_type": "stream",
     "text": [
      " 54%|█████▍    | 820/1507 [46:35<42:07,  3.68s/it]"
     ]
    },
    {
     "name": "stdout",
     "output_type": "stream",
     "text": [
      "ID: TEST_0819 Question: A씨가 도청 근무 시 겪은 신체적 불편함 중 하나는 Generated answer: 소화 장애, 호흡곤란, 자궁질환을 겪는 등 심신이 크게 쇠약해졌다. ‘ 상관을 바보라고 불렀다 ’ 는 허위 소문에 시달리기도 했다 ” 고 주장했다.\n"
     ]
    },
    {
     "name": "stderr",
     "output_type": "stream",
     "text": [
      " 54%|█████▍    | 821/1507 [46:38<38:58,  3.41s/it]"
     ]
    },
    {
     "name": "stdout",
     "output_type": "stream",
     "text": [
      "ID: TEST_0820 Question: A씨가 병가를 신청한 기간은 몇 주인가 Generated answer: 2주간\n"
     ]
    },
    {
     "name": "stderr",
     "output_type": "stream",
     "text": [
      " 55%|█████▍    | 822/1507 [46:41<38:31,  3.37s/it]"
     ]
    },
    {
     "name": "stdout",
     "output_type": "stream",
     "text": [
      "ID: TEST_0821 Question: 사건이 발생한 장소는 어디인가 Generated answer: 도청 현관 데스크\n"
     ]
    },
    {
     "name": "stderr",
     "output_type": "stream",
     "text": [
      " 55%|█████▍    | 823/1507 [46:44<37:17,  3.27s/it]"
     ]
    },
    {
     "name": "stdout",
     "output_type": "stream",
     "text": [
      "ID: TEST_0822 Question: 청경 총괄 부서는 어디인가 Generated answer: 총무과와\n"
     ]
    },
    {
     "name": "stderr",
     "output_type": "stream",
     "text": [
      " 55%|█████▍    | 824/1507 [46:49<42:04,  3.70s/it]"
     ]
    },
    {
     "name": "stdout",
     "output_type": "stream",
     "text": [
      "ID: TEST_0823 Question: 국립대구박물관의 위치는 어디야 Generated answer: 대구 수성구 청호로 321 ( 황금동 )\n"
     ]
    },
    {
     "name": "stderr",
     "output_type": "stream",
     "text": [
      " 55%|█████▍    | 825/1507 [46:54<48:02,  4.23s/it]"
     ]
    },
    {
     "name": "stdout",
     "output_type": "stream",
     "text": [
      "ID: TEST_0824 Question: 대구섬유박물관의 위치는 어디야 Generated answer: 대구 동구 팔공로 227 ( 봉무동 )\n"
     ]
    },
    {
     "name": "stderr",
     "output_type": "stream",
     "text": [
      " 55%|█████▍    | 826/1507 [46:59<51:03,  4.50s/it]"
     ]
    },
    {
     "name": "stdout",
     "output_type": "stream",
     "text": [
      "ID: TEST_0825 Question: 팔공산자수박물관의 위치는 어디야 Generated answer: 대구 동구 팔공산로 1165 - 5 ( 용수동 )\n"
     ]
    },
    {
     "name": "stderr",
     "output_type": "stream",
     "text": [
      " 55%|█████▍    | 827/1507 [47:05<53:08,  4.69s/it]"
     ]
    },
    {
     "name": "stdout",
     "output_type": "stream",
     "text": [
      "ID: TEST_0826 Question: 자연염색박물관의 위치는 어디야 Generated answer: 대구 동구 파계로112길 17 ( 중대동 )\n"
     ]
    },
    {
     "name": "stderr",
     "output_type": "stream",
     "text": [
      " 55%|█████▍    | 828/1507 [47:09<53:17,  4.71s/it]"
     ]
    },
    {
     "name": "stdout",
     "output_type": "stream",
     "text": [
      "ID: TEST_0827 Question: 약령시한의약박물관의 위치는 어디야 Generated answer: 대구 중구 달구벌대로415길 49 ( 남성로 )\n"
     ]
    },
    {
     "name": "stderr",
     "output_type": "stream",
     "text": [
      " 55%|█████▌    | 829/1507 [47:13<49:57,  4.42s/it]"
     ]
    },
    {
     "name": "stdout",
     "output_type": "stream",
     "text": [
      "ID: TEST_0828 Question: FT가 바이든 당선으로 가장 수혜를 볼 나라로 꼽은 곳은 어딘가 Generated answer: 독일이 꼽힌다. 독일\n"
     ]
    },
    {
     "name": "stderr",
     "output_type": "stream",
     "text": [
      " 55%|█████▌    | 830/1507 [47:16<46:07,  4.09s/it]"
     ]
    },
    {
     "name": "stdout",
     "output_type": "stream",
     "text": [
      "ID: TEST_0829 Question: 트럼프 대통령과 친분이 두터웠던 정상 중 브라질 대통령의 이름은 Generated answer: 자이르 보우소나루\n"
     ]
    },
    {
     "name": "stderr",
     "output_type": "stream",
     "text": [
      " 55%|█████▌    | 831/1507 [47:20<43:22,  3.85s/it]"
     ]
    },
    {
     "name": "stdout",
     "output_type": "stream",
     "text": [
      "ID: TEST_0830 Question: 트럼프 대통령이 탈퇴를 선언한 기후 협약의 이름은 Generated answer: 파리 기후협약\n"
     ]
    },
    {
     "name": "stderr",
     "output_type": "stream",
     "text": [
      " 55%|█████▌    | 832/1507 [47:24<45:12,  4.02s/it]"
     ]
    },
    {
     "name": "stdout",
     "output_type": "stream",
     "text": [
      "ID: TEST_0831 Question: 트럼프 행정부가 독일과 충돌한 문제는 무엇인가 Generated answer: 방위비 분담 문제\n"
     ]
    },
    {
     "name": "stderr",
     "output_type": "stream",
     "text": [
      " 55%|█████▌    | 833/1507 [47:28<45:09,  4.02s/it]"
     ]
    },
    {
     "name": "stdout",
     "output_type": "stream",
     "text": [
      "ID: TEST_0832 Question: 시 주석이 바이든 행정부에서 기대하기 어려운 긍정적 평가 요인은 Generated answer: 트럼프 대통령과의 나눈'브로맨스 '\n"
     ]
    },
    {
     "name": "stderr",
     "output_type": "stream",
     "text": [
      " 55%|█████▌    | 834/1507 [47:30<36:30,  3.25s/it]"
     ]
    },
    {
     "name": "stdout",
     "output_type": "stream",
     "text": [
      "ID: TEST_0833 Question: 행사가 열린 장소 Generated answer: 광주지역본부 주차장\n"
     ]
    },
    {
     "name": "stderr",
     "output_type": "stream",
     "text": [
      " 55%|█████▌    | 835/1507 [47:32<32:48,  2.93s/it]"
     ]
    },
    {
     "name": "stdout",
     "output_type": "stream",
     "text": [
      "ID: TEST_0834 Question: 행사가 열린 요일 Generated answer: 금요직거래장터\n"
     ]
    },
    {
     "name": "stderr",
     "output_type": "stream",
     "text": [
      " 55%|█████▌    | 836/1507 [47:33<28:06,  2.51s/it]"
     ]
    },
    {
     "name": "stdout",
     "output_type": "stream",
     "text": [
      "ID: TEST_0835 Question: 캠페인에 동참한 단체 Generated answer: NH농협은행 대학생봉사단 N돌핀\n"
     ]
    },
    {
     "name": "stderr",
     "output_type": "stream",
     "text": [
      " 56%|█████▌    | 837/1507 [47:35<25:35,  2.29s/it]"
     ]
    },
    {
     "name": "stdout",
     "output_type": "stream",
     "text": [
      "ID: TEST_0836 Question: 캠페인의 주요 목적인 감축 물질 Generated answer: 일회용품 줄이\n"
     ]
    },
    {
     "name": "stderr",
     "output_type": "stream",
     "text": [
      " 56%|█████▌    | 838/1507 [47:37<23:13,  2.08s/it]"
     ]
    },
    {
     "name": "stdout",
     "output_type": "stream",
     "text": [
      "ID: TEST_0837 Question: 본부장의 성씨 Generated answer: 강형구\n"
     ]
    },
    {
     "name": "stderr",
     "output_type": "stream",
     "text": [
      " 56%|█████▌    | 839/1507 [47:41<29:14,  2.63s/it]"
     ]
    },
    {
     "name": "stdout",
     "output_type": "stream",
     "text": [
      "ID: TEST_0838 Question: 서울시 마스크 미착용 시 과태료 Generated answer: 마스크 미착용 시에는 위반 횟수와 관계없이 10만원을 부과한다는 방침도 밝혔다.\n"
     ]
    },
    {
     "name": "stderr",
     "output_type": "stream",
     "text": [
      " 56%|█████▌    | 840/1507 [47:44<31:30,  2.83s/it]"
     ]
    },
    {
     "name": "stdout",
     "output_type": "stream",
     "text": [
      "ID: TEST_0839 Question: 서울시 도심 집회 금지 장소 Generated answer: 광화문과 서울광장\n"
     ]
    },
    {
     "name": "stderr",
     "output_type": "stream",
     "text": [
      " 56%|█████▌    | 841/1507 [47:48<36:40,  3.30s/it]"
     ]
    },
    {
     "name": "stdout",
     "output_type": "stream",
     "text": [
      "ID: TEST_0840 Question: 서울시 한강 공원 중 이용 가능한 공원 Generated answer: 뚝섬과 여의도\n"
     ]
    },
    {
     "name": "stderr",
     "output_type": "stream",
     "text": [
      " 56%|█████▌    | 842/1507 [47:52<36:37,  3.30s/it]"
     ]
    },
    {
     "name": "stdout",
     "output_type": "stream",
     "text": [
      "ID: TEST_0841 Question: 유흥시설 휴식시간 도입된 시간 Generated answer: 1시간당 10\n"
     ]
    },
    {
     "name": "stderr",
     "output_type": "stream",
     "text": [
      " 56%|█████▌    | 843/1507 [47:55<36:34,  3.30s/it]"
     ]
    },
    {
     "name": "stdout",
     "output_type": "stream",
     "text": [
      "ID: TEST_0842 Question: 교회의 대면 예배 제한 인원 Generated answer: 전체 좌석의 30 % 이내로 대면 예배 인원을 제한한다.\n"
     ]
    },
    {
     "name": "stderr",
     "output_type": "stream",
     "text": [
      " 56%|█████▌    | 844/1507 [47:58<36:28,  3.30s/it]"
     ]
    },
    {
     "name": "stdout",
     "output_type": "stream",
     "text": [
      "ID: TEST_0843 Question: 서울 서초구 서울중앙지검 앞 집회를 주최한 단체는 Generated answer: 태극기 혁명 국민운동본부'( 국본 ) 와'가로세로연구소 '\n"
     ]
    },
    {
     "name": "stderr",
     "output_type": "stream",
     "text": [
      " 56%|█████▌    | 845/1507 [48:01<34:26,  3.12s/it]"
     ]
    },
    {
     "name": "stdout",
     "output_type": "stream",
     "text": [
      "ID: TEST_0844 Question: 사회적 거리두기가 1단계로 완화되어 가능해진 집회 규모는 Generated answer: 10인 이상 100인 미만\n"
     ]
    },
    {
     "name": "stderr",
     "output_type": "stream",
     "text": [
      " 56%|█████▌    | 846/1507 [48:04<33:17,  3.02s/it]"
     ]
    },
    {
     "name": "stdout",
     "output_type": "stream",
     "text": [
      "ID: TEST_0845 Question: 대검찰청 앞 차량 집회를 주최한 단체는 Generated answer: 새로운 한국을 위한 국민행동 '\n"
     ]
    },
    {
     "name": "stderr",
     "output_type": "stream",
     "text": [
      " 56%|█████▌    | 847/1507 [48:07<34:06,  3.10s/it]"
     ]
    },
    {
     "name": "stdout",
     "output_type": "stream",
     "text": [
      "ID: TEST_0846 Question: 100인 미만 소규모 집회가 불가능한 장소는 Generated answer: 광화문 광장은\n"
     ]
    },
    {
     "name": "stderr",
     "output_type": "stream",
     "text": [
      " 56%|█████▋    | 848/1507 [48:09<31:06,  2.83s/it]"
     ]
    },
    {
     "name": "stdout",
     "output_type": "stream",
     "text": [
      "ID: TEST_0847 Question: 17일 0시 기준 신규 코로나 19 확진자 수는 Generated answer: 73명이다.\n"
     ]
    },
    {
     "name": "stderr",
     "output_type": "stream",
     "text": [
      " 56%|█████▋    | 849/1507 [48:14<35:54,  3.27s/it]"
     ]
    },
    {
     "name": "stdout",
     "output_type": "stream",
     "text": [
      "ID: TEST_0848 Question: 전셋값 상승률이 높은 강남 4구 지역 Generated answer: 강남 4구 ( 강남 · 서초 · 송파 · 강동구 )\n"
     ]
    },
    {
     "name": "stderr",
     "output_type": "stream",
     "text": [
      " 56%|█████▋    | 850/1507 [48:16<34:23,  3.14s/it]"
     ]
    },
    {
     "name": "stdout",
     "output_type": "stream",
     "text": [
      "ID: TEST_0849 Question: 서울∼문산 고속도로의 총 길이는 Generated answer: 35. 2㎞\n"
     ]
    },
    {
     "name": "stderr",
     "output_type": "stream",
     "text": [
      " 56%|█████▋    | 851/1507 [48:19<34:07,  3.12s/it]"
     ]
    },
    {
     "name": "stdout",
     "output_type": "stream",
     "text": [
      "ID: TEST_0850 Question: 서울∼문산 고속도로의 건설 종료 연도는 Generated answer: 오는 2025년\n"
     ]
    },
    {
     "name": "stderr",
     "output_type": "stream",
     "text": [
      " 57%|█████▋    | 852/1507 [48:22<33:43,  3.09s/it]"
     ]
    },
    {
     "name": "stdout",
     "output_type": "stream",
     "text": [
      "ID: TEST_0851 Question: 서울∼문산 고속도로의 총 건설비용은 Generated answer: 2조1990억원\n"
     ]
    },
    {
     "name": "stderr",
     "output_type": "stream",
     "text": [
      " 57%|█████▋    | 853/1507 [48:26<35:43,  3.28s/it]"
     ]
    },
    {
     "name": "stdout",
     "output_type": "stream",
     "text": [
      "ID: TEST_0852 Question: 서울∼문산 고속도로의 준공식 날짜는 Generated answer: 다음 달 6일\n"
     ]
    },
    {
     "name": "stderr",
     "output_type": "stream",
     "text": [
      " 57%|█████▋    | 854/1507 [48:30<38:00,  3.49s/it]"
     ]
    },
    {
     "name": "stdout",
     "output_type": "stream",
     "text": [
      "ID: TEST_0853 Question: 서울∼문산 고속도로의 통행료 수준은 Generated answer: 2900원 수준\n"
     ]
    },
    {
     "name": "stderr",
     "output_type": "stream",
     "text": [
      " 57%|█████▋    | 855/1507 [48:36<44:29,  4.09s/it]"
     ]
    },
    {
     "name": "stdout",
     "output_type": "stream",
     "text": [
      "ID: TEST_0854 Question: 캐나다가 백신을 몇 회 분 구매했는지 Generated answer: 5600만회 분\n"
     ]
    },
    {
     "name": "stderr",
     "output_type": "stream",
     "text": [
      " 57%|█████▋    | 856/1507 [48:41<49:55,  4.60s/it]"
     ]
    },
    {
     "name": "stdout",
     "output_type": "stream",
     "text": [
      "ID: TEST_0855 Question: 미국의 잠재적 백신 구매 물량 Generated answer: 26억 1000만회 분\n"
     ]
    },
    {
     "name": "stderr",
     "output_type": "stream",
     "text": [
      " 57%|█████▋    | 857/1507 [48:46<48:40,  4.49s/it]"
     ]
    },
    {
     "name": "stdout",
     "output_type": "stream",
     "text": [
      "ID: TEST_0856 Question: 존슨앤존슨 백신이 몇 회 접종인지 Generated answer: ##회 접종 )\n"
     ]
    },
    {
     "name": "stderr",
     "output_type": "stream",
     "text": [
      " 57%|█████▋    | 858/1507 [48:51<51:27,  4.76s/it]"
     ]
    },
    {
     "name": "stdout",
     "output_type": "stream",
     "text": [
      "ID: TEST_0857 Question: 베트남의 누적 확진자 수 Generated answer: 1304명\n"
     ]
    },
    {
     "name": "stderr",
     "output_type": "stream",
     "text": [
      " 57%|█████▋    | 859/1507 [48:56<50:31,  4.68s/it]"
     ]
    },
    {
     "name": "stdout",
     "output_type": "stream",
     "text": [
      "ID: TEST_0858 Question: 듀크대가 전망한 글로벌 백신 공급 완료 시기 Generated answer: 2023 ~ 2024년\n"
     ]
    },
    {
     "name": "stderr",
     "output_type": "stream",
     "text": [
      " 57%|█████▋    | 860/1507 [48:59<45:43,  4.24s/it]"
     ]
    },
    {
     "name": "stdout",
     "output_type": "stream",
     "text": [
      "ID: TEST_0859 Question: 대검찰청 국정감사가 예정된 날짜 Generated answer: 오는 22일\n"
     ]
    },
    {
     "name": "stderr",
     "output_type": "stream",
     "text": [
      " 57%|█████▋    | 861/1507 [49:02<42:36,  3.96s/it]"
     ]
    },
    {
     "name": "stdout",
     "output_type": "stream",
     "text": [
      "ID: TEST_0860 Question: 미국 FTC의 로히트 초프라 상임위원이 언급한 법안의 대상은 누구인지 Generated answer: 인플루언서 마케팅으로 막대한 이득을 보고 있는 소셜미디어 플랫폼과 광고주에게도 책임을 지게 하는 법안을 만들어야 한다 \" 는 성명을 발표했다. 그는 성명서에서 \" 인플루언서\n"
     ]
    },
    {
     "name": "stderr",
     "output_type": "stream",
     "text": [
      " 57%|█████▋    | 862/1507 [49:07<44:52,  4.17s/it]"
     ]
    },
    {
     "name": "stdout",
     "output_type": "stream",
     "text": [
      "ID: TEST_0861 Question: 정의선 회장이 보유한 현대글로비스 지분은 몇 퍼센트인가 Generated answer: 23. 29 %\n"
     ]
    },
    {
     "name": "stderr",
     "output_type": "stream",
     "text": [
      " 57%|█████▋    | 863/1507 [49:11<45:51,  4.27s/it]"
     ]
    },
    {
     "name": "stdout",
     "output_type": "stream",
     "text": [
      "ID: TEST_0862 Question: 현대차그룹이 GBC를 완공하는 데 드는 추정 개발비는 얼마인가 Generated answer: 3조원\n"
     ]
    },
    {
     "name": "stderr",
     "output_type": "stream",
     "text": [
      " 57%|█████▋    | 864/1507 [49:17<49:40,  4.64s/it]"
     ]
    },
    {
     "name": "stdout",
     "output_type": "stream",
     "text": [
      "ID: TEST_0863 Question: 2018년 현대차그룹 지배구조 개편이 무산된 이유는 무엇인가 Generated answer: 투기자본 엘리엇 매니지먼트가 “ 지주회사 체제를 선택하라 ” 고 압박하고, 의결권 자문기관들이 모비스와 글로비스 합병비율이 주주에게 불리하다는 의견을 내면서\n"
     ]
    },
    {
     "name": "stderr",
     "output_type": "stream",
     "text": [
      " 57%|█████▋    | 865/1507 [49:22<51:18,  4.79s/it]"
     ]
    },
    {
     "name": "stdout",
     "output_type": "stream",
     "text": [
      "ID: TEST_0864 Question: 정의선 회장이 상장 가능성이 있는 회사는 무엇인가 Generated answer: 현대엔지니어링의\n"
     ]
    },
    {
     "name": "stderr",
     "output_type": "stream",
     "text": [
      " 57%|█████▋    | 866/1507 [49:26<50:01,  4.68s/it]"
     ]
    },
    {
     "name": "stdout",
     "output_type": "stream",
     "text": [
      "ID: TEST_0865 Question: 현대차그룹이 중고차 시장 진출을 주도할 회사는 어디인가 Generated answer: 현대글로비스\n"
     ]
    },
    {
     "name": "stderr",
     "output_type": "stream",
     "text": [
      " 58%|█████▊    | 867/1507 [49:29<41:59,  3.94s/it]"
     ]
    },
    {
     "name": "stdout",
     "output_type": "stream",
     "text": [
      "ID: TEST_0866 Question: 화웨이의 자체운영체제(OS) 이름 Generated answer: 2. 0\n"
     ]
    },
    {
     "name": "stderr",
     "output_type": "stream",
     "text": [
      " 58%|█████▊    | 868/1507 [49:31<36:22,  3.42s/it]"
     ]
    },
    {
     "name": "stdout",
     "output_type": "stream",
     "text": [
      "ID: TEST_0867 Question: 화웨이 소비자 부문 최고경영자(CEO) 이름 Generated answer: 위청둥\n"
     ]
    },
    {
     "name": "stderr",
     "output_type": "stream",
     "text": [
      " 58%|█████▊    | 869/1507 [49:34<35:16,  3.32s/it]"
     ]
    },
    {
     "name": "stdout",
     "output_type": "stream",
     "text": [
      "ID: TEST_0868 Question: 화웨이가 스마트폰 브랜드를 매각하려는 브랜드 이름 Generated answer: 아너 ( Honor )\n"
     ]
    },
    {
     "name": "stderr",
     "output_type": "stream",
     "text": [
      " 58%|█████▊    | 870/1507 [49:36<32:19,  3.04s/it]"
     ]
    },
    {
     "name": "stdout",
     "output_type": "stream",
     "text": [
      "ID: TEST_0869 Question: 기린칩을 생산해온 대만 업체 이름 Generated answer: TSMC가 생산해왔다. 그러나 미국의 제재가 본격화하면서 TSMC는 지난 5월부터 화웨이로부터 신규 주문을 받지 않았으며, 9월 들어선 공급을 완전히 중단했다. TSMC\n"
     ]
    },
    {
     "name": "stderr",
     "output_type": "stream",
     "text": [
      " 58%|█████▊    | 871/1507 [49:39<33:01,  3.12s/it]"
     ]
    },
    {
     "name": "stdout",
     "output_type": "stream",
     "text": [
      "ID: TEST_0870 Question: 화웨이 스마트폰 시장 점유율이 폭락할 것으로 예상하는 연도 Generated answer: ##는 2021년\n"
     ]
    },
    {
     "name": "stderr",
     "output_type": "stream",
     "text": [
      " 58%|█████▊    | 872/1507 [49:43<33:36,  3.18s/it]"
     ]
    },
    {
     "name": "stdout",
     "output_type": "stream",
     "text": [
      "ID: TEST_0871 Question: 신세계인터내셔날의 7월 20일~8월 9일 뷰티 부문 매출 증가율은 Generated answer: 459 %\n"
     ]
    },
    {
     "name": "stderr",
     "output_type": "stream",
     "text": [
      " 58%|█████▊    | 873/1507 [49:46<35:06,  3.32s/it]"
     ]
    },
    {
     "name": "stdout",
     "output_type": "stream",
     "text": [
      "ID: TEST_0872 Question: 니치 향수 전체 브랜드 매출 증가율은 Generated answer: 680 % 늘었다.\n"
     ]
    },
    {
     "name": "stderr",
     "output_type": "stream",
     "text": [
      " 58%|█████▊    | 874/1507 [49:50<37:18,  3.54s/it]"
     ]
    },
    {
     "name": "stdout",
     "output_type": "stream",
     "text": [
      "ID: TEST_0873 Question: 바이레도의 매출 신장률은 Generated answer: 926 %\n"
     ]
    },
    {
     "name": "stderr",
     "output_type": "stream",
     "text": [
      " 58%|█████▊    | 875/1507 [49:54<36:32,  3.47s/it]"
     ]
    },
    {
     "name": "stdout",
     "output_type": "stream",
     "text": [
      "ID: TEST_0874 Question: 산타 마리아 노벨라의 매출 신장률은 Generated answer: 618 %\n"
     ]
    },
    {
     "name": "stderr",
     "output_type": "stream",
     "text": [
      " 58%|█████▊    | 876/1507 [49:58<39:21,  3.74s/it]"
     ]
    },
    {
     "name": "stdout",
     "output_type": "stream",
     "text": [
      "ID: TEST_0875 Question: 네츄라 비세의 온라인 매출 증가율은 Generated answer: 970 %\n"
     ]
    },
    {
     "name": "stderr",
     "output_type": "stream",
     "text": [
      " 58%|█████▊    | 877/1507 [50:01<37:48,  3.60s/it]"
     ]
    },
    {
     "name": "stdout",
     "output_type": "stream",
     "text": [
      "ID: TEST_0876 Question: 반도체 특별법 발의 목표 시점은 Generated answer: 8월까지\n"
     ]
    },
    {
     "name": "stderr",
     "output_type": "stream",
     "text": [
      " 58%|█████▊    | 878/1507 [50:04<33:22,  3.18s/it]"
     ]
    },
    {
     "name": "stdout",
     "output_type": "stream",
     "text": [
      "ID: TEST_0877 Question: 반도체 특위 위원장은 누구 Generated answer: 양향자\n"
     ]
    },
    {
     "name": "stderr",
     "output_type": "stream",
     "text": [
      " 58%|█████▊    | 879/1507 [50:07<32:18,  3.09s/it]"
     ]
    },
    {
     "name": "stdout",
     "output_type": "stream",
     "text": [
      "ID: TEST_0878 Question: 반도체 특위 회의에서 취합 예정인 시행령들은 몇 월 중 변경될 예정인가 Generated answer: 5월중\n"
     ]
    },
    {
     "name": "stderr",
     "output_type": "stream",
     "text": [
      " 58%|█████▊    | 880/1507 [50:09<29:32,  2.83s/it]"
     ]
    },
    {
     "name": "stdout",
     "output_type": "stream",
     "text": [
      "ID: TEST_0879 Question: 민주당 반도체 특위 부위원장 중 하나는 누구 Generated answer: 소병철 · 김경만 · 김병주 · 김주영\n"
     ]
    },
    {
     "name": "stderr",
     "output_type": "stream",
     "text": [
      " 58%|█████▊    | 881/1507 [50:11<26:57,  2.58s/it]"
     ]
    },
    {
     "name": "stdout",
     "output_type": "stream",
     "text": [
      "ID: TEST_0880 Question: 반도체 특위 출범 일자는 Generated answer: 지난 23일\n"
     ]
    },
    {
     "name": "stderr",
     "output_type": "stream",
     "text": [
      " 59%|█████▊    | 882/1507 [50:16<33:42,  3.24s/it]"
     ]
    },
    {
     "name": "stdout",
     "output_type": "stream",
     "text": [
      "ID: TEST_0881 Question: 김모씨가 신청한 주택형의 하한선 자녀 수는 Generated answer: 자녀 3명\n"
     ]
    },
    {
     "name": "stderr",
     "output_type": "stream",
     "text": [
      " 59%|█████▊    | 883/1507 [50:20<38:07,  3.67s/it]"
     ]
    },
    {
     "name": "stdout",
     "output_type": "stream",
     "text": [
      "ID: TEST_0882 Question: 다자녀 특별공급의 과천을 제외한 수도권 하한선 점수는 Generated answer: 80점 이상\n"
     ]
    },
    {
     "name": "stderr",
     "output_type": "stream",
     "text": [
      " 59%|█████▊    | 884/1507 [50:25<40:23,  3.89s/it]"
     ]
    },
    {
     "name": "stdout",
     "output_type": "stream",
     "text": [
      "ID: TEST_0883 Question: 신혼부부 경쟁률은 Generated answer: 141대 1\n"
     ]
    },
    {
     "name": "stderr",
     "output_type": "stream",
     "text": [
      " 59%|█████▊    | 885/1507 [50:30<43:34,  4.20s/it]"
     ]
    },
    {
     "name": "stdout",
     "output_type": "stream",
     "text": [
      "ID: TEST_0884 Question: 85점을 받으려면 필요한 영·유아 수는 Generated answer: 자녀 수와 영 · 유아 자녀 수가 각각 1명당 5점이다.\n"
     ]
    },
    {
     "name": "stderr",
     "output_type": "stream",
     "text": [
      " 59%|█████▉    | 886/1507 [50:35<45:51,  4.43s/it]"
     ]
    },
    {
     "name": "stdout",
     "output_type": "stream",
     "text": [
      "ID: TEST_0885 Question: 청약통장 가입 기간 만점 점수는 Generated answer: 69점으로\n"
     ]
    },
    {
     "name": "stderr",
     "output_type": "stream",
     "text": [
      " 59%|█████▉    | 887/1507 [50:38<42:33,  4.12s/it]"
     ]
    },
    {
     "name": "stdout",
     "output_type": "stream",
     "text": [
      "ID: TEST_0886 Question: 어떤 성향 응답자 중 36.4%가 공수처 설치에 대해 다소 부정적인가 Generated answer: 진보 성향의\n"
     ]
    },
    {
     "name": "stderr",
     "output_type": "stream",
     "text": [
      " 59%|█████▉    | 888/1507 [50:41<39:43,  3.85s/it]"
     ]
    },
    {
     "name": "stdout",
     "output_type": "stream",
     "text": [
      "ID: TEST_0887 Question: 법조출입 기자 중 가장 많이 출입하는 곳은 어디인가 Generated answer: 서울중앙지검\n"
     ]
    },
    {
     "name": "stderr",
     "output_type": "stream",
     "text": [
      " 59%|█████▉    | 889/1507 [50:45<39:17,  3.82s/it]"
     ]
    },
    {
     "name": "stdout",
     "output_type": "stream",
     "text": [
      "ID: TEST_0888 Question: 설문 응답자 중 몇 퍼센트가 남성인가 Generated answer: 71. 1 %\n"
     ]
    },
    {
     "name": "stderr",
     "output_type": "stream",
     "text": [
      " 59%|█████▉    | 890/1507 [50:48<36:22,  3.54s/it]"
     ]
    },
    {
     "name": "stdout",
     "output_type": "stream",
     "text": [
      "ID: TEST_0889 Question: 설문 응답자 중 1년 이상 2년 이하의 경력을 가진 비율은 Generated answer: 28. 3 %\n"
     ]
    },
    {
     "name": "stderr",
     "output_type": "stream",
     "text": [
      " 59%|█████▉    | 891/1507 [50:51<35:32,  3.46s/it]"
     ]
    },
    {
     "name": "stdout",
     "output_type": "stream",
     "text": [
      "ID: TEST_0890 Question: 법조언론인클럽이 결성된 연도는 Generated answer: 위해 2007년\n"
     ]
    },
    {
     "name": "stderr",
     "output_type": "stream",
     "text": [
      " 59%|█████▉    | 892/1507 [50:55<38:25,  3.75s/it]"
     ]
    },
    {
     "name": "stdout",
     "output_type": "stream",
     "text": [
      "ID: TEST_0891 Question: 대한항공 사장이 기자들에게 발표한 내용은 Generated answer: 아시아나항공과 자회사는 통합 이후 인력 구조조정을 안 한다 ”\n"
     ]
    },
    {
     "name": "stderr",
     "output_type": "stream",
     "text": [
      " 59%|█████▉    | 893/1507 [51:00<40:25,  3.95s/it]"
     ]
    },
    {
     "name": "stdout",
     "output_type": "stream",
     "text": [
      "ID: TEST_0892 Question: 두산그룹에서 인수 우선협상대상자 선정을 위한 본입찰이 예정된 날짜는 Generated answer: 24일 예정돼있다.\n"
     ]
    },
    {
     "name": "stderr",
     "output_type": "stream",
     "text": [
      " 59%|█████▉    | 894/1507 [51:05<45:07,  4.42s/it]"
     ]
    },
    {
     "name": "stdout",
     "output_type": "stream",
     "text": [
      "ID: TEST_0893 Question: 두산인프라 지분을 가진 두산중공업이 계획한 유상증자 규모는 Generated answer: 1조3000억원\n"
     ]
    },
    {
     "name": "stderr",
     "output_type": "stream",
     "text": [
      " 59%|█████▉    | 895/1507 [51:09<41:38,  4.08s/it]"
     ]
    },
    {
     "name": "stdout",
     "output_type": "stream",
     "text": [
      "ID: TEST_0894 Question: 요기요를 운영하는 회사는 Generated answer: 딜리버리히어로\n"
     ]
    },
    {
     "name": "stderr",
     "output_type": "stream",
     "text": [
      " 59%|█████▉    | 896/1507 [51:12<39:11,  3.85s/it]"
     ]
    },
    {
     "name": "stdout",
     "output_type": "stream",
     "text": [
      "ID: TEST_0895 Question: 아시아나항공을 인수하는 그룹은 Generated answer: 한진그룹이\n"
     ]
    },
    {
     "name": "stderr",
     "output_type": "stream",
     "text": [
      " 60%|█████▉    | 897/1507 [51:15<37:27,  3.68s/it]"
     ]
    },
    {
     "name": "stdout",
     "output_type": "stream",
     "text": [
      "ID: TEST_0896 Question: 윤희숙 의원의 소속 정당은 무엇인가 Generated answer: 미래통합당\n"
     ]
    },
    {
     "name": "stderr",
     "output_type": "stream",
     "text": [
      " 60%|█████▉    | 898/1507 [51:19<37:48,  3.73s/it]"
     ]
    },
    {
     "name": "stdout",
     "output_type": "stream",
     "text": [
      "ID: TEST_0897 Question: 전세 거주 비율이 급락한 해는 언제인가 Generated answer: 2014년 이후 수도권의 전세 거주 비율은 급격히 떨어졌다. 2008년 ( 29. 6 % ) 부터 2014년 ( 28. 1 % ) 까지 6년간 1. 5 % 포인트 하락지만, 2014년\n"
     ]
    },
    {
     "name": "stderr",
     "output_type": "stream",
     "text": [
      " 60%|█████▉    | 899/1507 [51:22<36:24,  3.59s/it]"
     ]
    },
    {
     "name": "stdout",
     "output_type": "stream",
     "text": [
      "ID: TEST_0898 Question: 2019년 수도권 저소득층의 월세 거주 비율은 몇 퍼센트인가 Generated answer: 7. 4 %\n"
     ]
    },
    {
     "name": "stderr",
     "output_type": "stream",
     "text": [
      " 60%|█████▉    | 900/1507 [51:25<34:01,  3.36s/it]"
     ]
    },
    {
     "name": "stdout",
     "output_type": "stream",
     "text": [
      "ID: TEST_0899 Question: 기준금리 2% 이하가 된 해는 언제인가 Generated answer: 2014년 이후\n"
     ]
    },
    {
     "name": "stderr",
     "output_type": "stream",
     "text": [
      " 60%|█████▉    | 901/1507 [51:30<37:51,  3.75s/it]"
     ]
    },
    {
     "name": "stdout",
     "output_type": "stream",
     "text": [
      "ID: TEST_0900 Question: 전·월세 전환율이 하락한 해는 언제인가 Generated answer: 2011년 전국 주택 시장 내 전 · 월세 전환율은 9. 6 % 에서 올해\n"
     ]
    },
    {
     "name": "stderr",
     "output_type": "stream",
     "text": [
      " 60%|█████▉    | 902/1507 [51:33<35:42,  3.54s/it]"
     ]
    },
    {
     "name": "stdout",
     "output_type": "stream",
     "text": [
      "ID: TEST_0901 Question: 조모씨가 결혼식을 변경한 곳 Generated answer: 서울의 한 특급호텔\n"
     ]
    },
    {
     "name": "stderr",
     "output_type": "stream",
     "text": [
      " 60%|█████▉    | 903/1507 [51:36<34:54,  3.47s/it]"
     ]
    },
    {
     "name": "stdout",
     "output_type": "stream",
     "text": [
      "ID: TEST_0902 Question: 원래 예약했던 웨딩홀에서 결혼식을 진행하기 어려워진 이유 Generated answer: 신종 코로나바이러스 감염증 ( 코로나19 ) 확산으로 사회적 거리두기가 2. 5단계로 격상돼 초청할 수 있는 하객 수가 줄면서\n"
     ]
    },
    {
     "name": "stderr",
     "output_type": "stream",
     "text": [
      " 60%|█████▉    | 904/1507 [51:40<34:18,  3.41s/it]"
     ]
    },
    {
     "name": "stdout",
     "output_type": "stream",
     "text": [
      "ID: TEST_0903 Question: 조모씨가 호텔 웨딩을 선택한 이유 Generated answer: 조씨는 “ 평소 호텔 결혼식은 미처 생각도 못 했는데 막상 하고 보니 가심비 ( 가격 대비 만족도 ) 가 좋아 주변에도 호텔 스몰웨딩을 추천하고 있다 ” 고 말했다.\n"
     ]
    },
    {
     "name": "stderr",
     "output_type": "stream",
     "text": [
      " 60%|██████    | 905/1507 [51:43<33:57,  3.38s/it]"
     ]
    },
    {
     "name": "stdout",
     "output_type": "stream",
     "text": [
      "ID: TEST_0904 Question: 마이크로 웨딩'의 하객 수 Generated answer: 50명 미만\n"
     ]
    },
    {
     "name": "stderr",
     "output_type": "stream",
     "text": [
      " 60%|██████    | 906/1507 [51:46<33:39,  3.36s/it]"
     ]
    },
    {
     "name": "stdout",
     "output_type": "stream",
     "text": [
      "ID: TEST_0905 Question: 롯데호텔 서울의 여러 연회장을 동시에 사용하는 예식 방식 Generated answer: 따로 또 같이 ’\n"
     ]
    },
    {
     "name": "stderr",
     "output_type": "stream",
     "text": [
      " 60%|██████    | 907/1507 [51:49<33:26,  3.34s/it]"
     ]
    },
    {
     "name": "stdout",
     "output_type": "stream",
     "text": [
      "ID: TEST_0906 Question: 거리두기 조정안을 발표하는 날짜 Generated answer: 11일 정례 브리핑\n"
     ]
    },
    {
     "name": "stderr",
     "output_type": "stream",
     "text": [
      " 60%|██████    | 908/1507 [51:53<33:17,  3.33s/it]"
     ]
    },
    {
     "name": "stdout",
     "output_type": "stream",
     "text": [
      "ID: TEST_0907 Question: 금융권 대출 현황 분석 결과 발생한 총 대출금은 Generated answer: 금감원이 피해자의 피해금 이체일 기준 3일 이내 금융권 대출 현황을 분석한 결과, 지난 3년간 피해자가 금융권에서 받은 대출금은 총 2893억원\n"
     ]
    },
    {
     "name": "stderr",
     "output_type": "stream",
     "text": [
      " 60%|██████    | 909/1507 [51:57<36:24,  3.65s/it]"
     ]
    },
    {
     "name": "stdout",
     "output_type": "stream",
     "text": [
      "ID: TEST_0908 Question: 김포골드선의 종착역은 어디야 Generated answer: 김포공항역에서 구래역\n"
     ]
    },
    {
     "name": "stderr",
     "output_type": "stream",
     "text": [
      " 60%|██████    | 910/1507 [52:02<38:35,  3.88s/it]"
     ]
    },
    {
     "name": "stdout",
     "output_type": "stream",
     "text": [
      "ID: TEST_0909 Question: MS가 고려 중인 플랫폼은 Generated answer: 틱톡 인수\n"
     ]
    },
    {
     "name": "stderr",
     "output_type": "stream",
     "text": [
      " 60%|██████    | 911/1507 [52:07<42:38,  4.29s/it]"
     ]
    },
    {
     "name": "stdout",
     "output_type": "stream",
     "text": [
      "ID: TEST_0910 Question: 트럼프 대통령이 틱톡 관련 서명한 날짜는 Generated answer: 지난 6일\n"
     ]
    },
    {
     "name": "stderr",
     "output_type": "stream",
     "text": [
      " 61%|██████    | 912/1507 [52:10<40:23,  4.07s/it]"
     ]
    },
    {
     "name": "stdout",
     "output_type": "stream",
     "text": [
      "ID: TEST_0911 Question: 틱톡 자구책으로 고용한 인물들은 Generated answer: 한편 틱톡은 자구책 강구 차원에서 십수 명의 로비스트\n"
     ]
    },
    {
     "name": "stderr",
     "output_type": "stream",
     "text": [
      " 61%|██████    | 913/1507 [52:15<41:17,  4.17s/it]"
     ]
    },
    {
     "name": "stdout",
     "output_type": "stream",
     "text": [
      "ID: TEST_0912 Question: 틱톡 투자 회사는 Generated answer: 세쿼이아 캐피탈\n"
     ]
    },
    {
     "name": "stderr",
     "output_type": "stream",
     "text": [
      " 61%|██████    | 914/1507 [52:19<41:08,  4.16s/it]"
     ]
    },
    {
     "name": "stdout",
     "output_type": "stream",
     "text": [
      "ID: TEST_0913 Question: 트럼프 대통령의 사위는 Generated answer: ( 권투의 ) 녹다운 같은 결과를 가져온 싸움 ”\n"
     ]
    },
    {
     "name": "stderr",
     "output_type": "stream",
     "text": [
      " 61%|██████    | 915/1507 [52:20<32:48,  3.32s/it]"
     ]
    },
    {
     "name": "stdout",
     "output_type": "stream",
     "text": [
      "ID: TEST_0914 Question: 송종의 본부장의 나이는 Generated answer: ( 55 )\n"
     ]
    },
    {
     "name": "stderr",
     "output_type": "stream",
     "text": [
      " 61%|██████    | 916/1507 [52:22<29:02,  2.95s/it]"
     ]
    },
    {
     "name": "stdout",
     "output_type": "stream",
     "text": [
      "ID: TEST_0915 Question: 송종의 본부장이 졸업한 대학교는 Generated answer: 중앙대 법학\n"
     ]
    },
    {
     "name": "stderr",
     "output_type": "stream",
     "text": [
      " 61%|██████    | 917/1507 [52:24<23:53,  2.43s/it]"
     ]
    },
    {
     "name": "stdout",
     "output_type": "stream",
     "text": [
      "ID: TEST_0916 Question: 송종의 본부장이 강조한 사회공헌활동은 Generated answer: 지역아동센터와 교류하는 캠코브러리 등 사회공헌활동도 지속적으로 이어나갈 것 \" 이라고 말했다.\n"
     ]
    },
    {
     "name": "stderr",
     "output_type": "stream",
     "text": [
      " 61%|██████    | 918/1507 [52:25<20:13,  2.06s/it]"
     ]
    },
    {
     "name": "stdout",
     "output_type": "stream",
     "text": [
      "ID: TEST_0917 Question: 송종의 본부장의 출생지는 Generated answer: 전북 정읍 출생\n"
     ]
    },
    {
     "name": "stderr",
     "output_type": "stream",
     "text": [
      " 61%|██████    | 919/1507 [52:27<20:16,  2.07s/it]"
     ]
    },
    {
     "name": "stdout",
     "output_type": "stream",
     "text": [
      "ID: TEST_0918 Question: 송종의 본부장이 역임한 처장은 Generated answer: 조세채권관리처 처장\n"
     ]
    },
    {
     "name": "stderr",
     "output_type": "stream",
     "text": [
      " 61%|██████    | 920/1507 [52:30<23:51,  2.44s/it]"
     ]
    },
    {
     "name": "stdout",
     "output_type": "stream",
     "text": [
      "ID: TEST_0919 Question: 미국 대통령 선거에서 필요한 선거인단 과반수는 Generated answer: 270명의 표를 확보해야 대통령으로 당선되는 것이다.\n"
     ]
    },
    {
     "name": "stderr",
     "output_type": "stream",
     "text": [
      " 61%|██████    | 921/1507 [52:33<26:20,  2.70s/it]"
     ]
    },
    {
     "name": "stdout",
     "output_type": "stream",
     "text": [
      "ID: TEST_0920 Question: 대통령을 하원에서 결정할 때 주별 행사하는 표수는 Generated answer: 한 표씩\n"
     ]
    },
    {
     "name": "stderr",
     "output_type": "stream",
     "text": [
      " 61%|██████    | 922/1507 [52:37<28:22,  2.91s/it]"
     ]
    },
    {
     "name": "stdout",
     "output_type": "stream",
     "text": [
      "ID: TEST_0921 Question: 수정헌법 12조에 명시된 내용에 따르면 하원의원이 대통령을 정하지 못할 경우 대통령직을 임시로 수행하는 사람은 Generated answer: 상원에서 결정된 부통령\n"
     ]
    },
    {
     "name": "stderr",
     "output_type": "stream",
     "text": [
      " 61%|██████    | 923/1507 [52:41<31:08,  3.20s/it]"
     ]
    },
    {
     "name": "stdout",
     "output_type": "stream",
     "text": [
      "ID: TEST_0922 Question: 미국의 현재 연방 하원의원 숫자 면에서 공화당이 앞서는 주의 수는 Generated answer: 현재 연방 하원의원 숫자 면에서 공화당이 앞서는 주가 26곳\n"
     ]
    },
    {
     "name": "stderr",
     "output_type": "stream",
     "text": [
      " 61%|██████▏   | 924/1507 [52:44<32:37,  3.36s/it]"
     ]
    },
    {
     "name": "stdout",
     "output_type": "stream",
     "text": [
      "ID: TEST_0923 Question: 상위 10개 주의 유권자 수가 나머지 40개 주 유권자 수와 같다는 점에서 상위 10개 주가 전체 투표권에서 차지하는 비율은 Generated answer: 상위 10개 주는 20 %\n"
     ]
    },
    {
     "name": "stderr",
     "output_type": "stream",
     "text": [
      " 61%|██████▏   | 925/1507 [52:49<35:38,  3.67s/it]"
     ]
    },
    {
     "name": "stdout",
     "output_type": "stream",
     "text": [
      "ID: TEST_0924 Question: 사회적 거리두기 3단계 발효 시 금지되는 모임 인원은 Generated answer: 10인 이상\n"
     ]
    },
    {
     "name": "stderr",
     "output_type": "stream",
     "text": [
      " 61%|██████▏   | 926/1507 [52:53<37:31,  3.88s/it]"
     ]
    },
    {
     "name": "stdout",
     "output_type": "stream",
     "text": [
      "ID: TEST_0925 Question: 정은경 본부장이 소속된 기관은 Generated answer: 중앙방역대책본부\n"
     ]
    },
    {
     "name": "stderr",
     "output_type": "stream",
     "text": [
      " 62%|██████▏   | 927/1507 [52:57<36:02,  3.73s/it]"
     ]
    },
    {
     "name": "stdout",
     "output_type": "stream",
     "text": [
      "ID: TEST_0926 Question: 서정협 권한대행이 발표한 서울 전역 마스크 착용 의무화 시기는 Generated answer: 이날 자정부터\n"
     ]
    },
    {
     "name": "stderr",
     "output_type": "stream",
     "text": [
      " 62%|██████▏   | 928/1507 [53:02<40:31,  4.20s/it]"
     ]
    },
    {
     "name": "stdout",
     "output_type": "stream",
     "text": [
      "ID: TEST_0927 Question: 광화문 집회 당시 인근에 체류한 것으로 파악된 휴대전화번호는 몇 건인지 Generated answer: 1만576건\n"
     ]
    },
    {
     "name": "stderr",
     "output_type": "stream",
     "text": [
      " 62%|██████▏   | 929/1507 [53:05<38:39,  4.01s/it]"
     ]
    },
    {
     "name": "stdout",
     "output_type": "stream",
     "text": [
      "ID: TEST_0928 Question: 방역수칙 위반 시 적용되는 제도의 이름은 Generated answer: 집합금지 명령 '\n"
     ]
    },
    {
     "name": "stderr",
     "output_type": "stream",
     "text": [
      " 62%|██████▏   | 930/1507 [53:10<39:34,  4.12s/it]"
     ]
    },
    {
     "name": "stdout",
     "output_type": "stream",
     "text": [
      "ID: TEST_0929 Question: 포항지진특별법 제14조는 무엇을 규정하고 있나 Generated answer: 국가는 피해자에게 실질적인 피해 구제를 위한 지원금을 지급한다 ’\n"
     ]
    },
    {
     "name": "stderr",
     "output_type": "stream",
     "text": [
      " 62%|██████▏   | 931/1507 [53:13<36:34,  3.81s/it]"
     ]
    },
    {
     "name": "stdout",
     "output_type": "stream",
     "text": [
      "ID: TEST_0930 Question: 포항11·15촉발지진범시민대책위원회의 약칭은 Generated answer: 포항11 · 15촉발지진범시민대책위원회 ( 이하 범대위 )\n"
     ]
    },
    {
     "name": "stderr",
     "output_type": "stream",
     "text": [
      " 62%|██████▏   | 932/1507 [53:16<34:49,  3.63s/it]"
     ]
    },
    {
     "name": "stdout",
     "output_type": "stream",
     "text": [
      "ID: TEST_0931 Question: 포항 지진 피해를 정부가 얼마까지 지원하는가 Generated answer: 피해금액에 대한 100 %\n"
     ]
    },
    {
     "name": "stderr",
     "output_type": "stream",
     "text": [
      " 62%|██████▏   | 933/1507 [53:20<34:40,  3.62s/it]"
     ]
    },
    {
     "name": "stdout",
     "output_type": "stream",
     "text": [
      "ID: TEST_0932 Question: 포항지진특별법 시행령 개정안에 대한 의견 수렴 기간은 언제까지인가 Generated answer: 오는 13일\n"
     ]
    },
    {
     "name": "stderr",
     "output_type": "stream",
     "text": [
      " 62%|██████▏   | 934/1507 [53:23<33:42,  3.53s/it]"
     ]
    },
    {
     "name": "stdout",
     "output_type": "stream",
     "text": [
      "ID: TEST_0933 Question: 포항 지진이 발생한 날짜는 Generated answer: 2017년 11월 15일\n"
     ]
    },
    {
     "name": "stderr",
     "output_type": "stream",
     "text": [
      " 62%|██████▏   | 935/1507 [53:28<38:57,  4.09s/it]"
     ]
    },
    {
     "name": "stdout",
     "output_type": "stream",
     "text": [
      "ID: TEST_0934 Question: 시행령이 개정되는 시기는 Generated answer: 10월께\n"
     ]
    },
    {
     "name": "stderr",
     "output_type": "stream",
     "text": [
      " 62%|██████▏   | 936/1507 [53:32<37:02,  3.89s/it]"
     ]
    },
    {
     "name": "stdout",
     "output_type": "stream",
     "text": [
      "ID: TEST_0935 Question: 전월세전환율의 현재 법정 비율은 Generated answer: 현재 주택 임대차보호법 상 전세에서 월세로 전환될 때 적용되는 전 · 월세 전환율은 4 %\n"
     ]
    },
    {
     "name": "stderr",
     "output_type": "stream",
     "text": [
      " 62%|██████▏   | 937/1507 [53:36<38:25,  4.04s/it]"
     ]
    },
    {
     "name": "stdout",
     "output_type": "stream",
     "text": [
      "ID: TEST_0936 Question: 임대차 3법 중 전월세 상한제의 비율은 Generated answer: 5 % )\n"
     ]
    },
    {
     "name": "stderr",
     "output_type": "stream",
     "text": [
      " 62%|██████▏   | 938/1507 [53:41<41:02,  4.33s/it]"
     ]
    },
    {
     "name": "stdout",
     "output_type": "stream",
     "text": [
      "ID: TEST_0937 Question: 한국은행 기준금리는 Generated answer: 3. 5 %\n"
     ]
    },
    {
     "name": "stderr",
     "output_type": "stream",
     "text": [
      " 62%|██████▏   | 939/1507 [53:45<39:41,  4.19s/it]"
     ]
    },
    {
     "name": "stdout",
     "output_type": "stream",
     "text": [
      "ID: TEST_0938 Question: 서울의 전월세 전환율은 Generated answer: 2. 5 %\n"
     ]
    },
    {
     "name": "stderr",
     "output_type": "stream",
     "text": [
      " 62%|██████▏   | 940/1507 [53:49<37:29,  3.97s/it]"
     ]
    },
    {
     "name": "stdout",
     "output_type": "stream",
     "text": [
      "ID: TEST_0939 Question: 사회적 거리 두기 단계를 낮추려면 필요한 일평균 국내 발생 신규 확진자 수 기준은 Generated answer: 50명 이내\n"
     ]
    },
    {
     "name": "stderr",
     "output_type": "stream",
     "text": [
      " 62%|██████▏   | 941/1507 [53:52<35:04,  3.72s/it]"
     ]
    },
    {
     "name": "stdout",
     "output_type": "stream",
     "text": [
      "ID: TEST_0940 Question: 추석 특별방역 대책이 시작된 날짜는 Generated answer: 지난달 28일\n"
     ]
    },
    {
     "name": "stderr",
     "output_type": "stream",
     "text": [
      " 63%|██████▎   | 942/1507 [53:55<33:47,  3.59s/it]"
     ]
    },
    {
     "name": "stdout",
     "output_type": "stream",
     "text": [
      "ID: TEST_0941 Question: 승광빌딩의 위치한 지역 Generated answer: 서울 강남구 ‘ 승광빌딩 ’\n"
     ]
    },
    {
     "name": "stderr",
     "output_type": "stream",
     "text": [
      " 63%|██████▎   | 943/1507 [53:58<32:55,  3.50s/it]"
     ]
    },
    {
     "name": "stdout",
     "output_type": "stream",
     "text": [
      "ID: TEST_0942 Question: 마스터 플러스 병원이 위치한 도시는 Generated answer: 경기 의정부시\n"
     ]
    },
    {
     "name": "stderr",
     "output_type": "stream",
     "text": [
      " 63%|██████▎   | 944/1507 [54:02<32:18,  3.44s/it]"
     ]
    },
    {
     "name": "stdout",
     "output_type": "stream",
     "text": [
      "ID: TEST_0943 Question: 김신우 교수의 소속 병원은 Generated answer: 경북대병원\n"
     ]
    },
    {
     "name": "stderr",
     "output_type": "stream",
     "text": [
      " 63%|██████▎   | 945/1507 [54:06<34:21,  3.67s/it]"
     ]
    },
    {
     "name": "stdout",
     "output_type": "stream",
     "text": [
      "ID: TEST_0944 Question: 현재 배달의민족의 배달앱 이용자 비율은 Generated answer: 59. 8 % )\n"
     ]
    },
    {
     "name": "stderr",
     "output_type": "stream",
     "text": [
      " 63%|██████▎   | 946/1507 [54:08<30:47,  3.29s/it]"
     ]
    },
    {
     "name": "stdout",
     "output_type": "stream",
     "text": [
      "ID: TEST_0945 Question: 공정거래위원회가 DH에 배민 인수 조건으로 제시한 사항은 Generated answer: 요기요 ’ 를 매각하라는 조건을 내걸었다.\n"
     ]
    },
    {
     "name": "stderr",
     "output_type": "stream",
     "text": [
      " 63%|██████▎   | 947/1507 [54:12<30:47,  3.30s/it]"
     ]
    },
    {
     "name": "stdout",
     "output_type": "stream",
     "text": [
      "ID: TEST_0946 Question: DH가 배민 인수를 위해 지불한 금액은 Generated answer: 40억 달러 ( 약 4조7500억원 )\n"
     ]
    },
    {
     "name": "stderr",
     "output_type": "stream",
     "text": [
      " 63%|██████▎   | 948/1507 [54:15<30:45,  3.30s/it]"
     ]
    },
    {
     "name": "stdout",
     "output_type": "stream",
     "text": [
      "ID: TEST_0947 Question: 공정거래위원회가 배달앱 시장에서 두 회사의 점유율을 제한한 이유는 Generated answer: 국내 1 · 2위 사업자인 두 회사의 사업 영역을 배달앱 시장으로 한정하면 두 회사의 점유율은 이미 90 % 를 넘기며 독과점이 된다.\n"
     ]
    },
    {
     "name": "stderr",
     "output_type": "stream",
     "text": [
      " 63%|██████▎   | 949/1507 [54:18<31:19,  3.37s/it]"
     ]
    },
    {
     "name": "stdout",
     "output_type": "stream",
     "text": [
      "ID: TEST_0948 Question: 쿠팡이츠의 최근 월간 순이용자 증가량은 Generated answer: 120만 명\n"
     ]
    },
    {
     "name": "stderr",
     "output_type": "stream",
     "text": [
      " 63%|██████▎   | 950/1507 [54:21<30:28,  3.28s/it]"
     ]
    },
    {
     "name": "stdout",
     "output_type": "stream",
     "text": [
      "ID: TEST_0949 Question: 태블릿PC를 활용한 조사의 장점 중 하나 Generated answer: 태블릿PC를 이용하면 조사 결과를 바로 서버로 전송할 수 있고, 조사를 마친 가구도 화면에서 확인할 수 있어 조사 중복이나 누락을 막을 수 있다는 게 통계청의 설명이다.\n"
     ]
    },
    {
     "name": "stderr",
     "output_type": "stream",
     "text": [
      " 63%|██████▎   | 951/1507 [54:24<27:26,  2.96s/it]"
     ]
    },
    {
     "name": "stdout",
     "output_type": "stream",
     "text": [
      "ID: TEST_0950 Question: 해남미소의 직영 운영 시작 연도 Generated answer: 2007년 우리 농어업의 새로운 판로 개척과 유통망 확보를 위해 개발됐다. 4년간의 전문 업체 위탁경영을 거쳐 2011년\n"
     ]
    },
    {
     "name": "stderr",
     "output_type": "stream",
     "text": [
      " 63%|██████▎   | 952/1507 [54:26<25:59,  2.81s/it]"
     ]
    },
    {
     "name": "stdout",
     "output_type": "stream",
     "text": [
      "ID: TEST_0951 Question: 해남미소의 작년(직영 9년) 연매출 Generated answer: 118억원\n"
     ]
    },
    {
     "name": "stderr",
     "output_type": "stream",
     "text": [
      " 63%|██████▎   | 953/1507 [54:29<25:20,  2.75s/it]"
     ]
    },
    {
     "name": "stdout",
     "output_type": "stream",
     "text": [
      "ID: TEST_0952 Question: 해남미소의 현재 입점 농가 수 Generated answer: 현재 쇼핑몰에는 관내 350여\n"
     ]
    },
    {
     "name": "stderr",
     "output_type": "stream",
     "text": [
      " 63%|██████▎   | 954/1507 [54:31<25:00,  2.71s/it]"
     ]
    },
    {
     "name": "stdout",
     "output_type": "stream",
     "text": [
      "ID: TEST_0953 Question: 기간 동안 최대 할인 판매율 Generated answer: 우수 농특산물을 최대 50 %\n"
     ]
    },
    {
     "name": "stderr",
     "output_type": "stream",
     "text": [
      " 63%|██████▎   | 955/1507 [54:34<25:55,  2.82s/it]"
     ]
    },
    {
     "name": "stdout",
     "output_type": "stream",
     "text": [
      "ID: TEST_0954 Question: 구매왕 이벤트 당첨자 발표일 Generated answer: 7월20일\n"
     ]
    },
    {
     "name": "stderr",
     "output_type": "stream",
     "text": [
      " 63%|██████▎   | 956/1507 [54:38<27:54,  3.04s/it]"
     ]
    },
    {
     "name": "stdout",
     "output_type": "stream",
     "text": [
      "ID: TEST_0955 Question: 법무부 검찰국에 지급된 특활비 총액은 Generated answer: 10억3000만원\n"
     ]
    },
    {
     "name": "stderr",
     "output_type": "stream",
     "text": [
      " 64%|██████▎   | 957/1507 [54:42<31:37,  3.45s/it]"
     ]
    },
    {
     "name": "stdout",
     "output_type": "stream",
     "text": [
      "ID: TEST_0956 Question: 법무부 운영지원과에서 검찰국에 배정한 지출내역 총 규모는 Generated answer: 10억6400여만원\n"
     ]
    },
    {
     "name": "stderr",
     "output_type": "stream",
     "text": [
      " 64%|██████▎   | 958/1507 [54:48<37:09,  4.06s/it]"
     ]
    },
    {
     "name": "stdout",
     "output_type": "stream",
     "text": [
      "ID: TEST_0957 Question: 서울중앙지검이 2018년 받은 특활비 비율은 Generated answer: 16. 6 %\n"
     ]
    },
    {
     "name": "stderr",
     "output_type": "stream",
     "text": [
      " 64%|██████▎   | 959/1507 [54:52<38:03,  4.17s/it]"
     ]
    },
    {
     "name": "stdout",
     "output_type": "stream",
     "text": [
      "ID: TEST_0958 Question: 김도읍 법사위 간사가 확인한 올해 특활비 액수는 Generated answer: 7억5900만원\n"
     ]
    },
    {
     "name": "stderr",
     "output_type": "stream",
     "text": [
      " 64%|██████▎   | 960/1507 [54:57<38:28,  4.22s/it]"
     ]
    },
    {
     "name": "stdout",
     "output_type": "stream",
     "text": [
      "ID: TEST_0959 Question: 대검이 국가 예산으로 받은 금액은 Generated answer: 94억원\n"
     ]
    },
    {
     "name": "stderr",
     "output_type": "stream",
     "text": [
      " 64%|██████▍   | 961/1507 [55:00<35:25,  3.89s/it]"
     ]
    },
    {
     "name": "stdout",
     "output_type": "stream",
     "text": [
      "ID: TEST_0960 Question: 주52시간 근무제를 준비하지 못한 비율은 Generated answer: 여전히 상당수 중소기업\n"
     ]
    },
    {
     "name": "stderr",
     "output_type": "stream",
     "text": [
      " 64%|██████▍   | 962/1507 [55:03<33:02,  3.64s/it]"
     ]
    },
    {
     "name": "stdout",
     "output_type": "stream",
     "text": [
      "ID: TEST_0961 Question: 5인 이상 50인 미만 사업장의 주52시간제 시행일은 Generated answer: 내년 7월 1일\n"
     ]
    },
    {
     "name": "stderr",
     "output_type": "stream",
     "text": [
      " 64%|██████▍   | 963/1507 [55:07<33:27,  3.69s/it]"
     ]
    },
    {
     "name": "stdout",
     "output_type": "stream",
     "text": [
      "ID: TEST_0962 Question: 주52시간제를 준비하지 못한 이유 중 가장 큰 이유는 Generated answer: 비용부담, 인력난\n"
     ]
    },
    {
     "name": "stderr",
     "output_type": "stream",
     "text": [
      " 64%|██████▍   | 964/1507 [55:10<32:23,  3.58s/it]"
     ]
    },
    {
     "name": "stdout",
     "output_type": "stream",
     "text": [
      "ID: TEST_0963 Question: 탄력적 근로시간제의 현행 단위 기간은 Generated answer: 3개월\n"
     ]
    },
    {
     "name": "stderr",
     "output_type": "stream",
     "text": [
      " 64%|██████▍   | 965/1507 [55:13<31:36,  3.50s/it]"
     ]
    },
    {
     "name": "stdout",
     "output_type": "stream",
     "text": [
      "ID: TEST_0964 Question: 계도기간 연장이 필요하다는 의견 비율은 Generated answer: 계도기간 연장이 필요하다는 의견도 56 %\n"
     ]
    },
    {
     "name": "stderr",
     "output_type": "stream",
     "text": [
      " 64%|██████▍   | 966/1507 [55:16<29:42,  3.30s/it]"
     ]
    },
    {
     "name": "stdout",
     "output_type": "stream",
     "text": [
      "ID: TEST_0965 Question: 스마트시티 국제심포지엄의 개최 날짜 Generated answer: 송도국제도시 경원재 앰배서더 인천\n"
     ]
    },
    {
     "name": "stderr",
     "output_type": "stream",
     "text": [
      " 64%|██████▍   | 967/1507 [55:19<28:01,  3.11s/it]"
     ]
    },
    {
     "name": "stdout",
     "output_type": "stream",
     "text": [
      "ID: TEST_0966 Question: 주한영국대사의 이름 Generated answer: 사이먼 스미스 주한영국대사\n"
     ]
    },
    {
     "name": "stderr",
     "output_type": "stream",
     "text": [
      " 64%|██████▍   | 968/1507 [55:22<28:28,  3.17s/it]"
     ]
    },
    {
     "name": "stdout",
     "output_type": "stream",
     "text": [
      "ID: TEST_0967 Question: 스마트시티 국제심포지엄의 주관 기관 Generated answer: 영국과 공동으로 진행하여 양국의 기관 및 전문가들이 참여한 이번 행사는 인천광역시, 국토교통부, 과학기술정보통신부 주최, 인천경제자유구역청, 국토교통과학기술진흥원 ( KAIA )\n"
     ]
    },
    {
     "name": "stderr",
     "output_type": "stream",
     "text": [
      " 64%|██████▍   | 969/1507 [55:25<28:43,  3.20s/it]"
     ]
    },
    {
     "name": "stdout",
     "output_type": "stream",
     "text": [
      "ID: TEST_0968 Question: 첫날 개막식에 참석한 인천경제청장 Generated answer: 이원재 인천경제청장과 손봉수 국토교통과학기술원장 등\n"
     ]
    },
    {
     "name": "stderr",
     "output_type": "stream",
     "text": [
      " 64%|██████▍   | 970/1507 [55:29<28:55,  3.23s/it]"
     ]
    },
    {
     "name": "stdout",
     "output_type": "stream",
     "text": [
      "ID: TEST_0969 Question: 스마트시티 국제심포지엄이 열린 장소 Generated answer: 송도국제도시 경원재 앰배서더 인천\n"
     ]
    },
    {
     "name": "stderr",
     "output_type": "stream",
     "text": [
      " 64%|██████▍   | 971/1507 [55:30<24:23,  2.73s/it]"
     ]
    },
    {
     "name": "stdout",
     "output_type": "stream",
     "text": [
      "ID: TEST_0970 Question: 해양무척추동물의 비율은 Generated answer: 40. 1 ％\n"
     ]
    },
    {
     "name": "stderr",
     "output_type": "stream",
     "text": [
      " 64%|██████▍   | 972/1507 [55:31<20:08,  2.26s/it]"
     ]
    },
    {
     "name": "stdout",
     "output_type": "stream",
     "text": [
      "ID: TEST_0971 Question: 국내 해양수산생물 총종수는 Generated answer: 1만 4507종\n"
     ]
    },
    {
     "name": "stderr",
     "output_type": "stream",
     "text": [
      " 65%|██████▍   | 973/1507 [55:33<17:52,  2.01s/it]"
     ]
    },
    {
     "name": "stdout",
     "output_type": "stream",
     "text": [
      "ID: TEST_0972 Question: 새로운 생물로 등록된 극피동물의 이름은 Generated answer: 국내 연구팀이 한국에서 세계 최초로 발견한 극피동물인 굽은애기불가사리 ( Henricia epiphysialis Ubagan ) 등 172종\n"
     ]
    },
    {
     "name": "stderr",
     "output_type": "stream",
     "text": [
      " 65%|██████▍   | 974/1507 [55:34<16:06,  1.81s/it]"
     ]
    },
    {
     "name": "stdout",
     "output_type": "stream",
     "text": [
      "ID: TEST_0973 Question: 해양식물의 종류 수는 Generated answer: 1071종\n"
     ]
    },
    {
     "name": "stderr",
     "output_type": "stream",
     "text": [
      " 65%|██████▍   | 975/1507 [55:35<14:22,  1.62s/it]"
     ]
    },
    {
     "name": "stdout",
     "output_type": "stream",
     "text": [
      "ID: TEST_0974 Question: 목록집에 수록된 새로운 국명을 얻은 종수는 Generated answer: 목록집에는 새로운 생물 172종과 새 국명을 얻은 31종\n"
     ]
    },
    {
     "name": "stderr",
     "output_type": "stream",
     "text": [
      " 65%|██████▍   | 976/1507 [55:39<21:06,  2.39s/it]"
     ]
    },
    {
     "name": "stdout",
     "output_type": "stream",
     "text": [
      "ID: TEST_0975 Question: 시내버스의 현금 승차 비율이 가장 낮았던 연도 Generated answer: 지난해는 1. 1 % 로 급감했고, 올해\n"
     ]
    },
    {
     "name": "stderr",
     "output_type": "stream",
     "text": [
      " 65%|██████▍   | 977/1507 [55:43<22:56,  2.60s/it]"
     ]
    },
    {
     "name": "stdout",
     "output_type": "stream",
     "text": [
      "ID: TEST_0976 Question: 버스 안내양 제도가 도입된 연도 Generated answer: 1962년 6월\n"
     ]
    },
    {
     "name": "stderr",
     "output_type": "stream",
     "text": [
      " 65%|██████▍   | 978/1507 [55:46<24:59,  2.83s/it]"
     ]
    },
    {
     "name": "stdout",
     "output_type": "stream",
     "text": [
      "ID: TEST_0977 Question: 버스요금 선수제'가 실시된 연도 Generated answer: 84년 11월\n"
     ]
    },
    {
     "name": "stderr",
     "output_type": "stream",
     "text": [
      " 65%|██████▍   | 979/1507 [55:50<27:21,  3.11s/it]"
     ]
    },
    {
     "name": "stdout",
     "output_type": "stream",
     "text": [
      "ID: TEST_0978 Question: 시민자율버스 운행 시도 때 설치된 것으로 추정되는 시설 Generated answer: 82년 8월\n"
     ]
    },
    {
     "name": "stderr",
     "output_type": "stream",
     "text": [
      " 65%|██████▌   | 980/1507 [55:54<29:51,  3.40s/it]"
     ]
    },
    {
     "name": "stdout",
     "output_type": "stream",
     "text": [
      "ID: TEST_0979 Question: 교통카드 없는 경우 지하철에서 구매할 수 있는 티켓 종류 Generated answer: 역 구내에 설치된 일회용 승차권 자동판매기\n"
     ]
    },
    {
     "name": "stderr",
     "output_type": "stream",
     "text": [
      " 65%|██████▌   | 981/1507 [55:57<30:06,  3.43s/it]"
     ]
    },
    {
     "name": "stdout",
     "output_type": "stream",
     "text": [
      "ID: TEST_0980 Question: 보람튜브의 연 매출은 Generated answer: 400억 원\n"
     ]
    },
    {
     "name": "stderr",
     "output_type": "stream",
     "text": [
      " 65%|██████▌   | 982/1507 [56:01<29:40,  3.39s/it]"
     ]
    },
    {
     "name": "stdout",
     "output_type": "stream",
     "text": [
      "ID: TEST_0981 Question: 낙태를 허용하는 임신 초기 주수는 몇 주까지인가 Generated answer: 14주까지\n"
     ]
    },
    {
     "name": "stderr",
     "output_type": "stream",
     "text": [
      " 65%|██████▌   | 983/1507 [56:04<29:22,  3.36s/it]"
     ]
    },
    {
     "name": "stdout",
     "output_type": "stream",
     "text": [
      "ID: TEST_0982 Question: 사회경제적 사유로 낙태가 가능한 임신 중기 주수는 몇 주까지인가 Generated answer: 15 ~ 24주\n"
     ]
    },
    {
     "name": "stderr",
     "output_type": "stream",
     "text": [
      " 65%|██████▌   | 984/1507 [56:08<30:14,  3.47s/it]"
     ]
    },
    {
     "name": "stdout",
     "output_type": "stream",
     "text": [
      "ID: TEST_0983 Question: 미프진은 어떤 약물인가 Generated answer: 자연유산을 유도하는 약물\n"
     ]
    },
    {
     "name": "stderr",
     "output_type": "stream",
     "text": [
      " 65%|██████▌   | 985/1507 [56:12<31:32,  3.63s/it]"
     ]
    },
    {
     "name": "stdout",
     "output_type": "stream",
     "text": [
      "ID: TEST_0984 Question: 미성년자가 낙태 시술을 받기 위해 필요한 확인서는 Generated answer: 상담 사실확인서\n"
     ]
    },
    {
     "name": "stderr",
     "output_type": "stream",
     "text": [
      " 65%|██████▌   | 986/1507 [56:16<33:28,  3.86s/it]"
     ]
    },
    {
     "name": "stdout",
     "output_type": "stream",
     "text": [
      "ID: TEST_0985 Question: 의사가 낙태 시술을 거부할 수 있는 권리는 Generated answer: 신념에 따라\n"
     ]
    },
    {
     "name": "stderr",
     "output_type": "stream",
     "text": [
      " 65%|██████▌   | 987/1507 [56:17<26:16,  3.03s/it]"
     ]
    },
    {
     "name": "stdout",
     "output_type": "stream",
     "text": [
      "ID: TEST_0986 Question: 신구간이 해당하는 절기 Generated answer: 24절기 가운데 대한 ( 大 ) 후 5일째인 1월 25일부터 입춘 ( 立 春 ) 이틀 전인 2월 1일까지의 기간\n"
     ]
    },
    {
     "name": "stderr",
     "output_type": "stream",
     "text": [
      " 66%|██████▌   | 988/1507 [56:18<21:41,  2.51s/it]"
     ]
    },
    {
     "name": "stdout",
     "output_type": "stream",
     "text": [
      "ID: TEST_0987 Question: 신구간 이사 비용의 상승 폭 Generated answer: 신구간 이사 비용이 평소보다 최소 30만원\n"
     ]
    },
    {
     "name": "stderr",
     "output_type": "stream",
     "text": [
      " 66%|██████▌   | 989/1507 [56:20<19:35,  2.27s/it]"
     ]
    },
    {
     "name": "stdout",
     "output_type": "stream",
     "text": [
      "ID: TEST_0988 Question: 신구간 동안 이사 예약의 하루 평균 건수 Generated answer: 3 ~ 4건\n"
     ]
    },
    {
     "name": "stderr",
     "output_type": "stream",
     "text": [
      " 66%|██████▌   | 990/1507 [56:22<17:18,  2.01s/it]"
     ]
    },
    {
     "name": "stdout",
     "output_type": "stream",
     "text": [
      "ID: TEST_0989 Question: 평소 포장이사 비용 대략적인 범위 Generated answer: 90만 ~ 100만원대\n"
     ]
    },
    {
     "name": "stderr",
     "output_type": "stream",
     "text": [
      " 66%|██████▌   | 991/1507 [56:24<17:44,  2.06s/it]"
     ]
    },
    {
     "name": "stdout",
     "output_type": "stream",
     "text": [
      "ID: TEST_0990 Question: 신구간 동안 포장이사 비용 대략적인 범위 Generated answer: 130만 ~ 150만원대로\n"
     ]
    },
    {
     "name": "stderr",
     "output_type": "stream",
     "text": [
      " 66%|██████▌   | 992/1507 [56:27<20:54,  2.44s/it]"
     ]
    },
    {
     "name": "stdout",
     "output_type": "stream",
     "text": [
      "ID: TEST_0991 Question: 해임 청원이 시작된 이유는 무엇인가 Generated answer: 주식 양도소득세 부과 대상이 되는 대주주 기준을 3억원 ( 한 종목당 주식 보유액 ) 으로 확대하는 방안을 홍 부총리가 고수하면서\n"
     ]
    },
    {
     "name": "stderr",
     "output_type": "stream",
     "text": [
      " 66%|██████▌   | 993/1507 [56:30<23:03,  2.69s/it]"
     ]
    },
    {
     "name": "stdout",
     "output_type": "stream",
     "text": [
      "ID: TEST_0992 Question: 경제성장률 1.9%를 자평한 사람은 누구인가 Generated answer: 홍 부총리는\n"
     ]
    },
    {
     "name": "stderr",
     "output_type": "stream",
     "text": [
      " 66%|██████▌   | 994/1507 [56:34<24:58,  2.92s/it]"
     ]
    },
    {
     "name": "stdout",
     "output_type": "stream",
     "text": [
      "ID: TEST_0993 Question: 재정준칙 글을 다섯 개 페이스북에 올린 날짜는 언제인가 Generated answer: 지난 24일\n"
     ]
    },
    {
     "name": "stderr",
     "output_type": "stream",
     "text": [
      " 66%|██████▌   | 995/1507 [56:39<31:12,  3.66s/it]"
     ]
    },
    {
     "name": "stdout",
     "output_type": "stream",
     "text": [
      "ID: TEST_0994 Question: 10월부터 고용시장 회복세를 예측한 발언을 한 날짜는 언제인가 Generated answer: 지난 16일\n"
     ]
    },
    {
     "name": "stderr",
     "output_type": "stream",
     "text": [
      " 66%|██████▌   | 996/1507 [56:42<30:13,  3.55s/it]"
     ]
    },
    {
     "name": "stdout",
     "output_type": "stream",
     "text": [
      "ID: TEST_0995 Question: 개발제한구역 해제 검토 가능성을 언급한 달은 언제인가 Generated answer: 지난 7월\n"
     ]
    },
    {
     "name": "stderr",
     "output_type": "stream",
     "text": [
      " 66%|██████▌   | 997/1507 [56:46<29:33,  3.48s/it]"
     ]
    },
    {
     "name": "stdout",
     "output_type": "stream",
     "text": [
      "ID: TEST_0996 Question: 지난 5일 삼성전자가 온라인으로 개최한 언팩행사의 주인공은 무엇? Generated answer: 갤럭시노트20\n"
     ]
    },
    {
     "name": "stderr",
     "output_type": "stream",
     "text": [
      " 66%|██████▌   | 998/1507 [56:49<29:16,  3.45s/it]"
     ]
    },
    {
     "name": "stdout",
     "output_type": "stream",
     "text": [
      "ID: TEST_0997 Question: 이번 언팩에서 갤럭시노트20만큼 주목을 끌었던 제품은 무엇? Generated answer: 갤럭시Z 폴드2\n"
     ]
    },
    {
     "name": "stderr",
     "output_type": "stream",
     "text": [
      " 66%|██████▋   | 999/1507 [56:53<31:11,  3.68s/it]"
     ]
    },
    {
     "name": "stdout",
     "output_type": "stream",
     "text": [
      "ID: TEST_0998 Question: 갤럭시Z 폴드2의 판매 예측량은 얼마? Generated answer: 50만대\n"
     ]
    },
    {
     "name": "stderr",
     "output_type": "stream",
     "text": [
      " 66%|██████▋   | 1000/1507 [56:58<32:59,  3.90s/it]"
     ]
    },
    {
     "name": "stdout",
     "output_type": "stream",
     "text": [
      "ID: TEST_0999 Question: 폴더블폰의 화면 마감재로 사용되는 초박형유리(UTG)가 일반 강화유리에 비해 얇은 비율은? Generated answer: 10분의 1\n"
     ]
    },
    {
     "name": "stderr",
     "output_type": "stream",
     "text": [
      " 66%|██████▋   | 1001/1507 [57:00<28:51,  3.42s/it]"
     ]
    },
    {
     "name": "stdout",
     "output_type": "stream",
     "text": [
      "ID: TEST_1000 Question: 내년 폴더블폰 판매량 예상치? Generated answer: 800만대로\n"
     ]
    },
    {
     "name": "stderr",
     "output_type": "stream",
     "text": [
      " 66%|██████▋   | 1002/1507 [57:04<29:30,  3.51s/it]"
     ]
    },
    {
     "name": "stdout",
     "output_type": "stream",
     "text": [
      "ID: TEST_1001 Question: 장애인 전용 미용실 이름은 Generated answer: 함께 헤어 ’\n"
     ]
    },
    {
     "name": "stderr",
     "output_type": "stream",
     "text": [
      " 67%|██████▋   | 1003/1507 [57:07<27:57,  3.33s/it]"
     ]
    },
    {
     "name": "stdout",
     "output_type": "stream",
     "text": [
      "ID: TEST_1002 Question: 함께 헤어'가 문을 연 지역은 Generated answer: 경기도 성남시 중원구의 도촌종합사회복지관\n"
     ]
    },
    {
     "name": "stderr",
     "output_type": "stream",
     "text": [
      " 67%|██████▋   | 1004/1507 [57:10<28:54,  3.45s/it]"
     ]
    },
    {
     "name": "stdout",
     "output_type": "stream",
     "text": [
      "ID: TEST_1003 Question: 장애인 전문 미용사 경력은 몇 년 Generated answer: 20년 경력\n"
     ]
    },
    {
     "name": "stderr",
     "output_type": "stream",
     "text": [
      " 67%|██████▋   | 1005/1507 [57:14<30:08,  3.60s/it]"
     ]
    },
    {
     "name": "stdout",
     "output_type": "stream",
     "text": [
      "ID: TEST_1004 Question: 미용실 이용료는 장애인은 얼마 Generated answer: 3000원, 보호자는 5000원이다.\n"
     ]
    },
    {
     "name": "stderr",
     "output_type": "stream",
     "text": [
      " 67%|██████▋   | 1006/1507 [57:19<32:04,  3.84s/it]"
     ]
    },
    {
     "name": "stdout",
     "output_type": "stream",
     "text": [
      "ID: TEST_1005 Question: 함께 헤어' 운영 시간은 언제 Generated answer: 매주 월 · 수 · 금 오전 10시부터 오후 4시까지\n"
     ]
    },
    {
     "name": "stderr",
     "output_type": "stream",
     "text": [
      " 67%|██████▋   | 1007/1507 [57:20<25:55,  3.11s/it]"
     ]
    },
    {
     "name": "stdout",
     "output_type": "stream",
     "text": [
      "ID: TEST_1006 Question: JDC가 발표한 2021년 경영계획의 주요 목적은 무엇인가 Generated answer: 지역경제 활력을 제고하고, 사회적 책임을 강화\n"
     ]
    },
    {
     "name": "stderr",
     "output_type": "stream",
     "text": [
      " 67%|██████▋   | 1008/1507 [57:22<22:48,  2.74s/it]"
     ]
    },
    {
     "name": "stdout",
     "output_type": "stream",
     "text": [
      "ID: TEST_1007 Question: JDC 이사장이 밝힌 첨단과학기술단지의 주요 추진 계획은 무엇인가 Generated answer: 창업펀드 조성 등 기업의 지원체계를 강화해 첨단산업 생태계를 조성하고, 이를 통해 일자리 창출 및 매출액 증대에 기여하겠다 ”\n"
     ]
    },
    {
     "name": "stderr",
     "output_type": "stream",
     "text": [
      " 67%|██████▋   | 1009/1507 [57:24<21:25,  2.58s/it]"
     ]
    },
    {
     "name": "stdout",
     "output_type": "stream",
     "text": [
      "ID: TEST_1008 Question: 영어교육도시 관련 신규 추진 사항은 무엇인가 Generated answer: 신규 국제학교 유치\n"
     ]
    },
    {
     "name": "stderr",
     "output_type": "stream",
     "text": [
      " 67%|██████▋   | 1010/1507 [57:26<20:25,  2.47s/it]"
     ]
    },
    {
     "name": "stdout",
     "output_type": "stream",
     "text": [
      "ID: TEST_1009 Question: 헬스케어타운 내 의료서비스 센터 준공 시기는 언제인가 Generated answer: 연내 준공하고\n"
     ]
    },
    {
     "name": "stderr",
     "output_type": "stream",
     "text": [
      " 67%|██████▋   | 1011/1507 [57:29<19:43,  2.39s/it]"
     ]
    },
    {
     "name": "stdout",
     "output_type": "stream",
     "text": [
      "ID: TEST_1010 Question: JDC가 지난해 도출한 결과를 기반으로 확보하려는 것은 무엇인가 Generated answer: 미래산업 추진 동력\n"
     ]
    },
    {
     "name": "stderr",
     "output_type": "stream",
     "text": [
      " 67%|██████▋   | 1012/1507 [57:33<24:37,  2.98s/it]"
     ]
    },
    {
     "name": "stdout",
     "output_type": "stream",
     "text": [
      "ID: TEST_1011 Question: 제55회 잡지의 날 기념식이 열린 장소는 어디인가 Generated answer: 전경련 컨퍼런스 센터 3층 다이아몬드홀 ( 여의도 )\n"
     ]
    },
    {
     "name": "stderr",
     "output_type": "stream",
     "text": [
      " 67%|██████▋   | 1013/1507 [57:38<28:32,  3.47s/it]"
     ]
    },
    {
     "name": "stdout",
     "output_type": "stream",
     "text": [
      "ID: TEST_1012 Question: ‘전자부품(EPNC)’ 발행인의 이름은 무엇인가 Generated answer: 박한식 「 전자부품 ( EPNC ) 」 발행인이 수상하게 됐다. 박한식\n"
     ]
    },
    {
     "name": "stderr",
     "output_type": "stream",
     "text": [
      " 67%|██████▋   | 1014/1507 [57:42<30:19,  3.69s/it]"
     ]
    },
    {
     "name": "stdout",
     "output_type": "stream",
     "text": [
      "ID: TEST_1013 Question: 특별감사패를 받은 사람의 이사장 직책을 맡고 있는 단체는 무엇인가 Generated answer: 사단법인 미래혁신포럼\n"
     ]
    },
    {
     "name": "stderr",
     "output_type": "stream",
     "text": [
      " 67%|██████▋   | 1015/1507 [57:46<32:00,  3.90s/it]"
     ]
    },
    {
     "name": "stdout",
     "output_type": "stream",
     "text": [
      "ID: TEST_1014 Question: 전 국민 잡지읽기 공모전 일반부 대상 수상작의 제목은 무엇인가 Generated answer: 시아버지의 선물 〉\n"
     ]
    },
    {
     "name": "stderr",
     "output_type": "stream",
     "text": [
      " 67%|██████▋   | 1016/1507 [57:51<33:06,  4.05s/it]"
     ]
    },
    {
     "name": "stdout",
     "output_type": "stream",
     "text": [
      "ID: TEST_1015 Question: 한국잡지협회장이 수여한 청소년부 대상 수상자의 이름은 무엇인가 Generated answer: 이시은 씨\n"
     ]
    },
    {
     "name": "stderr",
     "output_type": "stream",
     "text": [
      " 67%|██████▋   | 1017/1507 [57:55<33:54,  4.15s/it]"
     ]
    },
    {
     "name": "stdout",
     "output_type": "stream",
     "text": [
      "ID: TEST_1016 Question: 한국판 뉴딜의 기본 철학을 디자인한 인물 중 한 명은 누구인가 Generated answer: 김진우 덕성여자대학교 총장 직무대리\n"
     ]
    },
    {
     "name": "stderr",
     "output_type": "stream",
     "text": [
      " 68%|██████▊   | 1018/1507 [58:00<36:36,  4.49s/it]"
     ]
    },
    {
     "name": "stdout",
     "output_type": "stream",
     "text": [
      "ID: TEST_1017 Question: 푸르메 재단의 임지영 팀장이 운영하는 농축산 시설의 명칭은 무엇인가 Generated answer: 케어팜 ( Care Farm )\n"
     ]
    },
    {
     "name": "stderr",
     "output_type": "stream",
     "text": [
      " 68%|██████▊   | 1019/1507 [58:04<34:12,  4.21s/it]"
     ]
    },
    {
     "name": "stdout",
     "output_type": "stream",
     "text": [
      "ID: TEST_1018 Question: 스마트팜 운영을 위해 필요한 기술은 무엇인가 Generated answer: 사물인터넷 ( IoT ) 기술\n"
     ]
    },
    {
     "name": "stderr",
     "output_type": "stream",
     "text": [
      " 68%|██████▊   | 1020/1507 [58:09<37:16,  4.59s/it]"
     ]
    },
    {
     "name": "stdout",
     "output_type": "stream",
     "text": [
      "ID: TEST_1019 Question: 초전도 자석 기술을 제조업에 적용하면 어떤 규모의 제조산업 혁신이 가능한가 Generated answer: 1000조원\n"
     ]
    },
    {
     "name": "stderr",
     "output_type": "stream",
     "text": [
      " 68%|██████▊   | 1021/1507 [58:14<36:44,  4.54s/it]"
     ]
    },
    {
     "name": "stdout",
     "output_type": "stream",
     "text": [
      "ID: TEST_1020 Question: 포스트 코로나 산업 육성전략 1순위로 꼽힌 것은 무엇인가 Generated answer: 벤처기업 육성 '\n"
     ]
    },
    {
     "name": "stderr",
     "output_type": "stream",
     "text": [
      " 68%|██████▊   | 1022/1507 [58:17<33:40,  4.17s/it]"
     ]
    },
    {
     "name": "stdout",
     "output_type": "stream",
     "text": [
      "ID: TEST_1021 Question: 테슬라의 3분기 매출은 Generated answer: 87억7000만 달러\n"
     ]
    },
    {
     "name": "stderr",
     "output_type": "stream",
     "text": [
      " 68%|██████▊   | 1023/1507 [58:20<31:31,  3.91s/it]"
     ]
    },
    {
     "name": "stdout",
     "output_type": "stream",
     "text": [
      "ID: TEST_1022 Question: 테슬라의 3분기 순이익은 Generated answer: 3억3100만 달러\n"
     ]
    },
    {
     "name": "stderr",
     "output_type": "stream",
     "text": [
      " 68%|██████▊   | 1024/1507 [58:25<32:04,  3.98s/it]"
     ]
    },
    {
     "name": "stdout",
     "output_type": "stream",
     "text": [
      "ID: TEST_1023 Question: 월가의 테슬라 매출 추정치는 Generated answer: 83억6000만 달러\n"
     ]
    },
    {
     "name": "stderr",
     "output_type": "stream",
     "text": [
      " 68%|██████▊   | 1025/1507 [58:29<33:31,  4.17s/it]"
     ]
    }
   ],
   "source": [
    "import re\n",
    "TEST_fOLDER = '/home/jovyan/work/prj_data/open/test.csv'\n",
    "csv = pd.read_csv(TEST_fOLDER)\n",
    "\n",
    "def get_prediction(question, context):\n",
    "    inputs = tokenizer(\n",
    "        question,\n",
    "        context,\n",
    "        max_length=512,\n",
    "        return_tensors=\"pt\",\n",
    "        truncation=\"only_second\",\n",
    "        stride=256,\n",
    "        return_overflowing_tokens=True,\n",
    "        return_offsets_mapping=True,\n",
    "        padding=\"max_length\",\n",
    "    )\n",
    "    inputs.pop(\"token_type_ids\")\n",
    "    offset_mapping = inputs.pop(\"offset_mapping\")\n",
    "    sample_map = inputs.pop(\"overflow_to_sample_mapping\")\n",
    "    \n",
    "    inputs = {k: v.to(DEVICE) for k, v in inputs.items()}\n",
    "\n",
    "    \n",
    "    with torch.no_grad():\n",
    "        outputs = model(**inputs)\n",
    "\n",
    "    # 모든 청크에 대한 start/end 로짓 가져오기\n",
    "    start_logits = outputs.start_logits\n",
    "    end_logits = outputs.end_logits\n",
    "    \n",
    "    # 가장 높은 점수의 답변 찾기\n",
    "    max_answer_score = -float('inf')\n",
    "    best_answer = \"\"\n",
    "\n",
    "    for i in range(len(start_logits)):\n",
    "        start_indexes = torch.argsort(start_logits[i], descending=True)[:20]\n",
    "        end_indexes = torch.argsort(end_logits[i], descending=True)[:20]\n",
    "        \n",
    "        for start_index in start_indexes:\n",
    "            for end_index in end_indexes:\n",
    "                # 답변의 길이를 50 토큰으로 제한\n",
    "                if end_index < start_index or end_index - start_index + 1 > 50 or end_index - start_index <= 1:\n",
    "                    continue\n",
    "                # 답변이 CLS일때는 제외\n",
    "                if start_index==0 or end_index==0:\n",
    "                    continue\n",
    "                \n",
    "                answer_score = start_logits[i][start_index] + end_logits[i][end_index]\n",
    "                if answer_score > max_answer_score:\n",
    "                    max_answer_score = answer_score\n",
    "                    best_answer = tokenizer.decode(inputs[\"input_ids\"][i][start_index:end_index+1])\n",
    "    return best_answer\n",
    "    \n",
    "submission_dict = {}\n",
    "for _, row in tqdm(csv.iterrows(), total=len(csv)):\n",
    "    answer = get_prediction(row['question'], row['context'])\n",
    "    \n",
    "    def clean_prediction(text):\n",
    "        special_tokens = list(tokenizer.special_tokens_map.values())\n",
    "        pattern = '|'.join(map(re.escape, special_tokens))\n",
    "        cleaned_text = re.sub(pattern, '', text)\n",
    "        cleaned_text = ' '.join(cleaned_text.split())\n",
    "        cleaned_text\n",
    "        return cleaned_text\n",
    "\n",
    "    answer = clean_prediction(answer)\n",
    "    submission_dict[row['id']] = answer\n",
    "    print(f\"ID: {row['id']} Question: {row['question']} Generated answer: {answer}\")\n",
    "df = pd.DataFrame(list(submission_dict.items()), columns=['id', 'answer'])"
   ]
  },
  {
   "cell_type": "code",
   "execution_count": 3,
   "id": "e52c3fbe-8a73-4ad9-a91b-e7ec7068b86c",
   "metadata": {},
   "outputs": [],
   "source": [
    "df.to_csv('robert_stride256.csv', index=False)"
   ]
  },
  {
   "cell_type": "code",
   "execution_count": null,
   "id": "bdf6b8ec-928e-4fee-a4aa-31903b37f20a",
   "metadata": {},
   "outputs": [],
   "source": []
  }
 ],
 "metadata": {
  "kernelspec": {
   "display_name": "qa",
   "language": "python",
   "name": "qa"
  },
  "language_info": {
   "codemirror_mode": {
    "name": "ipython",
    "version": 3
   },
   "file_extension": ".py",
   "mimetype": "text/x-python",
   "name": "python",
   "nbconvert_exporter": "python",
   "pygments_lexer": "ipython3",
   "version": "3.9.19"
  }
 },
 "nbformat": 4,
 "nbformat_minor": 5
}
