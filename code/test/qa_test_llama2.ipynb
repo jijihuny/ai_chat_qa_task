{
 "cells": [
  {
   "cell_type": "code",
   "execution_count": 1,
   "id": "04ca74cc-700c-45f0-a5f0-f6c2b2ea6298",
   "metadata": {},
   "outputs": [
    {
     "name": "stderr",
     "output_type": "stream",
     "text": [
      "/opt/conda/envs/qa/lib/python3.9/site-packages/tqdm/auto.py:21: TqdmWarning: IProgress not found. Please update jupyter and ipywidgets. See https://ipywidgets.readthedocs.io/en/stable/user_install.html\n",
      "  from .autonotebook import tqdm as notebook_tqdm\n"
     ]
    }
   ],
   "source": [
    "import os\n",
    "import re\n",
    "import torch\n",
    "import pandas as pd\n",
    "from torch import nn\n",
    "from tqdm import tqdm\n",
    "from transformers import (\n",
    "    Trainer,\n",
    "    TrainingArguments,\n",
    "    AutoTokenizer,\n",
    "    AutoModelForQuestionAnswering,\n",
    "    DataCollatorWithPadding,\n",
    "    BitsAndBytesConfig,\n",
    ")\n",
    "from tokenizers.processors import TemplateProcessing\n",
    "from trl import SFTConfig, SFTTrainer\n",
    "from peft import (\n",
    "    prepare_model_for_kbit_training, \n",
    "    LoraConfig, \n",
    "    get_peft_model,\n",
    "    TaskType,\n",
    ")\n",
    "from datasets import load_dataset\n",
    "from accelerate import Accelerator"
   ]
  },
  {
   "cell_type": "markdown",
   "id": "18ae1e82-8f3d-48d5-a8a6-401ea78d82b3",
   "metadata": {},
   "source": [
    "# 데이터셋 정의"
   ]
  },
  {
   "cell_type": "code",
   "execution_count": 2,
   "id": "f4719c5d-6bca-4167-857d-3b7fff887839",
   "metadata": {},
   "outputs": [],
   "source": [
    "repo = 'yjgwak/klue-bert-base-finetuned-squad-kor-v1'\n",
    "tokenizer = AutoTokenizer.from_pretrained(repo)\n",
    "dataset = load_dataset(\"csv\", data_files=\"/home/jovyan/work/prj_data/open/train.csv\")\n",
    "max_length = 512\n",
    "stride = 128\n",
    "\n",
    "def preprocess_function(examples):\n",
    "    questions, contexts, answers = examples[\"question\"], examples[\"context\"], examples[\"answer\"]\n",
    "    def preprocess_text(text):\n",
    "        text = text.replace('\\n', ' ')\n",
    "        text = re.sub(r'\\s+', ' ', text).strip()\n",
    "        return text\n",
    "    questions = list(map(preprocess_text, questions))\n",
    "    contexts = list(map(preprocess_text, contexts))\n",
    "    answers = list(map(preprocess_text, answers))\n",
    "\n",
    "    inputs = tokenizer(\n",
    "        questions,\n",
    "        contexts,\n",
    "        max_length=max_length,\n",
    "        truncation=\"only_second\",\n",
    "        stride=stride,\n",
    "        return_overflowing_tokens=True,\n",
    "        return_offsets_mapping=True,\n",
    "        padding=\"max_length\",\n",
    "    )\n",
    "\n",
    "    # offset_mapping: [(token1 start, token1 end), (token2 ~, ), ...]\n",
    "    offset_mapping = inputs.pop(\"offset_mapping\")\n",
    "    sample_map = inputs['overflow_to_sample_mapping']# inputs.pop(\"overflow_to_sample_mapping\")\n",
    "    start_positions = []\n",
    "    end_positions = []\n",
    "\n",
    "    for i, offset in enumerate(offset_mapping):\n",
    "        sample_idx = sample_map[i]\n",
    "        answer = answers[sample_idx]\n",
    "\n",
    "        start_char = contexts[sample_idx].find(answer)\n",
    "        end_char = start_char + len(answer)\n",
    "        # sequence_ids: (token=None, question=0, context=1)\n",
    "        sequence_ids = inputs.sequence_ids(i)\n",
    "\n",
    "        # 컨텍스트의 시작 및 마지막을 찾는다.\n",
    "        idx = 0\n",
    "        while sequence_ids[idx] != 1:\n",
    "            idx += 1\n",
    "        context_start = idx\n",
    "        while sequence_ids[idx] == 1:\n",
    "            idx += 1\n",
    "        context_end = idx - 1\n",
    "\n",
    "        # 만일 정답이 컨텍스트에 완전히 포함되지 않는다면, 레이블은 (0, 0)임\n",
    "        if offset[context_start][0] > start_char or offset[context_end][1] < end_char:\n",
    "            start_positions.append(0)\n",
    "            end_positions.append(0)\n",
    "        else:\n",
    "            # 그렇지 않으면 정답의 시작 및 마지막 인덱스\n",
    "            idx = context_start\n",
    "            while idx <= context_end and offset[idx][0] <= start_char:\n",
    "                idx += 1\n",
    "            start_positions.append(idx - 1)\n",
    "    \n",
    "            idx = context_end\n",
    "            while idx >= context_start and offset[idx][1] >= end_char:\n",
    "                idx -= 1\n",
    "            end_positions.append(idx + 1)\n",
    "\n",
    "    inputs[\"start_positions\"] = start_positions\n",
    "    inputs[\"end_positions\"] = end_positions\n",
    "    return inputs\n",
    "\n",
    "# 데이터 프레임을 전처리합니다\n",
    "# preprocess_function(dataset[\"train\"][6])# [15281]\n",
    "train_dataset = dataset[\"train\"].map(\n",
    "    preprocess_function,\n",
    "    batched = True,\n",
    "    remove_columns=dataset[\"train\"].column_names,\n",
    ")\n",
    "\n",
    "# roBERTa에서는 삭제, BERT에서는 중요한 역할\n",
    "# train_dataset = train_dataset.remove_columns(\"token_type_ids\")"
   ]
  },
  {
   "cell_type": "code",
   "execution_count": 3,
   "id": "707f8a87-601e-4c2d-b8d1-0583ac597acd",
   "metadata": {},
   "outputs": [
    {
     "name": "stdout",
     "output_type": "stream",
     "text": [
      "Theoretical answer: 6세대, labels give: 6세대\n",
      "[CLS] PM9A3 E1. S가 기반한 V낸드는 몇 세대인가 [SEP] 삼성전자가 OCP ( 오픈 컴퓨트 프로젝트 ) 의 규격을 만족하는 데이터센터 전용 고성능 SSD ‘ PM9A3 E1. S ’ 를 양산한다고 24일 밝혔다. OCP는 글로벌 데이터센터 관련 기업들이 효율적인 데이터센터 개발과 운영에 필요한 하드웨어와 소프트웨어의 표준을 정립하는 기구다. 이번 제품은 업계최초 6세대 V낸드를 기반으로 한 데이터센터 전용 SSD로, OCP의 NVMe Cloud SSD 표준을 지원하며, 데이터센터에서 요구하는 성능, 전력 효율, 보안 등을 각각 최고 수준의 솔루션으로 제공한다. 특히 전력 효율이 업계 최고 수준으로 높아 데이터센터 운영 비용을 절감할 수 있으며, 최근 화두가 되고 있는 탄소 저감 효과도 기대할 수 있다. PM9A3 E1. S의 전력 효율은 연속쓰기 성능을 기준으로 할 때 1와트 ( W ) 당 283MB / s를 지원하며, 이는 이전 세대인 5세대 V낸드 기반 PM983a M. 2 보다 약 50 % 향상됐다. 지난해 전세계 서버용으로 출하된 HDD ( 하드 디스크 드라이브 ) 를 모두 PM9A3 E1. S 4TB로 대체하면 1년간 절감할 수 있는 전력량이 1484GWh에 이른다. PM9A3 E1. S의 연속쓰기 속도는 3000MB / s로 이전 세대인 제품 대비 연속 쓰기 속도가 약 배 증가했으며, 임의읽기 속도 ( 750K IOPS ) 와 임의쓰기 속도 ( 160K IOPS ) 도 각각 40 %, 150 % 향상됐다. 이번 제품은 사용자 데이터 암호화와 같은 기본적인 보안 기능 뿐만 아니라 안티롤백, 보안 부팅 등 다양한 보안 솔루션을 제공한다. 안티롤백은 보안이 취약한 하위 버전의 펌웨어가 다운로드 되지 못하도록 막는 기능으로, PM9A3 E1. S는 보안 취약점이 발견된 펌웨어에 대해서는 이력을 따로 저장해놓고 해당 버전을 다운로드할 경우 정상적으로 처리되지 않도록 막는다. 이번 SSD는 기본적으로 허가되지 않은 접근이 안되도록 설계돼 있지만, 보안 부팅 기능을 추가해 보안을 더욱 [SEP]\n"
     ]
    }
   ],
   "source": [
    "idx = 9\n",
    "sample_idx = train_dataset[\"overflow_to_sample_mapping\"][idx]\n",
    "answer = dataset['train']['answer'][sample_idx]\n",
    "\n",
    "start = train_dataset['start_positions'][idx]\n",
    "end = train_dataset['end_positions'][idx]\n",
    "labeled_answer = tokenizer.decode(train_dataset[\"input_ids\"][idx][start : end + 1])\n",
    "\n",
    "print(f\"Theoretical answer: {answer}, labels give: {labeled_answer}\")\n",
    "print(tokenizer.decode(train_dataset[\"input_ids\"][idx]))"
   ]
  },
  {
   "cell_type": "markdown",
   "id": "51881a81-deed-47c7-aac0-3b998a272c73",
   "metadata": {},
   "source": [
    "# 모델 정의"
   ]
  },
  {
   "cell_type": "code",
   "execution_count": 3,
   "id": "ddb7b1fd-581d-474a-8797-7fdfaa2c4336",
   "metadata": {},
   "outputs": [
    {
     "name": "stdout",
     "output_type": "stream",
     "text": [
      "start\n"
     ]
    },
    {
     "name": "stderr",
     "output_type": "stream",
     "text": [
      "Detected kernel version 5.4.0, which is below the recommended minimum of 5.5.0; this can cause the process to hang. It is recommended to upgrade the kernel to the minimum version or higher.\n"
     ]
    },
    {
     "name": "stdout",
     "output_type": "stream",
     "text": [
      "end\n"
     ]
    }
   ],
   "source": [
    "quantization_config = BitsAndBytesConfig(\n",
    "    load_in_4bit=True,\n",
    "    bnb_4bit_use_double_quant=True,\n",
    "    bnb_4bit_quant_type=\"nf4\",\n",
    "    bnb_4bit_compute_dtype=torch.float16,\n",
    ")\n",
    "print(\"start\")\n",
    "model = AutoModelForQuestionAnswering.from_pretrained(\n",
    "        repo,\n",
    "        device_map=\"cuda:0\",\n",
    "        torch_dtype=torch.float32,\n",
    "        quantization_config=quantization_config,\n",
    ")\n",
    "print(\"end\")\n",
    "model.resize_token_embeddings(len(tokenizer))\n",
    "\n",
    "lora_config = LoraConfig(\n",
    "    r=16,\n",
    "    lora_alpha=32,\n",
    "    lora_dropout=0.05,\n",
    "    bias=\"none\",\n",
    "    target_modules=[\"query\", \"key\", \"value\"],\n",
    "    task_type=\"QUESTION_ANSWERING\"\n",
    ")\n",
    "\n",
    "model = prepare_model_for_kbit_training(model)\n",
    "model = get_peft_model(model, lora_config)\n",
    "\n",
    "accelerater = Accelerator()\n",
    "model, tokenizer = accelerater.prepare(model, tokenizer)"
   ]
  },
  {
   "cell_type": "markdown",
   "id": "943aad63-fa25-4ec8-8646-bf148ab3a325",
   "metadata": {},
   "source": [
    "# Loss 정의"
   ]
  },
  {
   "cell_type": "markdown",
   "id": "3780df28-a853-4174-952d-a985d5a19db6",
   "metadata": {},
   "source": [
    "# 학습"
   ]
  },
  {
   "cell_type": "code",
   "execution_count": 4,
   "id": "3865bb26-e95e-436d-962c-761e35e8603e",
   "metadata": {},
   "outputs": [
    {
     "name": "stderr",
     "output_type": "stream",
     "text": [
      "Failed to detect the name of this notebook, you can set it manually with the WANDB_NOTEBOOK_NAME environment variable to enable code saving.\n",
      "\u001b[34m\u001b[1mwandb\u001b[0m: Currently logged in as: \u001b[33muijinkim\u001b[0m. Use \u001b[1m`wandb login --relogin`\u001b[0m to force relogin\n",
      "/opt/conda/envs/qa/lib/python3.9/site-packages/transformers/training_args.py:1525: FutureWarning: `evaluation_strategy` is deprecated and will be removed in version 4.46 of 🤗 Transformers. Use `eval_strategy` instead\n",
      "  warnings.warn(\n",
      "Detected kernel version 5.4.0, which is below the recommended minimum of 5.5.0; this can cause the process to hang. It is recommended to upgrade the kernel to the minimum version or higher.\n"
     ]
    }
   ],
   "source": [
    "import wandb\n",
    "wandb.login()\n",
    "\n",
    "torch.cuda.empty_cache()\n",
    "training_args = TrainingArguments(\n",
    "    output_dir=\"BERT\",\n",
    "    evaluation_strategy=\"no\",\n",
    "    num_train_epochs=3,\n",
    "    save_steps=0.1,\n",
    "    per_device_train_batch_size=16,\n",
    "    gradient_accumulation_steps=1,\n",
    "    max_grad_norm=1.0,\n",
    "    warmup_steps=500,\n",
    "    weight_decay=0.01,\n",
    "    logging_dir=\"./logs\",\n",
    "    logging_steps=10,\n",
    "    fp16=False\n",
    ")\n",
    "\n",
    "# Trainer 설정\n",
    "trainer = Trainer(\n",
    "    model=model,\n",
    "    args=training_args,\n",
    "    train_dataset=train_dataset,\n",
    "    tokenizer=tokenizer,\n",
    "    data_collator=DataCollatorWithPadding(tokenizer=tokenizer)\n",
    ")"
   ]
  },
  {
   "cell_type": "code",
   "execution_count": 5,
   "id": "7b19f877-1c71-4268-a9d9-25cae531b5ef",
   "metadata": {},
   "outputs": [
    {
     "name": "stderr",
     "output_type": "stream",
     "text": [
      "\u001b[34m\u001b[1mwandb\u001b[0m: \u001b[33mWARNING\u001b[0m The `run_name` is currently set to the same value as `TrainingArguments.output_dir`. If this was not intended, please specify a different run name by setting the `TrainingArguments.run_name` parameter.\n"
     ]
    },
    {
     "data": {
      "text/html": [
       "wandb version 0.17.6 is available!  To upgrade, please run:\n",
       " $ pip install wandb --upgrade"
      ],
      "text/plain": [
       "<IPython.core.display.HTML object>"
      ]
     },
     "metadata": {},
     "output_type": "display_data"
    },
    {
     "data": {
      "text/html": [
       "Tracking run with wandb version 0.17.5"
      ],
      "text/plain": [
       "<IPython.core.display.HTML object>"
      ]
     },
     "metadata": {},
     "output_type": "display_data"
    },
    {
     "data": {
      "text/html": [
       "Run data is saved locally in <code>/home/jovyan/work/ai_chat_qa_task/code/test/wandb/run-20240808_120259-rtatib9b</code>"
      ],
      "text/plain": [
       "<IPython.core.display.HTML object>"
      ]
     },
     "metadata": {},
     "output_type": "display_data"
    },
    {
     "data": {
      "text/html": [
       "Syncing run <strong><a href='https://wandb.ai/uijinkim/huggingface/runs/rtatib9b' target=\"_blank\">BERT</a></strong> to <a href='https://wandb.ai/uijinkim/huggingface' target=\"_blank\">Weights & Biases</a> (<a href='https://wandb.me/run' target=\"_blank\">docs</a>)<br/>"
      ],
      "text/plain": [
       "<IPython.core.display.HTML object>"
      ]
     },
     "metadata": {},
     "output_type": "display_data"
    },
    {
     "data": {
      "text/html": [
       " View project at <a href='https://wandb.ai/uijinkim/huggingface' target=\"_blank\">https://wandb.ai/uijinkim/huggingface</a>"
      ],
      "text/plain": [
       "<IPython.core.display.HTML object>"
      ]
     },
     "metadata": {},
     "output_type": "display_data"
    },
    {
     "data": {
      "text/html": [
       " View run at <a href='https://wandb.ai/uijinkim/huggingface/runs/rtatib9b' target=\"_blank\">https://wandb.ai/uijinkim/huggingface/runs/rtatib9b</a>"
      ],
      "text/plain": [
       "<IPython.core.display.HTML object>"
      ]
     },
     "metadata": {},
     "output_type": "display_data"
    },
    {
     "name": "stderr",
     "output_type": "stream",
     "text": [
      "/opt/conda/envs/qa/lib/python3.9/site-packages/torch/utils/checkpoint.py:464: UserWarning: torch.utils.checkpoint: the use_reentrant parameter should be passed explicitly. In version 2.4 we will raise an exception if use_reentrant is not passed. use_reentrant=False is recommended, but if you need to preserve the current default behavior, you can pass use_reentrant=True. Refer to docs for more details on the differences between the two variants.\n",
      "  warnings.warn(\n"
     ]
    },
    {
     "data": {
      "text/html": [
       "\n",
       "    <div>\n",
       "      \n",
       "      <progress value='8991' max='8991' style='width:300px; height:20px; vertical-align: middle;'></progress>\n",
       "      [8991/8991 2:36:06, Epoch 3/3]\n",
       "    </div>\n",
       "    <table border=\"1\" class=\"dataframe\">\n",
       "  <thead>\n",
       " <tr style=\"text-align: left;\">\n",
       "      <th>Step</th>\n",
       "      <th>Training Loss</th>\n",
       "    </tr>\n",
       "  </thead>\n",
       "  <tbody>\n",
       "    <tr>\n",
       "      <td>10</td>\n",
       "      <td>4.467800</td>\n",
       "    </tr>\n",
       "    <tr>\n",
       "      <td>20</td>\n",
       "      <td>3.935200</td>\n",
       "    </tr>\n",
       "    <tr>\n",
       "      <td>30</td>\n",
       "      <td>3.912100</td>\n",
       "    </tr>\n",
       "    <tr>\n",
       "      <td>40</td>\n",
       "      <td>3.350500</td>\n",
       "    </tr>\n",
       "    <tr>\n",
       "      <td>50</td>\n",
       "      <td>3.774900</td>\n",
       "    </tr>\n",
       "    <tr>\n",
       "      <td>60</td>\n",
       "      <td>4.312100</td>\n",
       "    </tr>\n",
       "    <tr>\n",
       "      <td>70</td>\n",
       "      <td>3.716800</td>\n",
       "    </tr>\n",
       "    <tr>\n",
       "      <td>80</td>\n",
       "      <td>3.334300</td>\n",
       "    </tr>\n",
       "    <tr>\n",
       "      <td>90</td>\n",
       "      <td>3.356400</td>\n",
       "    </tr>\n",
       "    <tr>\n",
       "      <td>100</td>\n",
       "      <td>2.842400</td>\n",
       "    </tr>\n",
       "    <tr>\n",
       "      <td>110</td>\n",
       "      <td>3.061700</td>\n",
       "    </tr>\n",
       "    <tr>\n",
       "      <td>120</td>\n",
       "      <td>3.654000</td>\n",
       "    </tr>\n",
       "    <tr>\n",
       "      <td>130</td>\n",
       "      <td>3.824500</td>\n",
       "    </tr>\n",
       "    <tr>\n",
       "      <td>140</td>\n",
       "      <td>3.040300</td>\n",
       "    </tr>\n",
       "    <tr>\n",
       "      <td>150</td>\n",
       "      <td>4.028700</td>\n",
       "    </tr>\n",
       "    <tr>\n",
       "      <td>160</td>\n",
       "      <td>4.214800</td>\n",
       "    </tr>\n",
       "    <tr>\n",
       "      <td>170</td>\n",
       "      <td>3.323400</td>\n",
       "    </tr>\n",
       "    <tr>\n",
       "      <td>180</td>\n",
       "      <td>3.410800</td>\n",
       "    </tr>\n",
       "    <tr>\n",
       "      <td>190</td>\n",
       "      <td>3.810400</td>\n",
       "    </tr>\n",
       "    <tr>\n",
       "      <td>200</td>\n",
       "      <td>2.694800</td>\n",
       "    </tr>\n",
       "    <tr>\n",
       "      <td>210</td>\n",
       "      <td>3.335600</td>\n",
       "    </tr>\n",
       "    <tr>\n",
       "      <td>220</td>\n",
       "      <td>2.259600</td>\n",
       "    </tr>\n",
       "    <tr>\n",
       "      <td>230</td>\n",
       "      <td>2.505700</td>\n",
       "    </tr>\n",
       "    <tr>\n",
       "      <td>240</td>\n",
       "      <td>2.620200</td>\n",
       "    </tr>\n",
       "    <tr>\n",
       "      <td>250</td>\n",
       "      <td>1.917500</td>\n",
       "    </tr>\n",
       "    <tr>\n",
       "      <td>260</td>\n",
       "      <td>1.762800</td>\n",
       "    </tr>\n",
       "    <tr>\n",
       "      <td>270</td>\n",
       "      <td>2.062500</td>\n",
       "    </tr>\n",
       "    <tr>\n",
       "      <td>280</td>\n",
       "      <td>1.820700</td>\n",
       "    </tr>\n",
       "    <tr>\n",
       "      <td>290</td>\n",
       "      <td>1.964800</td>\n",
       "    </tr>\n",
       "    <tr>\n",
       "      <td>300</td>\n",
       "      <td>1.594900</td>\n",
       "    </tr>\n",
       "    <tr>\n",
       "      <td>310</td>\n",
       "      <td>1.522600</td>\n",
       "    </tr>\n",
       "    <tr>\n",
       "      <td>320</td>\n",
       "      <td>1.851700</td>\n",
       "    </tr>\n",
       "    <tr>\n",
       "      <td>330</td>\n",
       "      <td>1.914700</td>\n",
       "    </tr>\n",
       "    <tr>\n",
       "      <td>340</td>\n",
       "      <td>1.732000</td>\n",
       "    </tr>\n",
       "    <tr>\n",
       "      <td>350</td>\n",
       "      <td>1.570200</td>\n",
       "    </tr>\n",
       "    <tr>\n",
       "      <td>360</td>\n",
       "      <td>1.438100</td>\n",
       "    </tr>\n",
       "    <tr>\n",
       "      <td>370</td>\n",
       "      <td>1.677100</td>\n",
       "    </tr>\n",
       "    <tr>\n",
       "      <td>380</td>\n",
       "      <td>1.609700</td>\n",
       "    </tr>\n",
       "    <tr>\n",
       "      <td>390</td>\n",
       "      <td>1.383000</td>\n",
       "    </tr>\n",
       "    <tr>\n",
       "      <td>400</td>\n",
       "      <td>1.413500</td>\n",
       "    </tr>\n",
       "    <tr>\n",
       "      <td>410</td>\n",
       "      <td>1.515900</td>\n",
       "    </tr>\n",
       "    <tr>\n",
       "      <td>420</td>\n",
       "      <td>1.364500</td>\n",
       "    </tr>\n",
       "    <tr>\n",
       "      <td>430</td>\n",
       "      <td>1.548300</td>\n",
       "    </tr>\n",
       "    <tr>\n",
       "      <td>440</td>\n",
       "      <td>1.444400</td>\n",
       "    </tr>\n",
       "    <tr>\n",
       "      <td>450</td>\n",
       "      <td>1.262500</td>\n",
       "    </tr>\n",
       "    <tr>\n",
       "      <td>460</td>\n",
       "      <td>1.347400</td>\n",
       "    </tr>\n",
       "    <tr>\n",
       "      <td>470</td>\n",
       "      <td>1.161700</td>\n",
       "    </tr>\n",
       "    <tr>\n",
       "      <td>480</td>\n",
       "      <td>1.714900</td>\n",
       "    </tr>\n",
       "    <tr>\n",
       "      <td>490</td>\n",
       "      <td>1.302400</td>\n",
       "    </tr>\n",
       "    <tr>\n",
       "      <td>500</td>\n",
       "      <td>1.564600</td>\n",
       "    </tr>\n",
       "    <tr>\n",
       "      <td>510</td>\n",
       "      <td>1.476200</td>\n",
       "    </tr>\n",
       "    <tr>\n",
       "      <td>520</td>\n",
       "      <td>1.187700</td>\n",
       "    </tr>\n",
       "    <tr>\n",
       "      <td>530</td>\n",
       "      <td>1.226600</td>\n",
       "    </tr>\n",
       "    <tr>\n",
       "      <td>540</td>\n",
       "      <td>1.397600</td>\n",
       "    </tr>\n",
       "    <tr>\n",
       "      <td>550</td>\n",
       "      <td>1.387000</td>\n",
       "    </tr>\n",
       "    <tr>\n",
       "      <td>560</td>\n",
       "      <td>1.368900</td>\n",
       "    </tr>\n",
       "    <tr>\n",
       "      <td>570</td>\n",
       "      <td>1.242100</td>\n",
       "    </tr>\n",
       "    <tr>\n",
       "      <td>580</td>\n",
       "      <td>1.015800</td>\n",
       "    </tr>\n",
       "    <tr>\n",
       "      <td>590</td>\n",
       "      <td>1.295000</td>\n",
       "    </tr>\n",
       "    <tr>\n",
       "      <td>600</td>\n",
       "      <td>1.322100</td>\n",
       "    </tr>\n",
       "    <tr>\n",
       "      <td>610</td>\n",
       "      <td>1.391600</td>\n",
       "    </tr>\n",
       "    <tr>\n",
       "      <td>620</td>\n",
       "      <td>1.267200</td>\n",
       "    </tr>\n",
       "    <tr>\n",
       "      <td>630</td>\n",
       "      <td>1.168600</td>\n",
       "    </tr>\n",
       "    <tr>\n",
       "      <td>640</td>\n",
       "      <td>1.304600</td>\n",
       "    </tr>\n",
       "    <tr>\n",
       "      <td>650</td>\n",
       "      <td>1.169500</td>\n",
       "    </tr>\n",
       "    <tr>\n",
       "      <td>660</td>\n",
       "      <td>1.235600</td>\n",
       "    </tr>\n",
       "    <tr>\n",
       "      <td>670</td>\n",
       "      <td>1.124600</td>\n",
       "    </tr>\n",
       "    <tr>\n",
       "      <td>680</td>\n",
       "      <td>1.067700</td>\n",
       "    </tr>\n",
       "    <tr>\n",
       "      <td>690</td>\n",
       "      <td>1.318500</td>\n",
       "    </tr>\n",
       "    <tr>\n",
       "      <td>700</td>\n",
       "      <td>1.240400</td>\n",
       "    </tr>\n",
       "    <tr>\n",
       "      <td>710</td>\n",
       "      <td>1.424100</td>\n",
       "    </tr>\n",
       "    <tr>\n",
       "      <td>720</td>\n",
       "      <td>1.366000</td>\n",
       "    </tr>\n",
       "    <tr>\n",
       "      <td>730</td>\n",
       "      <td>1.111900</td>\n",
       "    </tr>\n",
       "    <tr>\n",
       "      <td>740</td>\n",
       "      <td>1.051200</td>\n",
       "    </tr>\n",
       "    <tr>\n",
       "      <td>750</td>\n",
       "      <td>1.269600</td>\n",
       "    </tr>\n",
       "    <tr>\n",
       "      <td>760</td>\n",
       "      <td>1.180500</td>\n",
       "    </tr>\n",
       "    <tr>\n",
       "      <td>770</td>\n",
       "      <td>1.147500</td>\n",
       "    </tr>\n",
       "    <tr>\n",
       "      <td>780</td>\n",
       "      <td>1.282500</td>\n",
       "    </tr>\n",
       "    <tr>\n",
       "      <td>790</td>\n",
       "      <td>1.161300</td>\n",
       "    </tr>\n",
       "    <tr>\n",
       "      <td>800</td>\n",
       "      <td>1.557400</td>\n",
       "    </tr>\n",
       "    <tr>\n",
       "      <td>810</td>\n",
       "      <td>1.212000</td>\n",
       "    </tr>\n",
       "    <tr>\n",
       "      <td>820</td>\n",
       "      <td>1.068700</td>\n",
       "    </tr>\n",
       "    <tr>\n",
       "      <td>830</td>\n",
       "      <td>1.254400</td>\n",
       "    </tr>\n",
       "    <tr>\n",
       "      <td>840</td>\n",
       "      <td>1.434100</td>\n",
       "    </tr>\n",
       "    <tr>\n",
       "      <td>850</td>\n",
       "      <td>1.129900</td>\n",
       "    </tr>\n",
       "    <tr>\n",
       "      <td>860</td>\n",
       "      <td>1.097300</td>\n",
       "    </tr>\n",
       "    <tr>\n",
       "      <td>870</td>\n",
       "      <td>1.186700</td>\n",
       "    </tr>\n",
       "    <tr>\n",
       "      <td>880</td>\n",
       "      <td>1.177800</td>\n",
       "    </tr>\n",
       "    <tr>\n",
       "      <td>890</td>\n",
       "      <td>1.022000</td>\n",
       "    </tr>\n",
       "    <tr>\n",
       "      <td>900</td>\n",
       "      <td>1.364200</td>\n",
       "    </tr>\n",
       "    <tr>\n",
       "      <td>910</td>\n",
       "      <td>1.070700</td>\n",
       "    </tr>\n",
       "    <tr>\n",
       "      <td>920</td>\n",
       "      <td>1.111300</td>\n",
       "    </tr>\n",
       "    <tr>\n",
       "      <td>930</td>\n",
       "      <td>1.294000</td>\n",
       "    </tr>\n",
       "    <tr>\n",
       "      <td>940</td>\n",
       "      <td>1.085600</td>\n",
       "    </tr>\n",
       "    <tr>\n",
       "      <td>950</td>\n",
       "      <td>0.987600</td>\n",
       "    </tr>\n",
       "    <tr>\n",
       "      <td>960</td>\n",
       "      <td>1.051100</td>\n",
       "    </tr>\n",
       "    <tr>\n",
       "      <td>970</td>\n",
       "      <td>1.428900</td>\n",
       "    </tr>\n",
       "    <tr>\n",
       "      <td>980</td>\n",
       "      <td>1.107500</td>\n",
       "    </tr>\n",
       "    <tr>\n",
       "      <td>990</td>\n",
       "      <td>1.137400</td>\n",
       "    </tr>\n",
       "    <tr>\n",
       "      <td>1000</td>\n",
       "      <td>1.114800</td>\n",
       "    </tr>\n",
       "    <tr>\n",
       "      <td>1010</td>\n",
       "      <td>1.118300</td>\n",
       "    </tr>\n",
       "    <tr>\n",
       "      <td>1020</td>\n",
       "      <td>1.166900</td>\n",
       "    </tr>\n",
       "    <tr>\n",
       "      <td>1030</td>\n",
       "      <td>1.231600</td>\n",
       "    </tr>\n",
       "    <tr>\n",
       "      <td>1040</td>\n",
       "      <td>1.154200</td>\n",
       "    </tr>\n",
       "    <tr>\n",
       "      <td>1050</td>\n",
       "      <td>0.995700</td>\n",
       "    </tr>\n",
       "    <tr>\n",
       "      <td>1060</td>\n",
       "      <td>1.264800</td>\n",
       "    </tr>\n",
       "    <tr>\n",
       "      <td>1070</td>\n",
       "      <td>1.035800</td>\n",
       "    </tr>\n",
       "    <tr>\n",
       "      <td>1080</td>\n",
       "      <td>1.292000</td>\n",
       "    </tr>\n",
       "    <tr>\n",
       "      <td>1090</td>\n",
       "      <td>1.312500</td>\n",
       "    </tr>\n",
       "    <tr>\n",
       "      <td>1100</td>\n",
       "      <td>1.156500</td>\n",
       "    </tr>\n",
       "    <tr>\n",
       "      <td>1110</td>\n",
       "      <td>1.121100</td>\n",
       "    </tr>\n",
       "    <tr>\n",
       "      <td>1120</td>\n",
       "      <td>1.074500</td>\n",
       "    </tr>\n",
       "    <tr>\n",
       "      <td>1130</td>\n",
       "      <td>1.004200</td>\n",
       "    </tr>\n",
       "    <tr>\n",
       "      <td>1140</td>\n",
       "      <td>1.282600</td>\n",
       "    </tr>\n",
       "    <tr>\n",
       "      <td>1150</td>\n",
       "      <td>0.951600</td>\n",
       "    </tr>\n",
       "    <tr>\n",
       "      <td>1160</td>\n",
       "      <td>0.950200</td>\n",
       "    </tr>\n",
       "    <tr>\n",
       "      <td>1170</td>\n",
       "      <td>1.141100</td>\n",
       "    </tr>\n",
       "    <tr>\n",
       "      <td>1180</td>\n",
       "      <td>1.209100</td>\n",
       "    </tr>\n",
       "    <tr>\n",
       "      <td>1190</td>\n",
       "      <td>1.329700</td>\n",
       "    </tr>\n",
       "    <tr>\n",
       "      <td>1200</td>\n",
       "      <td>1.129900</td>\n",
       "    </tr>\n",
       "    <tr>\n",
       "      <td>1210</td>\n",
       "      <td>1.054600</td>\n",
       "    </tr>\n",
       "    <tr>\n",
       "      <td>1220</td>\n",
       "      <td>1.471400</td>\n",
       "    </tr>\n",
       "    <tr>\n",
       "      <td>1230</td>\n",
       "      <td>1.266200</td>\n",
       "    </tr>\n",
       "    <tr>\n",
       "      <td>1240</td>\n",
       "      <td>1.156300</td>\n",
       "    </tr>\n",
       "    <tr>\n",
       "      <td>1250</td>\n",
       "      <td>1.000400</td>\n",
       "    </tr>\n",
       "    <tr>\n",
       "      <td>1260</td>\n",
       "      <td>1.046900</td>\n",
       "    </tr>\n",
       "    <tr>\n",
       "      <td>1270</td>\n",
       "      <td>1.297600</td>\n",
       "    </tr>\n",
       "    <tr>\n",
       "      <td>1280</td>\n",
       "      <td>1.151900</td>\n",
       "    </tr>\n",
       "    <tr>\n",
       "      <td>1290</td>\n",
       "      <td>1.234700</td>\n",
       "    </tr>\n",
       "    <tr>\n",
       "      <td>1300</td>\n",
       "      <td>1.273200</td>\n",
       "    </tr>\n",
       "    <tr>\n",
       "      <td>1310</td>\n",
       "      <td>0.989000</td>\n",
       "    </tr>\n",
       "    <tr>\n",
       "      <td>1320</td>\n",
       "      <td>1.292500</td>\n",
       "    </tr>\n",
       "    <tr>\n",
       "      <td>1330</td>\n",
       "      <td>0.984600</td>\n",
       "    </tr>\n",
       "    <tr>\n",
       "      <td>1340</td>\n",
       "      <td>1.025100</td>\n",
       "    </tr>\n",
       "    <tr>\n",
       "      <td>1350</td>\n",
       "      <td>1.078600</td>\n",
       "    </tr>\n",
       "    <tr>\n",
       "      <td>1360</td>\n",
       "      <td>1.356700</td>\n",
       "    </tr>\n",
       "    <tr>\n",
       "      <td>1370</td>\n",
       "      <td>1.282800</td>\n",
       "    </tr>\n",
       "    <tr>\n",
       "      <td>1380</td>\n",
       "      <td>1.215800</td>\n",
       "    </tr>\n",
       "    <tr>\n",
       "      <td>1390</td>\n",
       "      <td>1.100400</td>\n",
       "    </tr>\n",
       "    <tr>\n",
       "      <td>1400</td>\n",
       "      <td>1.479400</td>\n",
       "    </tr>\n",
       "    <tr>\n",
       "      <td>1410</td>\n",
       "      <td>1.113600</td>\n",
       "    </tr>\n",
       "    <tr>\n",
       "      <td>1420</td>\n",
       "      <td>1.262800</td>\n",
       "    </tr>\n",
       "    <tr>\n",
       "      <td>1430</td>\n",
       "      <td>0.890500</td>\n",
       "    </tr>\n",
       "    <tr>\n",
       "      <td>1440</td>\n",
       "      <td>1.112600</td>\n",
       "    </tr>\n",
       "    <tr>\n",
       "      <td>1450</td>\n",
       "      <td>1.057600</td>\n",
       "    </tr>\n",
       "    <tr>\n",
       "      <td>1460</td>\n",
       "      <td>1.003600</td>\n",
       "    </tr>\n",
       "    <tr>\n",
       "      <td>1470</td>\n",
       "      <td>0.970000</td>\n",
       "    </tr>\n",
       "    <tr>\n",
       "      <td>1480</td>\n",
       "      <td>1.346900</td>\n",
       "    </tr>\n",
       "    <tr>\n",
       "      <td>1490</td>\n",
       "      <td>0.979500</td>\n",
       "    </tr>\n",
       "    <tr>\n",
       "      <td>1500</td>\n",
       "      <td>1.246300</td>\n",
       "    </tr>\n",
       "    <tr>\n",
       "      <td>1510</td>\n",
       "      <td>1.003900</td>\n",
       "    </tr>\n",
       "    <tr>\n",
       "      <td>1520</td>\n",
       "      <td>1.195600</td>\n",
       "    </tr>\n",
       "    <tr>\n",
       "      <td>1530</td>\n",
       "      <td>1.089200</td>\n",
       "    </tr>\n",
       "    <tr>\n",
       "      <td>1540</td>\n",
       "      <td>0.971300</td>\n",
       "    </tr>\n",
       "    <tr>\n",
       "      <td>1550</td>\n",
       "      <td>1.000700</td>\n",
       "    </tr>\n",
       "    <tr>\n",
       "      <td>1560</td>\n",
       "      <td>0.997900</td>\n",
       "    </tr>\n",
       "    <tr>\n",
       "      <td>1570</td>\n",
       "      <td>1.078900</td>\n",
       "    </tr>\n",
       "    <tr>\n",
       "      <td>1580</td>\n",
       "      <td>0.911900</td>\n",
       "    </tr>\n",
       "    <tr>\n",
       "      <td>1590</td>\n",
       "      <td>1.278900</td>\n",
       "    </tr>\n",
       "    <tr>\n",
       "      <td>1600</td>\n",
       "      <td>1.014700</td>\n",
       "    </tr>\n",
       "    <tr>\n",
       "      <td>1610</td>\n",
       "      <td>1.178500</td>\n",
       "    </tr>\n",
       "    <tr>\n",
       "      <td>1620</td>\n",
       "      <td>1.180700</td>\n",
       "    </tr>\n",
       "    <tr>\n",
       "      <td>1630</td>\n",
       "      <td>1.012000</td>\n",
       "    </tr>\n",
       "    <tr>\n",
       "      <td>1640</td>\n",
       "      <td>0.790300</td>\n",
       "    </tr>\n",
       "    <tr>\n",
       "      <td>1650</td>\n",
       "      <td>1.131000</td>\n",
       "    </tr>\n",
       "    <tr>\n",
       "      <td>1660</td>\n",
       "      <td>1.023700</td>\n",
       "    </tr>\n",
       "    <tr>\n",
       "      <td>1670</td>\n",
       "      <td>0.971500</td>\n",
       "    </tr>\n",
       "    <tr>\n",
       "      <td>1680</td>\n",
       "      <td>1.077300</td>\n",
       "    </tr>\n",
       "    <tr>\n",
       "      <td>1690</td>\n",
       "      <td>1.024700</td>\n",
       "    </tr>\n",
       "    <tr>\n",
       "      <td>1700</td>\n",
       "      <td>1.246000</td>\n",
       "    </tr>\n",
       "    <tr>\n",
       "      <td>1710</td>\n",
       "      <td>1.018800</td>\n",
       "    </tr>\n",
       "    <tr>\n",
       "      <td>1720</td>\n",
       "      <td>0.920000</td>\n",
       "    </tr>\n",
       "    <tr>\n",
       "      <td>1730</td>\n",
       "      <td>1.112700</td>\n",
       "    </tr>\n",
       "    <tr>\n",
       "      <td>1740</td>\n",
       "      <td>1.062300</td>\n",
       "    </tr>\n",
       "    <tr>\n",
       "      <td>1750</td>\n",
       "      <td>1.258900</td>\n",
       "    </tr>\n",
       "    <tr>\n",
       "      <td>1760</td>\n",
       "      <td>0.998300</td>\n",
       "    </tr>\n",
       "    <tr>\n",
       "      <td>1770</td>\n",
       "      <td>1.144900</td>\n",
       "    </tr>\n",
       "    <tr>\n",
       "      <td>1780</td>\n",
       "      <td>1.022900</td>\n",
       "    </tr>\n",
       "    <tr>\n",
       "      <td>1790</td>\n",
       "      <td>0.922000</td>\n",
       "    </tr>\n",
       "    <tr>\n",
       "      <td>1800</td>\n",
       "      <td>0.917400</td>\n",
       "    </tr>\n",
       "    <tr>\n",
       "      <td>1810</td>\n",
       "      <td>1.078700</td>\n",
       "    </tr>\n",
       "    <tr>\n",
       "      <td>1820</td>\n",
       "      <td>1.079700</td>\n",
       "    </tr>\n",
       "    <tr>\n",
       "      <td>1830</td>\n",
       "      <td>1.166700</td>\n",
       "    </tr>\n",
       "    <tr>\n",
       "      <td>1840</td>\n",
       "      <td>1.241700</td>\n",
       "    </tr>\n",
       "    <tr>\n",
       "      <td>1850</td>\n",
       "      <td>1.039200</td>\n",
       "    </tr>\n",
       "    <tr>\n",
       "      <td>1860</td>\n",
       "      <td>1.120700</td>\n",
       "    </tr>\n",
       "    <tr>\n",
       "      <td>1870</td>\n",
       "      <td>0.941700</td>\n",
       "    </tr>\n",
       "    <tr>\n",
       "      <td>1880</td>\n",
       "      <td>0.928800</td>\n",
       "    </tr>\n",
       "    <tr>\n",
       "      <td>1890</td>\n",
       "      <td>1.086000</td>\n",
       "    </tr>\n",
       "    <tr>\n",
       "      <td>1900</td>\n",
       "      <td>1.079400</td>\n",
       "    </tr>\n",
       "    <tr>\n",
       "      <td>1910</td>\n",
       "      <td>0.891600</td>\n",
       "    </tr>\n",
       "    <tr>\n",
       "      <td>1920</td>\n",
       "      <td>1.125200</td>\n",
       "    </tr>\n",
       "    <tr>\n",
       "      <td>1930</td>\n",
       "      <td>1.064300</td>\n",
       "    </tr>\n",
       "    <tr>\n",
       "      <td>1940</td>\n",
       "      <td>1.096100</td>\n",
       "    </tr>\n",
       "    <tr>\n",
       "      <td>1950</td>\n",
       "      <td>0.916700</td>\n",
       "    </tr>\n",
       "    <tr>\n",
       "      <td>1960</td>\n",
       "      <td>1.057300</td>\n",
       "    </tr>\n",
       "    <tr>\n",
       "      <td>1970</td>\n",
       "      <td>1.003000</td>\n",
       "    </tr>\n",
       "    <tr>\n",
       "      <td>1980</td>\n",
       "      <td>0.987000</td>\n",
       "    </tr>\n",
       "    <tr>\n",
       "      <td>1990</td>\n",
       "      <td>1.108700</td>\n",
       "    </tr>\n",
       "    <tr>\n",
       "      <td>2000</td>\n",
       "      <td>1.223000</td>\n",
       "    </tr>\n",
       "    <tr>\n",
       "      <td>2010</td>\n",
       "      <td>1.058500</td>\n",
       "    </tr>\n",
       "    <tr>\n",
       "      <td>2020</td>\n",
       "      <td>0.972100</td>\n",
       "    </tr>\n",
       "    <tr>\n",
       "      <td>2030</td>\n",
       "      <td>1.230600</td>\n",
       "    </tr>\n",
       "    <tr>\n",
       "      <td>2040</td>\n",
       "      <td>1.175200</td>\n",
       "    </tr>\n",
       "    <tr>\n",
       "      <td>2050</td>\n",
       "      <td>0.944900</td>\n",
       "    </tr>\n",
       "    <tr>\n",
       "      <td>2060</td>\n",
       "      <td>1.003500</td>\n",
       "    </tr>\n",
       "    <tr>\n",
       "      <td>2070</td>\n",
       "      <td>1.048000</td>\n",
       "    </tr>\n",
       "    <tr>\n",
       "      <td>2080</td>\n",
       "      <td>0.968500</td>\n",
       "    </tr>\n",
       "    <tr>\n",
       "      <td>2090</td>\n",
       "      <td>1.106500</td>\n",
       "    </tr>\n",
       "    <tr>\n",
       "      <td>2100</td>\n",
       "      <td>1.000600</td>\n",
       "    </tr>\n",
       "    <tr>\n",
       "      <td>2110</td>\n",
       "      <td>1.011500</td>\n",
       "    </tr>\n",
       "    <tr>\n",
       "      <td>2120</td>\n",
       "      <td>0.967500</td>\n",
       "    </tr>\n",
       "    <tr>\n",
       "      <td>2130</td>\n",
       "      <td>1.015000</td>\n",
       "    </tr>\n",
       "    <tr>\n",
       "      <td>2140</td>\n",
       "      <td>0.923600</td>\n",
       "    </tr>\n",
       "    <tr>\n",
       "      <td>2150</td>\n",
       "      <td>1.178600</td>\n",
       "    </tr>\n",
       "    <tr>\n",
       "      <td>2160</td>\n",
       "      <td>1.045300</td>\n",
       "    </tr>\n",
       "    <tr>\n",
       "      <td>2170</td>\n",
       "      <td>0.933200</td>\n",
       "    </tr>\n",
       "    <tr>\n",
       "      <td>2180</td>\n",
       "      <td>0.899800</td>\n",
       "    </tr>\n",
       "    <tr>\n",
       "      <td>2190</td>\n",
       "      <td>0.995200</td>\n",
       "    </tr>\n",
       "    <tr>\n",
       "      <td>2200</td>\n",
       "      <td>0.966300</td>\n",
       "    </tr>\n",
       "    <tr>\n",
       "      <td>2210</td>\n",
       "      <td>0.684000</td>\n",
       "    </tr>\n",
       "    <tr>\n",
       "      <td>2220</td>\n",
       "      <td>1.343000</td>\n",
       "    </tr>\n",
       "    <tr>\n",
       "      <td>2230</td>\n",
       "      <td>1.093400</td>\n",
       "    </tr>\n",
       "    <tr>\n",
       "      <td>2240</td>\n",
       "      <td>0.973600</td>\n",
       "    </tr>\n",
       "    <tr>\n",
       "      <td>2250</td>\n",
       "      <td>1.076600</td>\n",
       "    </tr>\n",
       "    <tr>\n",
       "      <td>2260</td>\n",
       "      <td>1.020700</td>\n",
       "    </tr>\n",
       "    <tr>\n",
       "      <td>2270</td>\n",
       "      <td>1.046500</td>\n",
       "    </tr>\n",
       "    <tr>\n",
       "      <td>2280</td>\n",
       "      <td>0.863600</td>\n",
       "    </tr>\n",
       "    <tr>\n",
       "      <td>2290</td>\n",
       "      <td>1.084500</td>\n",
       "    </tr>\n",
       "    <tr>\n",
       "      <td>2300</td>\n",
       "      <td>1.038000</td>\n",
       "    </tr>\n",
       "    <tr>\n",
       "      <td>2310</td>\n",
       "      <td>0.980400</td>\n",
       "    </tr>\n",
       "    <tr>\n",
       "      <td>2320</td>\n",
       "      <td>1.046000</td>\n",
       "    </tr>\n",
       "    <tr>\n",
       "      <td>2330</td>\n",
       "      <td>1.227300</td>\n",
       "    </tr>\n",
       "    <tr>\n",
       "      <td>2340</td>\n",
       "      <td>1.132300</td>\n",
       "    </tr>\n",
       "    <tr>\n",
       "      <td>2350</td>\n",
       "      <td>0.790100</td>\n",
       "    </tr>\n",
       "    <tr>\n",
       "      <td>2360</td>\n",
       "      <td>1.128900</td>\n",
       "    </tr>\n",
       "    <tr>\n",
       "      <td>2370</td>\n",
       "      <td>1.026900</td>\n",
       "    </tr>\n",
       "    <tr>\n",
       "      <td>2380</td>\n",
       "      <td>0.801400</td>\n",
       "    </tr>\n",
       "    <tr>\n",
       "      <td>2390</td>\n",
       "      <td>0.775200</td>\n",
       "    </tr>\n",
       "    <tr>\n",
       "      <td>2400</td>\n",
       "      <td>0.955400</td>\n",
       "    </tr>\n",
       "    <tr>\n",
       "      <td>2410</td>\n",
       "      <td>1.014600</td>\n",
       "    </tr>\n",
       "    <tr>\n",
       "      <td>2420</td>\n",
       "      <td>1.212000</td>\n",
       "    </tr>\n",
       "    <tr>\n",
       "      <td>2430</td>\n",
       "      <td>0.808900</td>\n",
       "    </tr>\n",
       "    <tr>\n",
       "      <td>2440</td>\n",
       "      <td>1.184600</td>\n",
       "    </tr>\n",
       "    <tr>\n",
       "      <td>2450</td>\n",
       "      <td>0.958100</td>\n",
       "    </tr>\n",
       "    <tr>\n",
       "      <td>2460</td>\n",
       "      <td>1.160000</td>\n",
       "    </tr>\n",
       "    <tr>\n",
       "      <td>2470</td>\n",
       "      <td>1.080500</td>\n",
       "    </tr>\n",
       "    <tr>\n",
       "      <td>2480</td>\n",
       "      <td>0.801500</td>\n",
       "    </tr>\n",
       "    <tr>\n",
       "      <td>2490</td>\n",
       "      <td>1.002700</td>\n",
       "    </tr>\n",
       "    <tr>\n",
       "      <td>2500</td>\n",
       "      <td>1.363600</td>\n",
       "    </tr>\n",
       "    <tr>\n",
       "      <td>2510</td>\n",
       "      <td>0.929200</td>\n",
       "    </tr>\n",
       "    <tr>\n",
       "      <td>2520</td>\n",
       "      <td>0.936000</td>\n",
       "    </tr>\n",
       "    <tr>\n",
       "      <td>2530</td>\n",
       "      <td>1.195800</td>\n",
       "    </tr>\n",
       "    <tr>\n",
       "      <td>2540</td>\n",
       "      <td>1.197000</td>\n",
       "    </tr>\n",
       "    <tr>\n",
       "      <td>2550</td>\n",
       "      <td>0.877000</td>\n",
       "    </tr>\n",
       "    <tr>\n",
       "      <td>2560</td>\n",
       "      <td>0.952700</td>\n",
       "    </tr>\n",
       "    <tr>\n",
       "      <td>2570</td>\n",
       "      <td>0.956000</td>\n",
       "    </tr>\n",
       "    <tr>\n",
       "      <td>2580</td>\n",
       "      <td>0.873900</td>\n",
       "    </tr>\n",
       "    <tr>\n",
       "      <td>2590</td>\n",
       "      <td>1.211500</td>\n",
       "    </tr>\n",
       "    <tr>\n",
       "      <td>2600</td>\n",
       "      <td>1.048100</td>\n",
       "    </tr>\n",
       "    <tr>\n",
       "      <td>2610</td>\n",
       "      <td>1.073800</td>\n",
       "    </tr>\n",
       "    <tr>\n",
       "      <td>2620</td>\n",
       "      <td>0.854600</td>\n",
       "    </tr>\n",
       "    <tr>\n",
       "      <td>2630</td>\n",
       "      <td>0.899100</td>\n",
       "    </tr>\n",
       "    <tr>\n",
       "      <td>2640</td>\n",
       "      <td>1.002600</td>\n",
       "    </tr>\n",
       "    <tr>\n",
       "      <td>2650</td>\n",
       "      <td>0.884600</td>\n",
       "    </tr>\n",
       "    <tr>\n",
       "      <td>2660</td>\n",
       "      <td>1.187600</td>\n",
       "    </tr>\n",
       "    <tr>\n",
       "      <td>2670</td>\n",
       "      <td>0.964500</td>\n",
       "    </tr>\n",
       "    <tr>\n",
       "      <td>2680</td>\n",
       "      <td>1.015900</td>\n",
       "    </tr>\n",
       "    <tr>\n",
       "      <td>2690</td>\n",
       "      <td>1.079400</td>\n",
       "    </tr>\n",
       "    <tr>\n",
       "      <td>2700</td>\n",
       "      <td>1.109900</td>\n",
       "    </tr>\n",
       "    <tr>\n",
       "      <td>2710</td>\n",
       "      <td>1.145100</td>\n",
       "    </tr>\n",
       "    <tr>\n",
       "      <td>2720</td>\n",
       "      <td>0.864300</td>\n",
       "    </tr>\n",
       "    <tr>\n",
       "      <td>2730</td>\n",
       "      <td>0.968600</td>\n",
       "    </tr>\n",
       "    <tr>\n",
       "      <td>2740</td>\n",
       "      <td>1.073900</td>\n",
       "    </tr>\n",
       "    <tr>\n",
       "      <td>2750</td>\n",
       "      <td>1.005700</td>\n",
       "    </tr>\n",
       "    <tr>\n",
       "      <td>2760</td>\n",
       "      <td>0.989300</td>\n",
       "    </tr>\n",
       "    <tr>\n",
       "      <td>2770</td>\n",
       "      <td>0.823900</td>\n",
       "    </tr>\n",
       "    <tr>\n",
       "      <td>2780</td>\n",
       "      <td>0.993000</td>\n",
       "    </tr>\n",
       "    <tr>\n",
       "      <td>2790</td>\n",
       "      <td>0.891200</td>\n",
       "    </tr>\n",
       "    <tr>\n",
       "      <td>2800</td>\n",
       "      <td>0.870000</td>\n",
       "    </tr>\n",
       "    <tr>\n",
       "      <td>2810</td>\n",
       "      <td>1.063000</td>\n",
       "    </tr>\n",
       "    <tr>\n",
       "      <td>2820</td>\n",
       "      <td>0.880600</td>\n",
       "    </tr>\n",
       "    <tr>\n",
       "      <td>2830</td>\n",
       "      <td>1.016800</td>\n",
       "    </tr>\n",
       "    <tr>\n",
       "      <td>2840</td>\n",
       "      <td>1.022100</td>\n",
       "    </tr>\n",
       "    <tr>\n",
       "      <td>2850</td>\n",
       "      <td>1.200100</td>\n",
       "    </tr>\n",
       "    <tr>\n",
       "      <td>2860</td>\n",
       "      <td>1.021900</td>\n",
       "    </tr>\n",
       "    <tr>\n",
       "      <td>2870</td>\n",
       "      <td>1.009200</td>\n",
       "    </tr>\n",
       "    <tr>\n",
       "      <td>2880</td>\n",
       "      <td>0.752700</td>\n",
       "    </tr>\n",
       "    <tr>\n",
       "      <td>2890</td>\n",
       "      <td>1.042400</td>\n",
       "    </tr>\n",
       "    <tr>\n",
       "      <td>2900</td>\n",
       "      <td>1.188400</td>\n",
       "    </tr>\n",
       "    <tr>\n",
       "      <td>2910</td>\n",
       "      <td>0.917600</td>\n",
       "    </tr>\n",
       "    <tr>\n",
       "      <td>2920</td>\n",
       "      <td>1.021200</td>\n",
       "    </tr>\n",
       "    <tr>\n",
       "      <td>2930</td>\n",
       "      <td>0.859000</td>\n",
       "    </tr>\n",
       "    <tr>\n",
       "      <td>2940</td>\n",
       "      <td>0.947600</td>\n",
       "    </tr>\n",
       "    <tr>\n",
       "      <td>2950</td>\n",
       "      <td>1.038700</td>\n",
       "    </tr>\n",
       "    <tr>\n",
       "      <td>2960</td>\n",
       "      <td>0.776200</td>\n",
       "    </tr>\n",
       "    <tr>\n",
       "      <td>2970</td>\n",
       "      <td>1.077500</td>\n",
       "    </tr>\n",
       "    <tr>\n",
       "      <td>2980</td>\n",
       "      <td>1.227700</td>\n",
       "    </tr>\n",
       "    <tr>\n",
       "      <td>2990</td>\n",
       "      <td>1.266800</td>\n",
       "    </tr>\n",
       "    <tr>\n",
       "      <td>3000</td>\n",
       "      <td>1.273400</td>\n",
       "    </tr>\n",
       "    <tr>\n",
       "      <td>3010</td>\n",
       "      <td>1.042800</td>\n",
       "    </tr>\n",
       "    <tr>\n",
       "      <td>3020</td>\n",
       "      <td>1.008400</td>\n",
       "    </tr>\n",
       "    <tr>\n",
       "      <td>3030</td>\n",
       "      <td>1.032800</td>\n",
       "    </tr>\n",
       "    <tr>\n",
       "      <td>3040</td>\n",
       "      <td>1.008000</td>\n",
       "    </tr>\n",
       "    <tr>\n",
       "      <td>3050</td>\n",
       "      <td>0.868400</td>\n",
       "    </tr>\n",
       "    <tr>\n",
       "      <td>3060</td>\n",
       "      <td>1.234400</td>\n",
       "    </tr>\n",
       "    <tr>\n",
       "      <td>3070</td>\n",
       "      <td>1.167000</td>\n",
       "    </tr>\n",
       "    <tr>\n",
       "      <td>3080</td>\n",
       "      <td>0.840800</td>\n",
       "    </tr>\n",
       "    <tr>\n",
       "      <td>3090</td>\n",
       "      <td>1.031800</td>\n",
       "    </tr>\n",
       "    <tr>\n",
       "      <td>3100</td>\n",
       "      <td>1.083400</td>\n",
       "    </tr>\n",
       "    <tr>\n",
       "      <td>3110</td>\n",
       "      <td>1.133900</td>\n",
       "    </tr>\n",
       "    <tr>\n",
       "      <td>3120</td>\n",
       "      <td>0.924000</td>\n",
       "    </tr>\n",
       "    <tr>\n",
       "      <td>3130</td>\n",
       "      <td>0.868000</td>\n",
       "    </tr>\n",
       "    <tr>\n",
       "      <td>3140</td>\n",
       "      <td>1.077900</td>\n",
       "    </tr>\n",
       "    <tr>\n",
       "      <td>3150</td>\n",
       "      <td>0.941200</td>\n",
       "    </tr>\n",
       "    <tr>\n",
       "      <td>3160</td>\n",
       "      <td>0.792600</td>\n",
       "    </tr>\n",
       "    <tr>\n",
       "      <td>3170</td>\n",
       "      <td>1.069800</td>\n",
       "    </tr>\n",
       "    <tr>\n",
       "      <td>3180</td>\n",
       "      <td>0.854200</td>\n",
       "    </tr>\n",
       "    <tr>\n",
       "      <td>3190</td>\n",
       "      <td>0.808000</td>\n",
       "    </tr>\n",
       "    <tr>\n",
       "      <td>3200</td>\n",
       "      <td>0.926800</td>\n",
       "    </tr>\n",
       "    <tr>\n",
       "      <td>3210</td>\n",
       "      <td>0.906700</td>\n",
       "    </tr>\n",
       "    <tr>\n",
       "      <td>3220</td>\n",
       "      <td>0.734600</td>\n",
       "    </tr>\n",
       "    <tr>\n",
       "      <td>3230</td>\n",
       "      <td>1.055200</td>\n",
       "    </tr>\n",
       "    <tr>\n",
       "      <td>3240</td>\n",
       "      <td>1.182700</td>\n",
       "    </tr>\n",
       "    <tr>\n",
       "      <td>3250</td>\n",
       "      <td>0.847900</td>\n",
       "    </tr>\n",
       "    <tr>\n",
       "      <td>3260</td>\n",
       "      <td>0.772200</td>\n",
       "    </tr>\n",
       "    <tr>\n",
       "      <td>3270</td>\n",
       "      <td>0.957300</td>\n",
       "    </tr>\n",
       "    <tr>\n",
       "      <td>3280</td>\n",
       "      <td>0.756200</td>\n",
       "    </tr>\n",
       "    <tr>\n",
       "      <td>3290</td>\n",
       "      <td>0.855800</td>\n",
       "    </tr>\n",
       "    <tr>\n",
       "      <td>3300</td>\n",
       "      <td>0.826600</td>\n",
       "    </tr>\n",
       "    <tr>\n",
       "      <td>3310</td>\n",
       "      <td>0.967700</td>\n",
       "    </tr>\n",
       "    <tr>\n",
       "      <td>3320</td>\n",
       "      <td>0.811100</td>\n",
       "    </tr>\n",
       "    <tr>\n",
       "      <td>3330</td>\n",
       "      <td>0.918900</td>\n",
       "    </tr>\n",
       "    <tr>\n",
       "      <td>3340</td>\n",
       "      <td>1.163300</td>\n",
       "    </tr>\n",
       "    <tr>\n",
       "      <td>3350</td>\n",
       "      <td>1.002000</td>\n",
       "    </tr>\n",
       "    <tr>\n",
       "      <td>3360</td>\n",
       "      <td>0.930800</td>\n",
       "    </tr>\n",
       "    <tr>\n",
       "      <td>3370</td>\n",
       "      <td>1.058200</td>\n",
       "    </tr>\n",
       "    <tr>\n",
       "      <td>3380</td>\n",
       "      <td>0.957200</td>\n",
       "    </tr>\n",
       "    <tr>\n",
       "      <td>3390</td>\n",
       "      <td>0.941700</td>\n",
       "    </tr>\n",
       "    <tr>\n",
       "      <td>3400</td>\n",
       "      <td>1.040900</td>\n",
       "    </tr>\n",
       "    <tr>\n",
       "      <td>3410</td>\n",
       "      <td>1.048800</td>\n",
       "    </tr>\n",
       "    <tr>\n",
       "      <td>3420</td>\n",
       "      <td>1.228400</td>\n",
       "    </tr>\n",
       "    <tr>\n",
       "      <td>3430</td>\n",
       "      <td>0.865200</td>\n",
       "    </tr>\n",
       "    <tr>\n",
       "      <td>3440</td>\n",
       "      <td>0.938900</td>\n",
       "    </tr>\n",
       "    <tr>\n",
       "      <td>3450</td>\n",
       "      <td>1.073300</td>\n",
       "    </tr>\n",
       "    <tr>\n",
       "      <td>3460</td>\n",
       "      <td>0.917200</td>\n",
       "    </tr>\n",
       "    <tr>\n",
       "      <td>3470</td>\n",
       "      <td>0.898900</td>\n",
       "    </tr>\n",
       "    <tr>\n",
       "      <td>3480</td>\n",
       "      <td>1.238800</td>\n",
       "    </tr>\n",
       "    <tr>\n",
       "      <td>3490</td>\n",
       "      <td>0.960900</td>\n",
       "    </tr>\n",
       "    <tr>\n",
       "      <td>3500</td>\n",
       "      <td>0.893900</td>\n",
       "    </tr>\n",
       "    <tr>\n",
       "      <td>3510</td>\n",
       "      <td>1.084900</td>\n",
       "    </tr>\n",
       "    <tr>\n",
       "      <td>3520</td>\n",
       "      <td>0.871900</td>\n",
       "    </tr>\n",
       "    <tr>\n",
       "      <td>3530</td>\n",
       "      <td>0.911900</td>\n",
       "    </tr>\n",
       "    <tr>\n",
       "      <td>3540</td>\n",
       "      <td>1.219700</td>\n",
       "    </tr>\n",
       "    <tr>\n",
       "      <td>3550</td>\n",
       "      <td>0.917000</td>\n",
       "    </tr>\n",
       "    <tr>\n",
       "      <td>3560</td>\n",
       "      <td>1.047500</td>\n",
       "    </tr>\n",
       "    <tr>\n",
       "      <td>3570</td>\n",
       "      <td>0.920800</td>\n",
       "    </tr>\n",
       "    <tr>\n",
       "      <td>3580</td>\n",
       "      <td>0.910700</td>\n",
       "    </tr>\n",
       "    <tr>\n",
       "      <td>3590</td>\n",
       "      <td>1.043600</td>\n",
       "    </tr>\n",
       "    <tr>\n",
       "      <td>3600</td>\n",
       "      <td>0.923200</td>\n",
       "    </tr>\n",
       "    <tr>\n",
       "      <td>3610</td>\n",
       "      <td>0.990800</td>\n",
       "    </tr>\n",
       "    <tr>\n",
       "      <td>3620</td>\n",
       "      <td>0.923200</td>\n",
       "    </tr>\n",
       "    <tr>\n",
       "      <td>3630</td>\n",
       "      <td>0.852100</td>\n",
       "    </tr>\n",
       "    <tr>\n",
       "      <td>3640</td>\n",
       "      <td>1.059800</td>\n",
       "    </tr>\n",
       "    <tr>\n",
       "      <td>3650</td>\n",
       "      <td>1.092900</td>\n",
       "    </tr>\n",
       "    <tr>\n",
       "      <td>3660</td>\n",
       "      <td>0.821000</td>\n",
       "    </tr>\n",
       "    <tr>\n",
       "      <td>3670</td>\n",
       "      <td>1.045000</td>\n",
       "    </tr>\n",
       "    <tr>\n",
       "      <td>3680</td>\n",
       "      <td>0.843300</td>\n",
       "    </tr>\n",
       "    <tr>\n",
       "      <td>3690</td>\n",
       "      <td>1.133500</td>\n",
       "    </tr>\n",
       "    <tr>\n",
       "      <td>3700</td>\n",
       "      <td>0.998000</td>\n",
       "    </tr>\n",
       "    <tr>\n",
       "      <td>3710</td>\n",
       "      <td>0.814600</td>\n",
       "    </tr>\n",
       "    <tr>\n",
       "      <td>3720</td>\n",
       "      <td>1.112100</td>\n",
       "    </tr>\n",
       "    <tr>\n",
       "      <td>3730</td>\n",
       "      <td>1.069700</td>\n",
       "    </tr>\n",
       "    <tr>\n",
       "      <td>3740</td>\n",
       "      <td>0.763000</td>\n",
       "    </tr>\n",
       "    <tr>\n",
       "      <td>3750</td>\n",
       "      <td>0.927400</td>\n",
       "    </tr>\n",
       "    <tr>\n",
       "      <td>3760</td>\n",
       "      <td>0.881500</td>\n",
       "    </tr>\n",
       "    <tr>\n",
       "      <td>3770</td>\n",
       "      <td>0.904300</td>\n",
       "    </tr>\n",
       "    <tr>\n",
       "      <td>3780</td>\n",
       "      <td>0.908800</td>\n",
       "    </tr>\n",
       "    <tr>\n",
       "      <td>3790</td>\n",
       "      <td>0.777700</td>\n",
       "    </tr>\n",
       "    <tr>\n",
       "      <td>3800</td>\n",
       "      <td>0.801900</td>\n",
       "    </tr>\n",
       "    <tr>\n",
       "      <td>3810</td>\n",
       "      <td>0.956900</td>\n",
       "    </tr>\n",
       "    <tr>\n",
       "      <td>3820</td>\n",
       "      <td>0.881500</td>\n",
       "    </tr>\n",
       "    <tr>\n",
       "      <td>3830</td>\n",
       "      <td>0.895200</td>\n",
       "    </tr>\n",
       "    <tr>\n",
       "      <td>3840</td>\n",
       "      <td>0.977000</td>\n",
       "    </tr>\n",
       "    <tr>\n",
       "      <td>3850</td>\n",
       "      <td>0.845300</td>\n",
       "    </tr>\n",
       "    <tr>\n",
       "      <td>3860</td>\n",
       "      <td>0.775200</td>\n",
       "    </tr>\n",
       "    <tr>\n",
       "      <td>3870</td>\n",
       "      <td>0.851200</td>\n",
       "    </tr>\n",
       "    <tr>\n",
       "      <td>3880</td>\n",
       "      <td>0.971400</td>\n",
       "    </tr>\n",
       "    <tr>\n",
       "      <td>3890</td>\n",
       "      <td>1.025500</td>\n",
       "    </tr>\n",
       "    <tr>\n",
       "      <td>3900</td>\n",
       "      <td>0.983800</td>\n",
       "    </tr>\n",
       "    <tr>\n",
       "      <td>3910</td>\n",
       "      <td>1.136300</td>\n",
       "    </tr>\n",
       "    <tr>\n",
       "      <td>3920</td>\n",
       "      <td>1.150900</td>\n",
       "    </tr>\n",
       "    <tr>\n",
       "      <td>3930</td>\n",
       "      <td>0.977100</td>\n",
       "    </tr>\n",
       "    <tr>\n",
       "      <td>3940</td>\n",
       "      <td>1.144600</td>\n",
       "    </tr>\n",
       "    <tr>\n",
       "      <td>3950</td>\n",
       "      <td>1.004800</td>\n",
       "    </tr>\n",
       "    <tr>\n",
       "      <td>3960</td>\n",
       "      <td>0.990100</td>\n",
       "    </tr>\n",
       "    <tr>\n",
       "      <td>3970</td>\n",
       "      <td>0.957900</td>\n",
       "    </tr>\n",
       "    <tr>\n",
       "      <td>3980</td>\n",
       "      <td>0.827200</td>\n",
       "    </tr>\n",
       "    <tr>\n",
       "      <td>3990</td>\n",
       "      <td>1.151600</td>\n",
       "    </tr>\n",
       "    <tr>\n",
       "      <td>4000</td>\n",
       "      <td>0.962400</td>\n",
       "    </tr>\n",
       "    <tr>\n",
       "      <td>4010</td>\n",
       "      <td>0.867000</td>\n",
       "    </tr>\n",
       "    <tr>\n",
       "      <td>4020</td>\n",
       "      <td>0.968100</td>\n",
       "    </tr>\n",
       "    <tr>\n",
       "      <td>4030</td>\n",
       "      <td>1.023300</td>\n",
       "    </tr>\n",
       "    <tr>\n",
       "      <td>4040</td>\n",
       "      <td>0.922700</td>\n",
       "    </tr>\n",
       "    <tr>\n",
       "      <td>4050</td>\n",
       "      <td>0.706400</td>\n",
       "    </tr>\n",
       "    <tr>\n",
       "      <td>4060</td>\n",
       "      <td>0.968300</td>\n",
       "    </tr>\n",
       "    <tr>\n",
       "      <td>4070</td>\n",
       "      <td>0.960300</td>\n",
       "    </tr>\n",
       "    <tr>\n",
       "      <td>4080</td>\n",
       "      <td>0.763700</td>\n",
       "    </tr>\n",
       "    <tr>\n",
       "      <td>4090</td>\n",
       "      <td>0.845700</td>\n",
       "    </tr>\n",
       "    <tr>\n",
       "      <td>4100</td>\n",
       "      <td>0.913900</td>\n",
       "    </tr>\n",
       "    <tr>\n",
       "      <td>4110</td>\n",
       "      <td>0.800300</td>\n",
       "    </tr>\n",
       "    <tr>\n",
       "      <td>4120</td>\n",
       "      <td>0.860200</td>\n",
       "    </tr>\n",
       "    <tr>\n",
       "      <td>4130</td>\n",
       "      <td>1.073000</td>\n",
       "    </tr>\n",
       "    <tr>\n",
       "      <td>4140</td>\n",
       "      <td>0.876400</td>\n",
       "    </tr>\n",
       "    <tr>\n",
       "      <td>4150</td>\n",
       "      <td>0.886600</td>\n",
       "    </tr>\n",
       "    <tr>\n",
       "      <td>4160</td>\n",
       "      <td>0.978100</td>\n",
       "    </tr>\n",
       "    <tr>\n",
       "      <td>4170</td>\n",
       "      <td>0.966100</td>\n",
       "    </tr>\n",
       "    <tr>\n",
       "      <td>4180</td>\n",
       "      <td>1.086300</td>\n",
       "    </tr>\n",
       "    <tr>\n",
       "      <td>4190</td>\n",
       "      <td>0.838000</td>\n",
       "    </tr>\n",
       "    <tr>\n",
       "      <td>4200</td>\n",
       "      <td>0.845000</td>\n",
       "    </tr>\n",
       "    <tr>\n",
       "      <td>4210</td>\n",
       "      <td>0.948900</td>\n",
       "    </tr>\n",
       "    <tr>\n",
       "      <td>4220</td>\n",
       "      <td>1.049000</td>\n",
       "    </tr>\n",
       "    <tr>\n",
       "      <td>4230</td>\n",
       "      <td>1.209900</td>\n",
       "    </tr>\n",
       "    <tr>\n",
       "      <td>4240</td>\n",
       "      <td>0.890300</td>\n",
       "    </tr>\n",
       "    <tr>\n",
       "      <td>4250</td>\n",
       "      <td>0.897000</td>\n",
       "    </tr>\n",
       "    <tr>\n",
       "      <td>4260</td>\n",
       "      <td>0.980300</td>\n",
       "    </tr>\n",
       "    <tr>\n",
       "      <td>4270</td>\n",
       "      <td>0.972600</td>\n",
       "    </tr>\n",
       "    <tr>\n",
       "      <td>4280</td>\n",
       "      <td>0.879500</td>\n",
       "    </tr>\n",
       "    <tr>\n",
       "      <td>4290</td>\n",
       "      <td>1.069000</td>\n",
       "    </tr>\n",
       "    <tr>\n",
       "      <td>4300</td>\n",
       "      <td>1.114100</td>\n",
       "    </tr>\n",
       "    <tr>\n",
       "      <td>4310</td>\n",
       "      <td>0.870200</td>\n",
       "    </tr>\n",
       "    <tr>\n",
       "      <td>4320</td>\n",
       "      <td>1.016300</td>\n",
       "    </tr>\n",
       "    <tr>\n",
       "      <td>4330</td>\n",
       "      <td>1.032100</td>\n",
       "    </tr>\n",
       "    <tr>\n",
       "      <td>4340</td>\n",
       "      <td>0.708300</td>\n",
       "    </tr>\n",
       "    <tr>\n",
       "      <td>4350</td>\n",
       "      <td>1.116800</td>\n",
       "    </tr>\n",
       "    <tr>\n",
       "      <td>4360</td>\n",
       "      <td>0.965000</td>\n",
       "    </tr>\n",
       "    <tr>\n",
       "      <td>4370</td>\n",
       "      <td>0.757600</td>\n",
       "    </tr>\n",
       "    <tr>\n",
       "      <td>4380</td>\n",
       "      <td>0.835300</td>\n",
       "    </tr>\n",
       "    <tr>\n",
       "      <td>4390</td>\n",
       "      <td>0.928800</td>\n",
       "    </tr>\n",
       "    <tr>\n",
       "      <td>4400</td>\n",
       "      <td>0.955200</td>\n",
       "    </tr>\n",
       "    <tr>\n",
       "      <td>4410</td>\n",
       "      <td>1.060000</td>\n",
       "    </tr>\n",
       "    <tr>\n",
       "      <td>4420</td>\n",
       "      <td>0.877900</td>\n",
       "    </tr>\n",
       "    <tr>\n",
       "      <td>4430</td>\n",
       "      <td>0.998700</td>\n",
       "    </tr>\n",
       "    <tr>\n",
       "      <td>4440</td>\n",
       "      <td>0.772800</td>\n",
       "    </tr>\n",
       "    <tr>\n",
       "      <td>4450</td>\n",
       "      <td>0.912100</td>\n",
       "    </tr>\n",
       "    <tr>\n",
       "      <td>4460</td>\n",
       "      <td>0.931000</td>\n",
       "    </tr>\n",
       "    <tr>\n",
       "      <td>4470</td>\n",
       "      <td>0.988600</td>\n",
       "    </tr>\n",
       "    <tr>\n",
       "      <td>4480</td>\n",
       "      <td>0.843200</td>\n",
       "    </tr>\n",
       "    <tr>\n",
       "      <td>4490</td>\n",
       "      <td>0.959500</td>\n",
       "    </tr>\n",
       "    <tr>\n",
       "      <td>4500</td>\n",
       "      <td>1.081300</td>\n",
       "    </tr>\n",
       "    <tr>\n",
       "      <td>4510</td>\n",
       "      <td>1.080900</td>\n",
       "    </tr>\n",
       "    <tr>\n",
       "      <td>4520</td>\n",
       "      <td>0.935200</td>\n",
       "    </tr>\n",
       "    <tr>\n",
       "      <td>4530</td>\n",
       "      <td>0.923900</td>\n",
       "    </tr>\n",
       "    <tr>\n",
       "      <td>4540</td>\n",
       "      <td>0.857900</td>\n",
       "    </tr>\n",
       "    <tr>\n",
       "      <td>4550</td>\n",
       "      <td>1.079000</td>\n",
       "    </tr>\n",
       "    <tr>\n",
       "      <td>4560</td>\n",
       "      <td>1.019500</td>\n",
       "    </tr>\n",
       "    <tr>\n",
       "      <td>4570</td>\n",
       "      <td>0.887300</td>\n",
       "    </tr>\n",
       "    <tr>\n",
       "      <td>4580</td>\n",
       "      <td>0.953500</td>\n",
       "    </tr>\n",
       "    <tr>\n",
       "      <td>4590</td>\n",
       "      <td>1.054400</td>\n",
       "    </tr>\n",
       "    <tr>\n",
       "      <td>4600</td>\n",
       "      <td>1.018100</td>\n",
       "    </tr>\n",
       "    <tr>\n",
       "      <td>4610</td>\n",
       "      <td>0.856500</td>\n",
       "    </tr>\n",
       "    <tr>\n",
       "      <td>4620</td>\n",
       "      <td>1.215800</td>\n",
       "    </tr>\n",
       "    <tr>\n",
       "      <td>4630</td>\n",
       "      <td>0.962800</td>\n",
       "    </tr>\n",
       "    <tr>\n",
       "      <td>4640</td>\n",
       "      <td>0.951100</td>\n",
       "    </tr>\n",
       "    <tr>\n",
       "      <td>4650</td>\n",
       "      <td>0.748000</td>\n",
       "    </tr>\n",
       "    <tr>\n",
       "      <td>4660</td>\n",
       "      <td>0.810000</td>\n",
       "    </tr>\n",
       "    <tr>\n",
       "      <td>4670</td>\n",
       "      <td>1.096500</td>\n",
       "    </tr>\n",
       "    <tr>\n",
       "      <td>4680</td>\n",
       "      <td>1.043700</td>\n",
       "    </tr>\n",
       "    <tr>\n",
       "      <td>4690</td>\n",
       "      <td>0.943800</td>\n",
       "    </tr>\n",
       "    <tr>\n",
       "      <td>4700</td>\n",
       "      <td>0.758800</td>\n",
       "    </tr>\n",
       "    <tr>\n",
       "      <td>4710</td>\n",
       "      <td>0.829300</td>\n",
       "    </tr>\n",
       "    <tr>\n",
       "      <td>4720</td>\n",
       "      <td>0.905500</td>\n",
       "    </tr>\n",
       "    <tr>\n",
       "      <td>4730</td>\n",
       "      <td>0.976100</td>\n",
       "    </tr>\n",
       "    <tr>\n",
       "      <td>4740</td>\n",
       "      <td>1.058900</td>\n",
       "    </tr>\n",
       "    <tr>\n",
       "      <td>4750</td>\n",
       "      <td>0.804300</td>\n",
       "    </tr>\n",
       "    <tr>\n",
       "      <td>4760</td>\n",
       "      <td>1.177100</td>\n",
       "    </tr>\n",
       "    <tr>\n",
       "      <td>4770</td>\n",
       "      <td>0.797800</td>\n",
       "    </tr>\n",
       "    <tr>\n",
       "      <td>4780</td>\n",
       "      <td>0.751500</td>\n",
       "    </tr>\n",
       "    <tr>\n",
       "      <td>4790</td>\n",
       "      <td>0.869200</td>\n",
       "    </tr>\n",
       "    <tr>\n",
       "      <td>4800</td>\n",
       "      <td>0.733500</td>\n",
       "    </tr>\n",
       "    <tr>\n",
       "      <td>4810</td>\n",
       "      <td>1.211300</td>\n",
       "    </tr>\n",
       "    <tr>\n",
       "      <td>4820</td>\n",
       "      <td>0.877500</td>\n",
       "    </tr>\n",
       "    <tr>\n",
       "      <td>4830</td>\n",
       "      <td>0.991600</td>\n",
       "    </tr>\n",
       "    <tr>\n",
       "      <td>4840</td>\n",
       "      <td>0.885700</td>\n",
       "    </tr>\n",
       "    <tr>\n",
       "      <td>4850</td>\n",
       "      <td>0.777100</td>\n",
       "    </tr>\n",
       "    <tr>\n",
       "      <td>4860</td>\n",
       "      <td>1.111600</td>\n",
       "    </tr>\n",
       "    <tr>\n",
       "      <td>4870</td>\n",
       "      <td>1.021900</td>\n",
       "    </tr>\n",
       "    <tr>\n",
       "      <td>4880</td>\n",
       "      <td>0.564400</td>\n",
       "    </tr>\n",
       "    <tr>\n",
       "      <td>4890</td>\n",
       "      <td>1.090100</td>\n",
       "    </tr>\n",
       "    <tr>\n",
       "      <td>4900</td>\n",
       "      <td>0.939400</td>\n",
       "    </tr>\n",
       "    <tr>\n",
       "      <td>4910</td>\n",
       "      <td>0.831200</td>\n",
       "    </tr>\n",
       "    <tr>\n",
       "      <td>4920</td>\n",
       "      <td>0.971200</td>\n",
       "    </tr>\n",
       "    <tr>\n",
       "      <td>4930</td>\n",
       "      <td>1.008500</td>\n",
       "    </tr>\n",
       "    <tr>\n",
       "      <td>4940</td>\n",
       "      <td>1.019500</td>\n",
       "    </tr>\n",
       "    <tr>\n",
       "      <td>4950</td>\n",
       "      <td>1.127900</td>\n",
       "    </tr>\n",
       "    <tr>\n",
       "      <td>4960</td>\n",
       "      <td>0.884800</td>\n",
       "    </tr>\n",
       "    <tr>\n",
       "      <td>4970</td>\n",
       "      <td>0.997600</td>\n",
       "    </tr>\n",
       "    <tr>\n",
       "      <td>4980</td>\n",
       "      <td>0.793300</td>\n",
       "    </tr>\n",
       "    <tr>\n",
       "      <td>4990</td>\n",
       "      <td>0.812700</td>\n",
       "    </tr>\n",
       "    <tr>\n",
       "      <td>5000</td>\n",
       "      <td>0.836400</td>\n",
       "    </tr>\n",
       "    <tr>\n",
       "      <td>5010</td>\n",
       "      <td>0.780400</td>\n",
       "    </tr>\n",
       "    <tr>\n",
       "      <td>5020</td>\n",
       "      <td>0.861200</td>\n",
       "    </tr>\n",
       "    <tr>\n",
       "      <td>5030</td>\n",
       "      <td>0.798900</td>\n",
       "    </tr>\n",
       "    <tr>\n",
       "      <td>5040</td>\n",
       "      <td>1.159800</td>\n",
       "    </tr>\n",
       "    <tr>\n",
       "      <td>5050</td>\n",
       "      <td>1.131600</td>\n",
       "    </tr>\n",
       "    <tr>\n",
       "      <td>5060</td>\n",
       "      <td>0.996700</td>\n",
       "    </tr>\n",
       "    <tr>\n",
       "      <td>5070</td>\n",
       "      <td>0.918500</td>\n",
       "    </tr>\n",
       "    <tr>\n",
       "      <td>5080</td>\n",
       "      <td>0.914800</td>\n",
       "    </tr>\n",
       "    <tr>\n",
       "      <td>5090</td>\n",
       "      <td>0.968000</td>\n",
       "    </tr>\n",
       "    <tr>\n",
       "      <td>5100</td>\n",
       "      <td>0.941900</td>\n",
       "    </tr>\n",
       "    <tr>\n",
       "      <td>5110</td>\n",
       "      <td>1.099600</td>\n",
       "    </tr>\n",
       "    <tr>\n",
       "      <td>5120</td>\n",
       "      <td>0.824800</td>\n",
       "    </tr>\n",
       "    <tr>\n",
       "      <td>5130</td>\n",
       "      <td>0.752300</td>\n",
       "    </tr>\n",
       "    <tr>\n",
       "      <td>5140</td>\n",
       "      <td>0.915900</td>\n",
       "    </tr>\n",
       "    <tr>\n",
       "      <td>5150</td>\n",
       "      <td>0.911700</td>\n",
       "    </tr>\n",
       "    <tr>\n",
       "      <td>5160</td>\n",
       "      <td>1.173800</td>\n",
       "    </tr>\n",
       "    <tr>\n",
       "      <td>5170</td>\n",
       "      <td>1.156100</td>\n",
       "    </tr>\n",
       "    <tr>\n",
       "      <td>5180</td>\n",
       "      <td>0.968200</td>\n",
       "    </tr>\n",
       "    <tr>\n",
       "      <td>5190</td>\n",
       "      <td>0.858200</td>\n",
       "    </tr>\n",
       "    <tr>\n",
       "      <td>5200</td>\n",
       "      <td>1.122400</td>\n",
       "    </tr>\n",
       "    <tr>\n",
       "      <td>5210</td>\n",
       "      <td>0.960500</td>\n",
       "    </tr>\n",
       "    <tr>\n",
       "      <td>5220</td>\n",
       "      <td>0.879500</td>\n",
       "    </tr>\n",
       "    <tr>\n",
       "      <td>5230</td>\n",
       "      <td>0.941200</td>\n",
       "    </tr>\n",
       "    <tr>\n",
       "      <td>5240</td>\n",
       "      <td>0.901700</td>\n",
       "    </tr>\n",
       "    <tr>\n",
       "      <td>5250</td>\n",
       "      <td>0.920000</td>\n",
       "    </tr>\n",
       "    <tr>\n",
       "      <td>5260</td>\n",
       "      <td>0.945300</td>\n",
       "    </tr>\n",
       "    <tr>\n",
       "      <td>5270</td>\n",
       "      <td>0.919100</td>\n",
       "    </tr>\n",
       "    <tr>\n",
       "      <td>5280</td>\n",
       "      <td>0.707200</td>\n",
       "    </tr>\n",
       "    <tr>\n",
       "      <td>5290</td>\n",
       "      <td>1.069800</td>\n",
       "    </tr>\n",
       "    <tr>\n",
       "      <td>5300</td>\n",
       "      <td>0.977100</td>\n",
       "    </tr>\n",
       "    <tr>\n",
       "      <td>5310</td>\n",
       "      <td>1.090800</td>\n",
       "    </tr>\n",
       "    <tr>\n",
       "      <td>5320</td>\n",
       "      <td>1.115800</td>\n",
       "    </tr>\n",
       "    <tr>\n",
       "      <td>5330</td>\n",
       "      <td>0.853200</td>\n",
       "    </tr>\n",
       "    <tr>\n",
       "      <td>5340</td>\n",
       "      <td>0.887100</td>\n",
       "    </tr>\n",
       "    <tr>\n",
       "      <td>5350</td>\n",
       "      <td>0.797200</td>\n",
       "    </tr>\n",
       "    <tr>\n",
       "      <td>5360</td>\n",
       "      <td>0.936900</td>\n",
       "    </tr>\n",
       "    <tr>\n",
       "      <td>5370</td>\n",
       "      <td>1.042000</td>\n",
       "    </tr>\n",
       "    <tr>\n",
       "      <td>5380</td>\n",
       "      <td>1.099600</td>\n",
       "    </tr>\n",
       "    <tr>\n",
       "      <td>5390</td>\n",
       "      <td>0.821300</td>\n",
       "    </tr>\n",
       "    <tr>\n",
       "      <td>5400</td>\n",
       "      <td>0.750600</td>\n",
       "    </tr>\n",
       "    <tr>\n",
       "      <td>5410</td>\n",
       "      <td>0.861900</td>\n",
       "    </tr>\n",
       "    <tr>\n",
       "      <td>5420</td>\n",
       "      <td>1.009700</td>\n",
       "    </tr>\n",
       "    <tr>\n",
       "      <td>5430</td>\n",
       "      <td>0.855000</td>\n",
       "    </tr>\n",
       "    <tr>\n",
       "      <td>5440</td>\n",
       "      <td>0.832100</td>\n",
       "    </tr>\n",
       "    <tr>\n",
       "      <td>5450</td>\n",
       "      <td>0.888600</td>\n",
       "    </tr>\n",
       "    <tr>\n",
       "      <td>5460</td>\n",
       "      <td>1.081700</td>\n",
       "    </tr>\n",
       "    <tr>\n",
       "      <td>5470</td>\n",
       "      <td>0.988000</td>\n",
       "    </tr>\n",
       "    <tr>\n",
       "      <td>5480</td>\n",
       "      <td>0.883900</td>\n",
       "    </tr>\n",
       "    <tr>\n",
       "      <td>5490</td>\n",
       "      <td>0.866000</td>\n",
       "    </tr>\n",
       "    <tr>\n",
       "      <td>5500</td>\n",
       "      <td>1.024100</td>\n",
       "    </tr>\n",
       "    <tr>\n",
       "      <td>5510</td>\n",
       "      <td>1.005600</td>\n",
       "    </tr>\n",
       "    <tr>\n",
       "      <td>5520</td>\n",
       "      <td>1.122700</td>\n",
       "    </tr>\n",
       "    <tr>\n",
       "      <td>5530</td>\n",
       "      <td>0.875800</td>\n",
       "    </tr>\n",
       "    <tr>\n",
       "      <td>5540</td>\n",
       "      <td>0.865600</td>\n",
       "    </tr>\n",
       "    <tr>\n",
       "      <td>5550</td>\n",
       "      <td>0.766200</td>\n",
       "    </tr>\n",
       "    <tr>\n",
       "      <td>5560</td>\n",
       "      <td>0.875400</td>\n",
       "    </tr>\n",
       "    <tr>\n",
       "      <td>5570</td>\n",
       "      <td>0.892300</td>\n",
       "    </tr>\n",
       "    <tr>\n",
       "      <td>5580</td>\n",
       "      <td>0.796900</td>\n",
       "    </tr>\n",
       "    <tr>\n",
       "      <td>5590</td>\n",
       "      <td>0.653700</td>\n",
       "    </tr>\n",
       "    <tr>\n",
       "      <td>5600</td>\n",
       "      <td>0.797700</td>\n",
       "    </tr>\n",
       "    <tr>\n",
       "      <td>5610</td>\n",
       "      <td>0.734700</td>\n",
       "    </tr>\n",
       "    <tr>\n",
       "      <td>5620</td>\n",
       "      <td>0.989100</td>\n",
       "    </tr>\n",
       "    <tr>\n",
       "      <td>5630</td>\n",
       "      <td>0.867800</td>\n",
       "    </tr>\n",
       "    <tr>\n",
       "      <td>5640</td>\n",
       "      <td>0.953600</td>\n",
       "    </tr>\n",
       "    <tr>\n",
       "      <td>5650</td>\n",
       "      <td>0.993800</td>\n",
       "    </tr>\n",
       "    <tr>\n",
       "      <td>5660</td>\n",
       "      <td>1.152500</td>\n",
       "    </tr>\n",
       "    <tr>\n",
       "      <td>5670</td>\n",
       "      <td>0.864500</td>\n",
       "    </tr>\n",
       "    <tr>\n",
       "      <td>5680</td>\n",
       "      <td>0.756700</td>\n",
       "    </tr>\n",
       "    <tr>\n",
       "      <td>5690</td>\n",
       "      <td>1.030200</td>\n",
       "    </tr>\n",
       "    <tr>\n",
       "      <td>5700</td>\n",
       "      <td>0.963300</td>\n",
       "    </tr>\n",
       "    <tr>\n",
       "      <td>5710</td>\n",
       "      <td>0.845900</td>\n",
       "    </tr>\n",
       "    <tr>\n",
       "      <td>5720</td>\n",
       "      <td>0.942500</td>\n",
       "    </tr>\n",
       "    <tr>\n",
       "      <td>5730</td>\n",
       "      <td>0.899300</td>\n",
       "    </tr>\n",
       "    <tr>\n",
       "      <td>5740</td>\n",
       "      <td>0.862100</td>\n",
       "    </tr>\n",
       "    <tr>\n",
       "      <td>5750</td>\n",
       "      <td>0.880800</td>\n",
       "    </tr>\n",
       "    <tr>\n",
       "      <td>5760</td>\n",
       "      <td>1.098700</td>\n",
       "    </tr>\n",
       "    <tr>\n",
       "      <td>5770</td>\n",
       "      <td>1.010500</td>\n",
       "    </tr>\n",
       "    <tr>\n",
       "      <td>5780</td>\n",
       "      <td>0.806200</td>\n",
       "    </tr>\n",
       "    <tr>\n",
       "      <td>5790</td>\n",
       "      <td>0.927300</td>\n",
       "    </tr>\n",
       "    <tr>\n",
       "      <td>5800</td>\n",
       "      <td>1.064100</td>\n",
       "    </tr>\n",
       "    <tr>\n",
       "      <td>5810</td>\n",
       "      <td>0.926000</td>\n",
       "    </tr>\n",
       "    <tr>\n",
       "      <td>5820</td>\n",
       "      <td>0.609600</td>\n",
       "    </tr>\n",
       "    <tr>\n",
       "      <td>5830</td>\n",
       "      <td>0.927300</td>\n",
       "    </tr>\n",
       "    <tr>\n",
       "      <td>5840</td>\n",
       "      <td>0.977900</td>\n",
       "    </tr>\n",
       "    <tr>\n",
       "      <td>5850</td>\n",
       "      <td>0.863400</td>\n",
       "    </tr>\n",
       "    <tr>\n",
       "      <td>5860</td>\n",
       "      <td>0.843700</td>\n",
       "    </tr>\n",
       "    <tr>\n",
       "      <td>5870</td>\n",
       "      <td>1.074600</td>\n",
       "    </tr>\n",
       "    <tr>\n",
       "      <td>5880</td>\n",
       "      <td>0.754100</td>\n",
       "    </tr>\n",
       "    <tr>\n",
       "      <td>5890</td>\n",
       "      <td>0.896000</td>\n",
       "    </tr>\n",
       "    <tr>\n",
       "      <td>5900</td>\n",
       "      <td>0.855500</td>\n",
       "    </tr>\n",
       "    <tr>\n",
       "      <td>5910</td>\n",
       "      <td>0.931200</td>\n",
       "    </tr>\n",
       "    <tr>\n",
       "      <td>5920</td>\n",
       "      <td>0.812300</td>\n",
       "    </tr>\n",
       "    <tr>\n",
       "      <td>5930</td>\n",
       "      <td>1.067300</td>\n",
       "    </tr>\n",
       "    <tr>\n",
       "      <td>5940</td>\n",
       "      <td>0.894000</td>\n",
       "    </tr>\n",
       "    <tr>\n",
       "      <td>5950</td>\n",
       "      <td>0.854900</td>\n",
       "    </tr>\n",
       "    <tr>\n",
       "      <td>5960</td>\n",
       "      <td>0.855400</td>\n",
       "    </tr>\n",
       "    <tr>\n",
       "      <td>5970</td>\n",
       "      <td>0.993300</td>\n",
       "    </tr>\n",
       "    <tr>\n",
       "      <td>5980</td>\n",
       "      <td>0.798200</td>\n",
       "    </tr>\n",
       "    <tr>\n",
       "      <td>5990</td>\n",
       "      <td>0.780700</td>\n",
       "    </tr>\n",
       "    <tr>\n",
       "      <td>6000</td>\n",
       "      <td>0.986800</td>\n",
       "    </tr>\n",
       "    <tr>\n",
       "      <td>6010</td>\n",
       "      <td>0.915000</td>\n",
       "    </tr>\n",
       "    <tr>\n",
       "      <td>6020</td>\n",
       "      <td>0.774100</td>\n",
       "    </tr>\n",
       "    <tr>\n",
       "      <td>6030</td>\n",
       "      <td>0.996000</td>\n",
       "    </tr>\n",
       "    <tr>\n",
       "      <td>6040</td>\n",
       "      <td>0.947700</td>\n",
       "    </tr>\n",
       "    <tr>\n",
       "      <td>6050</td>\n",
       "      <td>0.999700</td>\n",
       "    </tr>\n",
       "    <tr>\n",
       "      <td>6060</td>\n",
       "      <td>1.188800</td>\n",
       "    </tr>\n",
       "    <tr>\n",
       "      <td>6070</td>\n",
       "      <td>0.766300</td>\n",
       "    </tr>\n",
       "    <tr>\n",
       "      <td>6080</td>\n",
       "      <td>0.853300</td>\n",
       "    </tr>\n",
       "    <tr>\n",
       "      <td>6090</td>\n",
       "      <td>0.800800</td>\n",
       "    </tr>\n",
       "    <tr>\n",
       "      <td>6100</td>\n",
       "      <td>1.090700</td>\n",
       "    </tr>\n",
       "    <tr>\n",
       "      <td>6110</td>\n",
       "      <td>1.045500</td>\n",
       "    </tr>\n",
       "    <tr>\n",
       "      <td>6120</td>\n",
       "      <td>0.901600</td>\n",
       "    </tr>\n",
       "    <tr>\n",
       "      <td>6130</td>\n",
       "      <td>0.927400</td>\n",
       "    </tr>\n",
       "    <tr>\n",
       "      <td>6140</td>\n",
       "      <td>0.923300</td>\n",
       "    </tr>\n",
       "    <tr>\n",
       "      <td>6150</td>\n",
       "      <td>0.988200</td>\n",
       "    </tr>\n",
       "    <tr>\n",
       "      <td>6160</td>\n",
       "      <td>0.748800</td>\n",
       "    </tr>\n",
       "    <tr>\n",
       "      <td>6170</td>\n",
       "      <td>0.840900</td>\n",
       "    </tr>\n",
       "    <tr>\n",
       "      <td>6180</td>\n",
       "      <td>0.884900</td>\n",
       "    </tr>\n",
       "    <tr>\n",
       "      <td>6190</td>\n",
       "      <td>1.113800</td>\n",
       "    </tr>\n",
       "    <tr>\n",
       "      <td>6200</td>\n",
       "      <td>0.985300</td>\n",
       "    </tr>\n",
       "    <tr>\n",
       "      <td>6210</td>\n",
       "      <td>0.916600</td>\n",
       "    </tr>\n",
       "    <tr>\n",
       "      <td>6220</td>\n",
       "      <td>1.081400</td>\n",
       "    </tr>\n",
       "    <tr>\n",
       "      <td>6230</td>\n",
       "      <td>0.965300</td>\n",
       "    </tr>\n",
       "    <tr>\n",
       "      <td>6240</td>\n",
       "      <td>0.772000</td>\n",
       "    </tr>\n",
       "    <tr>\n",
       "      <td>6250</td>\n",
       "      <td>0.667600</td>\n",
       "    </tr>\n",
       "    <tr>\n",
       "      <td>6260</td>\n",
       "      <td>0.760200</td>\n",
       "    </tr>\n",
       "    <tr>\n",
       "      <td>6270</td>\n",
       "      <td>0.690900</td>\n",
       "    </tr>\n",
       "    <tr>\n",
       "      <td>6280</td>\n",
       "      <td>1.075800</td>\n",
       "    </tr>\n",
       "    <tr>\n",
       "      <td>6290</td>\n",
       "      <td>1.001600</td>\n",
       "    </tr>\n",
       "    <tr>\n",
       "      <td>6300</td>\n",
       "      <td>0.926800</td>\n",
       "    </tr>\n",
       "    <tr>\n",
       "      <td>6310</td>\n",
       "      <td>0.774400</td>\n",
       "    </tr>\n",
       "    <tr>\n",
       "      <td>6320</td>\n",
       "      <td>0.920600</td>\n",
       "    </tr>\n",
       "    <tr>\n",
       "      <td>6330</td>\n",
       "      <td>0.901700</td>\n",
       "    </tr>\n",
       "    <tr>\n",
       "      <td>6340</td>\n",
       "      <td>0.729200</td>\n",
       "    </tr>\n",
       "    <tr>\n",
       "      <td>6350</td>\n",
       "      <td>1.093200</td>\n",
       "    </tr>\n",
       "    <tr>\n",
       "      <td>6360</td>\n",
       "      <td>0.978600</td>\n",
       "    </tr>\n",
       "    <tr>\n",
       "      <td>6370</td>\n",
       "      <td>0.866200</td>\n",
       "    </tr>\n",
       "    <tr>\n",
       "      <td>6380</td>\n",
       "      <td>0.861900</td>\n",
       "    </tr>\n",
       "    <tr>\n",
       "      <td>6390</td>\n",
       "      <td>0.840400</td>\n",
       "    </tr>\n",
       "    <tr>\n",
       "      <td>6400</td>\n",
       "      <td>0.825000</td>\n",
       "    </tr>\n",
       "    <tr>\n",
       "      <td>6410</td>\n",
       "      <td>0.869600</td>\n",
       "    </tr>\n",
       "    <tr>\n",
       "      <td>6420</td>\n",
       "      <td>0.751100</td>\n",
       "    </tr>\n",
       "    <tr>\n",
       "      <td>6430</td>\n",
       "      <td>0.844200</td>\n",
       "    </tr>\n",
       "    <tr>\n",
       "      <td>6440</td>\n",
       "      <td>0.824600</td>\n",
       "    </tr>\n",
       "    <tr>\n",
       "      <td>6450</td>\n",
       "      <td>0.888300</td>\n",
       "    </tr>\n",
       "    <tr>\n",
       "      <td>6460</td>\n",
       "      <td>0.823500</td>\n",
       "    </tr>\n",
       "    <tr>\n",
       "      <td>6470</td>\n",
       "      <td>1.009300</td>\n",
       "    </tr>\n",
       "    <tr>\n",
       "      <td>6480</td>\n",
       "      <td>0.842600</td>\n",
       "    </tr>\n",
       "    <tr>\n",
       "      <td>6490</td>\n",
       "      <td>1.031600</td>\n",
       "    </tr>\n",
       "    <tr>\n",
       "      <td>6500</td>\n",
       "      <td>1.043800</td>\n",
       "    </tr>\n",
       "    <tr>\n",
       "      <td>6510</td>\n",
       "      <td>0.904700</td>\n",
       "    </tr>\n",
       "    <tr>\n",
       "      <td>6520</td>\n",
       "      <td>0.902500</td>\n",
       "    </tr>\n",
       "    <tr>\n",
       "      <td>6530</td>\n",
       "      <td>0.954000</td>\n",
       "    </tr>\n",
       "    <tr>\n",
       "      <td>6540</td>\n",
       "      <td>0.909700</td>\n",
       "    </tr>\n",
       "    <tr>\n",
       "      <td>6550</td>\n",
       "      <td>0.915700</td>\n",
       "    </tr>\n",
       "    <tr>\n",
       "      <td>6560</td>\n",
       "      <td>0.741000</td>\n",
       "    </tr>\n",
       "    <tr>\n",
       "      <td>6570</td>\n",
       "      <td>0.761600</td>\n",
       "    </tr>\n",
       "    <tr>\n",
       "      <td>6580</td>\n",
       "      <td>0.898000</td>\n",
       "    </tr>\n",
       "    <tr>\n",
       "      <td>6590</td>\n",
       "      <td>0.914000</td>\n",
       "    </tr>\n",
       "    <tr>\n",
       "      <td>6600</td>\n",
       "      <td>0.958700</td>\n",
       "    </tr>\n",
       "    <tr>\n",
       "      <td>6610</td>\n",
       "      <td>0.940700</td>\n",
       "    </tr>\n",
       "    <tr>\n",
       "      <td>6620</td>\n",
       "      <td>0.688300</td>\n",
       "    </tr>\n",
       "    <tr>\n",
       "      <td>6630</td>\n",
       "      <td>0.760800</td>\n",
       "    </tr>\n",
       "    <tr>\n",
       "      <td>6640</td>\n",
       "      <td>0.918800</td>\n",
       "    </tr>\n",
       "    <tr>\n",
       "      <td>6650</td>\n",
       "      <td>0.895100</td>\n",
       "    </tr>\n",
       "    <tr>\n",
       "      <td>6660</td>\n",
       "      <td>1.002300</td>\n",
       "    </tr>\n",
       "    <tr>\n",
       "      <td>6670</td>\n",
       "      <td>0.984000</td>\n",
       "    </tr>\n",
       "    <tr>\n",
       "      <td>6680</td>\n",
       "      <td>0.938900</td>\n",
       "    </tr>\n",
       "    <tr>\n",
       "      <td>6690</td>\n",
       "      <td>0.952200</td>\n",
       "    </tr>\n",
       "    <tr>\n",
       "      <td>6700</td>\n",
       "      <td>0.770200</td>\n",
       "    </tr>\n",
       "    <tr>\n",
       "      <td>6710</td>\n",
       "      <td>0.845000</td>\n",
       "    </tr>\n",
       "    <tr>\n",
       "      <td>6720</td>\n",
       "      <td>0.907000</td>\n",
       "    </tr>\n",
       "    <tr>\n",
       "      <td>6730</td>\n",
       "      <td>0.698700</td>\n",
       "    </tr>\n",
       "    <tr>\n",
       "      <td>6740</td>\n",
       "      <td>0.932200</td>\n",
       "    </tr>\n",
       "    <tr>\n",
       "      <td>6750</td>\n",
       "      <td>0.770800</td>\n",
       "    </tr>\n",
       "    <tr>\n",
       "      <td>6760</td>\n",
       "      <td>0.927500</td>\n",
       "    </tr>\n",
       "    <tr>\n",
       "      <td>6770</td>\n",
       "      <td>0.939900</td>\n",
       "    </tr>\n",
       "    <tr>\n",
       "      <td>6780</td>\n",
       "      <td>0.886700</td>\n",
       "    </tr>\n",
       "    <tr>\n",
       "      <td>6790</td>\n",
       "      <td>0.856100</td>\n",
       "    </tr>\n",
       "    <tr>\n",
       "      <td>6800</td>\n",
       "      <td>1.155800</td>\n",
       "    </tr>\n",
       "    <tr>\n",
       "      <td>6810</td>\n",
       "      <td>0.814200</td>\n",
       "    </tr>\n",
       "    <tr>\n",
       "      <td>6820</td>\n",
       "      <td>0.838600</td>\n",
       "    </tr>\n",
       "    <tr>\n",
       "      <td>6830</td>\n",
       "      <td>0.852000</td>\n",
       "    </tr>\n",
       "    <tr>\n",
       "      <td>6840</td>\n",
       "      <td>0.973600</td>\n",
       "    </tr>\n",
       "    <tr>\n",
       "      <td>6850</td>\n",
       "      <td>0.717100</td>\n",
       "    </tr>\n",
       "    <tr>\n",
       "      <td>6860</td>\n",
       "      <td>1.075900</td>\n",
       "    </tr>\n",
       "    <tr>\n",
       "      <td>6870</td>\n",
       "      <td>0.808300</td>\n",
       "    </tr>\n",
       "    <tr>\n",
       "      <td>6880</td>\n",
       "      <td>1.113900</td>\n",
       "    </tr>\n",
       "    <tr>\n",
       "      <td>6890</td>\n",
       "      <td>0.867500</td>\n",
       "    </tr>\n",
       "    <tr>\n",
       "      <td>6900</td>\n",
       "      <td>0.918200</td>\n",
       "    </tr>\n",
       "    <tr>\n",
       "      <td>6910</td>\n",
       "      <td>0.889600</td>\n",
       "    </tr>\n",
       "    <tr>\n",
       "      <td>6920</td>\n",
       "      <td>0.922600</td>\n",
       "    </tr>\n",
       "    <tr>\n",
       "      <td>6930</td>\n",
       "      <td>1.037100</td>\n",
       "    </tr>\n",
       "    <tr>\n",
       "      <td>6940</td>\n",
       "      <td>0.774900</td>\n",
       "    </tr>\n",
       "    <tr>\n",
       "      <td>6950</td>\n",
       "      <td>0.714200</td>\n",
       "    </tr>\n",
       "    <tr>\n",
       "      <td>6960</td>\n",
       "      <td>0.915300</td>\n",
       "    </tr>\n",
       "    <tr>\n",
       "      <td>6970</td>\n",
       "      <td>0.933200</td>\n",
       "    </tr>\n",
       "    <tr>\n",
       "      <td>6980</td>\n",
       "      <td>0.833700</td>\n",
       "    </tr>\n",
       "    <tr>\n",
       "      <td>6990</td>\n",
       "      <td>0.833200</td>\n",
       "    </tr>\n",
       "    <tr>\n",
       "      <td>7000</td>\n",
       "      <td>0.788800</td>\n",
       "    </tr>\n",
       "    <tr>\n",
       "      <td>7010</td>\n",
       "      <td>0.717200</td>\n",
       "    </tr>\n",
       "    <tr>\n",
       "      <td>7020</td>\n",
       "      <td>1.020100</td>\n",
       "    </tr>\n",
       "    <tr>\n",
       "      <td>7030</td>\n",
       "      <td>1.036000</td>\n",
       "    </tr>\n",
       "    <tr>\n",
       "      <td>7040</td>\n",
       "      <td>1.024600</td>\n",
       "    </tr>\n",
       "    <tr>\n",
       "      <td>7050</td>\n",
       "      <td>1.112700</td>\n",
       "    </tr>\n",
       "    <tr>\n",
       "      <td>7060</td>\n",
       "      <td>0.862400</td>\n",
       "    </tr>\n",
       "    <tr>\n",
       "      <td>7070</td>\n",
       "      <td>0.730000</td>\n",
       "    </tr>\n",
       "    <tr>\n",
       "      <td>7080</td>\n",
       "      <td>0.963400</td>\n",
       "    </tr>\n",
       "    <tr>\n",
       "      <td>7090</td>\n",
       "      <td>0.905500</td>\n",
       "    </tr>\n",
       "    <tr>\n",
       "      <td>7100</td>\n",
       "      <td>1.037000</td>\n",
       "    </tr>\n",
       "    <tr>\n",
       "      <td>7110</td>\n",
       "      <td>0.846800</td>\n",
       "    </tr>\n",
       "    <tr>\n",
       "      <td>7120</td>\n",
       "      <td>0.681100</td>\n",
       "    </tr>\n",
       "    <tr>\n",
       "      <td>7130</td>\n",
       "      <td>0.771100</td>\n",
       "    </tr>\n",
       "    <tr>\n",
       "      <td>7140</td>\n",
       "      <td>1.081500</td>\n",
       "    </tr>\n",
       "    <tr>\n",
       "      <td>7150</td>\n",
       "      <td>0.952900</td>\n",
       "    </tr>\n",
       "    <tr>\n",
       "      <td>7160</td>\n",
       "      <td>0.992000</td>\n",
       "    </tr>\n",
       "    <tr>\n",
       "      <td>7170</td>\n",
       "      <td>1.100200</td>\n",
       "    </tr>\n",
       "    <tr>\n",
       "      <td>7180</td>\n",
       "      <td>1.074300</td>\n",
       "    </tr>\n",
       "    <tr>\n",
       "      <td>7190</td>\n",
       "      <td>1.028600</td>\n",
       "    </tr>\n",
       "    <tr>\n",
       "      <td>7200</td>\n",
       "      <td>0.895200</td>\n",
       "    </tr>\n",
       "    <tr>\n",
       "      <td>7210</td>\n",
       "      <td>0.947200</td>\n",
       "    </tr>\n",
       "    <tr>\n",
       "      <td>7220</td>\n",
       "      <td>0.725800</td>\n",
       "    </tr>\n",
       "    <tr>\n",
       "      <td>7230</td>\n",
       "      <td>0.792000</td>\n",
       "    </tr>\n",
       "    <tr>\n",
       "      <td>7240</td>\n",
       "      <td>0.962300</td>\n",
       "    </tr>\n",
       "    <tr>\n",
       "      <td>7250</td>\n",
       "      <td>0.785300</td>\n",
       "    </tr>\n",
       "    <tr>\n",
       "      <td>7260</td>\n",
       "      <td>1.067700</td>\n",
       "    </tr>\n",
       "    <tr>\n",
       "      <td>7270</td>\n",
       "      <td>0.826400</td>\n",
       "    </tr>\n",
       "    <tr>\n",
       "      <td>7280</td>\n",
       "      <td>0.823800</td>\n",
       "    </tr>\n",
       "    <tr>\n",
       "      <td>7290</td>\n",
       "      <td>0.675200</td>\n",
       "    </tr>\n",
       "    <tr>\n",
       "      <td>7300</td>\n",
       "      <td>0.843700</td>\n",
       "    </tr>\n",
       "    <tr>\n",
       "      <td>7310</td>\n",
       "      <td>0.915300</td>\n",
       "    </tr>\n",
       "    <tr>\n",
       "      <td>7320</td>\n",
       "      <td>0.951700</td>\n",
       "    </tr>\n",
       "    <tr>\n",
       "      <td>7330</td>\n",
       "      <td>0.913200</td>\n",
       "    </tr>\n",
       "    <tr>\n",
       "      <td>7340</td>\n",
       "      <td>0.883900</td>\n",
       "    </tr>\n",
       "    <tr>\n",
       "      <td>7350</td>\n",
       "      <td>0.872500</td>\n",
       "    </tr>\n",
       "    <tr>\n",
       "      <td>7360</td>\n",
       "      <td>0.898100</td>\n",
       "    </tr>\n",
       "    <tr>\n",
       "      <td>7370</td>\n",
       "      <td>0.613200</td>\n",
       "    </tr>\n",
       "    <tr>\n",
       "      <td>7380</td>\n",
       "      <td>1.111100</td>\n",
       "    </tr>\n",
       "    <tr>\n",
       "      <td>7390</td>\n",
       "      <td>0.855300</td>\n",
       "    </tr>\n",
       "    <tr>\n",
       "      <td>7400</td>\n",
       "      <td>0.887000</td>\n",
       "    </tr>\n",
       "    <tr>\n",
       "      <td>7410</td>\n",
       "      <td>0.868900</td>\n",
       "    </tr>\n",
       "    <tr>\n",
       "      <td>7420</td>\n",
       "      <td>0.909600</td>\n",
       "    </tr>\n",
       "    <tr>\n",
       "      <td>7430</td>\n",
       "      <td>0.897100</td>\n",
       "    </tr>\n",
       "    <tr>\n",
       "      <td>7440</td>\n",
       "      <td>0.873500</td>\n",
       "    </tr>\n",
       "    <tr>\n",
       "      <td>7450</td>\n",
       "      <td>0.835700</td>\n",
       "    </tr>\n",
       "    <tr>\n",
       "      <td>7460</td>\n",
       "      <td>0.967100</td>\n",
       "    </tr>\n",
       "    <tr>\n",
       "      <td>7470</td>\n",
       "      <td>0.864500</td>\n",
       "    </tr>\n",
       "    <tr>\n",
       "      <td>7480</td>\n",
       "      <td>0.892900</td>\n",
       "    </tr>\n",
       "    <tr>\n",
       "      <td>7490</td>\n",
       "      <td>0.888600</td>\n",
       "    </tr>\n",
       "    <tr>\n",
       "      <td>7500</td>\n",
       "      <td>0.977900</td>\n",
       "    </tr>\n",
       "    <tr>\n",
       "      <td>7510</td>\n",
       "      <td>0.857500</td>\n",
       "    </tr>\n",
       "    <tr>\n",
       "      <td>7520</td>\n",
       "      <td>0.799500</td>\n",
       "    </tr>\n",
       "    <tr>\n",
       "      <td>7530</td>\n",
       "      <td>0.861600</td>\n",
       "    </tr>\n",
       "    <tr>\n",
       "      <td>7540</td>\n",
       "      <td>0.851800</td>\n",
       "    </tr>\n",
       "    <tr>\n",
       "      <td>7550</td>\n",
       "      <td>0.852900</td>\n",
       "    </tr>\n",
       "    <tr>\n",
       "      <td>7560</td>\n",
       "      <td>0.731600</td>\n",
       "    </tr>\n",
       "    <tr>\n",
       "      <td>7570</td>\n",
       "      <td>0.836300</td>\n",
       "    </tr>\n",
       "    <tr>\n",
       "      <td>7580</td>\n",
       "      <td>0.908300</td>\n",
       "    </tr>\n",
       "    <tr>\n",
       "      <td>7590</td>\n",
       "      <td>1.032300</td>\n",
       "    </tr>\n",
       "    <tr>\n",
       "      <td>7600</td>\n",
       "      <td>0.878400</td>\n",
       "    </tr>\n",
       "    <tr>\n",
       "      <td>7610</td>\n",
       "      <td>0.813900</td>\n",
       "    </tr>\n",
       "    <tr>\n",
       "      <td>7620</td>\n",
       "      <td>0.827000</td>\n",
       "    </tr>\n",
       "    <tr>\n",
       "      <td>7630</td>\n",
       "      <td>1.081700</td>\n",
       "    </tr>\n",
       "    <tr>\n",
       "      <td>7640</td>\n",
       "      <td>0.882400</td>\n",
       "    </tr>\n",
       "    <tr>\n",
       "      <td>7650</td>\n",
       "      <td>0.741800</td>\n",
       "    </tr>\n",
       "    <tr>\n",
       "      <td>7660</td>\n",
       "      <td>0.759100</td>\n",
       "    </tr>\n",
       "    <tr>\n",
       "      <td>7670</td>\n",
       "      <td>0.968300</td>\n",
       "    </tr>\n",
       "    <tr>\n",
       "      <td>7680</td>\n",
       "      <td>0.886100</td>\n",
       "    </tr>\n",
       "    <tr>\n",
       "      <td>7690</td>\n",
       "      <td>0.781300</td>\n",
       "    </tr>\n",
       "    <tr>\n",
       "      <td>7700</td>\n",
       "      <td>0.880900</td>\n",
       "    </tr>\n",
       "    <tr>\n",
       "      <td>7710</td>\n",
       "      <td>0.840800</td>\n",
       "    </tr>\n",
       "    <tr>\n",
       "      <td>7720</td>\n",
       "      <td>0.702300</td>\n",
       "    </tr>\n",
       "    <tr>\n",
       "      <td>7730</td>\n",
       "      <td>0.817600</td>\n",
       "    </tr>\n",
       "    <tr>\n",
       "      <td>7740</td>\n",
       "      <td>0.772900</td>\n",
       "    </tr>\n",
       "    <tr>\n",
       "      <td>7750</td>\n",
       "      <td>0.740200</td>\n",
       "    </tr>\n",
       "    <tr>\n",
       "      <td>7760</td>\n",
       "      <td>0.700900</td>\n",
       "    </tr>\n",
       "    <tr>\n",
       "      <td>7770</td>\n",
       "      <td>0.827500</td>\n",
       "    </tr>\n",
       "    <tr>\n",
       "      <td>7780</td>\n",
       "      <td>0.801200</td>\n",
       "    </tr>\n",
       "    <tr>\n",
       "      <td>7790</td>\n",
       "      <td>0.949300</td>\n",
       "    </tr>\n",
       "    <tr>\n",
       "      <td>7800</td>\n",
       "      <td>0.929700</td>\n",
       "    </tr>\n",
       "    <tr>\n",
       "      <td>7810</td>\n",
       "      <td>0.727100</td>\n",
       "    </tr>\n",
       "    <tr>\n",
       "      <td>7820</td>\n",
       "      <td>1.104500</td>\n",
       "    </tr>\n",
       "    <tr>\n",
       "      <td>7830</td>\n",
       "      <td>0.682600</td>\n",
       "    </tr>\n",
       "    <tr>\n",
       "      <td>7840</td>\n",
       "      <td>0.969700</td>\n",
       "    </tr>\n",
       "    <tr>\n",
       "      <td>7850</td>\n",
       "      <td>0.840700</td>\n",
       "    </tr>\n",
       "    <tr>\n",
       "      <td>7860</td>\n",
       "      <td>0.873400</td>\n",
       "    </tr>\n",
       "    <tr>\n",
       "      <td>7870</td>\n",
       "      <td>0.821100</td>\n",
       "    </tr>\n",
       "    <tr>\n",
       "      <td>7880</td>\n",
       "      <td>0.912400</td>\n",
       "    </tr>\n",
       "    <tr>\n",
       "      <td>7890</td>\n",
       "      <td>0.979000</td>\n",
       "    </tr>\n",
       "    <tr>\n",
       "      <td>7900</td>\n",
       "      <td>0.853200</td>\n",
       "    </tr>\n",
       "    <tr>\n",
       "      <td>7910</td>\n",
       "      <td>0.950700</td>\n",
       "    </tr>\n",
       "    <tr>\n",
       "      <td>7920</td>\n",
       "      <td>0.927200</td>\n",
       "    </tr>\n",
       "    <tr>\n",
       "      <td>7930</td>\n",
       "      <td>0.856800</td>\n",
       "    </tr>\n",
       "    <tr>\n",
       "      <td>7940</td>\n",
       "      <td>0.946800</td>\n",
       "    </tr>\n",
       "    <tr>\n",
       "      <td>7950</td>\n",
       "      <td>0.875800</td>\n",
       "    </tr>\n",
       "    <tr>\n",
       "      <td>7960</td>\n",
       "      <td>0.735300</td>\n",
       "    </tr>\n",
       "    <tr>\n",
       "      <td>7970</td>\n",
       "      <td>1.128500</td>\n",
       "    </tr>\n",
       "    <tr>\n",
       "      <td>7980</td>\n",
       "      <td>0.912000</td>\n",
       "    </tr>\n",
       "    <tr>\n",
       "      <td>7990</td>\n",
       "      <td>0.959300</td>\n",
       "    </tr>\n",
       "    <tr>\n",
       "      <td>8000</td>\n",
       "      <td>0.704800</td>\n",
       "    </tr>\n",
       "    <tr>\n",
       "      <td>8010</td>\n",
       "      <td>0.866800</td>\n",
       "    </tr>\n",
       "    <tr>\n",
       "      <td>8020</td>\n",
       "      <td>0.685700</td>\n",
       "    </tr>\n",
       "    <tr>\n",
       "      <td>8030</td>\n",
       "      <td>0.837000</td>\n",
       "    </tr>\n",
       "    <tr>\n",
       "      <td>8040</td>\n",
       "      <td>0.924000</td>\n",
       "    </tr>\n",
       "    <tr>\n",
       "      <td>8050</td>\n",
       "      <td>0.845600</td>\n",
       "    </tr>\n",
       "    <tr>\n",
       "      <td>8060</td>\n",
       "      <td>0.669900</td>\n",
       "    </tr>\n",
       "    <tr>\n",
       "      <td>8070</td>\n",
       "      <td>0.948200</td>\n",
       "    </tr>\n",
       "    <tr>\n",
       "      <td>8080</td>\n",
       "      <td>0.913400</td>\n",
       "    </tr>\n",
       "    <tr>\n",
       "      <td>8090</td>\n",
       "      <td>0.761300</td>\n",
       "    </tr>\n",
       "    <tr>\n",
       "      <td>8100</td>\n",
       "      <td>0.913000</td>\n",
       "    </tr>\n",
       "    <tr>\n",
       "      <td>8110</td>\n",
       "      <td>0.995700</td>\n",
       "    </tr>\n",
       "    <tr>\n",
       "      <td>8120</td>\n",
       "      <td>0.757100</td>\n",
       "    </tr>\n",
       "    <tr>\n",
       "      <td>8130</td>\n",
       "      <td>0.779000</td>\n",
       "    </tr>\n",
       "    <tr>\n",
       "      <td>8140</td>\n",
       "      <td>0.640000</td>\n",
       "    </tr>\n",
       "    <tr>\n",
       "      <td>8150</td>\n",
       "      <td>0.817300</td>\n",
       "    </tr>\n",
       "    <tr>\n",
       "      <td>8160</td>\n",
       "      <td>0.799200</td>\n",
       "    </tr>\n",
       "    <tr>\n",
       "      <td>8170</td>\n",
       "      <td>0.990000</td>\n",
       "    </tr>\n",
       "    <tr>\n",
       "      <td>8180</td>\n",
       "      <td>0.852600</td>\n",
       "    </tr>\n",
       "    <tr>\n",
       "      <td>8190</td>\n",
       "      <td>0.693900</td>\n",
       "    </tr>\n",
       "    <tr>\n",
       "      <td>8200</td>\n",
       "      <td>0.972600</td>\n",
       "    </tr>\n",
       "    <tr>\n",
       "      <td>8210</td>\n",
       "      <td>0.954100</td>\n",
       "    </tr>\n",
       "    <tr>\n",
       "      <td>8220</td>\n",
       "      <td>0.920600</td>\n",
       "    </tr>\n",
       "    <tr>\n",
       "      <td>8230</td>\n",
       "      <td>0.794200</td>\n",
       "    </tr>\n",
       "    <tr>\n",
       "      <td>8240</td>\n",
       "      <td>0.836300</td>\n",
       "    </tr>\n",
       "    <tr>\n",
       "      <td>8250</td>\n",
       "      <td>0.862200</td>\n",
       "    </tr>\n",
       "    <tr>\n",
       "      <td>8260</td>\n",
       "      <td>1.069200</td>\n",
       "    </tr>\n",
       "    <tr>\n",
       "      <td>8270</td>\n",
       "      <td>0.876900</td>\n",
       "    </tr>\n",
       "    <tr>\n",
       "      <td>8280</td>\n",
       "      <td>0.967600</td>\n",
       "    </tr>\n",
       "    <tr>\n",
       "      <td>8290</td>\n",
       "      <td>0.890900</td>\n",
       "    </tr>\n",
       "    <tr>\n",
       "      <td>8300</td>\n",
       "      <td>0.821700</td>\n",
       "    </tr>\n",
       "    <tr>\n",
       "      <td>8310</td>\n",
       "      <td>1.055800</td>\n",
       "    </tr>\n",
       "    <tr>\n",
       "      <td>8320</td>\n",
       "      <td>0.823500</td>\n",
       "    </tr>\n",
       "    <tr>\n",
       "      <td>8330</td>\n",
       "      <td>0.897700</td>\n",
       "    </tr>\n",
       "    <tr>\n",
       "      <td>8340</td>\n",
       "      <td>0.761100</td>\n",
       "    </tr>\n",
       "    <tr>\n",
       "      <td>8350</td>\n",
       "      <td>1.135700</td>\n",
       "    </tr>\n",
       "    <tr>\n",
       "      <td>8360</td>\n",
       "      <td>0.964600</td>\n",
       "    </tr>\n",
       "    <tr>\n",
       "      <td>8370</td>\n",
       "      <td>0.901700</td>\n",
       "    </tr>\n",
       "    <tr>\n",
       "      <td>8380</td>\n",
       "      <td>0.783100</td>\n",
       "    </tr>\n",
       "    <tr>\n",
       "      <td>8390</td>\n",
       "      <td>0.935900</td>\n",
       "    </tr>\n",
       "    <tr>\n",
       "      <td>8400</td>\n",
       "      <td>0.980200</td>\n",
       "    </tr>\n",
       "    <tr>\n",
       "      <td>8410</td>\n",
       "      <td>0.953100</td>\n",
       "    </tr>\n",
       "    <tr>\n",
       "      <td>8420</td>\n",
       "      <td>0.758200</td>\n",
       "    </tr>\n",
       "    <tr>\n",
       "      <td>8430</td>\n",
       "      <td>0.888400</td>\n",
       "    </tr>\n",
       "    <tr>\n",
       "      <td>8440</td>\n",
       "      <td>0.917900</td>\n",
       "    </tr>\n",
       "    <tr>\n",
       "      <td>8450</td>\n",
       "      <td>1.029200</td>\n",
       "    </tr>\n",
       "    <tr>\n",
       "      <td>8460</td>\n",
       "      <td>1.000200</td>\n",
       "    </tr>\n",
       "    <tr>\n",
       "      <td>8470</td>\n",
       "      <td>0.745800</td>\n",
       "    </tr>\n",
       "    <tr>\n",
       "      <td>8480</td>\n",
       "      <td>1.131200</td>\n",
       "    </tr>\n",
       "    <tr>\n",
       "      <td>8490</td>\n",
       "      <td>0.997700</td>\n",
       "    </tr>\n",
       "    <tr>\n",
       "      <td>8500</td>\n",
       "      <td>1.040300</td>\n",
       "    </tr>\n",
       "    <tr>\n",
       "      <td>8510</td>\n",
       "      <td>0.708100</td>\n",
       "    </tr>\n",
       "    <tr>\n",
       "      <td>8520</td>\n",
       "      <td>1.001500</td>\n",
       "    </tr>\n",
       "    <tr>\n",
       "      <td>8530</td>\n",
       "      <td>0.955700</td>\n",
       "    </tr>\n",
       "    <tr>\n",
       "      <td>8540</td>\n",
       "      <td>0.935100</td>\n",
       "    </tr>\n",
       "    <tr>\n",
       "      <td>8550</td>\n",
       "      <td>0.843800</td>\n",
       "    </tr>\n",
       "    <tr>\n",
       "      <td>8560</td>\n",
       "      <td>0.824300</td>\n",
       "    </tr>\n",
       "    <tr>\n",
       "      <td>8570</td>\n",
       "      <td>0.924400</td>\n",
       "    </tr>\n",
       "    <tr>\n",
       "      <td>8580</td>\n",
       "      <td>0.909100</td>\n",
       "    </tr>\n",
       "    <tr>\n",
       "      <td>8590</td>\n",
       "      <td>0.905700</td>\n",
       "    </tr>\n",
       "    <tr>\n",
       "      <td>8600</td>\n",
       "      <td>1.063500</td>\n",
       "    </tr>\n",
       "    <tr>\n",
       "      <td>8610</td>\n",
       "      <td>0.843700</td>\n",
       "    </tr>\n",
       "    <tr>\n",
       "      <td>8620</td>\n",
       "      <td>0.942900</td>\n",
       "    </tr>\n",
       "    <tr>\n",
       "      <td>8630</td>\n",
       "      <td>0.809500</td>\n",
       "    </tr>\n",
       "    <tr>\n",
       "      <td>8640</td>\n",
       "      <td>0.865200</td>\n",
       "    </tr>\n",
       "    <tr>\n",
       "      <td>8650</td>\n",
       "      <td>0.945100</td>\n",
       "    </tr>\n",
       "    <tr>\n",
       "      <td>8660</td>\n",
       "      <td>0.938200</td>\n",
       "    </tr>\n",
       "    <tr>\n",
       "      <td>8670</td>\n",
       "      <td>0.740000</td>\n",
       "    </tr>\n",
       "    <tr>\n",
       "      <td>8680</td>\n",
       "      <td>0.901200</td>\n",
       "    </tr>\n",
       "    <tr>\n",
       "      <td>8690</td>\n",
       "      <td>0.864600</td>\n",
       "    </tr>\n",
       "    <tr>\n",
       "      <td>8700</td>\n",
       "      <td>0.896800</td>\n",
       "    </tr>\n",
       "    <tr>\n",
       "      <td>8710</td>\n",
       "      <td>0.708100</td>\n",
       "    </tr>\n",
       "    <tr>\n",
       "      <td>8720</td>\n",
       "      <td>1.027500</td>\n",
       "    </tr>\n",
       "    <tr>\n",
       "      <td>8730</td>\n",
       "      <td>0.846700</td>\n",
       "    </tr>\n",
       "    <tr>\n",
       "      <td>8740</td>\n",
       "      <td>0.720800</td>\n",
       "    </tr>\n",
       "    <tr>\n",
       "      <td>8750</td>\n",
       "      <td>0.851000</td>\n",
       "    </tr>\n",
       "    <tr>\n",
       "      <td>8760</td>\n",
       "      <td>0.905600</td>\n",
       "    </tr>\n",
       "    <tr>\n",
       "      <td>8770</td>\n",
       "      <td>0.840300</td>\n",
       "    </tr>\n",
       "    <tr>\n",
       "      <td>8780</td>\n",
       "      <td>1.130900</td>\n",
       "    </tr>\n",
       "    <tr>\n",
       "      <td>8790</td>\n",
       "      <td>0.891600</td>\n",
       "    </tr>\n",
       "    <tr>\n",
       "      <td>8800</td>\n",
       "      <td>0.778900</td>\n",
       "    </tr>\n",
       "    <tr>\n",
       "      <td>8810</td>\n",
       "      <td>0.955800</td>\n",
       "    </tr>\n",
       "    <tr>\n",
       "      <td>8820</td>\n",
       "      <td>1.070600</td>\n",
       "    </tr>\n",
       "    <tr>\n",
       "      <td>8830</td>\n",
       "      <td>0.985400</td>\n",
       "    </tr>\n",
       "    <tr>\n",
       "      <td>8840</td>\n",
       "      <td>0.939900</td>\n",
       "    </tr>\n",
       "    <tr>\n",
       "      <td>8850</td>\n",
       "      <td>0.858500</td>\n",
       "    </tr>\n",
       "    <tr>\n",
       "      <td>8860</td>\n",
       "      <td>0.926800</td>\n",
       "    </tr>\n",
       "    <tr>\n",
       "      <td>8870</td>\n",
       "      <td>0.934200</td>\n",
       "    </tr>\n",
       "    <tr>\n",
       "      <td>8880</td>\n",
       "      <td>0.853900</td>\n",
       "    </tr>\n",
       "    <tr>\n",
       "      <td>8890</td>\n",
       "      <td>0.862600</td>\n",
       "    </tr>\n",
       "    <tr>\n",
       "      <td>8900</td>\n",
       "      <td>0.897700</td>\n",
       "    </tr>\n",
       "    <tr>\n",
       "      <td>8910</td>\n",
       "      <td>0.958100</td>\n",
       "    </tr>\n",
       "    <tr>\n",
       "      <td>8920</td>\n",
       "      <td>1.000700</td>\n",
       "    </tr>\n",
       "    <tr>\n",
       "      <td>8930</td>\n",
       "      <td>0.855000</td>\n",
       "    </tr>\n",
       "    <tr>\n",
       "      <td>8940</td>\n",
       "      <td>0.655000</td>\n",
       "    </tr>\n",
       "    <tr>\n",
       "      <td>8950</td>\n",
       "      <td>0.848700</td>\n",
       "    </tr>\n",
       "    <tr>\n",
       "      <td>8960</td>\n",
       "      <td>0.926000</td>\n",
       "    </tr>\n",
       "    <tr>\n",
       "      <td>8970</td>\n",
       "      <td>0.926000</td>\n",
       "    </tr>\n",
       "    <tr>\n",
       "      <td>8980</td>\n",
       "      <td>0.820800</td>\n",
       "    </tr>\n",
       "    <tr>\n",
       "      <td>8990</td>\n",
       "      <td>0.773400</td>\n",
       "    </tr>\n",
       "  </tbody>\n",
       "</table><p>"
      ],
      "text/plain": [
       "<IPython.core.display.HTML object>"
      ]
     },
     "metadata": {},
     "output_type": "display_data"
    },
    {
     "name": "stderr",
     "output_type": "stream",
     "text": [
      "/opt/conda/envs/qa/lib/python3.9/site-packages/torch/utils/checkpoint.py:464: UserWarning: torch.utils.checkpoint: the use_reentrant parameter should be passed explicitly. In version 2.4 we will raise an exception if use_reentrant is not passed. use_reentrant=False is recommended, but if you need to preserve the current default behavior, you can pass use_reentrant=True. Refer to docs for more details on the differences between the two variants.\n",
      "  warnings.warn(\n",
      "/opt/conda/envs/qa/lib/python3.9/site-packages/torch/utils/checkpoint.py:464: UserWarning: torch.utils.checkpoint: the use_reentrant parameter should be passed explicitly. In version 2.4 we will raise an exception if use_reentrant is not passed. use_reentrant=False is recommended, but if you need to preserve the current default behavior, you can pass use_reentrant=True. Refer to docs for more details on the differences between the two variants.\n",
      "  warnings.warn(\n",
      "/opt/conda/envs/qa/lib/python3.9/site-packages/torch/utils/checkpoint.py:464: UserWarning: torch.utils.checkpoint: the use_reentrant parameter should be passed explicitly. In version 2.4 we will raise an exception if use_reentrant is not passed. use_reentrant=False is recommended, but if you need to preserve the current default behavior, you can pass use_reentrant=True. Refer to docs for more details on the differences between the two variants.\n",
      "  warnings.warn(\n",
      "/opt/conda/envs/qa/lib/python3.9/site-packages/torch/utils/checkpoint.py:464: UserWarning: torch.utils.checkpoint: the use_reentrant parameter should be passed explicitly. In version 2.4 we will raise an exception if use_reentrant is not passed. use_reentrant=False is recommended, but if you need to preserve the current default behavior, you can pass use_reentrant=True. Refer to docs for more details on the differences between the two variants.\n",
      "  warnings.warn(\n",
      "/opt/conda/envs/qa/lib/python3.9/site-packages/torch/utils/checkpoint.py:464: UserWarning: torch.utils.checkpoint: the use_reentrant parameter should be passed explicitly. In version 2.4 we will raise an exception if use_reentrant is not passed. use_reentrant=False is recommended, but if you need to preserve the current default behavior, you can pass use_reentrant=True. Refer to docs for more details on the differences between the two variants.\n",
      "  warnings.warn(\n",
      "/opt/conda/envs/qa/lib/python3.9/site-packages/torch/utils/checkpoint.py:464: UserWarning: torch.utils.checkpoint: the use_reentrant parameter should be passed explicitly. In version 2.4 we will raise an exception if use_reentrant is not passed. use_reentrant=False is recommended, but if you need to preserve the current default behavior, you can pass use_reentrant=True. Refer to docs for more details on the differences between the two variants.\n",
      "  warnings.warn(\n",
      "/opt/conda/envs/qa/lib/python3.9/site-packages/torch/utils/checkpoint.py:464: UserWarning: torch.utils.checkpoint: the use_reentrant parameter should be passed explicitly. In version 2.4 we will raise an exception if use_reentrant is not passed. use_reentrant=False is recommended, but if you need to preserve the current default behavior, you can pass use_reentrant=True. Refer to docs for more details on the differences between the two variants.\n",
      "  warnings.warn(\n",
      "/opt/conda/envs/qa/lib/python3.9/site-packages/torch/utils/checkpoint.py:464: UserWarning: torch.utils.checkpoint: the use_reentrant parameter should be passed explicitly. In version 2.4 we will raise an exception if use_reentrant is not passed. use_reentrant=False is recommended, but if you need to preserve the current default behavior, you can pass use_reentrant=True. Refer to docs for more details on the differences between the two variants.\n",
      "  warnings.warn(\n",
      "/opt/conda/envs/qa/lib/python3.9/site-packages/torch/utils/checkpoint.py:464: UserWarning: torch.utils.checkpoint: the use_reentrant parameter should be passed explicitly. In version 2.4 we will raise an exception if use_reentrant is not passed. use_reentrant=False is recommended, but if you need to preserve the current default behavior, you can pass use_reentrant=True. Refer to docs for more details on the differences between the two variants.\n",
      "  warnings.warn(\n"
     ]
    },
    {
     "data": {
      "text/plain": [
       "TrainOutput(global_step=8991, training_loss=1.051508852569986, metrics={'train_runtime': 9374.7496, 'train_samples_per_second': 15.342, 'train_steps_per_second': 0.959, 'total_flos': 3.797296535699251e+16, 'train_loss': 1.051508852569986, 'epoch': 3.0})"
      ]
     },
     "execution_count": 5,
     "metadata": {},
     "output_type": "execute_result"
    }
   ],
   "source": [
    "trainer.train()"
   ]
  },
  {
   "cell_type": "markdown",
   "id": "9df96a95-ab9f-4213-af0c-b2fa9adf242c",
   "metadata": {},
   "source": [
    "# Inference"
   ]
  },
  {
   "cell_type": "code",
   "execution_count": 1,
   "id": "3ece9da2-b33f-4de3-aea3-30303f07a247",
   "metadata": {},
   "outputs": [
    {
     "name": "stderr",
     "output_type": "stream",
     "text": [
      "/opt/conda/envs/qa/lib/python3.9/site-packages/tqdm/auto.py:21: TqdmWarning: IProgress not found. Please update jupyter and ipywidgets. See https://ipywidgets.readthedocs.io/en/stable/user_install.html\n",
      "  from .autonotebook import tqdm as notebook_tqdm\n"
     ]
    }
   ],
   "source": [
    "import torch\n",
    "import pandas as pd\n",
    "from transformers import AutoModelForQuestionAnswering, AutoTokenizer, BitsAndBytesConfig\n",
    "from peft import PeftModel, PeftConfig\n",
    "from tqdm import tqdm\n",
    "\n",
    "CHECK_POINT = \"/home/jovyan/work/ai_chat_qa_task/code/test/BERT/checkpoint-8991\"\n",
    "TEST_fOLDER = '/home/jovyan/work/prj_data/open/test.csv'\n",
    "OUTPUT = \"test\"\n",
    "\n",
    "DEVICE = \"cuda\" if torch.cuda.is_available() else \"cpu\"\n",
    "csv = pd.read_csv(TEST_fOLDER)\n",
    "\n",
    "quantization_config = BitsAndBytesConfig(\n",
    "    load_in_4bit=True,\n",
    "    bnb_4bit_use_double_quant=True,\n",
    "    bnb_4bit_quant_type=\"nf4\",\n",
    "    bnb_4bit_compute_dtype=torch.float16,\n",
    ")\n",
    "\n",
    "# 모델 및 토크나이저 로드\n",
    "config = PeftConfig.from_pretrained(CHECK_POINT)\n",
    "model = AutoModelForQuestionAnswering.from_pretrained(\n",
    "    config.base_model_name_or_path,\n",
    "    # quantization_config=quantization_config,\n",
    "    device_map=\"cuda:0\",\n",
    "    torch_dtype=torch.float16\n",
    ")\n",
    "# model = PeftModel.from_pretrained(model, CHECK_POINT)\n",
    "model.eval()\n",
    "\n",
    "tokenizer = AutoTokenizer.from_pretrained(config.base_model_name_or_path)\n",
    "# tokenizer.add_tokens(['위챗', '대만 서부', '먀오리현', '(爭訟)'])\n",
    "# model.resize_token_embeddings(len(tokenizer))"
   ]
  },
  {
   "cell_type": "code",
   "execution_count": 2,
   "id": "592e72dd-2e6f-4398-9e6d-e333db61f47b",
   "metadata": {},
   "outputs": [
    {
     "name": "stderr",
     "output_type": "stream",
     "text": [
      "  0%|          | 1/1507 [00:03<1:29:42,  3.57s/it]"
     ]
    },
    {
     "name": "stdout",
     "output_type": "stream",
     "text": [
      "ID: TEST_0000 Question: 어떤 기관이 지역 중소기업과 소상공인들에게 큰 힘이 되는 통상진흥원인가요 Generated answer: 경제통상진흥원\n"
     ]
    },
    {
     "name": "stderr",
     "output_type": "stream",
     "text": [
      "  0%|          | 2/1507 [00:06<1:17:22,  3.08s/it]"
     ]
    },
    {
     "name": "stdout",
     "output_type": "stream",
     "text": [
      "ID: TEST_0001 Question: 제주 경제통상진흥원이 어떤 해외 시장을 우선적으로 공략하고 있나요 Generated answer: 중국 현지시장\n"
     ]
    },
    {
     "name": "stderr",
     "output_type": "stream",
     "text": [
      "  0%|          | 3/1507 [00:09<1:19:36,  3.18s/it]"
     ]
    },
    {
     "name": "stdout",
     "output_type": "stream",
     "text": [
      "ID: TEST_0002 Question: 상해대표처는 어느 시점에 설립되었습니까 Generated answer: 2015년 8월\n"
     ]
    },
    {
     "name": "stderr",
     "output_type": "stream",
     "text": [
      "  0%|          | 4/1507 [00:12<1:20:30,  3.21s/it]"
     ]
    },
    {
     "name": "stdout",
     "output_type": "stream",
     "text": [
      "ID: TEST_0003 Question: 동경통상대표부는 어느 지역에 설립되었습니까 Generated answer: 일본 도쿄 신주쿠\n"
     ]
    },
    {
     "name": "stderr",
     "output_type": "stream",
     "text": [
      "  0%|          | 5/1507 [00:16<1:21:08,  3.24s/it]"
     ]
    },
    {
     "name": "stdout",
     "output_type": "stream",
     "text": [
      "ID: TEST_0004 Question: 제주경제통상진흥원이 지난해에 도내에서 생산된 제품에 대한 일본 수출에 얼마를 지원했나요 Generated answer: 31억7200만원\n"
     ]
    },
    {
     "name": "stderr",
     "output_type": "stream",
     "text": [
      "  0%|          | 6/1507 [00:19<1:21:19,  3.25s/it]"
     ]
    },
    {
     "name": "stdout",
     "output_type": "stream",
     "text": [
      "ID: TEST_0005 Question: 서경대 실용음악과 보컬전공의 대입 시험은 어디에서 진행되었나 Generated answer: 풋살경기장\n"
     ]
    },
    {
     "name": "stderr",
     "output_type": "stream",
     "text": [
      "  0%|          | 7/1507 [00:22<1:21:43,  3.27s/it]"
     ]
    },
    {
     "name": "stdout",
     "output_type": "stream",
     "text": [
      "ID: TEST_0006 Question: 천막 고사장으로 변경한 이유는 무엇인가 Generated answer: 신종 코로나바이러스 감염증\n"
     ]
    },
    {
     "name": "stderr",
     "output_type": "stream",
     "text": [
      "  1%|          | 8/1507 [00:26<1:21:52,  3.28s/it]"
     ]
    },
    {
     "name": "stdout",
     "output_type": "stream",
     "text": [
      "ID: TEST_0007 Question: 2021학년도 서경대 실용음악과 보컬 전공 수시에 몇 명이 지원했나 Generated answer: 1710명\n"
     ]
    },
    {
     "name": "stderr",
     "output_type": "stream",
     "text": [
      "  1%|          | 9/1507 [00:29<1:20:58,  3.24s/it]"
     ]
    },
    {
     "name": "stdout",
     "output_type": "stream",
     "text": [
      "ID: TEST_0008 Question: 하나의 시험 당 약 몇 명이 참가했나 Generated answer: 1710명\n"
     ]
    },
    {
     "name": "stderr",
     "output_type": "stream",
     "text": [
      "  1%|          | 10/1507 [00:31<1:13:47,  2.96s/it]"
     ]
    },
    {
     "name": "stdout",
     "output_type": "stream",
     "text": [
      "ID: TEST_0009 Question: 기존과 같은 방식으로 대면 면접·실기시험을 치르는 학교들은 어떤 방식을 채택했나 Generated answer: 대입 수시 대학별고사\n"
     ]
    },
    {
     "name": "stderr",
     "output_type": "stream",
     "text": [
      "  1%|          | 11/1507 [00:32<59:48,  2.40s/it]  "
     ]
    },
    {
     "name": "stdout",
     "output_type": "stream",
     "text": [
      "ID: TEST_0010 Question: 중소기업 혁신바우처 사업이란 어떤 사업인가 Generated answer: 제조 중소기업의 경영혁신과 원활한 회생과 재기 활동을 지원하기 위해 컨설팅, 기술지원, 마케팅 서비스를 제공\n"
     ]
    },
    {
     "name": "stderr",
     "output_type": "stream",
     "text": [
      "  1%|          | 12/1507 [00:33<49:39,  1.99s/it]"
     ]
    },
    {
     "name": "stdout",
     "output_type": "stream",
     "text": [
      "ID: TEST_0011 Question: 이번에 신설된 컨설팅 서비스 프로그램이 무엇인가 Generated answer: 3개 ( 탄소중립 경영혁신 ‧ 융복합 ‧ 산업안전 )\n"
     ]
    },
    {
     "name": "stderr",
     "output_type": "stream",
     "text": [
      "  1%|          | 13/1507 [00:34<43:58,  1.77s/it]"
     ]
    },
    {
     "name": "stdout",
     "output_type": "stream",
     "text": [
      "ID: TEST_0012 Question: 일반 바우처를 지원받을 수 있는 기업의 대상 조건은 무엇인가 Generated answer: 최근 3개년 평균 매출액 120억원 이하의 제조 소기업\n"
     ]
    },
    {
     "name": "stderr",
     "output_type": "stream",
     "text": [
      "  1%|          | 14/1507 [00:36<39:38,  1.59s/it]"
     ]
    },
    {
     "name": "stdout",
     "output_type": "stream",
     "text": [
      "ID: TEST_0013 Question: 선정된 기업이 받을 수 있는 바우처 발급금액 한도는 얼마인가 Generated answer: 5000만원\n"
     ]
    },
    {
     "name": "stderr",
     "output_type": "stream",
     "text": [
      "  1%|          | 15/1507 [00:37<36:22,  1.46s/it]"
     ]
    },
    {
     "name": "stdout",
     "output_type": "stream",
     "text": [
      "ID: TEST_0014 Question: 중소기업 혁신바우처 사업의 참여를 위해 신청을 어디에서 할 수 있는가 Generated answer: 혁신바우처플랫폼\n"
     ]
    },
    {
     "name": "stderr",
     "output_type": "stream",
     "text": [
      "  1%|          | 16/1507 [00:38<37:16,  1.50s/it]"
     ]
    },
    {
     "name": "stdout",
     "output_type": "stream",
     "text": [
      "ID: TEST_0015 Question: 산림청과 한국농수산식품유통공사는 어느 온라인 플랫폼에 입점할 임산물 가공식품 업체를 모집하는 계획인가 Generated answer: Shopee'( 쇼피 )\n"
     ]
    },
    {
     "name": "stderr",
     "output_type": "stream",
     "text": [
      "  1%|          | 17/1507 [00:39<33:36,  1.35s/it]"
     ]
    },
    {
     "name": "stdout",
     "output_type": "stream",
     "text": [
      "ID: TEST_0016 Question: 한국농수산식품유통공사와 산림청이 본격 공략하려는 지역은 어디인가 Generated answer: 신남방지역\n"
     ]
    },
    {
     "name": "stderr",
     "output_type": "stream",
     "text": [
      "  1%|          | 18/1507 [00:41<34:11,  1.38s/it]"
     ]
    },
    {
     "name": "stdout",
     "output_type": "stream",
     "text": [
      "ID: TEST_0017 Question: 산림청과 한국농수산식품유통공사가 선정한 업체에 제공하는 사전 기본교육 비용, 전략 컨설팅 비용, 유료 프로모션 수행 비용 중 가장 높은 지원 금액은 어느 기능에 해당하는가 Generated answer: ##온라인 플레이스 입점을 위한 사전 기본교육 비용 전액 ▲참가업체별 상품 관리 및 매출 증진을 위한 전략 컨설팅 비용 전액 ▲업체별 한도 3백만원 이내 키워드 광고\n"
     ]
    },
    {
     "name": "stderr",
     "output_type": "stream",
     "text": [
      "  1%|▏         | 19/1507 [00:42<32:22,  1.31s/it]"
     ]
    },
    {
     "name": "stdout",
     "output_type": "stream",
     "text": [
      "ID: TEST_0018 Question: 그간 K-임산물의 수출 확대를 위해 aT와 산림청이 온라인몰 입점 지원사업을 진행했던 주요 국가는 어디로 나타나 있는가 Generated answer: 북미시장 ( 아마존 ) 및 중국시장\n"
     ]
    },
    {
     "name": "stderr",
     "output_type": "stream",
     "text": [
      "  1%|▏         | 20/1507 [00:43<31:03,  1.25s/it]"
     ]
    },
    {
     "name": "stdout",
     "output_type": "stream",
     "text": [
      "ID: TEST_0019 Question: 동남아 전자상거래 시장 규모는 2025년 기준으로 어느 수준으로 전망되는가 Generated answer: 1720억 달러\n"
     ]
    },
    {
     "name": "stderr",
     "output_type": "stream",
     "text": [
      "  1%|▏         | 21/1507 [00:47<52:22,  2.11s/it]"
     ]
    },
    {
     "name": "stdout",
     "output_type": "stream",
     "text": [
      "ID: TEST_0020 Question: 캠페인은 언제부터 일요일 자정까지 진행되어, 외식 업소에서 몇 번 2만원 이상 결제하면 캐시백 또는 할인 혜택을 받는가 Generated answer: 금요일 오후 4시\n"
     ]
    },
    {
     "name": "stderr",
     "output_type": "stream",
     "text": [
      "  1%|▏         | 22/1507 [00:51<1:02:57,  2.54s/it]"
     ]
    },
    {
     "name": "stdout",
     "output_type": "stream",
     "text": [
      "ID: TEST_0021 Question: 캠페인은 총 얼마의 예산으로 진행될 예정인가 Generated answer: 330억원\n"
     ]
    },
    {
     "name": "stderr",
     "output_type": "stream",
     "text": [
      "  2%|▏         | 23/1507 [00:55<1:16:41,  3.10s/it]"
     ]
    },
    {
     "name": "stdout",
     "output_type": "stream",
     "text": [
      "ID: TEST_0022 Question: 행정에 대한 김우주 고려대구로병원 감염내과 교수의 관점에 따르면 국민은 어떤 메시지에 맞춰야 하는지 어떻게 되는가 Generated answer: 취사선택\n"
     ]
    },
    {
     "name": "stderr",
     "output_type": "stream",
     "text": [
      "  2%|▏         | 24/1507 [00:59<1:24:24,  3.41s/it]"
     ]
    },
    {
     "name": "stdout",
     "output_type": "stream",
     "text": [
      "ID: TEST_0023 Question: 고 투 캠페인 사업'은 어떤 비용을 지원하는가 Generated answer: 여행 비용을\n"
     ]
    },
    {
     "name": "stderr",
     "output_type": "stream",
     "text": [
      "  2%|▏         | 25/1507 [01:03<1:25:14,  3.45s/it]"
     ]
    },
    {
     "name": "stdout",
     "output_type": "stream",
     "text": [
      "ID: TEST_0024 Question: 특별 여행주간은 언제로 선포된 것인가 Generated answer: 오는 10월\n"
     ]
    },
    {
     "name": "stderr",
     "output_type": "stream",
     "text": [
      "  2%|▏         | 26/1507 [01:06<1:23:58,  3.40s/it]"
     ]
    },
    {
     "name": "stdout",
     "output_type": "stream",
     "text": [
      "ID: TEST_0025 Question: 조사에 응답한 기업의 대부분은 월 매출 규모가 얼마인 기업인가 Generated answer: 50억원\n"
     ]
    },
    {
     "name": "stderr",
     "output_type": "stream",
     "text": [
      "  2%|▏         | 27/1507 [01:09<1:19:48,  3.24s/it]"
     ]
    },
    {
     "name": "stdout",
     "output_type": "stream",
     "text": [
      "ID: TEST_0026 Question: 2020년 매출이 감소한 기업은 응답한 전체 기업 중 몇 퍼센트인가 Generated answer: 61. 3 %\n"
     ]
    },
    {
     "name": "stderr",
     "output_type": "stream",
     "text": [
      "  2%|▏         | 28/1507 [01:12<1:15:22,  3.06s/it]"
     ]
    },
    {
     "name": "stdout",
     "output_type": "stream",
     "text": [
      "ID: TEST_0027 Question: 2021년에도 온라인 마케팅 사업에 참여하겠다고 응답한 기업은 전체 중 몇 퍼센트인가 Generated answer: 95. 5 %\n"
     ]
    },
    {
     "name": "stderr",
     "output_type": "stream",
     "text": [
      "  2%|▏         | 29/1507 [01:15<1:17:02,  3.13s/it]"
     ]
    },
    {
     "name": "stdout",
     "output_type": "stream",
     "text": [
      "ID: TEST_0028 Question: 기업들이 올해 지원이 필요한 분야로 가장 많이 꼽은 것은 무엇인가 Generated answer: 자금지원 ( 31. 3 % ) 을 가장 많이 꼽았고, 온라인 수출마케팅\n"
     ]
    },
    {
     "name": "stderr",
     "output_type": "stream",
     "text": [
      "  2%|▏         | 30/1507 [01:18<1:18:06,  3.17s/it]"
     ]
    },
    {
     "name": "stdout",
     "output_type": "stream",
     "text": [
      "ID: TEST_0029 Question: 지난해 촉발된 세계경제 위기로 절반에 가까운 광주·전남 기업들의 어떤 비즈니스가 감소한 것으로 나타났는가 Generated answer: 수출을 포함한 매출\n"
     ]
    },
    {
     "name": "stderr",
     "output_type": "stream",
     "text": [
      "  2%|▏         | 31/1507 [01:19<1:02:47,  2.55s/it]"
     ]
    },
    {
     "name": "stdout",
     "output_type": "stream",
     "text": [
      "ID: TEST_0030 Question: 어떤 상품을 기찬들 영암몰에서 10일과 17일에 할인 판매하는가 Generated answer: 쌀, 17일에는 고구마\n"
     ]
    },
    {
     "name": "stderr",
     "output_type": "stream",
     "text": [
      "  2%|▏         | 32/1507 [01:21<53:48,  2.19s/it]  "
     ]
    },
    {
     "name": "stdout",
     "output_type": "stream",
     "text": [
      "ID: TEST_0031 Question: 기찬들 영암몰에서 신규 회원가입 고객에게 주는 적립금은 얼마인가 Generated answer: 3천원\n"
     ]
    },
    {
     "name": "stderr",
     "output_type": "stream",
     "text": [
      "  2%|▏         | 33/1507 [01:22<48:55,  1.99s/it]"
     ]
    },
    {
     "name": "stdout",
     "output_type": "stream",
     "text": [
      "ID: TEST_0032 Question: 최우수 포토후기를 남긴 고객에게 주어지는 상품은 무엇인가 Generated answer: 무화과 쌀빵\n"
     ]
    },
    {
     "name": "stderr",
     "output_type": "stream",
     "text": [
      "  2%|▏         | 34/1507 [01:24<44:34,  1.82s/it]"
     ]
    },
    {
     "name": "stdout",
     "output_type": "stream",
     "text": [
      "ID: TEST_0033 Question: 기찬들 영암몰 개관 이후 온라인 판매 누적 매출액은 얼마인가 Generated answer: 7억5천만원\n"
     ]
    },
    {
     "name": "stderr",
     "output_type": "stream",
     "text": [
      "  2%|▏         | 35/1507 [01:25<40:02,  1.63s/it]"
     ]
    },
    {
     "name": "stdout",
     "output_type": "stream",
     "text": [
      "ID: TEST_0034 Question: 기찬들 영암몰'이 연계한 전남도 온라인 쇼핑몰의 이름은 무엇인가 Generated answer: 남도장터\n"
     ]
    },
    {
     "name": "stderr",
     "output_type": "stream",
     "text": [
      "  2%|▏         | 36/1507 [01:28<52:10,  2.13s/it]"
     ]
    },
    {
     "name": "stdout",
     "output_type": "stream",
     "text": [
      "ID: TEST_0035 Question: 애플이 고 이건희 회장의 빈소에 보낸 조화 화환의 단수는 몇 단인가 Generated answer: 3단 화환 대신 단순한 형태의 1단\n"
     ]
    },
    {
     "name": "stderr",
     "output_type": "stream",
     "text": [
      "  2%|▏         | 37/1507 [01:31<1:00:39,  2.48s/it]"
     ]
    },
    {
     "name": "stdout",
     "output_type": "stream",
     "text": [
      "ID: TEST_0036 Question: 애플의 창업자 이름은 무엇인가 Generated answer: 고 스티브 잡스\n"
     ]
    },
    {
     "name": "stderr",
     "output_type": "stream",
     "text": [
      "  3%|▎         | 38/1507 [01:35<1:06:34,  2.72s/it]"
     ]
    },
    {
     "name": "stdout",
     "output_type": "stream",
     "text": [
      "ID: TEST_0037 Question: 이재용 부회장이 참석한 스티브 잡스의 추도식이 열린 대학교 이름은 무엇인가 Generated answer: 미국 스탠퍼드 대학교\n"
     ]
    },
    {
     "name": "stderr",
     "output_type": "stream",
     "text": [
      "  3%|▎         | 39/1507 [01:39<1:15:21,  3.08s/it]"
     ]
    },
    {
     "name": "stdout",
     "output_type": "stream",
     "text": [
      "ID: TEST_0038 Question: 스티브 잡스가 1983년 서울에서 만난 삼성 창업주의 이름은 무엇인가 Generated answer: 호암 ’ 고 이병철\n"
     ]
    },
    {
     "name": "stderr",
     "output_type": "stream",
     "text": [
      "  3%|▎         | 40/1507 [01:41<1:12:17,  2.96s/it]"
     ]
    },
    {
     "name": "stdout",
     "output_type": "stream",
     "text": [
      "ID: TEST_0039 Question: 2007년 처음 공개된 제품의 이름은 무엇인가 Generated answer: 아이폰은 2007년 1월\n"
     ]
    },
    {
     "name": "stderr",
     "output_type": "stream",
     "text": [
      "  3%|▎         | 41/1507 [01:45<1:14:44,  3.06s/it]"
     ]
    },
    {
     "name": "stdout",
     "output_type": "stream",
     "text": [
      "ID: TEST_0040 Question: 경남 창녕군 이방면 장천배수장 인근 낙동강 본류 둑이 무너진 시간은 언제인가 Generated answer: 9일 오전 2시\n"
     ]
    },
    {
     "name": "stderr",
     "output_type": "stream",
     "text": [
      "  3%|▎         | 42/1507 [01:48<1:16:17,  3.12s/it]"
     ]
    },
    {
     "name": "stdout",
     "output_type": "stream",
     "text": [
      "ID: TEST_0041 Question: 4대강 살리기 사업'으로 건설된 합천창녕보의 수위가 처음으로 상승하기 시작한 시점은 언제인가 Generated answer: 7일 오후\n"
     ]
    },
    {
     "name": "stderr",
     "output_type": "stream",
     "text": [
      "  3%|▎         | 43/1507 [01:51<1:17:30,  3.18s/it]"
     ]
    },
    {
     "name": "stdout",
     "output_type": "stream",
     "text": [
      "ID: TEST_0042 Question: 둑이 무너져 피해가 발생한 섬진강은 4대강 사업과 어떤 관련이 있는가 Generated answer: 제방의 침윤성\n"
     ]
    },
    {
     "name": "stderr",
     "output_type": "stream",
     "text": [
      "  3%|▎         | 44/1507 [01:55<1:23:34,  3.43s/it]"
     ]
    },
    {
     "name": "stdout",
     "output_type": "stream",
     "text": [
      "ID: TEST_0043 Question: 둑이 무너진 9일 오전 2시에는 보 수위가 얼마였는가 Generated answer: 17. 51m\n"
     ]
    },
    {
     "name": "stderr",
     "output_type": "stream",
     "text": [
      "  3%|▎         | 45/1507 [01:58<1:18:09,  3.21s/it]"
     ]
    },
    {
     "name": "stdout",
     "output_type": "stream",
     "text": [
      "ID: TEST_0044 Question: 보 상류와 하류의 수위 차이에 대한 홍수통제소 관계자의 설명은 어떻게 이루어졌는가 Generated answer: 강둑 붕괴\n"
     ]
    },
    {
     "name": "stderr",
     "output_type": "stream",
     "text": [
      "  3%|▎         | 46/1507 [02:01<1:15:56,  3.12s/it]"
     ]
    },
    {
     "name": "stdout",
     "output_type": "stream",
     "text": [
      "ID: TEST_0045 Question: 김모씨의 고향은 어디인가 Generated answer: 전남 보성군\n"
     ]
    },
    {
     "name": "stderr",
     "output_type": "stream",
     "text": [
      "  3%|▎         | 47/1507 [02:03<1:11:00,  2.92s/it]"
     ]
    },
    {
     "name": "stdout",
     "output_type": "stream",
     "text": [
      "ID: TEST_0046 Question: 전모씨의 아이가 고새 얼마나 자랐나 Generated answer: 10cm\n"
     ]
    },
    {
     "name": "stderr",
     "output_type": "stream",
     "text": [
      "  3%|▎         | 48/1507 [02:06<1:11:42,  2.95s/it]"
     ]
    },
    {
     "name": "stdout",
     "output_type": "stream",
     "text": [
      "ID: TEST_0047 Question: 김모씨의 거주지는 어디인가 Generated answer: 경기 용인시에\n"
     ]
    },
    {
     "name": "stderr",
     "output_type": "stream",
     "text": [
      "  3%|▎         | 49/1507 [02:09<1:08:06,  2.80s/it]"
     ]
    },
    {
     "name": "stdout",
     "output_type": "stream",
     "text": [
      "ID: TEST_0048 Question: 전모씨는 본가로 이동하기 위해 어떤 교통수단을 이용하려 했나 Generated answer: “ 대구에 사는데 기차\n"
     ]
    },
    {
     "name": "stderr",
     "output_type": "stream",
     "text": [
      "  3%|▎         | 50/1507 [02:12<1:11:31,  2.95s/it]"
     ]
    },
    {
     "name": "stdout",
     "output_type": "stream",
     "text": [
      "ID: TEST_0049 Question: 이모씨가 추석을 어디서 보내기로 결정했나 Generated answer: 서울에서 취업 준비를 하는 이모 ( 26 ) 씨는 “ 부모님이 할머니 할아버지와 함께 부산\n"
     ]
    },
    {
     "name": "stderr",
     "output_type": "stream",
     "text": [
      "  3%|▎         | 51/1507 [02:15<1:08:52,  2.84s/it]"
     ]
    },
    {
     "name": "stdout",
     "output_type": "stream",
     "text": [
      "ID: TEST_0050 Question: 공수처장 후보로 전 저축은행 합수단장을 추천한 기관은 어디인가 Generated answer: 대법원은 공수처장 후보로 최운식\n"
     ]
    },
    {
     "name": "stderr",
     "output_type": "stream",
     "text": [
      "  3%|▎         | 52/1507 [02:17<1:09:16,  2.86s/it]"
     ]
    },
    {
     "name": "stdout",
     "output_type": "stream",
     "text": [
      "ID: TEST_0051 Question: 법무부가 추천한 공수처장 후보는 누구인가 Generated answer: 전현정 ( 22기 ) 전 부장판사\n"
     ]
    },
    {
     "name": "stderr",
     "output_type": "stream",
     "text": [
      "  4%|▎         | 53/1507 [02:20<1:04:39,  2.67s/it]"
     ]
    },
    {
     "name": "stdout",
     "output_type": "stream",
     "text": [
      "ID: TEST_0052 Question: 대한변호사협회가 추천한 공수처장 후보 중 헌법재판소 선임연구관은 누구인가 Generated answer: 김진욱 ( 사법연수원 21기 · 대구 ) 헌법재판소 선임연구관, 이건리 ( 16기 · 전남 함평 ) 국민권익위원회 부위원장, 한명관\n"
     ]
    },
    {
     "name": "stderr",
     "output_type": "stream",
     "text": [
      "  4%|▎         | 54/1507 [02:23<1:09:10,  2.86s/it]"
     ]
    },
    {
     "name": "stdout",
     "output_type": "stream",
     "text": [
      "ID: TEST_0053 Question: 더불어민주당에게 추천된 후보자 중 서울고법 판사 출신은 누구인가 Generated answer: 전종민\n"
     ]
    },
    {
     "name": "stderr",
     "output_type": "stream",
     "text": [
      "  4%|▎         | 55/1507 [02:26<1:12:13,  2.98s/it]"
     ]
    },
    {
     "name": "stdout",
     "output_type": "stream",
     "text": [
      "ID: TEST_0054 Question: 국민의힘에게 추천된 후보자 중 전 대한법률구조공단 사무총장은 누구인가 Generated answer: 손기호\n"
     ]
    },
    {
     "name": "stderr",
     "output_type": "stream",
     "text": [
      "  4%|▎         | 56/1507 [02:30<1:20:39,  3.34s/it]"
     ]
    },
    {
     "name": "stdout",
     "output_type": "stream",
     "text": [
      "ID: TEST_0055 Question: 유행에 구멍이 뚫린 상태로 신규 환자가 계속 늘어나는 추세의 확진 지표는 무엇인가 Generated answer: 재생산지수\n"
     ]
    },
    {
     "name": "stderr",
     "output_type": "stream",
     "text": [
      "  4%|▍         | 57/1507 [02:34<1:21:58,  3.39s/it]"
     ]
    },
    {
     "name": "stdout",
     "output_type": "stream",
     "text": [
      "ID: TEST_0056 Question: 정은경 본부장이 현 상황에서 위험요인으로 본 것은 무엇인가 Generated answer: n차 전파\n"
     ]
    },
    {
     "name": "stderr",
     "output_type": "stream",
     "text": [
      "  4%|▍         | 58/1507 [02:38<1:29:00,  3.69s/it]"
     ]
    },
    {
     "name": "stdout",
     "output_type": "stream",
     "text": [
      "ID: TEST_0057 Question: 질병관리본부 중앙방역대책본부장은 누구인가 Generated answer: 정은경 질병관리본부 중앙방역대책본부장 ( 질병관리본부장 )\n"
     ]
    },
    {
     "name": "stderr",
     "output_type": "stream",
     "text": [
      "  4%|▍         | 60/1507 [02:41<56:06,  2.33s/it]  "
     ]
    },
    {
     "name": "stdout",
     "output_type": "stream",
     "text": [
      "ID: TEST_0058 Question: 사랑제일교회 관련 환자의 집계 현황은 어떤가 Generated answer: 누적 841명\n",
      "ID: TEST_0059 Question: 전국의 사회적 거리두기 상태는 몇 단계인가 Generated answer: 2단계\n"
     ]
    },
    {
     "name": "stderr",
     "output_type": "stream",
     "text": [
      "  4%|▍         | 62/1507 [02:41<29:00,  1.20s/it]"
     ]
    },
    {
     "name": "stdout",
     "output_type": "stream",
     "text": [
      "ID: TEST_0060 Question: 입사 1년차 직장인 A씨가 가입한 정기적금은 어떤 은행의 제품인가 Generated answer: ○○은행 정기적금에 덜컥 가입했다.\n",
      "ID: TEST_0061 Question: A씨가 매달 적립하는 정기적금 금액은 얼마인가 Generated answer: 20만원\n"
     ]
    },
    {
     "name": "stderr",
     "output_type": "stream",
     "text": [
      "  4%|▍         | 63/1507 [02:41<21:17,  1.13it/s]"
     ]
    },
    {
     "name": "stdout",
     "output_type": "stream",
     "text": [
      "ID: TEST_0062 Question: A씨가 얻을 수 있었던 최고의 금리는 얼마인가 Generated answer: 연 7 %\n",
      "ID: TEST_0063 Question: 중도해지금리의 연이율은 얼마인가 Generated answer: 0. 3 %\n"
     ]
    },
    {
     "name": "stderr",
     "output_type": "stream",
     "text": [
      "  4%|▍         | 66/1507 [02:41<10:21,  2.32it/s]"
     ]
    },
    {
     "name": "stdout",
     "output_type": "stream",
     "text": [
      "ID: TEST_0064 Question: 한 서민금융회사에 예금되어있는 예금의 보호 범위는 얼마인가 Generated answer: 5000만원\n",
      "ID: TEST_0065 Question: 김종호 신임 민정수석의 전 직책은 무엇이었나 Generated answer: 감사원 사무총장 출신\n"
     ]
    },
    {
     "name": "stderr",
     "output_type": "stream",
     "text": [
      "  4%|▍         | 67/1507 [02:44<21:41,  1.11it/s]"
     ]
    },
    {
     "name": "stdout",
     "output_type": "stream",
     "text": [
      "ID: TEST_0066 Question: 문 대통령이 청와대 민정수석에 검찰 출신을 임명하지 않은 이유는 무엇이라고 생각되나 Generated answer: 정치적 중립을 훼손\n"
     ]
    },
    {
     "name": "stderr",
     "output_type": "stream",
     "text": [
      "  5%|▍         | 68/1507 [02:47<37:13,  1.55s/it]"
     ]
    },
    {
     "name": "stdout",
     "output_type": "stream",
     "text": [
      "ID: TEST_0067 Question: 문재인 대통령이 저서에서 언급한 민정수석으로서의 가장 아쉬운 점은 무엇이었나 Generated answer: 고위공직자비리수사처 설치\n"
     ]
    },
    {
     "name": "stderr",
     "output_type": "stream",
     "text": [
      "  5%|▍         | 69/1507 [02:50<48:46,  2.03s/it]"
     ]
    },
    {
     "name": "stdout",
     "output_type": "stream",
     "text": [
      "ID: TEST_0068 Question: 민정수석 임명 과정에서 법조계에서 우려하는 부분은 무엇인가 Generated answer: 비교수 출신\n"
     ]
    },
    {
     "name": "stderr",
     "output_type": "stream",
     "text": [
      "  5%|▍         | 70/1507 [02:54<59:00,  2.46s/it]"
     ]
    },
    {
     "name": "stdout",
     "output_type": "stream",
     "text": [
      "ID: TEST_0069 Question: 김종호 민정수석에 대한 기대는 어떠한 점인가 Generated answer: 우직해 성과를 낼 수 있다는 기대\n"
     ]
    },
    {
     "name": "stderr",
     "output_type": "stream",
     "text": [
      "  5%|▍         | 71/1507 [02:57<1:02:50,  2.63s/it]"
     ]
    },
    {
     "name": "stdout",
     "output_type": "stream",
     "text": [
      "ID: TEST_0070 Question: 아시아나항공을 산업은행이 어느 그룹에 매각하는 방안을 추진하고 있는가 Generated answer: 한진그룹에\n"
     ]
    },
    {
     "name": "stderr",
     "output_type": "stream",
     "text": [
      "  5%|▍         | 72/1507 [03:01<1:15:09,  3.14s/it]"
     ]
    },
    {
     "name": "stdout",
     "output_type": "stream",
     "text": [
      "ID: TEST_0071 Question: 공정거래위원회는 몇 퍼센트의 시장점유율을 가진 회사가 결합하면 경쟁을 제한할 가능성이 있다고 보는가 Generated answer: 50 % 를\n"
     ]
    },
    {
     "name": "stderr",
     "output_type": "stream",
     "text": [
      "  5%|▍         | 73/1507 [03:06<1:23:49,  3.51s/it]"
     ]
    },
    {
     "name": "stdout",
     "output_type": "stream",
     "text": [
      "ID: TEST_0072 Question: 아시아나 항공의 지분 중 매각될 몇 퍼센트의 지분을 한진칼이 가지고 있는지 제시하라. Generated answer: 45. 23 %\n"
     ]
    },
    {
     "name": "stderr",
     "output_type": "stream",
     "text": [
      "  5%|▍         | 74/1507 [03:09<1:24:32,  3.54s/it]"
     ]
    },
    {
     "name": "stdout",
     "output_type": "stream",
     "text": [
      "ID: TEST_0073 Question: 대한항공과 아시아나의 기체 보유 대수를 합하면 얼마인가 Generated answer: 173대, 아시아나는 86대\n"
     ]
    },
    {
     "name": "stderr",
     "output_type": "stream",
     "text": [
      "  5%|▍         | 75/1507 [03:12<1:20:24,  3.37s/it]"
     ]
    },
    {
     "name": "stdout",
     "output_type": "stream",
     "text": [
      "ID: TEST_0074 Question: 대한항공과 아시아나가 합쳐진다면 매출은 얼마가 될 것으로 예상되는가 Generated answer: 15조원\n"
     ]
    },
    {
     "name": "stderr",
     "output_type": "stream",
     "text": [
      "  5%|▌         | 76/1507 [03:15<1:15:12,  3.15s/it]"
     ]
    },
    {
     "name": "stdout",
     "output_type": "stream",
     "text": [
      "ID: TEST_0075 Question: 올해 제주지역 토지 거래량은 몇 필지, 면적은 몇 ㎡로 집계됐나 Generated answer: 1060만8000㎡\n"
     ]
    },
    {
     "name": "stderr",
     "output_type": "stream",
     "text": [
      "  5%|▌         | 77/1507 [03:17<1:05:09,  2.73s/it]"
     ]
    },
    {
     "name": "stdout",
     "output_type": "stream",
     "text": [
      "ID: TEST_0076 Question: 제주시의 토지 거래량을 전년 동기 대비로 얼마나 늘었나 Generated answer: 2배 가까이\n"
     ]
    },
    {
     "name": "stderr",
     "output_type": "stream",
     "text": [
      "  5%|▌         | 78/1507 [03:19<1:01:15,  2.57s/it]"
     ]
    },
    {
     "name": "stdout",
     "output_type": "stream",
     "text": [
      "ID: TEST_0077 Question: 애월읍에서의 토지 거래량은 몇 필지, 면적은 몇 ㎡로 집계됐나 Generated answer: 116만6000㎡\n"
     ]
    },
    {
     "name": "stderr",
     "output_type": "stream",
     "text": [
      "  5%|▌         | 79/1507 [03:21<58:33,  2.46s/it]  "
     ]
    },
    {
     "name": "stdout",
     "output_type": "stream",
     "text": [
      "ID: TEST_0078 Question: 제주지역 주택종합 매매가격지수 변동률은 지난해 12월에 얼마였나 Generated answer: 0. 00 %\n"
     ]
    },
    {
     "name": "stderr",
     "output_type": "stream",
     "text": [
      "  5%|▌         | 80/1507 [03:23<56:38,  2.38s/it]"
     ]
    },
    {
     "name": "stdout",
     "output_type": "stream",
     "text": [
      "ID: TEST_0079 Question: 제주도 부동산시장 상황은 어떻게 평가되고 있는가 Generated answer: 보합, 안정세\n"
     ]
    },
    {
     "name": "stderr",
     "output_type": "stream",
     "text": [
      "  5%|▌         | 81/1507 [03:25<49:40,  2.09s/it]"
     ]
    },
    {
     "name": "stdout",
     "output_type": "stream",
     "text": [
      "ID: TEST_0080 Question: 소통협력센터 리모델링 공사가 완료되는 시점은 언제인가 Generated answer: 오는 7월\n"
     ]
    },
    {
     "name": "stderr",
     "output_type": "stream",
     "text": [
      "  5%|▌         | 82/1507 [03:26<44:14,  1.86s/it]"
     ]
    },
    {
     "name": "stdout",
     "output_type": "stream",
     "text": [
      "ID: TEST_0081 Question: 소통협력센터 리모델링에 투입된 총 예산은 얼마인가 Generated answer: 70억을\n"
     ]
    },
    {
     "name": "stderr",
     "output_type": "stream",
     "text": [
      "  6%|▌         | 83/1507 [03:27<37:36,  1.58s/it]"
     ]
    },
    {
     "name": "stdout",
     "output_type": "stream",
     "text": [
      "ID: TEST_0082 Question: 소통협력센터 리모델링의 건축연면적 규모는 얼마나 되는가 Generated answer: 4631㎡\n"
     ]
    },
    {
     "name": "stderr",
     "output_type": "stream",
     "text": [
      "  6%|▌         | 84/1507 [03:28<36:04,  1.52s/it]"
     ]
    },
    {
     "name": "stdout",
     "output_type": "stream",
     "text": [
      "ID: TEST_0083 Question: 소통협력센터의 5층에 어떤 시설이 들어가는가 Generated answer: 다목적 강당과 공유주방\n"
     ]
    },
    {
     "name": "stderr",
     "output_type": "stream",
     "text": [
      "  6%|▌         | 85/1507 [03:29<30:58,  1.31s/it]"
     ]
    },
    {
     "name": "stdout",
     "output_type": "stream",
     "text": [
      "ID: TEST_0084 Question: 소통협력센터에 설치된 주차장은 몇 층에 위치하는가 Generated answer: 지하 1ㆍ2층\n"
     ]
    },
    {
     "name": "stderr",
     "output_type": "stream",
     "text": [
      "  6%|▌         | 86/1507 [03:31<34:38,  1.46s/it]"
     ]
    },
    {
     "name": "stdout",
     "output_type": "stream",
     "text": [
      "ID: TEST_0085 Question: 광주 상무지구 유흥업소 관련 코로나19 확진자가 처음 확인된 날짜는 언제인가 Generated answer: 12일로\n"
     ]
    },
    {
     "name": "stderr",
     "output_type": "stream",
     "text": [
      "  6%|▌         | 87/1507 [03:34<47:28,  2.01s/it]"
     ]
    },
    {
     "name": "stdout",
     "output_type": "stream",
     "text": [
      "ID: TEST_0086 Question: 광주 서구에 사는 40대 남성 A씨가 코로나19 확진판정을 받아 몇 번째 확진자로 분류되었나 Generated answer: 광주 217번\n"
     ]
    },
    {
     "name": "stderr",
     "output_type": "stream",
     "text": [
      "  6%|▌         | 88/1507 [03:36<47:56,  2.03s/it]"
     ]
    },
    {
     "name": "stdout",
     "output_type": "stream",
     "text": [
      "ID: TEST_0087 Question: 광주시는 어디에 위치한 몇 개의 유흥업소에 방문한 확진자들을 확인했는가 Generated answer: 18곳의\n"
     ]
    },
    {
     "name": "stderr",
     "output_type": "stream",
     "text": [
      "  6%|▌         | 89/1507 [03:39<50:02,  2.12s/it]"
     ]
    },
    {
     "name": "stdout",
     "output_type": "stream",
     "text": [
      "ID: TEST_0088 Question: 광주시는 광주지역 클럽, 노래방, 유흥주점 등 모든 유흥업소에 대한 집합금지 및 시설폐쇄를 언제까지 내렸는가 Generated answer: 오는 25일\n"
     ]
    },
    {
     "name": "stderr",
     "output_type": "stream",
     "text": [
      "  6%|▌         | 90/1507 [03:41<51:36,  2.19s/it]"
     ]
    },
    {
     "name": "stdout",
     "output_type": "stream",
     "text": [
      "ID: TEST_0089 Question: 광주시는 어떤 사항들을 동원해서 확진자 접촉자를 확식하려는가 Generated answer: 휴대전화 위성위치확인시스템 ( GPS ), 폐쇄회로TV ( CCTV ), 의료 기록, 신용카드 내역 조회\n"
     ]
    },
    {
     "name": "stderr",
     "output_type": "stream",
     "text": [
      "  6%|▌         | 91/1507 [03:44<58:19,  2.47s/it]"
     ]
    },
    {
     "name": "stdout",
     "output_type": "stream",
     "text": [
      "ID: TEST_0090 Question: 삼성전자가 세척부터 건조·살균까지 업그레이드해 출시한 신제품은 무엇인가 Generated answer: 비스포크 식기세척기\n"
     ]
    },
    {
     "name": "stderr",
     "output_type": "stream",
     "text": [
      "  6%|▌         | 92/1507 [03:47<1:03:59,  2.71s/it]"
     ]
    },
    {
     "name": "stdout",
     "output_type": "stream",
     "text": [
      "ID: TEST_0091 Question: 새롭게 출시된 비스포크 식기세척기의 새로운 기능 두 가지는 무엇인가 Generated answer: ' 360도 제트샷'과'열풍건조 '\n"
     ]
    },
    {
     "name": "stderr",
     "output_type": "stream",
     "text": [
      "  6%|▌         | 93/1507 [03:51<1:08:04,  2.89s/it]"
     ]
    },
    {
     "name": "stdout",
     "output_type": "stream",
     "text": [
      "ID: TEST_0092 Question: 와인잔을 놓을 수 있는 부분을 추가한 것은 어떤 모델인가 Generated answer: 접이식 와인잔 랙\n"
     ]
    },
    {
     "name": "stderr",
     "output_type": "stream",
     "text": [
      "  6%|▌         | 94/1507 [03:54<1:10:50,  3.01s/it]"
     ]
    },
    {
     "name": "stdout",
     "output_type": "stream",
     "text": [
      "ID: TEST_0093 Question: 비스포크 식기세척기의 출고가는 어느 범위인가 Generated answer: 144 ~ 184만원\n"
     ]
    },
    {
     "name": "stderr",
     "output_type": "stream",
     "text": [
      "  6%|▋         | 95/1507 [03:57<1:12:45,  3.09s/it]"
     ]
    },
    {
     "name": "stdout",
     "output_type": "stream",
     "text": [
      "ID: TEST_0094 Question: 비스포크 식기세척기 고객 체험단 응모 기간은 언제까지인가 Generated answer: 내달 8일까지\n"
     ]
    },
    {
     "name": "stderr",
     "output_type": "stream",
     "text": [
      "  6%|▋         | 96/1507 [04:00<1:13:27,  3.12s/it]"
     ]
    },
    {
     "name": "stdout",
     "output_type": "stream",
     "text": [
      "ID: TEST_0095 Question: 대검 참모진들이 유임을 희망하는 이유는 무엇인가 Generated answer: 검찰 중간간부 인사\n"
     ]
    },
    {
     "name": "stderr",
     "output_type": "stream",
     "text": [
      "  6%|▋         | 97/1507 [04:03<1:07:36,  2.88s/it]"
     ]
    },
    {
     "name": "stdout",
     "output_type": "stream",
     "text": [
      "ID: TEST_0096 Question: 법무부 검찰국 검찰과에 제출되는 중간간부 인사 대상자들의 희망 순위는 몇 개인가 Generated answer: 1 ~ 4순위\n"
     ]
    },
    {
     "name": "stderr",
     "output_type": "stream",
     "text": [
      "  7%|▋         | 98/1507 [04:06<1:10:18,  2.99s/it]"
     ]
    },
    {
     "name": "stdout",
     "output_type": "stream",
     "text": [
      "ID: TEST_0097 Question: 검사 전보 및 보직관리 등에 관한 규칙은 중간간부의 필수보직 기간을 몇 년으로 정하고 있는가 Generated answer: 1년으로\n"
     ]
    },
    {
     "name": "stderr",
     "output_type": "stream",
     "text": [
      "  7%|▋         | 99/1507 [04:09<1:07:41,  2.88s/it]"
     ]
    },
    {
     "name": "stdout",
     "output_type": "stream",
     "text": [
      "ID: TEST_0098 Question: 윤석열 총장이 유임시키라고 의사를 전달한 검사부장의 이름은 무엇인가 Generated answer: 배용원\n"
     ]
    },
    {
     "name": "stderr",
     "output_type": "stream",
     "text": [
      "  7%|▋         | 100/1507 [04:11<1:07:32,  2.88s/it]"
     ]
    },
    {
     "name": "stdout",
     "output_type": "stream",
     "text": [
      "ID: TEST_0099 Question: 배용원 검사장이 유임의 필요성을 주장한 이유는 무엇인가 Generated answer: 선거 수사의 연속성\n"
     ]
    },
    {
     "name": "stderr",
     "output_type": "stream",
     "text": [
      "  7%|▋         | 101/1507 [04:15<1:13:09,  3.12s/it]"
     ]
    },
    {
     "name": "stdout",
     "output_type": "stream",
     "text": [
      "ID: TEST_0100 Question: 올해 경기도 아파트값 상승률은 얼마나 된다고 한단다 Generated answer: 8. 26 %\n"
     ]
    },
    {
     "name": "stderr",
     "output_type": "stream",
     "text": [
      "  7%|▋         | 102/1507 [04:18<1:11:19,  3.05s/it]"
     ]
    },
    {
     "name": "stdout",
     "output_type": "stream",
     "text": [
      "ID: TEST_0101 Question: 수도권에서 집값이 가장 많이 오른 지역은 어떤 곳인가 Generated answer: 구리시다.\n"
     ]
    },
    {
     "name": "stderr",
     "output_type": "stream",
     "text": [
      "  7%|▋         | 103/1507 [04:21<1:14:06,  3.17s/it]"
     ]
    },
    {
     "name": "stdout",
     "output_type": "stream",
     "text": [
      "ID: TEST_0102 Question: 팔달구와 권선구의 아파트 가격이 상승한 비율은 몇 퍼센트인가 Generated answer: 18. 01 %\n"
     ]
    },
    {
     "name": "stderr",
     "output_type": "stream",
     "text": [
      "  7%|▋         | 104/1507 [04:26<1:21:35,  3.49s/it]"
     ]
    },
    {
     "name": "stdout",
     "output_type": "stream",
     "text": [
      "ID: TEST_0103 Question: 올해 서울 아파트 평균 매매가격은 얼마나 되는가 Generated answer: 8억8855만원\n"
     ]
    },
    {
     "name": "stderr",
     "output_type": "stream",
     "text": [
      "  7%|▋         | 105/1507 [04:30<1:25:21,  3.65s/it]"
     ]
    },
    {
     "name": "stdout",
     "output_type": "stream",
     "text": [
      "ID: TEST_0104 Question: 지난해 말 4억4152만원이었던 구리시 평균 매매가격이 현재 얼마인가 Generated answer: 5억4981만원\n"
     ]
    },
    {
     "name": "stderr",
     "output_type": "stream",
     "text": [
      "  7%|▋         | 106/1507 [04:32<1:17:32,  3.32s/it]"
     ]
    },
    {
     "name": "stdout",
     "output_type": "stream",
     "text": [
      "ID: TEST_0105 Question: 서울 목동에 사는 A씨의 직업은 무엇인가 Generated answer: 직장인 B씨\n"
     ]
    },
    {
     "name": "stderr",
     "output_type": "stream",
     "text": [
      "  7%|▋         | 107/1507 [04:36<1:17:18,  3.31s/it]"
     ]
    },
    {
     "name": "stdout",
     "output_type": "stream",
     "text": [
      "ID: TEST_0106 Question: A씨가 시부모님을 찾아뵙지 않은 건 몇 년 만인가 Generated answer: 결혼 후 12년\n"
     ]
    },
    {
     "name": "stderr",
     "output_type": "stream",
     "text": [
      "  7%|▋         | 108/1507 [04:39<1:17:03,  3.30s/it]"
     ]
    },
    {
     "name": "stdout",
     "output_type": "stream",
     "text": [
      "ID: TEST_0107 Question: 전북 완주군 이서면 아파트 주민들이 벌인 캠페인의 대상 연령은 얼마인가 Generated answer: 60 ~ 80대\n"
     ]
    },
    {
     "name": "stderr",
     "output_type": "stream",
     "text": [
      "  7%|▋         | 109/1507 [04:42<1:16:53,  3.30s/it]"
     ]
    },
    {
     "name": "stdout",
     "output_type": "stream",
     "text": [
      "ID: TEST_0108 Question: 알바천국'의 조사대상이었던 사람들 중 추석에 고향에 가지 않거나 고민하는 사람의 비율은 얼마인가 Generated answer: 64. 7 %\n"
     ]
    },
    {
     "name": "stderr",
     "output_type": "stream",
     "text": [
      "  7%|▋         | 110/1507 [04:45<1:14:35,  3.20s/it]"
     ]
    },
    {
     "name": "stdout",
     "output_type": "stream",
     "text": [
      "ID: TEST_0109 Question: 추석연휴 기간 제주도를 찾을 것으로 예상되는 사람 수는 얼마인가 Generated answer: 약 19만8000명\n"
     ]
    },
    {
     "name": "stderr",
     "output_type": "stream",
     "text": [
      "  7%|▋         | 111/1507 [04:48<1:09:43,  3.00s/it]"
     ]
    },
    {
     "name": "stdout",
     "output_type": "stream",
     "text": [
      "ID: TEST_0110 Question: A씨는 어떤 일을 하며 어떤 사고를 당했나요 Generated answer: 자동차 보험을 통해 사고 처리를 하려 했지만, 거절당했다. 유상운송 중 일어난 사고\n"
     ]
    },
    {
     "name": "stderr",
     "output_type": "stream",
     "text": [
      "  7%|▋         | 112/1507 [04:51<1:10:59,  3.05s/it]"
     ]
    },
    {
     "name": "stdout",
     "output_type": "stream",
     "text": [
      "ID: TEST_0111 Question: 쿠팡플렉스 등 배달플랫폼에서 개인 차량을 이용해 유상 운송에 종사하는 운전자가 보험 사각지대에 놓여 있다는 지적을 한 곳은 어디인가요 Generated answer: 삼성교통안전문화연구소\n"
     ]
    },
    {
     "name": "stderr",
     "output_type": "stream",
     "text": [
      "  7%|▋         | 113/1507 [04:53<1:08:31,  2.95s/it]"
     ]
    },
    {
     "name": "stdout",
     "output_type": "stream",
     "text": [
      "ID: TEST_0112 Question: 올해 쿠팡플렉스, 배민커넥트 등의 화물을 운송하고 있는 운전자 수는 몇 명인가요 Generated answer: 10만 명\n"
     ]
    },
    {
     "name": "stderr",
     "output_type": "stream",
     "text": [
      "  8%|▊         | 114/1507 [04:56<1:07:57,  2.93s/it]"
     ]
    },
    {
     "name": "stdout",
     "output_type": "stream",
     "text": [
      "ID: TEST_0113 Question: 올해 9월까지 유상운송 특약에 가입한 차량은 몇 대인가요 Generated answer: 550대에\n"
     ]
    },
    {
     "name": "stderr",
     "output_type": "stream",
     "text": [
      "  8%|▊         | 115/1507 [05:00<1:10:20,  3.03s/it]"
     ]
    },
    {
     "name": "stdout",
     "output_type": "stream",
     "text": [
      "ID: TEST_0114 Question: 유상운송 특약에 가입하면 기존 차 보험료의 몇 퍼센트 수준을 더 내야 하는가요 Generated answer: 40 % 수준\n"
     ]
    },
    {
     "name": "stderr",
     "output_type": "stream",
     "text": [
      "  8%|▊         | 116/1507 [05:02<1:04:55,  2.80s/it]"
     ]
    },
    {
     "name": "stdout",
     "output_type": "stream",
     "text": [
      "ID: TEST_0115 Question: 신 모 씨가 구매한 스피커의 브랜드는 무엇인가 Generated answer: 뱅앤올룹슨\n"
     ]
    },
    {
     "name": "stderr",
     "output_type": "stream",
     "text": [
      "  8%|▊         | 117/1507 [05:05<1:07:49,  2.93s/it]"
     ]
    },
    {
     "name": "stdout",
     "output_type": "stream",
     "text": [
      "ID: TEST_0116 Question: 이마트의 TV와 안마의자 매출이 2021년 2월부터 이달 11일까지 지난해 같은 기간 대비 얼마나 증가했나 Generated answer: 25 %, 18 %\n"
     ]
    },
    {
     "name": "stderr",
     "output_type": "stream",
     "text": [
      "  8%|▊         | 118/1507 [05:08<1:10:20,  3.04s/it]"
     ]
    },
    {
     "name": "stdout",
     "output_type": "stream",
     "text": [
      "ID: TEST_0117 Question: 전자랜드의 컴퓨터 매출이 2021년 2월부터 이달 6일까지 얼마나 증가했는가 Generated answer: 56 % 늘었다고 했다.\n"
     ]
    },
    {
     "name": "stderr",
     "output_type": "stream",
     "text": [
      "  8%|▊         | 119/1507 [05:12<1:13:57,  3.20s/it]"
     ]
    },
    {
     "name": "stdout",
     "output_type": "stream",
     "text": [
      "ID: TEST_0118 Question: 굳닷컴의 온라인 쇼핑몰 매출이 지난달 리뉴얼 후 한 달 만에 얼마나 증가했나 Generated answer: 141 % 증가\n"
     ]
    },
    {
     "name": "stderr",
     "output_type": "stream",
     "text": [
      "  8%|▊         | 120/1507 [05:16<1:18:43,  3.41s/it]"
     ]
    },
    {
     "name": "stdout",
     "output_type": "stream",
     "text": [
      "ID: TEST_0119 Question: 한샘과 현대리바트의 올해 매출 전망은 얼마인가 Generated answer: 3조원\n"
     ]
    },
    {
     "name": "stderr",
     "output_type": "stream",
     "text": [
      "  8%|▊         | 121/1507 [05:17<1:05:07,  2.82s/it]"
     ]
    },
    {
     "name": "stdout",
     "output_type": "stream",
     "text": [
      "ID: TEST_0120 Question: 갤럭시 노트 20 사전 예약은 언제부터 언제까지 진행되나요 Generated answer: 7일부터 13일\n"
     ]
    },
    {
     "name": "stderr",
     "output_type": "stream",
     "text": [
      "  8%|▊         | 122/1507 [05:20<1:02:36,  2.71s/it]"
     ]
    },
    {
     "name": "stdout",
     "output_type": "stream",
     "text": [
      "ID: TEST_0121 Question: 갤럭시 노트20의 공식 출시 날짜는 언제인가요 Generated answer: 오는 21일\n"
     ]
    },
    {
     "name": "stderr",
     "output_type": "stream",
     "text": [
      "  8%|▊         | 123/1507 [05:22<57:27,  2.49s/it]  "
     ]
    },
    {
     "name": "stdout",
     "output_type": "stream",
     "text": [
      "ID: TEST_0122 Question: 갤럭시 노트20 시리즈의 가격은 얼마인가요 Generated answer: 119만9000원\n"
     ]
    },
    {
     "name": "stderr",
     "output_type": "stream",
     "text": [
      "  8%|▊         | 124/1507 [05:24<55:19,  2.40s/it]"
     ]
    },
    {
     "name": "stdout",
     "output_type": "stream",
     "text": [
      "ID: TEST_0123 Question: 갤럭시 노트20 울트라 가격은 어떻게 되나요 Generated answer: 119만9000원\n"
     ]
    },
    {
     "name": "stderr",
     "output_type": "stream",
     "text": [
      "  8%|▊         | 125/1507 [05:27<59:31,  2.58s/it]"
     ]
    },
    {
     "name": "stdout",
     "output_type": "stream",
     "text": [
      "ID: TEST_0124 Question: 갤럭시 노트20 사전 예약 후 제품을 수령하고 개통할 수 있는 날은 언제인가요 Generated answer: 오는 14일\n"
     ]
    },
    {
     "name": "stderr",
     "output_type": "stream",
     "text": [
      "  8%|▊         | 126/1507 [05:30<1:05:00,  2.82s/it]"
     ]
    },
    {
     "name": "stdout",
     "output_type": "stream",
     "text": [
      "ID: TEST_0125 Question: 불안감으로 인해 잠을 줄이고 공부하려는 행태는 어떤 결과를 가져올 수 있나요 Generated answer: 역효과를 낼 가능성이 많다.\n"
     ]
    },
    {
     "name": "stderr",
     "output_type": "stream",
     "text": [
      "  8%|▊         | 127/1507 [05:35<1:15:37,  3.29s/it]"
     ]
    },
    {
     "name": "stdout",
     "output_type": "stream",
     "text": [
      "ID: TEST_0126 Question: 정석훈 울산의대 서울아산병원 정신의학과 교수는 수험생이 가져야 하는 최소 수면 시간은 몇 시간이라고 말했나요 Generated answer: 6시간은\n"
     ]
    },
    {
     "name": "stderr",
     "output_type": "stream",
     "text": [
      "  8%|▊         | 128/1507 [05:39<1:23:08,  3.62s/it]"
     ]
    },
    {
     "name": "stdout",
     "output_type": "stream",
     "text": [
      "ID: TEST_0127 Question: 자녀가 잘 먹는 음식 위주로 준비하기보다 아침 식사는 어떤 것을 충분히 포함시켜야 하는가요 Generated answer: 탄수화물과 신선한 야채\n"
     ]
    },
    {
     "name": "stderr",
     "output_type": "stream",
     "text": [
      "  9%|▊         | 129/1507 [05:43<1:23:02,  3.62s/it]"
     ]
    },
    {
     "name": "stdout",
     "output_type": "stream",
     "text": [
      "ID: TEST_0128 Question: 수험생들이 신경안정제를 꼭 복용하고 싶다면 자신들이 어떤 선택을 해야 하는가요 Generated answer: 수능에 대한 불안감\n"
     ]
    },
    {
     "name": "stderr",
     "output_type": "stream",
     "text": [
      "  9%|▊         | 130/1507 [05:46<1:18:39,  3.43s/it]"
     ]
    },
    {
     "name": "stdout",
     "output_type": "stream",
     "text": [
      "ID: TEST_0129 Question: 건강 관리를 위해 실내 온도를 얼마로 유지해야 하는가요 Generated answer: 18 ~ 22도\n"
     ]
    },
    {
     "name": "stderr",
     "output_type": "stream",
     "text": [
      "  9%|▊         | 131/1507 [05:50<1:25:18,  3.72s/it]"
     ]
    },
    {
     "name": "stdout",
     "output_type": "stream",
     "text": [
      "ID: TEST_0130 Question: SK바이오팜의 주력 제품 세노바메이트가 미국에서 판매되는 명칭은 무엇인가 Generated answer: 엑스코프리 ’\n"
     ]
    },
    {
     "name": "stderr",
     "output_type": "stream",
     "text": [
      "  9%|▉         | 132/1507 [05:54<1:29:41,  3.91s/it]"
     ]
    },
    {
     "name": "stdout",
     "output_type": "stream",
     "text": [
      "ID: TEST_0131 Question: 세노바메이트의 판매가 시작된 시기는 언제인가 Generated answer: 5월부터\n"
     ]
    },
    {
     "name": "stderr",
     "output_type": "stream",
     "text": [
      "  9%|▉         | 133/1507 [05:59<1:33:00,  4.06s/it]"
     ]
    },
    {
     "name": "stdout",
     "output_type": "stream",
     "text": [
      "ID: TEST_0132 Question: 세노바메이트의 미국 판매를 맡은 SK바이오팜의 자회사는 무엇인가 Generated answer: SK라이프사이언스\n"
     ]
    },
    {
     "name": "stderr",
     "output_type": "stream",
     "text": [
      "  9%|▉         | 134/1507 [06:03<1:35:03,  4.15s/it]"
     ]
    },
    {
     "name": "stdout",
     "output_type": "stream",
     "text": [
      "ID: TEST_0133 Question: 세노바메이트를 유럽에서 판매하려면 어떤 기관의 허가가 필요한가 Generated answer: 유럽의약품청\n"
     ]
    },
    {
     "name": "stderr",
     "output_type": "stream",
     "text": [
      "  9%|▉         | 135/1507 [06:07<1:35:01,  4.16s/it]"
     ]
    },
    {
     "name": "stdout",
     "output_type": "stream",
     "text": [
      "ID: TEST_0134 Question: SK바이오팜이 준비 중인 신규 파이프라인은 몇 건인가 Generated answer: 7건의\n"
     ]
    },
    {
     "name": "stderr",
     "output_type": "stream",
     "text": [
      "  9%|▉         | 136/1507 [06:11<1:30:42,  3.97s/it]"
     ]
    },
    {
     "name": "stdout",
     "output_type": "stream",
     "text": [
      "ID: TEST_0135 Question: 앤트그룹이 이번 기업공개(IPO)로 어느 정도의 금액을 조달할 계획이었나 Generated answer: 약 345억 달러\n"
     ]
    },
    {
     "name": "stderr",
     "output_type": "stream",
     "text": [
      "  9%|▉         | 137/1507 [06:15<1:29:02,  3.90s/it]"
     ]
    },
    {
     "name": "stdout",
     "output_type": "stream",
     "text": [
      "ID: TEST_0136 Question: 앤트그룹의 상장을 무기한 연기시킨 중국의 기관은 무엇인가 Generated answer: 금융당국\n"
     ]
    },
    {
     "name": "stderr",
     "output_type": "stream",
     "text": [
      "  9%|▉         | 138/1507 [06:19<1:29:07,  3.91s/it]"
     ]
    },
    {
     "name": "stdout",
     "output_type": "stream",
     "text": [
      "ID: TEST_0137 Question: 중국의 어떤 위원회가 앤트그룹 경영진을 포함한 마윈을 소환했나 Generated answer: 중국증권감독위원회\n"
     ]
    },
    {
     "name": "stderr",
     "output_type": "stream",
     "text": [
      "  9%|▉         | 139/1507 [06:22<1:28:36,  3.89s/it]"
     ]
    },
    {
     "name": "stdout",
     "output_type": "stream",
     "text": [
      "ID: TEST_0138 Question: 중국 증권거래소는 앤트그룹의 상장을 어떤 상태로 바꿨나 Generated answer: 잠정 중단한다고\n"
     ]
    },
    {
     "name": "stderr",
     "output_type": "stream",
     "text": [
      "  9%|▉         | 140/1507 [06:26<1:28:11,  3.87s/it]"
     ]
    },
    {
     "name": "stdout",
     "output_type": "stream",
     "text": [
      "ID: TEST_0139 Question: 증시 데뷔와 관련한 앤트그룹의 운명은 누구의 손에 들어갔나 Generated answer: 중국 당국의\n"
     ]
    },
    {
     "name": "stderr",
     "output_type": "stream",
     "text": [
      "  9%|▉         | 141/1507 [06:27<1:09:17,  3.04s/it]"
     ]
    },
    {
     "name": "stdout",
     "output_type": "stream",
     "text": [
      "ID: TEST_0140 Question: 공직자와 공직자 가족이 부동산 거래 시 의무적으로 신고해야 하도록 하는 법안을 대표 발의한 정당은 무엇인가 Generated answer: 더불어민주당\n"
     ]
    },
    {
     "name": "stderr",
     "output_type": "stream",
     "text": [
      "  9%|▉         | 142/1507 [06:29<55:58,  2.46s/it]  "
     ]
    },
    {
     "name": "stdout",
     "output_type": "stream",
     "text": [
      "ID: TEST_0141 Question: 공직자와 공직자의 가족이 부동산 거래 시 신고를 의무화하려는 법안을 발의한 국회의원의 이름은 무엇인가 Generated answer: 김회재\n"
     ]
    },
    {
     "name": "stderr",
     "output_type": "stream",
     "text": [
      "  9%|▉         | 143/1507 [06:30<46:37,  2.05s/it]"
     ]
    },
    {
     "name": "stdout",
     "output_type": "stream",
     "text": [
      "ID: TEST_0142 Question: 개정안에 따르면, 부동산 거래를 신고한 후 누가 사실 여부를 확인하고 업무상 비밀 이용금지 위반 및 투기여부를 조사하게 되는가 Generated answer: 신고를 받은 기관장\n"
     ]
    },
    {
     "name": "stderr",
     "output_type": "stream",
     "text": [
      " 10%|▉         | 144/1507 [06:31<43:39,  1.92s/it]"
     ]
    },
    {
     "name": "stdout",
     "output_type": "stream",
     "text": [
      "ID: TEST_0143 Question: 공무원이나 공공기관 임직원이 일반 국민이 알기 어려운 어떤 정보를 사전에 취득할 수 있게 되는가 Generated answer: 중요 개발 정보\n"
     ]
    },
    {
     "name": "stderr",
     "output_type": "stream",
     "text": [
      " 10%|▉         | 145/1507 [06:32<37:02,  1.63s/it]"
     ]
    },
    {
     "name": "stdout",
     "output_type": "stream",
     "text": [
      "ID: TEST_0144 Question: 법안이 개정되면 어떤 행위를 사전에 방지할 수 있게 된다고 김회재 의원이 언급한 것은 무엇인가 Generated answer: 투기행위를 미연에 방지할 필요가 있다는 지적이 많았다. 김 의원은 \" 공직자윤리법이 개정되면 부동산 투기\n"
     ]
    },
    {
     "name": "stderr",
     "output_type": "stream",
     "text": [
      " 10%|▉         | 146/1507 [06:36<53:08,  2.34s/it]"
     ]
    },
    {
     "name": "stdout",
     "output_type": "stream",
     "text": [
      "ID: TEST_0145 Question: 김웅 국민의힘 의원이 주장한 인천국제공항 사태의 원인은 무엇인가 Generated answer: 노동자 47명이 해고\n"
     ]
    },
    {
     "name": "stderr",
     "output_type": "stream",
     "text": [
      " 10%|▉         | 147/1507 [06:40<1:06:01,  2.91s/it]"
     ]
    },
    {
     "name": "stdout",
     "output_type": "stream",
     "text": [
      "ID: TEST_0146 Question: 야당이 주장한 인천국제공항 사태의 원인은 어떤 것인가 Generated answer: 청와대와 정부부처 개입\n"
     ]
    },
    {
     "name": "stderr",
     "output_type": "stream",
     "text": [
      " 10%|▉         | 148/1507 [06:44<1:11:23,  3.15s/it]"
     ]
    },
    {
     "name": "stdout",
     "output_type": "stream",
     "text": [
      "ID: TEST_0147 Question: 본사 직고용을 하려면 현행 법령상 어떤 전환을 해야 하는가 Generated answer: 청원경찰로 전환\n"
     ]
    },
    {
     "name": "stderr",
     "output_type": "stream",
     "text": [
      " 10%|▉         | 149/1507 [06:48<1:17:56,  3.44s/it]"
     ]
    },
    {
     "name": "stdout",
     "output_type": "stream",
     "text": [
      "ID: TEST_0148 Question: 여당이 주장한 본사 직고용 결정에 대한 합의 시점은 언제인가 Generated answer: 2017년 12월\n"
     ]
    },
    {
     "name": "stderr",
     "output_type": "stream",
     "text": [
      " 10%|▉         | 150/1507 [06:53<1:23:56,  3.71s/it]"
     ]
    },
    {
     "name": "stdout",
     "output_type": "stream",
     "text": [
      "ID: TEST_0149 Question: 구본환 전 인국공 사장의 국정감사 출석을 거부한 이유는 무엇인가 Generated answer: 건강상의 사유\n"
     ]
    },
    {
     "name": "stderr",
     "output_type": "stream",
     "text": [
      " 10%|█         | 151/1507 [06:56<1:21:11,  3.59s/it]"
     ]
    },
    {
     "name": "stdout",
     "output_type": "stream",
     "text": [
      "ID: TEST_0150 Question: 지난 10년간 영아 유기 사건은 몇 건 발생했나 Generated answer: 1272건\n"
     ]
    },
    {
     "name": "stderr",
     "output_type": "stream",
     "text": [
      " 10%|█         | 152/1507 [07:01<1:28:56,  3.94s/it]"
     ]
    },
    {
     "name": "stdout",
     "output_type": "stream",
     "text": [
      "ID: TEST_0151 Question: 2019년 국내외 입양 아동 중 미혼모 아동의 비율은 얼마나 되나 Generated answer: 91. 8 %\n"
     ]
    },
    {
     "name": "stderr",
     "output_type": "stream",
     "text": [
      " 10%|█         | 153/1507 [07:05<1:29:24,  3.96s/it]"
     ]
    },
    {
     "name": "stdout",
     "output_type": "stream",
     "text": [
      "ID: TEST_0152 Question: 내년부터 아동양육비를 받을 수 있는 청소년 한부모가족의 연령 제한이 어떻게 변경되나 Generated answer: 만 24세\n"
     ]
    },
    {
     "name": "stderr",
     "output_type": "stream",
     "text": [
      " 10%|█         | 154/1507 [07:09<1:34:26,  4.19s/it]"
     ]
    },
    {
     "name": "stdout",
     "output_type": "stream",
     "text": [
      "ID: TEST_0153 Question: 현재 얼마나 되는 미혼모 중 청소년 미혼모의 비율은 어느 정도인가 Generated answer: 8. 4 %\n"
     ]
    },
    {
     "name": "stderr",
     "output_type": "stream",
     "text": [
      " 10%|█         | 155/1507 [07:12<1:26:05,  3.82s/it]"
     ]
    },
    {
     "name": "stdout",
     "output_type": "stream",
     "text": [
      "ID: TEST_0154 Question: 양육비 채무자에 대한 양육비 미지급 시 어떤 제재를 가하는가 Generated answer: 운전면허를 정지\n"
     ]
    },
    {
     "name": "stderr",
     "output_type": "stream",
     "text": [
      " 10%|█         | 156/1507 [07:16<1:23:41,  3.72s/it]"
     ]
    },
    {
     "name": "stdout",
     "output_type": "stream",
     "text": [
      "ID: TEST_0155 Question: 전국경제인연합회가 긴급 개최한 좌담회의 주제는 무엇이었나요 Generated answer: 미국 신정부 출범\n"
     ]
    },
    {
     "name": "stderr",
     "output_type": "stream",
     "text": [
      " 10%|█         | 157/1507 [07:21<1:31:11,  4.05s/it]"
     ]
    },
    {
     "name": "stdout",
     "output_type": "stream",
     "text": [
      "ID: TEST_0156 Question: 좌담회에서 트럼프 대통령 재선이 될 경우 어떠한 경제 상황이 벌어질 것이라 예상했나요 Generated answer: 보호무역주의와 양자주의, 중국에 대한 제재와 미 · 중 무역갈등\n"
     ]
    },
    {
     "name": "stderr",
     "output_type": "stream",
     "text": [
      " 10%|█         | 158/1507 [07:24<1:27:53,  3.91s/it]"
     ]
    },
    {
     "name": "stdout",
     "output_type": "stream",
     "text": [
      "ID: TEST_0157 Question: 바이든 후보가 당선된다면 어떤 차이점을 가져올 것으로 예상되나요 Generated answer: 양자주의를 택한 트럼프 대통령과의 큰 차이점\n"
     ]
    },
    {
     "name": "stderr",
     "output_type": "stream",
     "text": [
      " 11%|█         | 159/1507 [07:28<1:24:58,  3.78s/it]"
     ]
    },
    {
     "name": "stdout",
     "output_type": "stream",
     "text": [
      "ID: TEST_0158 Question: 이들 전문가들이 바이든 후보에 대해 어떻게 평가하였나요 Generated answer: 외교 전문가\n"
     ]
    },
    {
     "name": "stderr",
     "output_type": "stream",
     "text": [
      " 11%|█         | 160/1507 [07:32<1:25:29,  3.81s/it]"
     ]
    },
    {
     "name": "stdout",
     "output_type": "stream",
     "text": [
      "ID: TEST_0159 Question: 안호영 총장이 말했다는, 트럼프 대통령에 비해 바이든 후보가 한국에 더 나은 이유는 무엇인가요 Generated answer: 국제질서를 중시\n"
     ]
    },
    {
     "name": "stderr",
     "output_type": "stream",
     "text": [
      " 11%|█         | 161/1507 [07:34<1:18:00,  3.48s/it]"
     ]
    },
    {
     "name": "stdout",
     "output_type": "stream",
     "text": [
      "ID: TEST_0160 Question: 중국 금융당국이 앤트그룹의 상장을 연기한 날짜는 언제인가 Generated answer: 지난 3일\n"
     ]
    },
    {
     "name": "stderr",
     "output_type": "stream",
     "text": [
      " 11%|█         | 162/1507 [07:38<1:16:39,  3.42s/it]"
     ]
    },
    {
     "name": "stdout",
     "output_type": "stream",
     "text": [
      "ID: TEST_0161 Question: 앤트그룹이 이번 IPO를 통해 조달하려고 했던 금액은 얼마인가 Generated answer: 345억 달러\n"
     ]
    },
    {
     "name": "stderr",
     "output_type": "stream",
     "text": [
      " 11%|█         | 163/1507 [07:40<1:13:03,  3.26s/it]"
     ]
    },
    {
     "name": "stdout",
     "output_type": "stream",
     "text": [
      "ID: TEST_0162 Question: 앤트그룹이 제공하는 간편결제 서비스의 이름은 무엇인가 Generated answer: 알리페이를\n"
     ]
    },
    {
     "name": "stderr",
     "output_type": "stream",
     "text": [
      " 11%|█         | 164/1507 [07:43<1:08:28,  3.06s/it]"
     ]
    },
    {
     "name": "stdout",
     "output_type": "stream",
     "text": [
      "ID: TEST_0163 Question: 앤트그룹의 주력 사업은 무엇인가 Generated answer: 신용카드 · 소액대출\n"
     ]
    },
    {
     "name": "stderr",
     "output_type": "stream",
     "text": [
      " 11%|█         | 165/1507 [07:46<1:09:52,  3.12s/it]"
     ]
    },
    {
     "name": "stdout",
     "output_type": "stream",
     "text": [
      "ID: TEST_0164 Question: 마윈이 알리바바 CEO 자리를 내려놓은 날짜는 언제인가 Generated answer: 2018년 10월\n"
     ]
    },
    {
     "name": "stderr",
     "output_type": "stream",
     "text": [
      " 11%|█         | 166/1507 [07:47<56:19,  2.52s/it]  "
     ]
    },
    {
     "name": "stdout",
     "output_type": "stream",
     "text": [
      "ID: TEST_0165 Question: 함평군의 올해 개별공시지가는 전년대비 얼마나 상승했나 Generated answer: 9. 46 %\n"
     ]
    },
    {
     "name": "stderr",
     "output_type": "stream",
     "text": [
      " 11%|█         | 167/1507 [07:49<46:47,  2.09s/it]"
     ]
    },
    {
     "name": "stdout",
     "output_type": "stream",
     "text": [
      "ID: TEST_0166 Question: 개별공시지가를 산정하는 프로세스는 무엇인가 Generated answer: 감정평가사의 검증, 부동산가격공시위원회 심의\n"
     ]
    },
    {
     "name": "stderr",
     "output_type": "stream",
     "text": [
      " 11%|█         | 168/1507 [07:51<47:16,  2.12s/it]"
     ]
    },
    {
     "name": "stdout",
     "output_type": "stream",
     "text": [
      "ID: TEST_0167 Question: 개별공시지가는 어디에서 확인할 수 있는가 Generated answer: 함평군청 홈페이지\n"
     ]
    },
    {
     "name": "stderr",
     "output_type": "stream",
     "text": [
      " 11%|█         | 169/1507 [07:52<40:32,  1.82s/it]"
     ]
    },
    {
     "name": "stdout",
     "output_type": "stream",
     "text": [
      "ID: TEST_0168 Question: 이의신청을 할 수 있는 마감일은 언제인가 Generated answer: 6월30일\n"
     ]
    },
    {
     "name": "stderr",
     "output_type": "stream",
     "text": [
      " 11%|█▏        | 170/1507 [07:53<35:52,  1.61s/it]"
     ]
    },
    {
     "name": "stdout",
     "output_type": "stream",
     "text": [
      "ID: TEST_0169 Question: 조정된 지가를 공시하는 날짜는 언제인가 Generated answer: 7월30일\n"
     ]
    },
    {
     "name": "stderr",
     "output_type": "stream",
     "text": [
      " 11%|█▏        | 171/1507 [07:57<54:05,  2.43s/it]"
     ]
    },
    {
     "name": "stdout",
     "output_type": "stream",
     "text": [
      "ID: TEST_0170 Question: SK텔레콤이 본인확인 서비스인 ‘소켓 인증’ 수수료를 얼마로 인상했나 Generated answer: 40원 수준\n"
     ]
    },
    {
     "name": "stderr",
     "output_type": "stream",
     "text": [
      " 11%|█▏        | 172/1507 [08:02<1:06:07,  2.97s/it]"
     ]
    },
    {
     "name": "stdout",
     "output_type": "stream",
     "text": [
      "ID: TEST_0171 Question: 통신사 본인인증은 어느 두 가지 방식으로 나뉘었는가 Generated answer: 두 가지 방식을 모두 제공한다. 소비자는 어떤 인증수단을 이용할지 직접 고를 수 있다.\n"
     ]
    },
    {
     "name": "stderr",
     "output_type": "stream",
     "text": [
      " 11%|█▏        | 173/1507 [08:05<1:09:12,  3.11s/it]"
     ]
    },
    {
     "name": "stdout",
     "output_type": "stream",
     "text": [
      "ID: TEST_0172 Question: 많은 소비자가 통신사의 본인인증 중 어떤 인증을 선호하는가 Generated answer: 문자인증\n"
     ]
    },
    {
     "name": "stderr",
     "output_type": "stream",
     "text": [
      " 12%|█▏        | 174/1507 [08:09<1:16:58,  3.46s/it]"
     ]
    },
    {
     "name": "stdout",
     "output_type": "stream",
     "text": [
      "ID: TEST_0173 Question: 패스인증 수수료는 문자인증 수수료에 비해 어느 정도로 더 낮은가 Generated answer: 건당 10원\n"
     ]
    },
    {
     "name": "stderr",
     "output_type": "stream",
     "text": [
      " 12%|█▏        | 175/1507 [08:13<1:16:36,  3.45s/it]"
     ]
    },
    {
     "name": "stdout",
     "output_type": "stream",
     "text": [
      "ID: TEST_0174 Question: 한 인증업계 관계자가 비판한 것은 통신3사의 어떤 행태인가 Generated answer: 문자인증 수수료 인상\n"
     ]
    },
    {
     "name": "stderr",
     "output_type": "stream",
     "text": [
      " 12%|█▏        | 176/1507 [08:16<1:13:27,  3.31s/it]"
     ]
    },
    {
     "name": "stdout",
     "output_type": "stream",
     "text": [
      "ID: TEST_0175 Question: 추미애 법무부 장관이 지시한 감찰은 어떤 사건에 대한 것인가 Generated answer: 라임자산운용 검사 비위 의혹\n"
     ]
    },
    {
     "name": "stderr",
     "output_type": "stream",
     "text": [
      " 12%|█▏        | 177/1507 [08:18<1:07:56,  3.06s/it]"
     ]
    },
    {
     "name": "stdout",
     "output_type": "stream",
     "text": [
      "ID: TEST_0176 Question: 추 장관의 감찰 지시는 어느 총장을 겨냥한 것으로 해석되는가 Generated answer: 윤석열 검찰총장\n"
     ]
    },
    {
     "name": "stderr",
     "output_type": "stream",
     "text": [
      " 12%|█▏        | 178/1507 [08:21<1:06:17,  2.99s/it]"
     ]
    },
    {
     "name": "stdout",
     "output_type": "stream",
     "text": [
      "ID: TEST_0177 Question: 추 장관이 감찰 지시를 결정한 시간은 언제인가 Generated answer: 오후 7시 50분\n"
     ]
    },
    {
     "name": "stderr",
     "output_type": "stream",
     "text": [
      " 12%|█▏        | 179/1507 [08:24<1:04:04,  2.90s/it]"
     ]
    },
    {
     "name": "stdout",
     "output_type": "stream",
     "text": [
      "ID: TEST_0178 Question: 법무부 장관의 감찰 지시에 대해 어떤 법적 문제가 제기되었는가 Generated answer: 검찰청법 위반\n"
     ]
    },
    {
     "name": "stderr",
     "output_type": "stream",
     "text": [
      " 12%|█▏        | 180/1507 [08:27<1:06:34,  3.01s/it]"
     ]
    },
    {
     "name": "stdout",
     "output_type": "stream",
     "text": [
      "ID: TEST_0179 Question: 윤 총장이 감찰 지시에 대해 소상히 해명한 사항은 무엇인가 Generated answer: 사전협의\n"
     ]
    },
    {
     "name": "stderr",
     "output_type": "stream",
     "text": [
      " 12%|█▏        | 181/1507 [08:28<53:58,  2.44s/it]  "
     ]
    },
    {
     "name": "stdout",
     "output_type": "stream",
     "text": [
      "ID: TEST_0180 Question: 완도군이 4일부터 개최하는 행사는 무엇인가 Generated answer: 설맞이 완도 수산물 판촉전\n"
     ]
    },
    {
     "name": "stderr",
     "output_type": "stream",
     "text": [
      " 12%|█▏        | 182/1507 [08:29<45:02,  2.04s/it]"
     ]
    },
    {
     "name": "stdout",
     "output_type": "stream",
     "text": [
      "ID: TEST_0181 Question: 완도 수산물 판촉전이 진행되는 온라인 플랫폼은 무엇인가 Generated answer: 울타리USA\n"
     ]
    },
    {
     "name": "stderr",
     "output_type": "stream",
     "text": [
      " 12%|█▏        | 183/1507 [08:30<39:53,  1.81s/it]"
     ]
    },
    {
     "name": "stdout",
     "output_type": "stream",
     "text": [
      "ID: TEST_0182 Question: 완도 수산물 판촉전에 참여하는 완도군 우수 수출기업은 어떤 곳들인가 Generated answer: 3개의 완도군 우수 수출기업이 참가했고, 참가한 업체는 다시마전복수산, 흥일식품, 세계로수산\n"
     ]
    },
    {
     "name": "stderr",
     "output_type": "stream",
     "text": [
      " 12%|█▏        | 184/1507 [08:31<34:04,  1.55s/it]"
     ]
    },
    {
     "name": "stdout",
     "output_type": "stream",
     "text": [
      "ID: TEST_0183 Question: 울타리USA'가 LA에 설립된 연도는 언제인가 Generated answer: 2006년에\n"
     ]
    },
    {
     "name": "stderr",
     "output_type": "stream",
     "text": [
      " 12%|█▏        | 185/1507 [08:33<33:31,  1.52s/it]"
     ]
    },
    {
     "name": "stdout",
     "output_type": "stream",
     "text": [
      "ID: TEST_0184 Question: 울타리USA가 지난해 추석 판마징전을 개최하여 얻은 매출액은 얼마인가 Generated answer: 3만 6000달러\n"
     ]
    },
    {
     "name": "stderr",
     "output_type": "stream",
     "text": [
      " 12%|█▏        | 186/1507 [08:34<31:50,  1.45s/it]"
     ]
    },
    {
     "name": "stdout",
     "output_type": "stream",
     "text": [
      "ID: TEST_0185 Question: 2018년 주식 관련 도서 대출 수는 몇 권인가 Generated answer: 25권으로\n"
     ]
    },
    {
     "name": "stderr",
     "output_type": "stream",
     "text": [
      " 12%|█▏        | 187/1507 [08:35<26:09,  1.19s/it]"
     ]
    },
    {
     "name": "stdout",
     "output_type": "stream",
     "text": [
      "ID: TEST_0186 Question: 2020년 주식 관련 도서 대출 수는 몇 권인가 Generated answer: 25권으로 4배 이상 급증했다. 경제 도서 상위 500위 중 금융 관련 도서가 차지하는 비율도 2018년 35. 6 % ( 178권\n"
     ]
    },
    {
     "name": "stderr",
     "output_type": "stream",
     "text": [
      " 12%|█▏        | 188/1507 [08:37<31:19,  1.42s/it]"
     ]
    },
    {
     "name": "stdout",
     "output_type": "stream",
     "text": [
      "ID: TEST_0187 Question: 금융 관련 도서 대출에서 여성이 빌린 총 대출 수는 얼마나 되나 Generated answer: 6912건\n"
     ]
    },
    {
     "name": "stderr",
     "output_type": "stream",
     "text": [
      " 13%|█▎        | 189/1507 [08:38<30:19,  1.38s/it]"
     ]
    },
    {
     "name": "stdout",
     "output_type": "stream",
     "text": [
      "ID: TEST_0188 Question: 남성 대비 여성의 총 대출 건수는 얼마나 되나 Generated answer: 44만104건\n"
     ]
    },
    {
     "name": "stderr",
     "output_type": "stream",
     "text": [
      " 13%|█▎        | 190/1507 [08:40<32:58,  1.50s/it]"
     ]
    },
    {
     "name": "stdout",
     "output_type": "stream",
     "text": [
      "ID: TEST_0189 Question: 도서관이 시민들에게 제공할 테마 데이터는 어떤 방식으로 활용하나 Generated answer: 도서관 빅데이터\n"
     ]
    },
    {
     "name": "stderr",
     "output_type": "stream",
     "text": [
      " 13%|█▎        | 191/1507 [08:43<47:25,  2.16s/it]"
     ]
    },
    {
     "name": "stdout",
     "output_type": "stream",
     "text": [
      "ID: TEST_0190 Question: 집회가 열린 날짜는 Generated answer: 오후 2시 30분경\n"
     ]
    },
    {
     "name": "stderr",
     "output_type": "stream",
     "text": [
      " 13%|█▎        | 192/1507 [08:47<57:18,  2.61s/it]"
     ]
    },
    {
     "name": "stdout",
     "output_type": "stream",
     "text": [
      "ID: TEST_0191 Question: 여의대로 집회에 모인 의사의 수는 Generated answer: 2만명\n"
     ]
    },
    {
     "name": "stderr",
     "output_type": "stream",
     "text": [
      " 13%|█▎        | 193/1507 [08:51<1:06:20,  3.03s/it]"
     ]
    },
    {
     "name": "stdout",
     "output_type": "stream",
     "text": [
      "ID: TEST_0192 Question: 정부가 추진하려고 한 정책의 수는 Generated answer: 4대 정책\n"
     ]
    },
    {
     "name": "stderr",
     "output_type": "stream",
     "text": [
      " 13%|█▎        | 194/1507 [08:55<1:15:09,  3.43s/it]"
     ]
    },
    {
     "name": "stdout",
     "output_type": "stream",
     "text": [
      "ID: TEST_0193 Question: 전국적으로 동시다발적으로 열린 궐기대회에 참석한 의사의 수는 Generated answer: 8000명가량\n"
     ]
    },
    {
     "name": "stderr",
     "output_type": "stream",
     "text": [
      " 13%|█▎        | 195/1507 [08:59<1:18:26,  3.59s/it]"
     ]
    },
    {
     "name": "stdout",
     "output_type": "stream",
     "text": [
      "ID: TEST_0194 Question: 응급도 낮은 수술을 일부 연기한 대학병원 관계자가 있는 병원 위치는 Generated answer: 서울 주요 대형병원\n"
     ]
    },
    {
     "name": "stderr",
     "output_type": "stream",
     "text": [
      " 13%|█▎        | 196/1507 [09:01<1:02:32,  2.86s/it]"
     ]
    },
    {
     "name": "stdout",
     "output_type": "stream",
     "text": [
      "ID: TEST_0195 Question: 보성군이 확보한 사업비 Generated answer: 3억원\n"
     ]
    },
    {
     "name": "stderr",
     "output_type": "stream",
     "text": [
      " 13%|█▎        | 197/1507 [09:02<50:57,  2.33s/it]  "
     ]
    },
    {
     "name": "stdout",
     "output_type": "stream",
     "text": [
      "ID: TEST_0196 Question: 보성향토시장 청년몰 개수 Generated answer: 10개소\n"
     ]
    },
    {
     "name": "stderr",
     "output_type": "stream",
     "text": [
      " 13%|█▎        | 198/1507 [09:03<45:14,  2.07s/it]"
     ]
    },
    {
     "name": "stdout",
     "output_type": "stream",
     "text": [
      "ID: TEST_0197 Question: 보성향토시장 청년몰 공사 시작 월 Generated answer: 오는 3월\n"
     ]
    },
    {
     "name": "stderr",
     "output_type": "stream",
     "text": [
      " 13%|█▎        | 199/1507 [09:05<42:32,  1.95s/it]"
     ]
    },
    {
     "name": "stdout",
     "output_type": "stream",
     "text": [
      "ID: TEST_0198 Question: 보성향토시장 청년몰 완공 예상 월 Generated answer: 7월 경\n"
     ]
    },
    {
     "name": "stderr",
     "output_type": "stream",
     "text": [
      " 13%|█▎        | 200/1507 [09:06<38:26,  1.76s/it]"
     ]
    },
    {
     "name": "stdout",
     "output_type": "stream",
     "text": [
      "ID: TEST_0199 Question: 창출 예정 청년 일자리 수 Generated answer: 50명 )\n"
     ]
    },
    {
     "name": "stderr",
     "output_type": "stream",
     "text": [
      " 13%|█▎        | 201/1507 [09:07<31:56,  1.47s/it]"
     ]
    },
    {
     "name": "stdout",
     "output_type": "stream",
     "text": [
      "ID: TEST_0200 Question: 위니아딤채의 대표 이름은 Generated answer: 김혁표\n"
     ]
    },
    {
     "name": "stderr",
     "output_type": "stream",
     "text": [
      " 13%|█▎        | 202/1507 [09:08<29:53,  1.37s/it]"
     ]
    },
    {
     "name": "stdout",
     "output_type": "stream",
     "text": [
      "ID: TEST_0201 Question: 기부금이 적립되는 공기청정기의 이름은 Generated answer: 위니아 퓨어플렉스\n"
     ]
    },
    {
     "name": "stderr",
     "output_type": "stream",
     "text": [
      " 13%|█▎        | 203/1507 [09:09<29:00,  1.33s/it]"
     ]
    },
    {
     "name": "stdout",
     "output_type": "stream",
     "text": [
      "ID: TEST_0202 Question: 기부금이 적립되는 금액은 Generated answer: 5000원의\n"
     ]
    },
    {
     "name": "stderr",
     "output_type": "stream",
     "text": [
      " 14%|█▎        | 204/1507 [09:11<28:02,  1.29s/it]"
     ]
    },
    {
     "name": "stdout",
     "output_type": "stream",
     "text": [
      "ID: TEST_0203 Question: 기부금이 적립되는 단체는 Generated answer: 동물자유연대\n"
     ]
    },
    {
     "name": "stderr",
     "output_type": "stream",
     "text": [
      " 14%|█▎        | 205/1507 [09:11<23:22,  1.08s/it]"
     ]
    },
    {
     "name": "stdout",
     "output_type": "stream",
     "text": [
      "ID: TEST_0204 Question: 캠페인이 종료되는 달은 Generated answer: 오는 5월\n"
     ]
    },
    {
     "name": "stderr",
     "output_type": "stream",
     "text": [
      " 14%|█▎        | 206/1507 [09:14<36:06,  1.67s/it]"
     ]
    },
    {
     "name": "stdout",
     "output_type": "stream",
     "text": [
      "ID: TEST_0205 Question: SGC에너지 출범일 Generated answer: 친환경 종합에너지기업인 ‘ SGC에너지 ’ 가 출범한다. ‘ SGC에너지 ’ 는 군장에너지, 이테크건설과 삼광글라스 투자부문의 합병을 통해 출범한 회사다. 2일\n"
     ]
    },
    {
     "name": "stderr",
     "output_type": "stream",
     "text": [
      " 14%|█▎        | 207/1507 [09:17<46:36,  2.15s/it]"
     ]
    },
    {
     "name": "stdout",
     "output_type": "stream",
     "text": [
      "ID: TEST_0206 Question: SGC에너지가 운영하는 발전소 종류 Generated answer: 열병합 발전소\n"
     ]
    },
    {
     "name": "stderr",
     "output_type": "stream",
     "text": [
      " 14%|█▍        | 208/1507 [09:21<53:42,  2.48s/it]"
     ]
    },
    {
     "name": "stdout",
     "output_type": "stream",
     "text": [
      "ID: TEST_0207 Question: SGC그린파워에서 사용하는 연료 Generated answer: 우드팰릿\n"
     ]
    },
    {
     "name": "stderr",
     "output_type": "stream",
     "text": [
      " 14%|█▍        | 209/1507 [09:23<53:04,  2.45s/it]"
     ]
    },
    {
     "name": "stdout",
     "output_type": "stream",
     "text": [
      "ID: TEST_0208 Question: 합병 후 2021년 예상 매출 Generated answer: 2조2000억원\n"
     ]
    },
    {
     "name": "stderr",
     "output_type": "stream",
     "text": [
      " 14%|█▍        | 210/1507 [09:26<58:25,  2.70s/it]"
     ]
    },
    {
     "name": "stdout",
     "output_type": "stream",
     "text": [
      "ID: TEST_0209 Question: SGC의 로고 의미 추가 내용 Generated answer: 지속적인 성장과 변화 ( Sustain Grow Change )\n"
     ]
    },
    {
     "name": "stderr",
     "output_type": "stream",
     "text": [
      " 14%|█▍        | 211/1507 [09:30<1:03:54,  2.96s/it]"
     ]
    },
    {
     "name": "stdout",
     "output_type": "stream",
     "text": [
      "ID: TEST_0210 Question: 세종시에서 주차요금이 무료인 시간대는 Generated answer: 오전 11시30분부터 오후 1시30분\n"
     ]
    },
    {
     "name": "stderr",
     "output_type": "stream",
     "text": [
      " 14%|█▍        | 212/1507 [09:33<1:03:26,  2.94s/it]"
     ]
    },
    {
     "name": "stdout",
     "output_type": "stream",
     "text": [
      "ID: TEST_0211 Question: 세종시의 공영주차장 건설에 사용된 예산은 Generated answer: 220억원\n"
     ]
    },
    {
     "name": "stderr",
     "output_type": "stream",
     "text": [
      " 14%|█▍        | 213/1507 [09:36<1:05:35,  3.04s/it]"
     ]
    },
    {
     "name": "stdout",
     "output_type": "stream",
     "text": [
      "ID: TEST_0212 Question: 세종시 공영주차장 중 한 곳의 주차 가능 차량 대수는 Generated answer: 396대\n"
     ]
    },
    {
     "name": "stderr",
     "output_type": "stream",
     "text": [
      " 14%|█▍        | 214/1507 [09:39<1:07:06,  3.11s/it]"
     ]
    },
    {
     "name": "stdout",
     "output_type": "stream",
     "text": [
      "ID: TEST_0213 Question: 세종시의 전체 공영주차장 관리 비용은 Generated answer: 9억4852만원\n"
     ]
    },
    {
     "name": "stderr",
     "output_type": "stream",
     "text": [
      " 14%|█▍        | 215/1507 [09:43<1:12:17,  3.36s/it]"
     ]
    },
    {
     "name": "stdout",
     "output_type": "stream",
     "text": [
      "ID: TEST_0214 Question: 세종시의 연간 공영주차장 운영 적자는 Generated answer: 2억5337만\n"
     ]
    },
    {
     "name": "stderr",
     "output_type": "stream",
     "text": [
      " 14%|█▍        | 216/1507 [09:46<1:07:52,  3.15s/it]"
     ]
    },
    {
     "name": "stdout",
     "output_type": "stream",
     "text": [
      "ID: TEST_0215 Question: 한국반도체디스플레이기술학회 2020 온라인 추계학술대회의 개최 날짜는 언제야 Generated answer: 10월 16일\n"
     ]
    },
    {
     "name": "stderr",
     "output_type": "stream",
     "text": [
      " 14%|█▍        | 217/1507 [09:49<1:08:39,  3.19s/it]"
     ]
    },
    {
     "name": "stdout",
     "output_type": "stream",
     "text": [
      "ID: TEST_0216 Question: 2020 온라인 추계학술대회의 주최자는 누구야 Generated answer: 명지대학교 LINC + 사업단과 한국반도체디스플레이기술학회\n"
     ]
    },
    {
     "name": "stderr",
     "output_type": "stream",
     "text": [
      " 14%|█▍        | 218/1507 [09:53<1:11:38,  3.33s/it]"
     ]
    },
    {
     "name": "stdout",
     "output_type": "stream",
     "text": [
      "ID: TEST_0217 Question: Plenary 세션의 첫 번째 섹션 좌장은 누구야 Generated answer: 한양대 전형탁\n"
     ]
    },
    {
     "name": "stderr",
     "output_type": "stream",
     "text": [
      " 15%|█▍        | 219/1507 [09:57<1:14:37,  3.48s/it]"
     ]
    },
    {
     "name": "stdout",
     "output_type": "stream",
     "text": [
      "ID: TEST_0218 Question: Plenary 세션의 두 번째 섹션 좌장은 누구야 Generated answer: 한기대 장영철\n"
     ]
    },
    {
     "name": "stderr",
     "output_type": "stream",
     "text": [
      " 15%|█▍        | 220/1507 [10:00<1:13:08,  3.41s/it]"
     ]
    },
    {
     "name": "stdout",
     "output_type": "stream",
     "text": [
      "ID: TEST_0219 Question: Session 4 장비의 Invited 강연자는 누구야 Generated answer: 윤태식 교수\n"
     ]
    },
    {
     "name": "stderr",
     "output_type": "stream",
     "text": [
      " 15%|█▍        | 221/1507 [10:02<1:06:57,  3.12s/it]"
     ]
    },
    {
     "name": "stdout",
     "output_type": "stream",
     "text": [
      "ID: TEST_0220 Question: 부장검사 승진 대상 기수는 Generated answer: 사법연수원 34기\n"
     ]
    },
    {
     "name": "stderr",
     "output_type": "stream",
     "text": [
      " 15%|█▍        | 222/1507 [10:06<1:07:55,  3.17s/it]"
     ]
    },
    {
     "name": "stdout",
     "output_type": "stream",
     "text": [
      "ID: TEST_0221 Question: 동료 평가 절차 종료 날짜는 Generated answer: 12일까지\n"
     ]
    },
    {
     "name": "stderr",
     "output_type": "stream",
     "text": [
      " 15%|█▍        | 223/1507 [10:09<1:08:34,  3.20s/it]"
     ]
    },
    {
     "name": "stdout",
     "output_type": "stream",
     "text": [
      "ID: TEST_0222 Question: 직제 개편 발표일은 Generated answer: 1월 21일\n"
     ]
    },
    {
     "name": "stderr",
     "output_type": "stream",
     "text": [
      " 15%|█▍        | 224/1507 [10:12<1:10:14,  3.29s/it]"
     ]
    },
    {
     "name": "stdout",
     "output_type": "stream",
     "text": [
      "ID: TEST_0223 Question: 법무부·검찰개혁위원회의 권고 시점은 Generated answer: 지난해 10월\n"
     ]
    },
    {
     "name": "stderr",
     "output_type": "stream",
     "text": [
      " 15%|█▍        | 225/1507 [10:16<1:09:07,  3.24s/it]"
     ]
    },
    {
     "name": "stdout",
     "output_type": "stream",
     "text": [
      "ID: TEST_0224 Question: 검찰과 대검 정책기획과의 협상 주체는 Generated answer: 법무부 검찰과\n"
     ]
    },
    {
     "name": "stderr",
     "output_type": "stream",
     "text": [
      " 15%|█▍        | 226/1507 [10:19<1:08:21,  3.20s/it]"
     ]
    },
    {
     "name": "stdout",
     "output_type": "stream",
     "text": [
      "ID: TEST_0225 Question: 사하점에서 주로 판매되는 품목 Generated answer: 유아용품,\n"
     ]
    },
    {
     "name": "stderr",
     "output_type": "stream",
     "text": [
      " 15%|█▌        | 227/1507 [10:21<1:03:13,  2.96s/it]"
     ]
    },
    {
     "name": "stdout",
     "output_type": "stream",
     "text": [
      "ID: TEST_0226 Question: 김지순씨가 빅히트 공모주 청약에 투자한 돈은 Generated answer: 1억800만원\n"
     ]
    },
    {
     "name": "stderr",
     "output_type": "stream",
     "text": [
      " 15%|█▌        | 228/1507 [10:25<1:11:39,  3.36s/it]"
     ]
    },
    {
     "name": "stdout",
     "output_type": "stream",
     "text": [
      "ID: TEST_0227 Question: 빅히트 공모주의 첫날 경쟁률은 Generated answer: 89. 6대 1\n"
     ]
    },
    {
     "name": "stderr",
     "output_type": "stream",
     "text": [
      " 15%|█▌        | 229/1507 [10:29<1:11:22,  3.35s/it]"
     ]
    },
    {
     "name": "stdout",
     "output_type": "stream",
     "text": [
      "ID: TEST_0228 Question: 빅히트 공모주 청약 증거금은 얼마인가 Generated answer: 58조5542억원\n"
     ]
    },
    {
     "name": "stderr",
     "output_type": "stream",
     "text": [
      " 15%|█▌        | 230/1507 [10:31<1:06:34,  3.13s/it]"
     ]
    },
    {
     "name": "stdout",
     "output_type": "stream",
     "text": [
      "ID: TEST_0229 Question: 빅히트의 매출 비율 중 BTS가 차지하는 비율은 Generated answer: 80 % 이상\n"
     ]
    },
    {
     "name": "stderr",
     "output_type": "stream",
     "text": [
      " 15%|█▌        | 231/1507 [10:34<1:04:58,  3.06s/it]"
     ]
    },
    {
     "name": "stdout",
     "output_type": "stream",
     "text": [
      "ID: TEST_0230 Question: 김지순씨가 카카오게임즈 청약에서 벌어들인 돈은 Generated answer: 50만원\n"
     ]
    },
    {
     "name": "stderr",
     "output_type": "stream",
     "text": [
      " 15%|█▌        | 232/1507 [10:35<52:29,  2.47s/it]  "
     ]
    },
    {
     "name": "stdout",
     "output_type": "stream",
     "text": [
      "ID: TEST_0231 Question: 한국마스크산업협회 회장은 누구야 Generated answer: 석호길\n"
     ]
    },
    {
     "name": "stderr",
     "output_type": "stream",
     "text": [
      " 15%|█▌        | 233/1507 [10:36<43:46,  2.06s/it]"
     ]
    },
    {
     "name": "stdout",
     "output_type": "stream",
     "text": [
      "ID: TEST_0232 Question: Group TRD 회장은 누구야 Generated answer: 한지운 )\n"
     ]
    },
    {
     "name": "stderr",
     "output_type": "stream",
     "text": [
      " 16%|█▌        | 234/1507 [10:38<38:17,  1.80s/it]"
     ]
    },
    {
     "name": "stdout",
     "output_type": "stream",
     "text": [
      "ID: TEST_0233 Question: 익성의 해외총괄그룹장은 누구야 Generated answer: 박성대 )\n"
     ]
    },
    {
     "name": "stderr",
     "output_type": "stream",
     "text": [
      " 16%|█▌        | 235/1507 [10:39<33:02,  1.56s/it]"
     ]
    },
    {
     "name": "stdout",
     "output_type": "stream",
     "text": [
      "ID: TEST_0234 Question: 업무 협약식이 열린 날짜는 언제야 Generated answer: 지난 19일\n"
     ]
    },
    {
     "name": "stderr",
     "output_type": "stream",
     "text": [
      " 16%|█▌        | 236/1507 [10:40<30:07,  1.42s/it]"
     ]
    },
    {
     "name": "stdout",
     "output_type": "stream",
     "text": [
      "ID: TEST_0235 Question: 협약이 체결된 아프리카 국가 중 하나는 어디야 Generated answer: 탄자니아, 케냐, 파라과이, 브라질\n"
     ]
    },
    {
     "name": "stderr",
     "output_type": "stream",
     "text": [
      " 16%|█▌        | 237/1507 [10:43<41:53,  1.98s/it]"
     ]
    },
    {
     "name": "stdout",
     "output_type": "stream",
     "text": [
      "ID: TEST_0236 Question: GS리테일의 전국 점포망 규모는 Generated answer: 1만 5000개 이상\n"
     ]
    },
    {
     "name": "stderr",
     "output_type": "stream",
     "text": [
      " 16%|█▌        | 238/1507 [10:46<50:08,  2.37s/it]"
     ]
    },
    {
     "name": "stdout",
     "output_type": "stream",
     "text": [
      "ID: TEST_0237 Question: GS홈쇼핑의 모바일 쇼핑 앱 사용자 수는 Generated answer: 1800만명 이상\n"
     ]
    },
    {
     "name": "stderr",
     "output_type": "stream",
     "text": [
      " 16%|█▌        | 239/1507 [10:50<55:50,  2.64s/it]"
     ]
    },
    {
     "name": "stdout",
     "output_type": "stream",
     "text": [
      "ID: TEST_0238 Question: GS리테일의 연간 거래액 목표는 Generated answer: 15조원\n"
     ]
    },
    {
     "name": "stderr",
     "output_type": "stream",
     "text": [
      " 16%|█▌        | 240/1507 [10:53<58:15,  2.76s/it]"
     ]
    },
    {
     "name": "stdout",
     "output_type": "stream",
     "text": [
      "ID: TEST_0239 Question: 합병 후 예측되는 하루 거래 횟수는 Generated answer: 600만건\n"
     ]
    },
    {
     "name": "stderr",
     "output_type": "stream",
     "text": [
      " 16%|█▌        | 241/1507 [10:55<56:15,  2.67s/it]"
     ]
    },
    {
     "name": "stdout",
     "output_type": "stream",
     "text": [
      "ID: TEST_0240 Question: GS홈쇼핑 창립 이후의 연혁에서 언급된 시장은 Generated answer: TV홈쇼핑 시장\n"
     ]
    },
    {
     "name": "stderr",
     "output_type": "stream",
     "text": [
      " 16%|█▌        | 242/1507 [10:58<1:00:05,  2.85s/it]"
     ]
    },
    {
     "name": "stdout",
     "output_type": "stream",
     "text": [
      "ID: TEST_0241 Question: 올해 3분기 제조업 매출 현황 경기실사지수(BSI) 수치 Generated answer: 11일 산업연구원에 따르면 올해 3분기 제조업 매출 현황 경기실사지수 ( BSI ) 는 84\n"
     ]
    },
    {
     "name": "stderr",
     "output_type": "stream",
     "text": [
      " 16%|█▌        | 243/1507 [11:01<1:01:34,  2.92s/it]"
     ]
    },
    {
     "name": "stdout",
     "output_type": "stream",
     "text": [
      "ID: TEST_0242 Question: 4분기 제조업 매출 전망 BSI 수치 Generated answer: 84로 3분기 만에 전분기 대비 상승했다. 4분기 제조업 매출 전망 BSI도 89\n"
     ]
    },
    {
     "name": "stderr",
     "output_type": "stream",
     "text": [
      " 16%|█▌        | 244/1507 [11:04<59:33,  2.83s/it]  "
     ]
    },
    {
     "name": "stdout",
     "output_type": "stream",
     "text": [
      "ID: TEST_0243 Question: 3분기 제조업 매출 전망 항목 중 가장 크게 상승한 주요 항목별 BSI Generated answer: 수출 전망 ( 92 )\n"
     ]
    },
    {
     "name": "stderr",
     "output_type": "stream",
     "text": [
      " 16%|█▋        | 245/1507 [11:07<1:01:08,  2.91s/it]"
     ]
    },
    {
     "name": "stdout",
     "output_type": "stream",
     "text": [
      "ID: TEST_0244 Question: 경제심리지수 저점 수치 Generated answer: 99. 4\n"
     ]
    },
    {
     "name": "stderr",
     "output_type": "stream",
     "text": [
      " 16%|█▋        | 246/1507 [11:10<1:00:22,  2.87s/it]"
     ]
    },
    {
     "name": "stdout",
     "output_type": "stream",
     "text": [
      "ID: TEST_0245 Question: 4차 추가경정예산 규모 Generated answer: 7조8000억원\n"
     ]
    },
    {
     "name": "stderr",
     "output_type": "stream",
     "text": [
      " 16%|█▋        | 247/1507 [11:12<52:19,  2.49s/it]  "
     ]
    },
    {
     "name": "stdout",
     "output_type": "stream",
     "text": [
      "ID: TEST_0246 Question: 현대차그룹과 포스코그룹이 공급하는 수소전기차 대수 Generated answer: 1500대 공급\n"
     ]
    },
    {
     "name": "stderr",
     "output_type": "stream",
     "text": [
      " 16%|█▋        | 248/1507 [11:14<50:19,  2.40s/it]"
     ]
    },
    {
     "name": "stdout",
     "output_type": "stream",
     "text": [
      "ID: TEST_0247 Question: 포스코 철강부문장 이름 Generated answer: 김학동 포스코\n"
     ]
    },
    {
     "name": "stderr",
     "output_type": "stream",
     "text": [
      " 17%|█▋        | 249/1507 [11:16<48:57,  2.34s/it]"
     ]
    },
    {
     "name": "stdout",
     "output_type": "stream",
     "text": [
      "ID: TEST_0248 Question: 협약 체결 장소 Generated answer: 포항 포스코 청송대\n"
     ]
    },
    {
     "name": "stderr",
     "output_type": "stream",
     "text": [
      " 17%|█▋        | 250/1507 [11:18<48:05,  2.30s/it]"
     ]
    },
    {
     "name": "stdout",
     "output_type": "stream",
     "text": [
      "ID: TEST_0249 Question: 현대차그룹이 출시한 수소버스 이름 Generated answer: 일렉시티 등\n"
     ]
    },
    {
     "name": "stderr",
     "output_type": "stream",
     "text": [
      " 17%|█▋        | 251/1507 [11:20<47:22,  2.26s/it]"
     ]
    },
    {
     "name": "stdout",
     "output_type": "stream",
     "text": [
      "ID: TEST_0250 Question: 포스코그룹이 목표로 하는 2050년 수소 생산량 Generated answer: 500만톤\n"
     ]
    },
    {
     "name": "stderr",
     "output_type": "stream",
     "text": [
      " 17%|█▋        | 252/1507 [11:25<1:00:36,  2.90s/it]"
     ]
    },
    {
     "name": "stdout",
     "output_type": "stream",
     "text": [
      "ID: TEST_0251 Question: 미국투자이민 설명회가 개최되는 장소는 어디인가 Generated answer: 서울 역삼동 본사\n"
     ]
    },
    {
     "name": "stderr",
     "output_type": "stream",
     "text": [
      " 17%|█▋        | 253/1507 [11:29<1:09:51,  3.34s/it]"
     ]
    },
    {
     "name": "stdout",
     "output_type": "stream",
     "text": [
      "ID: TEST_0252 Question: 빅리버II 프로젝트의 투자 모집 금액은 얼마인가 Generated answer: 1억달러\n"
     ]
    },
    {
     "name": "stderr",
     "output_type": "stream",
     "text": [
      " 17%|█▋        | 254/1507 [11:33<1:16:17,  3.65s/it]"
     ]
    },
    {
     "name": "stdout",
     "output_type": "stream",
     "text": [
      "ID: TEST_0253 Question: NIW 급행수속 비용은 얼마인가 Generated answer: 2500달러\n"
     ]
    },
    {
     "name": "stderr",
     "output_type": "stream",
     "text": [
      " 17%|█▋        | 255/1507 [11:38<1:20:53,  3.88s/it]"
     ]
    },
    {
     "name": "stdout",
     "output_type": "stream",
     "text": [
      "ID: TEST_0254 Question: 미국투자이민 설명회의 진행 날짜는 언제인가 Generated answer: 오는 14일\n"
     ]
    },
    {
     "name": "stderr",
     "output_type": "stream",
     "text": [
      " 17%|█▋        | 256/1507 [11:42<1:24:00,  4.03s/it]"
     ]
    },
    {
     "name": "stdout",
     "output_type": "stream",
     "text": [
      "ID: TEST_0255 Question: Big River Steel 프로젝트가 위치한 주는 어디인가 Generated answer: 미국아칸소주\n"
     ]
    },
    {
     "name": "stderr",
     "output_type": "stream",
     "text": [
      " 17%|█▋        | 257/1507 [11:45<1:19:20,  3.81s/it]"
     ]
    },
    {
     "name": "stdout",
     "output_type": "stream",
     "text": [
      "ID: TEST_0256 Question: 최근 4년간 교육공무직 임금인상률 Generated answer: 3. 98 %\n"
     ]
    },
    {
     "name": "stderr",
     "output_type": "stream",
     "text": [
      " 17%|█▋        | 258/1507 [11:49<1:14:52,  3.60s/it]"
     ]
    },
    {
     "name": "stdout",
     "output_type": "stream",
     "text": [
      "ID: TEST_0257 Question: 코로나19 백신 후보물질 수 Generated answer: 200여종\n"
     ]
    },
    {
     "name": "stderr",
     "output_type": "stream",
     "text": [
      " 17%|█▋        | 259/1507 [11:51<1:07:18,  3.24s/it]"
     ]
    },
    {
     "name": "stdout",
     "output_type": "stream",
     "text": [
      "ID: TEST_0258 Question: 인천지법이 허용한 집회의 유형은 Generated answer: 인권조례 반대 집회\n"
     ]
    },
    {
     "name": "stderr",
     "output_type": "stream",
     "text": [
      " 17%|█▋        | 260/1507 [11:54<1:05:53,  3.17s/it]"
     ]
    },
    {
     "name": "stdout",
     "output_type": "stream",
     "text": [
      "ID: TEST_0259 Question: 드림그림을 시작한 연도 Generated answer: 2011년 부임한 울프 아우스프룽 대표는 한성자동차가 어떻게 사회적 책임을 다할지 모색한 끝에 드림그림을 시작했다. 2012년\n"
     ]
    },
    {
     "name": "stderr",
     "output_type": "stream",
     "text": [
      " 17%|█▋        | 261/1507 [11:56<1:01:30,  2.96s/it]"
     ]
    },
    {
     "name": "stdout",
     "output_type": "stream",
     "text": [
      "ID: TEST_0260 Question: 드림그림 설립을 주도한 한성자동차 대표 Generated answer: 울프 아우스프룽\n"
     ]
    },
    {
     "name": "stderr",
     "output_type": "stream",
     "text": [
      " 17%|█▋        | 262/1507 [12:00<1:02:56,  3.03s/it]"
     ]
    },
    {
     "name": "stdout",
     "output_type": "stream",
     "text": [
      "ID: TEST_0261 Question: 드림그림 엠버서더 프로그램 시작 연도 Generated answer: 2012년에 장학생과 멘토 20명씩으로 시작해 창립 30주년이었던 2015년부터 장학생과 멘토 각각 40명씩으로 운영하고 있다. 한성자동차는 전사적 차원에서 드림그림을 지원한다. 2013년\n"
     ]
    },
    {
     "name": "stderr",
     "output_type": "stream",
     "text": [
      " 17%|█▋        | 263/1507 [12:02<58:08,  2.80s/it]  "
     ]
    },
    {
     "name": "stdout",
     "output_type": "stream",
     "text": [
      "ID: TEST_0262 Question: 드림그림 참가 대학생 멘토 숫자 Generated answer: 40명씩\n"
     ]
    },
    {
     "name": "stderr",
     "output_type": "stream",
     "text": [
      " 18%|█▊        | 264/1507 [12:06<1:03:07,  3.05s/it]"
     ]
    },
    {
     "name": "stdout",
     "output_type": "stream",
     "text": [
      "ID: TEST_0263 Question: 코로나19로 대체된 프로그램 형태 Generated answer: 온라인 엠버서더 프로그램\n"
     ]
    },
    {
     "name": "stderr",
     "output_type": "stream",
     "text": [
      " 18%|█▊        | 265/1507 [12:09<1:02:39,  3.03s/it]"
     ]
    },
    {
     "name": "stdout",
     "output_type": "stream",
     "text": [
      "ID: TEST_0264 Question: 아이에스동서의 시공능력평가 순위는 Generated answer: 28위에\n"
     ]
    },
    {
     "name": "stderr",
     "output_type": "stream",
     "text": [
      " 18%|█▊        | 266/1507 [12:12<1:04:13,  3.10s/it]"
     ]
    },
    {
     "name": "stdout",
     "output_type": "stream",
     "text": [
      "ID: TEST_0265 Question: 서울 강남구 대치동 A 빌라 전용 51㎡, 1층의 최근 보증금은? Generated answer: 5000만원\n"
     ]
    },
    {
     "name": "stderr",
     "output_type": "stream",
     "text": [
      " 18%|█▊        | 267/1507 [12:15<1:03:43,  3.08s/it]"
     ]
    },
    {
     "name": "stdout",
     "output_type": "stream",
     "text": [
      "ID: TEST_0266 Question: 서울 연립ㆍ다세대주택 전세수급동향지수가 102.3을 기록한 시기는? Generated answer: 17일 한국감정원에 따르면 지난달\n"
     ]
    },
    {
     "name": "stderr",
     "output_type": "stream",
     "text": [
      " 18%|█▊        | 268/1507 [12:17<59:50,  2.90s/it]  "
     ]
    },
    {
     "name": "stdout",
     "output_type": "stream",
     "text": [
      "ID: TEST_0267 Question: 서울 빌라의 전셋값이 오르기 시작한 시기는? Generated answer: 2017년 9월\n"
     ]
    },
    {
     "name": "stderr",
     "output_type": "stream",
     "text": [
      " 18%|█▊        | 269/1507 [12:21<1:02:05,  3.01s/it]"
     ]
    },
    {
     "name": "stdout",
     "output_type": "stream",
     "text": [
      "ID: TEST_0268 Question: 6월 17일 대책에 따른 규제로 전세자금대출 회수가 되는 주택 유형은? Generated answer: 연립ㆍ다세대주택\n"
     ]
    },
    {
     "name": "stderr",
     "output_type": "stream",
     "text": [
      " 18%|█▊        | 270/1507 [12:24<1:03:35,  3.08s/it]"
     ]
    },
    {
     "name": "stdout",
     "output_type": "stream",
     "text": [
      "ID: TEST_0269 Question: 서울 시내 다세대ㆍ연립주택 거래량이 7005건으로 가장 많았던 달은? Generated answer: 7월 ( 3644 )\n"
     ]
    },
    {
     "name": "stderr",
     "output_type": "stream",
     "text": [
      " 18%|█▊        | 271/1507 [12:27<1:04:58,  3.15s/it]"
     ]
    },
    {
     "name": "stdout",
     "output_type": "stream",
     "text": [
      "ID: TEST_0270 Question: 생계급여 부양 의무자 기준이 단계적으로 폐지되는 연도 Generated answer: 2022년까지\n"
     ]
    },
    {
     "name": "stderr",
     "output_type": "stream",
     "text": [
      " 18%|█▊        | 272/1507 [12:30<1:05:57,  3.20s/it]"
     ]
    },
    {
     "name": "stdout",
     "output_type": "stream",
     "text": [
      "ID: TEST_0271 Question: 기초생활보장 종합계획의 기간 Generated answer: 2021∼2023년\n"
     ]
    },
    {
     "name": "stderr",
     "output_type": "stream",
     "text": [
      " 18%|█▊        | 273/1507 [12:35<1:13:06,  3.55s/it]"
     ]
    },
    {
     "name": "stdout",
     "output_type": "stream",
     "text": [
      "ID: TEST_0272 Question: 한국의 건강보험 보장 비율 Generated answer: 63. 8 %\n"
     ]
    },
    {
     "name": "stderr",
     "output_type": "stream",
     "text": [
      " 18%|█▊        | 274/1507 [12:39<1:18:06,  3.80s/it]"
     ]
    },
    {
     "name": "stdout",
     "output_type": "stream",
     "text": [
      "ID: TEST_0273 Question: 빈곤 사각 층 수치 Generated answer: 73만명\n"
     ]
    },
    {
     "name": "stderr",
     "output_type": "stream",
     "text": [
      " 18%|█▊        | 275/1507 [12:43<1:14:54,  3.65s/it]"
     ]
    },
    {
     "name": "stdout",
     "output_type": "stream",
     "text": [
      "ID: TEST_0274 Question: 생계·의료급여의 부양 의무자 기준 폐지 공약한 대통령 Generated answer: 문재인 대통령의 대선공약처럼 알려졌다.\n"
     ]
    },
    {
     "name": "stderr",
     "output_type": "stream",
     "text": [
      " 18%|█▊        | 276/1507 [12:46<1:12:39,  3.54s/it]"
     ]
    },
    {
     "name": "stdout",
     "output_type": "stream",
     "text": [
      "ID: TEST_0275 Question: 손해보험사의 대표 상품은 무엇을 포함하는가 Generated answer: 전 국민 보험\n"
     ]
    },
    {
     "name": "stderr",
     "output_type": "stream",
     "text": [
      " 18%|█▊        | 277/1507 [12:50<1:13:59,  3.61s/it]"
     ]
    },
    {
     "name": "stdout",
     "output_type": "stream",
     "text": [
      "ID: TEST_0276 Question: 종신보험과 정기보험의 차이점은 무엇인가 Generated answer: 사망보험의 한 종류\n"
     ]
    },
    {
     "name": "stderr",
     "output_type": "stream",
     "text": [
      " 18%|█▊        | 278/1507 [12:52<1:09:05,  3.37s/it]"
     ]
    },
    {
     "name": "stdout",
     "output_type": "stream",
     "text": [
      "ID: TEST_0277 Question: 젊을 때 암보험에 가입해야 하는 이유는 무엇인가 Generated answer: 유전력이\n"
     ]
    },
    {
     "name": "stderr",
     "output_type": "stream",
     "text": [
      " 19%|█▊        | 279/1507 [12:55<1:06:58,  3.27s/it]"
     ]
    },
    {
     "name": "stdout",
     "output_type": "stream",
     "text": [
      "ID: TEST_0278 Question: 저축성 보험과 적금의 차이점은 무엇인가 Generated answer: 신중하게\n"
     ]
    },
    {
     "name": "stderr",
     "output_type": "stream",
     "text": [
      " 19%|█▊        | 280/1507 [12:58<1:01:56,  3.03s/it]"
     ]
    },
    {
     "name": "stdout",
     "output_type": "stream",
     "text": [
      "ID: TEST_0279 Question: 저축성 보험의 5년 차 유지율은 얼마인가 Generated answer: 57 % 로\n"
     ]
    },
    {
     "name": "stderr",
     "output_type": "stream",
     "text": [
      " 19%|█▊        | 281/1507 [13:01<1:03:20,  3.10s/it]"
     ]
    },
    {
     "name": "stdout",
     "output_type": "stream",
     "text": [
      "ID: TEST_0280 Question: 영화 콘텐츠 서비스 중단을 결정한 OTT 서비스는 Generated answer: 영화 수입배급사\n"
     ]
    },
    {
     "name": "stderr",
     "output_type": "stream",
     "text": [
      " 19%|█▊        | 282/1507 [13:03<57:57,  2.84s/it]  "
     ]
    },
    {
     "name": "stdout",
     "output_type": "stream",
     "text": [
      "ID: TEST_0281 Question: 영화수입배급사협회가 공청회를 개최한 날짜는 Generated answer: 지난달 17일\n"
     ]
    },
    {
     "name": "stderr",
     "output_type": "stream",
     "text": [
      " 19%|█▉        | 283/1507 [13:07<1:00:36,  2.97s/it]"
     ]
    },
    {
     "name": "stdout",
     "output_type": "stream",
     "text": [
      "ID: TEST_0282 Question: 국내 디지털유통시장이 채택하고 있는 결재 방식은 Generated answer: T VOD ( 건 별 영상 주문 방식 )\n"
     ]
    },
    {
     "name": "stderr",
     "output_type": "stream",
     "text": [
      " 19%|█▉        | 284/1507 [13:10<1:02:24,  3.06s/it]"
     ]
    },
    {
     "name": "stdout",
     "output_type": "stream",
     "text": [
      "ID: TEST_0283 Question: 넷플릭스가 사용하는 계약 방식은 Generated answer: SVOD\n"
     ]
    },
    {
     "name": "stderr",
     "output_type": "stream",
     "text": [
      " 19%|█▉        | 285/1507 [13:13<1:03:32,  3.12s/it]"
     ]
    },
    {
     "name": "stdout",
     "output_type": "stream",
     "text": [
      "ID: TEST_0284 Question: 건당 3000원이 결제되는 방식은 Generated answer: 영화 한 편을 보는데 IPTV\n"
     ]
    },
    {
     "name": "stderr",
     "output_type": "stream",
     "text": [
      " 19%|█▉        | 286/1507 [13:15<58:13,  2.86s/it]  "
     ]
    },
    {
     "name": "stdout",
     "output_type": "stream",
     "text": [
      "ID: TEST_0285 Question: 적정 백신 보관 온도 범위는 Generated answer: 2∼8℃\n"
     ]
    },
    {
     "name": "stderr",
     "output_type": "stream",
     "text": [
      " 19%|█▉        | 287/1507 [13:19<59:33,  2.93s/it]"
     ]
    },
    {
     "name": "stdout",
     "output_type": "stream",
     "text": [
      "ID: TEST_0286 Question: 조사를 시행한 연구팀의 소속 대학은 Generated answer: 서울대학교 산학협력단\n"
     ]
    },
    {
     "name": "stderr",
     "output_type": "stream",
     "text": [
      " 19%|█▉        | 288/1507 [13:22<1:02:05,  3.06s/it]"
     ]
    },
    {
     "name": "stdout",
     "output_type": "stream",
     "text": [
      "ID: TEST_0287 Question: 보건소 냉장고 중 적정 온도를 유지한 비율은 Generated answer: 15개 ( 38. 5 %\n"
     ]
    },
    {
     "name": "stderr",
     "output_type": "stream",
     "text": [
      " 19%|█▉        | 289/1507 [13:24<57:50,  2.85s/it]  "
     ]
    },
    {
     "name": "stdout",
     "output_type": "stream",
     "text": [
      "ID: TEST_0288 Question: 민간병원 냉장고 중 가정용 냉장고 비율은 Generated answer: 40. 7 %\n"
     ]
    },
    {
     "name": "stderr",
     "output_type": "stream",
     "text": [
      " 19%|█▉        | 290/1507 [13:28<1:00:24,  2.98s/it]"
     ]
    },
    {
     "name": "stdout",
     "output_type": "stream",
     "text": [
      "ID: TEST_0289 Question: 수두 백신 역가가 낮을 때의 예방 효과 전망은 Generated answer: 4000pfu / 0. 5㎖\n"
     ]
    },
    {
     "name": "stderr",
     "output_type": "stream",
     "text": [
      " 19%|█▉        | 291/1507 [13:32<1:08:26,  3.38s/it]"
     ]
    },
    {
     "name": "stdout",
     "output_type": "stream",
     "text": [
      "ID: TEST_0290 Question: GDP 대비 국가채무비율은 몇 %인가 Generated answer: 43. 5 %\n"
     ]
    },
    {
     "name": "stderr",
     "output_type": "stream",
     "text": [
      " 19%|█▉        | 292/1507 [13:33<55:59,  2.77s/it]  "
     ]
    },
    {
     "name": "stdout",
     "output_type": "stream",
     "text": [
      "ID: TEST_0291 Question: 전남농촌융복합산업지원센터장이 누구인가 Generated answer: 송경환\n"
     ]
    },
    {
     "name": "stderr",
     "output_type": "stream",
     "text": [
      " 19%|█▉        | 293/1507 [13:35<51:32,  2.55s/it]"
     ]
    },
    {
     "name": "stdout",
     "output_type": "stream",
     "text": [
      "ID: TEST_0292 Question: 전남6차센터가 받은 최대 사업비는 얼마인가 Generated answer: 12억5200만원\n"
     ]
    },
    {
     "name": "stderr",
     "output_type": "stream",
     "text": [
      " 20%|█▉        | 294/1507 [13:37<49:22,  2.44s/it]"
     ]
    },
    {
     "name": "stdout",
     "output_type": "stream",
     "text": [
      "ID: TEST_0293 Question: 안테나숍의 2019년 매출액은 얼마인가 Generated answer: 6억9100만원\n"
     ]
    },
    {
     "name": "stderr",
     "output_type": "stream",
     "text": [
      " 20%|█▉        | 295/1507 [13:40<49:51,  2.47s/it]"
     ]
    },
    {
     "name": "stdout",
     "output_type": "stream",
     "text": [
      "ID: TEST_0294 Question: 유통플랫폼 사업 매출액이 2020년에 얼마로 증가했는가 Generated answer: 487. 3 %\n"
     ]
    },
    {
     "name": "stderr",
     "output_type": "stream",
     "text": [
      " 20%|█▉        | 296/1507 [13:43<51:38,  2.56s/it]"
     ]
    },
    {
     "name": "stdout",
     "output_type": "stream",
     "text": [
      "ID: TEST_0295 Question: 홈스쿨 체험박스' 시행 목적은 무엇인가 Generated answer: 안전한 비대면 체험학습\n"
     ]
    },
    {
     "name": "stderr",
     "output_type": "stream",
     "text": [
      " 20%|█▉        | 297/1507 [13:45<50:45,  2.52s/it]"
     ]
    },
    {
     "name": "stdout",
     "output_type": "stream",
     "text": [
      "ID: TEST_0296 Question: 문재인 정부의 몇 번째 부동산 대책인지 Generated answer: 23번째\n"
     ]
    },
    {
     "name": "stderr",
     "output_type": "stream",
     "text": [
      " 20%|█▉        | 298/1507 [13:48<55:01,  2.73s/it]"
     ]
    },
    {
     "name": "stdout",
     "output_type": "stream",
     "text": [
      "ID: TEST_0297 Question: 공급 물량이 몇 가구인지 Generated answer: 10만여 가구\n"
     ]
    },
    {
     "name": "stderr",
     "output_type": "stream",
     "text": [
      " 20%|█▉        | 299/1507 [13:51<56:37,  2.81s/it]"
     ]
    },
    {
     "name": "stdout",
     "output_type": "stream",
     "text": [
      "ID: TEST_0298 Question: 강남구 대치동 은마아파트의 현재 용적률은 Generated answer: 204 % 다\n"
     ]
    },
    {
     "name": "stderr",
     "output_type": "stream",
     "text": [
      " 20%|█▉        | 300/1507 [13:54<54:38,  2.72s/it]"
     ]
    },
    {
     "name": "stdout",
     "output_type": "stream",
     "text": [
      "ID: TEST_0299 Question: SETEC 부지가 위치한 구는 Generated answer: 강남구 서울무역전시장\n"
     ]
    },
    {
     "name": "stderr",
     "output_type": "stream",
     "text": [
      " 20%|█▉        | 301/1507 [13:57<58:01,  2.89s/it]"
     ]
    },
    {
     "name": "stdout",
     "output_type": "stream",
     "text": [
      "ID: TEST_0300 Question: 서울 용산 정비창 부지의 기존 공급 계획은 몇 가구인지 Generated answer: 8000가구\n"
     ]
    },
    {
     "name": "stderr",
     "output_type": "stream",
     "text": [
      " 20%|██        | 302/1507 [14:00<1:00:28,  3.01s/it]"
     ]
    },
    {
     "name": "stdout",
     "output_type": "stream",
     "text": [
      "ID: TEST_0301 Question: A씨가 실제 거주하는 곳 Generated answer: 88평짜리 대형 주상복합 아파트\n"
     ]
    },
    {
     "name": "stderr",
     "output_type": "stream",
     "text": [
      " 20%|██        | 303/1507 [14:04<1:01:55,  3.09s/it]"
     ]
    },
    {
     "name": "stdout",
     "output_type": "stream",
     "text": [
      "ID: TEST_0302 Question: A씨의 집에서 발견된 현금 금액 Generated answer: 360만원\n"
     ]
    },
    {
     "name": "stderr",
     "output_type": "stream",
     "text": [
      " 20%|██        | 304/1507 [14:06<57:27,  2.87s/it]  "
     ]
    },
    {
     "name": "stdout",
     "output_type": "stream",
     "text": [
      "ID: TEST_0303 Question: B씨의 사업자 명의를 빌린 사람 Generated answer: 처남이었다.\n"
     ]
    },
    {
     "name": "stderr",
     "output_type": "stream",
     "text": [
      " 20%|██        | 305/1507 [14:09<59:05,  2.95s/it]"
     ]
    },
    {
     "name": "stdout",
     "output_type": "stream",
     "text": [
      "ID: TEST_0304 Question: 국세청이 체납자 추적을 위한 분석 방식 Generated answer: 빅데이터\n"
     ]
    },
    {
     "name": "stderr",
     "output_type": "stream",
     "text": [
      " 20%|██        | 306/1507 [14:13<1:01:03,  3.05s/it]"
     ]
    },
    {
     "name": "stdout",
     "output_type": "stream",
     "text": [
      "ID: TEST_0305 Question: 국세청이 체납자 정보 분석을 통해 측정한 거주지 분석 적중률 Generated answer: 85. 7 %\n"
     ]
    },
    {
     "name": "stderr",
     "output_type": "stream",
     "text": [
      " 20%|██        | 307/1507 [14:15<59:36,  2.98s/it]  "
     ]
    },
    {
     "name": "stdout",
     "output_type": "stream",
     "text": [
      "ID: TEST_0306 Question: 제천시에 위치한 산지 태양광 발전시설의 용량은 Generated answer: 800㎾급\n"
     ]
    },
    {
     "name": "stderr",
     "output_type": "stream",
     "text": [
      " 20%|██        | 308/1507 [14:18<57:41,  2.89s/it]"
     ]
    },
    {
     "name": "stdout",
     "output_type": "stream",
     "text": [
      "ID: TEST_0307 Question: 봉양읍 공전리 태양광 발전시설이 건설되기 시작한 연도는 Generated answer: 2018년부터 공사를 시작했다.\n"
     ]
    },
    {
     "name": "stderr",
     "output_type": "stream",
     "text": [
      " 21%|██        | 309/1507 [14:21<58:54,  2.95s/it]"
     ]
    },
    {
     "name": "stdout",
     "output_type": "stream",
     "text": [
      "ID: TEST_0308 Question: 제천시에 내린 집중호우량은 몇 mm인가 Generated answer: 300㎜의\n"
     ]
    },
    {
     "name": "stderr",
     "output_type": "stream",
     "text": [
      " 21%|██        | 310/1507 [14:23<55:29,  2.78s/it]"
     ]
    },
    {
     "name": "stdout",
     "output_type": "stream",
     "text": [
      "ID: TEST_0309 Question: 전국에 설치된 산지 태양광 발전시설의 개수는 Generated answer: 1만2721곳\n"
     ]
    },
    {
     "name": "stderr",
     "output_type": "stream",
     "text": [
      " 21%|██        | 311/1507 [14:27<58:26,  2.93s/it]"
     ]
    },
    {
     "name": "stdout",
     "output_type": "stream",
     "text": [
      "ID: TEST_0310 Question: 태양광 발전시설의 보강공사 기준을 강화해야 한다고 말한 강원대 교수는 Generated answer: 문창열 강원대 건설시스템공학과 명예교수\n"
     ]
    },
    {
     "name": "stderr",
     "output_type": "stream",
     "text": [
      " 21%|██        | 312/1507 [14:30<1:00:33,  3.04s/it]"
     ]
    },
    {
     "name": "stdout",
     "output_type": "stream",
     "text": [
      "ID: TEST_0311 Question: 수서역세권 아파트의 청약 경쟁률은 Generated answer: 61대1\n"
     ]
    },
    {
     "name": "stderr",
     "output_type": "stream",
     "text": [
      " 21%|██        | 313/1507 [14:33<1:01:56,  3.11s/it]"
     ]
    },
    {
     "name": "stdout",
     "output_type": "stream",
     "text": [
      "ID: TEST_0312 Question: 국정감사가 본격적으로 시작되는 날짜는 언제인가 Generated answer: 추석 이후 7일\n"
     ]
    },
    {
     "name": "stderr",
     "output_type": "stream",
     "text": [
      " 21%|██        | 314/1507 [14:37<1:02:51,  3.16s/it]"
     ]
    },
    {
     "name": "stdout",
     "output_type": "stream",
     "text": [
      "ID: TEST_0313 Question: 법무부의 국정감사 일정은 언제인가 Generated answer: 2013년 10월\n"
     ]
    },
    {
     "name": "stderr",
     "output_type": "stream",
     "text": [
      " 21%|██        | 315/1507 [14:39<57:17,  2.88s/it]  "
     ]
    },
    {
     "name": "stdout",
     "output_type": "stream",
     "text": [
      "ID: TEST_0314 Question: 대검찰청의 국정감사 일정은 언제인가 Generated answer: 2013년 10월\n"
     ]
    },
    {
     "name": "stderr",
     "output_type": "stream",
     "text": [
      " 21%|██        | 316/1507 [14:42<59:04,  2.98s/it]"
     ]
    },
    {
     "name": "stdout",
     "output_type": "stream",
     "text": [
      "ID: TEST_0315 Question: 종합감사가 진행되는 날짜는 언제인가 Generated answer: 26일엔\n"
     ]
    },
    {
     "name": "stderr",
     "output_type": "stream",
     "text": [
      " 21%|██        | 317/1507 [14:44<55:00,  2.77s/it]"
     ]
    },
    {
     "name": "stdout",
     "output_type": "stream",
     "text": [
      "ID: TEST_0316 Question: 윤석열 검찰총장이 국정감사장에서 마지막으로 질의를 받은 해는 언제인가 Generated answer: 지난해 10월\n"
     ]
    },
    {
     "name": "stderr",
     "output_type": "stream",
     "text": [
      " 21%|██        | 318/1507 [14:48<57:58,  2.93s/it]"
     ]
    },
    {
     "name": "stdout",
     "output_type": "stream",
     "text": [
      "ID: TEST_0317 Question: 서울시가 도시전환랩을 위해 투자한 금액은 얼마인가 Generated answer: 5억원\n"
     ]
    },
    {
     "name": "stderr",
     "output_type": "stream",
     "text": [
      " 21%|██        | 319/1507 [14:49<47:09,  2.38s/it]"
     ]
    },
    {
     "name": "stdout",
     "output_type": "stream",
     "text": [
      "ID: TEST_0318 Question: 제주관광공사의 2020년도 매출액은 Generated answer: 324억3900만원\n"
     ]
    },
    {
     "name": "stderr",
     "output_type": "stream",
     "text": [
      " 21%|██        | 320/1507 [14:50<40:31,  2.05s/it]"
     ]
    },
    {
     "name": "stdout",
     "output_type": "stream",
     "text": [
      "ID: TEST_0319 Question: 제주국제컨벤션센터 내 지정면세점의 매출액은 Generated answer: 305억7800만원\n"
     ]
    },
    {
     "name": "stderr",
     "output_type": "stream",
     "text": [
      " 21%|██▏       | 321/1507 [14:51<33:51,  1.71s/it]"
     ]
    },
    {
     "name": "stdout",
     "output_type": "stream",
     "text": [
      "ID: TEST_0320 Question: 2020년 성산항면세점의 매출액은 Generated answer: 5400만원\n"
     ]
    },
    {
     "name": "stderr",
     "output_type": "stream",
     "text": [
      " 21%|██▏       | 322/1507 [14:53<33:14,  1.68s/it]"
     ]
    },
    {
     "name": "stdout",
     "output_type": "stream",
     "text": [
      "ID: TEST_0321 Question: 2019년 당기순손실은 Generated answer: 146억9800만원\n"
     ]
    },
    {
     "name": "stderr",
     "output_type": "stream",
     "text": [
      " 21%|██▏       | 323/1507 [14:54<31:36,  1.60s/it]"
     ]
    },
    {
     "name": "stdout",
     "output_type": "stream",
     "text": [
      "ID: TEST_0322 Question: 2019년 판매관리비는 Generated answer: 234억2900만원\n"
     ]
    },
    {
     "name": "stderr",
     "output_type": "stream",
     "text": [
      " 21%|██▏       | 324/1507 [14:56<36:35,  1.86s/it]"
     ]
    },
    {
     "name": "stdout",
     "output_type": "stream",
     "text": [
      "ID: TEST_0323 Question: 홍콩 중문대학으로부터 받은 연구비 금액 Generated answer: 6000만원\n"
     ]
    },
    {
     "name": "stderr",
     "output_type": "stream",
     "text": [
      " 22%|██▏       | 325/1507 [14:59<42:31,  2.16s/it]"
     ]
    },
    {
     "name": "stdout",
     "output_type": "stream",
     "text": [
      "ID: TEST_0324 Question: 지페어코리아 2020이 열린 장소는 Generated answer: 킨텍스에서 개최한 ‘ G - FAIR KOREA 2020 ( 지페어코리아 ) ’ 가 뜨거운 호응 속에 성공적으로 마무리 됐다고 밝혔다.\n"
     ]
    },
    {
     "name": "stderr",
     "output_type": "stream",
     "text": [
      " 22%|██▏       | 326/1507 [15:03<50:15,  2.55s/it]"
     ]
    },
    {
     "name": "stdout",
     "output_type": "stream",
     "text": [
      "ID: TEST_0325 Question: 경과원의 수출 지원사업이 초점을 맞춘 시대적 변화는 Generated answer: 뉴노멀 시대\n"
     ]
    },
    {
     "name": "stderr",
     "output_type": "stream",
     "text": [
      " 22%|██▏       | 327/1507 [15:05<49:37,  2.52s/it]"
     ]
    },
    {
     "name": "stdout",
     "output_type": "stream",
     "text": [
      "ID: TEST_0326 Question: 랩타임이 바이어와 상담한 주요 도시 Generated answer: 화성시 소재 백미꽃추출물 특허기술을 가진 ㈜랩타임은 중국 베이징\n"
     ]
    },
    {
     "name": "stderr",
     "output_type": "stream",
     "text": [
      " 22%|██▏       | 328/1507 [15:08<54:04,  2.75s/it]"
     ]
    },
    {
     "name": "stdout",
     "output_type": "stream",
     "text": [
      "ID: TEST_0327 Question: 성우금속이 상담한 국내 대형 유통사 Generated answer: N사 구매담당자와\n"
     ]
    },
    {
     "name": "stderr",
     "output_type": "stream",
     "text": [
      " 22%|██▏       | 329/1507 [15:12<57:11,  2.91s/it]"
     ]
    },
    {
     "name": "stdout",
     "output_type": "stream",
     "text": [
      "ID: TEST_0328 Question: 베트남 바이어 응웬꽝티업의 상담 태도를 형성한 요소 Generated answer: 지자체와 기관을 통해 직접 선발된 기업의 제품\n"
     ]
    },
    {
     "name": "stderr",
     "output_type": "stream",
     "text": [
      " 22%|██▏       | 330/1507 [15:15<56:13,  2.87s/it]"
     ]
    },
    {
     "name": "stdout",
     "output_type": "stream",
     "text": [
      "ID: TEST_0329 Question: 라임코리아가 협약을 체결한 보험사 Generated answer: 한화손해보험\n"
     ]
    },
    {
     "name": "stderr",
     "output_type": "stream",
     "text": [
      " 22%|██▏       | 331/1507 [15:17<55:23,  2.83s/it]"
     ]
    },
    {
     "name": "stdout",
     "output_type": "stream",
     "text": [
      "ID: TEST_0330 Question: 이명박 정부 땅값 상승률은? Generated answer: 9배나 된다 \" 며 \" 1990년 이후 상승액의 67 %\n"
     ]
    },
    {
     "name": "stderr",
     "output_type": "stream",
     "text": [
      " 22%|██▏       | 332/1507 [15:21<1:00:22,  3.08s/it]"
     ]
    },
    {
     "name": "stdout",
     "output_type": "stream",
     "text": [
      "ID: TEST_0331 Question: 정의당이 '포괄적 차별금지법'을 당론으로 발의한 시점 Generated answer: 6월 말\n"
     ]
    },
    {
     "name": "stderr",
     "output_type": "stream",
     "text": [
      " 22%|██▏       | 333/1507 [15:24<1:03:00,  3.22s/it]"
     ]
    },
    {
     "name": "stdout",
     "output_type": "stream",
     "text": [
      "ID: TEST_0332 Question: 포괄적 차별금지법 제정 촉구 건의안'이 부결된 전북도의회 회의 차수 Generated answer: 정의당 최영심\n"
     ]
    },
    {
     "name": "stderr",
     "output_type": "stream",
     "text": [
      " 22%|██▏       | 334/1507 [15:28<1:05:57,  3.37s/it]"
     ]
    },
    {
     "name": "stdout",
     "output_type": "stream",
     "text": [
      "ID: TEST_0333 Question: 전북도의회 의원 중 민주당 소속 의원 수 Generated answer: 36명이\n"
     ]
    },
    {
     "name": "stderr",
     "output_type": "stream",
     "text": [
      " 22%|██▏       | 335/1507 [15:32<1:05:40,  3.36s/it]"
     ]
    },
    {
     "name": "stdout",
     "output_type": "stream",
     "text": [
      "ID: TEST_0334 Question: 나인권 도의원의 소속 정당 Generated answer: 더불어민주당\n"
     ]
    },
    {
     "name": "stderr",
     "output_type": "stream",
     "text": [
      " 22%|██▏       | 336/1507 [15:35<1:05:24,  3.35s/it]"
     ]
    },
    {
     "name": "stdout",
     "output_type": "stream",
     "text": [
      "ID: TEST_0335 Question: 보수 단체가 난동을 벌인 정의당 대표의 지역 사무실 위치 Generated answer: 경기 고양시 화정동\n"
     ]
    },
    {
     "name": "stderr",
     "output_type": "stream",
     "text": [
      " 22%|██▏       | 337/1507 [15:37<58:33,  3.00s/it]  "
     ]
    },
    {
     "name": "stdout",
     "output_type": "stream",
     "text": [
      "ID: TEST_0336 Question: 호가든 오리지널 제품의 알코올 도수는 Generated answer: 4. 9도\n"
     ]
    },
    {
     "name": "stderr",
     "output_type": "stream",
     "text": [
      " 22%|██▏       | 338/1507 [15:41<1:06:33,  3.42s/it]"
     ]
    },
    {
     "name": "stdout",
     "output_type": "stream",
     "text": [
      "ID: TEST_0337 Question: 하나은행이 자본시장법상 다하지 않은 의무 Generated answer: 사모펀드는 감시 · 감독 의무\n"
     ]
    },
    {
     "name": "stderr",
     "output_type": "stream",
     "text": [
      " 22%|██▏       | 339/1507 [15:45<1:08:48,  3.53s/it]"
     ]
    },
    {
     "name": "stdout",
     "output_type": "stream",
     "text": [
      "ID: TEST_0338 Question: 옵티머스와 관련된 부동산 투자자문사 Generated answer: 아트리파라다이스\n"
     ]
    },
    {
     "name": "stderr",
     "output_type": "stream",
     "text": [
      " 23%|██▎       | 340/1507 [15:49<1:10:44,  3.64s/it]"
     ]
    },
    {
     "name": "stdout",
     "output_type": "stream",
     "text": [
      "ID: TEST_0339 Question: 옵티머스 펀드 자산의 대부분을 차지하는 것 Generated answer: 98 % 는 사업 실체가 없는 부실 사모사채\n"
     ]
    },
    {
     "name": "stderr",
     "output_type": "stream",
     "text": [
      " 23%|██▎       | 341/1507 [15:53<1:12:06,  3.71s/it]"
     ]
    },
    {
     "name": "stdout",
     "output_type": "stream",
     "text": [
      "ID: TEST_0340 Question: 자산 운용사의 운용상 위법·부당 행위를 감시할 의무가 있는 기관 Generated answer: 하나은행은\n"
     ]
    },
    {
     "name": "stderr",
     "output_type": "stream",
     "text": [
      " 23%|██▎       | 342/1507 [15:57<1:11:47,  3.70s/it]"
     ]
    },
    {
     "name": "stdout",
     "output_type": "stream",
     "text": [
      "ID: TEST_0341 Question: 유의동 의원이 수행하는 역할 Generated answer: 수탁사로서'선량한 관리자의 주의 ( 선관주의 ) 의무'도 다하지 않은 것으로 나타났다.\n"
     ]
    },
    {
     "name": "stderr",
     "output_type": "stream",
     "text": [
      " 23%|██▎       | 343/1507 [15:59<1:03:51,  3.29s/it]"
     ]
    },
    {
     "name": "stdout",
     "output_type": "stream",
     "text": [
      "ID: TEST_0342 Question: 최종판결이 내려질 예정일은 Generated answer: 12월10일\n"
     ]
    },
    {
     "name": "stderr",
     "output_type": "stream",
     "text": [
      " 23%|██▎       | 344/1507 [16:02<1:03:48,  3.29s/it]"
     ]
    },
    {
     "name": "stdout",
     "output_type": "stream",
     "text": [
      "ID: TEST_0343 Question: LG화학이 배터리 합작공장을 짓고 있는 주는 Generated answer: 오하이오주\n"
     ]
    },
    {
     "name": "stderr",
     "output_type": "stream",
     "text": [
      " 23%|██▎       | 345/1507 [16:06<1:03:41,  3.29s/it]"
     ]
    },
    {
     "name": "stdout",
     "output_type": "stream",
     "text": [
      "ID: TEST_0344 Question: 최종 판결이 다시 조정되면서 연기된 총 일수는 Generated answer: 67일 미뤄졌다.\n"
     ]
    },
    {
     "name": "stderr",
     "output_type": "stream",
     "text": [
      " 23%|██▎       | 346/1507 [16:09<1:03:40,  3.29s/it]"
     ]
    },
    {
     "name": "stdout",
     "output_type": "stream",
     "text": [
      "ID: TEST_0345 Question: 포드가 LG배터리와 함께 공급받기로 된 SK배터리 첫 해는 Generated answer: 2023년부터\n"
     ]
    },
    {
     "name": "stderr",
     "output_type": "stream",
     "text": [
      " 23%|██▎       | 347/1507 [16:12<1:03:31,  3.29s/it]"
     ]
    },
    {
     "name": "stdout",
     "output_type": "stream",
     "text": [
      "ID: TEST_0346 Question: 미국 대선이 변수일 가능성이 있는 날짜는 Generated answer: 11월3일\n"
     ]
    },
    {
     "name": "stderr",
     "output_type": "stream",
     "text": [
      " 23%|██▎       | 348/1507 [16:15<1:03:29,  3.29s/it]"
     ]
    },
    {
     "name": "stdout",
     "output_type": "stream",
     "text": [
      "ID: TEST_0347 Question: 김승범 중위의 소속 부대는 어디야 Generated answer: 공군29전술개발훈련비행전대 ( 29전대 )\n"
     ]
    },
    {
     "name": "stderr",
     "output_type": "stream",
     "text": [
      " 23%|██▎       | 349/1507 [16:19<1:02:31,  3.24s/it]"
     ]
    },
    {
     "name": "stdout",
     "output_type": "stream",
     "text": [
      "ID: TEST_0348 Question: 고진형 경장이 표창을 받은 날짜는 언제야 Generated answer: 2009년 12월\n"
     ]
    },
    {
     "name": "stderr",
     "output_type": "stream",
     "text": [
      " 23%|██▎       | 350/1507 [16:21<57:23,  2.98s/it]  "
     ]
    },
    {
     "name": "stdout",
     "output_type": "stream",
     "text": [
      "ID: TEST_0349 Question: 고진형 경장이 구조한 아동의 나이는 몇 살이야 Generated answer: 8세 아동을 구한 의정부경찰서 고진형 ( 29\n"
     ]
    },
    {
     "name": "stderr",
     "output_type": "stream",
     "text": [
      " 23%|██▎       | 351/1507 [16:24<59:08,  3.07s/it]"
     ]
    },
    {
     "name": "stdout",
     "output_type": "stream",
     "text": [
      "ID: TEST_0350 Question: 고진형 경장의 선친은 몇 년 전에 순직했어 Generated answer: 11년 전\n"
     ]
    },
    {
     "name": "stderr",
     "output_type": "stream",
     "text": [
      " 23%|██▎       | 352/1507 [16:28<1:00:18,  3.13s/it]"
     ]
    },
    {
     "name": "stdout",
     "output_type": "stream",
     "text": [
      "ID: TEST_0351 Question: 박건식 순경이 구조한 주민 수는 몇 명이야 Generated answer: 12명을\n"
     ]
    },
    {
     "name": "stderr",
     "output_type": "stream",
     "text": [
      " 23%|██▎       | 353/1507 [16:30<54:54,  2.86s/it]  "
     ]
    },
    {
     "name": "stdout",
     "output_type": "stream",
     "text": [
      "ID: TEST_0352 Question: 지난달 전체 시가총액은 얼마나 증가했어 Generated answer: 59조원\n"
     ]
    },
    {
     "name": "stderr",
     "output_type": "stream",
     "text": [
      " 23%|██▎       | 354/1507 [16:32<51:03,  2.66s/it]"
     ]
    },
    {
     "name": "stdout",
     "output_type": "stream",
     "text": [
      "ID: TEST_0353 Question: 한국전력의 시가총액 감소분은 Generated answer: 2조5000억원\n"
     ]
    },
    {
     "name": "stderr",
     "output_type": "stream",
     "text": [
      " 24%|██▎       | 355/1507 [16:35<51:14,  2.67s/it]"
     ]
    },
    {
     "name": "stdout",
     "output_type": "stream",
     "text": [
      "ID: TEST_0354 Question: 광주·전남지역 투자자의 거래량 비중은 Generated answer: 2. 28 %\n"
     ]
    },
    {
     "name": "stderr",
     "output_type": "stream",
     "text": [
      " 24%|██▎       | 356/1507 [16:37<49:40,  2.59s/it]"
     ]
    },
    {
     "name": "stdout",
     "output_type": "stream",
     "text": [
      "ID: TEST_0355 Question: 대유에이텍의 시가총액 증가분은 Generated answer: 229억원\n"
     ]
    },
    {
     "name": "stderr",
     "output_type": "stream",
     "text": [
      " 24%|██▎       | 357/1507 [16:39<43:18,  2.26s/it]"
     ]
    },
    {
     "name": "stdout",
     "output_type": "stream",
     "text": [
      "ID: TEST_0356 Question: 코스닥에서 시가총액이 가장 많이 증가한 기업은 Generated answer: 셀트리온헬스케어, 박셀바이오, 셀트리온제약, 씨아이에스\n"
     ]
    },
    {
     "name": "stderr",
     "output_type": "stream",
     "text": [
      " 24%|██▍       | 358/1507 [16:43<54:52,  2.87s/it]"
     ]
    },
    {
     "name": "stdout",
     "output_type": "stream",
     "text": [
      "ID: TEST_0357 Question: 화웨이의 3분기 출하량 하락률은 Generated answer: 1. 2 %\n"
     ]
    },
    {
     "name": "stderr",
     "output_type": "stream",
     "text": [
      " 24%|██▍       | 359/1507 [16:46<57:54,  3.03s/it]"
     ]
    },
    {
     "name": "stdout",
     "output_type": "stream",
     "text": [
      "ID: TEST_0358 Question: 카운터포인트리서치가 집계한 삼성전자의 스마트폰 출하량은 Generated answer: 7980만대로\n"
     ]
    },
    {
     "name": "stderr",
     "output_type": "stream",
     "text": [
      " 24%|██▍       | 360/1507 [16:50<1:01:52,  3.24s/it]"
     ]
    },
    {
     "name": "stdout",
     "output_type": "stream",
     "text": [
      "ID: TEST_0359 Question: 삼성전자가 인도 시장에서 1위를 차지한 스마트폰 브랜드는 Generated answer: 화웨이다.\n"
     ]
    },
    {
     "name": "stderr",
     "output_type": "stream",
     "text": [
      " 24%|██▍       | 361/1507 [16:54<1:05:59,  3.45s/it]"
     ]
    },
    {
     "name": "stdout",
     "output_type": "stream",
     "text": [
      "ID: TEST_0360 Question: 삼성전자의 3분기 중국 스마트폰 시장 점유율은 Generated answer: 1. 2 %\n"
     ]
    },
    {
     "name": "stderr",
     "output_type": "stream",
     "text": [
      " 24%|██▍       | 362/1507 [16:58<1:11:16,  3.74s/it]"
     ]
    },
    {
     "name": "stdout",
     "output_type": "stream",
     "text": [
      "ID: TEST_0361 Question: 내년 5G 스마트폰 시장 출하량 예상치는 Generated answer: 6억3500만대로\n"
     ]
    },
    {
     "name": "stderr",
     "output_type": "stream",
     "text": [
      " 24%|██▍       | 363/1507 [17:01<1:07:48,  3.56s/it]"
     ]
    },
    {
     "name": "stdout",
     "output_type": "stream",
     "text": [
      "ID: TEST_0362 Question: 현대차 소형 상용차 판매량은 Generated answer: 5883대\n"
     ]
    },
    {
     "name": "stderr",
     "output_type": "stream",
     "text": [
      " 24%|██▍       | 364/1507 [17:04<1:00:53,  3.20s/it]"
     ]
    },
    {
     "name": "stdout",
     "output_type": "stream",
     "text": [
      "ID: TEST_0363 Question: 청원이 시작된 날은 Generated answer: 8월 17일\n"
     ]
    },
    {
     "name": "stderr",
     "output_type": "stream",
     "text": [
      " 24%|██▍       | 365/1507 [17:07<1:01:15,  3.22s/it]"
     ]
    },
    {
     "name": "stdout",
     "output_type": "stream",
     "text": [
      "ID: TEST_0364 Question: 청원이 받은 동의 수는 Generated answer: 40만131명\n"
     ]
    },
    {
     "name": "stderr",
     "output_type": "stream",
     "text": [
      " 24%|██▍       | 366/1507 [17:10<1:01:37,  3.24s/it]"
     ]
    },
    {
     "name": "stdout",
     "output_type": "stream",
     "text": [
      "ID: TEST_0365 Question: 입원치료비용 지원 근거 법령은 Generated answer: 감염병예방법\n"
     ]
    },
    {
     "name": "stderr",
     "output_type": "stream",
     "text": [
      " 24%|██▍       | 367/1507 [17:14<1:06:36,  3.51s/it]"
     ]
    },
    {
     "name": "stdout",
     "output_type": "stream",
     "text": [
      "ID: TEST_0366 Question: 3T 방역 전략 중 '조기 격리 및 치료'는 영어로 Generated answer: Treatment\n"
     ]
    },
    {
     "name": "stderr",
     "output_type": "stream",
     "text": [
      " 24%|██▍       | 368/1507 [17:17<1:00:38,  3.19s/it]"
     ]
    },
    {
     "name": "stdout",
     "output_type": "stream",
     "text": [
      "ID: TEST_0367 Question: 손해배상청구를 제기한 지자체 수는 Generated answer: 5개 지자체\n"
     ]
    },
    {
     "name": "stderr",
     "output_type": "stream",
     "text": [
      " 24%|██▍       | 369/1507 [17:20<1:02:16,  3.28s/it]"
     ]
    },
    {
     "name": "stdout",
     "output_type": "stream",
     "text": [
      "ID: TEST_0368 Question: 9일 오전 9시 기준으로 산사태 예보가 발령된 전국 시·군·구 수는 Generated answer: 전국 81개\n"
     ]
    },
    {
     "name": "stderr",
     "output_type": "stream",
     "text": [
      " 25%|██▍       | 370/1507 [17:24<1:01:10,  3.23s/it]"
     ]
    },
    {
     "name": "stdout",
     "output_type": "stream",
     "text": [
      "ID: TEST_0369 Question: 9일 기준으로 전국에서 산사태 경보가 발령된 시·군·구는 Generated answer: 전국 81개\n"
     ]
    },
    {
     "name": "stderr",
     "output_type": "stream",
     "text": [
      " 25%|██▍       | 371/1507 [17:26<55:11,  2.92s/it]  "
     ]
    },
    {
     "name": "stdout",
     "output_type": "stream",
     "text": [
      "ID: TEST_0370 Question: 8일 하루에 전국에서 발생한 산사태 건수는 Generated answer: 55건의\n"
     ]
    },
    {
     "name": "stderr",
     "output_type": "stream",
     "text": [
      " 25%|██▍       | 372/1507 [17:28<51:03,  2.70s/it]"
     ]
    },
    {
     "name": "stdout",
     "output_type": "stream",
     "text": [
      "ID: TEST_0371 Question: 충북에서 8월 들어 발생한 산사태 건수는 Generated answer: 667건\n"
     ]
    },
    {
     "name": "stderr",
     "output_type": "stream",
     "text": [
      " 25%|██▍       | 373/1507 [17:30<48:09,  2.55s/it]"
     ]
    },
    {
     "name": "stdout",
     "output_type": "stream",
     "text": [
      "ID: TEST_0372 Question: 태양광발전 시설로 피해를 본 시·군·구 수는 Generated answer: 전국 81개\n"
     ]
    },
    {
     "name": "stderr",
     "output_type": "stream",
     "text": [
      " 25%|██▍       | 374/1507 [17:33<52:17,  2.77s/it]"
     ]
    },
    {
     "name": "stdout",
     "output_type": "stream",
     "text": [
      "ID: TEST_0373 Question: 부동산 조세저항 촛불집회가 열린 구는 어디 Generated answer: 서울시 중구 을지로\n"
     ]
    },
    {
     "name": "stderr",
     "output_type": "stream",
     "text": [
      " 25%|██▍       | 375/1507 [17:38<1:01:21,  3.25s/it]"
     ]
    },
    {
     "name": "stdout",
     "output_type": "stream",
     "text": [
      "ID: TEST_0374 Question: 코스피 시장에서 개인 순매수 규모 Generated answer: 46조원\n"
     ]
    },
    {
     "name": "stderr",
     "output_type": "stream",
     "text": [
      " 25%|██▍       | 376/1507 [17:41<1:01:37,  3.27s/it]"
     ]
    },
    {
     "name": "stdout",
     "output_type": "stream",
     "text": [
      "ID: TEST_0375 Question: 김대환 전 장관이 노동부 장관을 지낸 시기는 Generated answer: 2004 ~ 2006년\n"
     ]
    },
    {
     "name": "stderr",
     "output_type": "stream",
     "text": [
      " 25%|██▌       | 377/1507 [17:44<1:01:36,  3.27s/it]"
     ]
    },
    {
     "name": "stdout",
     "output_type": "stream",
     "text": [
      "ID: TEST_0376 Question: 대주주의 최대 의결권 제한 비율은 Generated answer: 3 % 제한\n"
     ]
    },
    {
     "name": "stderr",
     "output_type": "stream",
     "text": [
      " 25%|██▌       | 378/1507 [17:49<1:07:52,  3.61s/it]"
     ]
    },
    {
     "name": "stdout",
     "output_type": "stream",
     "text": [
      "ID: TEST_0377 Question: 노조법 개정안의 주요 내용 중 하나는 Generated answer: 해고자 · 실업자 노조가입허용 ’ 과 ‘ 노조 전임자 급여지급 허용\n"
     ]
    },
    {
     "name": "stderr",
     "output_type": "stream",
     "text": [
      " 25%|██▌       | 379/1507 [17:53<1:12:07,  3.84s/it]"
     ]
    },
    {
     "name": "stdout",
     "output_type": "stream",
     "text": [
      "ID: TEST_0378 Question: 노동시장의 이중구조에 포함되는 대기업 정규직과 공무원이 속한 시장은 Generated answer: 2차 시장\n"
     ]
    },
    {
     "name": "stderr",
     "output_type": "stream",
     "text": [
      " 25%|██▌       | 380/1507 [17:57<1:10:52,  3.77s/it]"
     ]
    },
    {
     "name": "stdout",
     "output_type": "stream",
     "text": [
      "ID: TEST_0379 Question: 김 전 장관이 노동개혁을 위해 대통령의 무엇을 강조했는가 Generated answer: 노동시장 이중구조 혁파\n"
     ]
    },
    {
     "name": "stderr",
     "output_type": "stream",
     "text": [
      " 25%|██▌       | 381/1507 [18:01<1:16:02,  4.05s/it]"
     ]
    },
    {
     "name": "stdout",
     "output_type": "stream",
     "text": [
      "ID: TEST_0380 Question: 씨젠이 3분기에 기록한 영업이익은 얼마야 Generated answer: 4186억원\n"
     ]
    },
    {
     "name": "stderr",
     "output_type": "stream",
     "text": [
      " 25%|██▌       | 382/1507 [18:05<1:14:11,  3.96s/it]"
     ]
    },
    {
     "name": "stdout",
     "output_type": "stream",
     "text": [
      "ID: TEST_0381 Question: 씨젠의 4분기 실적이 나아질 것으로 예상되는 이유는 무엇이야 Generated answer: 각종 호흡기 질환을 한 번에 진단할 수 있는 동시 진단 제품\n"
     ]
    },
    {
     "name": "stderr",
     "output_type": "stream",
     "text": [
      " 25%|██▌       | 383/1507 [18:09<1:13:47,  3.94s/it]"
     ]
    },
    {
     "name": "stdout",
     "output_type": "stream",
     "text": [
      "ID: TEST_0382 Question: 코로나19 백신 개발 소식에 씨젠 주가는 며칠 동안 하락했어 Generated answer: 3 ~ 5 %\n"
     ]
    },
    {
     "name": "stderr",
     "output_type": "stream",
     "text": [
      " 25%|██▌       | 384/1507 [18:12<1:09:23,  3.71s/it]"
     ]
    },
    {
     "name": "stdout",
     "output_type": "stream",
     "text": [
      "ID: TEST_0383 Question: 씨젠이 재판매하는 외국산 PCR 장비 명칭은 무엇이야 Generated answer: CFX96\n"
     ]
    },
    {
     "name": "stderr",
     "output_type": "stream",
     "text": [
      " 26%|██▌       | 385/1507 [18:16<1:11:28,  3.82s/it]"
     ]
    },
    {
     "name": "stdout",
     "output_type": "stream",
     "text": [
      "ID: TEST_0384 Question: 씨젠이 예상하는 연간 영업이익률은 몇 퍼센트야 Generated answer: 60 % 대\n"
     ]
    },
    {
     "name": "stderr",
     "output_type": "stream",
     "text": [
      " 26%|██▌       | 386/1507 [18:19<1:07:27,  3.61s/it]"
     ]
    },
    {
     "name": "stdout",
     "output_type": "stream",
     "text": [
      "ID: TEST_0385 Question: 목포지역에서 일하는 외국인 선원의 수는 Generated answer: 3000여명\n"
     ]
    },
    {
     "name": "stderr",
     "output_type": "stream",
     "text": [
      " 26%|██▌       | 387/1507 [18:22<1:02:47,  3.36s/it]"
     ]
    },
    {
     "name": "stdout",
     "output_type": "stream",
     "text": [
      "ID: TEST_0386 Question: E10 비자를 발급하는 기관은 Generated answer: 해양수산부에서 발급하는 E10 비자를 받아야 한다. 주로 9. 77t급인 안강망 어선은 고용노동부\n"
     ]
    },
    {
     "name": "stderr",
     "output_type": "stream",
     "text": [
      " 26%|██▌       | 388/1507 [18:26<1:03:59,  3.43s/it]"
     ]
    },
    {
     "name": "stdout",
     "output_type": "stream",
     "text": [
      "ID: TEST_0387 Question: 9.77t급 어선에서 일할 수 있는 비자는 Generated answer: E9 비자\n"
     ]
    },
    {
     "name": "stderr",
     "output_type": "stream",
     "text": [
      " 26%|██▌       | 389/1507 [18:28<58:20,  3.13s/it]  "
     ]
    },
    {
     "name": "stdout",
     "output_type": "stream",
     "text": [
      "ID: TEST_0388 Question: 불법 체류자 조사를 하는 기관은 Generated answer: 해경 조사 결과 이들은 불법 체류자가 아닌 자신들이 받은 비자의 범위를 넘어선 선박에 취업하는 외국인\n"
     ]
    },
    {
     "name": "stderr",
     "output_type": "stream",
     "text": [
      " 26%|██▌       | 390/1507 [18:31<56:40,  3.04s/it]"
     ]
    },
    {
     "name": "stdout",
     "output_type": "stream",
     "text": [
      "ID: TEST_0389 Question: 주요 국적 외국인은 Generated answer: 베트남 국적 선원들을 상대로 한 브로커가 기승을 부리는 것으로 보고 있다. 국제결혼이나 고용허가제 등을 통해 오래전부터 한국에 정착한 베트남\n"
     ]
    },
    {
     "name": "stderr",
     "output_type": "stream",
     "text": [
      " 26%|██▌       | 391/1507 [18:34<54:23,  2.92s/it]"
     ]
    },
    {
     "name": "stdout",
     "output_type": "stream",
     "text": [
      "ID: TEST_0390 Question: 추미애 법무부 장관이 검찰 개혁 명분쌓기에 나선 것으로 분석된 날짜 Generated answer: 22일 대검찰청 국정감사\n"
     ]
    },
    {
     "name": "stderr",
     "output_type": "stream",
     "text": [
      " 26%|██▌       | 392/1507 [18:37<56:16,  3.03s/it]"
     ]
    },
    {
     "name": "stdout",
     "output_type": "stream",
     "text": [
      "ID: TEST_0391 Question: 김봉현 전 회장이 구속된 날짜 Generated answer: 4월 23일\n"
     ]
    },
    {
     "name": "stderr",
     "output_type": "stream",
     "text": [
      " 26%|██▌       | 393/1507 [18:40<54:10,  2.92s/it]"
     ]
    },
    {
     "name": "stdout",
     "output_type": "stream",
     "text": [
      "ID: TEST_0392 Question: 검찰 인권수사제도 개선 TF가 발표한 날짜 Generated answer: 9월 21일\n"
     ]
    },
    {
     "name": "stderr",
     "output_type": "stream",
     "text": [
      " 26%|██▌       | 394/1507 [18:42<53:37,  2.89s/it]"
     ]
    },
    {
     "name": "stdout",
     "output_type": "stream",
     "text": [
      "ID: TEST_0393 Question: 정희도 부장검사의 나이 Generated answer: 54 · 사법연수원 31기\n"
     ]
    },
    {
     "name": "stderr",
     "output_type": "stream",
     "text": [
      " 26%|██▌       | 395/1507 [18:46<55:44,  3.01s/it]"
     ]
    },
    {
     "name": "stdout",
     "output_type": "stream",
     "text": [
      "ID: TEST_0394 Question: 정희도 부장검사의 사법연수원 기수 Generated answer: 31기 )\n"
     ]
    },
    {
     "name": "stderr",
     "output_type": "stream",
     "text": [
      " 26%|██▋       | 396/1507 [18:49<55:13,  2.98s/it]"
     ]
    },
    {
     "name": "stdout",
     "output_type": "stream",
     "text": [
      "ID: TEST_0395 Question: 권오봉 여수시장이 시민에게 지급하기로 한 재난지원금은 얼마인가 Generated answer: 25만 원\n"
     ]
    },
    {
     "name": "stderr",
     "output_type": "stream",
     "text": [
      " 26%|██▋       | 397/1507 [18:51<52:53,  2.86s/it]"
     ]
    },
    {
     "name": "stdout",
     "output_type": "stream",
     "text": [
      "ID: TEST_0396 Question: 재난지원금 지급 대상이 되는 날짜는 언제인가 Generated answer: 2021년 1월 18일\n"
     ]
    },
    {
     "name": "stderr",
     "output_type": "stream",
     "text": [
      " 26%|██▋       | 398/1507 [18:55<55:10,  2.99s/it]"
     ]
    },
    {
     "name": "stdout",
     "output_type": "stream",
     "text": [
      "ID: TEST_0397 Question: 재난지원금 지급 총 규모는 얼마인가 Generated answer: 1인당 25만 원\n"
     ]
    },
    {
     "name": "stderr",
     "output_type": "stream",
     "text": [
      " 26%|██▋       | 399/1507 [18:57<54:56,  2.98s/it]"
     ]
    },
    {
     "name": "stdout",
     "output_type": "stream",
     "text": [
      "ID: TEST_0398 Question: 재난지원금 지급 방식은 무엇인가 Generated answer: 선불카드 방식\n"
     ]
    },
    {
     "name": "stderr",
     "output_type": "stream",
     "text": [
      " 27%|██▋       | 400/1507 [19:00<52:33,  2.85s/it]"
     ]
    },
    {
     "name": "stdout",
     "output_type": "stream",
     "text": [
      "ID: TEST_0399 Question: 65세 이상 어르신에게 지급되는 방식은 무엇인가 Generated answer: 현금으로 지급\n"
     ]
    },
    {
     "name": "stderr",
     "output_type": "stream",
     "text": [
      " 27%|██▋       | 401/1507 [19:03<54:54,  2.98s/it]"
     ]
    },
    {
     "name": "stdout",
     "output_type": "stream",
     "text": [
      "ID: TEST_0400 Question: 9일 0시 기준 코로나 환자 수는 Generated answer: 54명으로\n"
     ]
    },
    {
     "name": "stderr",
     "output_type": "stream",
     "text": [
      " 27%|██▋       | 402/1507 [19:07<56:33,  3.07s/it]"
     ]
    },
    {
     "name": "stdout",
     "output_type": "stream",
     "text": [
      "ID: TEST_0401 Question: 감염재생산지수가 목표로 하는 수치는 Generated answer: 1 이하 유지\n"
     ]
    },
    {
     "name": "stderr",
     "output_type": "stream",
     "text": [
      " 27%|██▋       | 403/1507 [19:10<57:46,  3.14s/it]"
     ]
    },
    {
     "name": "stdout",
     "output_type": "stream",
     "text": [
      "ID: TEST_0402 Question: 집합금지가 통보된 단체의 수는 Generated answer: 139건에\n"
     ]
    },
    {
     "name": "stderr",
     "output_type": "stream",
     "text": [
      " 27%|██▋       | 404/1507 [19:13<58:25,  3.18s/it]"
     ]
    },
    {
     "name": "stdout",
     "output_type": "stream",
     "text": [
      "ID: TEST_0403 Question: 거리두기 개편안 발표 예정 시기는 Generated answer: 내달 초까지\n"
     ]
    },
    {
     "name": "stderr",
     "output_type": "stream",
     "text": [
      " 27%|██▋       | 405/1507 [19:16<57:01,  3.10s/it]"
     ]
    },
    {
     "name": "stdout",
     "output_type": "stream",
     "text": [
      "ID: TEST_0404 Question: 추석 연휴특별방역기간 종료일은 Generated answer: 오는 11일\n"
     ]
    },
    {
     "name": "stderr",
     "output_type": "stream",
     "text": [
      " 27%|██▋       | 406/1507 [19:19<54:00,  2.94s/it]"
     ]
    },
    {
     "name": "stdout",
     "output_type": "stream",
     "text": [
      "ID: TEST_0405 Question: 유튜브 프리미엄 과징금 액수는 Generated answer: 8억6700만원\n"
     ]
    },
    {
     "name": "stderr",
     "output_type": "stream",
     "text": [
      " 27%|██▋       | 407/1507 [19:22<55:51,  3.05s/it]"
     ]
    },
    {
     "name": "stdout",
     "output_type": "stream",
     "text": [
      "ID: TEST_0406 Question: 추 장관이 윤 총장을 비난하며 인용한 사자성어 Generated answer: 금시작비\n"
     ]
    },
    {
     "name": "stderr",
     "output_type": "stream",
     "text": [
      " 27%|██▋       | 408/1507 [19:25<57:08,  3.12s/it]"
     ]
    },
    {
     "name": "stdout",
     "output_type": "stream",
     "text": [
      "ID: TEST_0407 Question: 윤 총장이 사회적 강자에 대한 엄벌을 강조한 장소 Generated answer: 충북 진천 법무연수원\n"
     ]
    },
    {
     "name": "stderr",
     "output_type": "stream",
     "text": [
      " 27%|██▋       | 409/1507 [19:27<52:10,  2.85s/it]"
     ]
    },
    {
     "name": "stdout",
     "output_type": "stream",
     "text": [
      "ID: TEST_0408 Question: 윤 총장을 향한 추 장관의 비판이 주로 이루어진 회의 Generated answer: 국회 예산결산특별위원회\n"
     ]
    },
    {
     "name": "stderr",
     "output_type": "stream",
     "text": [
      " 27%|██▋       | 410/1507 [19:31<54:25,  2.98s/it]"
     ]
    },
    {
     "name": "stdout",
     "output_type": "stream",
     "text": [
      "ID: TEST_0409 Question: 추 장관이 참석한 국회 예산결산특별위원회 날짜 Generated answer: 4일 국회\n"
     ]
    },
    {
     "name": "stderr",
     "output_type": "stream",
     "text": [
      " 27%|██▋       | 411/1507 [19:34<53:05,  2.91s/it]"
     ]
    },
    {
     "name": "stdout",
     "output_type": "stream",
     "text": [
      "ID: TEST_0410 Question: 윤 총장의 발언이 주목받은 사건 중 하나 Generated answer: 라임자산운용 사건\n"
     ]
    },
    {
     "name": "stderr",
     "output_type": "stream",
     "text": [
      " 27%|██▋       | 412/1507 [19:37<57:52,  3.17s/it]"
     ]
    },
    {
     "name": "stdout",
     "output_type": "stream",
     "text": [
      "ID: TEST_0411 Question: 윤희숙 의원이 전태일 열사를 언급한 날짜 Generated answer: 50주기\n"
     ]
    },
    {
     "name": "stderr",
     "output_type": "stream",
     "text": [
      " 27%|██▋       | 413/1507 [19:41<58:46,  3.22s/it]"
     ]
    },
    {
     "name": "stdout",
     "output_type": "stream",
     "text": [
      "ID: TEST_0412 Question: 전태일 열사 50주기를 맞은 날 Generated answer: 전태일 정신\n"
     ]
    },
    {
     "name": "stderr",
     "output_type": "stream",
     "text": [
      " 27%|██▋       | 414/1507 [19:44<1:00:26,  3.32s/it]"
     ]
    },
    {
     "name": "stdout",
     "output_type": "stream",
     "text": [
      "ID: TEST_0413 Question: 조혜민 정의당 대변인의 직책 Generated answer: 황당무계한 주장이며, 무지몽매함의 극치 ” 라며 “ 전태일 열사가 지옥처럼 벗어나고자 했던 그 세상을 원하고 있다 ” 고 비판했다.\n"
     ]
    },
    {
     "name": "stderr",
     "output_type": "stream",
     "text": [
      " 28%|██▊       | 415/1507 [19:47<58:36,  3.22s/it]  "
     ]
    },
    {
     "name": "stdout",
     "output_type": "stream",
     "text": [
      "ID: TEST_0414 Question: 장제원 의원의 소속 정당 Generated answer: 국민의힘\n"
     ]
    },
    {
     "name": "stderr",
     "output_type": "stream",
     "text": [
      " 28%|██▊       | 416/1507 [19:49<53:17,  2.93s/it]"
     ]
    },
    {
     "name": "stdout",
     "output_type": "stream",
     "text": [
      "ID: TEST_0415 Question: 이병태 교수의 소속 대학 Generated answer: 카이스트 교수\n"
     ]
    },
    {
     "name": "stderr",
     "output_type": "stream",
     "text": [
      " 28%|██▊       | 417/1507 [19:54<1:01:13,  3.37s/it]"
     ]
    },
    {
     "name": "stdout",
     "output_type": "stream",
     "text": [
      "ID: TEST_0416 Question: 이마트가 준비한 위생 선물세트 종류는 몇 종인가 Generated answer: 6종을\n"
     ]
    },
    {
     "name": "stderr",
     "output_type": "stream",
     "text": [
      " 28%|██▊       | 418/1507 [19:59<1:08:28,  3.77s/it]"
     ]
    },
    {
     "name": "stdout",
     "output_type": "stream",
     "text": [
      "ID: TEST_0417 Question: 이마트의 지난 2~7월 마스크 매출 증가율은 Generated answer: 21. 9 %\n"
     ]
    },
    {
     "name": "stderr",
     "output_type": "stream",
     "text": [
      " 28%|██▊       | 419/1507 [20:03<1:09:58,  3.86s/it]"
     ]
    },
    {
     "name": "stdout",
     "output_type": "stream",
     "text": [
      "ID: TEST_0418 Question: 이마트가 준비한 건강식품 세트 종류는 몇 종인가 Generated answer: 130종이나\n"
     ]
    },
    {
     "name": "stderr",
     "output_type": "stream",
     "text": [
      " 28%|██▊       | 420/1507 [20:07<1:12:46,  4.02s/it]"
     ]
    },
    {
     "name": "stdout",
     "output_type": "stream",
     "text": [
      "ID: TEST_0419 Question: 7월에 건강식품을 가장 많이 구매한 연령층은 Generated answer: 40대가 28. 5 %\n"
     ]
    },
    {
     "name": "stderr",
     "output_type": "stream",
     "text": [
      " 28%|██▊       | 421/1507 [20:11<1:14:41,  4.13s/it]"
     ]
    },
    {
     "name": "stdout",
     "output_type": "stream",
     "text": [
      "ID: TEST_0420 Question: 이마트의 추석 선물 사전 예약 판매 기간은 며칠인가 Generated answer: 37일간\n"
     ]
    },
    {
     "name": "stderr",
     "output_type": "stream",
     "text": [
      " 28%|██▊       | 422/1507 [20:15<1:10:55,  3.92s/it]"
     ]
    },
    {
     "name": "stdout",
     "output_type": "stream",
     "text": [
      "ID: TEST_0421 Question: 공매도 유동성에 대한 의견을 언급한 연구위원은 누구? Generated answer: 황세운\n"
     ]
    },
    {
     "name": "stderr",
     "output_type": "stream",
     "text": [
      " 28%|██▊       | 423/1507 [20:18<1:06:41,  3.69s/it]"
     ]
    },
    {
     "name": "stdout",
     "output_type": "stream",
     "text": [
      "ID: TEST_0422 Question: 1차 긴급 고용안정지원금 신청자를 기준으로 특고·프리랜서의 월 소득 감소율 Generated answer: 69. 1 %\n"
     ]
    },
    {
     "name": "stderr",
     "output_type": "stream",
     "text": [
      " 28%|██▊       | 424/1507 [20:21<1:03:48,  3.53s/it]"
     ]
    },
    {
     "name": "stdout",
     "output_type": "stream",
     "text": [
      "ID: TEST_0423 Question: 긴급 고용안정지원금 최대 지원 기간 Generated answer: 석 달 간 ( 150만원\n"
     ]
    },
    {
     "name": "stderr",
     "output_type": "stream",
     "text": [
      " 28%|██▊       | 425/1507 [20:23<57:09,  3.17s/it]  "
     ]
    },
    {
     "name": "stdout",
     "output_type": "stream",
     "text": [
      "ID: TEST_0424 Question: 1차 긴급 고용안정지원금 신청자 중 영세 자영업자의 비율 Generated answer: 62. 5 %\n"
     ]
    },
    {
     "name": "stderr",
     "output_type": "stream",
     "text": [
      " 28%|██▊       | 426/1507 [20:26<52:57,  2.94s/it]"
     ]
    },
    {
     "name": "stdout",
     "output_type": "stream",
     "text": [
      "ID: TEST_0425 Question: 소득 하위 10% 계층의 소득 감소율 Generated answer: 75. 6 %\n"
     ]
    },
    {
     "name": "stderr",
     "output_type": "stream",
     "text": [
      " 28%|██▊       | 427/1507 [20:29<53:55,  3.00s/it]"
     ]
    },
    {
     "name": "stdout",
     "output_type": "stream",
     "text": [
      "ID: TEST_0426 Question: 지원금 수급자의 소득 하위 40% 비율 Generated answer: 83 % 는 소득 하위 40 %\n"
     ]
    },
    {
     "name": "stderr",
     "output_type": "stream",
     "text": [
      " 28%|██▊       | 428/1507 [20:32<55:26,  3.08s/it]"
     ]
    },
    {
     "name": "stdout",
     "output_type": "stream",
     "text": [
      "ID: TEST_0427 Question: 플랫폼 가맹사업의 계약 형태는 Generated answer: 차량 단위 가맹계약\n"
     ]
    },
    {
     "name": "stderr",
     "output_type": "stream",
     "text": [
      " 28%|██▊       | 429/1507 [20:36<56:33,  3.15s/it]"
     ]
    },
    {
     "name": "stdout",
     "output_type": "stream",
     "text": [
      "ID: TEST_0428 Question: 헝다그룹의 자회사는 Generated answer: 부동산 관리업체\n"
     ]
    },
    {
     "name": "stderr",
     "output_type": "stream",
     "text": [
      " 29%|██▊       | 430/1507 [20:39<57:15,  3.19s/it]"
     ]
    },
    {
     "name": "stdout",
     "output_type": "stream",
     "text": [
      "ID: TEST_0429 Question: 헝다그룹의 공모가 목표치는 Generated answer: 주당 8. 50 ~ 9. 75홍콩달러\n"
     ]
    },
    {
     "name": "stderr",
     "output_type": "stream",
     "text": [
      " 29%|██▊       | 431/1507 [20:42<57:47,  3.22s/it]"
     ]
    },
    {
     "name": "stdout",
     "output_type": "stream",
     "text": [
      "ID: TEST_0430 Question: 헝다가 확보한 펀드 종류는 Generated answer: 코너스톤 등 펀드 23곳\n"
     ]
    },
    {
     "name": "stderr",
     "output_type": "stream",
     "text": [
      " 29%|██▊       | 432/1507 [20:45<58:07,  3.24s/it]"
     ]
    },
    {
     "name": "stdout",
     "output_type": "stream",
     "text": [
      "ID: TEST_0431 Question: 중국 부도사태에 영향을 받을 수 있는 회사는 Generated answer: 헝다의 IPO와 상장 결과에 부동산 개발회사\n"
     ]
    },
    {
     "name": "stderr",
     "output_type": "stream",
     "text": [
      " 29%|██▊       | 433/1507 [20:49<58:18,  3.26s/it]"
     ]
    },
    {
     "name": "stdout",
     "output_type": "stream",
     "text": [
      "ID: TEST_0432 Question: 헝다가 최근 자회사 주식을 판 금액은 Generated answer: 46억 달러\n"
     ]
    },
    {
     "name": "stderr",
     "output_type": "stream",
     "text": [
      " 29%|██▉       | 434/1507 [20:50<46:41,  2.61s/it]"
     ]
    },
    {
     "name": "stdout",
     "output_type": "stream",
     "text": [
      "ID: TEST_0433 Question: 김순태의 매출 향상율은 몇 퍼센트 Generated answer: 25 ~ 30 %\n"
     ]
    },
    {
     "name": "stderr",
     "output_type": "stream",
     "text": [
      " 29%|██▉       | 435/1507 [20:53<50:13,  2.81s/it]"
     ]
    },
    {
     "name": "stdout",
     "output_type": "stream",
     "text": [
      "ID: TEST_0434 Question: 메콩강과 관련된 갈등이 있는 지역 Generated answer: 신장위구르자치구\n"
     ]
    },
    {
     "name": "stderr",
     "output_type": "stream",
     "text": [
      " 29%|██▉       | 436/1507 [20:57<53:27,  2.99s/it]"
     ]
    },
    {
     "name": "stdout",
     "output_type": "stream",
     "text": [
      "ID: TEST_0435 Question: 18일 코스피는 전 거래일보다 몇 포인트 하락했나 Generated answer: 59. 25포인트\n"
     ]
    },
    {
     "name": "stderr",
     "output_type": "stream",
     "text": [
      " 29%|██▉       | 437/1507 [21:00<53:35,  3.00s/it]"
     ]
    },
    {
     "name": "stdout",
     "output_type": "stream",
     "text": [
      "ID: TEST_0436 Question: 18일 코스피에서 주식을 가장 많이 팔아치운 투자자는 누구인가 Generated answer: 개인 투자자가\n"
     ]
    },
    {
     "name": "stderr",
     "output_type": "stream",
     "text": [
      " 29%|██▉       | 438/1507 [21:02<49:53,  2.80s/it]"
     ]
    },
    {
     "name": "stdout",
     "output_type": "stream",
     "text": [
      "ID: TEST_0437 Question: 코로나19 확진자가 급증한 요인으로 제시된 도시는 어디인가 Generated answer: 서울을 중심으로 확진자가 늘어난 것은 투자 심리를 얼어붙게 했다. 서상영 키움증권 연구원은 \" 대구\n"
     ]
    },
    {
     "name": "stderr",
     "output_type": "stream",
     "text": [
      " 29%|██▉       | 439/1507 [21:05<52:31,  2.95s/it]"
     ]
    },
    {
     "name": "stdout",
     "output_type": "stream",
     "text": [
      "ID: TEST_0438 Question: 현대자동차 주가가 전날보다 하락한 퍼센트는 얼마인가 Generated answer: 15만8000원\n"
     ]
    },
    {
     "name": "stderr",
     "output_type": "stream",
     "text": [
      " 29%|██▉       | 440/1507 [21:08<54:22,  3.06s/it]"
     ]
    },
    {
     "name": "stdout",
     "output_type": "stream",
     "text": [
      "ID: TEST_0439 Question: KODEX200 선물인버스2X'의 거래량은 몇 주인가 Generated answer: 2억225만5530주\n"
     ]
    },
    {
     "name": "stderr",
     "output_type": "stream",
     "text": [
      " 29%|██▉       | 441/1507 [21:11<52:34,  2.96s/it]"
     ]
    },
    {
     "name": "stdout",
     "output_type": "stream",
     "text": [
      "ID: TEST_0440 Question: 위씨의 대리인 오모씨가 머물던 주택에서 발견된 현금은 얼마야 Generated answer: 47억원\n"
     ]
    },
    {
     "name": "stderr",
     "output_type": "stream",
     "text": [
      " 29%|██▉       | 442/1507 [21:15<57:13,  3.22s/it]"
     ]
    },
    {
     "name": "stdout",
     "output_type": "stream",
     "text": [
      "ID: TEST_0441 Question: 반포3주구가 위치한 지역 Generated answer: 서울 서초구 반포\n"
     ]
    },
    {
     "name": "stderr",
     "output_type": "stream",
     "text": [
      " 29%|██▉       | 443/1507 [21:19<1:03:20,  3.57s/it]"
     ]
    },
    {
     "name": "stdout",
     "output_type": "stream",
     "text": [
      "ID: TEST_0442 Question: 반포3주구의 시공사 Generated answer: 삼성물산을 시공사로 선정했다.\n"
     ]
    },
    {
     "name": "stderr",
     "output_type": "stream",
     "text": [
      " 29%|██▉       | 444/1507 [21:23<1:03:20,  3.58s/it]"
     ]
    },
    {
     "name": "stdout",
     "output_type": "stream",
     "text": [
      "ID: TEST_0443 Question: 반포3주구의 재건축 후 최고 층수 Generated answer: 50층으로\n"
     ]
    },
    {
     "name": "stderr",
     "output_type": "stream",
     "text": [
      " 30%|██▉       | 445/1507 [21:27<1:05:53,  3.72s/it]"
     ]
    },
    {
     "name": "stdout",
     "output_type": "stream",
     "text": [
      "ID: TEST_0444 Question: 노무현 정부 시절 재건축 용적률 상한 Generated answer: 250 %, 법적 상한이 300 % 인 경우 늘어나는 분양수입이 노무현 정부 ‘ 0\n"
     ]
    },
    {
     "name": "stderr",
     "output_type": "stream",
     "text": [
      " 30%|██▉       | 446/1507 [21:31<1:06:38,  3.77s/it]"
     ]
    },
    {
     "name": "stdout",
     "output_type": "stream",
     "text": [
      "ID: TEST_0445 Question: 최근 분양한 강남구 개포동 주공1단지 재건축 아파트 중 임대 가구 수 Generated answer: 386가구\n"
     ]
    },
    {
     "name": "stderr",
     "output_type": "stream",
     "text": [
      " 30%|██▉       | 447/1507 [21:34<1:01:11,  3.46s/it]"
     ]
    },
    {
     "name": "stdout",
     "output_type": "stream",
     "text": [
      "ID: TEST_0446 Question: 에어비앤비의 창업연도는 Generated answer: 창업 12년\n"
     ]
    },
    {
     "name": "stderr",
     "output_type": "stream",
     "text": [
      " 30%|██▉       | 448/1507 [21:37<1:00:12,  3.41s/it]"
     ]
    },
    {
     "name": "stdout",
     "output_type": "stream",
     "text": [
      "ID: TEST_0447 Question: 손정의가 위워크 투자로 본 손실 금액은 Generated answer: 7000억엔\n"
     ]
    },
    {
     "name": "stderr",
     "output_type": "stream",
     "text": [
      " 30%|██▉       | 449/1507 [21:40<58:15,  3.30s/it]  "
     ]
    },
    {
     "name": "stdout",
     "output_type": "stream",
     "text": [
      "ID: TEST_0448 Question: 위워크가 전 세계 몇 개 국가에 진출했는가 Generated answer: 120개 국가\n"
     ]
    },
    {
     "name": "stderr",
     "output_type": "stream",
     "text": [
      " 30%|██▉       | 450/1507 [21:43<56:15,  3.19s/it]"
     ]
    },
    {
     "name": "stdout",
     "output_type": "stream",
     "text": [
      "ID: TEST_0449 Question: 우버가 IPO 당시 모은 금액은 Generated answer: 824억 달러\n"
     ]
    },
    {
     "name": "stderr",
     "output_type": "stream",
     "text": [
      " 30%|██▉       | 451/1507 [21:46<54:11,  3.08s/it]"
     ]
    },
    {
     "name": "stdout",
     "output_type": "stream",
     "text": [
      "ID: TEST_0450 Question: 코로나19로 인해 우버 차량호출 예약액이 감소한 비율은 Generated answer: 75 % 까지\n"
     ]
    },
    {
     "name": "stderr",
     "output_type": "stream",
     "text": [
      " 30%|██▉       | 452/1507 [21:48<49:23,  2.81s/it]"
     ]
    },
    {
     "name": "stdout",
     "output_type": "stream",
     "text": [
      "ID: TEST_0451 Question: 삼성 윈도우 핏에 적용된 컴프레서의 유형 Generated answer: 2중 바람날개\n"
     ]
    },
    {
     "name": "stderr",
     "output_type": "stream",
     "text": [
      " 30%|███       | 453/1507 [21:50<46:11,  2.63s/it]"
     ]
    },
    {
     "name": "stdout",
     "output_type": "stream",
     "text": [
      "ID: TEST_0452 Question: 저소음 모드에서 작동하는 소음 수준 Generated answer: 40dB\n"
     ]
    },
    {
     "name": "stderr",
     "output_type": "stream",
     "text": [
      " 30%|███       | 454/1507 [21:52<43:53,  2.50s/it]"
     ]
    },
    {
     "name": "stdout",
     "output_type": "stream",
     "text": [
      "ID: TEST_0453 Question: 삼성 윈도우 핏의 전기료 절감률 Generated answer: 최대 70 %\n"
     ]
    },
    {
     "name": "stderr",
     "output_type": "stream",
     "text": [
      " 30%|███       | 455/1507 [21:55<44:31,  2.54s/it]"
     ]
    },
    {
     "name": "stdout",
     "output_type": "stream",
     "text": [
      "ID: TEST_0454 Question: 제공되는 비스포크 색상 수 Generated answer: 그린 · 블루 · 베이지 · 그레이 · 핑크 등 5가지\n"
     ]
    },
    {
     "name": "stderr",
     "output_type": "stream",
     "text": [
      " 30%|███       | 456/1507 [21:57<40:23,  2.31s/it]"
     ]
    },
    {
     "name": "stdout",
     "output_type": "stream",
     "text": [
      "ID: TEST_0455 Question: 삼성 윈도우 핏의 출시 가격 Generated answer: 84만9000원\n"
     ]
    },
    {
     "name": "stderr",
     "output_type": "stream",
     "text": [
      " 30%|███       | 457/1507 [22:00<45:25,  2.60s/it]"
     ]
    },
    {
     "name": "stdout",
     "output_type": "stream",
     "text": [
      "ID: TEST_0456 Question: 파라오 Ⅱ 블랙 에디션에 추가된 안마 시스템 이름 Generated answer: 6매틱\n"
     ]
    },
    {
     "name": "stderr",
     "output_type": "stream",
     "text": [
      " 30%|███       | 458/1507 [22:02<43:22,  2.48s/it]"
     ]
    },
    {
     "name": "stdout",
     "output_type": "stream",
     "text": [
      "ID: TEST_0457 Question: 바디프랜드가 설립된 연도 Generated answer: 2007년 창사\n"
     ]
    },
    {
     "name": "stderr",
     "output_type": "stream",
     "text": [
      " 30%|███       | 459/1507 [22:05<45:30,  2.61s/it]"
     ]
    },
    {
     "name": "stdout",
     "output_type": "stream",
     "text": [
      "ID: TEST_0458 Question: 기술연구소가 설립된 해 Generated answer: 2009년 구성\n"
     ]
    },
    {
     "name": "stderr",
     "output_type": "stream",
     "text": [
      " 31%|███       | 460/1507 [22:08<45:17,  2.60s/it]"
     ]
    },
    {
     "name": "stdout",
     "output_type": "stream",
     "text": [
      "ID: TEST_0459 Question: 바디프랜드가 일본 기업을 제친 연도 Generated answer: 파나소닉, 이나다훼미리\n"
     ]
    },
    {
     "name": "stderr",
     "output_type": "stream",
     "text": [
      " 31%|███       | 461/1507 [22:10<44:21,  2.54s/it]"
     ]
    },
    {
     "name": "stdout",
     "output_type": "stream",
     "text": [
      "ID: TEST_0460 Question: 바디프랜드가 디자인 협업을 시작한 해 Generated answer: 2013년 문\n"
     ]
    },
    {
     "name": "stderr",
     "output_type": "stream",
     "text": [
      " 31%|███       | 462/1507 [22:14<52:52,  3.04s/it]"
     ]
    },
    {
     "name": "stdout",
     "output_type": "stream",
     "text": [
      "ID: TEST_0461 Question: ​​10월 수출액은 얼마 Generated answer: 449억8000만 달러\n"
     ]
    },
    {
     "name": "stderr",
     "output_type": "stream",
     "text": [
      " 31%|███       | 463/1507 [22:19<59:48,  3.44s/it]"
     ]
    },
    {
     "name": "stdout",
     "output_type": "stream",
     "text": [
      "ID: TEST_0462 Question: ​​10월 수입은 얼마 Generated answer: 390억 달러\n"
     ]
    },
    {
     "name": "stderr",
     "output_type": "stream",
     "text": [
      " 31%|███       | 464/1507 [22:22<1:00:43,  3.49s/it]"
     ]
    },
    {
     "name": "stdout",
     "output_type": "stream",
     "text": [
      "ID: TEST_0463 Question: ​​가장 최근에 일평균 수출액이 증가한 달 Generated answer: 올해 1월\n"
     ]
    },
    {
     "name": "stderr",
     "output_type": "stream",
     "text": [
      " 31%|███       | 465/1507 [22:26<1:03:39,  3.67s/it]"
     ]
    },
    {
     "name": "stdout",
     "output_type": "stream",
     "text": [
      "ID: TEST_0464 Question: ​​반도체 수출액이 세 달 동안 연속으로 돌파한 금액 Generated answer: 80억 달러\n"
     ]
    },
    {
     "name": "stderr",
     "output_type": "stream",
     "text": [
      " 31%|███       | 466/1507 [22:31<1:07:20,  3.88s/it]"
     ]
    },
    {
     "name": "stdout",
     "output_type": "stream",
     "text": [
      "ID: TEST_0465 Question: ​철강의 9월 깜짝 반등 수치는 Generated answer: 1. 5 %\n"
     ]
    },
    {
     "name": "stderr",
     "output_type": "stream",
     "text": [
      " 31%|███       | 467/1507 [22:34<1:04:10,  3.70s/it]"
     ]
    },
    {
     "name": "stdout",
     "output_type": "stream",
     "text": [
      "ID: TEST_0466 Question: 인천광역시 가천대 길병원이 일반 병실로 전환한 병상 수는 Generated answer: 68개를\n"
     ]
    },
    {
     "name": "stderr",
     "output_type": "stream",
     "text": [
      " 31%|███       | 468/1507 [22:37<1:01:55,  3.58s/it]"
     ]
    },
    {
     "name": "stdout",
     "output_type": "stream",
     "text": [
      "ID: TEST_0467 Question: 16일 코로나19 신규 환자 수는 Generated answer: 279명\n"
     ]
    },
    {
     "name": "stderr",
     "output_type": "stream",
     "text": [
      " 31%|███       | 469/1507 [22:41<1:00:22,  3.49s/it]"
     ]
    },
    {
     "name": "stdout",
     "output_type": "stream",
     "text": [
      "ID: TEST_0468 Question: 인하대 병원이 줄인 병상 수는 Generated answer: 20개를\n"
     ]
    },
    {
     "name": "stderr",
     "output_type": "stream",
     "text": [
      " 31%|███       | 470/1507 [22:44<59:21,  3.43s/it]  "
     ]
    },
    {
     "name": "stdout",
     "output_type": "stream",
     "text": [
      "ID: TEST_0469 Question: 수도권에 남아 있는 중증환자 치료 병상 수는 Generated answer: 339개\n"
     ]
    },
    {
     "name": "stderr",
     "output_type": "stream",
     "text": [
      " 31%|███▏      | 471/1507 [22:47<58:27,  3.39s/it]"
     ]
    },
    {
     "name": "stdout",
     "output_type": "stream",
     "text": [
      "ID: TEST_0470 Question: 서울특별시 보라매 병원이 병상을 줄인 시기는 Generated answer: 지난달 코로나\n"
     ]
    },
    {
     "name": "stderr",
     "output_type": "stream",
     "text": [
      " 31%|███▏      | 472/1507 [22:48<46:38,  2.70s/it]"
     ]
    },
    {
     "name": "stdout",
     "output_type": "stream",
     "text": [
      "ID: TEST_0471 Question: 장미 한 송이의 원가는 얼마인가 Generated answer: 576원\n"
     ]
    },
    {
     "name": "stderr",
     "output_type": "stream",
     "text": [
      " 31%|███▏      | 473/1507 [22:49<38:17,  2.22s/it]"
     ]
    },
    {
     "name": "stdout",
     "output_type": "stream",
     "text": [
      "ID: TEST_0472 Question: 도매시장에서의 장미 한 송이 가격은 얼마인가 Generated answer: 620원,\n"
     ]
    },
    {
     "name": "stderr",
     "output_type": "stream",
     "text": [
      " 31%|███▏      | 474/1507 [22:51<32:28,  1.89s/it]"
     ]
    },
    {
     "name": "stdout",
     "output_type": "stream",
     "text": [
      "ID: TEST_0473 Question: 최종 소비자가는 얼마에 이르는가 Generated answer: 1300원에\n"
     ]
    },
    {
     "name": "stderr",
     "output_type": "stream",
     "text": [
      " 32%|███▏      | 475/1507 [22:52<30:56,  1.80s/it]"
     ]
    },
    {
     "name": "stdout",
     "output_type": "stream",
     "text": [
      "ID: TEST_0474 Question: 특품 장미 1단의 도매가는 얼마인가 Generated answer: 7 ~ 8000원\n"
     ]
    },
    {
     "name": "stderr",
     "output_type": "stream",
     "text": [
      " 32%|███▏      | 476/1507 [22:53<27:36,  1.61s/it]"
     ]
    },
    {
     "name": "stdout",
     "output_type": "stream",
     "text": [
      "ID: TEST_0475 Question: 꽃집에서의 장미 한 송이 가격은 얼마인가 Generated answer: 2500 ~ 3000원\n"
     ]
    },
    {
     "name": "stderr",
     "output_type": "stream",
     "text": [
      " 32%|███▏      | 477/1507 [22:56<33:25,  1.95s/it]"
     ]
    },
    {
     "name": "stdout",
     "output_type": "stream",
     "text": [
      "ID: TEST_0476 Question: SCO 회원국이었던 5개의 원래 국가는 무엇인가 Generated answer: 인도와 파키스탄\n"
     ]
    },
    {
     "name": "stderr",
     "output_type": "stream",
     "text": [
      " 32%|███▏      | 478/1507 [22:59<38:38,  2.25s/it]"
     ]
    },
    {
     "name": "stdout",
     "output_type": "stream",
     "text": [
      "ID: TEST_0477 Question: SCO 회원국이었던 원래 '상하이 5국'에 우즈베키스탄이 가입한 해는 언제인가 Generated answer: 1996년 상하이에서 5개국이 모여 ‘ 상하이 5국 ( Shanghai Five ) ’ 조직을 만들었다. 2001년\n"
     ]
    },
    {
     "name": "stderr",
     "output_type": "stream",
     "text": [
      " 32%|███▏      | 479/1507 [23:02<39:58,  2.33s/it]"
     ]
    },
    {
     "name": "stdout",
     "output_type": "stream",
     "text": [
      "ID: TEST_0478 Question: SCO 회원국에 추가로 가입한 인도와 파키스탄의 가입 연도는 언제인가 Generated answer: 2015년엔\n"
     ]
    },
    {
     "name": "stderr",
     "output_type": "stream",
     "text": [
      " 32%|███▏      | 480/1507 [23:05<44:51,  2.62s/it]"
     ]
    },
    {
     "name": "stdout",
     "output_type": "stream",
     "text": [
      "ID: TEST_0479 Question: SCO의 현재 준회원국의 수는 몇 개국인가 Generated answer: 6개국\n"
     ]
    },
    {
     "name": "stderr",
     "output_type": "stream",
     "text": [
      " 32%|███▏      | 481/1507 [23:08<48:12,  2.82s/it]"
     ]
    },
    {
     "name": "stdout",
     "output_type": "stream",
     "text": [
      "ID: TEST_0480 Question: SCO가 다루는 주요 사안들로 무엇들을 반대하는가 Generated answer: 테러리즘과 민족 분리주의, 종교 원리주의\n"
     ]
    },
    {
     "name": "stderr",
     "output_type": "stream",
     "text": [
      " 32%|███▏      | 482/1507 [23:12<55:38,  3.26s/it]"
     ]
    },
    {
     "name": "stdout",
     "output_type": "stream",
     "text": [
      "ID: TEST_0481 Question: 현행 기업과 기업인 관련 벌금 총액은 Generated answer: 5억7000만원\n"
     ]
    },
    {
     "name": "stderr",
     "output_type": "stream",
     "text": [
      " 32%|███▏      | 483/1507 [23:16<58:00,  3.40s/it]"
     ]
    },
    {
     "name": "stdout",
     "output_type": "stream",
     "text": [
      "ID: TEST_0482 Question: 현재 발의된 법안들 규정 벌금 총액은 Generated answer: 2066억2000만원\n"
     ]
    },
    {
     "name": "stderr",
     "output_type": "stream",
     "text": [
      " 32%|███▏      | 484/1507 [23:20<1:00:07,  3.53s/it]"
     ]
    },
    {
     "name": "stdout",
     "output_type": "stream",
     "text": [
      "ID: TEST_0483 Question: 정무위 소관 관련 조항 개수는 Generated answer: 41개로\n"
     ]
    },
    {
     "name": "stderr",
     "output_type": "stream",
     "text": [
      " 32%|███▏      | 485/1507 [23:23<1:00:02,  3.53s/it]"
     ]
    },
    {
     "name": "stdout",
     "output_type": "stream",
     "text": [
      "ID: TEST_0484 Question: 신설 징역형 총 합산 기간은 Generated answer: 69년,\n"
     ]
    },
    {
     "name": "stderr",
     "output_type": "stream",
     "text": [
      " 32%|███▏      | 486/1507 [23:27<58:45,  3.45s/it]  "
     ]
    },
    {
     "name": "stdout",
     "output_type": "stream",
     "text": [
      "ID: TEST_0485 Question: 과태료 상한액을 3000만원으로 올린 법률안은 Generated answer: 송유관 안전관리법 일부 개정 법률안\n"
     ]
    },
    {
     "name": "stderr",
     "output_type": "stream",
     "text": [
      " 32%|███▏      | 487/1507 [23:30<57:49,  3.40s/it]"
     ]
    },
    {
     "name": "stdout",
     "output_type": "stream",
     "text": [
      "ID: TEST_0486 Question: 석사 논문 대필 비용은 얼마인가 Generated answer: 600만원\n"
     ]
    },
    {
     "name": "stderr",
     "output_type": "stream",
     "text": [
      " 32%|███▏      | 488/1507 [23:34<1:00:40,  3.57s/it]"
     ]
    },
    {
     "name": "stdout",
     "output_type": "stream",
     "text": [
      "ID: TEST_0487 Question: 대필자들이 자주 사용하는 메신저는 무엇인가 Generated answer: 인터넷 커뮤니티나 메신저 ‘\n"
     ]
    },
    {
     "name": "stderr",
     "output_type": "stream",
     "text": [
      " 32%|███▏      | 489/1507 [23:38<1:01:20,  3.62s/it]"
     ]
    },
    {
     "name": "stdout",
     "output_type": "stream",
     "text": [
      "ID: TEST_0488 Question: ABC뉴스는 대필이 성행한다고 보도한 연도는 언제인가 Generated answer: 2019년 호주\n"
     ]
    },
    {
     "name": "stderr",
     "output_type": "stream",
     "text": [
      " 33%|███▎      | 490/1507 [23:42<1:05:10,  3.84s/it]"
     ]
    },
    {
     "name": "stdout",
     "output_type": "stream",
     "text": [
      "ID: TEST_0489 Question: 외국인 유학생 중 한국어능력시험 4급 이상 조건을 만족하는 비율은 얼마나 되는가 Generated answer: 25. 5 %\n"
     ]
    },
    {
     "name": "stderr",
     "output_type": "stream",
     "text": [
      " 33%|███▎      | 491/1507 [23:45<1:01:39,  3.64s/it]"
     ]
    },
    {
     "name": "stdout",
     "output_type": "stream",
     "text": [
      "ID: TEST_0490 Question: 국내 대학 외국인 유학생 수는 얼마인가 Generated answer: 16만165명\n"
     ]
    },
    {
     "name": "stderr",
     "output_type": "stream",
     "text": [
      " 33%|███▎      | 492/1507 [23:50<1:06:07,  3.91s/it]"
     ]
    },
    {
     "name": "stdout",
     "output_type": "stream",
     "text": [
      "ID: TEST_0491 Question: 중국의 쌍순환 전략이 공식화된 회의는 Generated answer: 중국공산당 19기 중앙위원회 5차 전체회의\n"
     ]
    },
    {
     "name": "stderr",
     "output_type": "stream",
     "text": [
      " 33%|███▎      | 493/1507 [23:54<1:08:25,  4.05s/it]"
     ]
    },
    {
     "name": "stdout",
     "output_type": "stream",
     "text": [
      "ID: TEST_0492 Question: 중국의 생산가능 인구가 감소하기 시작한 기점은 Generated answer: 2011년을\n"
     ]
    },
    {
     "name": "stderr",
     "output_type": "stream",
     "text": [
      " 33%|███▎      | 494/1507 [23:58<1:09:43,  4.13s/it]"
     ]
    },
    {
     "name": "stdout",
     "output_type": "stream",
     "text": [
      "ID: TEST_0493 Question: 중국의 최근 10년간 총자본 증가율 연평균은 Generated answer: 10. 5 %\n"
     ]
    },
    {
     "name": "stderr",
     "output_type": "stream",
     "text": [
      " 33%|███▎      | 495/1507 [24:02<1:05:54,  3.91s/it]"
     ]
    },
    {
     "name": "stdout",
     "output_type": "stream",
     "text": [
      "ID: TEST_0494 Question: 부품 및 소재 국산화율 목표 연도는 Generated answer: 2025년까지 10대 핵심 산업의 부품 및 소재 국산화율을 70 %\n"
     ]
    },
    {
     "name": "stderr",
     "output_type": "stream",
     "text": [
      " 33%|███▎      | 496/1507 [24:05<1:02:47,  3.73s/it]"
     ]
    },
    {
     "name": "stdout",
     "output_type": "stream",
     "text": [
      "ID: TEST_0495 Question: 전략국제연구센터가 위치한 나라는 Generated answer: 미국 싱크탱크인 전략국제연구센터 ( CSIS\n"
     ]
    },
    {
     "name": "stderr",
     "output_type": "stream",
     "text": [
      " 33%|███▎      | 497/1507 [24:08<1:00:24,  3.59s/it]"
     ]
    },
    {
     "name": "stdout",
     "output_type": "stream",
     "text": [
      "ID: TEST_0496 Question: 삼성바이오로직스가 중국 바이오벤처 진퀀텀과 계약한 치료 후보물질은 Generated answer: GQ1003\n"
     ]
    },
    {
     "name": "stderr",
     "output_type": "stream",
     "text": [
      " 33%|███▎      | 498/1507 [24:12<58:14,  3.46s/it]  "
     ]
    },
    {
     "name": "stdout",
     "output_type": "stream",
     "text": [
      "ID: TEST_0497 Question: 삼성바이오로직스가 처음 위탁개발 계약을 한 중국 본토 기업은 Generated answer: GQ1003\n"
     ]
    },
    {
     "name": "stderr",
     "output_type": "stream",
     "text": [
      " 33%|███▎      | 499/1507 [24:15<57:57,  3.45s/it]"
     ]
    },
    {
     "name": "stdout",
     "output_type": "stream",
     "text": [
      "ID: TEST_0498 Question: 중국 바이오 의약품 시장 규모는 약 몇 억위안 Generated answer: 2578억위안\n"
     ]
    },
    {
     "name": "stderr",
     "output_type": "stream",
     "text": [
      " 33%|███▎      | 500/1507 [24:18<57:04,  3.40s/it]"
     ]
    },
    {
     "name": "stdout",
     "output_type": "stream",
     "text": [
      "ID: TEST_0499 Question: 삼성바이오로직스는 2018년에 몇 건의 수주 계약을 확보했나 Generated answer: 60여건\n"
     ]
    },
    {
     "name": "stderr",
     "output_type": "stream",
     "text": [
      " 33%|███▎      | 501/1507 [24:22<56:24,  3.36s/it]"
     ]
    },
    {
     "name": "stdout",
     "output_type": "stream",
     "text": [
      "ID: TEST_0500 Question: 삼성바이오로직스가 오는 2035년까지 위탁생산 수주물량 절반가량을 채우려는 분야는 Generated answer: 위탁계약에서 파생된 물량\n"
     ]
    },
    {
     "name": "stderr",
     "output_type": "stream",
     "text": [
      " 33%|███▎      | 502/1507 [24:25<55:59,  3.34s/it]"
     ]
    },
    {
     "name": "stdout",
     "output_type": "stream",
     "text": [
      "ID: TEST_0501 Question: 동절기에 접촉 위험이 증가하는 이유는 무엇을 통해서인가 Generated answer: 행사와 모임, 여행\n"
     ]
    },
    {
     "name": "stderr",
     "output_type": "stream",
     "text": [
      " 33%|███▎      | 503/1507 [24:28<55:38,  3.33s/it]"
     ]
    },
    {
     "name": "stdout",
     "output_type": "stream",
     "text": [
      "ID: TEST_0502 Question: 수도권 고위험 11종의 집합금지 지속 적용 기한은 언제까지인가 Generated answer: 10월 11일\n"
     ]
    },
    {
     "name": "stderr",
     "output_type": "stream",
     "text": [
      " 33%|███▎      | 504/1507 [24:31<53:30,  3.20s/it]"
     ]
    },
    {
     "name": "stdout",
     "output_type": "stream",
     "text": [
      "ID: TEST_0503 Question: 한국 이용자들이 제안한 운동은 Generated answer: 노 ( NO ) 중국\n"
     ]
    },
    {
     "name": "stderr",
     "output_type": "stream",
     "text": [
      " 34%|███▎      | 505/1507 [24:34<50:22,  3.02s/it]"
     ]
    },
    {
     "name": "stdout",
     "output_type": "stream",
     "text": [
      "ID: TEST_0504 Question: 시험을 보지 못한 응시생 수 Generated answer: 67명이\n"
     ]
    },
    {
     "name": "stderr",
     "output_type": "stream",
     "text": [
      " 34%|███▎      | 506/1507 [24:36<47:58,  2.88s/it]"
     ]
    },
    {
     "name": "stdout",
     "output_type": "stream",
     "text": [
      "ID: TEST_0505 Question: 확진자 관련 임용고시 학원이 위치한 구명 Generated answer: 서울 동작구 노량진\n"
     ]
    },
    {
     "name": "stderr",
     "output_type": "stream",
     "text": [
      " 34%|███▎      | 507/1507 [24:39<47:36,  2.86s/it]"
     ]
    },
    {
     "name": "stdout",
     "output_type": "stream",
     "text": [
      "ID: TEST_0506 Question: 음성 판정을 받은 수험생 수 Generated answer: 142명과\n"
     ]
    },
    {
     "name": "stderr",
     "output_type": "stream",
     "text": [
      " 34%|███▎      | 508/1507 [24:42<48:52,  2.94s/it]"
     ]
    },
    {
     "name": "stdout",
     "output_type": "stream",
     "text": [
      "ID: TEST_0507 Question: 시험을 치른 진단검사 대상자 수 Generated answer: 395명\n"
     ]
    },
    {
     "name": "stderr",
     "output_type": "stream",
     "text": [
      " 34%|███▍      | 509/1507 [24:43<40:38,  2.44s/it]"
     ]
    },
    {
     "name": "stdout",
     "output_type": "stream",
     "text": [
      "ID: TEST_0508 Question: 관련 법무법인 이름 Generated answer: 정태원 변호사 ( 법무법인 에이스\n"
     ]
    },
    {
     "name": "stderr",
     "output_type": "stream",
     "text": [
      " 34%|███▍      | 510/1507 [24:47<44:46,  2.69s/it]"
     ]
    },
    {
     "name": "stdout",
     "output_type": "stream",
     "text": [
      "ID: TEST_0509 Question: 김동관 회장의 나이는 Generated answer: 55. 7세\n"
     ]
    },
    {
     "name": "stderr",
     "output_type": "stream",
     "text": [
      " 34%|███▍      | 511/1507 [24:50<47:44,  2.88s/it]"
     ]
    },
    {
     "name": "stdout",
     "output_type": "stream",
     "text": [
      "ID: TEST_0510 Question: 한화그룹 CEO들의 평균 연령은 Generated answer: 55. 7세\n"
     ]
    },
    {
     "name": "stderr",
     "output_type": "stream",
     "text": [
      " 34%|███▍      | 512/1507 [24:53<49:44,  3.00s/it]"
     ]
    },
    {
     "name": "stdout",
     "output_type": "stream",
     "text": [
      "ID: TEST_0511 Question: 한화종합화학/사업부문 대표로 내정된 사람은 Generated answer: 박흥권\n"
     ]
    },
    {
     "name": "stderr",
     "output_type": "stream",
     "text": [
      " 34%|███▍      | 513/1507 [24:57<51:04,  3.08s/it]"
     ]
    },
    {
     "name": "stdout",
     "output_type": "stream",
     "text": [
      "ID: TEST_0512 Question: 미국 에너지 소프트웨어 회사 인수 기업은 Generated answer: 한화솔루션\n"
     ]
    },
    {
     "name": "stderr",
     "output_type": "stream",
     "text": [
      " 34%|███▍      | 514/1507 [25:00<52:03,  3.15s/it]"
     ]
    },
    {
     "name": "stdout",
     "output_type": "stream",
     "text": [
      "ID: TEST_0513 Question: 한화그룹의 2020년 2분기 영업이익은 Generated answer: 11조41억원\n"
     ]
    },
    {
     "name": "stderr",
     "output_type": "stream",
     "text": [
      " 34%|███▍      | 515/1507 [25:03<52:38,  3.18s/it]"
     ]
    },
    {
     "name": "stdout",
     "output_type": "stream",
     "text": [
      "ID: TEST_0514 Question: 월성 1호기 경제성 축소 과정에 대해 정부의 관여가 없었다고 말한 사람은 누구 Generated answer: 성윤모 산업통상자원부 장관\n"
     ]
    },
    {
     "name": "stderr",
     "output_type": "stream",
     "text": [
      " 34%|███▍      | 516/1507 [25:06<48:48,  2.95s/it]"
     ]
    },
    {
     "name": "stdout",
     "output_type": "stream",
     "text": [
      "ID: TEST_0515 Question: 월성 1호기 조기 폐쇄로 인해 사라진 지역 일자리는 몇 개 Generated answer: 32만 개\n"
     ]
    },
    {
     "name": "stderr",
     "output_type": "stream",
     "text": [
      " 34%|███▍      | 517/1507 [25:09<49:24,  2.99s/it]"
     ]
    },
    {
     "name": "stdout",
     "output_type": "stream",
     "text": [
      "ID: TEST_0516 Question: 월성 1호기 조기 폐쇄로 인해 감소한 지방 세액은 얼마 Generated answer: 2조8000억원\n"
     ]
    },
    {
     "name": "stderr",
     "output_type": "stream",
     "text": [
      " 34%|███▍      | 518/1507 [25:12<50:51,  3.09s/it]"
     ]
    },
    {
     "name": "stdout",
     "output_type": "stream",
     "text": [
      "ID: TEST_0517 Question: 감사 자료를 삭제한 산업부 공무원의 행동에 대해 성윤모 장관이 언급한 이유는 무엇 Generated answer: 경제성 조작은 없었다\n"
     ]
    },
    {
     "name": "stderr",
     "output_type": "stream",
     "text": [
      " 34%|███▍      | 519/1507 [25:15<48:51,  2.97s/it]"
     ]
    },
    {
     "name": "stdout",
     "output_type": "stream",
     "text": [
      "ID: TEST_0518 Question: 산자위 국감 도중 휴대전화로 게임을 한 의원은 누구 Generated answer: 강훈식\n"
     ]
    },
    {
     "name": "stderr",
     "output_type": "stream",
     "text": [
      " 35%|███▍      | 520/1507 [25:17<48:00,  2.92s/it]"
     ]
    },
    {
     "name": "stdout",
     "output_type": "stream",
     "text": [
      "ID: TEST_0519 Question: LS전선 동해공장이 초고압 해저 케이블 보관을 위해 도입한 턴테이블의 용량은 Generated answer: 5000t급\n"
     ]
    },
    {
     "name": "stderr",
     "output_type": "stream",
     "text": [
      " 35%|███▍      | 521/1507 [25:21<49:47,  3.03s/it]"
     ]
    },
    {
     "name": "stdout",
     "output_type": "stream",
     "text": [
      "ID: TEST_0520 Question: 해저 케이블의 설계수명은 Generated answer: 30년.\n"
     ]
    },
    {
     "name": "stderr",
     "output_type": "stream",
     "text": [
      " 35%|███▍      | 522/1507 [25:24<51:00,  3.11s/it]"
     ]
    },
    {
     "name": "stdout",
     "output_type": "stream",
     "text": [
      "ID: TEST_0521 Question: 해저 케이블이 설치될 대만의 해상풍력 발전단지는 Generated answer: 대만 서부 ( ) 해상풍력 발전단지에 공급된다. LS전선은 지난해 대만 해상풍력 발전단지를 짓고 있는 벨기에 건설사 얀데눌 ( Jan De Nul )\n"
     ]
    },
    {
     "name": "stderr",
     "output_type": "stream",
     "text": [
      " 35%|███▍      | 523/1507 [25:27<51:55,  3.17s/it]"
     ]
    },
    {
     "name": "stdout",
     "output_type": "stream",
     "text": [
      "ID: TEST_0522 Question: LS전선이 지난해 대만 해상풍력 발전단지에서 수주한 계약 금액은 Generated answer: 5000억원\n"
     ]
    },
    {
     "name": "stderr",
     "output_type": "stream",
     "text": [
      " 35%|███▍      | 524/1507 [25:31<52:26,  3.20s/it]"
     ]
    },
    {
     "name": "stdout",
     "output_type": "stream",
     "text": [
      "ID: TEST_0523 Question: LS전선 명노현 대표가 마케팅을 집중할 지역은 Generated answer: 미국과 유럽, 아프리카\n"
     ]
    },
    {
     "name": "stderr",
     "output_type": "stream",
     "text": [
      " 35%|███▍      | 525/1507 [25:34<52:49,  3.23s/it]"
     ]
    },
    {
     "name": "stdout",
     "output_type": "stream",
     "text": [
      "ID: TEST_0524 Question: 재산세 감면 대상이 되는 집의 공시지가 기준은 Generated answer: 9억원\n"
     ]
    },
    {
     "name": "stderr",
     "output_type": "stream",
     "text": [
      " 35%|███▍      | 526/1507 [25:37<53:05,  3.25s/it]"
     ]
    },
    {
     "name": "stdout",
     "output_type": "stream",
     "text": [
      "ID: TEST_0525 Question: 전체 검토 대상 주택 중 공시지가가 6억원 이하인 주택의 비율은 Generated answer: 95. 5 %\n"
     ]
    },
    {
     "name": "stderr",
     "output_type": "stream",
     "text": [
      " 35%|███▍      | 527/1507 [25:40<53:15,  3.26s/it]"
     ]
    },
    {
     "name": "stdout",
     "output_type": "stream",
     "text": [
      "ID: TEST_0526 Question: 재산세 감면율이 가장 큰 공시가격 구간은 Generated answer: 1주택자\n"
     ]
    },
    {
     "name": "stderr",
     "output_type": "stream",
     "text": [
      " 35%|███▌      | 528/1507 [25:44<53:20,  3.27s/it]"
     ]
    },
    {
     "name": "stdout",
     "output_type": "stream",
     "text": [
      "ID: TEST_0527 Question: 재산세 감면 혜택이 연간 제공될 세제 지원 효과는 Generated answer: 4785억원\n"
     ]
    },
    {
     "name": "stderr",
     "output_type": "stream",
     "text": [
      " 35%|███▌      | 529/1507 [25:47<53:21,  3.27s/it]"
     ]
    },
    {
     "name": "stdout",
     "output_type": "stream",
     "text": [
      "ID: TEST_0528 Question: 이번 재산세 인하가 적용되는 기간은 Generated answer: 2023년까지\n"
     ]
    },
    {
     "name": "stderr",
     "output_type": "stream",
     "text": [
      " 35%|███▌      | 530/1507 [25:50<53:20,  3.28s/it]"
     ]
    },
    {
     "name": "stdout",
     "output_type": "stream",
     "text": [
      "ID: TEST_0529 Question: 국제통화기금이 재정모니터 보고서를 발표한 날짜 Generated answer: 5일 ( 현지시간 )\n"
     ]
    },
    {
     "name": "stderr",
     "output_type": "stream",
     "text": [
      " 35%|███▌      | 531/1507 [25:54<53:21,  3.28s/it]"
     ]
    },
    {
     "name": "stdout",
     "output_type": "stream",
     "text": [
      "ID: TEST_0530 Question: IMF가 선진국에 권장한 공공투자 비율 Generated answer: GDP의 1 %\n"
     ]
    },
    {
     "name": "stderr",
     "output_type": "stream",
     "text": [
      " 35%|███▌      | 532/1507 [25:57<52:13,  3.21s/it]"
     ]
    },
    {
     "name": "stdout",
     "output_type": "stream",
     "text": [
      "ID: TEST_0531 Question: IMF가 고용 증가를 예측한 비율 Generated answer: 1. 2 %\n"
     ]
    },
    {
     "name": "stderr",
     "output_type": "stream",
     "text": [
      " 35%|███▌      | 533/1507 [25:59<48:25,  2.98s/it]"
     ]
    },
    {
     "name": "stdout",
     "output_type": "stream",
     "text": [
      "ID: TEST_0532 Question: 국가들이 공공투자를 확대한 이유 중 하나 Generated answer: 투자의 질이 높고 부채 부담\n"
     ]
    },
    {
     "name": "stderr",
     "output_type": "stream",
     "text": [
      " 35%|███▌      | 534/1507 [26:02<49:52,  3.08s/it]"
     ]
    },
    {
     "name": "stdout",
     "output_type": "stream",
     "text": [
      "ID: TEST_0533 Question: 공공투자가 가장 우선적으로 지출될 분야 Generated answer: 인프라의 유지 보수\n"
     ]
    },
    {
     "name": "stderr",
     "output_type": "stream",
     "text": [
      " 36%|███▌      | 535/1507 [26:04<40:14,  2.48s/it]"
     ]
    },
    {
     "name": "stdout",
     "output_type": "stream",
     "text": [
      "ID: TEST_0534 Question: 화순군에서 아스파라거스를 재배하는 농가 수는 Generated answer: 11개 농가 4. 9㏊\n"
     ]
    },
    {
     "name": "stderr",
     "output_type": "stream",
     "text": [
      " 36%|███▌      | 536/1507 [26:05<33:27,  2.07s/it]"
     ]
    },
    {
     "name": "stdout",
     "output_type": "stream",
     "text": [
      "ID: TEST_0535 Question: 화순 아스파라거스가 일본으로 다시 수출되기 시작한 연도는 Generated answer: 2011년 이후 실적이 없다가 지난해\n"
     ]
    },
    {
     "name": "stderr",
     "output_type": "stream",
     "text": [
      " 36%|███▌      | 537/1507 [26:06<28:44,  1.78s/it]"
     ]
    },
    {
     "name": "stdout",
     "output_type": "stream",
     "text": [
      "ID: TEST_0536 Question: 화순군이 아스파라거스 단지 조성 시범 사업에 투자하는 금액은 Generated answer: 4억원\n"
     ]
    },
    {
     "name": "stderr",
     "output_type": "stream",
     "text": [
      " 36%|███▌      | 538/1507 [26:07<25:24,  1.57s/it]"
     ]
    },
    {
     "name": "stdout",
     "output_type": "stream",
     "text": [
      "ID: TEST_0537 Question: 아스파라거스 재배 면적이 집중된 화순의 면은 Generated answer: 춘양면\n"
     ]
    },
    {
     "name": "stderr",
     "output_type": "stream",
     "text": [
      " 36%|███▌      | 539/1507 [26:08<24:37,  1.53s/it]"
     ]
    },
    {
     "name": "stdout",
     "output_type": "stream",
     "text": [
      "ID: TEST_0538 Question: 글로벌 GAP 인증 컨설팅을 함께 진행하는 대학은 Generated answer: 한경대와\n"
     ]
    },
    {
     "name": "stderr",
     "output_type": "stream",
     "text": [
      " 36%|███▌      | 540/1507 [26:11<28:41,  1.78s/it]"
     ]
    },
    {
     "name": "stdout",
     "output_type": "stream",
     "text": [
      "ID: TEST_0539 Question: 탐나는전'의 지류형 발행 규모는 얼마야 Generated answer: 150억원\n"
     ]
    },
    {
     "name": "stderr",
     "output_type": "stream",
     "text": [
      " 36%|███▌      | 541/1507 [26:12<28:16,  1.76s/it]"
     ]
    },
    {
     "name": "stdout",
     "output_type": "stream",
     "text": [
      "ID: TEST_0540 Question: 지류형 '탐나는전'이 출시된 달은 언제야 Generated answer: 지난해 11월\n"
     ]
    },
    {
     "name": "stderr",
     "output_type": "stream",
     "text": [
      " 36%|███▌      | 542/1507 [26:15<30:19,  1.89s/it]"
     ]
    },
    {
     "name": "stdout",
     "output_type": "stream",
     "text": [
      "ID: TEST_0541 Question: 할인구매 시 1인당 구매 한도는 얼마야 Generated answer: 월 70만원\n"
     ]
    },
    {
     "name": "stderr",
     "output_type": "stream",
     "text": [
      " 36%|███▌      | 543/1507 [26:17<31:43,  1.97s/it]"
     ]
    },
    {
     "name": "stdout",
     "output_type": "stream",
     "text": [
      "ID: TEST_0542 Question: 지류형 탐나는전 발행을 맡은 기관은 어디야 Generated answer: 한국조폐공사\n"
     ]
    },
    {
     "name": "stderr",
     "output_type": "stream",
     "text": [
      " 36%|███▌      | 544/1507 [26:19<32:45,  2.04s/it]"
     ]
    },
    {
     "name": "stdout",
     "output_type": "stream",
     "text": [
      "ID: TEST_0543 Question: 지류형 탐나는전이 품귀 현상을 보인 시기는 언제야 Generated answer: 2월 설명절\n"
     ]
    },
    {
     "name": "stderr",
     "output_type": "stream",
     "text": [
      " 36%|███▌      | 545/1507 [26:22<38:42,  2.41s/it]"
     ]
    },
    {
     "name": "stdout",
     "output_type": "stream",
     "text": [
      "ID: TEST_0544 Question: 삼성에 제시된 BOE 패널 공급 가격 비교 대상 Generated answer: 삼성디스플레이\n"
     ]
    },
    {
     "name": "stderr",
     "output_type": "stream",
     "text": [
      " 36%|███▌      | 546/1507 [26:25<42:25,  2.65s/it]"
     ]
    },
    {
     "name": "stdout",
     "output_type": "stream",
     "text": [
      "ID: TEST_0545 Question: 홍윤정의 미국 이름은 무엇인가 Generated answer: 위스콘신\n"
     ]
    },
    {
     "name": "stderr",
     "output_type": "stream",
     "text": [
      " 36%|███▋      | 547/1507 [26:28<40:40,  2.54s/it]"
     ]
    },
    {
     "name": "stdout",
     "output_type": "stream",
     "text": [
      "ID: TEST_0546 Question: 홍 씨가 당선된 주의회 지역구 번호는 몇 번인가 Generated answer: 76 지역구 )\n"
     ]
    },
    {
     "name": "stderr",
     "output_type": "stream",
     "text": [
      " 36%|███▋      | 548/1507 [26:31<43:34,  2.73s/it]"
     ]
    },
    {
     "name": "stdout",
     "output_type": "stream",
     "text": [
      "ID: TEST_0547 Question: 홍 씨의 나이는 몇 살인가 Generated answer: 2세 프란체스카 홍 ( 32\n"
     ]
    },
    {
     "name": "stderr",
     "output_type": "stream",
     "text": [
      " 36%|███▋      | 549/1507 [26:33<41:38,  2.61s/it]"
     ]
    },
    {
     "name": "stdout",
     "output_type": "stream",
     "text": [
      "ID: TEST_0548 Question: 위스콘신의 매일 코로나19 확진자 수는 몇 명이었나 Generated answer: 5000명 수준\n"
     ]
    },
    {
     "name": "stderr",
     "output_type": "stream",
     "text": [
      " 36%|███▋      | 550/1507 [26:36<44:09,  2.77s/it]"
     ]
    },
    {
     "name": "stdout",
     "output_type": "stream",
     "text": [
      "ID: TEST_0549 Question: 트럼프 대통령이 위스콘신 유세 당시의 기온은 몇 도였나 Generated answer: 영상 2도\n"
     ]
    },
    {
     "name": "stderr",
     "output_type": "stream",
     "text": [
      " 37%|███▋      | 551/1507 [26:38<36:53,  2.32s/it]"
     ]
    },
    {
     "name": "stdout",
     "output_type": "stream",
     "text": [
      "ID: TEST_0550 Question: 엘포인트 회원이 할인을 받을 수 있는 결제 수단 Generated answer: 롯데, 신한, 현대 등 7대 카드\n"
     ]
    },
    {
     "name": "stderr",
     "output_type": "stream",
     "text": [
      " 37%|███▋      | 552/1507 [26:41<41:25,  2.60s/it]"
     ]
    },
    {
     "name": "stdout",
     "output_type": "stream",
     "text": [
      "ID: TEST_0551 Question: 황모 씨가 소유한 단독주택 개수 Generated answer: 3채를\n"
     ]
    },
    {
     "name": "stderr",
     "output_type": "stream",
     "text": [
      " 37%|███▋      | 553/1507 [26:44<42:55,  2.70s/it]"
     ]
    },
    {
     "name": "stdout",
     "output_type": "stream",
     "text": [
      "ID: TEST_0552 Question: 임대차 3법'이 본격 시행된 날짜 Generated answer: 지난달 31일\n"
     ]
    },
    {
     "name": "stderr",
     "output_type": "stream",
     "text": [
      " 37%|███▋      | 554/1507 [26:46<42:18,  2.66s/it]"
     ]
    },
    {
     "name": "stdout",
     "output_type": "stream",
     "text": [
      "ID: TEST_0553 Question: 한씨가 세입자에게 전세계약 갱신 의사를 밝힌 날짜 Generated answer: 지난달 1일\n"
     ]
    },
    {
     "name": "stderr",
     "output_type": "stream",
     "text": [
      " 37%|███▋      | 555/1507 [26:50<45:11,  2.85s/it]"
     ]
    },
    {
     "name": "stdout",
     "output_type": "stream",
     "text": [
      "ID: TEST_0554 Question: 새 집주인이 잔금 날짜에 맞춰 집을 판 장소 Generated answer: 전세계약이 끝나는 다음 달 9일\n"
     ]
    },
    {
     "name": "stderr",
     "output_type": "stream",
     "text": [
      " 37%|███▋      | 556/1507 [26:53<45:44,  2.89s/it]"
     ]
    },
    {
     "name": "stdout",
     "output_type": "stream",
     "text": [
      "ID: TEST_0555 Question: 세종시 아파트 값이 지난달 상승률 Generated answer: 6. 53 %\n"
     ]
    },
    {
     "name": "stderr",
     "output_type": "stream",
     "text": [
      " 37%|███▋      | 557/1507 [26:55<44:03,  2.78s/it]"
     ]
    },
    {
     "name": "stdout",
     "output_type": "stream",
     "text": [
      "ID: TEST_0556 Question: KCSI 조사에서 24회 1위를 기록한 정장구두 브랜드는 Generated answer: 금강 ( 정장구두 )\n"
     ]
    },
    {
     "name": "stderr",
     "output_type": "stream",
     "text": [
      " 37%|███▋      | 558/1507 [26:58<46:17,  2.93s/it]"
     ]
    },
    {
     "name": "stdout",
     "output_type": "stream",
     "text": [
      "ID: TEST_0557 Question: 제조업 중 20회 이상 1위를 차지한 자동차 브랜드는 Generated answer: 현대자동차 (\n"
     ]
    },
    {
     "name": "stderr",
     "output_type": "stream",
     "text": [
      " 37%|███▋      | 559/1507 [27:01<44:55,  2.84s/it]"
     ]
    },
    {
     "name": "stdout",
     "output_type": "stream",
     "text": [
      "ID: TEST_0558 Question: 에어컨 분야에서 13회 1위를 차지한 브랜드는 Generated answer: LG 13회, 삼성\n"
     ]
    },
    {
     "name": "stderr",
     "output_type": "stream",
     "text": [
      " 37%|███▋      | 560/1507 [27:04<44:52,  2.84s/it]"
     ]
    },
    {
     "name": "stdout",
     "output_type": "stream",
     "text": [
      "ID: TEST_0559 Question: 소비재 산업 중 12회 1위를 기록한 소주 브랜드는 Generated answer: 금복주\n"
     ]
    },
    {
     "name": "stderr",
     "output_type": "stream",
     "text": [
      " 37%|███▋      | 561/1507 [27:07<46:57,  2.98s/it]"
     ]
    },
    {
     "name": "stdout",
     "output_type": "stream",
     "text": [
      "ID: TEST_0560 Question: 대형서점 산업에서 24회 1위를 기록한 브랜드는 Generated answer: 삼성전자 ( 휴대폰 ), 삼성화재 ( 자동차보험 ), 교보문고\n"
     ]
    },
    {
     "name": "stderr",
     "output_type": "stream",
     "text": [
      " 37%|███▋      | 562/1507 [27:10<45:56,  2.92s/it]"
     ]
    },
    {
     "name": "stdout",
     "output_type": "stream",
     "text": [
      "ID: TEST_0561 Question: 경기버스라운지가 위치한 출구 Generated answer: 사당역에 경기도는 지난달 5일 ‘ 경기버스라운지 ’ 를 열었다. 버스로 경기도와 서울을 드나드는 이용객을 위해서다. 버스 정류장이 곳곳에 모인 사당역\n"
     ]
    },
    {
     "name": "stderr",
     "output_type": "stream",
     "text": [
      " 37%|███▋      | 563/1507 [27:12<43:58,  2.80s/it]"
     ]
    },
    {
     "name": "stdout",
     "output_type": "stream",
     "text": [
      "ID: TEST_0562 Question: 경기버스라운지에 들어가는 예산 Generated answer: 9억원\n"
     ]
    },
    {
     "name": "stderr",
     "output_type": "stream",
     "text": [
      " 37%|███▋      | 564/1507 [27:15<42:09,  2.68s/it]"
     ]
    },
    {
     "name": "stdout",
     "output_type": "stream",
     "text": [
      "ID: TEST_0563 Question: 경기버스라운지의 직원 수 Generated answer: 4명에 들어가는 인건비 등 올해 책정한 예산만 9억원이다. 운영 한 달을 맞은 현재 상황은 어떨까. 4 ~ 5일 인근 버스 정류장에 서 있던 경기도민 15명\n"
     ]
    },
    {
     "name": "stderr",
     "output_type": "stream",
     "text": [
      " 37%|███▋      | 565/1507 [27:18<44:58,  2.86s/it]"
     ]
    },
    {
     "name": "stdout",
     "output_type": "stream",
     "text": [
      "ID: TEST_0564 Question: 경기버스라운지의 하루 이용객 수 Generated answer: 50 ~ 100명\n"
     ]
    },
    {
     "name": "stderr",
     "output_type": "stream",
     "text": [
      " 38%|███▊      | 566/1507 [27:21<43:10,  2.75s/it]"
     ]
    },
    {
     "name": "stdout",
     "output_type": "stream",
     "text": [
      "ID: TEST_0565 Question: 경기버스라운지 개소 날짜 Generated answer: 지난달 5일\n"
     ]
    },
    {
     "name": "stderr",
     "output_type": "stream",
     "text": [
      " 38%|███▊      | 567/1507 [27:25<49:23,  3.15s/it]"
     ]
    },
    {
     "name": "stdout",
     "output_type": "stream",
     "text": [
      "ID: TEST_0566 Question: 서울에서 아파트 가격 상승률이 가장 낮은 구는 어디? Generated answer: 성동구 ( 69. 7 % ), 영등포구 ( 67. 3 % ), 광진구\n"
     ]
    },
    {
     "name": "stderr",
     "output_type": "stream",
     "text": [
      " 38%|███▊      | 568/1507 [27:28<50:05,  3.20s/it]"
     ]
    },
    {
     "name": "stdout",
     "output_type": "stream",
     "text": [
      "ID: TEST_0567 Question: 경기도 내 아파트 가격 상승률이 가장 높은 곳은 어디? Generated answer: 과천시 ( 65. 4 % · 5억 5387만원 ), 성남시\n"
     ]
    },
    {
     "name": "stderr",
     "output_type": "stream",
     "text": [
      " 38%|███▊      | 569/1507 [27:32<54:07,  3.46s/it]"
     ]
    },
    {
     "name": "stdout",
     "output_type": "stream",
     "text": [
      "ID: TEST_0568 Question: 현 정부 기간 서울 아파트 가격 상승률은 몇 퍼센트? Generated answer: 14. 2 %\n"
     ]
    },
    {
     "name": "stderr",
     "output_type": "stream",
     "text": [
      " 38%|███▊      | 570/1507 [27:36<54:39,  3.50s/it]"
     ]
    },
    {
     "name": "stdout",
     "output_type": "stream",
     "text": [
      "ID: TEST_0569 Question: 이번 정부 들어 아파트값이 하락한 경기도 남부 도시는 어디? Generated answer: 과천시 ( 65. 4 % · 5억 5387만원 ), 성남시\n"
     ]
    },
    {
     "name": "stderr",
     "output_type": "stream",
     "text": [
      " 38%|███▊      | 571/1507 [27:40<57:40,  3.70s/it]"
     ]
    },
    {
     "name": "stdout",
     "output_type": "stream",
     "text": [
      "ID: TEST_0570 Question: 세종시 아파트 가격은 몇 퍼센트 올랐어? Generated answer: 47 % ( 1억 7142만원 )\n"
     ]
    },
    {
     "name": "stderr",
     "output_type": "stream",
     "text": [
      " 38%|███▊      | 572/1507 [27:42<51:42,  3.32s/it]"
     ]
    },
    {
     "name": "stdout",
     "output_type": "stream",
     "text": [
      "ID: TEST_0571 Question: 김신우 교수의 소속 병원 Generated answer: 경북대병원\n"
     ]
    },
    {
     "name": "stderr",
     "output_type": "stream",
     "text": [
      " 38%|███▊      | 573/1507 [27:46<51:28,  3.31s/it]"
     ]
    },
    {
     "name": "stdout",
     "output_type": "stream",
     "text": [
      "ID: TEST_0572 Question: 정은경의 직책 Generated answer: 정은경 질병관리본부장\n"
     ]
    },
    {
     "name": "stderr",
     "output_type": "stream",
     "text": [
      " 38%|███▊      | 574/1507 [27:49<52:29,  3.38s/it]"
     ]
    },
    {
     "name": "stdout",
     "output_type": "stream",
     "text": [
      "ID: TEST_0573 Question: 김강립의 직책 Generated answer: 1총괄조정관\n"
     ]
    },
    {
     "name": "stderr",
     "output_type": "stream",
     "text": [
      " 38%|███▊      | 575/1507 [27:52<50:55,  3.28s/it]"
     ]
    },
    {
     "name": "stdout",
     "output_type": "stream",
     "text": [
      "ID: TEST_0574 Question: 스타벅스 파주 야당역점 관련 확진자 수 Generated answer: 42명으로\n"
     ]
    },
    {
     "name": "stderr",
     "output_type": "stream",
     "text": [
      " 38%|███▊      | 576/1507 [27:55<47:03,  3.03s/it]"
     ]
    },
    {
     "name": "stdout",
     "output_type": "stream",
     "text": [
      "ID: TEST_0575 Question: 김우주 교수의 소속 병원 Generated answer: 고대구로병원\n"
     ]
    },
    {
     "name": "stderr",
     "output_type": "stream",
     "text": [
      " 38%|███▊      | 577/1507 [27:55<36:50,  2.38s/it]"
     ]
    },
    {
     "name": "stdout",
     "output_type": "stream",
     "text": [
      "ID: TEST_0576 Question: 올해 전기이륜차 보급 대수 Generated answer: 1200대가\n"
     ]
    },
    {
     "name": "stderr",
     "output_type": "stream",
     "text": [
      " 38%|███▊      | 578/1507 [27:57<30:51,  1.99s/it]"
     ]
    },
    {
     "name": "stdout",
     "output_type": "stream",
     "text": [
      "ID: TEST_0577 Question: 전기이륜차 경형 최대 보조금 Generated answer: 150만원\n"
     ]
    },
    {
     "name": "stderr",
     "output_type": "stream",
     "text": [
      " 38%|███▊      | 579/1507 [27:58<26:42,  1.73s/it]"
     ]
    },
    {
     "name": "stdout",
     "output_type": "stream",
     "text": [
      "ID: TEST_0578 Question: 전기이륜차 소형 최대 보조금 Generated answer: 260만원\n"
     ]
    },
    {
     "name": "stderr",
     "output_type": "stream",
     "text": [
      " 38%|███▊      | 580/1507 [27:59<23:46,  1.54s/it]"
     ]
    },
    {
     "name": "stdout",
     "output_type": "stream",
     "text": [
      "ID: TEST_0579 Question: 추가 보조금 금액 Generated answer: 20만원\n"
     ]
    },
    {
     "name": "stderr",
     "output_type": "stream",
     "text": [
      " 39%|███▊      | 581/1507 [28:00<21:42,  1.41s/it]"
     ]
    },
    {
     "name": "stdout",
     "output_type": "stream",
     "text": [
      "ID: TEST_0580 Question: 무상 사후관리 기간 도입 목적 Generated answer: 이용자 안전 강화\n"
     ]
    },
    {
     "name": "stderr",
     "output_type": "stream",
     "text": [
      " 39%|███▊      | 582/1507 [28:03<30:20,  1.97s/it]"
     ]
    },
    {
     "name": "stdout",
     "output_type": "stream",
     "text": [
      "ID: TEST_0581 Question: 코리아세일페스타 기간 동안 현대차가 할인하는 차종 수는 Generated answer: 8개 차종 1만3000대\n"
     ]
    },
    {
     "name": "stderr",
     "output_type": "stream",
     "text": [
      " 39%|███▊      | 583/1507 [28:06<36:24,  2.36s/it]"
     ]
    },
    {
     "name": "stdout",
     "output_type": "stream",
     "text": [
      "ID: TEST_0582 Question: 기아차 스포티지 최대 할인 금액은 Generated answer: 217만원\n"
     ]
    },
    {
     "name": "stderr",
     "output_type": "stream",
     "text": [
      " 39%|███▉      | 584/1507 [28:10<41:25,  2.69s/it]"
     ]
    },
    {
     "name": "stdout",
     "output_type": "stream",
     "text": [
      "ID: TEST_0583 Question: 르노삼성의 XM3가 속한 차량 부문은 Generated answer: 소형 스포츠유틸리티차량 ( SUV )\n"
     ]
    },
    {
     "name": "stderr",
     "output_type": "stream",
     "text": [
      " 39%|███▉      | 585/1507 [28:13<43:22,  2.82s/it]"
     ]
    },
    {
     "name": "stdout",
     "output_type": "stream",
     "text": [
      "ID: TEST_0584 Question: 한국GM가 48개월 할부로 제공하는 혜택은 Generated answer: 1 % 금리\n"
     ]
    },
    {
     "name": "stderr",
     "output_type": "stream",
     "text": [
      " 39%|███▉      | 586/1507 [28:16<45:31,  2.97s/it]"
     ]
    },
    {
     "name": "stdout",
     "output_type": "stream",
     "text": [
      "ID: TEST_0585 Question: 올해 1~9월 자동차 내수 판매량 증가율은 Generated answer: 6 ~ 7 %\n"
     ]
    },
    {
     "name": "stderr",
     "output_type": "stream",
     "text": [
      " 39%|███▉      | 587/1507 [28:21<51:54,  3.39s/it]"
     ]
    },
    {
     "name": "stdout",
     "output_type": "stream",
     "text": [
      "ID: TEST_0586 Question: 디즈니가 스트리밍으로 '뮬란'을 공개하기로 결정한 이유는? Generated answer: 극장 개봉을 위해\n"
     ]
    },
    {
     "name": "stderr",
     "output_type": "stream",
     "text": [
      " 39%|███▉      | 588/1507 [28:24<50:51,  3.32s/it]"
     ]
    },
    {
     "name": "stdout",
     "output_type": "stream",
     "text": [
      "ID: TEST_0587 Question: 삶은 계란 다이어트 개발자의 이름은 Generated answer: 아리엘 챈들러\n"
     ]
    },
    {
     "name": "stderr",
     "output_type": "stream",
     "text": [
      " 39%|███▉      | 589/1507 [28:26<47:14,  3.09s/it]"
     ]
    },
    {
     "name": "stdout",
     "output_type": "stream",
     "text": [
      "ID: TEST_0588 Question: 이 다이어트를 통해 2주 만에 감량할 수 있는 체중은 Generated answer: 25파운드\n"
     ]
    },
    {
     "name": "stderr",
     "output_type": "stream",
     "text": [
      " 39%|███▉      | 590/1507 [28:29<47:04,  3.08s/it]"
     ]
    },
    {
     "name": "stdout",
     "output_type": "stream",
     "text": [
      "ID: TEST_0589 Question: 삶은 계란 다이어트의 아침 식사에 포함될 수 있는 과일은 Generated answer: 저탄수화물 과일\n"
     ]
    },
    {
     "name": "stderr",
     "output_type": "stream",
     "text": [
      " 39%|███▉      | 591/1507 [28:33<47:59,  3.14s/it]"
     ]
    },
    {
     "name": "stdout",
     "output_type": "stream",
     "text": [
      "ID: TEST_0590 Question: 권장되는 신체 활동 중 하나는 Generated answer: 자전거 타기ㆍ에어로빅ㆍ빠른 걷기\n"
     ]
    },
    {
     "name": "stderr",
     "output_type": "stream",
     "text": [
      " 39%|███▉      | 592/1507 [28:36<49:27,  3.24s/it]"
     ]
    },
    {
     "name": "stdout",
     "output_type": "stream",
     "text": [
      "ID: TEST_0591 Question: 피해야 할 고탄수화물 과일 예시는 Generated answer: 바나나ㆍ파인애플ㆍ망고ㆍ건조 과일\n"
     ]
    },
    {
     "name": "stderr",
     "output_type": "stream",
     "text": [
      " 39%|███▉      | 593/1507 [28:40<53:55,  3.54s/it]"
     ]
    },
    {
     "name": "stdout",
     "output_type": "stream",
     "text": [
      "ID: TEST_0592 Question: 3분기에 매출액 대비 영업이익률은 몇 퍼센트였나 Generated answer: 7. 25 %\n"
     ]
    },
    {
     "name": "stderr",
     "output_type": "stream",
     "text": [
      " 39%|███▉      | 594/1507 [28:45<57:44,  3.79s/it]"
     ]
    },
    {
     "name": "stdout",
     "output_type": "stream",
     "text": [
      "ID: TEST_0593 Question: 삼성전자의 3분기 순이익은 얼마였나 Generated answer: 9조3607억원\n"
     ]
    },
    {
     "name": "stderr",
     "output_type": "stream",
     "text": [
      " 39%|███▉      | 595/1507 [28:49<1:00:17,  3.97s/it]"
     ]
    },
    {
     "name": "stdout",
     "output_type": "stream",
     "text": [
      "ID: TEST_0594 Question: 음식료 업종의 3분기 순이익 증가율은 몇 퍼센트였나 Generated answer: 85. 5 %\n"
     ]
    },
    {
     "name": "stderr",
     "output_type": "stream",
     "text": [
      " 40%|███▉      | 596/1507 [28:54<1:02:08,  4.09s/it]"
     ]
    },
    {
     "name": "stdout",
     "output_type": "stream",
     "text": [
      "ID: TEST_0595 Question: 3분기 원화값은 달러당 얼마로 마감됐나 Generated answer: 1103. 8원\n"
     ]
    },
    {
     "name": "stderr",
     "output_type": "stream",
     "text": [
      " 40%|███▉      | 597/1507 [28:58<1:03:26,  4.18s/it]"
     ]
    },
    {
     "name": "stdout",
     "output_type": "stream",
     "text": [
      "ID: TEST_0596 Question: 코스닥 상장사 3분기 매출액은 얼마였나 Generated answer: 50조6740억원\n"
     ]
    },
    {
     "name": "stderr",
     "output_type": "stream",
     "text": [
      " 40%|███▉      | 598/1507 [28:59<50:43,  3.35s/it]  "
     ]
    },
    {
     "name": "stdout",
     "output_type": "stream",
     "text": [
      "ID: TEST_0597 Question: 이번 판매행사를 통한 전체 매출액은 Generated answer: 10억원\n"
     ]
    },
    {
     "name": "stderr",
     "output_type": "stream",
     "text": [
      " 40%|███▉      | 599/1507 [29:01<40:28,  2.67s/it]"
     ]
    },
    {
     "name": "stdout",
     "output_type": "stream",
     "text": [
      "ID: TEST_0598 Question: 온라인 쇼핑몰에서 판매된 농산물 매출액은 Generated answer: 1억원\n"
     ]
    },
    {
     "name": "stderr",
     "output_type": "stream",
     "text": [
      " 40%|███▉      | 600/1507 [29:01<32:43,  2.16s/it]"
     ]
    },
    {
     "name": "stdout",
     "output_type": "stream",
     "text": [
      "ID: TEST_0599 Question: 강진군 로컬푸드 직매장의 매출 증가율은 Generated answer: 40 % ( 2억원 )\n"
     ]
    },
    {
     "name": "stderr",
     "output_type": "stream",
     "text": [
      " 40%|███▉      | 601/1507 [29:03<28:48,  1.91s/it]"
     ]
    },
    {
     "name": "stdout",
     "output_type": "stream",
     "text": [
      "ID: TEST_0600 Question: 홍보 서한문을 받은 기관 수는 Generated answer: 504개\n"
     ]
    },
    {
     "name": "stderr",
     "output_type": "stream",
     "text": [
      " 40%|███▉      | 602/1507 [29:04<24:27,  1.62s/it]"
     ]
    },
    {
     "name": "stdout",
     "output_type": "stream",
     "text": [
      "ID: TEST_0601 Question: 청탁금지법에 의한 선물 한도는 Generated answer: 20만원\n"
     ]
    },
    {
     "name": "stderr",
     "output_type": "stream",
     "text": [
      " 40%|████      | 603/1507 [29:07<32:27,  2.15s/it]"
     ]
    },
    {
     "name": "stdout",
     "output_type": "stream",
     "text": [
      "ID: TEST_0602 Question: 오늘 고남면에서 부서지거나 잠긴 선박 수 Generated answer: 25척이\n"
     ]
    },
    {
     "name": "stderr",
     "output_type": "stream",
     "text": [
      " 40%|████      | 604/1507 [29:10<36:01,  2.39s/it]"
     ]
    },
    {
     "name": "stdout",
     "output_type": "stream",
     "text": [
      "ID: TEST_0603 Question: 백사장해수욕장에서 대피한 야영객 수 Generated answer: 20여 명\n"
     ]
    },
    {
     "name": "stderr",
     "output_type": "stream",
     "text": [
      " 40%|████      | 605/1507 [29:13<40:00,  2.66s/it]"
     ]
    },
    {
     "name": "stdout",
     "output_type": "stream",
     "text": [
      "ID: TEST_0604 Question: 보령시 대천항에서 줄이 풀린 어선 수 Generated answer: 12척이\n"
     ]
    },
    {
     "name": "stderr",
     "output_type": "stream",
     "text": [
      " 40%|████      | 606/1507 [29:17<42:49,  2.85s/it]"
     ]
    },
    {
     "name": "stdout",
     "output_type": "stream",
     "text": [
      "ID: TEST_0605 Question: 남당항 해상에서 침수된 여객선 수 Generated answer: 도선 ( 여객선 ) 1척\n"
     ]
    },
    {
     "name": "stderr",
     "output_type": "stream",
     "text": [
      " 40%|████      | 607/1507 [29:20<44:41,  2.98s/it]"
     ]
    },
    {
     "name": "stdout",
     "output_type": "stream",
     "text": [
      "ID: TEST_0606 Question: 당진에 내린 비의 양 Generated answer: 80. 5㎜\n"
     ]
    },
    {
     "name": "stderr",
     "output_type": "stream",
     "text": [
      " 40%|████      | 608/1507 [29:23<42:52,  2.86s/it]"
     ]
    },
    {
     "name": "stdout",
     "output_type": "stream",
     "text": [
      "ID: TEST_0607 Question: 광화문광장 재구조화 사업의 총 세금 투입 비용 Generated answer: 791억원\n"
     ]
    },
    {
     "name": "stderr",
     "output_type": "stream",
     "text": [
      " 40%|████      | 609/1507 [29:25<42:58,  2.87s/it]"
     ]
    },
    {
     "name": "stdout",
     "output_type": "stream",
     "text": [
      "ID: TEST_0608 Question: 광화문광장 재구조화 사업의 완료 계획 연도 Generated answer: 내년 10월\n"
     ]
    },
    {
     "name": "stderr",
     "output_type": "stream",
     "text": [
      " 40%|████      | 610/1507 [29:29<44:47,  3.00s/it]"
     ]
    },
    {
     "name": "stdout",
     "output_type": "stream",
     "text": [
      "ID: TEST_0609 Question: 광화문광장 재구조화 졸속 추진 중단을 촉구하는 단체 수 Generated answer: 9개 단체\n"
     ]
    },
    {
     "name": "stderr",
     "output_type": "stream",
     "text": [
      " 41%|████      | 611/1507 [29:32<46:03,  3.08s/it]"
     ]
    },
    {
     "name": "stdout",
     "output_type": "stream",
     "text": [
      "ID: TEST_0610 Question: 안철수 국민의당 대표가 비판한 이유 중 하나 Generated answer: 날림행정\n"
     ]
    },
    {
     "name": "stderr",
     "output_type": "stream",
     "text": [
      " 41%|████      | 612/1507 [29:35<45:33,  3.05s/it]"
     ]
    },
    {
     "name": "stdout",
     "output_type": "stream",
     "text": [
      "ID: TEST_0611 Question: 김태윤 한양대 교수의 비판 대상 Generated answer: “ 광화문광장 조성 사업은 고 박원순\n"
     ]
    },
    {
     "name": "stderr",
     "output_type": "stream",
     "text": [
      " 41%|████      | 613/1507 [29:39<47:55,  3.22s/it]"
     ]
    },
    {
     "name": "stdout",
     "output_type": "stream",
     "text": [
      "ID: TEST_0612 Question: 서울 아파트 3.3㎡당 평균 전셋값이 2년 전보다 오른 비율 Generated answer: 10. 2 %\n"
     ]
    },
    {
     "name": "stderr",
     "output_type": "stream",
     "text": [
      " 41%|████      | 614/1507 [29:43<52:12,  3.51s/it]"
     ]
    },
    {
     "name": "stdout",
     "output_type": "stream",
     "text": [
      "ID: TEST_0613 Question: 계약갱신청구권을 행사할 경우 임대료 인상 한도 Generated answer: 2400만원\n"
     ]
    },
    {
     "name": "stderr",
     "output_type": "stream",
     "text": [
      " 41%|████      | 615/1507 [29:46<52:07,  3.51s/it]"
     ]
    },
    {
     "name": "stdout",
     "output_type": "stream",
     "text": [
      "ID: TEST_0614 Question: 최대로 증가할 수 있는 임대료 인상 비율 Generated answer: 5 % 이내\n"
     ]
    },
    {
     "name": "stderr",
     "output_type": "stream",
     "text": [
      " 41%|████      | 616/1507 [29:51<56:00,  3.77s/it]"
     ]
    },
    {
     "name": "stdout",
     "output_type": "stream",
     "text": [
      "ID: TEST_0615 Question: 84㎡ 아파트 전셋값이 오른 금액 Generated answer: 7억2000만원\n"
     ]
    },
    {
     "name": "stderr",
     "output_type": "stream",
     "text": [
      " 41%|████      | 617/1507 [29:55<58:03,  3.91s/it]"
     ]
    },
    {
     "name": "stdout",
     "output_type": "stream",
     "text": [
      "ID: TEST_0616 Question: 임대주택사업자가 과태료 처분을 받는 임대료 초과 비율 Generated answer: 5 % 넘\n"
     ]
    },
    {
     "name": "stderr",
     "output_type": "stream",
     "text": [
      " 41%|████      | 618/1507 [29:58<53:07,  3.59s/it]"
     ]
    },
    {
     "name": "stdout",
     "output_type": "stream",
     "text": [
      "ID: TEST_0617 Question: 모금액이 100억 원을 넘은 날짜는 Generated answer: 14일 오전 9시\n"
     ]
    },
    {
     "name": "stderr",
     "output_type": "stream",
     "text": [
      " 41%|████      | 619/1507 [30:02<54:33,  3.69s/it]"
     ]
    },
    {
     "name": "stdout",
     "output_type": "stream",
     "text": [
      "ID: TEST_0618 Question: MBC가 긴급 편성한 프로그램 이름은 Generated answer: 우리 함께 이겨냅시다\n"
     ]
    },
    {
     "name": "stderr",
     "output_type": "stream",
     "text": [
      " 41%|████      | 620/1507 [30:05<53:49,  3.64s/it]"
     ]
    },
    {
     "name": "stdout",
     "output_type": "stream",
     "text": [
      "ID: TEST_0619 Question: 희망브리지에서 파견한 세탁구호차량의 건조기 대수는 Generated answer: 3대가\n"
     ]
    },
    {
     "name": "stderr",
     "output_type": "stream",
     "text": [
      " 41%|████      | 621/1507 [30:09<55:57,  3.79s/it]"
     ]
    },
    {
     "name": "stdout",
     "output_type": "stream",
     "text": [
      "ID: TEST_0620 Question: 금일봉을 전달한 사람은 Generated answer: 문재인 대통령과 김정숙 여사\n"
     ]
    },
    {
     "name": "stderr",
     "output_type": "stream",
     "text": [
      " 41%|████▏     | 622/1507 [30:13<54:22,  3.69s/it]"
     ]
    },
    {
     "name": "stdout",
     "output_type": "stream",
     "text": [
      "ID: TEST_0621 Question: 방송인 유병재가 기부한 금액은 Generated answer: 1천만 원\n"
     ]
    },
    {
     "name": "stderr",
     "output_type": "stream",
     "text": [
      " 41%|████▏     | 623/1507 [30:16<51:53,  3.52s/it]"
     ]
    },
    {
     "name": "stdout",
     "output_type": "stream",
     "text": [
      "ID: TEST_0622 Question: 김동관의 나이는 Generated answer: 55. 7세\n"
     ]
    },
    {
     "name": "stderr",
     "output_type": "stream",
     "text": [
      " 41%|████▏     | 624/1507 [30:19<50:51,  3.46s/it]"
     ]
    },
    {
     "name": "stdout",
     "output_type": "stream",
     "text": [
      "ID: TEST_0623 Question: 한화그룹 CEO들의 최근 평균 연령은 Generated answer: 55. 7세\n"
     ]
    },
    {
     "name": "stderr",
     "output_type": "stream",
     "text": [
      " 41%|████▏     | 625/1507 [30:23<52:55,  3.60s/it]"
     ]
    },
    {
     "name": "stdout",
     "output_type": "stream",
     "text": [
      "ID: TEST_0624 Question: 한화그룹의 자산 규모 순위는 Generated answer: 71. 7조원\n"
     ]
    },
    {
     "name": "stderr",
     "output_type": "stream",
     "text": [
      " 42%|████▏     | 626/1507 [30:27<53:25,  3.64s/it]"
     ]
    },
    {
     "name": "stdout",
     "output_type": "stream",
     "text": [
      "ID: TEST_0625 Question: 포스코의 자산 규모는 Generated answer: 80. 3조\n"
     ]
    },
    {
     "name": "stderr",
     "output_type": "stream",
     "text": [
      " 42%|████▏     | 627/1507 [30:30<51:40,  3.52s/it]"
     ]
    },
    {
     "name": "stdout",
     "output_type": "stream",
     "text": [
      "ID: TEST_0626 Question: 김동관의 동생 이름은 Generated answer: 김승연 ( 68 )\n"
     ]
    },
    {
     "name": "stderr",
     "output_type": "stream",
     "text": [
      " 42%|████▏     | 628/1507 [30:32<45:59,  3.14s/it]"
     ]
    },
    {
     "name": "stdout",
     "output_type": "stream",
     "text": [
      "ID: TEST_0627 Question: 중국의 부채 투명성 문제를 지적한 사람 Generated answer: 라인하트\n"
     ]
    },
    {
     "name": "stderr",
     "output_type": "stream",
     "text": [
      " 42%|████▏     | 629/1507 [30:35<41:45,  2.85s/it]"
     ]
    },
    {
     "name": "stdout",
     "output_type": "stream",
     "text": [
      "ID: TEST_0628 Question: 성공기업 달성 기준 성장률 Generated answer: 50 % 이상, 매출액영업이익률 10 % 이상\n"
     ]
    },
    {
     "name": "stderr",
     "output_type": "stream",
     "text": [
      " 42%|████▏     | 630/1507 [30:37<38:48,  2.66s/it]"
     ]
    },
    {
     "name": "stdout",
     "output_type": "stream",
     "text": [
      "ID: TEST_0629 Question: 보고서 발간 날짜 Generated answer: 25일 발간\n"
     ]
    },
    {
     "name": "stderr",
     "output_type": "stream",
     "text": [
      " 42%|████▏     | 631/1507 [30:39<36:43,  2.52s/it]"
     ]
    },
    {
     "name": "stdout",
     "output_type": "stream",
     "text": [
      "ID: TEST_0630 Question: 중진공의 분석 대상 기업 수 Generated answer: 3만개\n"
     ]
    },
    {
     "name": "stderr",
     "output_type": "stream",
     "text": [
      " 42%|████▏     | 632/1507 [30:41<35:20,  2.42s/it]"
     ]
    },
    {
     "name": "stdout",
     "output_type": "stream",
     "text": [
      "ID: TEST_0631 Question: 성장 단계 세 번째 Generated answer: 창업기, 성장기, 성숙기\n"
     ]
    },
    {
     "name": "stderr",
     "output_type": "stream",
     "text": [
      " 42%|████▏     | 633/1507 [30:43<34:17,  2.35s/it]"
     ]
    },
    {
     "name": "stdout",
     "output_type": "stream",
     "text": [
      "ID: TEST_0632 Question: 중진공 홈페이지 주소 Generated answer: kosmes. or. kr\n"
     ]
    },
    {
     "name": "stderr",
     "output_type": "stream",
     "text": [
      " 42%|████▏     | 634/1507 [30:44<28:54,  1.99s/it]"
     ]
    },
    {
     "name": "stdout",
     "output_type": "stream",
     "text": [
      "ID: TEST_0633 Question: 홍보 전단지 제작 부수 Generated answer: 10만 부를\n"
     ]
    },
    {
     "name": "stderr",
     "output_type": "stream",
     "text": [
      " 42%|████▏     | 635/1507 [30:48<34:22,  2.37s/it]"
     ]
    },
    {
     "name": "stdout",
     "output_type": "stream",
     "text": [
      "ID: TEST_0634 Question: 공동행동 측이 입법 시한으로 설정한 날짜 Generated answer: 12월 31일\n"
     ]
    },
    {
     "name": "stderr",
     "output_type": "stream",
     "text": [
      " 42%|████▏     | 636/1507 [30:52<40:54,  2.82s/it]"
     ]
    },
    {
     "name": "stdout",
     "output_type": "stream",
     "text": [
      "ID: TEST_0635 Question: 3분기 코스피 상장사 순이익 증가율은 Generated answer: 81. 3 %\n"
     ]
    },
    {
     "name": "stderr",
     "output_type": "stream",
     "text": [
      " 42%|████▏     | 637/1507 [30:55<45:11,  3.12s/it]"
     ]
    },
    {
     "name": "stdout",
     "output_type": "stream",
     "text": [
      "ID: TEST_0636 Question: 음식료품 업종 순이익 증가율은 Generated answer: 85. 5 %\n"
     ]
    },
    {
     "name": "stderr",
     "output_type": "stream",
     "text": [
      " 42%|████▏     | 638/1507 [31:00<50:40,  3.50s/it]"
     ]
    },
    {
     "name": "stdout",
     "output_type": "stream",
     "text": [
      "ID: TEST_0637 Question: 삼성전자의 3분기 순이익 증가율은 Generated answer: 48. 9 %\n"
     ]
    },
    {
     "name": "stderr",
     "output_type": "stream",
     "text": [
      " 42%|████▏     | 639/1507 [31:04<54:21,  3.76s/it]"
     ]
    },
    {
     "name": "stdout",
     "output_type": "stream",
     "text": [
      "ID: TEST_0638 Question: 현대자동차의 3분기 순이익은 Generated answer: 1888억원\n"
     ]
    },
    {
     "name": "stderr",
     "output_type": "stream",
     "text": [
      " 42%|████▏     | 640/1507 [31:09<57:06,  3.95s/it]"
     ]
    },
    {
     "name": "stdout",
     "output_type": "stream",
     "text": [
      "ID: TEST_0639 Question: 코스닥 상장사의 3분기 매출액 증가율은 Generated answer: 5. 3 %\n"
     ]
    },
    {
     "name": "stderr",
     "output_type": "stream",
     "text": [
      " 43%|████▎     | 641/1507 [31:10<44:41,  3.10s/it]"
     ]
    },
    {
     "name": "stdout",
     "output_type": "stream",
     "text": [
      "ID: TEST_0640 Question: 마을기업 청년취업 지원사업 신청서 제출 방법 Generated answer: 소재지 관할 구청 담당부서에 직접 방문 또는 우편\n"
     ]
    },
    {
     "name": "stderr",
     "output_type": "stream",
     "text": [
      " 43%|████▎     | 642/1507 [31:11<35:59,  2.50s/it]"
     ]
    },
    {
     "name": "stdout",
     "output_type": "stream",
     "text": [
      "ID: TEST_0641 Question: 선정된 마을기업에 지원되는 인건비 상한액 Generated answer: 180만원\n"
     ]
    },
    {
     "name": "stderr",
     "output_type": "stream",
     "text": [
      " 43%|████▎     | 643/1507 [31:12<29:53,  2.08s/it]"
     ]
    },
    {
     "name": "stdout",
     "output_type": "stream",
     "text": [
      "ID: TEST_0642 Question: 지원 대상 청년의 연령 범위 Generated answer: 만 18 ~ 39세\n"
     ]
    },
    {
     "name": "stderr",
     "output_type": "stream",
     "text": [
      " 43%|████▎     | 644/1507 [31:13<25:39,  1.78s/it]"
     ]
    },
    {
     "name": "stdout",
     "output_type": "stream",
     "text": [
      "ID: TEST_0643 Question: 사업 기간 동안 제공되는 월급여 Generated answer: 200만원\n"
     ]
    },
    {
     "name": "stderr",
     "output_type": "stream",
     "text": [
      " 43%|████▎     | 645/1507 [31:14<22:39,  1.58s/it]"
     ]
    },
    {
     "name": "stdout",
     "output_type": "stream",
     "text": [
      "ID: TEST_0644 Question: 사업 기간 종료 후 정착 시 제공되는 인센티브 Generated answer: 1000만원\n"
     ]
    },
    {
     "name": "stderr",
     "output_type": "stream",
     "text": [
      " 43%|████▎     | 646/1507 [31:18<34:38,  2.41s/it]"
     ]
    },
    {
     "name": "stdout",
     "output_type": "stream",
     "text": [
      "ID: TEST_0645 Question: 정부가 사회적 거리두기를 2단계로 격상한 기간은 Generated answer: 사흘 만에 2단계 격상 카드를 꺼냈다. 신종 코로나바이러스 감염증 ( 코로나19 ) 확진자가 닷새째 300명 넘자 급해졌다.\n"
     ]
    },
    {
     "name": "stderr",
     "output_type": "stream",
     "text": [
      " 43%|████▎     | 647/1507 [31:23<43:08,  3.01s/it]"
     ]
    },
    {
     "name": "stdout",
     "output_type": "stream",
     "text": [
      "ID: TEST_0646 Question: 최근 1주간 수도권의 하루 평균 확진자는 Generated answer: 175. 1명\n"
     ]
    },
    {
     "name": "stderr",
     "output_type": "stream",
     "text": [
      " 43%|████▎     | 648/1507 [31:28<50:57,  3.56s/it]"
     ]
    },
    {
     "name": "stdout",
     "output_type": "stream",
     "text": [
      "ID: TEST_0647 Question: 2단계 격상 기준에서 호남권의 확진자 수는 Generated answer: 27. 4명\n"
     ]
    },
    {
     "name": "stderr",
     "output_type": "stream",
     "text": [
      " 43%|████▎     | 649/1507 [31:32<52:27,  3.67s/it]"
     ]
    },
    {
     "name": "stdout",
     "output_type": "stream",
     "text": [
      "ID: TEST_0648 Question: 중대본의 1차장은 Generated answer: 박능후\n"
     ]
    },
    {
     "name": "stderr",
     "output_type": "stream",
     "text": [
      " 43%|████▎     | 650/1507 [31:36<55:25,  3.88s/it]"
     ]
    },
    {
     "name": "stdout",
     "output_type": "stream",
     "text": [
      "ID: TEST_0649 Question: 2단계에서 문을 열 수 없는 고위험시설은 Generated answer: 노래방 · PC방\n"
     ]
    },
    {
     "name": "stderr",
     "output_type": "stream",
     "text": [
      " 43%|████▎     | 651/1507 [31:38<49:31,  3.47s/it]"
     ]
    },
    {
     "name": "stdout",
     "output_type": "stream",
     "text": [
      "ID: TEST_0650 Question: 김학주의 전 소속 기관은 Generated answer: 삼성증권 리서치센터장을 지낸 한동대\n"
     ]
    },
    {
     "name": "stderr",
     "output_type": "stream",
     "text": [
      " 43%|████▎     | 652/1507 [31:41<47:21,  3.32s/it]"
     ]
    },
    {
     "name": "stdout",
     "output_type": "stream",
     "text": [
      "ID: TEST_0651 Question: 추미애 장관이 특수활동비 사용 내역 조사를 지시한 날짜 Generated answer: 6일 추 장관이 대검과 각 지방 검찰청 특활비 사용 내역을 대검 감찰부에 조사하도록 한 지시는 위법하다는 주장이 잇따르고 있다.\n"
     ]
    },
    {
     "name": "stderr",
     "output_type": "stream",
     "text": [
      " 43%|████▎     | 653/1507 [31:45<47:07,  3.31s/it]"
     ]
    },
    {
     "name": "stdout",
     "output_type": "stream",
     "text": [
      "ID: TEST_0652 Question: 추미애 장관이 사용한 '감찰'이 포함된 부서 Generated answer: 대검 감찰부\n"
     ]
    },
    {
     "name": "stderr",
     "output_type": "stream",
     "text": [
      " 43%|████▎     | 654/1507 [31:48<46:15,  3.25s/it]"
     ]
    },
    {
     "name": "stdout",
     "output_type": "stream",
     "text": [
      "ID: TEST_0653 Question: 추미애 장관이 국회 법제사법위원회에서 언급한 특수활동비 총액 Generated answer: 주머닛돈\n"
     ]
    },
    {
     "name": "stderr",
     "output_type": "stream",
     "text": [
      " 43%|████▎     | 655/1507 [31:50<42:21,  2.98s/it]"
     ]
    },
    {
     "name": "stdout",
     "output_type": "stream",
     "text": [
      "ID: TEST_0654 Question: 추미애 장관의 권한 침해를 주장한 법무법인의 이름 Generated answer: 이완규 변호사 ( 법무법인 동인\n"
     ]
    },
    {
     "name": "stderr",
     "output_type": "stream",
     "text": [
      " 44%|████▎     | 656/1507 [31:54<43:40,  3.08s/it]"
     ]
    },
    {
     "name": "stdout",
     "output_type": "stream",
     "text": [
      "ID: TEST_0655 Question: 추미애 장관의 지시에 대해 수사를 의뢰한 시민단체 Generated answer: 법치주의바로세우기행동연대\n"
     ]
    },
    {
     "name": "stderr",
     "output_type": "stream",
     "text": [
      " 44%|████▎     | 657/1507 [31:56<39:52,  2.81s/it]"
     ]
    },
    {
     "name": "stdout",
     "output_type": "stream",
     "text": [
      "ID: TEST_0656 Question: 백세미 손모내기 시연회가 열린 날짜 Generated answer: 지난 28일\n"
     ]
    },
    {
     "name": "stderr",
     "output_type": "stream",
     "text": [
      " 44%|████▎     | 658/1507 [31:58<37:09,  2.63s/it]"
     ]
    },
    {
     "name": "stdout",
     "output_type": "stream",
     "text": [
      "ID: TEST_0657 Question: 백세미 재배 면적 Generated answer: 230여ha\n"
     ]
    },
    {
     "name": "stderr",
     "output_type": "stream",
     "text": [
      " 44%|████▎     | 659/1507 [32:00<35:14,  2.49s/it]"
     ]
    },
    {
     "name": "stdout",
     "output_type": "stream",
     "text": [
      "ID: TEST_0658 Question: 백세미 도정 방식 Generated answer: 쌀 도정 역시 GAP 인증 도정시설에서 가공하는 등 철저한 품질 관리\n"
     ]
    },
    {
     "name": "stderr",
     "output_type": "stream",
     "text": [
      " 44%|████▍     | 660/1507 [32:03<35:14,  2.50s/it]"
     ]
    },
    {
     "name": "stdout",
     "output_type": "stream",
     "text": [
      "ID: TEST_0659 Question: 지난해 백세미 판매량 Generated answer: 35억 원\n"
     ]
    },
    {
     "name": "stderr",
     "output_type": "stream",
     "text": [
      " 44%|████▍     | 661/1507 [32:05<34:54,  2.48s/it]"
     ]
    },
    {
     "name": "stdout",
     "output_type": "stream",
     "text": [
      "ID: TEST_0660 Question: 올해 백세미 매출 목표 Generated answer: 50억 원\n"
     ]
    },
    {
     "name": "stderr",
     "output_type": "stream",
     "text": [
      " 44%|████▍     | 662/1507 [32:09<40:40,  2.89s/it]"
     ]
    },
    {
     "name": "stdout",
     "output_type": "stream",
     "text": [
      "ID: TEST_0661 Question: 한 모 씨의 집이 있는 도시는 Generated answer: 세종시에\n"
     ]
    },
    {
     "name": "stderr",
     "output_type": "stream",
     "text": [
      " 44%|████▍     | 663/1507 [32:13<46:56,  3.34s/it]"
     ]
    },
    {
     "name": "stdout",
     "output_type": "stream",
     "text": [
      "ID: TEST_0662 Question: 한 모 씨가 매매 계약을 체결한 날짜는 Generated answer: 지난달 29일\n"
     ]
    },
    {
     "name": "stderr",
     "output_type": "stream",
     "text": [
      " 44%|████▍     | 664/1507 [32:17<49:04,  3.49s/it]"
     ]
    },
    {
     "name": "stdout",
     "output_type": "stream",
     "text": [
      "ID: TEST_0663 Question: 세입자의 계약갱신요구권을 무시하는 경우 필요한 소송은 Generated answer: 명도 소송을 하라 ’ 고 한다 ” 고 말했다. 세입자가 ‘ 버티기 ’ 를 하면 한 씨의 손해는 크다. 명도 소송\n"
     ]
    },
    {
     "name": "stderr",
     "output_type": "stream",
     "text": [
      " 44%|████▍     | 665/1507 [32:21<50:19,  3.59s/it]"
     ]
    },
    {
     "name": "stdout",
     "output_type": "stream",
     "text": [
      "ID: TEST_0664 Question: 성 모 씨가 사는 동네는 Generated answer: 서울 흑석동\n"
     ]
    },
    {
     "name": "stderr",
     "output_type": "stream",
     "text": [
      " 44%|████▍     | 666/1507 [32:25<53:38,  3.83s/it]"
     ]
    },
    {
     "name": "stdout",
     "output_type": "stream",
     "text": [
      "ID: TEST_0665 Question: 전세계약 만료 시기가 10월인 세입자에게 미리 알린 날짜는 Generated answer: 지난 6월\n"
     ]
    },
    {
     "name": "stderr",
     "output_type": "stream",
     "text": [
      " 44%|████▍     | 667/1507 [32:29<51:21,  3.67s/it]"
     ]
    },
    {
     "name": "stdout",
     "output_type": "stream",
     "text": [
      "ID: TEST_0666 Question: 크로아티아 국토 면적은 한국의 얼마쯤 되는가 Generated answer: 인구의 10 %\n"
     ]
    },
    {
     "name": "stderr",
     "output_type": "stream",
     "text": [
      " 44%|████▍     | 668/1507 [32:32<48:31,  3.47s/it]"
     ]
    },
    {
     "name": "stdout",
     "output_type": "stream",
     "text": [
      "ID: TEST_0667 Question: 크로아티아에 있는 섬의 대략적인 수 Generated answer: 약 1000개\n"
     ]
    },
    {
     "name": "stderr",
     "output_type": "stream",
     "text": [
      " 44%|████▍     | 669/1507 [32:34<44:20,  3.18s/it]"
     ]
    },
    {
     "name": "stdout",
     "output_type": "stream",
     "text": [
      "ID: TEST_0668 Question: 코로나19로 크로아티아 국경을 다시 개방한 날짜 Generated answer: 7월 1일\n"
     ]
    },
    {
     "name": "stderr",
     "output_type": "stream",
     "text": [
      " 44%|████▍     | 670/1507 [32:37<44:47,  3.21s/it]"
     ]
    },
    {
     "name": "stdout",
     "output_type": "stream",
     "text": [
      "ID: TEST_0669 Question: 연간 크로아티아를 방문하는 한국 관광객 수 Generated answer: 50만명\n"
     ]
    },
    {
     "name": "stderr",
     "output_type": "stream",
     "text": [
      " 45%|████▍     | 671/1507 [32:41<44:59,  3.23s/it]"
     ]
    },
    {
     "name": "stdout",
     "output_type": "stream",
     "text": [
      "ID: TEST_0670 Question: 실연 박물관'이 있는 크로아티아의 수도 Generated answer: 자그레브\n"
     ]
    },
    {
     "name": "stderr",
     "output_type": "stream",
     "text": [
      " 45%|████▍     | 672/1507 [32:44<45:15,  3.25s/it]"
     ]
    },
    {
     "name": "stdout",
     "output_type": "stream",
     "text": [
      "ID: TEST_0671 Question: 국내 인구의 몇 퍼센트를 위한 백신을 코백스 퍼실리티를 통해 우선 확보할 계획인가 Generated answer: 20 % 인\n"
     ]
    },
    {
     "name": "stderr",
     "output_type": "stream",
     "text": [
      " 45%|████▍     | 673/1507 [32:47<45:16,  3.26s/it]"
     ]
    },
    {
     "name": "stdout",
     "output_type": "stream",
     "text": [
      "ID: TEST_0672 Question: 제넥신의 백신 종류는 무엇인가 Generated answer: 핵산 ( DNA ) 백신\n"
     ]
    },
    {
     "name": "stderr",
     "output_type": "stream",
     "text": [
      " 45%|████▍     | 674/1507 [32:51<45:24,  3.27s/it]"
     ]
    },
    {
     "name": "stdout",
     "output_type": "stream",
     "text": [
      "ID: TEST_0673 Question: 코로나19 글로벌 임상시험에서 백신 관련 시험 건수는 몇 개인가 Generated answer: 2건이다\n"
     ]
    },
    {
     "name": "stderr",
     "output_type": "stream",
     "text": [
      " 45%|████▍     | 675/1507 [32:54<45:27,  3.28s/it]"
     ]
    },
    {
     "name": "stdout",
     "output_type": "stream",
     "text": [
      "ID: TEST_0674 Question: 국내에서 코로나19 관련 임상시험계획이 승인된 전체 건수는 몇 개인가 Generated answer: 20건으로\n"
     ]
    },
    {
     "name": "stderr",
     "output_type": "stream",
     "text": [
      " 45%|████▍     | 676/1507 [32:58<47:12,  3.41s/it]"
     ]
    },
    {
     "name": "stdout",
     "output_type": "stream",
     "text": [
      "ID: TEST_0675 Question: 정부가 코로나19 백신 접종 1단계에서 우선 접종 대상자로 고려하는 집단은 누구인가 Generated answer: 건강 취약계층\n"
     ]
    },
    {
     "name": "stderr",
     "output_type": "stream",
     "text": [
      " 45%|████▍     | 677/1507 [32:59<40:21,  2.92s/it]"
     ]
    },
    {
     "name": "stdout",
     "output_type": "stream",
     "text": [
      "ID: TEST_0676 Question: 공공디자이너 제도를 도입한 기관은 어디인가 Generated answer: 한국농어촌공사\n"
     ]
    },
    {
     "name": "stderr",
     "output_type": "stream",
     "text": [
      " 45%|████▍     | 678/1507 [33:02<37:19,  2.70s/it]"
     ]
    },
    {
     "name": "stdout",
     "output_type": "stream",
     "text": [
      "ID: TEST_0677 Question: 초대 총괄디자이너로 참여한 홍익대학원 교수 이름은 무엇인가 Generated answer: 장영호 홍익대학원 산업미술대학원 공공디자인전공 교수, 최령\n"
     ]
    },
    {
     "name": "stderr",
     "output_type": "stream",
     "text": [
      " 45%|████▌     | 679/1507 [33:04<35:10,  2.55s/it]"
     ]
    },
    {
     "name": "stdout",
     "output_type": "stream",
     "text": [
      "ID: TEST_0678 Question: 공공건축 기획이 예정된 시범 운영 지구의 수는 몇 개인가 Generated answer: 9곳에서\n"
     ]
    },
    {
     "name": "stderr",
     "output_type": "stream",
     "text": [
      " 45%|████▌     | 680/1507 [33:06<33:36,  2.44s/it]"
     ]
    },
    {
     "name": "stdout",
     "output_type": "stream",
     "text": [
      "ID: TEST_0679 Question: 공공디자인 가이드라인 발간 시기는 언제인가 Generated answer: 연말 ‘ 농산어촌 공공디자인 가이드라인 ( 설계편 ) ’ 을 발간\n"
     ]
    },
    {
     "name": "stderr",
     "output_type": "stream",
     "text": [
      " 45%|████▌     | 681/1507 [33:08<32:34,  2.37s/it]"
     ]
    },
    {
     "name": "stdout",
     "output_type": "stream",
     "text": [
      "ID: TEST_0680 Question: 공공디자인 가이드라인에서 중점을 둔 세 가지는 무엇인가 Generated answer: 공간효율, 주민행복, 사회적책임\n"
     ]
    },
    {
     "name": "stderr",
     "output_type": "stream",
     "text": [
      " 45%|████▌     | 682/1507 [33:11<36:18,  2.64s/it]"
     ]
    },
    {
     "name": "stdout",
     "output_type": "stream",
     "text": [
      "ID: TEST_0681 Question: MRG 사업의 전신이 되는 인프라 투자는 언제 도입되었나 Generated answer: 외환위기 직후인 1999년\n"
     ]
    },
    {
     "name": "stderr",
     "output_type": "stream",
     "text": [
      " 45%|████▌     | 683/1507 [33:15<38:57,  2.84s/it]"
     ]
    },
    {
     "name": "stdout",
     "output_type": "stream",
     "text": [
      "ID: TEST_0682 Question: 2002년부터 2019년까지 MRG 사업 투자자 수익 보전을 위해 나간 재정 규모는 Generated answer: 7조4109억원\n"
     ]
    },
    {
     "name": "stderr",
     "output_type": "stream",
     "text": [
      " 45%|████▌     | 684/1507 [33:18<40:45,  2.97s/it]"
     ]
    },
    {
     "name": "stdout",
     "output_type": "stream",
     "text": [
      "ID: TEST_0683 Question: 뉴딜 펀드 투자금 3억원까지의 수익금에 적용되는 세율은 몇 퍼센트인가 Generated answer: 5 % 의\n"
     ]
    },
    {
     "name": "stderr",
     "output_type": "stream",
     "text": [
      " 45%|████▌     | 685/1507 [33:21<41:58,  3.06s/it]"
     ]
    },
    {
     "name": "stdout",
     "output_type": "stream",
     "text": [
      "ID: TEST_0684 Question: 2009년에 MRG 사업이 폐지된 이유는 무엇인가 Generated answer: 뉴딜 펀드 역시 MRG 사업과 구조가 비슷하다고 지적한다. 인프라 사업\n"
     ]
    },
    {
     "name": "stderr",
     "output_type": "stream",
     "text": [
      " 46%|████▌     | 686/1507 [33:25<42:50,  3.13s/it]"
     ]
    },
    {
     "name": "stdout",
     "output_type": "stream",
     "text": [
      "ID: TEST_0685 Question: 뉴딜 펀드 발표 후 논란과 유사했던 기존의 제도는 무엇인가 Generated answer: MRG 사업\n"
     ]
    },
    {
     "name": "stderr",
     "output_type": "stream",
     "text": [
      " 46%|████▌     | 687/1507 [33:28<43:27,  3.18s/it]"
     ]
    },
    {
     "name": "stdout",
     "output_type": "stream",
     "text": [
      "ID: TEST_0686 Question: 신형 카니발 사전 계약 첫날 접수 대수는 Generated answer: 2만3006대\n"
     ]
    },
    {
     "name": "stderr",
     "output_type": "stream",
     "text": [
      " 46%|████▌     | 688/1507 [33:31<43:52,  3.21s/it]"
     ]
    },
    {
     "name": "stdout",
     "output_type": "stream",
     "text": [
      "ID: TEST_0687 Question: 4세대 카니발의 론칭 행사가 열린 날짜는 Generated answer: 18일 소셜\n"
     ]
    },
    {
     "name": "stderr",
     "output_type": "stream",
     "text": [
      " 46%|████▌     | 689/1507 [33:34<43:07,  3.16s/it]"
     ]
    },
    {
     "name": "stdout",
     "output_type": "stream",
     "text": [
      "ID: TEST_0688 Question: 신형 카니발이 판매된 누적 대수는 Generated answer: 1만5931대\n"
     ]
    },
    {
     "name": "stderr",
     "output_type": "stream",
     "text": [
      " 46%|████▌     | 690/1507 [33:37<40:12,  2.95s/it]"
     ]
    },
    {
     "name": "stdout",
     "output_type": "stream",
     "text": [
      "ID: TEST_0689 Question: 신형 카니발이 경쟁 대상으로 삼고 있는 미니밴 모델은 Generated answer: 오딧세이 ( 혼다 ) 와 시에나 ( 도요타 )\n"
     ]
    },
    {
     "name": "stderr",
     "output_type": "stream",
     "text": [
      " 46%|████▌     | 691/1507 [33:40<40:51,  3.00s/it]"
     ]
    },
    {
     "name": "stdout",
     "output_type": "stream",
     "text": [
      "ID: TEST_0690 Question: 3세대 카니발의 현지명은 Generated answer: 세도나 )\n"
     ]
    },
    {
     "name": "stderr",
     "output_type": "stream",
     "text": [
      " 46%|████▌     | 692/1507 [33:41<33:15,  2.45s/it]"
     ]
    },
    {
     "name": "stdout",
     "output_type": "stream",
     "text": [
      "ID: TEST_0691 Question: 보성제다가 멕시코 바이어와의 거래협약이 체결된 날짜 Generated answer: 지난 21일\n"
     ]
    },
    {
     "name": "stderr",
     "output_type": "stream",
     "text": [
      " 46%|████▌     | 693/1507 [33:42<28:11,  2.08s/it]"
     ]
    },
    {
     "name": "stdout",
     "output_type": "stream",
     "text": [
      "ID: TEST_0692 Question: 보성제다의 대표 이름 Generated answer: 서찬식\n"
     ]
    },
    {
     "name": "stderr",
     "output_type": "stream",
     "text": [
      " 46%|████▌     | 694/1507 [33:43<24:23,  1.80s/it]"
     ]
    },
    {
     "name": "stdout",
     "output_type": "stream",
     "text": [
      "ID: TEST_0693 Question: 상단회에 참석한 총 바이어 수 Generated answer: 11명의\n"
     ]
    },
    {
     "name": "stderr",
     "output_type": "stream",
     "text": [
      " 46%|████▌     | 695/1507 [33:45<22:47,  1.68s/it]"
     ]
    },
    {
     "name": "stdout",
     "output_type": "stream",
     "text": [
      "ID: TEST_0694 Question: 보성군에서 참여한 차 관련 업체 수 Generated answer: 4개 업체\n"
     ]
    },
    {
     "name": "stderr",
     "output_type": "stream",
     "text": [
      " 46%|████▌     | 696/1507 [33:45<18:55,  1.40s/it]"
     ]
    },
    {
     "name": "stdout",
     "output_type": "stream",
     "text": [
      "ID: TEST_0695 Question: 첫 번째 수출 간담회가 열린 연도 Generated answer: 2019년 멕시코 현지 노스게이트 트레이딩과 업무협약을 체결하고 현지 차 바이어 및 공장을 방문하여 수출 간담회를 가진 바 있다.\n"
     ]
    },
    {
     "name": "stderr",
     "output_type": "stream",
     "text": [
      " 46%|████▋     | 697/1507 [33:47<17:41,  1.31s/it]"
     ]
    },
    {
     "name": "stdout",
     "output_type": "stream",
     "text": [
      "ID: TEST_0696 Question: 전남도가 개별공시지가 산정을 마친 날짜는 Generated answer: 1월1일\n"
     ]
    },
    {
     "name": "stderr",
     "output_type": "stream",
     "text": [
      " 46%|████▋     | 698/1507 [33:48<19:10,  1.42s/it]"
     ]
    },
    {
     "name": "stdout",
     "output_type": "stream",
     "text": [
      "ID: TEST_0697 Question: 토지소유자를 포함한 이해 관계인의 의견을 청취하는 기간은 Generated answer: 5일부터 26일까지\n"
     ]
    },
    {
     "name": "stderr",
     "output_type": "stream",
     "text": [
      " 46%|████▋     | 699/1507 [33:50<19:49,  1.47s/it]"
     ]
    },
    {
     "name": "stdout",
     "output_type": "stream",
     "text": [
      "ID: TEST_0698 Question: 결정·공시할 날짜는 Generated answer: 5월31일\n"
     ]
    },
    {
     "name": "stderr",
     "output_type": "stream",
     "text": [
      " 46%|████▋     | 700/1507 [33:51<18:20,  1.36s/it]"
     ]
    },
    {
     "name": "stdout",
     "output_type": "stream",
     "text": [
      "ID: TEST_0699 Question: 의견서를 제출할 수 있는 장소는 Generated answer: 읍면동 주민센터\n"
     ]
    },
    {
     "name": "stderr",
     "output_type": "stream",
     "text": [
      " 47%|████▋     | 701/1507 [33:52<17:14,  1.28s/it]"
     ]
    },
    {
     "name": "stdout",
     "output_type": "stream",
     "text": [
      "ID: TEST_0700 Question: 재조사 후 결과를 통지받는 날짜는 Generated answer: 5월10일\n"
     ]
    },
    {
     "name": "stderr",
     "output_type": "stream",
     "text": [
      " 47%|████▋     | 702/1507 [33:56<27:14,  2.03s/it]"
     ]
    },
    {
     "name": "stdout",
     "output_type": "stream",
     "text": [
      "ID: TEST_0701 Question: 윤 총장이 언급한 국민 피해를 막기 위해 쟁송으로 나아가지 않는 이유는 무엇인가 Generated answer: 법무검찰 조직이 혼란스러워지면서 피해는 국민에게 돌아가기 때문에\n"
     ]
    },
    {
     "name": "stderr",
     "output_type": "stream",
     "text": [
      " 47%|████▋     | 703/1507 [33:57<25:26,  1.90s/it]"
     ]
    },
    {
     "name": "stdout",
     "output_type": "stream",
     "text": [
      "ID: TEST_0702 Question: 영업제한 업종 지원금액 Generated answer: 200만원\n"
     ]
    },
    {
     "name": "stderr",
     "output_type": "stream",
     "text": [
      " 47%|████▋     | 704/1507 [34:00<27:06,  2.03s/it]"
     ]
    },
    {
     "name": "stdout",
     "output_type": "stream",
     "text": [
      "ID: TEST_0703 Question: 요양병원 전수검사를 전국적으로 확대할 계획이 있는 달은 Generated answer: 11월에\n"
     ]
    },
    {
     "name": "stderr",
     "output_type": "stream",
     "text": [
      " 47%|████▋     | 705/1507 [34:03<32:10,  2.41s/it]"
     ]
    },
    {
     "name": "stdout",
     "output_type": "stream",
     "text": [
      "ID: TEST_0704 Question: 충남에서 확진자가 발생한 도시는 Generated answer: 부산에서는 부산진구 요양병원에서 종사자 1명, 입원 환자 2명 등 총 3명이 양성 판정을 받았다. 충남에서는 천안시\n"
     ]
    },
    {
     "name": "stderr",
     "output_type": "stream",
     "text": [
      " 47%|████▋     | 706/1507 [34:06<35:39,  2.67s/it]"
     ]
    },
    {
     "name": "stdout",
     "output_type": "stream",
     "text": [
      "ID: TEST_0705 Question: 최근 집단 발병 장소 중 하나는 Generated answer: 음식점과 주점, 사우나, 수영장, 노래방, 무용 · 음악학원\n"
     ]
    },
    {
     "name": "stderr",
     "output_type": "stream",
     "text": [
      " 47%|████▋     | 707/1507 [34:10<38:04,  2.86s/it]"
     ]
    },
    {
     "name": "stdout",
     "output_type": "stream",
     "text": [
      "ID: TEST_0706 Question: 독감 검출 비율은 몇 퍼센트인가 Generated answer: 0. 3 %\n"
     ]
    },
    {
     "name": "stderr",
     "output_type": "stream",
     "text": [
      " 47%|████▋     | 708/1507 [34:13<39:50,  2.99s/it]"
     ]
    },
    {
     "name": "stdout",
     "output_type": "stream",
     "text": [
      "ID: TEST_0707 Question: 인플루엔자 의심 환자 비율 기준은 몇 명인가 Generated answer: 1. 7명\n"
     ]
    },
    {
     "name": "stderr",
     "output_type": "stream",
     "text": [
      " 47%|████▋     | 709/1507 [34:16<42:21,  3.18s/it]"
     ]
    },
    {
     "name": "stdout",
     "output_type": "stream",
     "text": [
      "ID: TEST_0708 Question: 내년 하반기부터 법정 최고금리는 몇 %로 낮추기로 했나 Generated answer: 연20 %\n"
     ]
    },
    {
     "name": "stderr",
     "output_type": "stream",
     "text": [
      " 47%|████▋     | 710/1507 [34:21<45:41,  3.44s/it]"
     ]
    },
    {
     "name": "stdout",
     "output_type": "stream",
     "text": [
      "ID: TEST_0709 Question: 현재 기대출자에게 소급적용 여부 Generated answer: 최고금리를 적용하기로 했다. 현재 기대출자의 경우 소급적용은 받지 않는다.\n"
     ]
    },
    {
     "name": "stderr",
     "output_type": "stream",
     "text": [
      " 47%|████▋     | 711/1507 [34:24<44:59,  3.39s/it]"
     ]
    },
    {
     "name": "stdout",
     "output_type": "stream",
     "text": [
      "ID: TEST_0710 Question: 금융위원회 최고금리 인하 이유 Generated answer: 저금리 기조와 서민들의 부담 경감\n"
     ]
    },
    {
     "name": "stderr",
     "output_type": "stream",
     "text": [
      " 47%|████▋     | 712/1507 [34:28<46:48,  3.53s/it]"
     ]
    },
    {
     "name": "stdout",
     "output_type": "stream",
     "text": [
      "ID: TEST_0711 Question: 추가 공급 계획 중인 정책서민금융 금액 Generated answer: 2700억원\n"
     ]
    },
    {
     "name": "stderr",
     "output_type": "stream",
     "text": [
      " 47%|████▋     | 713/1507 [34:31<46:35,  3.52s/it]"
     ]
    },
    {
     "name": "stdout",
     "output_type": "stream",
     "text": [
      "ID: TEST_0712 Question: 법정 최고금리 인하로 대출 초과 수요가 발생할 것으로 추산되는 인원 Generated answer: 57만명\n"
     ]
    },
    {
     "name": "stderr",
     "output_type": "stream",
     "text": [
      " 47%|████▋     | 714/1507 [34:33<38:14,  2.89s/it]"
     ]
    },
    {
     "name": "stdout",
     "output_type": "stream",
     "text": [
      "ID: TEST_0713 Question: 괭생이모자반의 학명은 무엇인가 Generated answer: 사르가숨 호르네리\n"
     ]
    },
    {
     "name": "stderr",
     "output_type": "stream",
     "text": [
      " 47%|████▋     | 715/1507 [34:34<31:24,  2.38s/it]"
     ]
    },
    {
     "name": "stdout",
     "output_type": "stream",
     "text": [
      "ID: TEST_0714 Question: 괭생이모자반의 일반적인 자라는 크기는 Generated answer: 3∼5ｍ\n"
     ]
    },
    {
     "name": "stderr",
     "output_type": "stream",
     "text": [
      " 48%|████▊     | 716/1507 [34:35<25:59,  1.97s/it]"
     ]
    },
    {
     "name": "stdout",
     "output_type": "stream",
     "text": [
      "ID: TEST_0715 Question: 괭생이모자반의 유입이 추정되는 지역은 Generated answer: 중국 저우산 지역\n"
     ]
    },
    {
     "name": "stderr",
     "output_type": "stream",
     "text": [
      " 48%|████▊     | 717/1507 [34:36<22:30,  1.71s/it]"
     ]
    },
    {
     "name": "stdout",
     "output_type": "stream",
     "text": [
      "ID: TEST_0716 Question: 괭생이모자반이 대량 발생하는 기간은 Generated answer: 3∼6월\n"
     ]
    },
    {
     "name": "stderr",
     "output_type": "stream",
     "text": [
      " 48%|████▊     | 718/1507 [34:37<21:35,  1.64s/it]"
     ]
    },
    {
     "name": "stdout",
     "output_type": "stream",
     "text": [
      "ID: TEST_0717 Question: 건선을 일으키는 약제는 Generated answer: 이미퀴모드\n"
     ]
    },
    {
     "name": "stderr",
     "output_type": "stream",
     "text": [
      " 48%|████▊     | 719/1507 [34:40<26:32,  2.02s/it]"
     ]
    },
    {
     "name": "stdout",
     "output_type": "stream",
     "text": [
      "ID: TEST_0718 Question: 집단 휴진에 돌입한 전공의 수는 Generated answer: 1만3571명\n"
     ]
    },
    {
     "name": "stderr",
     "output_type": "stream",
     "text": [
      " 48%|████▊     | 720/1507 [34:44<31:29,  2.40s/it]"
     ]
    },
    {
     "name": "stdout",
     "output_type": "stream",
     "text": [
      "ID: TEST_0719 Question: 전공의 파업 참여율은 Generated answer: 69. 1 %\n"
     ]
    },
    {
     "name": "stderr",
     "output_type": "stream",
     "text": [
      " 48%|████▊     | 721/1507 [34:47<34:54,  2.66s/it]"
     ]
    },
    {
     "name": "stdout",
     "output_type": "stream",
     "text": [
      "ID: TEST_0720 Question: 서울대병원 전공의 수는 Generated answer: 500여명\n"
     ]
    },
    {
     "name": "stderr",
     "output_type": "stream",
     "text": [
      " 48%|████▊     | 722/1507 [34:50<37:23,  2.86s/it]"
     ]
    },
    {
     "name": "stdout",
     "output_type": "stream",
     "text": [
      "ID: TEST_0721 Question: 여의도 집회 참석자 추산 수는 Generated answer: 6000명 이상\n"
     ]
    },
    {
     "name": "stderr",
     "output_type": "stream",
     "text": [
      " 48%|████▊     | 723/1507 [34:53<38:59,  2.98s/it]"
     ]
    },
    {
     "name": "stdout",
     "output_type": "stream",
     "text": [
      "ID: TEST_0722 Question: 전공의 소속 기관 수는 Generated answer: 500여명\n"
     ]
    },
    {
     "name": "stderr",
     "output_type": "stream",
     "text": [
      " 48%|████▊     | 724/1507 [34:55<31:34,  2.42s/it]"
     ]
    },
    {
     "name": "stdout",
     "output_type": "stream",
     "text": [
      "ID: TEST_0723 Question: 담양군의 딸기 품종은 무엇? Generated answer: 메리퀸'을 프리미엄 수출품종으로 육성하기 위해'프리미엄 농산물 수출단지 조성 시범사업'올해부터 2년 간 수행할 계획이다. 담양군농업기술센터 이철규 소장이 지난 2017년에 품종 출원한메리퀸\n"
     ]
    },
    {
     "name": "stderr",
     "output_type": "stream",
     "text": [
      " 48%|████▊     | 725/1507 [34:56<26:22,  2.02s/it]"
     ]
    },
    {
     "name": "stdout",
     "output_type": "stream",
     "text": [
      "ID: TEST_0724 Question: 금성농협과 함께한 컨설팅 참석 농가 수는 몇? Generated answer: 17농가\n"
     ]
    },
    {
     "name": "stderr",
     "output_type": "stream",
     "text": [
      " 48%|████▊     | 726/1507 [34:57<22:42,  1.75s/it]"
     ]
    },
    {
     "name": "stdout",
     "output_type": "stream",
     "text": [
      "ID: TEST_0725 Question: 모든 이에게 즐거움을 주는 딸기'라는 뜻의 품종 이름은? Generated answer: ##메리퀸\n"
     ]
    },
    {
     "name": "stderr",
     "output_type": "stream",
     "text": [
      " 48%|████▊     | 727/1507 [34:58<20:34,  1.58s/it]"
     ]
    },
    {
     "name": "stdout",
     "output_type": "stream",
     "text": [
      "ID: TEST_0726 Question: 메리퀸 품종 출원 년도는 언제? Generated answer: 2017년에\n"
     ]
    },
    {
     "name": "stderr",
     "output_type": "stream",
     "text": [
      " 48%|████▊     | 728/1507 [34:59<18:14,  1.41s/it]"
     ]
    },
    {
     "name": "stdout",
     "output_type": "stream",
     "text": [
      "ID: TEST_0727 Question: 딸기 수출 주요 국가 중 하나는 어디? Generated answer: 싱가포르와 말레이시아\n"
     ]
    },
    {
     "name": "stderr",
     "output_type": "stream",
     "text": [
      " 48%|████▊     | 729/1507 [35:01<21:15,  1.64s/it]"
     ]
    },
    {
     "name": "stdout",
     "output_type": "stream",
     "text": [
      "ID: TEST_0728 Question: 경증 확진자가 머무는 곳 Generated answer: 생활치료센터\n"
     ]
    },
    {
     "name": "stderr",
     "output_type": "stream",
     "text": [
      " 48%|████▊     | 730/1507 [35:03<23:23,  1.81s/it]"
     ]
    },
    {
     "name": "stdout",
     "output_type": "stream",
     "text": [
      "ID: TEST_0729 Question: 19일 대기 환자가 발생할 가능성을 언급한 사람 Generated answer: 이재갑 한림대 강남성심병원 감염내과 교수\n"
     ]
    },
    {
     "name": "stderr",
     "output_type": "stream",
     "text": [
      " 49%|████▊     | 731/1507 [35:06<27:36,  2.14s/it]"
     ]
    },
    {
     "name": "stdout",
     "output_type": "stream",
     "text": [
      "ID: TEST_0730 Question: 병상 가동률이 71.3%인 병상 종류 Generated answer: 중증환자 치료 병상\n"
     ]
    },
    {
     "name": "stderr",
     "output_type": "stream",
     "text": [
      " 49%|████▊     | 732/1507 [35:08<25:07,  1.94s/it]"
     ]
    },
    {
     "name": "stdout",
     "output_type": "stream",
     "text": [
      "ID: TEST_0731 Question: 4일 이후 길병원을 감염병 전담병원에서 해제한 날짜 Generated answer: 11일에는\n"
     ]
    },
    {
     "name": "stderr",
     "output_type": "stream",
     "text": [
      " 49%|████▊     | 733/1507 [35:10<26:00,  2.02s/it]"
     ]
    },
    {
     "name": "stdout",
     "output_type": "stream",
     "text": [
      "ID: TEST_0732 Question: 하루에 모니터링 횟수 Generated answer: 2회 이상\n"
     ]
    },
    {
     "name": "stderr",
     "output_type": "stream",
     "text": [
      " 49%|████▊     | 734/1507 [35:13<30:52,  2.40s/it]"
     ]
    },
    {
     "name": "stdout",
     "output_type": "stream",
     "text": [
      "ID: TEST_0733 Question: A사가 남동발전에 처음 사업을 제안한 해 Generated answer: 2018년 A사 관계자가 남동발전에 직접 연락해 태국 대나무를 이용한 우드펠릿 사업\n"
     ]
    },
    {
     "name": "stderr",
     "output_type": "stream",
     "text": [
      " 49%|████▉     | 735/1507 [35:16<34:18,  2.67s/it]"
     ]
    },
    {
     "name": "stdout",
     "output_type": "stream",
     "text": [
      "ID: TEST_0734 Question: 15일 0시 기준 코로나19 신규 확진자 수 Generated answer: 208명이다\n"
     ]
    },
    {
     "name": "stderr",
     "output_type": "stream",
     "text": [
      " 49%|████▉     | 736/1507 [35:20<36:40,  2.85s/it]"
     ]
    },
    {
     "name": "stdout",
     "output_type": "stream",
     "text": [
      "ID: TEST_0735 Question: 예비경보가 발령된 지역 Generated answer: 수도권과 강원권\n"
     ]
    },
    {
     "name": "stderr",
     "output_type": "stream",
     "text": [
      " 49%|████▉     | 737/1507 [35:23<38:19,  2.99s/it]"
     ]
    },
    {
     "name": "stdout",
     "output_type": "stream",
     "text": [
      "ID: TEST_0736 Question: 거리두기 1단계 격상 기준 일평균 확진자 수 Generated answer: 11. 1명\n"
     ]
    },
    {
     "name": "stderr",
     "output_type": "stream",
     "text": [
      " 49%|████▉     | 738/1507 [35:26<39:30,  3.08s/it]"
     ]
    },
    {
     "name": "stdout",
     "output_type": "stream",
     "text": [
      "ID: TEST_0737 Question: 강원권의 일주일간 일평균 확진자 수 Generated answer: 11. 1명\n"
     ]
    },
    {
     "name": "stderr",
     "output_type": "stream",
     "text": [
      " 49%|████▉     | 739/1507 [35:30<40:11,  3.14s/it]"
     ]
    },
    {
     "name": "stdout",
     "output_type": "stream",
     "text": [
      "ID: TEST_0738 Question: 노래방 안에서 허용되지 않는 것 Generated answer: 음식을 먹지 못한다. 1단계에서는 이런 수칙이 없었다. 클럽, 헌팅포차 등에서는 춤추지 못하고, 좌석 간 이동이 엄격히 금지된다.\n"
     ]
    },
    {
     "name": "stderr",
     "output_type": "stream",
     "text": [
      " 49%|████▉     | 740/1507 [35:32<38:45,  3.03s/it]"
     ]
    },
    {
     "name": "stdout",
     "output_type": "stream",
     "text": [
      "ID: TEST_0739 Question: 헌재가 낙태 허용 기준으로 제시한 주 수는 Generated answer: 임신 22주\n"
     ]
    },
    {
     "name": "stderr",
     "output_type": "stream",
     "text": [
      " 49%|████▉     | 741/1507 [35:35<37:35,  2.94s/it]"
     ]
    },
    {
     "name": "stdout",
     "output_type": "stream",
     "text": [
      "ID: TEST_0740 Question: 형법 269조에 따르면 낙태한 여성에게 처벌되는 징역 기간은 Generated answer: 2년 이하\n"
     ]
    },
    {
     "name": "stderr",
     "output_type": "stream",
     "text": [
      " 49%|████▉     | 742/1507 [35:38<38:32,  3.02s/it]"
     ]
    },
    {
     "name": "stdout",
     "output_type": "stream",
     "text": [
      "ID: TEST_0741 Question: 양성평등정책위원회가 낙태죄에 대해 권고하는 바는 Generated answer: 완전 폐지 \"\n"
     ]
    },
    {
     "name": "stderr",
     "output_type": "stream",
     "text": [
      " 49%|████▉     | 743/1507 [35:41<35:37,  2.80s/it]"
     ]
    },
    {
     "name": "stdout",
     "output_type": "stream",
     "text": [
      "ID: TEST_0742 Question: 유엔여성차별철폐협약의 영어 약자는 Generated answer: CEDAW\n"
     ]
    },
    {
     "name": "stderr",
     "output_type": "stream",
     "text": [
      " 49%|████▉     | 744/1507 [35:44<37:19,  2.93s/it]"
     ]
    },
    {
     "name": "stdout",
     "output_type": "stream",
     "text": [
      "ID: TEST_0743 Question: 임신중지와 출산 과정에서 여성을 보호하려는 법 개정의 목적은 Generated answer: 태아의 생명보호\n"
     ]
    },
    {
     "name": "stderr",
     "output_type": "stream",
     "text": [
      " 49%|████▉     | 745/1507 [35:47<38:43,  3.05s/it]"
     ]
    },
    {
     "name": "stdout",
     "output_type": "stream",
     "text": [
      "ID: TEST_0744 Question: 부산행사가 열린 장소 Generated answer: 송상현 광장\n"
     ]
    },
    {
     "name": "stderr",
     "output_type": "stream",
     "text": [
      " 50%|████▉     | 746/1507 [35:50<38:35,  3.04s/it]"
     ]
    },
    {
     "name": "stdout",
     "output_type": "stream",
     "text": [
      "ID: TEST_0745 Question: LG전자 창원공장이 기증한 물품 Generated answer: 트롬 건조기\n"
     ]
    },
    {
     "name": "stderr",
     "output_type": "stream",
     "text": [
      " 50%|████▉     | 747/1507 [35:53<36:23,  2.87s/it]"
     ]
    },
    {
     "name": "stdout",
     "output_type": "stream",
     "text": [
      "ID: TEST_0746 Question: 김경수 경남도지사가 내놓은 기증품 Generated answer: 노무현 대통령 시절 청와대에 제작한 남녀 시계\n"
     ]
    },
    {
     "name": "stderr",
     "output_type": "stream",
     "text": [
      " 50%|████▉     | 748/1507 [35:56<37:53,  2.99s/it]"
     ]
    },
    {
     "name": "stdout",
     "output_type": "stream",
     "text": [
      "ID: TEST_0747 Question: BTS 멤버 지민 아버지가 기증한 물품 Generated answer: CD 30만원, 배우 박보영 블라우스는 28만5000원에 각각 팔렸다. BTS의 CD\n"
     ]
    },
    {
     "name": "stderr",
     "output_type": "stream",
     "text": [
      " 50%|████▉     | 749/1507 [35:59<36:35,  2.90s/it]"
     ]
    },
    {
     "name": "stdout",
     "output_type": "stream",
     "text": [
      "ID: TEST_0748 Question: 고경민 선수의 기증품 Generated answer: 골프채 20만원\n"
     ]
    },
    {
     "name": "stderr",
     "output_type": "stream",
     "text": [
      " 50%|████▉     | 750/1507 [36:01<36:15,  2.87s/it]"
     ]
    },
    {
     "name": "stdout",
     "output_type": "stream",
     "text": [
      "ID: TEST_0749 Question: 테팔 프라이팬의 할인율은 몇 퍼센트인가 Generated answer: 65 % 낮은 2만8875원\n"
     ]
    },
    {
     "name": "stderr",
     "output_type": "stream",
     "text": [
      " 50%|████▉     | 751/1507 [36:05<37:46,  3.00s/it]"
     ]
    },
    {
     "name": "stdout",
     "output_type": "stream",
     "text": [
      "ID: TEST_0750 Question: 블라인드 회원 수는 미국에서 몇 명인가 Generated answer: 115만명\n"
     ]
    },
    {
     "name": "stderr",
     "output_type": "stream",
     "text": [
      " 50%|████▉     | 752/1507 [36:08<38:52,  3.09s/it]"
     ]
    },
    {
     "name": "stdout",
     "output_type": "stream",
     "text": [
      "ID: TEST_0751 Question: 이노션의 온라인몰 이름은 무엇인가 Generated answer: 오지랩 ( OZYLAB )\n"
     ]
    },
    {
     "name": "stderr",
     "output_type": "stream",
     "text": [
      " 50%|████▉     | 753/1507 [36:12<43:40,  3.48s/it]"
     ]
    },
    {
     "name": "stdout",
     "output_type": "stream",
     "text": [
      "ID: TEST_0752 Question: 사이코지만 괜찮아' 굿즈의 완판 소요 시간은 얼마인가 Generated answer: 하루 만에 완판\n"
     ]
    },
    {
     "name": "stderr",
     "output_type": "stream",
     "text": [
      " 50%|█████     | 754/1507 [36:16<42:51,  3.42s/it]"
     ]
    },
    {
     "name": "stdout",
     "output_type": "stream",
     "text": [
      "ID: TEST_0753 Question: 제일기획의 온라인몰 론칭 시기는 언제인가 Generated answer: 지난 19일\n"
     ]
    },
    {
     "name": "stderr",
     "output_type": "stream",
     "text": [
      " 50%|█████     | 755/1507 [36:19<41:19,  3.30s/it]"
     ]
    },
    {
     "name": "stdout",
     "output_type": "stream",
     "text": [
      "ID: TEST_0754 Question: 개인 실손보험 재개 신청 가능 기간은 Generated answer: 1개월 이내\n"
     ]
    },
    {
     "name": "stderr",
     "output_type": "stream",
     "text": [
      " 50%|█████     | 756/1507 [36:21<38:08,  3.05s/it]"
     ]
    },
    {
     "name": "stdout",
     "output_type": "stream",
     "text": [
      "ID: TEST_0755 Question: 화이자 백신의 보관 온도는 Generated answer: 영하 70도\n"
     ]
    },
    {
     "name": "stderr",
     "output_type": "stream",
     "text": [
      " 50%|█████     | 757/1507 [36:24<38:18,  3.06s/it]"
     ]
    },
    {
     "name": "stdout",
     "output_type": "stream",
     "text": [
      "ID: TEST_0756 Question: 화이자 백신을 상온에서 사용할 수 있는 시간은 Generated answer: 6시간 안\n"
     ]
    },
    {
     "name": "stderr",
     "output_type": "stream",
     "text": [
      " 50%|█████     | 758/1507 [36:27<35:42,  2.86s/it]"
     ]
    },
    {
     "name": "stdout",
     "output_type": "stream",
     "text": [
      "ID: TEST_0757 Question: 화이자 백신이 초저온에서 품질을 유지할 수 있는 최대 일수는 Generated answer: 5일간\n"
     ]
    },
    {
     "name": "stderr",
     "output_type": "stream",
     "text": [
      " 50%|█████     | 759/1507 [36:30<35:58,  2.89s/it]"
     ]
    },
    {
     "name": "stdout",
     "output_type": "stream",
     "text": [
      "ID: TEST_0758 Question: mRNA 백신에서 유전정보를 바탕으로 만들어지는 것은 Generated answer: 바이러스 단백질 ( 항원 )\n"
     ]
    },
    {
     "name": "stderr",
     "output_type": "stream",
     "text": [
      " 50%|█████     | 760/1507 [36:32<34:37,  2.78s/it]"
     ]
    },
    {
     "name": "stdout",
     "output_type": "stream",
     "text": [
      "ID: TEST_0759 Question: mRNA 백신의 초저온 콜드체인이 필요한 이유는 Generated answer: 저온이 아니면 안정성\n"
     ]
    },
    {
     "name": "stderr",
     "output_type": "stream",
     "text": [
      " 50%|█████     | 761/1507 [36:35<35:21,  2.84s/it]"
     ]
    },
    {
     "name": "stdout",
     "output_type": "stream",
     "text": [
      "ID: TEST_0760 Question: 현재 모텔·호텔의 공실률 Generated answer: 50 ~ 70 %\n"
     ]
    },
    {
     "name": "stderr",
     "output_type": "stream",
     "text": [
      " 51%|█████     | 762/1507 [36:38<34:49,  2.80s/it]"
     ]
    },
    {
     "name": "stdout",
     "output_type": "stream",
     "text": [
      "ID: TEST_0761 Question: LG화학 임시 주주총회 개최 예정일 Generated answer: 30일 임시\n"
     ]
    },
    {
     "name": "stderr",
     "output_type": "stream",
     "text": [
      " 51%|█████     | 763/1507 [36:41<35:47,  2.89s/it]"
     ]
    },
    {
     "name": "stdout",
     "output_type": "stream",
     "text": [
      "ID: TEST_0762 Question: 국민연금의 LG화학 지분율 Generated answer: 30. 1 %\n"
     ]
    },
    {
     "name": "stderr",
     "output_type": "stream",
     "text": [
      " 51%|█████     | 764/1507 [36:44<37:15,  3.01s/it]"
     ]
    },
    {
     "name": "stdout",
     "output_type": "stream",
     "text": [
      "ID: TEST_0763 Question: LG화학 지분 중 외국인 투자자 비율 Generated answer: 38. 1 %\n"
     ]
    },
    {
     "name": "stderr",
     "output_type": "stream",
     "text": [
      " 51%|█████     | 765/1507 [36:48<38:14,  3.09s/it]"
     ]
    },
    {
     "name": "stdout",
     "output_type": "stream",
     "text": [
      "ID: TEST_0764 Question: LG화학의 대주주 지분율 Generated answer: 30. 1 %\n"
     ]
    },
    {
     "name": "stderr",
     "output_type": "stream",
     "text": [
      " 51%|█████     | 766/1507 [36:51<38:52,  3.15s/it]"
     ]
    },
    {
     "name": "stdout",
     "output_type": "stream",
     "text": [
      "ID: TEST_0765 Question: LG화학이 향후 3년동안 예정한 최소 배당액 Generated answer: 1만원\n"
     ]
    },
    {
     "name": "stderr",
     "output_type": "stream",
     "text": [
      " 51%|█████     | 767/1507 [36:55<41:47,  3.39s/it]"
     ]
    },
    {
     "name": "stdout",
     "output_type": "stream",
     "text": [
      "ID: TEST_0766 Question: 해뜨락요양병원의 입원환자 수 Generated answer: 165명이 입원해 있는 이 요양병원 264명과 퇴원자 14명\n"
     ]
    },
    {
     "name": "stderr",
     "output_type": "stream",
     "text": [
      " 51%|█████     | 768/1507 [36:58<42:59,  3.49s/it]"
     ]
    },
    {
     "name": "stdout",
     "output_type": "stream",
     "text": [
      "ID: TEST_0767 Question: 최초 확진자인 간호조무사의 확진 날짜 Generated answer: 13일 간호조무사 최초\n"
     ]
    },
    {
     "name": "stderr",
     "output_type": "stream",
     "text": [
      " 51%|█████     | 769/1507 [37:03<46:16,  3.76s/it]"
     ]
    },
    {
     "name": "stdout",
     "output_type": "stream",
     "text": [
      "ID: TEST_0768 Question: 9월 이후 유사증상으로 숨진 환자 수 Generated answer: 8명 ( 사망자 1명\n"
     ]
    },
    {
     "name": "stderr",
     "output_type": "stream",
     "text": [
      " 51%|█████     | 770/1507 [37:07<47:53,  3.90s/it]"
     ]
    },
    {
     "name": "stdout",
     "output_type": "stream",
     "text": [
      "ID: TEST_0769 Question: 해뜨락요양병원의 요양병원 종사자 수 Generated answer: 99명이\n"
     ]
    },
    {
     "name": "stderr",
     "output_type": "stream",
     "text": [
      " 51%|█████     | 771/1507 [37:09<42:10,  3.44s/it]"
     ]
    },
    {
     "name": "stdout",
     "output_type": "stream",
     "text": [
      "ID: TEST_0770 Question: 고령 환자 8명이 숨진 기간 Generated answer: 9월 이후\n"
     ]
    },
    {
     "name": "stderr",
     "output_type": "stream",
     "text": [
      " 51%|█████     | 772/1507 [37:11<33:32,  2.74s/it]"
     ]
    },
    {
     "name": "stdout",
     "output_type": "stream",
     "text": [
      "ID: TEST_0771 Question: 동서발전의 사장 이름은 무엇인가 Generated answer: 박일준\n"
     ]
    },
    {
     "name": "stderr",
     "output_type": "stream",
     "text": [
      " 51%|█████▏    | 773/1507 [37:12<27:26,  2.24s/it]"
     ]
    },
    {
     "name": "stdout",
     "output_type": "stream",
     "text": [
      "ID: TEST_0772 Question: 2021년도 지원사업에서 선정된 기업 수는 몇 곳인가 Generated answer: 중소 ‧ 벤처 ‧ 창업기업\n"
     ]
    },
    {
     "name": "stderr",
     "output_type": "stream",
     "text": [
      " 51%|█████▏    | 774/1507 [37:14<26:54,  2.20s/it]"
     ]
    },
    {
     "name": "stdout",
     "output_type": "stream",
     "text": [
      "ID: TEST_0773 Question: 동서발전이 확대 지원하는 분야는 무엇인가 Generated answer: 안전분야\n"
     ]
    },
    {
     "name": "stderr",
     "output_type": "stream",
     "text": [
      " 51%|█████▏    | 775/1507 [37:15<23:03,  1.89s/it]"
     ]
    },
    {
     "name": "stdout",
     "output_type": "stream",
     "text": [
      "ID: TEST_0774 Question: 선정된 기업이 받을 수 있는 최대 지원 금액은 얼마인가 Generated answer: 4000만 원\n"
     ]
    },
    {
     "name": "stderr",
     "output_type": "stream",
     "text": [
      " 51%|█████▏    | 776/1507 [37:16<20:09,  1.65s/it]"
     ]
    },
    {
     "name": "stdout",
     "output_type": "stream",
     "text": [
      "ID: TEST_0775 Question: 동서발전이 창출한 신규 일자리 수는 몇 명인가 Generated answer: 237명의\n"
     ]
    },
    {
     "name": "stderr",
     "output_type": "stream",
     "text": [
      " 52%|█████▏    | 777/1507 [37:19<26:02,  2.14s/it]"
     ]
    },
    {
     "name": "stdout",
     "output_type": "stream",
     "text": [
      "ID: TEST_0776 Question: 박씨가 산 소형 아파트의 전용면적은 Generated answer: 41㎡ )\n"
     ]
    },
    {
     "name": "stderr",
     "output_type": "stream",
     "text": [
      " 52%|█████▏    | 778/1507 [37:23<29:59,  2.47s/it]"
     ]
    },
    {
     "name": "stdout",
     "output_type": "stream",
     "text": [
      "ID: TEST_0777 Question: 박씨가 아파트를 구매할 때 실제 낸 돈은 Generated answer: 3000만원\n"
     ]
    },
    {
     "name": "stderr",
     "output_type": "stream",
     "text": [
      " 52%|█████▏    | 779/1507 [37:25<29:13,  2.41s/it]"
     ]
    },
    {
     "name": "stdout",
     "output_type": "stream",
     "text": [
      "ID: TEST_0778 Question: 부산 해운대구의 3개월간 아파트값 상승률은 Generated answer: 6 % 넘게 올랐다.\n"
     ]
    },
    {
     "name": "stderr",
     "output_type": "stream",
     "text": [
      " 52%|█████▏    | 780/1507 [37:29<34:20,  2.83s/it]"
     ]
    },
    {
     "name": "stdout",
     "output_type": "stream",
     "text": [
      "ID: TEST_0779 Question: 비규제지역에서 받을 수 있는 최대 대출 비율은 Generated answer: 70 % ( 주택담보대출비율 · LTV 70 % )\n"
     ]
    },
    {
     "name": "stderr",
     "output_type": "stream",
     "text": [
      " 52%|█████▏    | 781/1507 [37:31<34:03,  2.81s/it]"
     ]
    },
    {
     "name": "stdout",
     "output_type": "stream",
     "text": [
      "ID: TEST_0780 Question: 경기도 파주의 전세가율은 Generated answer: 80 % )\n"
     ]
    },
    {
     "name": "stderr",
     "output_type": "stream",
     "text": [
      " 52%|█████▏    | 782/1507 [37:36<39:41,  3.28s/it]"
     ]
    },
    {
     "name": "stdout",
     "output_type": "stream",
     "text": [
      "ID: TEST_0781 Question: 11월 13일 0시 기준 코로나19 신규 환자는 Generated answer: 191명이\n"
     ]
    },
    {
     "name": "stderr",
     "output_type": "stream",
     "text": [
      " 52%|█████▏    | 783/1507 [37:40<43:36,  3.61s/it]"
     ]
    },
    {
     "name": "stdout",
     "output_type": "stream",
     "text": [
      "ID: TEST_0782 Question: 최근 일주일간 수도권의 하루 평균 코로나19 환자는 Generated answer: 65명에서 이번주 72명\n"
     ]
    },
    {
     "name": "stderr",
     "output_type": "stream",
     "text": [
      " 52%|█████▏    | 784/1507 [37:44<44:18,  3.68s/it]"
     ]
    },
    {
     "name": "stdout",
     "output_type": "stream",
     "text": [
      "ID: TEST_0783 Question: 인제군 지인모임 누적 확진자는 Generated answer: 12명으로\n"
     ]
    },
    {
     "name": "stderr",
     "output_type": "stream",
     "text": [
      " 52%|█████▏    | 785/1507 [37:48<44:57,  3.74s/it]"
     ]
    },
    {
     "name": "stdout",
     "output_type": "stream",
     "text": [
      "ID: TEST_0784 Question: 광양시 한 기업에서 첫 환자가 발생한 날짜는 Generated answer: 11일 첫\n"
     ]
    },
    {
     "name": "stderr",
     "output_type": "stream",
     "text": [
      " 52%|█████▏    | 786/1507 [37:52<47:14,  3.93s/it]"
     ]
    },
    {
     "name": "stdout",
     "output_type": "stream",
     "text": [
      "ID: TEST_0785 Question: 감염경로 불명 환자 비율은 Generated answer: 13 % 대로\n"
     ]
    },
    {
     "name": "stderr",
     "output_type": "stream",
     "text": [
      " 52%|█████▏    | 787/1507 [37:56<44:51,  3.74s/it]"
     ]
    },
    {
     "name": "stdout",
     "output_type": "stream",
     "text": [
      "ID: TEST_0786 Question: BMW그룹코리아가 설립된 해는 Generated answer: 1995년 7월\n"
     ]
    },
    {
     "name": "stderr",
     "output_type": "stream",
     "text": [
      " 52%|█████▏    | 788/1507 [37:59<42:57,  3.58s/it]"
     ]
    },
    {
     "name": "stdout",
     "output_type": "stream",
     "text": [
      "ID: TEST_0787 Question: BMW 드라이빙센터가 건립된 해는 Generated answer: 2014년 8월\n"
     ]
    },
    {
     "name": "stderr",
     "output_type": "stream",
     "text": [
      " 52%|█████▏    | 789/1507 [38:02<40:03,  3.35s/it]"
     ]
    },
    {
     "name": "stdout",
     "output_type": "stream",
     "text": [
      "ID: TEST_0788 Question: BMW그룹코리아의 2019년 총 판매 대수는 Generated answer: 5만4413대\n"
     ]
    },
    {
     "name": "stderr",
     "output_type": "stream",
     "text": [
      " 52%|█████▏    | 790/1507 [38:04<38:08,  3.19s/it]"
     ]
    },
    {
     "name": "stdout",
     "output_type": "stream",
     "text": [
      "ID: TEST_0789 Question: BMW 코리아 미래재단의 누적 기부 금액은 Generated answer: 약 320억 원\n"
     ]
    },
    {
     "name": "stderr",
     "output_type": "stream",
     "text": [
      " 52%|█████▏    | 791/1507 [38:08<38:13,  3.20s/it]"
     ]
    },
    {
     "name": "stdout",
     "output_type": "stream",
     "text": [
      "ID: TEST_0790 Question: BMW 서비스 센터 개수는 Generated answer: BMW 62개\n"
     ]
    },
    {
     "name": "stderr",
     "output_type": "stream",
     "text": [
      " 53%|█████▎    | 792/1507 [38:11<38:26,  3.23s/it]"
     ]
    },
    {
     "name": "stdout",
     "output_type": "stream",
     "text": [
      "ID: TEST_0791 Question: 삼성전자가 수립한 '반도체 비전 2030'을 위해 투자하는 전체 금액은 얼마인가 Generated answer: 60조원\n"
     ]
    },
    {
     "name": "stderr",
     "output_type": "stream",
     "text": [
      " 53%|█████▎    | 793/1507 [38:14<38:34,  3.24s/it]"
     ]
    },
    {
     "name": "stdout",
     "output_type": "stream",
     "text": [
      "ID: TEST_0792 Question: 집회 참석자들에게 제공된 품목 Generated answer: 페이스쉴드\n"
     ]
    },
    {
     "name": "stderr",
     "output_type": "stream",
     "text": [
      " 53%|█████▎    | 794/1507 [38:17<37:30,  3.16s/it]"
     ]
    },
    {
     "name": "stdout",
     "output_type": "stream",
     "text": [
      "ID: TEST_0793 Question: 윤석열 총장의 차기 대선 주자 선호도 조사 비율 Generated answer: 17. 2 %\n"
     ]
    },
    {
     "name": "stderr",
     "output_type": "stream",
     "text": [
      " 53%|█████▎    | 795/1507 [38:20<35:27,  2.99s/it]"
     ]
    },
    {
     "name": "stdout",
     "output_type": "stream",
     "text": [
      "ID: TEST_0794 Question: 더불어민주당 이낙연 대표와 이재명 경기지사의 선호도 비율 Generated answer: 21. 5 %\n"
     ]
    },
    {
     "name": "stderr",
     "output_type": "stream",
     "text": [
      " 53%|█████▎    | 796/1507 [38:23<36:19,  3.07s/it]"
     ]
    },
    {
     "name": "stdout",
     "output_type": "stream",
     "text": [
      "ID: TEST_0795 Question: 여론조사 표본오차 Generated answer: 95 % 신뢰수준에 . 9 %\n"
     ]
    },
    {
     "name": "stderr",
     "output_type": "stream",
     "text": [
      " 53%|█████▎    | 797/1507 [38:26<37:03,  3.13s/it]"
     ]
    },
    {
     "name": "stdout",
     "output_type": "stream",
     "text": [
      "ID: TEST_0796 Question: 윤 총장의 임기 종료 시점 Generated answer: 2021년 7월\n"
     ]
    },
    {
     "name": "stderr",
     "output_type": "stream",
     "text": [
      " 53%|█████▎    | 798/1507 [38:30<37:30,  3.17s/it]"
     ]
    },
    {
     "name": "stdout",
     "output_type": "stream",
     "text": [
      "ID: TEST_0797 Question: 윤 총장이 3일 방문한 장소 Generated answer: 충북 진천 법무연수원\n"
     ]
    },
    {
     "name": "stderr",
     "output_type": "stream",
     "text": [
      " 53%|█████▎    | 799/1507 [38:32<36:32,  3.10s/it]"
     ]
    },
    {
     "name": "stdout",
     "output_type": "stream",
     "text": [
      "ID: TEST_0798 Question: 전북 53번 확진자가 거주하는 지역 Generated answer: 고창에서 홀로 사는 80대 여성 D씨\n"
     ]
    },
    {
     "name": "stderr",
     "output_type": "stream",
     "text": [
      " 53%|█████▎    | 800/1507 [38:35<34:37,  2.94s/it]"
     ]
    },
    {
     "name": "stdout",
     "output_type": "stream",
     "text": [
      "ID: TEST_0799 Question: 군산 50대 남성 B씨가 확진 판정을 받은 시기 Generated answer: 지난 18일\n"
     ]
    },
    {
     "name": "stderr",
     "output_type": "stream",
     "text": [
      " 53%|█████▎    | 801/1507 [38:38<34:39,  2.95s/it]"
     ]
    },
    {
     "name": "stdout",
     "output_type": "stream",
     "text": [
      "ID: TEST_0800 Question: 전북 55번 확진자인 C씨의 나이 Generated answer: 60대 여성\n"
     ]
    },
    {
     "name": "stderr",
     "output_type": "stream",
     "text": [
      " 53%|█████▎    | 802/1507 [38:41<33:06,  2.82s/it]"
     ]
    },
    {
     "name": "stdout",
     "output_type": "stream",
     "text": [
      "ID: TEST_0801 Question: 전북 56번 확진자가 입원한 병원 Generated answer: 원광대병원\n"
     ]
    },
    {
     "name": "stderr",
     "output_type": "stream",
     "text": [
      " 53%|█████▎    | 803/1507 [38:44<34:24,  2.93s/it]"
     ]
    },
    {
     "name": "stdout",
     "output_type": "stream",
     "text": [
      "ID: TEST_0802 Question: 전북도 보건의료과장 이름 Generated answer: 강영석 전북도 보건의료과장은 \" 확진자 가족들이 경기도와 서울에 살기 때문에 사랑제일교회 관련 N차 감염일 수 있지만, 현재까지 파악된 건 없다 \" 고 말했다\n"
     ]
    },
    {
     "name": "stderr",
     "output_type": "stream",
     "text": [
      " 53%|█████▎    | 804/1507 [38:46<32:07,  2.74s/it]"
     ]
    },
    {
     "name": "stdout",
     "output_type": "stream",
     "text": [
      "ID: TEST_0803 Question: 민주당 대구시당 앞에서 열린 집회의 참가 인원 Generated answer: 400여명\n"
     ]
    },
    {
     "name": "stderr",
     "output_type": "stream",
     "text": [
      " 53%|█████▎    | 805/1507 [38:49<33:55,  2.90s/it]"
     ]
    },
    {
     "name": "stdout",
     "output_type": "stream",
     "text": [
      "ID: TEST_0804 Question: 전태일 50주기 열사 정신 계승 전국 노동자대회의 하나로 열린 집회 지역 Generated answer: 대구 노동자 및 민중대회\n"
     ]
    },
    {
     "name": "stderr",
     "output_type": "stream",
     "text": [
      " 53%|█████▎    | 806/1507 [38:52<34:29,  2.95s/it]"
     ]
    },
    {
     "name": "stdout",
     "output_type": "stream",
     "text": [
      "ID: TEST_0805 Question: 부산민중대회가 열린 장소 Generated answer: 부산시청 시민광장\n"
     ]
    },
    {
     "name": "stderr",
     "output_type": "stream",
     "text": [
      " 54%|█████▎    | 807/1507 [38:55<32:34,  2.79s/it]"
     ]
    },
    {
     "name": "stdout",
     "output_type": "stream",
     "text": [
      "ID: TEST_0806 Question: 민주노총 비상대책위원장의 이름 Generated answer: 김재하 민주노총 비상대책위원장은 대회사\n"
     ]
    },
    {
     "name": "stderr",
     "output_type": "stream",
     "text": [
      " 54%|█████▎    | 808/1507 [38:57<32:16,  2.77s/it]"
     ]
    },
    {
     "name": "stdout",
     "output_type": "stream",
     "text": [
      "ID: TEST_0807 Question: 전태일 열사의 사망 주기 Generated answer: 50주기\n"
     ]
    },
    {
     "name": "stderr",
     "output_type": "stream",
     "text": [
      " 54%|█████▎    | 809/1507 [38:59<26:05,  2.24s/it]"
     ]
    },
    {
     "name": "stdout",
     "output_type": "stream",
     "text": [
      "ID: TEST_0808 Question: 임대료 인하 시 재산세 감면 한도는 몇 퍼센트까지만 적용? Generated answer: 50 % 까지\n"
     ]
    },
    {
     "name": "stderr",
     "output_type": "stream",
     "text": [
      " 54%|█████▎    | 810/1507 [39:00<22:16,  1.92s/it]"
     ]
    },
    {
     "name": "stdout",
     "output_type": "stream",
     "text": [
      "ID: TEST_0809 Question: 재산세 감면 추진안이 시행되는 시기는? Generated answer: 5월 시의회 의결을 거쳐 시행\n"
     ]
    },
    {
     "name": "stderr",
     "output_type": "stream",
     "text": [
      " 54%|█████▍    | 811/1507 [39:01<20:52,  1.80s/it]"
     ]
    },
    {
     "name": "stdout",
     "output_type": "stream",
     "text": [
      "ID: TEST_0810 Question: 재산세 감면 대상에서 제외되는 시설은? Generated answer: 고급 오락장\n"
     ]
    },
    {
     "name": "stderr",
     "output_type": "stream",
     "text": [
      " 54%|█████▍    | 812/1507 [39:02<17:14,  1.49s/it]"
     ]
    },
    {
     "name": "stdout",
     "output_type": "stream",
     "text": [
      "ID: TEST_0811 Question: 지난해 감면된 재산세 총액은 얼마? Generated answer: 2800여만원\n"
     ]
    },
    {
     "name": "stderr",
     "output_type": "stream",
     "text": [
      " 54%|█████▍    | 813/1507 [39:03<16:13,  1.40s/it]"
     ]
    },
    {
     "name": "stdout",
     "output_type": "stream",
     "text": [
      "ID: TEST_0812 Question: 재산세 감면 추진안이 시행되기 위해 거쳐야 할 절차는? Generated answer: 시의회 의결\n"
     ]
    },
    {
     "name": "stderr",
     "output_type": "stream",
     "text": [
      " 54%|█████▍    | 814/1507 [39:06<20:20,  1.76s/it]"
     ]
    },
    {
     "name": "stdout",
     "output_type": "stream",
     "text": [
      "ID: TEST_0813 Question: 내년도 예산 총지출 증가율은 몇 퍼센트 수준에서 논의 중인가 Generated answer: 7 ~ 8 %\n"
     ]
    },
    {
     "name": "stderr",
     "output_type": "stream",
     "text": [
      " 54%|█████▍    | 815/1507 [39:09<25:36,  2.22s/it]"
     ]
    },
    {
     "name": "stdout",
     "output_type": "stream",
     "text": [
      "ID: TEST_0814 Question: 2021년 예산안 초안을 보고할 인물은 누구인가 Generated answer: 기획재정부는 이번 주 문재인 대통령\n"
     ]
    },
    {
     "name": "stderr",
     "output_type": "stream",
     "text": [
      " 54%|█████▍    | 816/1507 [39:12<29:12,  2.54s/it]"
     ]
    },
    {
     "name": "stdout",
     "output_type": "stream",
     "text": [
      "ID: TEST_0815 Question: 한국판 뉴딜에 2025년까지 투자할 금액은 Generated answer: 160조원\n"
     ]
    },
    {
     "name": "stderr",
     "output_type": "stream",
     "text": [
      " 54%|█████▍    | 817/1507 [39:16<33:24,  2.90s/it]"
     ]
    },
    {
     "name": "stdout",
     "output_type": "stream",
     "text": [
      "ID: TEST_0816 Question: 올해 본예산 규모는 얼마인가 Generated answer: 512조3000억원\n"
     ]
    },
    {
     "name": "stderr",
     "output_type": "stream",
     "text": [
      " 54%|█████▍    | 818/1507 [39:19<33:24,  2.91s/it]"
     ]
    },
    {
     "name": "stdout",
     "output_type": "stream",
     "text": [
      "ID: TEST_0817 Question: 올해 국가채무 비율은 몇 퍼센트인가 Generated answer: 43. 5 %\n"
     ]
    },
    {
     "name": "stderr",
     "output_type": "stream",
     "text": [
      " 54%|█████▍    | 819/1507 [39:22<34:19,  2.99s/it]"
     ]
    },
    {
     "name": "stdout",
     "output_type": "stream",
     "text": [
      "ID: TEST_0818 Question: A씨가 처음으로 심신이 크게 쇠약해진 이유는 무엇인가 Generated answer: 소화 장애, 호흡곤란, 자궁질환\n"
     ]
    },
    {
     "name": "stderr",
     "output_type": "stream",
     "text": [
      " 54%|█████▍    | 820/1507 [39:25<34:16,  2.99s/it]"
     ]
    },
    {
     "name": "stdout",
     "output_type": "stream",
     "text": [
      "ID: TEST_0819 Question: A씨가 도청 근무 시 겪은 신체적 불편함 중 하나는 Generated answer: 하혈로 수술\n"
     ]
    },
    {
     "name": "stderr",
     "output_type": "stream",
     "text": [
      " 54%|█████▍    | 821/1507 [39:28<32:30,  2.84s/it]"
     ]
    },
    {
     "name": "stdout",
     "output_type": "stream",
     "text": [
      "ID: TEST_0820 Question: A씨가 병가를 신청한 기간은 몇 주인가 Generated answer: 2주간\n"
     ]
    },
    {
     "name": "stderr",
     "output_type": "stream",
     "text": [
      " 55%|█████▍    | 822/1507 [39:30<31:39,  2.77s/it]"
     ]
    },
    {
     "name": "stdout",
     "output_type": "stream",
     "text": [
      "ID: TEST_0821 Question: 사건이 발생한 장소는 어디인가 Generated answer: 도청 현관 데스크\n"
     ]
    },
    {
     "name": "stderr",
     "output_type": "stream",
     "text": [
      " 55%|█████▍    | 823/1507 [39:33<32:01,  2.81s/it]"
     ]
    },
    {
     "name": "stdout",
     "output_type": "stream",
     "text": [
      "ID: TEST_0822 Question: 청경 총괄 부서는 어디인가 Generated answer: 총무과와\n"
     ]
    },
    {
     "name": "stderr",
     "output_type": "stream",
     "text": [
      " 55%|█████▍    | 824/1507 [39:38<37:21,  3.28s/it]"
     ]
    },
    {
     "name": "stdout",
     "output_type": "stream",
     "text": [
      "ID: TEST_0823 Question: 국립대구박물관의 위치는 어디야 Generated answer: 대구 수성구 청호로 321 ( 황금동 )\n"
     ]
    },
    {
     "name": "stderr",
     "output_type": "stream",
     "text": [
      " 55%|█████▍    | 825/1507 [39:42<41:06,  3.62s/it]"
     ]
    },
    {
     "name": "stdout",
     "output_type": "stream",
     "text": [
      "ID: TEST_0824 Question: 대구섬유박물관의 위치는 어디야 Generated answer: 대구 동구 팔공로 227\n"
     ]
    },
    {
     "name": "stderr",
     "output_type": "stream",
     "text": [
      " 55%|█████▍    | 826/1507 [39:46<43:39,  3.85s/it]"
     ]
    },
    {
     "name": "stdout",
     "output_type": "stream",
     "text": [
      "ID: TEST_0825 Question: 팔공산자수박물관의 위치는 어디야 Generated answer: 대구 동구 팔공산로 1165 - 5\n"
     ]
    },
    {
     "name": "stderr",
     "output_type": "stream",
     "text": [
      " 55%|█████▍    | 827/1507 [39:51<45:13,  3.99s/it]"
     ]
    },
    {
     "name": "stdout",
     "output_type": "stream",
     "text": [
      "ID: TEST_0826 Question: 자연염색박물관의 위치는 어디야 Generated answer: 팔공산에는 국내 유일의 자연염색 박물관도 있다. 대구 동구 파계로112길 17\n"
     ]
    },
    {
     "name": "stderr",
     "output_type": "stream",
     "text": [
      " 55%|█████▍    | 828/1507 [39:54<43:01,  3.80s/it]"
     ]
    },
    {
     "name": "stdout",
     "output_type": "stream",
     "text": [
      "ID: TEST_0827 Question: 약령시한의약박물관의 위치는 어디야 Generated answer: 대구 중구 달구벌대로415길 49\n"
     ]
    },
    {
     "name": "stderr",
     "output_type": "stream",
     "text": [
      " 55%|█████▌    | 829/1507 [39:57<41:12,  3.65s/it]"
     ]
    },
    {
     "name": "stdout",
     "output_type": "stream",
     "text": [
      "ID: TEST_0828 Question: FT가 바이든 당선으로 가장 수혜를 볼 나라로 꼽은 곳은 어딘가 Generated answer: 독일이 꼽힌다. 독일\n"
     ]
    },
    {
     "name": "stderr",
     "output_type": "stream",
     "text": [
      " 55%|█████▌    | 830/1507 [40:01<40:13,  3.56s/it]"
     ]
    },
    {
     "name": "stdout",
     "output_type": "stream",
     "text": [
      "ID: TEST_0829 Question: 트럼프 대통령과 친분이 두터웠던 정상 중 브라질 대통령의 이름은 Generated answer: 자이르 보우소나루\n"
     ]
    },
    {
     "name": "stderr",
     "output_type": "stream",
     "text": [
      " 55%|█████▌    | 831/1507 [40:04<38:35,  3.43s/it]"
     ]
    },
    {
     "name": "stdout",
     "output_type": "stream",
     "text": [
      "ID: TEST_0830 Question: 트럼프 대통령이 탈퇴를 선언한 기후 협약의 이름은 Generated answer: 파리 기후협약\n"
     ]
    },
    {
     "name": "stderr",
     "output_type": "stream",
     "text": [
      " 55%|█████▌    | 832/1507 [40:06<34:47,  3.09s/it]"
     ]
    },
    {
     "name": "stdout",
     "output_type": "stream",
     "text": [
      "ID: TEST_0831 Question: 트럼프 행정부가 독일과 충돌한 문제는 무엇인가 Generated answer: 방위비 분담 문제\n"
     ]
    },
    {
     "name": "stderr",
     "output_type": "stream",
     "text": [
      " 55%|█████▌    | 833/1507 [40:09<35:23,  3.15s/it]"
     ]
    },
    {
     "name": "stdout",
     "output_type": "stream",
     "text": [
      "ID: TEST_0832 Question: 시 주석이 바이든 행정부에서 기대하기 어려운 긍정적 평가 요인은 Generated answer: 브로맨스\n"
     ]
    },
    {
     "name": "stderr",
     "output_type": "stream",
     "text": [
      " 55%|█████▌    | 834/1507 [40:11<30:52,  2.75s/it]"
     ]
    },
    {
     "name": "stdout",
     "output_type": "stream",
     "text": [
      "ID: TEST_0833 Question: 행사가 열린 장소 Generated answer: 광주지역본부 주차장\n"
     ]
    },
    {
     "name": "stderr",
     "output_type": "stream",
     "text": [
      " 55%|█████▌    | 835/1507 [40:13<26:27,  2.36s/it]"
     ]
    },
    {
     "name": "stdout",
     "output_type": "stream",
     "text": [
      "ID: TEST_0834 Question: 행사가 열린 요일 Generated answer: 광주지역본부 주차장에서 열린 금요직거래장터\n"
     ]
    },
    {
     "name": "stderr",
     "output_type": "stream",
     "text": [
      " 55%|█████▌    | 836/1507 [40:14<22:42,  2.03s/it]"
     ]
    },
    {
     "name": "stdout",
     "output_type": "stream",
     "text": [
      "ID: TEST_0835 Question: 캠페인에 동참한 단체 Generated answer: NH농협은행 대학생봉사단 N돌핀\n"
     ]
    },
    {
     "name": "stderr",
     "output_type": "stream",
     "text": [
      " 56%|█████▌    | 837/1507 [40:15<19:04,  1.71s/it]"
     ]
    },
    {
     "name": "stdout",
     "output_type": "stream",
     "text": [
      "ID: TEST_0836 Question: 캠페인의 주요 목적인 감축 물질 Generated answer: 탄소배출\n"
     ]
    },
    {
     "name": "stderr",
     "output_type": "stream",
     "text": [
      " 56%|█████▌    | 838/1507 [40:16<16:59,  1.52s/it]"
     ]
    },
    {
     "name": "stdout",
     "output_type": "stream",
     "text": [
      "ID: TEST_0837 Question: 본부장의 성씨 Generated answer: 강형구\n"
     ]
    },
    {
     "name": "stderr",
     "output_type": "stream",
     "text": [
      " 56%|█████▌    | 839/1507 [40:19<22:48,  2.05s/it]"
     ]
    },
    {
     "name": "stdout",
     "output_type": "stream",
     "text": [
      "ID: TEST_0838 Question: 서울시 마스크 미착용 시 과태료 Generated answer: 10만원\n"
     ]
    },
    {
     "name": "stderr",
     "output_type": "stream",
     "text": [
      " 56%|█████▌    | 840/1507 [40:22<24:48,  2.23s/it]"
     ]
    },
    {
     "name": "stdout",
     "output_type": "stream",
     "text": [
      "ID: TEST_0839 Question: 서울시 도심 집회 금지 장소 Generated answer: 광화문과 서울광장\n"
     ]
    },
    {
     "name": "stderr",
     "output_type": "stream",
     "text": [
      " 56%|█████▌    | 841/1507 [40:25<28:37,  2.58s/it]"
     ]
    },
    {
     "name": "stdout",
     "output_type": "stream",
     "text": [
      "ID: TEST_0840 Question: 서울시 한강 공원 중 이용 가능한 공원 Generated answer: 뚝섬과 여의도\n"
     ]
    },
    {
     "name": "stderr",
     "output_type": "stream",
     "text": [
      " 56%|█████▌    | 842/1507 [40:28<29:08,  2.63s/it]"
     ]
    },
    {
     "name": "stdout",
     "output_type": "stream",
     "text": [
      "ID: TEST_0841 Question: 유흥시설 휴식시간 도입된 시간 Generated answer: 1시간당 10분\n"
     ]
    },
    {
     "name": "stderr",
     "output_type": "stream",
     "text": [
      " 56%|█████▌    | 843/1507 [40:31<31:13,  2.82s/it]"
     ]
    },
    {
     "name": "stdout",
     "output_type": "stream",
     "text": [
      "ID: TEST_0842 Question: 교회의 대면 예배 제한 인원 Generated answer: 전체 좌석의 30 % 이내\n"
     ]
    },
    {
     "name": "stderr",
     "output_type": "stream",
     "text": [
      " 56%|█████▌    | 844/1507 [40:34<29:07,  2.64s/it]"
     ]
    },
    {
     "name": "stdout",
     "output_type": "stream",
     "text": [
      "ID: TEST_0843 Question: 서울 서초구 서울중앙지검 앞 집회를 주최한 단체는 Generated answer: 보수 성향 단체\n"
     ]
    },
    {
     "name": "stderr",
     "output_type": "stream",
     "text": [
      " 56%|█████▌    | 845/1507 [40:36<27:37,  2.50s/it]"
     ]
    },
    {
     "name": "stdout",
     "output_type": "stream",
     "text": [
      "ID: TEST_0844 Question: 사회적 거리두기가 1단계로 완화되어 가능해진 집회 규모는 Generated answer: 소규모 집회가 열렸다. 지난 12일부터 10인 이상 100인 미만 집회\n"
     ]
    },
    {
     "name": "stderr",
     "output_type": "stream",
     "text": [
      " 56%|█████▌    | 846/1507 [40:38<26:34,  2.41s/it]"
     ]
    },
    {
     "name": "stdout",
     "output_type": "stream",
     "text": [
      "ID: TEST_0845 Question: 대검찰청 앞 차량 집회를 주최한 단체는 Generated answer: 보수 성향 단체\n"
     ]
    },
    {
     "name": "stderr",
     "output_type": "stream",
     "text": [
      " 56%|█████▌    | 847/1507 [40:40<25:47,  2.35s/it]"
     ]
    },
    {
     "name": "stdout",
     "output_type": "stream",
     "text": [
      "ID: TEST_0846 Question: 100인 미만 소규모 집회가 불가능한 장소는 Generated answer: 광화문 광장은\n"
     ]
    },
    {
     "name": "stderr",
     "output_type": "stream",
     "text": [
      " 56%|█████▋    | 848/1507 [40:42<25:14,  2.30s/it]"
     ]
    },
    {
     "name": "stdout",
     "output_type": "stream",
     "text": [
      "ID: TEST_0847 Question: 17일 0시 기준 신규 코로나 19 확진자 수는 Generated answer: 73명이다\n"
     ]
    },
    {
     "name": "stderr",
     "output_type": "stream",
     "text": [
      " 56%|█████▋    | 849/1507 [40:46<28:29,  2.60s/it]"
     ]
    },
    {
     "name": "stdout",
     "output_type": "stream",
     "text": [
      "ID: TEST_0848 Question: 전셋값 상승률이 높은 강남 4구 지역 Generated answer: 서초 · 송파 · 강동구\n"
     ]
    },
    {
     "name": "stderr",
     "output_type": "stream",
     "text": [
      " 56%|█████▋    | 850/1507 [40:49<30:44,  2.81s/it]"
     ]
    },
    {
     "name": "stdout",
     "output_type": "stream",
     "text": [
      "ID: TEST_0849 Question: 서울∼문산 고속도로의 총 길이는 Generated answer: 35. 2㎞\n"
     ]
    },
    {
     "name": "stderr",
     "output_type": "stream",
     "text": [
      " 56%|█████▋    | 851/1507 [40:52<32:11,  2.94s/it]"
     ]
    },
    {
     "name": "stdout",
     "output_type": "stream",
     "text": [
      "ID: TEST_0850 Question: 서울∼문산 고속도로의 건설 종료 연도는 Generated answer: 2015년 11월 공사를 시작한 지 5년\n"
     ]
    },
    {
     "name": "stderr",
     "output_type": "stream",
     "text": [
      " 57%|█████▋    | 852/1507 [40:55<33:14,  3.05s/it]"
     ]
    },
    {
     "name": "stdout",
     "output_type": "stream",
     "text": [
      "ID: TEST_0851 Question: 서울∼문산 고속도로의 총 건설비용은 Generated answer: 2조1990억원\n"
     ]
    },
    {
     "name": "stderr",
     "output_type": "stream",
     "text": [
      " 57%|█████▋    | 853/1507 [40:59<34:00,  3.12s/it]"
     ]
    },
    {
     "name": "stdout",
     "output_type": "stream",
     "text": [
      "ID: TEST_0852 Question: 서울∼문산 고속도로의 준공식 날짜는 Generated answer: 다음 달 6일\n"
     ]
    },
    {
     "name": "stderr",
     "output_type": "stream",
     "text": [
      " 57%|█████▋    | 854/1507 [41:02<34:38,  3.18s/it]"
     ]
    },
    {
     "name": "stdout",
     "output_type": "stream",
     "text": [
      "ID: TEST_0853 Question: 서울∼문산 고속도로의 통행료 수준은 Generated answer: 2900원 수준\n"
     ]
    },
    {
     "name": "stderr",
     "output_type": "stream",
     "text": [
      " 57%|█████▋    | 855/1507 [41:06<38:21,  3.53s/it]"
     ]
    },
    {
     "name": "stdout",
     "output_type": "stream",
     "text": [
      "ID: TEST_0854 Question: 캐나다가 백신을 몇 회 분 구매했는지 Generated answer: 5600만회\n"
     ]
    },
    {
     "name": "stderr",
     "output_type": "stream",
     "text": [
      " 57%|█████▋    | 856/1507 [41:11<41:03,  3.78s/it]"
     ]
    },
    {
     "name": "stdout",
     "output_type": "stream",
     "text": [
      "ID: TEST_0855 Question: 미국의 잠재적 백신 구매 물량 Generated answer: 26억 1000만회\n"
     ]
    },
    {
     "name": "stderr",
     "output_type": "stream",
     "text": [
      " 57%|█████▋    | 857/1507 [41:15<42:55,  3.96s/it]"
     ]
    },
    {
     "name": "stdout",
     "output_type": "stream",
     "text": [
      "ID: TEST_0856 Question: 존슨앤존슨 백신이 몇 회 접종인지 Generated answer: 1회 접종\n"
     ]
    },
    {
     "name": "stderr",
     "output_type": "stream",
     "text": [
      " 57%|█████▋    | 858/1507 [41:20<44:12,  4.09s/it]"
     ]
    },
    {
     "name": "stdout",
     "output_type": "stream",
     "text": [
      "ID: TEST_0857 Question: 베트남의 누적 확진자 수 Generated answer: 1304명\n"
     ]
    },
    {
     "name": "stderr",
     "output_type": "stream",
     "text": [
      " 57%|█████▋    | 859/1507 [41:23<41:53,  3.88s/it]"
     ]
    },
    {
     "name": "stdout",
     "output_type": "stream",
     "text": [
      "ID: TEST_0858 Question: 듀크대가 전망한 글로벌 백신 공급 완료 시기 Generated answer: 2023 ~ 2024년\n"
     ]
    },
    {
     "name": "stderr",
     "output_type": "stream",
     "text": [
      " 57%|█████▋    | 860/1507 [41:26<39:31,  3.67s/it]"
     ]
    },
    {
     "name": "stdout",
     "output_type": "stream",
     "text": [
      "ID: TEST_0859 Question: 대검찰청 국정감사가 예정된 날짜 Generated answer: 오는 22일\n"
     ]
    },
    {
     "name": "stderr",
     "output_type": "stream",
     "text": [
      " 57%|█████▋    | 861/1507 [41:29<37:34,  3.49s/it]"
     ]
    },
    {
     "name": "stdout",
     "output_type": "stream",
     "text": [
      "ID: TEST_0860 Question: 미국 FTC의 로히트 초프라 상임위원이 언급한 법안의 대상은 누구인지 Generated answer: 소셜미디어 플랫폼과 광고주\n"
     ]
    },
    {
     "name": "stderr",
     "output_type": "stream",
     "text": [
      " 57%|█████▋    | 862/1507 [41:33<37:32,  3.49s/it]"
     ]
    },
    {
     "name": "stdout",
     "output_type": "stream",
     "text": [
      "ID: TEST_0861 Question: 정의선 회장이 보유한 현대글로비스 지분은 몇 퍼센트인가 Generated answer: 23. 29 %\n"
     ]
    },
    {
     "name": "stderr",
     "output_type": "stream",
     "text": [
      " 57%|█████▋    | 863/1507 [41:36<37:11,  3.47s/it]"
     ]
    },
    {
     "name": "stdout",
     "output_type": "stream",
     "text": [
      "ID: TEST_0862 Question: 현대차그룹이 GBC를 완공하는 데 드는 추정 개발비는 얼마인가 Generated answer: 3조원 이상\n"
     ]
    },
    {
     "name": "stderr",
     "output_type": "stream",
     "text": [
      " 57%|█████▋    | 864/1507 [41:40<39:48,  3.72s/it]"
     ]
    },
    {
     "name": "stdout",
     "output_type": "stream",
     "text": [
      "ID: TEST_0863 Question: 2018년 현대차그룹 지배구조 개편이 무산된 이유는 무엇인가 Generated answer: 핵심 기업 주주들을 설득하기 어려웠던 측면\n"
     ]
    },
    {
     "name": "stderr",
     "output_type": "stream",
     "text": [
      " 57%|█████▋    | 865/1507 [41:44<40:41,  3.80s/it]"
     ]
    },
    {
     "name": "stdout",
     "output_type": "stream",
     "text": [
      "ID: TEST_0864 Question: 정의선 회장이 상장 가능성이 있는 회사는 무엇인가 Generated answer: 현대엔지니어링의\n"
     ]
    },
    {
     "name": "stderr",
     "output_type": "stream",
     "text": [
      " 57%|█████▋    | 866/1507 [41:48<40:10,  3.76s/it]"
     ]
    },
    {
     "name": "stdout",
     "output_type": "stream",
     "text": [
      "ID: TEST_0865 Question: 현대차그룹이 중고차 시장 진출을 주도할 회사는 어디인가 Generated answer: 현대글로비스\n"
     ]
    },
    {
     "name": "stderr",
     "output_type": "stream",
     "text": [
      " 58%|█████▊    | 867/1507 [41:50<35:05,  3.29s/it]"
     ]
    },
    {
     "name": "stdout",
     "output_type": "stream",
     "text": [
      "ID: TEST_0866 Question: 화웨이의 자체운영체제(OS) 이름 Generated answer: 2. 0\n"
     ]
    },
    {
     "name": "stderr",
     "output_type": "stream",
     "text": [
      " 58%|█████▊    | 868/1507 [41:52<31:31,  2.96s/it]"
     ]
    },
    {
     "name": "stdout",
     "output_type": "stream",
     "text": [
      "ID: TEST_0867 Question: 화웨이 소비자 부문 최고경영자(CEO) 이름 Generated answer: 위청둥\n"
     ]
    },
    {
     "name": "stderr",
     "output_type": "stream",
     "text": [
      " 58%|█████▊    | 869/1507 [41:55<29:02,  2.73s/it]"
     ]
    },
    {
     "name": "stdout",
     "output_type": "stream",
     "text": [
      "ID: TEST_0868 Question: 화웨이가 스마트폰 브랜드를 매각하려는 브랜드 이름 Generated answer: 아너 ( Honor )\n"
     ]
    },
    {
     "name": "stderr",
     "output_type": "stream",
     "text": [
      " 58%|█████▊    | 870/1507 [41:57<27:16,  2.57s/it]"
     ]
    },
    {
     "name": "stdout",
     "output_type": "stream",
     "text": [
      "ID: TEST_0869 Question: 기린칩을 생산해온 대만 업체 이름 Generated answer: 파운드리 ( 반도체 위탁생산 업체 ) TSMC\n"
     ]
    },
    {
     "name": "stderr",
     "output_type": "stream",
     "text": [
      " 58%|█████▊    | 871/1507 [41:59<25:59,  2.45s/it]"
     ]
    },
    {
     "name": "stdout",
     "output_type": "stream",
     "text": [
      "ID: TEST_0870 Question: 화웨이 스마트폰 시장 점유율이 폭락할 것으로 예상하는 연도 Generated answer: 2021년쯤에는 스마트폰 시장 점유율이 4. 3 %\n"
     ]
    },
    {
     "name": "stderr",
     "output_type": "stream",
     "text": [
      " 58%|█████▊    | 872/1507 [42:03<32:04,  3.03s/it]"
     ]
    },
    {
     "name": "stdout",
     "output_type": "stream",
     "text": [
      "ID: TEST_0871 Question: 신세계인터내셔날의 7월 20일~8월 9일 뷰티 부문 매출 증가율은 Generated answer: 459 %\n"
     ]
    },
    {
     "name": "stderr",
     "output_type": "stream",
     "text": [
      " 58%|█████▊    | 873/1507 [42:07<32:50,  3.11s/it]"
     ]
    },
    {
     "name": "stdout",
     "output_type": "stream",
     "text": [
      "ID: TEST_0872 Question: 니치 향수 전체 브랜드 매출 증가율은 Generated answer: 680 % 늘었다.\n"
     ]
    },
    {
     "name": "stderr",
     "output_type": "stream",
     "text": [
      " 58%|█████▊    | 874/1507 [42:10<33:22,  3.16s/it]"
     ]
    },
    {
     "name": "stdout",
     "output_type": "stream",
     "text": [
      "ID: TEST_0873 Question: 바이레도의 매출 신장률은 Generated answer: 926 %\n"
     ]
    },
    {
     "name": "stderr",
     "output_type": "stream",
     "text": [
      " 58%|█████▊    | 875/1507 [42:13<33:41,  3.20s/it]"
     ]
    },
    {
     "name": "stdout",
     "output_type": "stream",
     "text": [
      "ID: TEST_0874 Question: 산타 마리아 노벨라의 매출 신장률은 Generated answer: 618 %\n"
     ]
    },
    {
     "name": "stderr",
     "output_type": "stream",
     "text": [
      " 58%|█████▊    | 876/1507 [42:17<33:58,  3.23s/it]"
     ]
    },
    {
     "name": "stdout",
     "output_type": "stream",
     "text": [
      "ID: TEST_0875 Question: 네츄라 비세의 온라인 매출 증가율은 Generated answer: 1138 %\n"
     ]
    },
    {
     "name": "stderr",
     "output_type": "stream",
     "text": [
      " 58%|█████▊    | 877/1507 [42:19<30:35,  2.91s/it]"
     ]
    },
    {
     "name": "stdout",
     "output_type": "stream",
     "text": [
      "ID: TEST_0876 Question: 반도체 특별법 발의 목표 시점은 Generated answer: 29일 오는 8월\n"
     ]
    },
    {
     "name": "stderr",
     "output_type": "stream",
     "text": [
      " 58%|█████▊    | 878/1507 [42:21<28:15,  2.70s/it]"
     ]
    },
    {
     "name": "stdout",
     "output_type": "stream",
     "text": [
      "ID: TEST_0877 Question: 반도체 특위 위원장은 누구 Generated answer: 양향자\n"
     ]
    },
    {
     "name": "stderr",
     "output_type": "stream",
     "text": [
      " 58%|█████▊    | 879/1507 [42:23<26:37,  2.54s/it]"
     ]
    },
    {
     "name": "stdout",
     "output_type": "stream",
     "text": [
      "ID: TEST_0878 Question: 반도체 특위 회의에서 취합 예정인 시행령들은 몇 월 중 변경될 예정인가 Generated answer: 5월중\n"
     ]
    },
    {
     "name": "stderr",
     "output_type": "stream",
     "text": [
      " 58%|█████▊    | 880/1507 [42:25<25:28,  2.44s/it]"
     ]
    },
    {
     "name": "stdout",
     "output_type": "stream",
     "text": [
      "ID: TEST_0879 Question: 민주당 반도체 특위 부위원장 중 하나는 누구 Generated answer: 양향자\n"
     ]
    },
    {
     "name": "stderr",
     "output_type": "stream",
     "text": [
      " 58%|█████▊    | 881/1507 [42:27<24:39,  2.36s/it]"
     ]
    },
    {
     "name": "stdout",
     "output_type": "stream",
     "text": [
      "ID: TEST_0880 Question: 반도체 특위 출범 일자는 Generated answer: 29일 오는 8월까지 초 ( ) 파격적인 지원 방안을 담은 반도체 특별법을 발의해 반도체 기술 패권경쟁에서 속도전에 나서겠다고 밝혔다. 양향자 ( 광주 서구을 )\n"
     ]
    },
    {
     "name": "stderr",
     "output_type": "stream",
     "text": [
      " 59%|█████▊    | 882/1507 [42:32<30:38,  2.94s/it]"
     ]
    },
    {
     "name": "stdout",
     "output_type": "stream",
     "text": [
      "ID: TEST_0881 Question: 김모씨가 신청한 주택형의 하한선 자녀 수는 Generated answer: 3명이\n"
     ]
    },
    {
     "name": "stderr",
     "output_type": "stream",
     "text": [
      " 59%|█████▊    | 883/1507 [42:35<31:59,  3.08s/it]"
     ]
    },
    {
     "name": "stdout",
     "output_type": "stream",
     "text": [
      "ID: TEST_0882 Question: 다자녀 특별공급의 과천을 제외한 수도권 하한선 점수는 Generated answer: 80점 이상\n"
     ]
    },
    {
     "name": "stderr",
     "output_type": "stream",
     "text": [
      " 59%|█████▊    | 884/1507 [42:40<35:58,  3.46s/it]"
     ]
    },
    {
     "name": "stdout",
     "output_type": "stream",
     "text": [
      "ID: TEST_0883 Question: 신혼부부 경쟁률은 Generated answer: 141대 1\n"
     ]
    },
    {
     "name": "stderr",
     "output_type": "stream",
     "text": [
      " 59%|█████▊    | 885/1507 [42:44<38:46,  3.74s/it]"
     ]
    },
    {
     "name": "stdout",
     "output_type": "stream",
     "text": [
      "ID: TEST_0884 Question: 85점을 받으려면 필요한 영·유아 수는 Generated answer: 6세 미만 ) 2명\n"
     ]
    },
    {
     "name": "stderr",
     "output_type": "stream",
     "text": [
      " 59%|█████▉    | 886/1507 [42:48<40:43,  3.94s/it]"
     ]
    },
    {
     "name": "stdout",
     "output_type": "stream",
     "text": [
      "ID: TEST_0885 Question: 청약통장 가입 기간 만점 점수는 Generated answer: 10년 이상\n"
     ]
    },
    {
     "name": "stderr",
     "output_type": "stream",
     "text": [
      " 59%|█████▉    | 887/1507 [42:52<38:36,  3.74s/it]"
     ]
    },
    {
     "name": "stdout",
     "output_type": "stream",
     "text": [
      "ID: TEST_0886 Question: 어떤 성향 응답자 중 36.4%가 공수처 설치에 대해 다소 부정적인가 Generated answer: 진보 성향의 응답자\n"
     ]
    },
    {
     "name": "stderr",
     "output_type": "stream",
     "text": [
      " 59%|█████▉    | 888/1507 [42:54<35:43,  3.46s/it]"
     ]
    },
    {
     "name": "stdout",
     "output_type": "stream",
     "text": [
      "ID: TEST_0887 Question: 법조출입 기자 중 가장 많이 출입하는 곳은 어디인가 Generated answer: 서울중앙지검\n"
     ]
    },
    {
     "name": "stderr",
     "output_type": "stream",
     "text": [
      " 59%|█████▉    | 889/1507 [42:57<34:18,  3.33s/it]"
     ]
    },
    {
     "name": "stdout",
     "output_type": "stream",
     "text": [
      "ID: TEST_0888 Question: 설문 응답자 중 몇 퍼센트가 남성인가 Generated answer: 71. 1 %\n"
     ]
    },
    {
     "name": "stderr",
     "output_type": "stream",
     "text": [
      " 59%|█████▉    | 890/1507 [43:00<33:03,  3.22s/it]"
     ]
    },
    {
     "name": "stdout",
     "output_type": "stream",
     "text": [
      "ID: TEST_0889 Question: 설문 응답자 중 1년 이상 2년 이하의 경력을 가진 비율은 Generated answer: 28. 3 %\n"
     ]
    },
    {
     "name": "stderr",
     "output_type": "stream",
     "text": [
      " 59%|█████▉    | 891/1507 [43:04<32:49,  3.20s/it]"
     ]
    },
    {
     "name": "stdout",
     "output_type": "stream",
     "text": [
      "ID: TEST_0890 Question: 법조언론인클럽이 결성된 연도는 Generated answer: 2007년 결성\n"
     ]
    },
    {
     "name": "stderr",
     "output_type": "stream",
     "text": [
      " 59%|█████▉    | 892/1507 [43:07<33:28,  3.27s/it]"
     ]
    },
    {
     "name": "stdout",
     "output_type": "stream",
     "text": [
      "ID: TEST_0891 Question: 대한항공 사장이 기자들에게 발표한 내용은 Generated answer: “ 아시아나항공과 자회사는 통합 이후 인력 구조조정을 안 한다 ”\n"
     ]
    },
    {
     "name": "stderr",
     "output_type": "stream",
     "text": [
      " 59%|█████▉    | 893/1507 [43:11<36:47,  3.60s/it]"
     ]
    },
    {
     "name": "stdout",
     "output_type": "stream",
     "text": [
      "ID: TEST_0892 Question: 두산그룹에서 인수 우선협상대상자 선정을 위한 본입찰이 예정된 날짜는 Generated answer: 24일 예정\n"
     ]
    },
    {
     "name": "stderr",
     "output_type": "stream",
     "text": [
      " 59%|█████▉    | 894/1507 [43:15<36:31,  3.57s/it]"
     ]
    },
    {
     "name": "stdout",
     "output_type": "stream",
     "text": [
      "ID: TEST_0893 Question: 두산인프라 지분을 가진 두산중공업이 계획한 유상증자 규모는 Generated answer: 1조3000억원\n"
     ]
    },
    {
     "name": "stderr",
     "output_type": "stream",
     "text": [
      " 59%|█████▉    | 895/1507 [43:18<34:49,  3.41s/it]"
     ]
    },
    {
     "name": "stdout",
     "output_type": "stream",
     "text": [
      "ID: TEST_0894 Question: 요기요를 운영하는 회사는 Generated answer: 딜리버리히어로\n"
     ]
    },
    {
     "name": "stderr",
     "output_type": "stream",
     "text": [
      " 59%|█████▉    | 896/1507 [43:21<34:22,  3.38s/it]"
     ]
    },
    {
     "name": "stdout",
     "output_type": "stream",
     "text": [
      "ID: TEST_0895 Question: 아시아나항공을 인수하는 그룹은 Generated answer: 한진그룹이\n"
     ]
    },
    {
     "name": "stderr",
     "output_type": "stream",
     "text": [
      " 60%|█████▉    | 897/1507 [43:24<34:01,  3.35s/it]"
     ]
    },
    {
     "name": "stdout",
     "output_type": "stream",
     "text": [
      "ID: TEST_0896 Question: 윤희숙 의원의 소속 정당은 무엇인가 Generated answer: 미래통합당\n"
     ]
    },
    {
     "name": "stderr",
     "output_type": "stream",
     "text": [
      " 60%|█████▉    | 898/1507 [43:28<33:45,  3.33s/it]"
     ]
    },
    {
     "name": "stdout",
     "output_type": "stream",
     "text": [
      "ID: TEST_0897 Question: 전세 거주 비율이 급락한 해는 언제인가 Generated answer: 2014년 이후 2019년\n"
     ]
    },
    {
     "name": "stderr",
     "output_type": "stream",
     "text": [
      " 60%|█████▉    | 899/1507 [43:31<32:19,  3.19s/it]"
     ]
    },
    {
     "name": "stdout",
     "output_type": "stream",
     "text": [
      "ID: TEST_0898 Question: 2019년 수도권 저소득층의 월세 거주 비율은 몇 퍼센트인가 Generated answer: 7. 4 %\n"
     ]
    },
    {
     "name": "stderr",
     "output_type": "stream",
     "text": [
      " 60%|█████▉    | 900/1507 [43:33<30:32,  3.02s/it]"
     ]
    },
    {
     "name": "stdout",
     "output_type": "stream",
     "text": [
      "ID: TEST_0899 Question: 기준금리 2% 이하가 된 해는 언제인가 Generated answer: 2014년 이후에는 전세는 줄고 월세는 느는 추세가 뚜렷했다. 9일 국토부'주택소유통계'에 따르면 2014년\n"
     ]
    },
    {
     "name": "stderr",
     "output_type": "stream",
     "text": [
      " 60%|█████▉    | 901/1507 [43:36<31:14,  3.09s/it]"
     ]
    },
    {
     "name": "stdout",
     "output_type": "stream",
     "text": [
      "ID: TEST_0900 Question: 전·월세 전환율이 하락한 해는 언제인가 Generated answer: 2011년 전국 주택 시장 내 전 · 월세 전환율은 9. 6 % 에서 올해\n"
     ]
    },
    {
     "name": "stderr",
     "output_type": "stream",
     "text": [
      " 60%|█████▉    | 902/1507 [43:39<29:43,  2.95s/it]"
     ]
    },
    {
     "name": "stdout",
     "output_type": "stream",
     "text": [
      "ID: TEST_0901 Question: 조모씨가 결혼식을 변경한 곳 Generated answer: 서울의 한 특급호텔\n"
     ]
    },
    {
     "name": "stderr",
     "output_type": "stream",
     "text": [
      " 60%|█████▉    | 903/1507 [43:42<29:30,  2.93s/it]"
     ]
    },
    {
     "name": "stdout",
     "output_type": "stream",
     "text": [
      "ID: TEST_0902 Question: 원래 예약했던 웨딩홀에서 결혼식을 진행하기 어려워진 이유 Generated answer: 하객 수가 줄면서\n"
     ]
    },
    {
     "name": "stderr",
     "output_type": "stream",
     "text": [
      " 60%|█████▉    | 904/1507 [43:45<29:45,  2.96s/it]"
     ]
    },
    {
     "name": "stdout",
     "output_type": "stream",
     "text": [
      "ID: TEST_0903 Question: 조모씨가 호텔 웨딩을 선택한 이유 Generated answer: 코로나19\n"
     ]
    },
    {
     "name": "stderr",
     "output_type": "stream",
     "text": [
      " 60%|██████    | 905/1507 [43:47<28:11,  2.81s/it]"
     ]
    },
    {
     "name": "stdout",
     "output_type": "stream",
     "text": [
      "ID: TEST_0904 Question: 마이크로 웨딩'의 하객 수 Generated answer: 50명 미만\n"
     ]
    },
    {
     "name": "stderr",
     "output_type": "stream",
     "text": [
      " 60%|██████    | 906/1507 [43:51<29:33,  2.95s/it]"
     ]
    },
    {
     "name": "stdout",
     "output_type": "stream",
     "text": [
      "ID: TEST_0905 Question: 롯데호텔 서울의 여러 연회장을 동시에 사용하는 예식 방식 Generated answer: 따로 또 같이\n"
     ]
    },
    {
     "name": "stderr",
     "output_type": "stream",
     "text": [
      " 60%|██████    | 907/1507 [43:54<29:41,  2.97s/it]"
     ]
    },
    {
     "name": "stdout",
     "output_type": "stream",
     "text": [
      "ID: TEST_0906 Question: 거리두기 조정안을 발표하는 날짜 Generated answer: 11일 정례 브리핑에서\n"
     ]
    },
    {
     "name": "stderr",
     "output_type": "stream",
     "text": [
      " 60%|██████    | 908/1507 [43:56<28:12,  2.82s/it]"
     ]
    },
    {
     "name": "stdout",
     "output_type": "stream",
     "text": [
      "ID: TEST_0907 Question: 금융권 대출 현황 분석 결과 발생한 총 대출금은 Generated answer: 2893억원\n"
     ]
    },
    {
     "name": "stderr",
     "output_type": "stream",
     "text": [
      " 60%|██████    | 909/1507 [44:00<29:29,  2.96s/it]"
     ]
    },
    {
     "name": "stdout",
     "output_type": "stream",
     "text": [
      "ID: TEST_0908 Question: 김포골드선의 종착역은 어디야 Generated answer: 김포공항역\n"
     ]
    },
    {
     "name": "stderr",
     "output_type": "stream",
     "text": [
      " 60%|██████    | 910/1507 [44:03<30:58,  3.11s/it]"
     ]
    },
    {
     "name": "stdout",
     "output_type": "stream",
     "text": [
      "ID: TEST_0909 Question: MS가 고려 중인 플랫폼은 Generated answer: 틱톡 인수\n"
     ]
    },
    {
     "name": "stderr",
     "output_type": "stream",
     "text": [
      " 60%|██████    | 911/1507 [44:07<33:02,  3.33s/it]"
     ]
    },
    {
     "name": "stdout",
     "output_type": "stream",
     "text": [
      "ID: TEST_0910 Question: 트럼프 대통령이 틱톡 관련 서명한 날짜는 Generated answer: 6일,\n"
     ]
    },
    {
     "name": "stderr",
     "output_type": "stream",
     "text": [
      " 61%|██████    | 912/1507 [44:10<32:33,  3.28s/it]"
     ]
    },
    {
     "name": "stdout",
     "output_type": "stream",
     "text": [
      "ID: TEST_0911 Question: 틱톡 자구책으로 고용한 인물들은 Generated answer: 십수 명의 로비스트\n"
     ]
    },
    {
     "name": "stderr",
     "output_type": "stream",
     "text": [
      " 61%|██████    | 913/1507 [44:14<33:57,  3.43s/it]"
     ]
    },
    {
     "name": "stdout",
     "output_type": "stream",
     "text": [
      "ID: TEST_0912 Question: 틱톡 투자 회사는 Generated answer: 세쿼이아 캐피탈\n"
     ]
    },
    {
     "name": "stderr",
     "output_type": "stream",
     "text": [
      " 61%|██████    | 914/1507 [44:17<34:47,  3.52s/it]"
     ]
    },
    {
     "name": "stdout",
     "output_type": "stream",
     "text": [
      "ID: TEST_0913 Question: 트럼프 대통령의 사위는 Generated answer: 재러드 쿠슈너\n"
     ]
    },
    {
     "name": "stderr",
     "output_type": "stream",
     "text": [
      " 61%|██████    | 915/1507 [44:18<26:18,  2.67s/it]"
     ]
    },
    {
     "name": "stdout",
     "output_type": "stream",
     "text": [
      "ID: TEST_0914 Question: 송종의 본부장의 나이는 Generated answer: 55 ) 본부장이 1일자로 부임한다.\n"
     ]
    },
    {
     "name": "stderr",
     "output_type": "stream",
     "text": [
      " 61%|██████    | 916/1507 [44:19<21:40,  2.20s/it]"
     ]
    },
    {
     "name": "stdout",
     "output_type": "stream",
     "text": [
      "ID: TEST_0915 Question: 송종의 본부장이 졸업한 대학교는 Generated answer: 중앙대 법학\n"
     ]
    },
    {
     "name": "stderr",
     "output_type": "stream",
     "text": [
      " 61%|██████    | 917/1507 [44:21<19:05,  1.94s/it]"
     ]
    },
    {
     "name": "stdout",
     "output_type": "stream",
     "text": [
      "ID: TEST_0916 Question: 송종의 본부장이 강조한 사회공헌활동은 Generated answer: 캠코브러리\n"
     ]
    },
    {
     "name": "stderr",
     "output_type": "stream",
     "text": [
      " 61%|██████    | 918/1507 [44:22<16:16,  1.66s/it]"
     ]
    },
    {
     "name": "stdout",
     "output_type": "stream",
     "text": [
      "ID: TEST_0917 Question: 송종의 본부장의 출생지는 Generated answer: 전북 정읍 출생\n"
     ]
    },
    {
     "name": "stderr",
     "output_type": "stream",
     "text": [
      " 61%|██████    | 919/1507 [44:23<15:16,  1.56s/it]"
     ]
    },
    {
     "name": "stdout",
     "output_type": "stream",
     "text": [
      "ID: TEST_0918 Question: 송종의 본부장이 역임한 처장은 Generated answer: 조세채권관리처\n"
     ]
    },
    {
     "name": "stderr",
     "output_type": "stream",
     "text": [
      " 61%|██████    | 920/1507 [44:26<19:09,  1.96s/it]"
     ]
    },
    {
     "name": "stdout",
     "output_type": "stream",
     "text": [
      "ID: TEST_0919 Question: 미국 대통령 선거에서 필요한 선거인단 과반수는 Generated answer: 270명의\n"
     ]
    },
    {
     "name": "stderr",
     "output_type": "stream",
     "text": [
      " 61%|██████    | 921/1507 [44:29<23:01,  2.36s/it]"
     ]
    },
    {
     "name": "stdout",
     "output_type": "stream",
     "text": [
      "ID: TEST_0920 Question: 대통령을 하원에서 결정할 때 주별 행사하는 표수는 Generated answer: 한 표씩\n"
     ]
    },
    {
     "name": "stderr",
     "output_type": "stream",
     "text": [
      " 61%|██████    | 922/1507 [44:32<25:40,  2.63s/it]"
     ]
    },
    {
     "name": "stdout",
     "output_type": "stream",
     "text": [
      "ID: TEST_0921 Question: 수정헌법 12조에 명시된 내용에 따르면 하원의원이 대통령을 정하지 못할 경우 대통령직을 임시로 수행하는 사람은 Generated answer: 상원에서 결정된 부통령\n"
     ]
    },
    {
     "name": "stderr",
     "output_type": "stream",
     "text": [
      " 61%|██████    | 923/1507 [44:36<27:33,  2.83s/it]"
     ]
    },
    {
     "name": "stdout",
     "output_type": "stream",
     "text": [
      "ID: TEST_0922 Question: 미국의 현재 연방 하원의원 숫자 면에서 공화당이 앞서는 주의 수는 Generated answer: 26곳,\n"
     ]
    },
    {
     "name": "stderr",
     "output_type": "stream",
     "text": [
      " 61%|██████▏   | 924/1507 [44:39<28:49,  2.97s/it]"
     ]
    },
    {
     "name": "stdout",
     "output_type": "stream",
     "text": [
      "ID: TEST_0923 Question: 상위 10개 주의 유권자 수가 나머지 40개 주 유권자 수와 같다는 점에서 상위 10개 주가 전체 투표권에서 차지하는 비율은 Generated answer: 20 % 의\n"
     ]
    },
    {
     "name": "stderr",
     "output_type": "stream",
     "text": [
      " 61%|██████▏   | 925/1507 [44:43<30:51,  3.18s/it]"
     ]
    },
    {
     "name": "stdout",
     "output_type": "stream",
     "text": [
      "ID: TEST_0924 Question: 사회적 거리두기 3단계 발효 시 금지되는 모임 인원은 Generated answer: 10인 이상\n"
     ]
    },
    {
     "name": "stderr",
     "output_type": "stream",
     "text": [
      " 61%|██████▏   | 926/1507 [44:47<33:07,  3.42s/it]"
     ]
    },
    {
     "name": "stdout",
     "output_type": "stream",
     "text": [
      "ID: TEST_0925 Question: 정은경 본부장이 소속된 기관은 Generated answer: 중앙방역대책본부\n"
     ]
    },
    {
     "name": "stderr",
     "output_type": "stream",
     "text": [
      " 62%|██████▏   | 927/1507 [44:50<33:10,  3.43s/it]"
     ]
    },
    {
     "name": "stdout",
     "output_type": "stream",
     "text": [
      "ID: TEST_0926 Question: 서정협 권한대행이 발표한 서울 전역 마스크 착용 의무화 시기는 Generated answer: 이날 자정부터\n"
     ]
    },
    {
     "name": "stderr",
     "output_type": "stream",
     "text": [
      " 62%|██████▏   | 928/1507 [44:54<35:23,  3.67s/it]"
     ]
    },
    {
     "name": "stdout",
     "output_type": "stream",
     "text": [
      "ID: TEST_0927 Question: 광화문 집회 당시 인근에 체류한 것으로 파악된 휴대전화번호는 몇 건인지 Generated answer: 1만576건\n"
     ]
    },
    {
     "name": "stderr",
     "output_type": "stream",
     "text": [
      " 62%|██████▏   | 929/1507 [44:58<35:13,  3.66s/it]"
     ]
    },
    {
     "name": "stdout",
     "output_type": "stream",
     "text": [
      "ID: TEST_0928 Question: 방역수칙 위반 시 적용되는 제도의 이름은 Generated answer: 행정지도, 계도\n"
     ]
    },
    {
     "name": "stderr",
     "output_type": "stream",
     "text": [
      " 62%|██████▏   | 930/1507 [45:01<33:09,  3.45s/it]"
     ]
    },
    {
     "name": "stdout",
     "output_type": "stream",
     "text": [
      "ID: TEST_0929 Question: 포항지진특별법 제14조는 무엇을 규정하고 있나 Generated answer: 국가는 피해자에게 실질적인 피해 구제를 위한 지원금을 지급한다\n"
     ]
    },
    {
     "name": "stderr",
     "output_type": "stream",
     "text": [
      " 62%|██████▏   | 931/1507 [45:04<32:39,  3.40s/it]"
     ]
    },
    {
     "name": "stdout",
     "output_type": "stream",
     "text": [
      "ID: TEST_0930 Question: 포항11·15촉발지진범시민대책위원회의 약칭은 Generated answer: 범대위\n"
     ]
    },
    {
     "name": "stderr",
     "output_type": "stream",
     "text": [
      " 62%|██████▏   | 932/1507 [45:07<32:15,  3.37s/it]"
     ]
    },
    {
     "name": "stdout",
     "output_type": "stream",
     "text": [
      "ID: TEST_0931 Question: 포항 지진 피해를 정부가 얼마까지 지원하는가 Generated answer: 주택금액의 70 %\n"
     ]
    },
    {
     "name": "stderr",
     "output_type": "stream",
     "text": [
      " 62%|██████▏   | 933/1507 [45:11<31:56,  3.34s/it]"
     ]
    },
    {
     "name": "stdout",
     "output_type": "stream",
     "text": [
      "ID: TEST_0932 Question: 포항지진특별법 시행령 개정안에 대한 의견 수렴 기간은 언제까지인가 Generated answer: 13일까지\n"
     ]
    },
    {
     "name": "stderr",
     "output_type": "stream",
     "text": [
      " 62%|██████▏   | 934/1507 [45:14<31:37,  3.31s/it]"
     ]
    },
    {
     "name": "stdout",
     "output_type": "stream",
     "text": [
      "ID: TEST_0933 Question: 포항 지진이 발생한 날짜는 Generated answer: 2017년 11월 15일\n"
     ]
    },
    {
     "name": "stderr",
     "output_type": "stream",
     "text": [
      " 62%|██████▏   | 935/1507 [45:17<31:22,  3.29s/it]"
     ]
    },
    {
     "name": "stdout",
     "output_type": "stream",
     "text": [
      "ID: TEST_0934 Question: 시행령이 개정되는 시기는 Generated answer: 10월께\n"
     ]
    },
    {
     "name": "stderr",
     "output_type": "stream",
     "text": [
      " 62%|██████▏   | 936/1507 [45:21<31:37,  3.32s/it]"
     ]
    },
    {
     "name": "stdout",
     "output_type": "stream",
     "text": [
      "ID: TEST_0935 Question: 전월세전환율의 현재 법정 비율은 Generated answer: 4 % 다\n"
     ]
    },
    {
     "name": "stderr",
     "output_type": "stream",
     "text": [
      " 62%|██████▏   | 937/1507 [45:25<34:13,  3.60s/it]"
     ]
    },
    {
     "name": "stdout",
     "output_type": "stream",
     "text": [
      "ID: TEST_0936 Question: 임대차 3법 중 전월세 상한제의 비율은 Generated answer: 5 % )\n"
     ]
    },
    {
     "name": "stderr",
     "output_type": "stream",
     "text": [
      " 62%|██████▏   | 938/1507 [45:28<33:39,  3.55s/it]"
     ]
    },
    {
     "name": "stdout",
     "output_type": "stream",
     "text": [
      "ID: TEST_0937 Question: 한국은행 기준금리는 Generated answer: 0. 5 %\n"
     ]
    },
    {
     "name": "stderr",
     "output_type": "stream",
     "text": [
      " 62%|██████▏   | 939/1507 [45:33<35:54,  3.79s/it]"
     ]
    },
    {
     "name": "stdout",
     "output_type": "stream",
     "text": [
      "ID: TEST_0938 Question: 서울의 전월세 전환율은 Generated answer: 2. 5 %\n"
     ]
    },
    {
     "name": "stderr",
     "output_type": "stream",
     "text": [
      " 62%|██████▏   | 940/1507 [45:35<32:04,  3.39s/it]"
     ]
    },
    {
     "name": "stdout",
     "output_type": "stream",
     "text": [
      "ID: TEST_0939 Question: 사회적 거리 두기 단계를 낮추려면 필요한 일평균 국내 발생 신규 확진자 수 기준은 Generated answer: 50명 이내\n"
     ]
    },
    {
     "name": "stderr",
     "output_type": "stream",
     "text": [
      " 62%|██████▏   | 941/1507 [45:38<30:59,  3.29s/it]"
     ]
    },
    {
     "name": "stdout",
     "output_type": "stream",
     "text": [
      "ID: TEST_0940 Question: 추석 특별방역 대책이 시작된 날짜는 Generated answer: 지난달 28일\n"
     ]
    },
    {
     "name": "stderr",
     "output_type": "stream",
     "text": [
      " 63%|██████▎   | 942/1507 [45:41<29:12,  3.10s/it]"
     ]
    },
    {
     "name": "stdout",
     "output_type": "stream",
     "text": [
      "ID: TEST_0941 Question: 승광빌딩의 위치한 지역 Generated answer: 서울 강남구 ‘\n"
     ]
    },
    {
     "name": "stderr",
     "output_type": "stream",
     "text": [
      " 63%|██████▎   | 943/1507 [45:44<28:18,  3.01s/it]"
     ]
    },
    {
     "name": "stdout",
     "output_type": "stream",
     "text": [
      "ID: TEST_0942 Question: 마스터 플러스 병원이 위치한 도시는 Generated answer: 경기 의정부시\n"
     ]
    },
    {
     "name": "stderr",
     "output_type": "stream",
     "text": [
      " 63%|██████▎   | 944/1507 [45:47<28:10,  3.00s/it]"
     ]
    },
    {
     "name": "stdout",
     "output_type": "stream",
     "text": [
      "ID: TEST_0943 Question: 김신우 교수의 소속 병원은 Generated answer: 경북대병원\n"
     ]
    },
    {
     "name": "stderr",
     "output_type": "stream",
     "text": [
      " 63%|██████▎   | 945/1507 [45:50<29:45,  3.18s/it]"
     ]
    },
    {
     "name": "stdout",
     "output_type": "stream",
     "text": [
      "ID: TEST_0944 Question: 현재 배달의민족의 배달앱 이용자 비율은 Generated answer: 59. 8 %\n"
     ]
    },
    {
     "name": "stderr",
     "output_type": "stream",
     "text": [
      " 63%|██████▎   | 946/1507 [45:54<30:00,  3.21s/it]"
     ]
    },
    {
     "name": "stdout",
     "output_type": "stream",
     "text": [
      "ID: TEST_0945 Question: 공정거래위원회가 DH에 배민 인수 조건으로 제시한 사항은 Generated answer: 요기요 ’ 를 매각\n"
     ]
    },
    {
     "name": "stderr",
     "output_type": "stream",
     "text": [
      " 63%|██████▎   | 947/1507 [45:57<30:10,  3.23s/it]"
     ]
    },
    {
     "name": "stdout",
     "output_type": "stream",
     "text": [
      "ID: TEST_0946 Question: DH가 배민 인수를 위해 지불한 금액은 Generated answer: 40억 달러\n"
     ]
    },
    {
     "name": "stderr",
     "output_type": "stream",
     "text": [
      " 63%|██████▎   | 948/1507 [46:00<30:14,  3.25s/it]"
     ]
    },
    {
     "name": "stdout",
     "output_type": "stream",
     "text": [
      "ID: TEST_0947 Question: 공정거래위원회가 배달앱 시장에서 두 회사의 점유율을 제한한 이유는 Generated answer: ICT 기반 기업\n"
     ]
    },
    {
     "name": "stderr",
     "output_type": "stream",
     "text": [
      " 63%|██████▎   | 949/1507 [46:03<30:16,  3.26s/it]"
     ]
    },
    {
     "name": "stdout",
     "output_type": "stream",
     "text": [
      "ID: TEST_0948 Question: 쿠팡이츠의 최근 월간 순이용자 증가량은 Generated answer: 120만 명\n"
     ]
    },
    {
     "name": "stderr",
     "output_type": "stream",
     "text": [
      " 63%|██████▎   | 950/1507 [46:06<27:15,  2.94s/it]"
     ]
    },
    {
     "name": "stdout",
     "output_type": "stream",
     "text": [
      "ID: TEST_0949 Question: 태블릿PC를 활용한 조사의 장점 중 하나 Generated answer: 전자조사를 시작했다. 태블릿PC를 이용하면 조사 결과를 바로 서버로 전송\n"
     ]
    },
    {
     "name": "stderr",
     "output_type": "stream",
     "text": [
      " 63%|██████▎   | 951/1507 [46:08<25:08,  2.71s/it]"
     ]
    },
    {
     "name": "stdout",
     "output_type": "stream",
     "text": [
      "ID: TEST_0950 Question: 해남미소의 직영 운영 시작 연도 Generated answer: 2011년부터는 해남군이 직접 운영하고 있는 공익형 쇼핑몰이다. 해남미소는 직영 9년\n"
     ]
    },
    {
     "name": "stderr",
     "output_type": "stream",
     "text": [
      " 63%|██████▎   | 952/1507 [46:10<23:40,  2.56s/it]"
     ]
    },
    {
     "name": "stdout",
     "output_type": "stream",
     "text": [
      "ID: TEST_0951 Question: 해남미소의 작년(직영 9년) 연매출 Generated answer: 118억원\n"
     ]
    },
    {
     "name": "stderr",
     "output_type": "stream",
     "text": [
      " 63%|██████▎   | 953/1507 [46:12<22:35,  2.45s/it]"
     ]
    },
    {
     "name": "stdout",
     "output_type": "stream",
     "text": [
      "ID: TEST_0952 Question: 해남미소의 현재 입점 농가 수 Generated answer: 350여 농가\n"
     ]
    },
    {
     "name": "stderr",
     "output_type": "stream",
     "text": [
      " 63%|██████▎   | 954/1507 [46:14<21:53,  2.38s/it]"
     ]
    },
    {
     "name": "stdout",
     "output_type": "stream",
     "text": [
      "ID: TEST_0953 Question: 기간 동안 최대 할인 판매율 Generated answer: 최대 50 %\n"
     ]
    },
    {
     "name": "stderr",
     "output_type": "stream",
     "text": [
      " 63%|██████▎   | 955/1507 [46:17<21:21,  2.32s/it]"
     ]
    },
    {
     "name": "stdout",
     "output_type": "stream",
     "text": [
      "ID: TEST_0954 Question: 구매왕 이벤트 당첨자 발표일 Generated answer: 7월20일\n"
     ]
    },
    {
     "name": "stderr",
     "output_type": "stream",
     "text": [
      " 63%|██████▎   | 956/1507 [46:21<26:55,  2.93s/it]"
     ]
    },
    {
     "name": "stdout",
     "output_type": "stream",
     "text": [
      "ID: TEST_0955 Question: 법무부 검찰국에 지급된 특활비 총액은 Generated answer: 10억3000만원\n"
     ]
    },
    {
     "name": "stderr",
     "output_type": "stream",
     "text": [
      " 64%|██████▎   | 957/1507 [46:25<29:33,  3.23s/it]"
     ]
    },
    {
     "name": "stdout",
     "output_type": "stream",
     "text": [
      "ID: TEST_0956 Question: 법무부 운영지원과에서 검찰국에 배정한 지출내역 총 규모는 Generated answer: 10억6400여만원\n"
     ]
    },
    {
     "name": "stderr",
     "output_type": "stream",
     "text": [
      " 64%|██████▎   | 958/1507 [46:29<31:05,  3.40s/it]"
     ]
    },
    {
     "name": "stdout",
     "output_type": "stream",
     "text": [
      "ID: TEST_0957 Question: 서울중앙지검이 2018년 받은 특활비 비율은 Generated answer: 16. 6 %\n"
     ]
    },
    {
     "name": "stderr",
     "output_type": "stream",
     "text": [
      " 64%|██████▎   | 960/1507 [46:32<22:04,  2.42s/it]"
     ]
    },
    {
     "name": "stdout",
     "output_type": "stream",
     "text": [
      "ID: TEST_0958 Question: 김도읍 법사위 간사가 확인한 올해 특활비 액수는 Generated answer: 7억5900만원\n",
      "ID: TEST_0959 Question: 대검이 국가 예산으로 받은 금액은 Generated answer: 94억원\n"
     ]
    },
    {
     "name": "stderr",
     "output_type": "stream",
     "text": [
      " 64%|██████▍   | 962/1507 [46:32<11:25,  1.26s/it]"
     ]
    },
    {
     "name": "stdout",
     "output_type": "stream",
     "text": [
      "ID: TEST_0960 Question: 주52시간 근무제를 준비하지 못한 비율은 Generated answer: 중소기업이 비용부담, 인력난\n",
      "ID: TEST_0961 Question: 5인 이상 50인 미만 사업장의 주52시간제 시행일은 Generated answer: 내년 7월 1일\n"
     ]
    },
    {
     "name": "stderr",
     "output_type": "stream",
     "text": [
      " 64%|██████▍   | 963/1507 [46:33<08:23,  1.08it/s]"
     ]
    },
    {
     "name": "stdout",
     "output_type": "stream",
     "text": [
      "ID: TEST_0962 Question: 주52시간제를 준비하지 못한 이유 중 가장 큰 이유는 Generated answer: 비용부담, 인력난\n"
     ]
    },
    {
     "name": "stderr",
     "output_type": "stream",
     "text": [
      " 64%|██████▍   | 964/1507 [46:35<11:55,  1.32s/it]"
     ]
    },
    {
     "name": "stdout",
     "output_type": "stream",
     "text": [
      "ID: TEST_0963 Question: 탄력적 근로시간제의 현행 단위 기간은 Generated answer: 3개월\n"
     ]
    },
    {
     "name": "stderr",
     "output_type": "stream",
     "text": [
      " 64%|██████▍   | 965/1507 [46:38<17:14,  1.91s/it]"
     ]
    },
    {
     "name": "stdout",
     "output_type": "stream",
     "text": [
      "ID: TEST_0964 Question: 계도기간 연장이 필요하다는 의견 비율은 Generated answer: 56 % 나\n"
     ]
    },
    {
     "name": "stderr",
     "output_type": "stream",
     "text": [
      " 64%|██████▍   | 966/1507 [46:41<19:57,  2.21s/it]"
     ]
    },
    {
     "name": "stdout",
     "output_type": "stream",
     "text": [
      "ID: TEST_0965 Question: 스마트시티 국제심포지엄의 개최 날짜 Generated answer: 14 ~ 15일\n"
     ]
    },
    {
     "name": "stderr",
     "output_type": "stream",
     "text": [
      " 64%|██████▍   | 967/1507 [46:44<20:52,  2.32s/it]"
     ]
    },
    {
     "name": "stdout",
     "output_type": "stream",
     "text": [
      "ID: TEST_0966 Question: 주한영국대사의 이름 Generated answer: 사이먼 스미스 주한\n"
     ]
    },
    {
     "name": "stderr",
     "output_type": "stream",
     "text": [
      " 64%|██████▍   | 968/1507 [46:47<23:24,  2.61s/it]"
     ]
    },
    {
     "name": "stdout",
     "output_type": "stream",
     "text": [
      "ID: TEST_0967 Question: 스마트시티 국제심포지엄의 주관 기관 Generated answer: 국토교통과학기술진흥원\n"
     ]
    },
    {
     "name": "stderr",
     "output_type": "stream",
     "text": [
      " 64%|██████▍   | 969/1507 [46:49<22:50,  2.55s/it]"
     ]
    },
    {
     "name": "stdout",
     "output_type": "stream",
     "text": [
      "ID: TEST_0968 Question: 첫날 개막식에 참석한 인천경제청장 Generated answer: 이원재 인천경제자유구역청장은 “ 스마트시티에 대한 각국의 추진 노력과 경험을 공유하는 이번 행사가 더 스마트하고 지속 가능한 미래를 위한 혜안을 찾았기를 기대한다.\n"
     ]
    },
    {
     "name": "stderr",
     "output_type": "stream",
     "text": [
      " 64%|██████▍   | 970/1507 [46:52<24:13,  2.71s/it]"
     ]
    },
    {
     "name": "stdout",
     "output_type": "stream",
     "text": [
      "ID: TEST_0969 Question: 스마트시티 국제심포지엄이 열린 장소 Generated answer: 송도국제도시 경원재 앰배서더 인천\n"
     ]
    },
    {
     "name": "stderr",
     "output_type": "stream",
     "text": [
      " 64%|██████▍   | 971/1507 [46:54<21:44,  2.43s/it]"
     ]
    },
    {
     "name": "stdout",
     "output_type": "stream",
     "text": [
      "ID: TEST_0970 Question: 해양무척추동물의 비율은 Generated answer: 40. 1 ％\n"
     ]
    },
    {
     "name": "stderr",
     "output_type": "stream",
     "text": [
      " 64%|██████▍   | 972/1507 [46:55<17:47,  2.00s/it]"
     ]
    },
    {
     "name": "stdout",
     "output_type": "stream",
     "text": [
      "ID: TEST_0971 Question: 국내 해양수산생물 총종수는 Generated answer: 1만 4507종\n"
     ]
    },
    {
     "name": "stderr",
     "output_type": "stream",
     "text": [
      " 65%|██████▍   | 973/1507 [46:56<16:09,  1.81s/it]"
     ]
    },
    {
     "name": "stdout",
     "output_type": "stream",
     "text": [
      "ID: TEST_0972 Question: 새로운 생물로 등록된 극피동물의 이름은 Generated answer: 굽은애기불가사리\n"
     ]
    },
    {
     "name": "stderr",
     "output_type": "stream",
     "text": [
      " 65%|██████▍   | 974/1507 [46:58<14:27,  1.63s/it]"
     ]
    },
    {
     "name": "stdout",
     "output_type": "stream",
     "text": [
      "ID: TEST_0973 Question: 해양식물의 종류 수는 Generated answer: 1071종\n"
     ]
    },
    {
     "name": "stderr",
     "output_type": "stream",
     "text": [
      " 65%|██████▍   | 975/1507 [46:59<12:28,  1.41s/it]"
     ]
    },
    {
     "name": "stdout",
     "output_type": "stream",
     "text": [
      "ID: TEST_0974 Question: 목록집에 수록된 새로운 국명을 얻은 종수는 Generated answer: 31종도\n"
     ]
    },
    {
     "name": "stderr",
     "output_type": "stream",
     "text": [
      " 65%|██████▍   | 976/1507 [47:01<16:12,  1.83s/it]"
     ]
    },
    {
     "name": "stdout",
     "output_type": "stream",
     "text": [
      "ID: TEST_0975 Question: 시내버스의 현금 승차 비율이 가장 낮았던 연도 Generated answer: 2004년만 해도 12. 6 % 에 달했지만 지난해는 1. 1 % 로 급감했고, 올해는 더 낮은 0 %\n"
     ]
    },
    {
     "name": "stderr",
     "output_type": "stream",
     "text": [
      " 65%|██████▍   | 977/1507 [47:04<19:15,  2.18s/it]"
     ]
    },
    {
     "name": "stdout",
     "output_type": "stream",
     "text": [
      "ID: TEST_0976 Question: 버스 안내양 제도가 도입된 연도 Generated answer: 1962년 6월\n"
     ]
    },
    {
     "name": "stderr",
     "output_type": "stream",
     "text": [
      " 65%|██████▍   | 978/1507 [47:08<22:07,  2.51s/it]"
     ]
    },
    {
     "name": "stdout",
     "output_type": "stream",
     "text": [
      "ID: TEST_0977 Question: 버스요금 선수제'가 실시된 연도 Generated answer: 84년 11월\n"
     ]
    },
    {
     "name": "stderr",
     "output_type": "stream",
     "text": [
      " 65%|██████▍   | 979/1507 [47:12<26:05,  2.96s/it]"
     ]
    },
    {
     "name": "stdout",
     "output_type": "stream",
     "text": [
      "ID: TEST_0978 Question: 시민자율버스 운행 시도 때 설치된 것으로 추정되는 시설 Generated answer: 현금통을\n"
     ]
    },
    {
     "name": "stderr",
     "output_type": "stream",
     "text": [
      " 65%|██████▌   | 980/1507 [47:14<25:00,  2.85s/it]"
     ]
    },
    {
     "name": "stdout",
     "output_type": "stream",
     "text": [
      "ID: TEST_0979 Question: 교통카드 없는 경우 지하철에서 구매할 수 있는 티켓 종류 Generated answer: 일회용 승차권 자동판매기에 현금을 넣고 승차권\n"
     ]
    },
    {
     "name": "stderr",
     "output_type": "stream",
     "text": [
      " 65%|██████▌   | 981/1507 [47:18<26:08,  2.98s/it]"
     ]
    },
    {
     "name": "stdout",
     "output_type": "stream",
     "text": [
      "ID: TEST_0980 Question: 보람튜브의 연 매출은 Generated answer: 400억 원\n"
     ]
    },
    {
     "name": "stderr",
     "output_type": "stream",
     "text": [
      " 65%|██████▌   | 982/1507 [47:21<26:28,  3.03s/it]"
     ]
    },
    {
     "name": "stdout",
     "output_type": "stream",
     "text": [
      "ID: TEST_0981 Question: 낙태를 허용하는 임신 초기 주수는 몇 주까지인가 Generated answer: 14주까지\n"
     ]
    },
    {
     "name": "stderr",
     "output_type": "stream",
     "text": [
      " 65%|██████▌   | 983/1507 [47:23<24:40,  2.83s/it]"
     ]
    },
    {
     "name": "stdout",
     "output_type": "stream",
     "text": [
      "ID: TEST_0982 Question: 사회경제적 사유로 낙태가 가능한 임신 중기 주수는 몇 주까지인가 Generated answer: 임신 24주\n"
     ]
    },
    {
     "name": "stderr",
     "output_type": "stream",
     "text": [
      " 65%|██████▌   | 984/1507 [47:26<25:48,  2.96s/it]"
     ]
    },
    {
     "name": "stdout",
     "output_type": "stream",
     "text": [
      "ID: TEST_0983 Question: 미프진은 어떤 약물인가 Generated answer: 자연유산을 유도하는 약물\n"
     ]
    },
    {
     "name": "stderr",
     "output_type": "stream",
     "text": [
      " 65%|██████▌   | 985/1507 [47:30<26:36,  3.06s/it]"
     ]
    },
    {
     "name": "stdout",
     "output_type": "stream",
     "text": [
      "ID: TEST_0984 Question: 미성년자가 낙태 시술을 받기 위해 필요한 확인서는 Generated answer: 상담 사실확인서\n"
     ]
    },
    {
     "name": "stderr",
     "output_type": "stream",
     "text": [
      " 65%|██████▌   | 986/1507 [47:33<27:08,  3.13s/it]"
     ]
    },
    {
     "name": "stdout",
     "output_type": "stream",
     "text": [
      "ID: TEST_0985 Question: 의사가 낙태 시술을 거부할 수 있는 권리는 Generated answer: 신념에 따라 낙태 시술을 거부할 수 있는\n"
     ]
    },
    {
     "name": "stderr",
     "output_type": "stream",
     "text": [
      " 65%|██████▌   | 987/1507 [47:34<21:48,  2.52s/it]"
     ]
    },
    {
     "name": "stdout",
     "output_type": "stream",
     "text": [
      "ID: TEST_0986 Question: 신구간이 해당하는 절기 Generated answer: 24절기 가운데\n"
     ]
    },
    {
     "name": "stderr",
     "output_type": "stream",
     "text": [
      " 66%|██████▌   | 988/1507 [47:35<18:06,  2.09s/it]"
     ]
    },
    {
     "name": "stdout",
     "output_type": "stream",
     "text": [
      "ID: TEST_0987 Question: 신구간 이사 비용의 상승 폭 Generated answer: 최소 30만원\n"
     ]
    },
    {
     "name": "stderr",
     "output_type": "stream",
     "text": [
      " 66%|██████▌   | 989/1507 [47:36<16:06,  1.87s/it]"
     ]
    },
    {
     "name": "stdout",
     "output_type": "stream",
     "text": [
      "ID: TEST_0988 Question: 신구간 동안 이사 예약의 하루 평균 건수 Generated answer: 3 ~ 4건\n"
     ]
    },
    {
     "name": "stderr",
     "output_type": "stream",
     "text": [
      " 66%|██████▌   | 990/1507 [47:38<16:15,  1.89s/it]"
     ]
    },
    {
     "name": "stdout",
     "output_type": "stream",
     "text": [
      "ID: TEST_0989 Question: 평소 포장이사 비용 대략적인 범위 Generated answer: 90만 ~ 100만원대\n"
     ]
    },
    {
     "name": "stderr",
     "output_type": "stream",
     "text": [
      " 66%|██████▌   | 991/1507 [47:39<14:13,  1.65s/it]"
     ]
    },
    {
     "name": "stdout",
     "output_type": "stream",
     "text": [
      "ID: TEST_0990 Question: 신구간 동안 포장이사 비용 대략적인 범위 Generated answer: 평균 130만 ~ 150만원대로\n"
     ]
    },
    {
     "name": "stderr",
     "output_type": "stream",
     "text": [
      " 66%|██████▌   | 992/1507 [47:43<18:22,  2.14s/it]"
     ]
    },
    {
     "name": "stdout",
     "output_type": "stream",
     "text": [
      "ID: TEST_0991 Question: 해임 청원이 시작된 이유는 무엇인가 Generated answer: 주식 양도소득세 부과 대상이 되는 대주주 기준을 3억원 ( 한 종목당 주식 보유액 ) 으로 확대하는 방안\n"
     ]
    },
    {
     "name": "stderr",
     "output_type": "stream",
     "text": [
      " 66%|██████▌   | 993/1507 [47:45<19:03,  2.22s/it]"
     ]
    },
    {
     "name": "stdout",
     "output_type": "stream",
     "text": [
      "ID: TEST_0992 Question: 경제성장률 1.9%를 자평한 사람은 누구인가 Generated answer: 홍 부총리는 올해 3분기 경제성장률 ( 1. 9 % ) 에 대해 27일 “ 회복 궤도에 진입했다\n"
     ]
    },
    {
     "name": "stderr",
     "output_type": "stream",
     "text": [
      " 66%|██████▌   | 994/1507 [47:48<21:09,  2.48s/it]"
     ]
    },
    {
     "name": "stdout",
     "output_type": "stream",
     "text": [
      "ID: TEST_0993 Question: 재정준칙 글을 다섯 개 페이스북에 올린 날짜는 언제인가 Generated answer: 지난 24일\n"
     ]
    },
    {
     "name": "stderr",
     "output_type": "stream",
     "text": [
      " 66%|██████▌   | 995/1507 [47:52<23:13,  2.72s/it]"
     ]
    },
    {
     "name": "stdout",
     "output_type": "stream",
     "text": [
      "ID: TEST_0994 Question: 10월부터 고용시장 회복세를 예측한 발언을 한 날짜는 언제인가 Generated answer: 9월 취업자 수가 전년 대비 39만 명 급감했다는 통계가 발표된 지난 16일\n"
     ]
    },
    {
     "name": "stderr",
     "output_type": "stream",
     "text": [
      " 66%|██████▌   | 996/1507 [47:55<24:07,  2.83s/it]"
     ]
    },
    {
     "name": "stdout",
     "output_type": "stream",
     "text": [
      "ID: TEST_0995 Question: 개발제한구역 해제 검토 가능성을 언급한 달은 언제인가 Generated answer: 지난 7월\n"
     ]
    },
    {
     "name": "stderr",
     "output_type": "stream",
     "text": [
      " 66%|██████▌   | 997/1507 [47:57<22:57,  2.70s/it]"
     ]
    },
    {
     "name": "stdout",
     "output_type": "stream",
     "text": [
      "ID: TEST_0996 Question: 지난 5일 삼성전자가 온라인으로 개최한 언팩행사의 주인공은 무엇? Generated answer: 갤럭시노트20\n"
     ]
    },
    {
     "name": "stderr",
     "output_type": "stream",
     "text": [
      " 66%|██████▌   | 998/1507 [48:00<24:21,  2.87s/it]"
     ]
    },
    {
     "name": "stdout",
     "output_type": "stream",
     "text": [
      "ID: TEST_0997 Question: 이번 언팩에서 갤럭시노트20만큼 주목을 끌었던 제품은 무엇? Generated answer: 갤럭시Z 폴드2\n"
     ]
    },
    {
     "name": "stderr",
     "output_type": "stream",
     "text": [
      " 66%|██████▋   | 999/1507 [48:04<25:20,  2.99s/it]"
     ]
    },
    {
     "name": "stdout",
     "output_type": "stream",
     "text": [
      "ID: TEST_0998 Question: 갤럭시Z 폴드2의 판매 예측량은 얼마? Generated answer: 50만대\n"
     ]
    },
    {
     "name": "stderr",
     "output_type": "stream",
     "text": [
      " 66%|██████▋   | 1000/1507 [48:07<25:52,  3.06s/it]"
     ]
    },
    {
     "name": "stdout",
     "output_type": "stream",
     "text": [
      "ID: TEST_0999 Question: 폴더블폰의 화면 마감재로 사용되는 초박형유리(UTG)가 일반 강화유리에 비해 얇은 비율은? Generated answer: 10분의 1\n"
     ]
    },
    {
     "name": "stderr",
     "output_type": "stream",
     "text": [
      " 66%|██████▋   | 1001/1507 [48:09<23:50,  2.83s/it]"
     ]
    },
    {
     "name": "stdout",
     "output_type": "stream",
     "text": [
      "ID: TEST_1000 Question: 내년 폴더블폰 판매량 예상치? Generated answer: 50만대\n"
     ]
    },
    {
     "name": "stderr",
     "output_type": "stream",
     "text": [
      " 66%|██████▋   | 1002/1507 [48:12<24:55,  2.96s/it]"
     ]
    },
    {
     "name": "stdout",
     "output_type": "stream",
     "text": [
      "ID: TEST_1001 Question: 장애인 전용 미용실 이름은 Generated answer: ‘ 함께 헤어\n"
     ]
    },
    {
     "name": "stderr",
     "output_type": "stream",
     "text": [
      " 67%|██████▋   | 1003/1507 [48:15<24:32,  2.92s/it]"
     ]
    },
    {
     "name": "stdout",
     "output_type": "stream",
     "text": [
      "ID: TEST_1002 Question: 함께 헤어'가 문을 연 지역은 Generated answer: 경기도 성남시 중원구\n"
     ]
    },
    {
     "name": "stderr",
     "output_type": "stream",
     "text": [
      " 67%|██████▋   | 1004/1507 [48:18<23:50,  2.84s/it]"
     ]
    },
    {
     "name": "stdout",
     "output_type": "stream",
     "text": [
      "ID: TEST_1003 Question: 장애인 전문 미용사 경력은 몇 년 Generated answer: 20년 경력\n"
     ]
    },
    {
     "name": "stderr",
     "output_type": "stream",
     "text": [
      " 67%|██████▋   | 1005/1507 [48:21<23:29,  2.81s/it]"
     ]
    },
    {
     "name": "stdout",
     "output_type": "stream",
     "text": [
      "ID: TEST_1004 Question: 미용실 이용료는 장애인은 얼마 Generated answer: 3000원,\n"
     ]
    },
    {
     "name": "stderr",
     "output_type": "stream",
     "text": [
      " 67%|██████▋   | 1006/1507 [48:24<24:55,  2.98s/it]"
     ]
    },
    {
     "name": "stdout",
     "output_type": "stream",
     "text": [
      "ID: TEST_1005 Question: 함께 헤어' 운영 시간은 언제 Generated answer: 오전 10시부터 오후 4시까지\n"
     ]
    },
    {
     "name": "stderr",
     "output_type": "stream",
     "text": [
      " 67%|██████▋   | 1007/1507 [48:25<21:18,  2.56s/it]"
     ]
    },
    {
     "name": "stdout",
     "output_type": "stream",
     "text": [
      "ID: TEST_1006 Question: JDC가 발표한 2021년 경영계획의 주요 목적은 무엇인가 Generated answer: 지역경제 활력을 제고하고, 사회적 책임을 강화\n"
     ]
    },
    {
     "name": "stderr",
     "output_type": "stream",
     "text": [
      " 67%|██████▋   | 1008/1507 [48:27<17:37,  2.12s/it]"
     ]
    },
    {
     "name": "stdout",
     "output_type": "stream",
     "text": [
      "ID: TEST_1007 Question: JDC 이사장이 밝힌 첨단과학기술단지의 주요 추진 계획은 무엇인가 Generated answer: 2021년 경영계획\n"
     ]
    },
    {
     "name": "stderr",
     "output_type": "stream",
     "text": [
      " 67%|██████▋   | 1009/1507 [48:28<15:28,  1.86s/it]"
     ]
    },
    {
     "name": "stdout",
     "output_type": "stream",
     "text": [
      "ID: TEST_1008 Question: 영어교육도시 관련 신규 추진 사항은 무엇인가 Generated answer: 국제학교 유치\n"
     ]
    },
    {
     "name": "stderr",
     "output_type": "stream",
     "text": [
      " 67%|██████▋   | 1010/1507 [48:29<13:09,  1.59s/it]"
     ]
    },
    {
     "name": "stdout",
     "output_type": "stream",
     "text": [
      "ID: TEST_1009 Question: 헬스케어타운 내 의료서비스 센터 준공 시기는 언제인가 Generated answer: 연내 준공하고 입주 기업 유치를 추진하도록 하겠다 ”\n"
     ]
    },
    {
     "name": "stderr",
     "output_type": "stream",
     "text": [
      " 67%|██████▋   | 1011/1507 [48:31<14:30,  1.76s/it]"
     ]
    },
    {
     "name": "stdout",
     "output_type": "stream",
     "text": [
      "ID: TEST_1010 Question: JDC가 지난해 도출한 결과를 기반으로 확보하려는 것은 무엇인가 Generated answer: 미래산업 추진 동력\n"
     ]
    },
    {
     "name": "stderr",
     "output_type": "stream",
     "text": [
      " 67%|██████▋   | 1012/1507 [48:34<18:19,  2.22s/it]"
     ]
    },
    {
     "name": "stdout",
     "output_type": "stream",
     "text": [
      "ID: TEST_1011 Question: 제55회 잡지의 날 기념식이 열린 장소는 어디인가 Generated answer: 전경련 컨퍼런스 센터 3층 다이아몬드홀\n"
     ]
    },
    {
     "name": "stderr",
     "output_type": "stream",
     "text": [
      " 67%|██████▋   | 1013/1507 [48:38<20:55,  2.54s/it]"
     ]
    },
    {
     "name": "stdout",
     "output_type": "stream",
     "text": [
      "ID: TEST_1012 Question: ‘전자부품(EPNC)’ 발행인의 이름은 무엇인가 Generated answer: 박한식 「 전자부품 ( EPNC ) 」 발행인이 수상하게 됐다. 박한식\n"
     ]
    },
    {
     "name": "stderr",
     "output_type": "stream",
     "text": [
      " 67%|██████▋   | 1014/1507 [48:41<24:18,  2.96s/it]"
     ]
    },
    {
     "name": "stdout",
     "output_type": "stream",
     "text": [
      "ID: TEST_1013 Question: 특별감사패를 받은 사람의 이사장 직책을 맡고 있는 단체는 무엇인가 Generated answer: 미래혁신포럼\n"
     ]
    },
    {
     "name": "stderr",
     "output_type": "stream",
     "text": [
      " 67%|██████▋   | 1015/1507 [48:44<23:31,  2.87s/it]"
     ]
    },
    {
     "name": "stdout",
     "output_type": "stream",
     "text": [
      "ID: TEST_1014 Question: 전 국민 잡지읽기 공모전 일반부 대상 수상작의 제목은 무엇인가 Generated answer: 시아버지의 선물\n"
     ]
    },
    {
     "name": "stderr",
     "output_type": "stream",
     "text": [
      " 67%|██████▋   | 1016/1507 [48:47<24:30,  3.00s/it]"
     ]
    },
    {
     "name": "stdout",
     "output_type": "stream",
     "text": [
      "ID: TEST_1015 Question: 한국잡지협회장이 수여한 청소년부 대상 수상자의 이름은 무엇인가 Generated answer: 국악누리 ’ 〉 이시은\n"
     ]
    },
    {
     "name": "stderr",
     "output_type": "stream",
     "text": [
      " 67%|██████▋   | 1017/1507 [48:51<25:41,  3.14s/it]"
     ]
    },
    {
     "name": "stdout",
     "output_type": "stream",
     "text": [
      "ID: TEST_1016 Question: 한국판 뉴딜의 기본 철학을 디자인한 인물 중 한 명은 누구인가 Generated answer: 김진우 덕성여자대학교 총장 직무대리\n"
     ]
    },
    {
     "name": "stderr",
     "output_type": "stream",
     "text": [
      " 68%|██████▊   | 1018/1507 [48:55<28:08,  3.45s/it]"
     ]
    },
    {
     "name": "stdout",
     "output_type": "stream",
     "text": [
      "ID: TEST_1017 Question: 푸르메 재단의 임지영 팀장이 운영하는 농축산 시설의 명칭은 무엇인가 Generated answer: 케어팜 ( Care Farm )\n"
     ]
    },
    {
     "name": "stderr",
     "output_type": "stream",
     "text": [
      " 68%|██████▊   | 1019/1507 [48:59<28:08,  3.46s/it]"
     ]
    },
    {
     "name": "stdout",
     "output_type": "stream",
     "text": [
      "ID: TEST_1018 Question: 스마트팜 운영을 위해 필요한 기술은 무엇인가 Generated answer: 사물인터넷\n"
     ]
    },
    {
     "name": "stderr",
     "output_type": "stream",
     "text": [
      " 68%|██████▊   | 1020/1507 [49:02<28:13,  3.48s/it]"
     ]
    },
    {
     "name": "stdout",
     "output_type": "stream",
     "text": [
      "ID: TEST_1019 Question: 초전도 자석 기술을 제조업에 적용하면 어떤 규모의 제조산업 혁신이 가능한가 Generated answer: 1000조원\n"
     ]
    },
    {
     "name": "stderr",
     "output_type": "stream",
     "text": [
      " 68%|██████▊   | 1021/1507 [49:05<27:17,  3.37s/it]"
     ]
    },
    {
     "name": "stdout",
     "output_type": "stream",
     "text": [
      "ID: TEST_1020 Question: 포스트 코로나 산업 육성전략 1순위로 꼽힌 것은 무엇인가 Generated answer: 벤처기업 육성\n"
     ]
    },
    {
     "name": "stderr",
     "output_type": "stream",
     "text": [
      " 68%|██████▊   | 1022/1507 [49:08<26:29,  3.28s/it]"
     ]
    },
    {
     "name": "stdout",
     "output_type": "stream",
     "text": [
      "ID: TEST_1021 Question: 테슬라의 3분기 매출은 Generated answer: 87억7000만 달러\n"
     ]
    },
    {
     "name": "stderr",
     "output_type": "stream",
     "text": [
      " 68%|██████▊   | 1023/1507 [49:12<26:31,  3.29s/it]"
     ]
    },
    {
     "name": "stdout",
     "output_type": "stream",
     "text": [
      "ID: TEST_1022 Question: 테슬라의 3분기 순이익은 Generated answer: 3억3100만 달러\n"
     ]
    },
    {
     "name": "stderr",
     "output_type": "stream",
     "text": [
      " 68%|██████▊   | 1024/1507 [49:15<26:27,  3.29s/it]"
     ]
    },
    {
     "name": "stdout",
     "output_type": "stream",
     "text": [
      "ID: TEST_1023 Question: 월가의 테슬라 매출 추정치는 Generated answer: 83억6000만 달러\n"
     ]
    },
    {
     "name": "stderr",
     "output_type": "stream",
     "text": [
      " 68%|██████▊   | 1025/1507 [49:18<26:26,  3.29s/it]"
     ]
    },
    {
     "name": "stdout",
     "output_type": "stream",
     "text": [
      "ID: TEST_1024 Question: 테슬라 주가는 발표일 기준 얼마로 장을 마감했는지 Generated answer: 422. 64달러\n"
     ]
    },
    {
     "name": "stderr",
     "output_type": "stream",
     "text": [
      " 68%|██████▊   | 1026/1507 [49:21<26:21,  3.29s/it]"
     ]
    },
    {
     "name": "stdout",
     "output_type": "stream",
     "text": [
      "ID: TEST_1025 Question: 니콜라의 주가가 6월에 기록한 최고가는 Generated answer: 80달러\n"
     ]
    },
    {
     "name": "stderr",
     "output_type": "stream",
     "text": [
      " 68%|██████▊   | 1027/1507 [49:26<28:29,  3.56s/it]"
     ]
    },
    {
     "name": "stdout",
     "output_type": "stream",
     "text": [
      "ID: TEST_1026 Question: 실사를 진행한 회계법인은 어디야 Generated answer: 삼일회계법인\n"
     ]
    },
    {
     "name": "stderr",
     "output_type": "stream",
     "text": [
      " 68%|██████▊   | 1028/1507 [49:29<28:12,  3.53s/it]"
     ]
    },
    {
     "name": "stdout",
     "output_type": "stream",
     "text": [
      "ID: TEST_1027 Question: 금감원의 자산운용검사국 부국장의 이름은 뭐야 Generated answer: 박용호 금감원\n"
     ]
    },
    {
     "name": "stderr",
     "output_type": "stream",
     "text": [
      " 68%|██████▊   | 1029/1507 [49:32<27:36,  3.47s/it]"
     ]
    },
    {
     "name": "stdout",
     "output_type": "stream",
     "text": [
      "ID: TEST_1028 Question: 옵티머스 펀드 최대 판매사는 어디야 Generated answer: NH투자증권은\n"
     ]
    },
    {
     "name": "stderr",
     "output_type": "stream",
     "text": [
      " 68%|██████▊   | 1030/1507 [49:37<29:42,  3.74s/it]"
     ]
    },
    {
     "name": "stdout",
     "output_type": "stream",
     "text": [
      "ID: TEST_1029 Question: 옵티머스가 투자한 총 금액은 얼마야 Generated answer: 3515억원\n"
     ]
    },
    {
     "name": "stderr",
     "output_type": "stream",
     "text": [
      " 68%|██████▊   | 1031/1507 [49:41<31:10,  3.93s/it]"
     ]
    },
    {
     "name": "stdout",
     "output_type": "stream",
     "text": [
      "ID: TEST_1030 Question: 최대 회수율은 몇 %야 Generated answer: 9 % 포인트\n"
     ]
    },
    {
     "name": "stderr",
     "output_type": "stream",
     "text": [
      " 68%|██████▊   | 1032/1507 [49:44<29:35,  3.74s/it]"
     ]
    },
    {
     "name": "stdout",
     "output_type": "stream",
     "text": [
      "ID: TEST_1031 Question: 코스피가 2500을 다시 넘은 날짜는 Generated answer: 2018년 5월 2일\n"
     ]
    },
    {
     "name": "stderr",
     "output_type": "stream",
     "text": [
      " 69%|██████▊   | 1033/1507 [49:48<28:29,  3.61s/it]"
     ]
    },
    {
     "name": "stdout",
     "output_type": "stream",
     "text": [
      "ID: TEST_1032 Question: 코스피가 2년 9개월 만에 최고치에 도달한 날짜는 Generated answer: 2018년 12월 4일\n"
     ]
    },
    {
     "name": "stderr",
     "output_type": "stream",
     "text": [
      " 69%|██████▊   | 1034/1507 [49:51<27:41,  3.51s/it]"
     ]
    },
    {
     "name": "stdout",
     "output_type": "stream",
     "text": [
      "ID: TEST_1033 Question: 외국인의 순매수액은 얼마인가 Generated answer: 4조7000억원\n"
     ]
    },
    {
     "name": "stderr",
     "output_type": "stream",
     "text": [
      " 69%|██████▊   | 1035/1507 [49:55<28:24,  3.61s/it]"
     ]
    },
    {
     "name": "stdout",
     "output_type": "stream",
     "text": [
      "ID: TEST_1034 Question: 2018년 12월 4일 이후 원화값 최고치는 Generated answer: 1105. 3원\n"
     ]
    },
    {
     "name": "stderr",
     "output_type": "stream",
     "text": [
      " 69%|██████▊   | 1036/1507 [49:59<28:39,  3.65s/it]"
     ]
    },
    {
     "name": "stdout",
     "output_type": "stream",
     "text": [
      "ID: TEST_1035 Question: 삼성전자의 종가 최고가는 Generated answer: 6만6300원\n"
     ]
    },
    {
     "name": "stderr",
     "output_type": "stream",
     "text": [
      " 69%|██████▉   | 1037/1507 [50:02<26:49,  3.42s/it]"
     ]
    },
    {
     "name": "stdout",
     "output_type": "stream",
     "text": [
      "ID: TEST_1036 Question: 제4차 산업융합 규제특례 심의위원회에서 심의한 안건 수 Generated answer: 총 10건\n"
     ]
    },
    {
     "name": "stderr",
     "output_type": "stream",
     "text": [
      " 69%|██████▉   | 1038/1507 [50:04<25:01,  3.20s/it]"
     ]
    },
    {
     "name": "stdout",
     "output_type": "stream",
     "text": [
      "ID: TEST_1037 Question: 현대글로비스가 배터리를 빌려주는 전기차 택시회사 이름 Generated answer: KST모빌리티\n"
     ]
    },
    {
     "name": "stderr",
     "output_type": "stream",
     "text": [
      " 69%|██████▉   | 1039/1507 [50:08<25:09,  3.23s/it]"
     ]
    },
    {
     "name": "stdout",
     "output_type": "stream",
     "text": [
      "ID: TEST_1038 Question: 전기차 택시 배터리 대여사업을 함께하는 두 기업 Generated answer: 현대자동차그룹과 LG화학\n"
     ]
    },
    {
     "name": "stderr",
     "output_type": "stream",
     "text": [
      " 69%|██████▉   | 1040/1507 [50:11<25:14,  3.24s/it]"
     ]
    },
    {
     "name": "stdout",
     "output_type": "stream",
     "text": [
      "ID: TEST_1039 Question: 자동차 폐차 및 부품 재활용 기업 이름 Generated answer: 굿바이카\n"
     ]
    },
    {
     "name": "stderr",
     "output_type": "stream",
     "text": [
      " 69%|██████▉   | 1041/1507 [50:14<24:05,  3.10s/it]"
     ]
    },
    {
     "name": "stdout",
     "output_type": "stream",
     "text": [
      "ID: TEST_1040 Question: 수소전기트램 시험 주행 사업을 신청한 기업 Generated answer: 현대로템\n"
     ]
    },
    {
     "name": "stderr",
     "output_type": "stream",
     "text": [
      " 69%|██████▉   | 1042/1507 [50:16<23:08,  2.99s/it]"
     ]
    },
    {
     "name": "stdout",
     "output_type": "stream",
     "text": [
      "ID: TEST_1041 Question: 옵티머스자산운용이 씨피엔에스에 투자한 금액은 Generated answer: 2000여억원\n"
     ]
    },
    {
     "name": "stderr",
     "output_type": "stream",
     "text": [
      " 69%|██████▉   | 1043/1507 [50:20<23:46,  3.07s/it]"
     ]
    },
    {
     "name": "stdout",
     "output_type": "stream",
     "text": [
      "ID: TEST_1042 Question: 씨피엔에스의 업종은 Generated answer: 부동산 투자자문업\n"
     ]
    },
    {
     "name": "stderr",
     "output_type": "stream",
     "text": [
      " 69%|██████▉   | 1044/1507 [50:23<24:10,  3.13s/it]"
     ]
    },
    {
     "name": "stdout",
     "output_type": "stream",
     "text": [
      "ID: TEST_1043 Question: 옵티머스의 2대 주주의 나이는 Generated answer: 이동열 ( 45\n"
     ]
    },
    {
     "name": "stderr",
     "output_type": "stream",
     "text": [
      " 69%|██████▉   | 1045/1507 [50:26<24:29,  3.18s/it]"
     ]
    },
    {
     "name": "stdout",
     "output_type": "stream",
     "text": [
      "ID: TEST_1044 Question: 옵티머스가 경남의 글램핑장에 투자한 금액은 Generated answer: 160억원과 165억원\n"
     ]
    },
    {
     "name": "stderr",
     "output_type": "stream",
     "text": [
      " 69%|██████▉   | 1046/1507 [50:29<23:59,  3.12s/it]"
     ]
    },
    {
     "name": "stdout",
     "output_type": "stream",
     "text": [
      "ID: TEST_1045 Question: 이씨가 옵티머스 대표와 관련된 사촌의 직책은 Generated answer: 이모씨는 “ 지난주 이씨 변호사를 통해 위촉장을 받았다 ” 며 “ ( 이씨가 구속수감된 만큼 ) 믿고 나설 사람이 없으니 나한테 맡긴 것 ” 이라고 말했다. 사촌 이씨\n"
     ]
    },
    {
     "name": "stderr",
     "output_type": "stream",
     "text": [
      " 69%|██████▉   | 1047/1507 [50:30<18:55,  2.47s/it]"
     ]
    },
    {
     "name": "stdout",
     "output_type": "stream",
     "text": [
      "ID: TEST_1046 Question: 포스코 리튬솔루션 수산화리튬 공장의 투자 금액은 얼마야 Generated answer: 7600억 원\n"
     ]
    },
    {
     "name": "stderr",
     "output_type": "stream",
     "text": [
      " 70%|██████▉   | 1048/1507 [50:32<16:46,  2.19s/it]"
     ]
    },
    {
     "name": "stdout",
     "output_type": "stream",
     "text": [
      "ID: TEST_1047 Question: 수산화리튬 공장의 연간 생산량은 Generated answer: 4만3000톤\n"
     ]
    },
    {
     "name": "stderr",
     "output_type": "stream",
     "text": [
      " 70%|██████▉   | 1049/1507 [50:33<14:14,  1.86s/it]"
     ]
    },
    {
     "name": "stdout",
     "output_type": "stream",
     "text": [
      "ID: TEST_1048 Question: 공장의 신규 고용인원은 몇 명이야 Generated answer: 260명이다\n"
     ]
    },
    {
     "name": "stderr",
     "output_type": "stream",
     "text": [
      " 70%|██████▉   | 1050/1507 [50:34<12:27,  1.64s/it]"
     ]
    },
    {
     "name": "stdout",
     "output_type": "stream",
     "text": [
      "ID: TEST_1049 Question: 포스코 회장의 이름은 Generated answer: 최정우 포스코\n"
     ]
    },
    {
     "name": "stderr",
     "output_type": "stream",
     "text": [
      " 70%|██████▉   | 1051/1507 [50:35<11:12,  1.47s/it]"
     ]
    },
    {
     "name": "stdout",
     "output_type": "stream",
     "text": [
      "ID: TEST_1050 Question: 김경호 부시장의 직책은 Generated answer: 김경호 광양 부시장\n"
     ]
    },
    {
     "name": "stderr",
     "output_type": "stream",
     "text": [
      " 70%|██████▉   | 1052/1507 [50:38<15:18,  2.02s/it]"
     ]
    },
    {
     "name": "stdout",
     "output_type": "stream",
     "text": [
      "ID: TEST_1051 Question: 공매도 전면 재개 예정일은 Generated answer: 내년 3월 15일\n"
     ]
    },
    {
     "name": "stderr",
     "output_type": "stream",
     "text": [
      " 70%|██████▉   | 1053/1507 [50:41<18:09,  2.40s/it]"
     ]
    },
    {
     "name": "stdout",
     "output_type": "stream",
     "text": [
      "ID: TEST_1052 Question: 불법 공매도의 형사처벌 기준은 Generated answer: 무차입공매도\n"
     ]
    },
    {
     "name": "stderr",
     "output_type": "stream",
     "text": [
      " 70%|██████▉   | 1054/1507 [50:45<20:05,  2.66s/it]"
     ]
    },
    {
     "name": "stdout",
     "output_type": "stream",
     "text": [
      "ID: TEST_1053 Question: 금융감독원이 제안한 공매도 제한의 목적은 Generated answer: ##개인투자자의 공매도 참여 확대\n"
     ]
    },
    {
     "name": "stderr",
     "output_type": "stream",
     "text": [
      " 70%|███████   | 1055/1507 [50:48<21:30,  2.86s/it]"
     ]
    },
    {
     "name": "stdout",
     "output_type": "stream",
     "text": [
      "ID: TEST_1054 Question: 시장조성자의 주요 역할은 Generated answer: 유동성을 공급하는 역할을 맡은 증권사\n"
     ]
    },
    {
     "name": "stderr",
     "output_type": "stream",
     "text": [
      " 70%|███████   | 1056/1507 [50:51<22:25,  2.98s/it]"
     ]
    },
    {
     "name": "stdout",
     "output_type": "stream",
     "text": [
      "ID: TEST_1055 Question: 현재 불법 공매도의 과태료는 Generated answer: 1억원\n"
     ]
    },
    {
     "name": "stderr",
     "output_type": "stream",
     "text": [
      " 70%|███████   | 1057/1507 [50:55<23:02,  3.07s/it]"
     ]
    },
    {
     "name": "stdout",
     "output_type": "stream",
     "text": [
      "ID: TEST_1056 Question: 박순철 서울남부지검장이 사의를 표명한 날짜는 Generated answer: 22일 사의를 표명했다\n"
     ]
    },
    {
     "name": "stderr",
     "output_type": "stream",
     "text": [
      " 70%|███████   | 1058/1507 [50:58<23:26,  3.13s/it]"
     ]
    },
    {
     "name": "stdout",
     "output_type": "stream",
     "text": [
      "ID: TEST_1057 Question: 박순철 지검장이 국회 법제사법위원회의 서울고검과 산하 검찰청 국정감사에서 주장한 날짜는 Generated answer: 지난 19일\n"
     ]
    },
    {
     "name": "stderr",
     "output_type": "stream",
     "text": [
      " 70%|███████   | 1059/1507 [51:01<22:31,  3.02s/it]"
     ]
    },
    {
     "name": "stdout",
     "output_type": "stream",
     "text": [
      "ID: TEST_1058 Question: 박순철 지검장이 지목한 라임자산운용의 전주의 이름은 Generated answer: 김봉현 (\n"
     ]
    },
    {
     "name": "stderr",
     "output_type": "stream",
     "text": [
      " 70%|███████   | 1060/1507 [51:03<21:53,  2.94s/it]"
     ]
    },
    {
     "name": "stdout",
     "output_type": "stream",
     "text": [
      "ID: TEST_1059 Question: 박순철 지검장이 검사로 임관한 연도는 Generated answer: 1995년 검사\n"
     ]
    },
    {
     "name": "stderr",
     "output_type": "stream",
     "text": [
      " 70%|███████   | 1061/1507 [51:07<22:35,  3.04s/it]"
     ]
    },
    {
     "name": "stdout",
     "output_type": "stream",
     "text": [
      "ID: TEST_1060 Question: 윤석열 검찰총장이 참석한 법제사법위원회 국정감사가 시작된 시각은 Generated answer: 오후 10시 10분\n"
     ]
    },
    {
     "name": "stderr",
     "output_type": "stream",
     "text": [
      " 70%|███████   | 1062/1507 [51:10<23:06,  3.12s/it]"
     ]
    },
    {
     "name": "stdout",
     "output_type": "stream",
     "text": [
      "ID: TEST_1061 Question: 미국 노스캐롤라이나주의 한국인의 원격수업 만족도는 Generated answer: 높은 편\n"
     ]
    },
    {
     "name": "stderr",
     "output_type": "stream",
     "text": [
      " 71%|███████   | 1063/1507 [51:14<24:55,  3.37s/it]"
     ]
    },
    {
     "name": "stdout",
     "output_type": "stream",
     "text": [
      "ID: TEST_1062 Question: 한 보험회사의 전동킥보드 사고 건당 지급 보험금 Generated answer: 244만원\n"
     ]
    },
    {
     "name": "stderr",
     "output_type": "stream",
     "text": [
      " 71%|███████   | 1064/1507 [51:17<23:11,  3.14s/it]"
     ]
    },
    {
     "name": "stdout",
     "output_type": "stream",
     "text": [
      "ID: TEST_1063 Question: 신병 수료식에 참석한 훈련병 수 Generated answer: 244명의\n"
     ]
    },
    {
     "name": "stderr",
     "output_type": "stream",
     "text": [
      " 71%|███████   | 1065/1507 [51:20<23:26,  3.18s/it]"
     ]
    },
    {
     "name": "stdout",
     "output_type": "stream",
     "text": [
      "ID: TEST_1064 Question: 화천군에 위치한 신병교육대 번호 Generated answer: 7사단\n"
     ]
    },
    {
     "name": "stderr",
     "output_type": "stream",
     "text": [
      " 71%|███████   | 1066/1507 [51:23<22:56,  3.12s/it]"
     ]
    },
    {
     "name": "stdout",
     "output_type": "stream",
     "text": [
      "ID: TEST_1065 Question: 이번 수료식을 처음 제안한 단체 Generated answer: 육군협회가 처음 제안했다. 새로운 방식의 수료식이 필요하다고 판단한 육군협회\n"
     ]
    },
    {
     "name": "stderr",
     "output_type": "stream",
     "text": [
      " 71%|███████   | 1067/1507 [51:25<21:33,  2.94s/it]"
     ]
    },
    {
     "name": "stdout",
     "output_type": "stream",
     "text": [
      "ID: TEST_1066 Question: 비대면 수료식을 중계한 통신사 Generated answer: KT가 수료식을 온라인 라이브 방송\n"
     ]
    },
    {
     "name": "stderr",
     "output_type": "stream",
     "text": [
      " 71%|███████   | 1068/1507 [51:29<22:14,  3.04s/it]"
     ]
    },
    {
     "name": "stdout",
     "output_type": "stream",
     "text": [
      "ID: TEST_1067 Question: 수료식 영상을 생방송으로 중계한 채널 Generated answer: 유튜브 채널과 7사단 페이스북 채널\n"
     ]
    },
    {
     "name": "stderr",
     "output_type": "stream",
     "text": [
      " 71%|███████   | 1069/1507 [51:32<21:56,  3.01s/it]"
     ]
    },
    {
     "name": "stdout",
     "output_type": "stream",
     "text": [
      "ID: TEST_1068 Question: 원화가치가 최고수준으로 오른 날짜 Generated answer: 올해 최고수준으로 올랐다. 12일\n"
     ]
    },
    {
     "name": "stderr",
     "output_type": "stream",
     "text": [
      " 71%|███████   | 1070/1507 [51:34<20:55,  2.87s/it]"
     ]
    },
    {
     "name": "stdout",
     "output_type": "stream",
     "text": [
      "ID: TEST_1069 Question: 원·달러 환율이 1150원을 밑돈 마지막 해와 월 Generated answer: 7월 1일\n"
     ]
    },
    {
     "name": "stderr",
     "output_type": "stream",
     "text": [
      " 71%|███████   | 1071/1507 [51:37<21:47,  3.00s/it]"
     ]
    },
    {
     "name": "stdout",
     "output_type": "stream",
     "text": [
      "ID: TEST_1070 Question: 달러 가치가 떨어진 주된 이유 Generated answer: 중국의 경기 둔화 우려\n"
     ]
    },
    {
     "name": "stderr",
     "output_type": "stream",
     "text": [
      " 71%|███████   | 1072/1507 [51:40<21:56,  3.03s/it]"
     ]
    },
    {
     "name": "stdout",
     "output_type": "stream",
     "text": [
      "ID: TEST_1071 Question: 중국 경기 부양책의 긍정적 효과를 나타내는 예 Generated answer: 외국인 투자자금이 유입\n"
     ]
    },
    {
     "name": "stderr",
     "output_type": "stream",
     "text": [
      " 71%|███████   | 1073/1507 [51:44<22:51,  3.16s/it]"
     ]
    },
    {
     "name": "stdout",
     "output_type": "stream",
     "text": [
      "ID: TEST_1072 Question: 외국인 자금 순매수가 가장 컸던 원·달러 환율 범위 Generated answer: 1120 ~ 1140원\n"
     ]
    },
    {
     "name": "stderr",
     "output_type": "stream",
     "text": [
      " 71%|███████▏  | 1074/1507 [51:45<19:11,  2.66s/it]"
     ]
    },
    {
     "name": "stdout",
     "output_type": "stream",
     "text": [
      "ID: TEST_1073 Question: 완도 수산물 가정간편식(HMR) 온라인 수출상담회가 열린 장소는 Generated answer: 완도문화예술의 전당\n"
     ]
    },
    {
     "name": "stderr",
     "output_type": "stream",
     "text": [
      " 71%|███████▏  | 1075/1507 [51:47<16:31,  2.29s/it]"
     ]
    },
    {
     "name": "stdout",
     "output_type": "stream",
     "text": [
      "ID: TEST_1074 Question: 수출 협약이 체결된 국가 수는 Generated answer: 3개국\n"
     ]
    },
    {
     "name": "stderr",
     "output_type": "stream",
     "text": [
      " 71%|███████▏  | 1076/1507 [51:48<14:00,  1.95s/it]"
     ]
    },
    {
     "name": "stdout",
     "output_type": "stream",
     "text": [
      "ID: TEST_1075 Question: 미국 울타리USA와 완도군의 수출 협약 금액은 Generated answer: 500만 불\n"
     ]
    },
    {
     "name": "stderr",
     "output_type": "stream",
     "text": [
      " 71%|███████▏  | 1077/1507 [51:49<12:20,  1.72s/it]"
     ]
    },
    {
     "name": "stdout",
     "output_type": "stream",
     "text": [
      "ID: TEST_1076 Question: 이번 상담회 주최 기관은 Generated answer: 해양수산부와 완도군\n"
     ]
    },
    {
     "name": "stderr",
     "output_type": "stream",
     "text": [
      " 72%|███████▏  | 1078/1507 [51:50<10:20,  1.45s/it]"
     ]
    },
    {
     "name": "stdout",
     "output_type": "stream",
     "text": [
      "ID: TEST_1077 Question: 지난해 최초로 HMR 수출상담회가 개최된 월은 Generated answer: 지난해 9월\n"
     ]
    },
    {
     "name": "stderr",
     "output_type": "stream",
     "text": [
      " 72%|███████▏  | 1079/1507 [51:53<12:58,  1.82s/it]"
     ]
    },
    {
     "name": "stdout",
     "output_type": "stream",
     "text": [
      "ID: TEST_1078 Question: 광주광역시와 전남도의 행정통합 논의 합의문이 발표된 장소는 어디인가 Generated answer: 김대중컨벤션센터\n"
     ]
    },
    {
     "name": "stderr",
     "output_type": "stream",
     "text": [
      " 72%|███████▏  | 1080/1507 [51:56<16:03,  2.26s/it]"
     ]
    },
    {
     "name": "stdout",
     "output_type": "stream",
     "text": [
      "ID: TEST_1079 Question: 대구·경북의 인구는 몇 명인가 Generated answer: 510만명\n"
     ]
    },
    {
     "name": "stderr",
     "output_type": "stream",
     "text": [
      " 72%|███████▏  | 1081/1507 [51:59<18:13,  2.57s/it]"
     ]
    },
    {
     "name": "stdout",
     "output_type": "stream",
     "text": [
      "ID: TEST_1080 Question: 전남의 인구소멸 위험지역 비중은 몇 퍼센트인가 Generated answer: 82. 6 %\n"
     ]
    },
    {
     "name": "stderr",
     "output_type": "stream",
     "text": [
      " 72%|███████▏  | 1082/1507 [52:02<19:34,  2.76s/it]"
     ]
    },
    {
     "name": "stdout",
     "output_type": "stream",
     "text": [
      "ID: TEST_1081 Question: 대구·경북이 목표로 하는 특별자치도의 출범 시기는 언제인가 Generated answer: 2022년 7월\n"
     ]
    },
    {
     "name": "stderr",
     "output_type": "stream",
     "text": [
      " 72%|███████▏  | 1083/1507 [52:05<19:15,  2.73s/it]"
     ]
    },
    {
     "name": "stdout",
     "output_type": "stream",
     "text": [
      "ID: TEST_1082 Question: 부산·울산·경남의 연합 형태 통합 계획은 무엇을 만드는 것인가 Generated answer: 동남권 메가시티\n"
     ]
    },
    {
     "name": "stderr",
     "output_type": "stream",
     "text": [
      " 72%|███████▏  | 1084/1507 [52:08<19:36,  2.78s/it]"
     ]
    },
    {
     "name": "stdout",
     "output_type": "stream",
     "text": [
      "ID: TEST_1083 Question: 수사 지휘자인 박순철 서울남부지검장이 공개 비판하면서 사퇴한 결정 Generated answer: 추미애 법무부 장관의 결정\n"
     ]
    },
    {
     "name": "stderr",
     "output_type": "stream",
     "text": [
      " 72%|███████▏  | 1085/1507 [52:11<20:23,  2.90s/it]"
     ]
    },
    {
     "name": "stdout",
     "output_type": "stream",
     "text": [
      "ID: TEST_1084 Question: 박순철 지검장이 공개 비판을 올린 검찰 내부통신망 Generated answer: 이프로스\n"
     ]
    },
    {
     "name": "stderr",
     "output_type": "stream",
     "text": [
      " 72%|███████▏  | 1086/1507 [52:14<19:51,  2.83s/it]"
     ]
    },
    {
     "name": "stdout",
     "output_type": "stream",
     "text": [
      "ID: TEST_1085 Question: 추미애 법무부 장관이 윤석열 총장의 수사지휘권을 박탈한 이유 중 하나 Generated answer: 야당 정치인 금품수수 및 검사 향응 접대 의혹에 대한 의도적 부실수사 의혹\n"
     ]
    },
    {
     "name": "stderr",
     "output_type": "stream",
     "text": [
      " 72%|███████▏  | 1087/1507 [52:17<20:01,  2.86s/it]"
     ]
    },
    {
     "name": "stdout",
     "output_type": "stream",
     "text": [
      "ID: TEST_1086 Question: 윤석열 총장의 수사지휘권 박탈 사건에서 의혹의 하나로 언급된 사람 Generated answer: 의도적 부실수사\n"
     ]
    },
    {
     "name": "stderr",
     "output_type": "stream",
     "text": [
      " 72%|███████▏  | 1088/1507 [52:20<20:52,  2.99s/it]"
     ]
    },
    {
     "name": "stdout",
     "output_type": "stream",
     "text": [
      "ID: TEST_1087 Question: 박순철 지검장이 주장을 끝맺으며 말한 동기 Generated answer: 정치가 검찰을 덮어버렸다. 이제 검사직을 내려놓으려 한다\n"
     ]
    },
    {
     "name": "stderr",
     "output_type": "stream",
     "text": [
      " 72%|███████▏  | 1089/1507 [52:23<21:24,  3.07s/it]"
     ]
    },
    {
     "name": "stdout",
     "output_type": "stream",
     "text": [
      "ID: TEST_1088 Question: 여성가족부가 특정성별영향평가를 실시한 작년의 연도는 Generated answer: “ 유치원 화장실의 가림막이 없는 소변기에서 신체가 노출될 경우에 수치심을 느낄 수 있어 이를 고려해야 한다 ” 고 밝혔다. 이일현\n"
     ]
    },
    {
     "name": "stderr",
     "output_type": "stream",
     "text": [
      " 72%|███████▏  | 1090/1507 [52:26<19:35,  2.82s/it]"
     ]
    },
    {
     "name": "stdout",
     "output_type": "stream",
     "text": [
      "ID: TEST_1089 Question: 여군의 모성보호 지원정책 개선 관련 권고를 받은 부처는 Generated answer: 여성가족부\n"
     ]
    },
    {
     "name": "stderr",
     "output_type": "stream",
     "text": [
      " 72%|███████▏  | 1091/1507 [52:29<20:29,  2.96s/it]"
     ]
    },
    {
     "name": "stdout",
     "output_type": "stream",
     "text": [
      "ID: TEST_1090 Question: 유치원 남아 화장실 가림막 설치 규정을 개선할 소관 부처는 Generated answer: 교육부와 보건복지부\n"
     ]
    },
    {
     "name": "stderr",
     "output_type": "stream",
     "text": [
      " 72%|███████▏  | 1092/1507 [52:33<22:49,  3.30s/it]"
     ]
    },
    {
     "name": "stdout",
     "output_type": "stream",
     "text": [
      "ID: TEST_1091 Question: 저HDL 혈증 고위험 연령대는 Generated answer: 35 ~ 39세\n"
     ]
    },
    {
     "name": "stderr",
     "output_type": "stream",
     "text": [
      " 73%|███████▎  | 1093/1507 [52:35<21:04,  3.05s/it]"
     ]
    },
    {
     "name": "stdout",
     "output_type": "stream",
     "text": [
      "ID: TEST_1092 Question: ROTC 선발 면접평가위원의 성별 균형을 고려하라 권고한 부처는 Generated answer: 여성가족부\n"
     ]
    },
    {
     "name": "stderr",
     "output_type": "stream",
     "text": [
      " 73%|███████▎  | 1094/1507 [52:39<21:28,  3.12s/it]"
     ]
    },
    {
     "name": "stdout",
     "output_type": "stream",
     "text": [
      "ID: TEST_1093 Question: 케네디 상가 상인이 최초 확진 판정을 받은 날짜는 Generated answer: 8일 중앙방역대책본부 ( 방대본 ) 가 서울 중구청으로 확진자 발생 통보를 전달했다 \" 고 설명했다.\n"
     ]
    },
    {
     "name": "stderr",
     "output_type": "stream",
     "text": [
      " 73%|███████▎  | 1095/1507 [52:42<21:46,  3.17s/it]"
     ]
    },
    {
     "name": "stdout",
     "output_type": "stream",
     "text": [
      "ID: TEST_1094 Question: 가족계획과 관련된 1980년대 표어는? Generated answer: 잘 키운 딸 하나, 열 아들 안 부럽다\n"
     ]
    },
    {
     "name": "stderr",
     "output_type": "stream",
     "text": [
      " 73%|███████▎  | 1096/1507 [52:45<21:56,  3.20s/it]"
     ]
    },
    {
     "name": "stdout",
     "output_type": "stream",
     "text": [
      "ID: TEST_1095 Question: 1982년 문화영화 제목은? Generated answer: 우리는 정보가족\n"
     ]
    },
    {
     "name": "stderr",
     "output_type": "stream",
     "text": [
      " 73%|███████▎  | 1097/1507 [52:48<21:44,  3.18s/it]"
     ]
    },
    {
     "name": "stdout",
     "output_type": "stream",
     "text": [
      "ID: TEST_1096 Question: 1991년 문화영화 제목은? Generated answer: 우리는 정보가족\n"
     ]
    },
    {
     "name": "stderr",
     "output_type": "stream",
     "text": [
      " 73%|███████▎  | 1098/1507 [52:51<20:22,  2.99s/it]"
     ]
    },
    {
     "name": "stdout",
     "output_type": "stream",
     "text": [
      "ID: TEST_1097 Question: 1988년 서울 올림픽을 준비한 지하철 노선 수는? Generated answer: 4개였던 지하철\n"
     ]
    },
    {
     "name": "stderr",
     "output_type": "stream",
     "text": [
      " 73%|███████▎  | 1099/1507 [52:54<19:55,  2.93s/it]"
     ]
    },
    {
     "name": "stdout",
     "output_type": "stream",
     "text": [
      "ID: TEST_1098 Question: 1997년 외환위기 관련 문화영화 제목은? Generated answer: 다시 뛰자 코리아\n"
     ]
    },
    {
     "name": "stderr",
     "output_type": "stream",
     "text": [
      " 73%|███████▎  | 1100/1507 [52:55<16:42,  2.46s/it]"
     ]
    },
    {
     "name": "stdout",
     "output_type": "stream",
     "text": [
      "ID: TEST_1099 Question: 여름 시장을 공략하기 위해 이디야커피가 출시하는 빙수 종류는 몇 종인가 Generated answer: 5종의\n"
     ]
    },
    {
     "name": "stderr",
     "output_type": "stream",
     "text": [
      " 73%|███████▎  | 1101/1507 [52:56<13:37,  2.01s/it]"
     ]
    },
    {
     "name": "stdout",
     "output_type": "stream",
     "text": [
      "ID: TEST_1100 Question: 폴 바셋이 출시한 컵빙수 종류는 몇 가지인가 Generated answer: 오리지널 컵빙수와 커피 컵빙수, 말차 컵빙수 3종\n"
     ]
    },
    {
     "name": "stderr",
     "output_type": "stream",
     "text": [
      " 73%|███████▎  | 1102/1507 [52:57<11:56,  1.77s/it]"
     ]
    },
    {
     "name": "stdout",
     "output_type": "stream",
     "text": [
      "ID: TEST_1101 Question: 카페베네가 새롭게 출시한 커피 빙수의 종류는 Generated answer: 디카페인\n"
     ]
    },
    {
     "name": "stderr",
     "output_type": "stream",
     "text": [
      " 73%|███████▎  | 1103/1507 [52:58<10:31,  1.56s/it]"
     ]
    },
    {
     "name": "stdout",
     "output_type": "stream",
     "text": [
      "ID: TEST_1102 Question: 혼자서 디저트를 먹는 사람들을 지칭하는 용어는 Generated answer: 혼디족\n"
     ]
    },
    {
     "name": "stderr",
     "output_type": "stream",
     "text": [
      " 73%|███████▎  | 1104/1507 [53:00<09:48,  1.46s/it]"
     ]
    },
    {
     "name": "stdout",
     "output_type": "stream",
     "text": [
      "ID: TEST_1103 Question: 코로나19로 확산된 식음료 관련 문화는 Generated answer: 혼자서 식사를 하거나 차를 마시는 문화\n"
     ]
    },
    {
     "name": "stderr",
     "output_type": "stream",
     "text": [
      " 73%|███████▎  | 1105/1507 [53:02<12:13,  1.83s/it]"
     ]
    },
    {
     "name": "stdout",
     "output_type": "stream",
     "text": [
      "ID: TEST_1104 Question: 이재명이 언급한 법안의 숫자는 몇 개인가 Generated answer: 경제 3법\n"
     ]
    },
    {
     "name": "stderr",
     "output_type": "stream",
     "text": [
      " 73%|███████▎  | 1106/1507 [53:06<15:58,  2.39s/it]"
     ]
    },
    {
     "name": "stdout",
     "output_type": "stream",
     "text": [
      "ID: TEST_1105 Question: 이재명이 기본소득을 설명한 날짜는 언제인가 Generated answer: 2일 서울 여의도에서 여야 의원 33명과 예산정책협의회를 연 데 이어, 13일\n"
     ]
    },
    {
     "name": "stderr",
     "output_type": "stream",
     "text": [
      " 73%|███████▎  | 1107/1507 [53:09<18:09,  2.72s/it]"
     ]
    },
    {
     "name": "stdout",
     "output_type": "stream",
     "text": [
      "ID: TEST_1106 Question: 이재명이 발언한 감사위원 선임 시 의결권 제한 규정은 무엇인가 Generated answer: 3 % 룰\n"
     ]
    },
    {
     "name": "stderr",
     "output_type": "stream",
     "text": [
      " 74%|███████▎  | 1108/1507 [53:13<20:00,  3.01s/it]"
     ]
    },
    {
     "name": "stdout",
     "output_type": "stream",
     "text": [
      "ID: TEST_1107 Question: 이재명이 여야 의원들과 협의회를 연 장소는 어디인가 Generated answer: 서울 여의도에서\n"
     ]
    },
    {
     "name": "stderr",
     "output_type": "stream",
     "text": [
      " 74%|███████▎  | 1109/1507 [53:16<19:33,  2.95s/it]"
     ]
    },
    {
     "name": "stdout",
     "output_type": "stream",
     "text": [
      "ID: TEST_1108 Question: 이재명의 발언에 등장한 대통령은 누구인가 Generated answer: 문재인 대통령님께서는 국회 시정연설에서 공정경제 3법의 처리를 간곡히 당부했다 ” 고 적었다. 지난 10일 기본소득 탄소세 도입을 주장할 때도 글 도입부에 “ 최근 문 대통령\n"
     ]
    },
    {
     "name": "stderr",
     "output_type": "stream",
     "text": [
      " 74%|███████▎  | 1110/1507 [53:18<18:37,  2.82s/it]"
     ]
    },
    {
     "name": "stdout",
     "output_type": "stream",
     "text": [
      "ID: TEST_1109 Question: 조두순이 귀주할 예정인 도시는 어디인가 Generated answer: 안산으로 귀주한다. 조두순의 피해자 가족도 아직 안산\n"
     ]
    },
    {
     "name": "stderr",
     "output_type": "stream",
     "text": [
      " 74%|███████▎  | 1111/1507 [53:22<19:58,  3.03s/it]"
     ]
    },
    {
     "name": "stdout",
     "output_type": "stream",
     "text": [
      "ID: TEST_1110 Question: 법무부가 사전 면담을 실시한 날짜는 언제인가 Generated answer: 7월 28일\n"
     ]
    },
    {
     "name": "stderr",
     "output_type": "stream",
     "text": [
      " 74%|███████▍  | 1112/1507 [53:25<19:34,  2.97s/it]"
     ]
    },
    {
     "name": "stdout",
     "output_type": "stream",
     "text": [
      "ID: TEST_1111 Question: 법무부의 '조두순 출소 후 재범방지 대책' 보고서를 공개한 의원은 누구인가 Generated answer: 김도읍 의원실\n"
     ]
    },
    {
     "name": "stderr",
     "output_type": "stream",
     "text": [
      " 74%|███████▍  | 1113/1507 [53:28<20:10,  3.07s/it]"
     ]
    },
    {
     "name": "stdout",
     "output_type": "stream",
     "text": [
      "ID: TEST_1112 Question: 조두순 전담 보호관찰사의 근무 경력은 몇 년인가 Generated answer: 20년 근무경력\n"
     ]
    },
    {
     "name": "stderr",
     "output_type": "stream",
     "text": [
      " 74%|███████▍  | 1114/1507 [53:31<20:32,  3.14s/it]"
     ]
    },
    {
     "name": "stdout",
     "output_type": "stream",
     "text": [
      "ID: TEST_1113 Question: 안산시의 추가 CCTV 설치 기한은 언제까지인가 Generated answer: 올해 10월까지\n"
     ]
    },
    {
     "name": "stderr",
     "output_type": "stream",
     "text": [
      " 74%|███████▍  | 1115/1507 [53:36<22:56,  3.51s/it]"
     ]
    },
    {
     "name": "stdout",
     "output_type": "stream",
     "text": [
      "ID: TEST_1114 Question: 부모 세대가 가장 강하게 필요로 한 효도 계약 조건은 Generated answer: 정서적 지지\n"
     ]
    },
    {
     "name": "stderr",
     "output_type": "stream",
     "text": [
      " 74%|███████▍  | 1116/1507 [53:40<24:33,  3.77s/it]"
     ]
    },
    {
     "name": "stdout",
     "output_type": "stream",
     "text": [
      "ID: TEST_1115 Question: 50대 응답자의 효도 계약 필요 응답 비율은 Generated answer: 77. 3 %\n"
     ]
    },
    {
     "name": "stderr",
     "output_type": "stream",
     "text": [
      " 74%|███████▍  | 1117/1507 [53:43<23:36,  3.63s/it]"
     ]
    },
    {
     "name": "stdout",
     "output_type": "stream",
     "text": [
      "ID: TEST_1116 Question: 박완주 의원이 발의한 법률안의 발의 날짜는 Generated answer: 6월 17일\n"
     ]
    },
    {
     "name": "stderr",
     "output_type": "stream",
     "text": [
      " 74%|███████▍  | 1118/1507 [53:47<22:54,  3.53s/it]"
     ]
    },
    {
     "name": "stdout",
     "output_type": "stream",
     "text": [
      "ID: TEST_1117 Question: 403명을 대상으로 설문조사한 연구팀 소속 대학은 Generated answer: 서울 · 인천 · 경기\n"
     ]
    },
    {
     "name": "stderr",
     "output_type": "stream",
     "text": [
      " 74%|███████▍  | 1119/1507 [53:50<22:46,  3.52s/it]"
     ]
    },
    {
     "name": "stdout",
     "output_type": "stream",
     "text": [
      "ID: TEST_1118 Question: 유럽 국가 중 이미 이행한 증여 부분도 반환 청구할 수 있는 나라는 Generated answer: 독일이나 프랑스\n"
     ]
    },
    {
     "name": "stderr",
     "output_type": "stream",
     "text": [
      " 74%|███████▍  | 1120/1507 [53:54<23:57,  3.72s/it]"
     ]
    },
    {
     "name": "stdout",
     "output_type": "stream",
     "text": [
      "ID: TEST_1119 Question: 6월 중 가계부문의 M2 증가폭은 Generated answer: 16조8898억원\n"
     ]
    },
    {
     "name": "stderr",
     "output_type": "stream",
     "text": [
      " 74%|███████▍  | 1121/1507 [53:59<24:54,  3.87s/it]"
     ]
    },
    {
     "name": "stdout",
     "output_type": "stream",
     "text": [
      "ID: TEST_1120 Question: M2의 정의는 Generated answer: 대출은 곧바로 현금화할 수 있는 M2로 잡히는데 6월 가계대출은 5월 증가 규모 ( 5조원 ) 보다 3조1000억원가량 확대된 8조1000억원\n"
     ]
    },
    {
     "name": "stderr",
     "output_type": "stream",
     "text": [
      " 74%|███████▍  | 1122/1507 [54:02<24:00,  3.74s/it]"
     ]
    },
    {
     "name": "stdout",
     "output_type": "stream",
     "text": [
      "ID: TEST_1121 Question: 6월 기업부문의 M2 증가폭은 Generated answer: 9조802억원\n"
     ]
    },
    {
     "name": "stderr",
     "output_type": "stream",
     "text": [
      " 75%|███████▍  | 1123/1507 [54:07<25:09,  3.93s/it]"
     ]
    },
    {
     "name": "stdout",
     "output_type": "stream",
     "text": [
      "ID: TEST_1122 Question: 2년 미만 정기 예·적금의 변화 추세는 Generated answer: 4조7537억원\n"
     ]
    },
    {
     "name": "stderr",
     "output_type": "stream",
     "text": [
      " 75%|███████▍  | 1124/1507 [54:11<25:26,  3.99s/it]"
     ]
    },
    {
     "name": "stdout",
     "output_type": "stream",
     "text": [
      "ID: TEST_1123 Question: 6월 중 수시입출식 저축성 예금의 증가액은 Generated answer: 14조3580억원\n"
     ]
    },
    {
     "name": "stderr",
     "output_type": "stream",
     "text": [
      " 75%|███████▍  | 1125/1507 [54:14<24:37,  3.87s/it]"
     ]
    },
    {
     "name": "stdout",
     "output_type": "stream",
     "text": [
      "ID: TEST_1124 Question: 서울 아파트 평균 전셋값이 4억9922만원으로 있던 달은? Generated answer: 2017년 입주자 모집 당시\n"
     ]
    },
    {
     "name": "stderr",
     "output_type": "stream",
     "text": [
      " 75%|███████▍  | 1126/1507 [54:19<25:30,  4.02s/it]"
     ]
    },
    {
     "name": "stdout",
     "output_type": "stream",
     "text": [
      "ID: TEST_1125 Question: 서울 강남 4구에 속하는 구는? Generated answer: 강남 · 서초 · 송파 · 강동구\n"
     ]
    },
    {
     "name": "stderr",
     "output_type": "stream",
     "text": [
      " 75%|███████▍  | 1127/1507 [54:22<24:05,  3.80s/it]"
     ]
    },
    {
     "name": "stdout",
     "output_type": "stream",
     "text": [
      "ID: TEST_1126 Question: 심교언 교수가 소속된 대학교는? Generated answer: 건국대 부동산학과\n"
     ]
    },
    {
     "name": "stderr",
     "output_type": "stream",
     "text": [
      " 75%|███████▍  | 1128/1507 [54:25<23:36,  3.74s/it]"
     ]
    },
    {
     "name": "stdout",
     "output_type": "stream",
     "text": [
      "ID: TEST_1127 Question: 헬리오시티가 준공된 해는? Generated answer: 2018년 말\n"
     ]
    },
    {
     "name": "stderr",
     "output_type": "stream",
     "text": [
      " 75%|███████▍  | 1129/1507 [54:30<25:00,  3.97s/it]"
     ]
    },
    {
     "name": "stdout",
     "output_type": "stream",
     "text": [
      "ID: TEST_1128 Question: 경북의 아파트 매매가격지수는 얼마나 내렸나요? Generated answer: 2. 4포인트\n"
     ]
    },
    {
     "name": "stderr",
     "output_type": "stream",
     "text": [
      " 75%|███████▍  | 1130/1507 [54:33<22:53,  3.64s/it]"
     ]
    },
    {
     "name": "stdout",
     "output_type": "stream",
     "text": [
      "ID: TEST_1129 Question: 스페이스뱅크가 선정된 데이터바우처 사업 결과는 무엇인가 Generated answer: 사업 확장에 성공\n"
     ]
    },
    {
     "name": "stderr",
     "output_type": "stream",
     "text": [
      " 75%|███████▌  | 1131/1507 [54:36<22:03,  3.52s/it]"
     ]
    },
    {
     "name": "stdout",
     "output_type": "stream",
     "text": [
      "ID: TEST_1130 Question: 달걀 한 판 가격이 7432원으로 상승한 이유 Generated answer: 한 달 전보다 약 25 %\n"
     ]
    },
    {
     "name": "stderr",
     "output_type": "stream",
     "text": [
      " 75%|███████▌  | 1132/1507 [54:38<19:37,  3.14s/it]"
     ]
    },
    {
     "name": "stdout",
     "output_type": "stream",
     "text": [
      "ID: TEST_1131 Question: 미국산 신선란의 수입 규모 Generated answer: 약 140만개\n"
     ]
    },
    {
     "name": "stderr",
     "output_type": "stream",
     "text": [
      " 75%|███████▌  | 1133/1507 [54:42<19:51,  3.18s/it]"
     ]
    },
    {
     "name": "stdout",
     "output_type": "stream",
     "text": [
      "ID: TEST_1132 Question: 국내 달걀 비축물량 공급 기간 Generated answer: 180만판\n"
     ]
    },
    {
     "name": "stderr",
     "output_type": "stream",
     "text": [
      " 75%|███████▌  | 1134/1507 [54:45<19:31,  3.14s/it]"
     ]
    },
    {
     "name": "stdout",
     "output_type": "stream",
     "text": [
      "ID: TEST_1133 Question: 미국산 달걀의 공매가 Generated answer: 5486원\n"
     ]
    },
    {
     "name": "stderr",
     "output_type": "stream",
     "text": [
      " 75%|███████▌  | 1135/1507 [54:47<17:51,  2.88s/it]"
     ]
    },
    {
     "name": "stdout",
     "output_type": "stream",
     "text": [
      "ID: TEST_1134 Question: 김양길 회장이 권장하는 지원 대상 Generated answer: 달걀 생산비\n"
     ]
    },
    {
     "name": "stderr",
     "output_type": "stream",
     "text": [
      " 75%|███████▌  | 1136/1507 [54:49<16:52,  2.73s/it]"
     ]
    },
    {
     "name": "stdout",
     "output_type": "stream",
     "text": [
      "ID: TEST_1135 Question: 포천에서 사육 중인 돼지 마리 수는 Generated answer: 29만여 마리\n"
     ]
    },
    {
     "name": "stderr",
     "output_type": "stream",
     "text": [
      " 75%|███████▌  | 1137/1507 [54:53<17:49,  2.89s/it]"
     ]
    },
    {
     "name": "stdout",
     "output_type": "stream",
     "text": [
      "ID: TEST_1136 Question: ASF 발병이 처음 확인된 돼지농장은 어떤 지역 Generated answer: 경기도 파주시 돼지\n"
     ]
    },
    {
     "name": "stderr",
     "output_type": "stream",
     "text": [
      " 76%|███████▌  | 1138/1507 [54:56<17:58,  2.92s/it]"
     ]
    },
    {
     "name": "stdout",
     "output_type": "stream",
     "text": [
      "ID: TEST_1137 Question: 경기도 ASF 매몰지 수는 Generated answer: 71곳에\n"
     ]
    },
    {
     "name": "stderr",
     "output_type": "stream",
     "text": [
      " 76%|███████▌  | 1139/1507 [54:58<17:07,  2.79s/it]"
     ]
    },
    {
     "name": "stdout",
     "output_type": "stream",
     "text": [
      "ID: TEST_1138 Question: 경기 북부 최대 양돈 지역은 Generated answer: 포천은 예외였다. 163개 농가에서 돼지 29만여 마리를 사육 중이지만 다양한 방역 대책을 통해 꿋꿋이 . 최근 들어 포천\n"
     ]
    },
    {
     "name": "stderr",
     "output_type": "stream",
     "text": [
      " 76%|███████▌  | 1140/1507 [55:01<17:57,  2.94s/it]"
     ]
    },
    {
     "name": "stdout",
     "output_type": "stream",
     "text": [
      "ID: TEST_1139 Question: 환경부가 ASF 추가 발생을 발표한 날짜는 Generated answer: 9월 16일\n"
     ]
    },
    {
     "name": "stderr",
     "output_type": "stream",
     "text": [
      " 76%|███████▌  | 1141/1507 [55:05<18:20,  3.01s/it]"
     ]
    },
    {
     "name": "stdout",
     "output_type": "stream",
     "text": [
      "ID: TEST_1140 Question: 23일 0시 기준 코로나19 위중·중증 환자 수는 Generated answer: 30명으로\n"
     ]
    },
    {
     "name": "stderr",
     "output_type": "stream",
     "text": [
      " 76%|███████▌  | 1142/1507 [55:07<17:03,  2.80s/it]"
     ]
    },
    {
     "name": "stdout",
     "output_type": "stream",
     "text": [
      "ID: TEST_1141 Question: 위중 환자 수는 Generated answer: 7명이다\n"
     ]
    },
    {
     "name": "stderr",
     "output_type": "stream",
     "text": [
      " 76%|███████▌  | 1143/1507 [55:10<17:51,  2.94s/it]"
     ]
    },
    {
     "name": "stdout",
     "output_type": "stream",
     "text": [
      "ID: TEST_1142 Question: 지난 18일 기준 위중·중증 환자 수는 Generated answer: 9명이\n"
     ]
    },
    {
     "name": "stderr",
     "output_type": "stream",
     "text": [
      " 76%|███████▌  | 1144/1507 [55:13<18:25,  3.05s/it]"
     ]
    },
    {
     "name": "stdout",
     "output_type": "stream",
     "text": [
      "ID: TEST_1143 Question: 경기지역의 남아있는 중증환자 치료 병상 수는 Generated answer: 62개가 남았지만, 경기도는 여유 병상이 단 한 개\n"
     ]
    },
    {
     "name": "stderr",
     "output_type": "stream",
     "text": [
      " 76%|███████▌  | 1145/1507 [55:16<17:37,  2.92s/it]"
     ]
    },
    {
     "name": "stdout",
     "output_type": "stream",
     "text": [
      "ID: TEST_1144 Question: 현재 운영 중인 생활치료센터 수는 Generated answer: 5곳의\n"
     ]
    },
    {
     "name": "stderr",
     "output_type": "stream",
     "text": [
      " 76%|███████▌  | 1146/1507 [55:19<17:53,  2.97s/it]"
     ]
    },
    {
     "name": "stdout",
     "output_type": "stream",
     "text": [
      "ID: TEST_1145 Question: 한국의 5G 평균 속도는 몇 Mbps인가 Generated answer: 336. 1Mbps\n"
     ]
    },
    {
     "name": "stderr",
     "output_type": "stream",
     "text": [
      " 76%|███████▌  | 1147/1507 [55:22<17:36,  2.94s/it]"
     ]
    },
    {
     "name": "stdout",
     "output_type": "stream",
     "text": [
      "ID: TEST_1146 Question: 5G 서비스 시작부터 LTE로 전환한 가입자 수는 몇 명인가 Generated answer: 56만2656명\n"
     ]
    },
    {
     "name": "stderr",
     "output_type": "stream",
     "text": [
      " 76%|███████▌  | 1148/1507 [55:25<18:08,  3.03s/it]"
     ]
    },
    {
     "name": "stdout",
     "output_type": "stream",
     "text": [
      "ID: TEST_1147 Question: 5G 기지국의 구축률이 높은 두 지역은 어디인가 Generated answer: 광주 ( 22. 1 % ) 와 서울\n"
     ]
    },
    {
     "name": "stderr",
     "output_type": "stream",
     "text": [
      " 76%|███████▌  | 1149/1507 [55:28<17:22,  2.91s/it]"
     ]
    },
    {
     "name": "stdout",
     "output_type": "stream",
     "text": [
      "ID: TEST_1148 Question: 미국에서 5G 평균 속도가 가장 낮은 통신사는 어디인가 Generated answer: 버라이즌\n"
     ]
    },
    {
     "name": "stderr",
     "output_type": "stream",
     "text": [
      " 76%|███████▋  | 1150/1507 [55:31<17:42,  2.98s/it]"
     ]
    },
    {
     "name": "stdout",
     "output_type": "stream",
     "text": [
      "ID: TEST_1149 Question: 자율분쟁조정위원회가 권고한 보상금 범위는 얼마인가 Generated answer: 5만 ~ 35만원\n"
     ]
    },
    {
     "name": "stderr",
     "output_type": "stream",
     "text": [
      " 76%|███████▋  | 1151/1507 [55:34<18:12,  3.07s/it]"
     ]
    },
    {
     "name": "stdout",
     "output_type": "stream",
     "text": [
      "ID: TEST_1150 Question: 김봉현 전 회장이 ‘옥중 입장문’에서 검사에게 접대했다고 주장한 금액은 얼마인가 Generated answer: 1000만원\n"
     ]
    },
    {
     "name": "stderr",
     "output_type": "stream",
     "text": [
      " 76%|███████▋  | 1152/1507 [55:38<18:33,  3.14s/it]"
     ]
    },
    {
     "name": "stdout",
     "output_type": "stream",
     "text": [
      "ID: TEST_1151 Question: 수원시에서 발생한 신규 확진자 수는 Generated answer: 12명으로\n"
     ]
    },
    {
     "name": "stderr",
     "output_type": "stream",
     "text": [
      " 77%|███████▋  | 1153/1507 [55:41<18:46,  3.18s/it]"
     ]
    },
    {
     "name": "stdout",
     "output_type": "stream",
     "text": [
      "ID: TEST_1152 Question: 연천군에서 나온 첫 확진자가 거주하는 읍은 Generated answer: 전곡읍에\n"
     ]
    },
    {
     "name": "stderr",
     "output_type": "stream",
     "text": [
      " 77%|███████▋  | 1154/1507 [55:45<20:05,  3.42s/it]"
     ]
    },
    {
     "name": "stdout",
     "output_type": "stream",
     "text": [
      "ID: TEST_1153 Question: 용인시 기흥구 교회 관련 누적 확진자 수는 Generated answer: 157명으로\n"
     ]
    },
    {
     "name": "stderr",
     "output_type": "stream",
     "text": [
      " 77%|███████▋  | 1155/1507 [55:48<20:26,  3.48s/it]"
     ]
    },
    {
     "name": "stdout",
     "output_type": "stream",
     "text": [
      "ID: TEST_1154 Question: 인천시에서 추가된 코로나 확진자 수는 Generated answer: 6명의\n"
     ]
    },
    {
     "name": "stderr",
     "output_type": "stream",
     "text": [
      " 77%|███████▋  | 1156/1507 [55:51<18:50,  3.22s/it]"
     ]
    },
    {
     "name": "stdout",
     "output_type": "stream",
     "text": [
      "ID: TEST_1155 Question: 인천시에서 광화문 집회 참가자 중 자발적으로 검사 받은 사람 수는 Generated answer: 470명인\n"
     ]
    },
    {
     "name": "stderr",
     "output_type": "stream",
     "text": [
      " 77%|███████▋  | 1157/1507 [55:54<18:19,  3.14s/it]"
     ]
    },
    {
     "name": "stdout",
     "output_type": "stream",
     "text": [
      "ID: TEST_1156 Question: 정경심 교수의 나이는 Generated answer: 58 ) 동양대\n"
     ]
    },
    {
     "name": "stderr",
     "output_type": "stream",
     "text": [
      " 77%|███████▋  | 1158/1507 [55:57<18:30,  3.18s/it]"
     ]
    },
    {
     "name": "stdout",
     "output_type": "stream",
     "text": [
      "ID: TEST_1157 Question: 정경심 교수측이 표창장을 인쇄할 때 사용한 파일 형식은 Generated answer: PDF 파일을 동양대 상장용지에 인쇄했다. PDF\n"
     ]
    },
    {
     "name": "stderr",
     "output_type": "stream",
     "text": [
      " 77%|███████▋  | 1159/1507 [56:01<18:30,  3.19s/it]"
     ]
    },
    {
     "name": "stdout",
     "output_type": "stream",
     "text": [
      "ID: TEST_1158 Question: 검찰이 시연으로 만든 표창장의 프로그램은 Generated answer: MS워드와\n"
     ]
    },
    {
     "name": "stderr",
     "output_type": "stream",
     "text": [
      " 77%|███████▋  | 1160/1507 [56:03<16:53,  2.92s/it]"
     ]
    },
    {
     "name": "stdout",
     "output_type": "stream",
     "text": [
      "ID: TEST_1159 Question: 정 교수측이 재판부가 요구한 보고서를 언제까지 제출해야 하는지 날짜는 Generated answer: 2주 안\n"
     ]
    },
    {
     "name": "stderr",
     "output_type": "stream",
     "text": [
      " 77%|███████▋  | 1161/1507 [56:06<17:27,  3.03s/it]"
     ]
    },
    {
     "name": "stdout",
     "output_type": "stream",
     "text": [
      "ID: TEST_1160 Question: 결심 공판이 예정된 날짜는 Generated answer: 다음 달 5일\n"
     ]
    },
    {
     "name": "stderr",
     "output_type": "stream",
     "text": [
      " 77%|███████▋  | 1162/1507 [56:09<17:52,  3.11s/it]"
     ]
    },
    {
     "name": "stdout",
     "output_type": "stream",
     "text": [
      "ID: TEST_1161 Question: 문재인 정부 당시 수도권 주택 공급 확대 방안 발표일은? Generated answer: 지난 4일\n"
     ]
    },
    {
     "name": "stderr",
     "output_type": "stream",
     "text": [
      " 77%|███████▋  | 1163/1507 [56:13<17:55,  3.13s/it]"
     ]
    },
    {
     "name": "stdout",
     "output_type": "stream",
     "text": [
      "ID: TEST_1162 Question: 서울시립대 교수 이름은? Generated answer: 김우철 서울시립대 세무학과\n"
     ]
    },
    {
     "name": "stderr",
     "output_type": "stream",
     "text": [
      " 77%|███████▋  | 1164/1507 [56:15<16:30,  2.89s/it]"
     ]
    },
    {
     "name": "stdout",
     "output_type": "stream",
     "text": [
      "ID: TEST_1163 Question: 정부가 제시한 주요 공급 대책 유형은? Generated answer: 공공참여형 고밀 재건축\n"
     ]
    },
    {
     "name": "stderr",
     "output_type": "stream",
     "text": [
      " 77%|███████▋  | 1165/1507 [56:18<17:07,  3.00s/it]"
     ]
    },
    {
     "name": "stdout",
     "output_type": "stream",
     "text": [
      "ID: TEST_1164 Question: 임대차 3법이 대립 구도를 형성한 두 관계는? Generated answer: 집주인과 세입자 관계\n"
     ]
    },
    {
     "name": "stderr",
     "output_type": "stream",
     "text": [
      " 77%|███████▋  | 1166/1507 [56:21<16:42,  2.94s/it]"
     ]
    },
    {
     "name": "stdout",
     "output_type": "stream",
     "text": [
      "ID: TEST_1165 Question: 경제 정책 책임자의 직위는? Generated answer: 명예교수\n"
     ]
    },
    {
     "name": "stderr",
     "output_type": "stream",
     "text": [
      " 77%|███████▋  | 1167/1507 [56:25<18:09,  3.20s/it]"
     ]
    },
    {
     "name": "stdout",
     "output_type": "stream",
     "text": [
      "ID: TEST_1166 Question: 경남 하동군 화개장터에서 대피한 사람 수는 Generated answer: 130여명\n"
     ]
    },
    {
     "name": "stderr",
     "output_type": "stream",
     "text": [
      " 78%|███████▊  | 1168/1507 [56:29<20:06,  3.56s/it]"
     ]
    },
    {
     "name": "stdout",
     "output_type": "stream",
     "text": [
      "ID: TEST_1167 Question: 경남 하동군 화개장터의 침수된 상가 동수는 Generated answer: 상가 208동\n"
     ]
    },
    {
     "name": "stderr",
     "output_type": "stream",
     "text": [
      " 78%|███████▊  | 1169/1507 [56:33<20:29,  3.64s/it]"
     ]
    },
    {
     "name": "stdout",
     "output_type": "stream",
     "text": [
      "ID: TEST_1168 Question: 이번 집중호우로 인한 사망자 수는 Generated answer: 5명이\n"
     ]
    },
    {
     "name": "stderr",
     "output_type": "stream",
     "text": [
      " 78%|███████▊  | 1170/1507 [56:37<20:50,  3.71s/it]"
     ]
    },
    {
     "name": "stdout",
     "output_type": "stream",
     "text": [
      "ID: TEST_1169 Question: 제5호 태풍의 이름은 Generated answer: 장미'가 북상하고 있어 10일부터는 제주도와 경남을 중심으로 많은 비가 내릴 것으로 예상한다 \" 고 말했다. 태풍'장미\n"
     ]
    },
    {
     "name": "stderr",
     "output_type": "stream",
     "text": [
      " 78%|███████▊  | 1171/1507 [56:41<21:25,  3.83s/it]"
     ]
    },
    {
     "name": "stdout",
     "output_type": "stream",
     "text": [
      "ID: TEST_1170 Question: 중부권 집중호우로 인해 발생한 산사태 지역은 Generated answer: 우면산\n"
     ]
    },
    {
     "name": "stderr",
     "output_type": "stream",
     "text": [
      " 78%|███████▊  | 1172/1507 [56:45<20:56,  3.75s/it]"
     ]
    },
    {
     "name": "stdout",
     "output_type": "stream",
     "text": [
      "ID: TEST_1171 Question: 설문조사의 종료일 Generated answer: 25일까지\n"
     ]
    },
    {
     "name": "stderr",
     "output_type": "stream",
     "text": [
      " 78%|███████▊  | 1173/1507 [56:48<20:06,  3.61s/it]"
     ]
    },
    {
     "name": "stdout",
     "output_type": "stream",
     "text": [
      "ID: TEST_1172 Question: 공수처장 후보를 추천하는 권한을 가진 사람은 누구 Generated answer: 이찬희 대한변협 회장\n"
     ]
    },
    {
     "name": "stderr",
     "output_type": "stream",
     "text": [
      " 78%|███████▊  | 1174/1507 [56:51<19:31,  3.52s/it]"
     ]
    },
    {
     "name": "stdout",
     "output_type": "stream",
     "text": [
      "ID: TEST_1173 Question: 공수처장 후보 추천위원회는 몇 명으로 구성되었나 Generated answer: 7명의\n"
     ]
    },
    {
     "name": "stderr",
     "output_type": "stream",
     "text": [
      " 78%|███████▊  | 1175/1507 [56:54<19:04,  3.45s/it]"
     ]
    },
    {
     "name": "stdout",
     "output_type": "stream",
     "text": [
      "ID: TEST_1174 Question: 공수처장 후보군으로부터 거절당한 인물 중 하나는 누구 Generated answer: 이준호 변호사\n"
     ]
    },
    {
     "name": "stderr",
     "output_type": "stream",
     "text": [
      " 78%|███████▊  | 1176/1507 [56:57<17:46,  3.22s/it]"
     ]
    },
    {
     "name": "stdout",
     "output_type": "stream",
     "text": [
      "ID: TEST_1175 Question: 여당 추천위원 중 한 명은 누구 Generated answer: 박경준 변호사\n"
     ]
    },
    {
     "name": "stderr",
     "output_type": "stream",
     "text": [
      " 78%|███████▊  | 1177/1507 [57:00<17:00,  3.09s/it]"
     ]
    },
    {
     "name": "stdout",
     "output_type": "stream",
     "text": [
      "ID: TEST_1176 Question: 공수처장의 정년은 몇 세 Generated answer: 65세 정년\n"
     ]
    },
    {
     "name": "stderr",
     "output_type": "stream",
     "text": [
      " 78%|███████▊  | 1178/1507 [57:03<17:17,  3.15s/it]"
     ]
    },
    {
     "name": "stdout",
     "output_type": "stream",
     "text": [
      "ID: TEST_1177 Question: 온양온천 관광지 위치한 곳은 Generated answer: 충남 아산시 온천동\n"
     ]
    },
    {
     "name": "stderr",
     "output_type": "stream",
     "text": [
      " 78%|███████▊  | 1179/1507 [57:06<17:12,  3.15s/it]"
     ]
    },
    {
     "name": "stdout",
     "output_type": "stream",
     "text": [
      "ID: TEST_1178 Question: 1.5단계 거리두기 시작된 시간은 Generated answer: 5일 오후\n"
     ]
    },
    {
     "name": "stderr",
     "output_type": "stream",
     "text": [
      " 78%|███████▊  | 1180/1507 [57:09<15:51,  2.91s/it]"
     ]
    },
    {
     "name": "stdout",
     "output_type": "stream",
     "text": [
      "ID: TEST_1179 Question: PC방 출입명부 작성 요구한 직원 시간은 Generated answer: 오후 4시\n"
     ]
    },
    {
     "name": "stderr",
     "output_type": "stream",
     "text": [
      " 78%|███████▊  | 1181/1507 [57:12<16:24,  3.02s/it]"
     ]
    },
    {
     "name": "stdout",
     "output_type": "stream",
     "text": [
      "ID: TEST_1180 Question: 유흥시설에서 금지된 활동은 Generated answer: 춤추기나 좌석 간 이동\n"
     ]
    },
    {
     "name": "stderr",
     "output_type": "stream",
     "text": [
      " 78%|███████▊  | 1182/1507 [57:14<15:34,  2.88s/it]"
     ]
    },
    {
     "name": "stdout",
     "output_type": "stream",
     "text": [
      "ID: TEST_1181 Question: 박능후 장관 직함은 Generated answer: 보건복지부 장관 )\n"
     ]
    },
    {
     "name": "stderr",
     "output_type": "stream",
     "text": [
      " 79%|███████▊  | 1183/1507 [57:17<15:41,  2.91s/it]"
     ]
    },
    {
     "name": "stdout",
     "output_type": "stream",
     "text": [
      "ID: TEST_1182 Question: 비콘그라운드 개장식이 열리는 곳 Generated answer: 플레이그라운드\n"
     ]
    },
    {
     "name": "stderr",
     "output_type": "stream",
     "text": [
      " 79%|███████▊  | 1184/1507 [57:21<16:15,  3.02s/it]"
     ]
    },
    {
     "name": "stdout",
     "output_type": "stream",
     "text": [
      "ID: TEST_1183 Question: 비콘그라운드 건축 완공 시기 Generated answer: 2020년 2월\n"
     ]
    },
    {
     "name": "stderr",
     "output_type": "stream",
     "text": [
      " 79%|███████▊  | 1185/1507 [57:24<16:37,  3.10s/it]"
     ]
    },
    {
     "name": "stdout",
     "output_type": "stream",
     "text": [
      "ID: TEST_1184 Question: 비콘그라운드 내 입주하는 소매점과 식음료 상가 구간 Generated answer: 쇼핑 그라운드 ▶야외이벤트 공간인 플레이그라운드\n"
     ]
    },
    {
     "name": "stderr",
     "output_type": "stream",
     "text": [
      " 79%|███████▊  | 1186/1507 [57:27<16:53,  3.16s/it]"
     ]
    },
    {
     "name": "stdout",
     "output_type": "stream",
     "text": [
      "ID: TEST_1185 Question: 비콘그라운드 내 청년창업시설 개수 Generated answer: 11개 실, 상업시설 27개 실 등이다. 이중 비콘그라운드에 입주한 11개\n"
     ]
    },
    {
     "name": "stderr",
     "output_type": "stream",
     "text": [
      " 79%|███████▉  | 1187/1507 [57:31<17:03,  3.20s/it]"
     ]
    },
    {
     "name": "stdout",
     "output_type": "stream",
     "text": [
      "ID: TEST_1186 Question: 비콘그라운드 국비 확보 금액 Generated answer: 45억원\n"
     ]
    },
    {
     "name": "stderr",
     "output_type": "stream",
     "text": [
      " 79%|███████▉  | 1188/1507 [57:34<17:07,  3.22s/it]"
     ]
    },
    {
     "name": "stdout",
     "output_type": "stream",
     "text": [
      "ID: TEST_1187 Question: 이지훈 교수의 박사 학위 취득 대학은 어디인가 Generated answer: 아칸소 대학\n"
     ]
    },
    {
     "name": "stderr",
     "output_type": "stream",
     "text": [
      " 79%|███████▉  | 1189/1507 [57:37<17:12,  3.25s/it]"
     ]
    },
    {
     "name": "stdout",
     "output_type": "stream",
     "text": [
      "ID: TEST_1188 Question: `Nanomaterials` 특별판에 참여하는 박사과정 졸업생의 현재 소속은 Generated answer: 광운대 전자공학과\n"
     ]
    },
    {
     "name": "stderr",
     "output_type": "stream",
     "text": [
      " 79%|███████▉  | 1190/1507 [57:41<17:19,  3.28s/it]"
     ]
    },
    {
     "name": "stdout",
     "output_type": "stream",
     "text": [
      "ID: TEST_1189 Question: `Nanomaterials` 저널의 IF 값은 얼마인가 Generated answer: 4. 324\n"
     ]
    },
    {
     "name": "stderr",
     "output_type": "stream",
     "text": [
      " 79%|███████▉  | 1191/1507 [57:44<17:12,  3.27s/it]"
     ]
    },
    {
     "name": "stdout",
     "output_type": "stream",
     "text": [
      "ID: TEST_1190 Question: 이지훈 교수가 Assistant Editor를 역임한 첫 번째 저널의 출판사 이름은 Generated answer: Springer\n"
     ]
    },
    {
     "name": "stderr",
     "output_type": "stream",
     "text": [
      " 79%|███████▉  | 1192/1507 [57:47<17:10,  3.27s/it]"
     ]
    },
    {
     "name": "stdout",
     "output_type": "stream",
     "text": [
      "ID: TEST_1191 Question: 이지훈 교수가 연구하는 메타표면 기반 소재는 Generated answer: 나노소재\n"
     ]
    },
    {
     "name": "stderr",
     "output_type": "stream",
     "text": [
      " 79%|███████▉  | 1193/1507 [57:50<17:09,  3.28s/it]"
     ]
    },
    {
     "name": "stdout",
     "output_type": "stream",
     "text": [
      "ID: TEST_1192 Question: 한국 법무부가 연내 국회에서 통과시키려는 상법 개정안에서 대주주 의결권을 제한하려는 비율 Generated answer: 5. 33 %\n"
     ]
    },
    {
     "name": "stderr",
     "output_type": "stream",
     "text": [
      " 79%|███████▉  | 1194/1507 [57:54<16:57,  3.25s/it]"
     ]
    },
    {
     "name": "stdout",
     "output_type": "stream",
     "text": [
      "ID: TEST_1193 Question: 감사위원 분리선임 대상이 되는 자산 기준 Generated answer: 2조원\n"
     ]
    },
    {
     "name": "stderr",
     "output_type": "stream",
     "text": [
      " 79%|███████▉  | 1195/1507 [57:56<15:35,  3.00s/it]"
     ]
    },
    {
     "name": "stdout",
     "output_type": "stream",
     "text": [
      "ID: TEST_1194 Question: 현대자동차의 최대주주와 특수관계인의 총 지분율 Generated answer: 29. 38 %\n"
     ]
    },
    {
     "name": "stderr",
     "output_type": "stream",
     "text": [
      " 79%|███████▉  | 1196/1507 [57:59<15:49,  3.05s/it]"
     ]
    },
    {
     "name": "stdout",
     "output_type": "stream",
     "text": [
      "ID: TEST_1195 Question: 전경련이 기준으로 삼은 시가총액 30위 기업 중 외국 기관투자가 감사위원 선임 가능성이 있는 비율 Generated answer: 77 % 인 23개사\n"
     ]
    },
    {
     "name": "stderr",
     "output_type": "stream",
     "text": [
      " 79%|███████▉  | 1197/1507 [58:02<16:09,  3.13s/it]"
     ]
    },
    {
     "name": "stdout",
     "output_type": "stream",
     "text": [
      "ID: TEST_1196 Question: 육환익 전경련 기업정책실장이 언급한 지배구조 규제에 과도하게 개입하지 않는 것이 글로벌 스탠다드로 언급한 국가 그룹 Generated answer: G5 ( 주요 5개국 )\n"
     ]
    },
    {
     "name": "stderr",
     "output_type": "stream",
     "text": [
      " 79%|███████▉  | 1198/1507 [58:06<16:21,  3.18s/it]"
     ]
    },
    {
     "name": "stdout",
     "output_type": "stream",
     "text": [
      "ID: TEST_1197 Question: 리노바이러스에 의한 감기 원인의 비율? Generated answer: 30 ~ 50 %\n"
     ]
    },
    {
     "name": "stderr",
     "output_type": "stream",
     "text": [
      " 80%|███████▉  | 1199/1507 [58:09<16:26,  3.20s/it]"
     ]
    },
    {
     "name": "stdout",
     "output_type": "stream",
     "text": [
      "ID: TEST_1198 Question: 독감 치료에 사용하는 항바이러스 치료제? Generated answer: 타미플루\n"
     ]
    },
    {
     "name": "stderr",
     "output_type": "stream",
     "text": [
      " 80%|███████▉  | 1200/1507 [58:12<15:26,  3.02s/it]"
     ]
    },
    {
     "name": "stdout",
     "output_type": "stream",
     "text": [
      "ID: TEST_1199 Question: 코로나19의 잠복기 추정 기간? Generated answer: 2 ~ 14일\n"
     ]
    },
    {
     "name": "stderr",
     "output_type": "stream",
     "text": [
      " 80%|███████▉  | 1201/1507 [58:15<15:44,  3.09s/it]"
     ]
    },
    {
     "name": "stdout",
     "output_type": "stream",
     "text": [
      "ID: TEST_1200 Question: 서울시 코로나19 무증상 확진자 비율? Generated answer: 39. 5 %\n"
     ]
    },
    {
     "name": "stderr",
     "output_type": "stream",
     "text": [
      " 80%|███████▉  | 1202/1507 [58:18<15:31,  3.06s/it]"
     ]
    },
    {
     "name": "stdout",
     "output_type": "stream",
     "text": [
      "ID: TEST_1201 Question: 코로나19 후유증 중 가장 비중이 높은 것? Generated answer: 피로감 ( 26. 2 % ) 이었고 집중력 저하\n"
     ]
    },
    {
     "name": "stderr",
     "output_type": "stream",
     "text": [
      " 80%|███████▉  | 1203/1507 [58:21<15:49,  3.12s/it]"
     ]
    },
    {
     "name": "stdout",
     "output_type": "stream",
     "text": [
      "ID: TEST_1202 Question: 메디톡스가 이번에 적발된 이유 Generated answer: 약사법 위반\n"
     ]
    },
    {
     "name": "stderr",
     "output_type": "stream",
     "text": [
      " 80%|███████▉  | 1204/1507 [58:24<16:02,  3.18s/it]"
     ]
    },
    {
     "name": "stdout",
     "output_type": "stream",
     "text": [
      "ID: TEST_1203 Question: 문제가 된 제품 종류 수 Generated answer: 5종류\n"
     ]
    },
    {
     "name": "stderr",
     "output_type": "stream",
     "text": [
      " 80%|███████▉  | 1205/1507 [58:28<16:09,  3.21s/it]"
     ]
    },
    {
     "name": "stdout",
     "output_type": "stream",
     "text": [
      "ID: TEST_1204 Question: 해당 의약품에 주로 사용되는 제제 Generated answer: 보툴리눔 제제\n"
     ]
    },
    {
     "name": "stderr",
     "output_type": "stream",
     "text": [
      " 80%|████████  | 1206/1507 [58:31<16:01,  3.19s/it]"
     ]
    },
    {
     "name": "stdout",
     "output_type": "stream",
     "text": [
      "ID: TEST_1205 Question: 메디톡스가 제품을 판매한 곳 Generated answer: ‘ 무역업체\n"
     ]
    },
    {
     "name": "stderr",
     "output_type": "stream",
     "text": [
      " 80%|████████  | 1207/1507 [58:34<15:20,  3.07s/it]"
     ]
    },
    {
     "name": "stdout",
     "output_type": "stream",
     "text": [
      "ID: TEST_1206 Question: 메디톡스가 제기할 행정처분 대항 조치 Generated answer: 품목 허가 취소\n"
     ]
    },
    {
     "name": "stderr",
     "output_type": "stream",
     "text": [
      " 80%|████████  | 1208/1507 [58:35<12:28,  2.50s/it]"
     ]
    },
    {
     "name": "stdout",
     "output_type": "stream",
     "text": [
      "ID: TEST_1207 Question: 2020년 예비창업패키지 지원사업에서 지원된 금액은 얼마 Generated answer: 20억원\n"
     ]
    },
    {
     "name": "stderr",
     "output_type": "stream",
     "text": [
      " 80%|████████  | 1209/1507 [58:38<12:44,  2.57s/it]"
     ]
    },
    {
     "name": "stdout",
     "output_type": "stream",
     "text": [
      "ID: TEST_1208 Question: 2020년 최상위 20%의 부동산 가액 Generated answer: 5분위\n"
     ]
    },
    {
     "name": "stderr",
     "output_type": "stream",
     "text": [
      " 80%|████████  | 1210/1507 [58:40<12:13,  2.47s/it]"
     ]
    },
    {
     "name": "stdout",
     "output_type": "stream",
     "text": [
      "ID: TEST_1209 Question: 2012년 소득 하위 20%의 부동산 가액 Generated answer: 5억2000만원\n"
     ]
    },
    {
     "name": "stderr",
     "output_type": "stream",
     "text": [
      " 80%|████████  | 1211/1507 [58:42<11:47,  2.39s/it]"
     ]
    },
    {
     "name": "stdout",
     "output_type": "stream",
     "text": [
      "ID: TEST_1210 Question: 2019년 제주지역 가계대출 규모 Generated answer: 16조4000억원\n"
     ]
    },
    {
     "name": "stderr",
     "output_type": "stream",
     "text": [
      " 80%|████████  | 1212/1507 [58:45<12:10,  2.48s/it]"
     ]
    },
    {
     "name": "stdout",
     "output_type": "stream",
     "text": [
      "ID: TEST_1211 Question: 2007년 예금은행 기업대출 중 부동산 관련산업 대출 비중 Generated answer: 11. 7 %\n"
     ]
    },
    {
     "name": "stderr",
     "output_type": "stream",
     "text": [
      " 80%|████████  | 1213/1507 [58:46<11:01,  2.25s/it]"
     ]
    },
    {
     "name": "stdout",
     "output_type": "stream",
     "text": [
      "ID: TEST_1212 Question: 부동산 자산 불균형 심화 시작 연도 Generated answer: 2010년 이후\n"
     ]
    },
    {
     "name": "stderr",
     "output_type": "stream",
     "text": [
      " 81%|████████  | 1214/1507 [58:49<10:54,  2.23s/it]"
     ]
    },
    {
     "name": "stdout",
     "output_type": "stream",
     "text": [
      "ID: TEST_1213 Question: 고민수 대표가 언급한 가게 Generated answer: 다이소한림점\n"
     ]
    },
    {
     "name": "stderr",
     "output_type": "stream",
     "text": [
      " 81%|████████  | 1215/1507 [58:51<10:50,  2.23s/it]"
     ]
    },
    {
     "name": "stdout",
     "output_type": "stream",
     "text": [
      "ID: TEST_1214 Question: 제주항공 제주지점장의 이름 Generated answer: 이상훈 제주항공 제주지점장은 “ 강화된 사회적 거리두기가 지속되면서 관광업계가 매우 어려운 상황을 맞았다 ” 며 “\n"
     ]
    },
    {
     "name": "stderr",
     "output_type": "stream",
     "text": [
      " 81%|████████  | 1216/1507 [58:53<10:45,  2.22s/it]"
     ]
    },
    {
     "name": "stdout",
     "output_type": "stream",
     "text": [
      "ID: TEST_1215 Question: 김우철 대표의 회사명 Generated answer: 용우종합건설\n"
     ]
    },
    {
     "name": "stderr",
     "output_type": "stream",
     "text": [
      " 81%|████████  | 1217/1507 [58:55<10:40,  2.21s/it]"
     ]
    },
    {
     "name": "stdout",
     "output_type": "stream",
     "text": [
      "ID: TEST_1216 Question: 제주상공회의소 회장의 이름 Generated answer: 양문석\n"
     ]
    },
    {
     "name": "stderr",
     "output_type": "stream",
     "text": [
      " 81%|████████  | 1218/1507 [58:57<10:38,  2.21s/it]"
     ]
    },
    {
     "name": "stdout",
     "output_type": "stream",
     "text": [
      "ID: TEST_1217 Question: 회의실에서 열린 간담회 날짜 Generated answer: 16일 제주상의 회의실에서 마련한 원희룡 제주특별자치도지사 초청 상공인 간담회\n"
     ]
    },
    {
     "name": "stderr",
     "output_type": "stream",
     "text": [
      " 81%|████████  | 1219/1507 [59:01<12:09,  2.53s/it]"
     ]
    },
    {
     "name": "stdout",
     "output_type": "stream",
     "text": [
      "ID: TEST_1218 Question: LG화학이 최근 밝힌 코로나19 예방 임상 단계 Generated answer: 인체 임상\n"
     ]
    },
    {
     "name": "stderr",
     "output_type": "stream",
     "text": [
      " 81%|████████  | 1220/1507 [59:05<14:48,  3.10s/it]"
     ]
    },
    {
     "name": "stdout",
     "output_type": "stream",
     "text": [
      "ID: TEST_1219 Question: 사망자들이 맞은 동일 백신 제품명 Generated answer: 보령플루VIII테트라\n"
     ]
    },
    {
     "name": "stderr",
     "output_type": "stream",
     "text": [
      " 81%|████████  | 1221/1507 [59:09<16:37,  3.49s/it]"
     ]
    },
    {
     "name": "stdout",
     "output_type": "stream",
     "text": [
      "ID: TEST_1220 Question: 수도권 외 지역에서 선제적 검사로 확인된 총 확진자 수 Generated answer: 65. 4명\n"
     ]
    },
    {
     "name": "stderr",
     "output_type": "stream",
     "text": [
      " 81%|████████  | 1222/1507 [59:13<16:29,  3.47s/it]"
     ]
    },
    {
     "name": "stdout",
     "output_type": "stream",
     "text": [
      "ID: TEST_1221 Question: 삼성전자의 3분기 매출은 Generated answer: 66조원\n"
     ]
    },
    {
     "name": "stderr",
     "output_type": "stream",
     "text": [
      " 81%|████████  | 1223/1507 [59:16<15:59,  3.38s/it]"
     ]
    },
    {
     "name": "stdout",
     "output_type": "stream",
     "text": [
      "ID: TEST_1222 Question: 삼성전자의 3분기 영업이익 증가율은 Generated answer: 58. 1 %\n"
     ]
    },
    {
     "name": "stderr",
     "output_type": "stream",
     "text": [
      " 81%|████████  | 1224/1507 [59:19<15:49,  3.35s/it]"
     ]
    },
    {
     "name": "stdout",
     "output_type": "stream",
     "text": [
      "ID: TEST_1223 Question: 휴대전화 3분기 예상 판매량은 Generated answer: 8000만대\n"
     ]
    },
    {
     "name": "stderr",
     "output_type": "stream",
     "text": [
      " 81%|████████▏ | 1225/1507 [59:23<15:47,  3.36s/it]"
     ]
    },
    {
     "name": "stdout",
     "output_type": "stream",
     "text": [
      "ID: TEST_1224 Question: 소비자가전 부문 2분기 영업이익은 Generated answer: 1조3800억원\n"
     ]
    },
    {
     "name": "stderr",
     "output_type": "stream",
     "text": [
      " 81%|████████▏ | 1226/1507 [59:26<15:33,  3.32s/it]"
     ]
    },
    {
     "name": "stdout",
     "output_type": "stream",
     "text": [
      "ID: TEST_1225 Question: 삼성전자의 4분기 영업이익 추정치는 Generated answer: 10조9000억원\n"
     ]
    },
    {
     "name": "stderr",
     "output_type": "stream",
     "text": [
      " 81%|████████▏ | 1227/1507 [59:27<12:24,  2.66s/it]"
     ]
    },
    {
     "name": "stdout",
     "output_type": "stream",
     "text": [
      "ID: TEST_1226 Question: 전남대가 연계해 운영 중인 센터의 명칭은 무엇인가 Generated answer: 에너지 융복합 전문 핵심연구지원센터\n"
     ]
    },
    {
     "name": "stderr",
     "output_type": "stream",
     "text": [
      " 81%|████████▏ | 1228/1507 [59:30<12:56,  2.78s/it]"
     ]
    },
    {
     "name": "stdout",
     "output_type": "stream",
     "text": [
      "ID: TEST_1227 Question: 신한은행이 협업을 맺은 통신사는 Generated answer: 금융사와 통신사 간 협업이 눈에 띈다. 금융권에 따르면 18일 신한은행 · LG유플러스\n"
     ]
    },
    {
     "name": "stderr",
     "output_type": "stream",
     "text": [
      " 82%|████████▏ | 1229/1507 [59:34<13:54,  3.00s/it]"
     ]
    },
    {
     "name": "stdout",
     "output_type": "stream",
     "text": [
      "ID: TEST_1228 Question: 우리금융지주가 양해각서를 체결한 기업은 Generated answer: KT와 금융 ‧ ICT 융합을 위한 양해각서 ( MOU ) 를 체결했다.\n"
     ]
    },
    {
     "name": "stderr",
     "output_type": "stream",
     "text": [
      " 82%|████████▏ | 1230/1507 [59:38<15:47,  3.42s/it]"
     ]
    },
    {
     "name": "stdout",
     "output_type": "stream",
     "text": [
      "ID: TEST_1229 Question: SK텔레콤과 합작 핀테크 법인의 이름은 Generated answer: 핀크 ’ 를 출범시켰다. 핀크\n"
     ]
    },
    {
     "name": "stderr",
     "output_type": "stream",
     "text": [
      " 82%|████████▏ | 1231/1507 [59:42<17:04,  3.71s/it]"
     ]
    },
    {
     "name": "stdout",
     "output_type": "stream",
     "text": [
      "ID: TEST_1230 Question: KB금융지주가 출시한 알뜰폰 서비스 이름은 Generated answer: ‘ 리브엠\n"
     ]
    },
    {
     "name": "stderr",
     "output_type": "stream",
     "text": [
      " 82%|████████▏ | 1232/1507 [59:46<16:27,  3.59s/it]"
     ]
    },
    {
     "name": "stdout",
     "output_type": "stream",
     "text": [
      "ID: TEST_1231 Question: 새로운 지급결제 시스템의 이름은 Generated answer: 마이페이먼트\n"
     ]
    },
    {
     "name": "stderr",
     "output_type": "stream",
     "text": [
      " 82%|████████▏ | 1233/1507 [59:50<17:29,  3.83s/it]"
     ]
    },
    {
     "name": "stdout",
     "output_type": "stream",
     "text": [
      "ID: TEST_1232 Question: 에르노'가 사용한 나일론 소재의 분해 기간은 Generated answer: 5년 만\n"
     ]
    },
    {
     "name": "stderr",
     "output_type": "stream",
     "text": [
      " 82%|████████▏ | 1234/1507 [59:53<16:03,  3.53s/it]"
     ]
    },
    {
     "name": "stdout",
     "output_type": "stream",
     "text": [
      "ID: TEST_1233 Question: 백신 개발의 뉴스에 상승한 미국 증시는 무엇 Generated answer: S & P500\n"
     ]
    },
    {
     "name": "stderr",
     "output_type": "stream",
     "text": [
      " 82%|████████▏ | 1235/1507 [59:56<14:50,  3.27s/it]"
     ]
    },
    {
     "name": "stdout",
     "output_type": "stream",
     "text": [
      "ID: TEST_1234 Question: 화이자가 발표한 백신의 효과는 몇 퍼센트 Generated answer: 90 % 의\n"
     ]
    },
    {
     "name": "stderr",
     "output_type": "stream",
     "text": [
      " 82%|████████▏ | 1236/1507 [59:59<14:48,  3.28s/it]"
     ]
    },
    {
     "name": "stdout",
     "output_type": "stream",
     "text": [
      "ID: TEST_1235 Question: 백신 소식으로 17% 상승한 항공사는 어디 Generated answer: 델타항공은\n"
     ]
    },
    {
     "name": "stderr",
     "output_type": "stream",
     "text": [
      " 82%|████████▏ | 1237/1507 [1:00:02<14:47,  3.29s/it]"
     ]
    },
    {
     "name": "stdout",
     "output_type": "stream",
     "text": [
      "ID: TEST_1236 Question: JP모건 투자전략가들이 예측한 S&P 500 지수는 몇 Generated answer: 4000포인트\n"
     ]
    },
    {
     "name": "stderr",
     "output_type": "stream",
     "text": [
      " 82%|████████▏ | 1238/1507 [1:00:06<14:44,  3.29s/it]"
     ]
    },
    {
     "name": "stdout",
     "output_type": "stream",
     "text": [
      "ID: TEST_1237 Question: 팬데믹 수혜주였던 기술주 중 5.06% 하락한 기업은 어디 Generated answer: 나스닥 ( NASDAQ ) 은 울상이다. 전날보다 1. 53 % 내리며 거래를 마쳤다. 대표주자인 아마존\n"
     ]
    },
    {
     "name": "stderr",
     "output_type": "stream",
     "text": [
      " 82%|████████▏ | 1239/1507 [1:00:09<14:41,  3.29s/it]"
     ]
    },
    {
     "name": "stdout",
     "output_type": "stream",
     "text": [
      "ID: TEST_1238 Question: 인구주택총조사의 결과 발표 시기 Generated answer: 내년 하반기에 공개\n"
     ]
    },
    {
     "name": "stderr",
     "output_type": "stream",
     "text": [
      " 82%|████████▏ | 1240/1507 [1:00:12<14:37,  3.29s/it]"
     ]
    },
    {
     "name": "stdout",
     "output_type": "stream",
     "text": [
      "ID: TEST_1239 Question: 인구주택총조사의 표본조사 형태 주기 Generated answer: 5년에 한 번\n"
     ]
    },
    {
     "name": "stderr",
     "output_type": "stream",
     "text": [
      " 82%|████████▏ | 1241/1507 [1:00:15<14:34,  3.29s/it]"
     ]
    },
    {
     "name": "stdout",
     "output_type": "stream",
     "text": [
      "ID: TEST_1240 Question: 조사에서 제외되는 사람 중 입대한 가족의 이유 Generated answer: 학업 · 직장\n"
     ]
    },
    {
     "name": "stderr",
     "output_type": "stream",
     "text": [
      " 82%|████████▏ | 1242/1507 [1:00:18<13:07,  2.97s/it]"
     ]
    },
    {
     "name": "stdout",
     "output_type": "stream",
     "text": [
      "ID: TEST_1241 Question: 박주현 씨가 답한 마시는 물 유형 Generated answer: 수돗물을 마시지 않는 사람도 있나? ’ 생각하며 수돗물\n"
     ]
    },
    {
     "name": "stderr",
     "output_type": "stream",
     "text": [
      " 82%|████████▏ | 1243/1507 [1:00:21<13:17,  3.02s/it]"
     ]
    },
    {
     "name": "stdout",
     "output_type": "stream",
     "text": [
      "ID: TEST_1242 Question: 박주현 씨가 응답한 조사 항목의 총 소요 시간 Generated answer: 10분 정도\n"
     ]
    },
    {
     "name": "stderr",
     "output_type": "stream",
     "text": [
      " 83%|████████▎ | 1244/1507 [1:00:23<12:22,  2.82s/it]"
     ]
    },
    {
     "name": "stdout",
     "output_type": "stream",
     "text": [
      "ID: TEST_1243 Question: 네이버 지식인 엑스퍼트 법률에서 수수료로 받는 상담료 비율은 Generated answer: 1. 65 ~ 3. 74 %\n"
     ]
    },
    {
     "name": "stderr",
     "output_type": "stream",
     "text": [
      " 83%|████████▎ | 1245/1507 [1:00:28<14:22,  3.29s/it]"
     ]
    },
    {
     "name": "stdout",
     "output_type": "stream",
     "text": [
      "ID: TEST_1244 Question: 네이버의 지난해 거래액은 얼마나 되나 Generated answer: 20조9249억원\n"
     ]
    },
    {
     "name": "stderr",
     "output_type": "stream",
     "text": [
      " 83%|████████▎ | 1246/1507 [1:00:30<13:17,  3.06s/it]"
     ]
    },
    {
     "name": "stdout",
     "output_type": "stream",
     "text": [
      "ID: TEST_1245 Question: CJ대한통운이 투자한 금액은 Generated answer: 3800억원\n"
     ]
    },
    {
     "name": "stderr",
     "output_type": "stream",
     "text": [
      " 83%|████████▎ | 1247/1507 [1:00:33<13:11,  3.04s/it]"
     ]
    },
    {
     "name": "stdout",
     "output_type": "stream",
     "text": [
      "ID: TEST_1246 Question: 국내 라이브 커머스 시장 규모는 Generated answer: 약 3조원\n"
     ]
    },
    {
     "name": "stderr",
     "output_type": "stream",
     "text": [
      " 83%|████████▎ | 1248/1507 [1:00:36<13:26,  3.11s/it]"
     ]
    },
    {
     "name": "stdout",
     "output_type": "stream",
     "text": [
      "ID: TEST_1247 Question: SSG닷컴이 취급하는 상품 수는 Generated answer: 1000만여 개의\n"
     ]
    },
    {
     "name": "stderr",
     "output_type": "stream",
     "text": [
      " 83%|████████▎ | 1249/1507 [1:00:40<13:35,  3.16s/it]"
     ]
    },
    {
     "name": "stdout",
     "output_type": "stream",
     "text": [
      "ID: TEST_1248 Question: 롯데온의 상품 수는 Generated answer: 7500만개\n"
     ]
    },
    {
     "name": "stderr",
     "output_type": "stream",
     "text": [
      " 83%|████████▎ | 1250/1507 [1:00:43<13:21,  3.12s/it]"
     ]
    },
    {
     "name": "stdout",
     "output_type": "stream",
     "text": [
      "ID: TEST_1249 Question: 서초동 낙원·청광연립 조합이 짓는 아파트의 전용면적은 얼마인가 Generated answer: 50 ~ 84㎡\n"
     ]
    },
    {
     "name": "stderr",
     "output_type": "stream",
     "text": [
      " 83%|████████▎ | 1251/1507 [1:00:46<13:56,  3.27s/it]"
     ]
    },
    {
     "name": "stdout",
     "output_type": "stream",
     "text": [
      "ID: TEST_1250 Question: 서울 강남구 압구정동 현대아파트 감정가 Generated answer: 25억100만원\n"
     ]
    },
    {
     "name": "stderr",
     "output_type": "stream",
     "text": [
      " 83%|████████▎ | 1252/1507 [1:00:51<15:17,  3.60s/it]"
     ]
    },
    {
     "name": "stdout",
     "output_type": "stream",
     "text": [
      "ID: TEST_1251 Question: 가장 비싸게 팔린 아파트의 위치 Generated answer: 송파구 잠실동 갤러리아팰리스\n"
     ]
    },
    {
     "name": "stderr",
     "output_type": "stream",
     "text": [
      " 83%|████████▎ | 1253/1507 [1:00:55<16:14,  3.83s/it]"
     ]
    },
    {
     "name": "stdout",
     "output_type": "stream",
     "text": [
      "ID: TEST_1252 Question: 서울 강남구 도곡동 타워팰리스 입찰 참가자 수 Generated answer: 141㎡ ) 가 차지했다. 5명\n"
     ]
    },
    {
     "name": "stderr",
     "output_type": "stream",
     "text": [
      " 83%|████████▎ | 1254/1507 [1:00:59<16:53,  4.00s/it]"
     ]
    },
    {
     "name": "stdout",
     "output_type": "stream",
     "text": [
      "ID: TEST_1253 Question: 11명이 입찰한 송파구 경매 아파트 이름 Generated answer: 갤러리아팰리스\n"
     ]
    },
    {
     "name": "stderr",
     "output_type": "stream",
     "text": [
      " 83%|████████▎ | 1255/1507 [1:01:03<16:10,  3.85s/it]"
     ]
    },
    {
     "name": "stdout",
     "output_type": "stream",
     "text": [
      "ID: TEST_1254 Question: 김연화 IBK기업은행 부동산팀장의 소속 Generated answer: “ 자금이 강남 고가 아파트에 몰리는 것은 앞으로도 집값이 오를 것이란 기대감 때문 ” 이라며 “\n"
     ]
    },
    {
     "name": "stderr",
     "output_type": "stream",
     "text": [
      " 83%|████████▎ | 1256/1507 [1:01:07<16:32,  3.96s/it]"
     ]
    },
    {
     "name": "stdout",
     "output_type": "stream",
     "text": [
      "ID: TEST_1255 Question: 박씨가 마련한 자금은 얼마 Generated answer: 3000만원\n"
     ]
    },
    {
     "name": "stderr",
     "output_type": "stream",
     "text": [
      " 83%|████████▎ | 1257/1507 [1:01:11<17:02,  4.09s/it]"
     ]
    },
    {
     "name": "stdout",
     "output_type": "stream",
     "text": [
      "ID: TEST_1256 Question: 부산 해운대구 아파트 전세가율은 Generated answer: 71. 6 %\n"
     ]
    },
    {
     "name": "stderr",
     "output_type": "stream",
     "text": [
      " 83%|████████▎ | 1258/1507 [1:01:16<17:20,  4.18s/it]"
     ]
    },
    {
     "name": "stdout",
     "output_type": "stream",
     "text": [
      "ID: TEST_1257 Question: 김포시 아파트값이 오른 비율은 Generated answer: 6 % 넘\n"
     ]
    },
    {
     "name": "stderr",
     "output_type": "stream",
     "text": [
      " 84%|████████▎ | 1259/1507 [1:01:20<17:26,  4.22s/it]"
     ]
    },
    {
     "name": "stdout",
     "output_type": "stream",
     "text": [
      "ID: TEST_1258 Question: 임대차 2법 시행 후 전국 아파트 전셋값 상승 비율은 Generated answer: 2. 75 %\n"
     ]
    },
    {
     "name": "stderr",
     "output_type": "stream",
     "text": [
      " 84%|████████▎ | 1260/1507 [1:01:24<17:10,  4.17s/it]"
     ]
    },
    {
     "name": "stdout",
     "output_type": "stream",
     "text": [
      "ID: TEST_1259 Question: 주택담보인정비율의 최대치는 Generated answer: 70 % 인\n"
     ]
    },
    {
     "name": "stderr",
     "output_type": "stream",
     "text": [
      " 84%|████████▎ | 1261/1507 [1:01:27<15:11,  3.70s/it]"
     ]
    },
    {
     "name": "stdout",
     "output_type": "stream",
     "text": [
      "ID: TEST_1260 Question: 한국의 산림자원 증가율 분석 기관은 어디인가 Generated answer: 유엔식량농업기구 ( FAO ) 산림위원회\n"
     ]
    },
    {
     "name": "stderr",
     "output_type": "stream",
     "text": [
      " 84%|████████▎ | 1262/1507 [1:01:30<14:37,  3.58s/it]"
     ]
    },
    {
     "name": "stdout",
     "output_type": "stream",
     "text": [
      "ID: TEST_1261 Question: 1990년 한국의 ㏊당 임목축적은 몇 ㎥인가 Generated answer: 98㎥ ) 이 1위 슬로베니아 ( 116㎥\n"
     ]
    },
    {
     "name": "stderr",
     "output_type": "stream",
     "text": [
      " 84%|████████▍ | 1263/1507 [1:01:33<14:12,  3.49s/it]"
     ]
    },
    {
     "name": "stdout",
     "output_type": "stream",
     "text": [
      "ID: TEST_1262 Question: 1973년부터 87년까지 심어진 나무의 수는 몇 그루인가 Generated answer: 100억 그루\n"
     ]
    },
    {
     "name": "stderr",
     "output_type": "stream",
     "text": [
      " 84%|████████▍ | 1264/1507 [1:01:38<15:09,  3.74s/it]"
     ]
    },
    {
     "name": "stdout",
     "output_type": "stream",
     "text": [
      "ID: TEST_1263 Question: 한국의 ㏊당 임목축적 증가량 순위는 몇 위인가 Generated answer: 3위를\n"
     ]
    },
    {
     "name": "stderr",
     "output_type": "stream",
     "text": [
      " 84%|████████▍ | 1265/1507 [1:01:40<13:19,  3.30s/it]"
     ]
    },
    {
     "name": "stdout",
     "output_type": "stream",
     "text": [
      "ID: TEST_1264 Question: 뉴질랜드가 ㏊당 임목축적에서 세계 1위인 ㎥는 몇 ㎥인가 Generated answer: 392㎥\n"
     ]
    },
    {
     "name": "stderr",
     "output_type": "stream",
     "text": [
      " 84%|████████▍ | 1266/1507 [1:01:43<13:15,  3.30s/it]"
     ]
    },
    {
     "name": "stdout",
     "output_type": "stream",
     "text": [
      "ID: TEST_1265 Question: 이화여대는 언제부터 온라인 축제를 개최했나 Generated answer: 지난달 15일\n"
     ]
    },
    {
     "name": "stderr",
     "output_type": "stream",
     "text": [
      " 84%|████████▍ | 1267/1507 [1:01:47<13:11,  3.30s/it]"
     ]
    },
    {
     "name": "stdout",
     "output_type": "stream",
     "text": [
      "ID: TEST_1266 Question: 연세대와 고려대는 어떤 온라인 게임 대회를 열기로 했나 Generated answer: 줌마피아게임\n"
     ]
    },
    {
     "name": "stderr",
     "output_type": "stream",
     "text": [
      " 84%|████████▍ | 1268/1507 [1:01:50<13:08,  3.30s/it]"
     ]
    },
    {
     "name": "stdout",
     "output_type": "stream",
     "text": [
      "ID: TEST_1267 Question: 서울대 사회대 학생회는 어떤 온라인 프로그램을 사용해 대회를 열었나 Generated answer: 줌 ( ZOOM )\n"
     ]
    },
    {
     "name": "stderr",
     "output_type": "stream",
     "text": [
      " 84%|████████▍ | 1269/1507 [1:01:53<12:27,  3.14s/it]"
     ]
    },
    {
     "name": "stdout",
     "output_type": "stream",
     "text": [
      "ID: TEST_1268 Question: 건국대 미래에너지공학과 학생회 대표의 이름은 Generated answer: 이지민 ( 21 )\n"
     ]
    },
    {
     "name": "stderr",
     "output_type": "stream",
     "text": [
      " 84%|████████▍ | 1270/1507 [1:01:55<11:55,  3.02s/it]"
     ]
    },
    {
     "name": "stdout",
     "output_type": "stream",
     "text": [
      "ID: TEST_1269 Question: 이화여대 약학대의 온라인 활동 중 하나는 Generated answer: 줌개팅\n"
     ]
    },
    {
     "name": "stderr",
     "output_type": "stream",
     "text": [
      " 84%|████████▍ | 1271/1507 [1:01:58<11:24,  2.90s/it]"
     ]
    },
    {
     "name": "stdout",
     "output_type": "stream",
     "text": [
      "ID: TEST_1270 Question: 화재가 발생한 아파트의 층수는 몇 층인가 Generated answer: 28층에 위치한 대피소를 떠올렸다. 이씨 집 창문과 인접해 있는 구조여서 나갈 수 있겠다는 생각이 들었기 때문이다. 이씨는 28층\n"
     ]
    },
    {
     "name": "stderr",
     "output_type": "stream",
     "text": [
      " 84%|████████▍ | 1272/1507 [1:02:01<11:19,  2.89s/it]"
     ]
    },
    {
     "name": "stdout",
     "output_type": "stream",
     "text": [
      "ID: TEST_1271 Question: 화재가 처음 신고된 층수는 몇 층인가 Generated answer: 12층에서 처음 접수됐다. 이 아파트 12층\n"
     ]
    },
    {
     "name": "stderr",
     "output_type": "stream",
     "text": [
      " 84%|████████▍ | 1273/1507 [1:02:04<11:31,  2.95s/it]"
     ]
    },
    {
     "name": "stdout",
     "output_type": "stream",
     "text": [
      "ID: TEST_1272 Question: 화재로 인해 병원으로 옮겨진 사람 수는 몇 명인가 Generated answer: 93명이\n"
     ]
    },
    {
     "name": "stderr",
     "output_type": "stream",
     "text": [
      " 85%|████████▍ | 1274/1507 [1:02:07<10:58,  2.83s/it]"
     ]
    },
    {
     "name": "stdout",
     "output_type": "stream",
     "text": [
      "ID: TEST_1273 Question: 화재 신고 후 소방당국이 현장에 도착한 시간은 몇 분 후인가 Generated answer: 신고 5분\n"
     ]
    },
    {
     "name": "stderr",
     "output_type": "stream",
     "text": [
      " 85%|████████▍ | 1275/1507 [1:02:10<11:20,  2.93s/it]"
     ]
    },
    {
     "name": "stdout",
     "output_type": "stream",
     "text": [
      "ID: TEST_1274 Question: 화재가 완전히 진화된 시각은 언제인가 Generated answer: 오후 2시50분\n"
     ]
    },
    {
     "name": "stderr",
     "output_type": "stream",
     "text": [
      " 85%|████████▍ | 1276/1507 [1:02:13<11:24,  2.96s/it]"
     ]
    },
    {
     "name": "stdout",
     "output_type": "stream",
     "text": [
      "ID: TEST_1275 Question: 원주에서 확진된 외국인의 국적은 Generated answer: 탄자니아 국적\n"
     ]
    },
    {
     "name": "stderr",
     "output_type": "stream",
     "text": [
      " 85%|████████▍ | 1277/1507 [1:02:15<10:47,  2.81s/it]"
     ]
    },
    {
     "name": "stdout",
     "output_type": "stream",
     "text": [
      "ID: TEST_1276 Question: 화천 5번 확진자가 방문한 장소는 Generated answer: 식당을 지난 12\n"
     ]
    },
    {
     "name": "stderr",
     "output_type": "stream",
     "text": [
      " 85%|████████▍ | 1278/1507 [1:02:18<11:07,  2.92s/it]"
     ]
    },
    {
     "name": "stdout",
     "output_type": "stream",
     "text": [
      "ID: TEST_1277 Question: 춘천 62번 확진자가 거주하는 도시는 Generated answer: 사내면에 거주하는 20대가 코로나 양성 판정을 받아 보건 당국이 감염 경로를 조사 중이다. 이 20대는 화천\n"
     ]
    },
    {
     "name": "stderr",
     "output_type": "stream",
     "text": [
      " 85%|████████▍ | 1279/1507 [1:02:21<10:26,  2.75s/it]"
     ]
    },
    {
     "name": "stdout",
     "output_type": "stream",
     "text": [
      "ID: TEST_1278 Question: 강원도에서 지난 7일간 발생한 확진자 수는 Generated answer: 109명의\n"
     ]
    },
    {
     "name": "stderr",
     "output_type": "stream",
     "text": [
      " 85%|████████▍ | 1280/1507 [1:02:24<10:55,  2.89s/it]"
     ]
    },
    {
     "name": "stdout",
     "output_type": "stream",
     "text": [
      "ID: TEST_1279 Question: 강원도 감염병 전문가 교수모임'을 구성하는 사람 수는 Generated answer: 11명으로\n"
     ]
    },
    {
     "name": "stderr",
     "output_type": "stream",
     "text": [
      " 85%|████████▌ | 1281/1507 [1:02:27<11:17,  3.00s/it]"
     ]
    },
    {
     "name": "stdout",
     "output_type": "stream",
     "text": [
      "ID: TEST_1280 Question: 구로구 아파트 매매가격 지수 상승률은 얼마야 Generated answer: 1 % 상승\n"
     ]
    },
    {
     "name": "stderr",
     "output_type": "stream",
     "text": [
      " 85%|████████▌ | 1282/1507 [1:02:31<11:43,  3.13s/it]"
     ]
    },
    {
     "name": "stdout",
     "output_type": "stream",
     "text": [
      "ID: TEST_1281 Question: 신안산선과 GTX-B 같은 대형 개발사업이 추진되는 곳은 어디야 Generated answer: 서울시 구로구 일대\n"
     ]
    },
    {
     "name": "stderr",
     "output_type": "stream",
     "text": [
      " 85%|████████▌ | 1283/1507 [1:02:34<11:50,  3.17s/it]"
     ]
    },
    {
     "name": "stdout",
     "output_type": "stream",
     "text": [
      "ID: TEST_1282 Question: 구로역 엔트리움의 예상 총 가구 수는 몇이야 Generated answer: 426가구\n"
     ]
    },
    {
     "name": "stderr",
     "output_type": "stream",
     "text": [
      " 85%|████████▌ | 1284/1507 [1:02:37<11:30,  3.10s/it]"
     ]
    },
    {
     "name": "stdout",
     "output_type": "stream",
     "text": [
      "ID: TEST_1283 Question: 구로역 엔트리움의 주요 아파트 타입은 무엇이야 Generated answer: 59A㎡, 59B㎡, 84㎡의 중소형 타입\n"
     ]
    },
    {
     "name": "stderr",
     "output_type": "stream",
     "text": [
      " 85%|████████▌ | 1285/1507 [1:02:41<12:05,  3.27s/it]"
     ]
    },
    {
     "name": "stdout",
     "output_type": "stream",
     "text": [
      "ID: TEST_1284 Question: 주택홍보관이 위치한 곳의 행정동 이름은 뭐야 Generated answer: 영등포동 7가 76 - 5번지\n"
     ]
    },
    {
     "name": "stderr",
     "output_type": "stream",
     "text": [
      " 85%|████████▌ | 1286/1507 [1:02:44<12:32,  3.41s/it]"
     ]
    },
    {
     "name": "stdout",
     "output_type": "stream",
     "text": [
      "ID: TEST_1285 Question: NH증권 대표이사가 국정감사에 출석한 날짜 Generated answer: 지난 16일\n"
     ]
    },
    {
     "name": "stderr",
     "output_type": "stream",
     "text": [
      " 85%|████████▌ | 1287/1507 [1:02:47<11:53,  3.24s/it]"
     ]
    },
    {
     "name": "stdout",
     "output_type": "stream",
     "text": [
      "ID: TEST_1286 Question: 이청하씨의 나이는 Generated answer: 남 ‧ 33\n"
     ]
    },
    {
     "name": "stderr",
     "output_type": "stream",
     "text": [
      " 85%|████████▌ | 1288/1507 [1:02:50<11:33,  3.16s/it]"
     ]
    },
    {
     "name": "stdout",
     "output_type": "stream",
     "text": [
      "ID: TEST_1287 Question: 이청하씨가 사는 지역은 Generated answer: 인천 거주 ) 가 서울 강남구 청담동\n"
     ]
    },
    {
     "name": "stderr",
     "output_type": "stream",
     "text": [
      " 86%|████████▌ | 1289/1507 [1:02:53<10:47,  2.97s/it]"
     ]
    },
    {
     "name": "stdout",
     "output_type": "stream",
     "text": [
      "ID: TEST_1288 Question: 9년 차 택배기사가 배달한 물건 개수는 Generated answer: 280개.\n"
     ]
    },
    {
     "name": "stderr",
     "output_type": "stream",
     "text": [
      " 86%|████████▌ | 1290/1507 [1:02:56<11:05,  3.07s/it]"
     ]
    },
    {
     "name": "stdout",
     "output_type": "stream",
     "text": [
      "ID: TEST_1289 Question: 이청하씨의 근무시간은 Generated answer: 하루 12시간\n"
     ]
    },
    {
     "name": "stderr",
     "output_type": "stream",
     "text": [
      " 86%|████████▌ | 1291/1507 [1:02:59<11:18,  3.14s/it]"
     ]
    },
    {
     "name": "stdout",
     "output_type": "stream",
     "text": [
      "ID: TEST_1290 Question: 택배기사 평균 하루 처리 물량은 Generated answer: 1인당 300 ~ 350개\n"
     ]
    },
    {
     "name": "stderr",
     "output_type": "stream",
     "text": [
      " 86%|████████▌ | 1292/1507 [1:03:04<12:35,  3.51s/it]"
     ]
    },
    {
     "name": "stdout",
     "output_type": "stream",
     "text": [
      "ID: TEST_1291 Question: 애플의 액면분할 비율 Generated answer: 4분의 1\n"
     ]
    },
    {
     "name": "stderr",
     "output_type": "stream",
     "text": [
      " 86%|████████▌ | 1293/1507 [1:03:07<12:23,  3.47s/it]"
     ]
    },
    {
     "name": "stdout",
     "output_type": "stream",
     "text": [
      "ID: TEST_1292 Question: 팀 쿡이 2013년에 자사주 매입을 결정한 금액 Generated answer: 300억 달러\n"
     ]
    },
    {
     "name": "stderr",
     "output_type": "stream",
     "text": [
      " 86%|████████▌ | 1294/1507 [1:03:11<13:10,  3.71s/it]"
     ]
    },
    {
     "name": "stdout",
     "output_type": "stream",
     "text": [
      "ID: TEST_1293 Question: 애플이 세계 최초로 시가총액 1조 달러를 달성한 연도 Generated answer: 2020년. 실상은 정반대다. 지난해 세계 최초로 시가총액 1조 달러 ( 약 1184조원\n"
     ]
    },
    {
     "name": "stderr",
     "output_type": "stream",
     "text": [
      " 86%|████████▌ | 1295/1507 [1:03:15<12:42,  3.60s/it]"
     ]
    },
    {
     "name": "stdout",
     "output_type": "stream",
     "text": [
      "ID: TEST_1294 Question: 팀 쿡이 커밍아웃을 밝힌 경제전문지 Generated answer: 포천이 선정하는 500대 기업의 CEO 중 첫 커밍아웃이었다.\n"
     ]
    },
    {
     "name": "stderr",
     "output_type": "stream",
     "text": [
      " 86%|████████▌ | 1296/1507 [1:03:18<12:21,  3.51s/it]"
     ]
    },
    {
     "name": "stdout",
     "output_type": "stream",
     "text": [
      "ID: TEST_1295 Question: 잡스가 쿡을 처음 만난 연도 Generated answer: 1998년,\n"
     ]
    },
    {
     "name": "stderr",
     "output_type": "stream",
     "text": [
      " 86%|████████▌ | 1297/1507 [1:03:21<12:02,  3.44s/it]"
     ]
    },
    {
     "name": "stdout",
     "output_type": "stream",
     "text": [
      "ID: TEST_1296 Question: 연세대는 중간고사 기간까지 모든 수업을 어떤 형태로 운영하려 했나 Generated answer: 대면과 비대면\n"
     ]
    },
    {
     "name": "stderr",
     "output_type": "stream",
     "text": [
      " 86%|████████▌ | 1298/1507 [1:03:24<11:42,  3.36s/it]"
     ]
    },
    {
     "name": "stdout",
     "output_type": "stream",
     "text": [
      "ID: TEST_1297 Question: 서울대는 9월 한 달간 어떤 형태의 수업을 하기로 했나 Generated answer: 전면 비대면 수업\n"
     ]
    },
    {
     "name": "stderr",
     "output_type": "stream",
     "text": [
      " 86%|████████▌ | 1299/1507 [1:03:28<11:29,  3.31s/it]"
     ]
    },
    {
     "name": "stdout",
     "output_type": "stream",
     "text": [
      "ID: TEST_1298 Question: 서강대는 언제부터 혼합 수업을 시작하기로 했나 Generated answer: 10월부터\n"
     ]
    },
    {
     "name": "stderr",
     "output_type": "stream",
     "text": [
      " 86%|████████▋ | 1300/1507 [1:03:31<11:38,  3.37s/it]"
     ]
    },
    {
     "name": "stdout",
     "output_type": "stream",
     "text": [
      "ID: TEST_1299 Question: 연세대 총학생회 조사에서 '전면 비대면' 응답 비율은 몇 퍼센트인가 Generated answer: 58. 9 %\n"
     ]
    },
    {
     "name": "stderr",
     "output_type": "stream",
     "text": [
      " 86%|████████▋ | 1301/1507 [1:03:34<10:51,  3.16s/it]"
     ]
    },
    {
     "name": "stdout",
     "output_type": "stream",
     "text": [
      "ID: TEST_1300 Question: 사회적 거리두기 몇 단계가 전국에 확대 적용되었나 Generated answer: 2단계\n"
     ]
    },
    {
     "name": "stderr",
     "output_type": "stream",
     "text": [
      " 86%|████████▋ | 1302/1507 [1:03:37<10:43,  3.14s/it]"
     ]
    },
    {
     "name": "stdout",
     "output_type": "stream",
     "text": [
      "ID: TEST_1301 Question: 쌕쌕의 출시 연도는 Generated answer: 1980년 12월 출시돼 국내 과즙음료 시장에 안착한 올해 출시 40주년\n"
     ]
    },
    {
     "name": "stderr",
     "output_type": "stream",
     "text": [
      " 86%|████████▋ | 1303/1507 [1:03:40<10:31,  3.10s/it]"
     ]
    },
    {
     "name": "stdout",
     "output_type": "stream",
     "text": [
      "ID: TEST_1302 Question: 쌕쌕이 2020년에 팔린 캔 수는 Generated answer: 580만캔\n"
     ]
    },
    {
     "name": "stderr",
     "output_type": "stream",
     "text": [
      " 87%|████████▋ | 1304/1507 [1:03:42<09:38,  2.85s/it]"
     ]
    },
    {
     "name": "stdout",
     "output_type": "stream",
     "text": [
      "ID: TEST_1303 Question: 쌕쌕 오렌지 개발이 시작된 월은 Generated answer: 80년 6월\n"
     ]
    },
    {
     "name": "stderr",
     "output_type": "stream",
     "text": [
      " 87%|████████▋ | 1305/1507 [1:03:45<10:02,  2.98s/it]"
     ]
    },
    {
     "name": "stdout",
     "output_type": "stream",
     "text": [
      "ID: TEST_1304 Question: 쌕쌕 시제품이 생산된 시기는 Generated answer: 같은 해 11월\n"
     ]
    },
    {
     "name": "stderr",
     "output_type": "stream",
     "text": [
      " 87%|████████▋ | 1306/1507 [1:03:49<10:17,  3.07s/it]"
     ]
    },
    {
     "name": "stdout",
     "output_type": "stream",
     "text": [
      "ID: TEST_1305 Question: 쌕쌕의 해외 수출이 시작된 첫 해는 Generated answer: 82년부터 해외 시장 개척을 본격화하면서 미국, 싱가포르 등 10여 개국으로 수출이 확대됐다. 해외 시장 공략을 바탕으로 롯데칠성음료는 87년\n"
     ]
    },
    {
     "name": "stderr",
     "output_type": "stream",
     "text": [
      " 87%|████████▋ | 1307/1507 [1:03:53<11:33,  3.47s/it]"
     ]
    },
    {
     "name": "stdout",
     "output_type": "stream",
     "text": [
      "ID: TEST_1306 Question: 추미애 아들' 키워드 관련 가장 많은 방송사 뉴스? Generated answer: JTBC 뉴스 ( 9건 ) 등 방송사 뉴스가 39건으로 가장 많았고, ‘ 추미애 아들 ’ 도 SBS뉴스\n"
     ]
    },
    {
     "name": "stderr",
     "output_type": "stream",
     "text": [
      " 87%|████████▋ | 1308/1507 [1:03:57<12:11,  3.67s/it]"
     ]
    },
    {
     "name": "stdout",
     "output_type": "stream",
     "text": [
      "ID: TEST_1307 Question: 비언론사 채널 중 구독자 수 2위 채널? Generated answer: 신의한수\n"
     ]
    },
    {
     "name": "stderr",
     "output_type": "stream",
     "text": [
      " 87%|████████▋ | 1309/1507 [1:04:01<12:27,  3.77s/it]"
     ]
    },
    {
     "name": "stdout",
     "output_type": "stream",
     "text": [
      "ID: TEST_1308 Question: 유튜브 사용자 수 (9월 모바일인덱스 MAU)? Generated answer: 4319만명\n"
     ]
    },
    {
     "name": "stderr",
     "output_type": "stream",
     "text": [
      " 87%|████████▋ | 1310/1507 [1:04:05<12:34,  3.83s/it]"
     ]
    },
    {
     "name": "stdout",
     "output_type": "stream",
     "text": [
      "ID: TEST_1309 Question: 유튜브 검색결과에 기존 언론사 영상이 차지하는 비율? Generated answer: 90 % 이상\n"
     ]
    },
    {
     "name": "stderr",
     "output_type": "stream",
     "text": [
      " 87%|████████▋ | 1311/1507 [1:04:06<10:02,  3.07s/it]"
     ]
    },
    {
     "name": "stdout",
     "output_type": "stream",
     "text": [
      "ID: TEST_1310 Question: 여수시가 올해 2회 추경에 반영한 예산은 얼마인가 Generated answer: 6000만원\n"
     ]
    },
    {
     "name": "stderr",
     "output_type": "stream",
     "text": [
      " 87%|████████▋ | 1312/1507 [1:04:07<07:52,  2.42s/it]"
     ]
    },
    {
     "name": "stdout",
     "output_type": "stream",
     "text": [
      "ID: TEST_1311 Question: 노란우산공제의 월 최소 적립액은 얼마인가 Generated answer: 500만원\n"
     ]
    },
    {
     "name": "stderr",
     "output_type": "stream",
     "text": [
      " 87%|████████▋ | 1313/1507 [1:04:08<06:32,  2.02s/it]"
     ]
    },
    {
     "name": "stdout",
     "output_type": "stream",
     "text": [
      "ID: TEST_1312 Question: 여수시가 제공하는 희망장려금은 월 최대 몇 회 적립 가능한가 Generated answer: 최대 12회\n"
     ]
    },
    {
     "name": "stderr",
     "output_type": "stream",
     "text": [
      " 87%|████████▋ | 1314/1507 [1:04:10<05:46,  1.80s/it]"
     ]
    },
    {
     "name": "stdout",
     "output_type": "stream",
     "text": [
      "ID: TEST_1313 Question: 여수시 노란우산공제 가입 상담 문의처는 어디인가 Generated answer: 중소기업주앙앙회\n"
     ]
    },
    {
     "name": "stderr",
     "output_type": "stream",
     "text": [
      " 87%|████████▋ | 1315/1507 [1:04:11<05:04,  1.59s/it]"
     ]
    },
    {
     "name": "stdout",
     "output_type": "stream",
     "text": [
      "ID: TEST_1314 Question: 노란우산공제 지원 사업이 시작된 달은 언제인가 Generated answer: 5월 부터'노란우산공제 희망장려금'지원사업을 실시한다고 28일 밝혔다.\n"
     ]
    },
    {
     "name": "stderr",
     "output_type": "stream",
     "text": [
      " 87%|████████▋ | 1316/1507 [1:04:14<06:31,  2.05s/it]"
     ]
    },
    {
     "name": "stdout",
     "output_type": "stream",
     "text": [
      "ID: TEST_1315 Question: 정부가 2025년까지 해운업 매출 목표로 설정한 금액은 얼마인가요 Generated answer: 51조원\n"
     ]
    },
    {
     "name": "stderr",
     "output_type": "stream",
     "text": [
      " 87%|████████▋ | 1317/1507 [1:04:17<07:40,  2.42s/it]"
     ]
    },
    {
     "name": "stdout",
     "output_type": "stream",
     "text": [
      "ID: TEST_1316 Question: 토론회는 언제 열릴 예정인가 Generated answer: 오는 14일\n"
     ]
    },
    {
     "name": "stderr",
     "output_type": "stream",
     "text": [
      " 87%|████████▋ | 1318/1507 [1:04:21<08:26,  2.68s/it]"
     ]
    },
    {
     "name": "stdout",
     "output_type": "stream",
     "text": [
      "ID: TEST_1317 Question: 충북 5·18단체가 충북도청을 찾아간 날짜는 Generated answer: 5월 13일\n"
     ]
    },
    {
     "name": "stderr",
     "output_type": "stream",
     "text": [
      " 88%|████████▊ | 1319/1507 [1:04:24<08:59,  2.87s/it]"
     ]
    },
    {
     "name": "stdout",
     "output_type": "stream",
     "text": [
      "ID: TEST_1318 Question: 청남대는 몇 년에 조성되었는가 Generated answer: 1983년 전두환 전 대통령의 지시로 청주시 상당구 문의면에 조성\n"
     ]
    },
    {
     "name": "stderr",
     "output_type": "stream",
     "text": [
      " 88%|████████▊ | 1320/1507 [1:04:27<09:34,  3.07s/it]"
     ]
    },
    {
     "name": "stdout",
     "output_type": "stream",
     "text": [
      "ID: TEST_1319 Question: 전두환 전 대통령이 머물렀던 기간은 Generated answer: 472일\n"
     ]
    },
    {
     "name": "stderr",
     "output_type": "stream",
     "text": [
      " 88%|████████▊ | 1321/1507 [1:04:30<09:30,  3.07s/it]"
     ]
    },
    {
     "name": "stdout",
     "output_type": "stream",
     "text": [
      "ID: TEST_1320 Question: 이시종 충북지사가 단체와 만난 날짜는 Generated answer: 5월 13일\n"
     ]
    },
    {
     "name": "stderr",
     "output_type": "stream",
     "text": [
      " 88%|████████▊ | 1322/1507 [1:04:33<09:23,  3.05s/it]"
     ]
    },
    {
     "name": "stdout",
     "output_type": "stream",
     "text": [
      "ID: TEST_1321 Question: 2019년에 돌려받지 못한 보증금 미수 금액은 Generated answer: 730억원\n"
     ]
    },
    {
     "name": "stderr",
     "output_type": "stream",
     "text": [
      " 88%|████████▊ | 1323/1507 [1:04:35<07:41,  2.51s/it]"
     ]
    },
    {
     "name": "stdout",
     "output_type": "stream",
     "text": [
      "ID: TEST_1322 Question: 전남도 수산물 수출 증가율 Generated answer: 5. 5 %\n"
     ]
    },
    {
     "name": "stderr",
     "output_type": "stream",
     "text": [
      " 88%|████████▊ | 1324/1507 [1:04:36<06:16,  2.06s/it]"
     ]
    },
    {
     "name": "stdout",
     "output_type": "stream",
     "text": [
      "ID: TEST_1323 Question: 2024년까지 김 수출 프로젝트 투입 금액 Generated answer: 2276억 원\n"
     ]
    },
    {
     "name": "stderr",
     "output_type": "stream",
     "text": [
      " 88%|████████▊ | 1325/1507 [1:04:37<05:17,  1.75s/it]"
     ]
    },
    {
     "name": "stdout",
     "output_type": "stream",
     "text": [
      "ID: TEST_1324 Question: 수산물 수출 국가 중 점유율 3위 Generated answer: 캐나다 1200만 달러 ( 4. 4 % ), 대만\n"
     ]
    },
    {
     "name": "stderr",
     "output_type": "stream",
     "text": [
      " 88%|████████▊ | 1326/1507 [1:04:38<04:37,  1.53s/it]"
     ]
    },
    {
     "name": "stdout",
     "output_type": "stream",
     "text": [
      "ID: TEST_1325 Question: 전복 수출액 Generated answer: 4200만 달러\n"
     ]
    },
    {
     "name": "stderr",
     "output_type": "stream",
     "text": [
      " 88%|████████▊ | 1327/1507 [1:04:39<03:52,  1.29s/it]"
     ]
    },
    {
     "name": "stdout",
     "output_type": "stream",
     "text": [
      "ID: TEST_1326 Question: 수산물 수출 1위 품목 Generated answer: 김은 칼로리가 낮지만 영양이 풍부해 비건 ․ 웰빙 간식으로 인식되면서 일본 · 미국을 중심으로 구매 열풍이 지속되고 있다.\n"
     ]
    },
    {
     "name": "stderr",
     "output_type": "stream",
     "text": [
      " 88%|████████▊ | 1328/1507 [1:04:43<06:20,  2.13s/it]"
     ]
    },
    {
     "name": "stdout",
     "output_type": "stream",
     "text": [
      "ID: TEST_1327 Question: 일본의 내년 취업 내정자 수는 Generated answer: 10만5442명\n"
     ]
    },
    {
     "name": "stderr",
     "output_type": "stream",
     "text": [
      " 88%|████████▊ | 1329/1507 [1:04:47<08:19,  2.81s/it]"
     ]
    },
    {
     "name": "stdout",
     "output_type": "stream",
     "text": [
      "ID: TEST_1328 Question: 문과 취업 내정자 수 감소율 Generated answer: 12. 5 %\n"
     ]
    },
    {
     "name": "stderr",
     "output_type": "stream",
     "text": [
      " 88%|████████▊ | 1330/1507 [1:04:51<09:41,  3.28s/it]"
     ]
    },
    {
     "name": "stdout",
     "output_type": "stream",
     "text": [
      "ID: TEST_1329 Question: 미쓰비시 자동차 채용 감소율 Generated answer: 84. 8 %\n"
     ]
    },
    {
     "name": "stderr",
     "output_type": "stream",
     "text": [
      " 88%|████████▊ | 1331/1507 [1:04:56<10:36,  3.62s/it]"
     ]
    },
    {
     "name": "stdout",
     "output_type": "stream",
     "text": [
      "ID: TEST_1330 Question: NTT의 올해 선발 인원 Generated answer: 510명을\n"
     ]
    },
    {
     "name": "stderr",
     "output_type": "stream",
     "text": [
      " 88%|████████▊ | 1332/1507 [1:05:00<11:13,  3.85s/it]"
     ]
    },
    {
     "name": "stdout",
     "output_type": "stream",
     "text": [
      "ID: TEST_1331 Question: 로옴의 대졸 예정자 채용 증가율 Generated answer: 20. 4 %\n"
     ]
    },
    {
     "name": "stderr",
     "output_type": "stream",
     "text": [
      " 88%|████████▊ | 1333/1507 [1:05:03<10:25,  3.60s/it]"
     ]
    },
    {
     "name": "stdout",
     "output_type": "stream",
     "text": [
      "ID: TEST_1332 Question: 한국 일평균 수출이 플러스가 된 건 몇 개월 만인가 Generated answer: 9개월\n"
     ]
    },
    {
     "name": "stderr",
     "output_type": "stream",
     "text": [
      " 89%|████████▊ | 1334/1507 [1:05:04<08:10,  2.84s/it]"
     ]
    },
    {
     "name": "stdout",
     "output_type": "stream",
     "text": [
      "ID: TEST_1333 Question: 모바일 앱(App)의 공개 예정 달은 언제인가 Generated answer: 오는 5월\n"
     ]
    },
    {
     "name": "stderr",
     "output_type": "stream",
     "text": [
      " 89%|████████▊ | 1335/1507 [1:05:07<07:52,  2.75s/it]"
     ]
    },
    {
     "name": "stdout",
     "output_type": "stream",
     "text": [
      "ID: TEST_1334 Question: 문재인 대통령이 특별대책을 주문한 일 수 Generated answer: 20여일\n"
     ]
    },
    {
     "name": "stderr",
     "output_type": "stream",
     "text": [
      " 89%|████████▊ | 1336/1507 [1:05:10<08:05,  2.84s/it]"
     ]
    },
    {
     "name": "stdout",
     "output_type": "stream",
     "text": [
      "ID: TEST_1335 Question: 택배기사 과로 문제로 사망한 올해 사람 수 Generated answer: 10명이\n"
     ]
    },
    {
     "name": "stderr",
     "output_type": "stream",
     "text": [
      " 89%|████████▊ | 1337/1507 [1:05:12<07:44,  2.73s/it]"
     ]
    },
    {
     "name": "stdout",
     "output_type": "stream",
     "text": [
      "ID: TEST_1336 Question: 주말 없이 일하는 택배기사의 휴식일 도입을 권장한 날짜 Generated answer: 토요일은 ‘ 택배 없는 날\n"
     ]
    },
    {
     "name": "stderr",
     "output_type": "stream",
     "text": [
      " 89%|████████▉ | 1338/1507 [1:05:15<07:34,  2.69s/it]"
     ]
    },
    {
     "name": "stdout",
     "output_type": "stream",
     "text": [
      "ID: TEST_1337 Question: 정부가 심야 배송을 제한하도록 권고한 시간 Generated answer: 주간 택배기사\n"
     ]
    },
    {
     "name": "stderr",
     "output_type": "stream",
     "text": [
      " 89%|████████▉ | 1339/1507 [1:05:18<07:40,  2.74s/it]"
     ]
    },
    {
     "name": "stdout",
     "output_type": "stream",
     "text": [
      "ID: TEST_1338 Question: 택배기사의 보험료 일부를 지원하는 이유 Generated answer: 재정으로 지원하기로 했다. 택배기사는 다른 특수고용노동자 ( 특고 ) 와 달리 보험 가입의 조건이 되는 전속성\n"
     ]
    },
    {
     "name": "stderr",
     "output_type": "stream",
     "text": [
      " 89%|████████▉ | 1340/1507 [1:05:21<08:05,  2.91s/it]"
     ]
    },
    {
     "name": "stdout",
     "output_type": "stream",
     "text": [
      "ID: TEST_1339 Question: 용인시재활용센터에서 만난 직원의 성씨는 무엇 Generated answer: A씨의 말이다.\n"
     ]
    },
    {
     "name": "stderr",
     "output_type": "stream",
     "text": [
      " 89%|████████▉ | 1341/1507 [1:05:24<08:18,  3.00s/it]"
     ]
    },
    {
     "name": "stdout",
     "output_type": "stream",
     "text": [
      "ID: TEST_1340 Question: 추석 연휴 끝난 후 트럭 1대당 실린 재활용 쓰레기 무게는 Generated answer: 1t 정도\n"
     ]
    },
    {
     "name": "stderr",
     "output_type": "stream",
     "text": [
      " 89%|████████▉ | 1342/1507 [1:05:27<08:05,  2.94s/it]"
     ]
    },
    {
     "name": "stdout",
     "output_type": "stream",
     "text": [
      "ID: TEST_1341 Question: 용인시재활용센터 쓰레기 산을 만든 주요 쓰레기 종류는 Generated answer: 스티로폼\n"
     ]
    },
    {
     "name": "stderr",
     "output_type": "stream",
     "text": [
      " 89%|████████▉ | 1343/1507 [1:05:30<07:54,  2.89s/it]"
     ]
    },
    {
     "name": "stdout",
     "output_type": "stream",
     "text": [
      "ID: TEST_1342 Question: 2020년 8월 30일부터 폭발적으로 늘어난 쓰레기의 원인은 무엇 Generated answer: 코로나19 확산\n"
     ]
    },
    {
     "name": "stderr",
     "output_type": "stream",
     "text": [
      " 89%|████████▉ | 1344/1507 [1:05:33<08:09,  3.00s/it]"
     ]
    },
    {
     "name": "stdout",
     "output_type": "stream",
     "text": [
      "ID: TEST_1343 Question: 용인시재활용센터의 단가가 낮아진 이유는 Generated answer: 국제 유가 하락\n"
     ]
    },
    {
     "name": "stderr",
     "output_type": "stream",
     "text": [
      " 89%|████████▉ | 1345/1507 [1:05:36<08:09,  3.02s/it]"
     ]
    },
    {
     "name": "stdout",
     "output_type": "stream",
     "text": [
      "ID: TEST_1344 Question: 제작결함이 발견된 총 몇 대의 차량인가 Generated answer: 1만9217대\n"
     ]
    },
    {
     "name": "stderr",
     "output_type": "stream",
     "text": [
      " 89%|████████▉ | 1346/1507 [1:05:39<07:54,  2.95s/it]"
     ]
    },
    {
     "name": "stdout",
     "output_type": "stream",
     "text": [
      "ID: TEST_1345 Question: 냉각수 호스가 손상될 가능성이 있는 푸조 차량은 몇 대인가 Generated answer: 3783대\n"
     ]
    },
    {
     "name": "stderr",
     "output_type": "stream",
     "text": [
      " 89%|████████▉ | 1347/1507 [1:05:42<07:52,  2.96s/it]"
     ]
    },
    {
     "name": "stdout",
     "output_type": "stream",
     "text": [
      "ID: TEST_1346 Question: 포드세일즈서비스코리아에서 리콜 대상이 된 차종 수는 Generated answer: 3530대\n"
     ]
    },
    {
     "name": "stderr",
     "output_type": "stream",
     "text": [
      " 89%|████████▉ | 1348/1507 [1:05:45<08:06,  3.06s/it]"
     ]
    },
    {
     "name": "stdout",
     "output_type": "stream",
     "text": [
      "ID: TEST_1347 Question: 파워 트랜스퍼 유닛(PTU) 관련 결함이 발견된 차량 모델은 Generated answer: 짚 체로키\n"
     ]
    },
    {
     "name": "stderr",
     "output_type": "stream",
     "text": [
      " 90%|████████▉ | 1349/1507 [1:05:48<08:13,  3.12s/it]"
     ]
    },
    {
     "name": "stdout",
     "output_type": "stream",
     "text": [
      "ID: TEST_1348 Question: BMW코리아에서 수입·판매한 이륜 차종 수는 Generated answer: 43개 차종\n"
     ]
    },
    {
     "name": "stderr",
     "output_type": "stream",
     "text": [
      " 90%|████████▉ | 1350/1507 [1:05:53<08:59,  3.43s/it]"
     ]
    },
    {
     "name": "stdout",
     "output_type": "stream",
     "text": [
      "ID: TEST_1349 Question: 2020년 상반기 5G 서비스 평균 다운로드 속도 Generated answer: 214 ~ 237Mbps\n"
     ]
    },
    {
     "name": "stderr",
     "output_type": "stream",
     "text": [
      " 90%|████████▉ | 1351/1507 [1:05:57<09:52,  3.80s/it]"
     ]
    },
    {
     "name": "stdout",
     "output_type": "stream",
     "text": [
      "ID: TEST_1350 Question: 2020년 상반기 5G 서비스 평균 업로드 속도 Generated answer: 64. 16Mbps\n"
     ]
    },
    {
     "name": "stderr",
     "output_type": "stream",
     "text": [
      " 90%|████████▉ | 1352/1507 [1:06:02<10:16,  3.98s/it]"
     ]
    },
    {
     "name": "stdout",
     "output_type": "stream",
     "text": [
      "ID: TEST_1351 Question: 5G 커버리지의 서울 기준 면적 Generated answer: 605.\n"
     ]
    },
    {
     "name": "stderr",
     "output_type": "stream",
     "text": [
      " 90%|████████▉ | 1353/1507 [1:06:06<10:31,  4.10s/it]"
     ]
    },
    {
     "name": "stdout",
     "output_type": "stream",
     "text": [
      "ID: TEST_1352 Question: 5G 서비스 사용 중 LTE로 전환 비율이 가장 높은 장소 Generated answer: 평균 6. 19 % 에 불과했다. 영화관 ( 0. 96 % ), 놀이공원\n"
     ]
    },
    {
     "name": "stderr",
     "output_type": "stream",
     "text": [
      " 90%|████████▉ | 1354/1507 [1:06:10<10:41,  4.19s/it]"
     ]
    },
    {
     "name": "stdout",
     "output_type": "stream",
     "text": [
      "ID: TEST_1353 Question: 오픈시그널이 평가한 국내 통신 3사의 5G 다운로드 속도 범위 Generated answer: 214 ~ 237Mbps\n"
     ]
    },
    {
     "name": "stderr",
     "output_type": "stream",
     "text": [
      " 90%|████████▉ | 1355/1507 [1:06:14<09:56,  3.93s/it]"
     ]
    },
    {
     "name": "stdout",
     "output_type": "stream",
     "text": [
      "ID: TEST_1354 Question: 집회에 대해 발표한 사회적 거리두기 단계 Generated answer: 2단계\n"
     ]
    },
    {
     "name": "stderr",
     "output_type": "stream",
     "text": [
      " 90%|████████▉ | 1356/1507 [1:06:18<09:59,  3.97s/it]"
     ]
    },
    {
     "name": "stdout",
     "output_type": "stream",
     "text": [
      "ID: TEST_1355 Question: 실리콘밸리 지역에서 민주당에 후원한 금액은 Generated answer: 1억 9900만 달러\n"
     ]
    },
    {
     "name": "stderr",
     "output_type": "stream",
     "text": [
      " 90%|█████████ | 1357/1507 [1:06:22<09:44,  3.90s/it]"
     ]
    },
    {
     "name": "stdout",
     "output_type": "stream",
     "text": [
      "ID: TEST_1356 Question: 바이든 당선인이 승리를 축하한 소셜네트워크서비스는 Generated answer: ##는 % 오르며 4월 이후 최대 상승 폭을 기록했다. 미국 빅 테크\n"
     ]
    },
    {
     "name": "stderr",
     "output_type": "stream",
     "text": [
      " 90%|█████████ | 1358/1507 [1:06:26<09:58,  4.02s/it]"
     ]
    },
    {
     "name": "stdout",
     "output_type": "stream",
     "text": [
      "ID: TEST_1357 Question: 페이스북 주가 상승률은 Generated answer: 10. 6 %\n"
     ]
    },
    {
     "name": "stderr",
     "output_type": "stream",
     "text": [
      " 90%|█████████ | 1359/1507 [1:06:30<10:05,  4.09s/it]"
     ]
    },
    {
     "name": "stdout",
     "output_type": "stream",
     "text": [
      "ID: TEST_1358 Question: 빅 테크가 반독점 기업으로 지명된 보고서 분량은 Generated answer: 450쪽 분량\n"
     ]
    },
    {
     "name": "stderr",
     "output_type": "stream",
     "text": [
      " 90%|█████████ | 1360/1507 [1:06:34<09:32,  3.89s/it]"
     ]
    },
    {
     "name": "stdout",
     "output_type": "stream",
     "text": [
      "ID: TEST_1359 Question: 민주당이 상원에서 확보한 의석 수는 Generated answer: 48석을\n"
     ]
    },
    {
     "name": "stderr",
     "output_type": "stream",
     "text": [
      " 90%|█████████ | 1361/1507 [1:06:37<09:00,  3.71s/it]"
     ]
    },
    {
     "name": "stdout",
     "output_type": "stream",
     "text": [
      "ID: TEST_1360 Question: 16세 청소년 D씨가 구입한 아파트의 위치는 Generated answer: 송파구 잠실동\n"
     ]
    },
    {
     "name": "stderr",
     "output_type": "stream",
     "text": [
      " 90%|█████████ | 1362/1507 [1:06:40<08:16,  3.43s/it]"
     ]
    },
    {
     "name": "stdout",
     "output_type": "stream",
     "text": [
      "ID: TEST_1361 Question: 17세 청소년 B씨가 매입한 아파트의 구매 자금 출처는 Generated answer: 직계존비속으로부터 증여\n"
     ]
    },
    {
     "name": "stderr",
     "output_type": "stream",
     "text": [
      " 90%|█████████ | 1363/1507 [1:06:42<07:44,  3.23s/it]"
     ]
    },
    {
     "name": "stdout",
     "output_type": "stream",
     "text": [
      "ID: TEST_1362 Question: 최근 3년간 수도권에서 9억 이상 고가주택을 산 미성년자는 몇 명 Generated answer: 14명 중 5명\n"
     ]
    },
    {
     "name": "stderr",
     "output_type": "stream",
     "text": [
      " 91%|█████████ | 1364/1507 [1:06:45<07:25,  3.11s/it]"
     ]
    },
    {
     "name": "stdout",
     "output_type": "stream",
     "text": [
      "ID: TEST_1363 Question: 19세 청소년 C씨가 매입한 아파트의 위치는 Generated answer: 서대문구 북아현동\n"
     ]
    },
    {
     "name": "stderr",
     "output_type": "stream",
     "text": [
      " 91%|█████████ | 1365/1507 [1:06:48<07:02,  2.97s/it]"
     ]
    },
    {
     "name": "stdout",
     "output_type": "stream",
     "text": [
      "ID: TEST_1364 Question: 기사에서 언급된 압구정동 아파트 매입자의 나이는 Generated answer: 17세 청소년 E\n"
     ]
    },
    {
     "name": "stderr",
     "output_type": "stream",
     "text": [
      " 91%|█████████ | 1366/1507 [1:06:49<06:00,  2.56s/it]"
     ]
    },
    {
     "name": "stdout",
     "output_type": "stream",
     "text": [
      "ID: TEST_1365 Question: 닥터그린' 출시일 Generated answer: 22일 차 연관 신제품 출시 지원을 받은 보성녹차 추출물 손 소독제'닥터그린'이 출시됐다고 24일\n"
     ]
    },
    {
     "name": "stderr",
     "output_type": "stream",
     "text": [
      " 91%|█████████ | 1367/1507 [1:06:51<05:08,  2.21s/it]"
     ]
    },
    {
     "name": "stdout",
     "output_type": "stream",
     "text": [
      "ID: TEST_1366 Question: 닥터그린'의 항균효과 Generated answer: 향균효과\n"
     ]
    },
    {
     "name": "stderr",
     "output_type": "stream",
     "text": [
      " 91%|█████████ | 1368/1507 [1:06:52<04:23,  1.90s/it]"
     ]
    },
    {
     "name": "stdout",
     "output_type": "stream",
     "text": [
      "ID: TEST_1367 Question: 닥터그린' 냄새 완화 성분 Generated answer: 에탄올 성분\n"
     ]
    },
    {
     "name": "stderr",
     "output_type": "stream",
     "text": [
      " 91%|█████████ | 1369/1507 [1:06:53<03:49,  1.66s/it]"
     ]
    },
    {
     "name": "stdout",
     "output_type": "stream",
     "text": [
      "ID: TEST_1368 Question: 닥터그린' 개발 기구 Generated answer: 전남농업기술원 차산업연구소\n"
     ]
    },
    {
     "name": "stderr",
     "output_type": "stream",
     "text": [
      " 91%|█████████ | 1370/1507 [1:06:54<03:12,  1.40s/it]"
     ]
    },
    {
     "name": "stdout",
     "output_type": "stream",
     "text": [
      "ID: TEST_1369 Question: 닥터그린' 유통망 Generated answer: 농협 유통망을 통해 전국 하나로마트, 농협은행, 학교, 교육청, 지역복지관 등에 우선 공급할 예정이다.\n"
     ]
    },
    {
     "name": "stderr",
     "output_type": "stream",
     "text": [
      " 91%|█████████ | 1371/1507 [1:06:57<04:16,  1.89s/it]"
     ]
    },
    {
     "name": "stdout",
     "output_type": "stream",
     "text": [
      "ID: TEST_1370 Question: 현대차의 3분기 매출액 증가율은 Generated answer: 2. 3 %\n"
     ]
    },
    {
     "name": "stderr",
     "output_type": "stream",
     "text": [
      " 91%|█████████ | 1372/1507 [1:07:00<05:01,  2.23s/it]"
     ]
    },
    {
     "name": "stdout",
     "output_type": "stream",
     "text": [
      "ID: TEST_1371 Question: 전동킥보드 이용 가능 연령은 몇 세로 낮아졌나 Generated answer: 13세로\n"
     ]
    },
    {
     "name": "stderr",
     "output_type": "stream",
     "text": [
      " 91%|█████████ | 1373/1507 [1:07:03<05:41,  2.55s/it]"
     ]
    },
    {
     "name": "stdout",
     "output_type": "stream",
     "text": [
      "ID: TEST_1372 Question: 한국교총은 어떤 단체인가 Generated answer: 한국교원단체총연합회\n"
     ]
    },
    {
     "name": "stderr",
     "output_type": "stream",
     "text": [
      " 91%|█████████ | 1374/1507 [1:07:07<06:08,  2.77s/it]"
     ]
    },
    {
     "name": "stdout",
     "output_type": "stream",
     "text": [
      "ID: TEST_1373 Question: 전동킥보드 관련 사고가 가장 많았던 해는 언제인가 Generated answer: 2017년 11건\n"
     ]
    },
    {
     "name": "stderr",
     "output_type": "stream",
     "text": [
      " 91%|█████████ | 1375/1507 [1:07:11<07:09,  3.26s/it]"
     ]
    },
    {
     "name": "stdout",
     "output_type": "stream",
     "text": [
      "ID: TEST_1374 Question: 지난 3~8월 서울시 전동킥보드 총 이용 건수는 몇 만 건인가 Generated answer: 1519만건\n"
     ]
    },
    {
     "name": "stderr",
     "output_type": "stream",
     "text": [
      " 91%|█████████▏| 1376/1507 [1:07:14<07:11,  3.29s/it]"
     ]
    },
    {
     "name": "stdout",
     "output_type": "stream",
     "text": [
      "ID: TEST_1375 Question: 교육계가 촉구하는 조치 중 하나는 무엇인가 Generated answer: 전동킥보드 면허제 도입\n"
     ]
    },
    {
     "name": "stderr",
     "output_type": "stream",
     "text": [
      " 91%|█████████▏| 1377/1507 [1:07:17<06:50,  3.15s/it]"
     ]
    },
    {
     "name": "stdout",
     "output_type": "stream",
     "text": [
      "ID: TEST_1376 Question: 쌍용차가 유동부채가 유동자산을 초과한 금액은 Generated answer: 4480억원\n"
     ]
    },
    {
     "name": "stderr",
     "output_type": "stream",
     "text": [
      " 91%|█████████▏| 1378/1507 [1:07:19<05:43,  2.66s/it]"
     ]
    },
    {
     "name": "stdout",
     "output_type": "stream",
     "text": [
      "ID: TEST_1377 Question: 문재인 대통령이 A군에게 보낸 편지 분량 Generated answer: 약 460자\n"
     ]
    },
    {
     "name": "stderr",
     "output_type": "stream",
     "text": [
      " 92%|█████████▏| 1379/1507 [1:07:21<05:22,  2.52s/it]"
     ]
    },
    {
     "name": "stdout",
     "output_type": "stream",
     "text": [
      "ID: TEST_1378 Question: 형 이씨가 편지를 받아본 날짜 Generated answer: 8일 )\n"
     ]
    },
    {
     "name": "stderr",
     "output_type": "stream",
     "text": [
      " 92%|█████████▏| 1380/1507 [1:07:23<05:05,  2.40s/it]"
     ]
    },
    {
     "name": "stdout",
     "output_type": "stream",
     "text": [
      "ID: TEST_1379 Question: A군의 아버지 나이 Generated answer: 고등학생 아들 A군에게 보냈다는 답장 내용이다.\n"
     ]
    },
    {
     "name": "stderr",
     "output_type": "stream",
     "text": [
      " 92%|█████████▏| 1381/1507 [1:07:24<04:21,  2.07s/it]"
     ]
    },
    {
     "name": "stdout",
     "output_type": "stream",
     "text": [
      "ID: TEST_1380 Question: A군이 편지를 보낸 날짜 Generated answer: 8일 )\n"
     ]
    },
    {
     "name": "stderr",
     "output_type": "stream",
     "text": [
      " 92%|█████████▏| 1382/1507 [1:07:26<04:19,  2.08s/it]"
     ]
    },
    {
     "name": "stdout",
     "output_type": "stream",
     "text": [
      "ID: TEST_1381 Question: 기자회견 장소 Generated answer: 해양경찰청 앞\n"
     ]
    },
    {
     "name": "stderr",
     "output_type": "stream",
     "text": [
      " 92%|█████████▏| 1383/1507 [1:07:30<05:02,  2.44s/it]"
     ]
    },
    {
     "name": "stdout",
     "output_type": "stream",
     "text": [
      "ID: TEST_1382 Question: 천연가스를 액체로 만들면 부피가 몇 분의 몇로 줄어드는가 Generated answer: 600분의 1\n"
     ]
    },
    {
     "name": "stderr",
     "output_type": "stream",
     "text": [
      " 92%|█████████▏| 1384/1507 [1:07:33<05:31,  2.70s/it]"
     ]
    },
    {
     "name": "stdout",
     "output_type": "stream",
     "text": [
      "ID: TEST_1383 Question: LNG가 기체로 바뀌는 온도 Generated answer: - 162℃\n"
     ]
    },
    {
     "name": "stderr",
     "output_type": "stream",
     "text": [
      " 92%|█████████▏| 1385/1507 [1:07:36<05:39,  2.79s/it]"
     ]
    },
    {
     "name": "stdout",
     "output_type": "stream",
     "text": [
      "ID: TEST_1384 Question: 한국초저온이 상반기에 가동한 물류센터 위치 Generated answer: 경기 평택에 초저온 물류센터\n"
     ]
    },
    {
     "name": "stderr",
     "output_type": "stream",
     "text": [
      " 92%|█████████▏| 1386/1507 [1:07:39<05:42,  2.83s/it]"
     ]
    },
    {
     "name": "stdout",
     "output_type": "stream",
     "text": [
      "ID: TEST_1385 Question: 태경케미칼 주가가 13일에 마감된 가격 Generated answer: 2만2200원\n"
     ]
    },
    {
     "name": "stderr",
     "output_type": "stream",
     "text": [
      " 92%|█████████▏| 1387/1507 [1:07:42<05:41,  2.85s/it]"
     ]
    },
    {
     "name": "stdout",
     "output_type": "stream",
     "text": [
      "ID: TEST_1386 Question: 드라이아이스 평균 가격이 오른 년도 Generated answer: 2018년 )\n"
     ]
    },
    {
     "name": "stderr",
     "output_type": "stream",
     "text": [
      " 92%|█████████▏| 1388/1507 [1:07:46<06:33,  3.31s/it]"
     ]
    },
    {
     "name": "stdout",
     "output_type": "stream",
     "text": [
      "ID: TEST_1387 Question: 2018년에 서울시가 국토교통부에 제출한 대책 명칭 Generated answer: 녹색교통지역 특별종합대책\n"
     ]
    },
    {
     "name": "stderr",
     "output_type": "stream",
     "text": [
      " 92%|█████████▏| 1389/1507 [1:07:49<06:14,  3.18s/it]"
     ]
    },
    {
     "name": "stdout",
     "output_type": "stream",
     "text": [
      "ID: TEST_1388 Question: 용담댐이 초당 최대 방류한 물의 양은 Generated answer: 2865t\n"
     ]
    },
    {
     "name": "stderr",
     "output_type": "stream",
     "text": [
      " 92%|█████████▏| 1390/1507 [1:07:52<05:54,  3.03s/it]"
     ]
    },
    {
     "name": "stdout",
     "output_type": "stream",
     "text": [
      "ID: TEST_1389 Question: 부리면과 제원면 주민들이 대피한 장소는 Generated answer: 제원초등학교와 마을회관\n"
     ]
    },
    {
     "name": "stderr",
     "output_type": "stream",
     "text": [
      " 92%|█████████▏| 1391/1507 [1:07:55<05:58,  3.09s/it]"
     ]
    },
    {
     "name": "stdout",
     "output_type": "stream",
     "text": [
      "ID: TEST_1390 Question: 옥천군에서 농경지 피해 면적은 Generated answer: 25. 2㏊\n"
     ]
    },
    {
     "name": "stderr",
     "output_type": "stream",
     "text": [
      " 92%|█████████▏| 1392/1507 [1:07:58<06:02,  3.15s/it]"
     ]
    },
    {
     "name": "stdout",
     "output_type": "stream",
     "text": [
      "ID: TEST_1391 Question: 금산군 단수 지역 중 하나는 Generated answer: 금성면 · 군북면 · 추부면 · 진산면 · 복수면\n"
     ]
    },
    {
     "name": "stderr",
     "output_type": "stream",
     "text": [
      " 92%|█████████▏| 1393/1507 [1:08:02<06:04,  3.19s/it]"
     ]
    },
    {
     "name": "stdout",
     "output_type": "stream",
     "text": [
      "ID: TEST_1392 Question: 대청댐이 초당 3000t의 물을 방류한 마지막 해는 Generated answer: 1999년 이후 21년\n"
     ]
    },
    {
     "name": "stderr",
     "output_type": "stream",
     "text": [
      " 93%|█████████▎| 1394/1507 [1:08:04<05:41,  3.02s/it]"
     ]
    },
    {
     "name": "stdout",
     "output_type": "stream",
     "text": [
      "ID: TEST_1393 Question: 개혁위원회가 비공개 내부 규정 공개를 권고한 기관은 Generated answer: 법무부 · 대검찰청\n"
     ]
    },
    {
     "name": "stderr",
     "output_type": "stream",
     "text": [
      " 93%|█████████▎| 1395/1507 [1:08:07<05:34,  2.99s/it]"
     ]
    },
    {
     "name": "stdout",
     "output_type": "stream",
     "text": [
      "ID: TEST_1394 Question: 개혁위원회가 공식 활동을 종료한 날은 Generated answer: 9월30일\n"
     ]
    },
    {
     "name": "stderr",
     "output_type": "stream",
     "text": [
      " 93%|█████████▎| 1396/1507 [1:08:10<05:41,  3.08s/it]"
     ]
    },
    {
     "name": "stdout",
     "output_type": "stream",
     "text": [
      "ID: TEST_1395 Question: 개혁위원회가 검찰권 분산을 언급하며 지적한 현재 운영 원리는 Generated answer: 집중과 상명하복의 원리\n"
     ]
    },
    {
     "name": "stderr",
     "output_type": "stream",
     "text": [
      " 93%|█████████▎| 1397/1507 [1:08:13<05:10,  2.82s/it]"
     ]
    },
    {
     "name": "stdout",
     "output_type": "stream",
     "text": [
      "ID: TEST_1396 Question: 법무부 정부과천청사에서 열린 회의 차수는 Generated answer: 50차 회의\n"
     ]
    },
    {
     "name": "stderr",
     "output_type": "stream",
     "text": [
      " 93%|█████████▎| 1398/1507 [1:08:16<05:22,  2.96s/it]"
     ]
    },
    {
     "name": "stdout",
     "output_type": "stream",
     "text": [
      "ID: TEST_1397 Question: 채널A 의혹과 관련된 대검의 회의 명칭은 Generated answer: 전문수사자문단\n"
     ]
    },
    {
     "name": "stderr",
     "output_type": "stream",
     "text": [
      " 93%|█████████▎| 1399/1507 [1:08:19<05:30,  3.06s/it]"
     ]
    },
    {
     "name": "stdout",
     "output_type": "stream",
     "text": [
      "ID: TEST_1398 Question: 보령 대천해수욕장이 긴급 폐장한 날짜 Generated answer: 23일 0시\n"
     ]
    },
    {
     "name": "stderr",
     "output_type": "stream",
     "text": [
      " 93%|█████████▎| 1400/1507 [1:08:22<05:31,  3.10s/it]"
     ]
    },
    {
     "name": "stdout",
     "output_type": "stream",
     "text": [
      "ID: TEST_1399 Question: 태안 만리포해수욕장이 조기 폐장한 날짜 Generated answer: 지난 16일\n"
     ]
    },
    {
     "name": "stderr",
     "output_type": "stream",
     "text": [
      " 93%|█████████▎| 1401/1507 [1:08:25<05:03,  2.87s/it]"
     ]
    },
    {
     "name": "stdout",
     "output_type": "stream",
     "text": [
      "ID: TEST_1400 Question: 제주도의 해수욕장이 긴급 폐장한 날짜 Generated answer: 23일 0시\n"
     ]
    },
    {
     "name": "stderr",
     "output_type": "stream",
     "text": [
      " 93%|█████████▎| 1402/1507 [1:08:28<05:14,  2.99s/it]"
     ]
    },
    {
     "name": "stdout",
     "output_type": "stream",
     "text": [
      "ID: TEST_1401 Question: 경남지역 해수욕장이 모두 폐장한 마지막 날짜 Generated answer: 22일을\n"
     ]
    },
    {
     "name": "stderr",
     "output_type": "stream",
     "text": [
      " 93%|█████████▎| 1403/1507 [1:08:31<05:15,  3.03s/it]"
     ]
    },
    {
     "name": "stdout",
     "output_type": "stream",
     "text": [
      "ID: TEST_1402 Question: 완도 신지명사립리가 운영을 중단한 날짜 Generated answer: 지난 20일\n"
     ]
    },
    {
     "name": "stderr",
     "output_type": "stream",
     "text": [
      " 93%|█████████▎| 1404/1507 [1:08:35<05:33,  3.24s/it]"
     ]
    },
    {
     "name": "stdout",
     "output_type": "stream",
     "text": [
      "ID: TEST_1403 Question: 삼례문화예술촌의 책공방을 운영했던 수탁기관의 이름은 Generated answer: 아트네트웍스\n"
     ]
    },
    {
     "name": "stderr",
     "output_type": "stream",
     "text": [
      " 93%|█████████▎| 1405/1507 [1:08:38<05:21,  3.15s/it]"
     ]
    },
    {
     "name": "stdout",
     "output_type": "stream",
     "text": [
      "ID: TEST_1404 Question: 완주군 직영 체제로 바뀌는 해는 Generated answer: 삼례문화예술촌\n"
     ]
    },
    {
     "name": "stderr",
     "output_type": "stream",
     "text": [
      " 93%|█████████▎| 1406/1507 [1:08:41<05:27,  3.24s/it]"
     ]
    },
    {
     "name": "stdout",
     "output_type": "stream",
     "text": [
      "ID: TEST_1405 Question: 김진섭 대표가 운영했던 사업은 Generated answer: 책공방\n"
     ]
    },
    {
     "name": "stderr",
     "output_type": "stream",
     "text": [
      " 93%|█████████▎| 1407/1507 [1:08:46<05:58,  3.59s/it]"
     ]
    },
    {
     "name": "stdout",
     "output_type": "stream",
     "text": [
      "ID: TEST_1406 Question: 박성일 완주군수가 주장한 클러스터 부지는 Generated answer: 전북혁신도시\n"
     ]
    },
    {
     "name": "stderr",
     "output_type": "stream",
     "text": [
      " 93%|█████████▎| 1408/1507 [1:08:49<06:02,  3.66s/it]"
     ]
    },
    {
     "name": "stdout",
     "output_type": "stream",
     "text": [
      "ID: TEST_1407 Question: 윤수봉 완주군의원의 지역구는 Generated answer: 삼례 - 이서\n"
     ]
    },
    {
     "name": "stderr",
     "output_type": "stream",
     "text": [
      " 93%|█████████▎| 1409/1507 [1:08:52<05:32,  3.39s/it]"
     ]
    },
    {
     "name": "stdout",
     "output_type": "stream",
     "text": [
      "ID: TEST_1408 Question: 자급 단말로 LTE 서비스 신규 가입이 가능해지는 날짜 Generated answer: 20일 “ 5G\n"
     ]
    },
    {
     "name": "stderr",
     "output_type": "stream",
     "text": [
      " 94%|█████████▎| 1410/1507 [1:08:55<05:26,  3.36s/it]"
     ]
    },
    {
     "name": "stdout",
     "output_type": "stream",
     "text": [
      "ID: TEST_1409 Question: LG유플러스가 LTE 요금제 적용을 시작하는 날짜 Generated answer: 오는 28일\n"
     ]
    },
    {
     "name": "stderr",
     "output_type": "stream",
     "text": [
      " 94%|█████████▎| 1411/1507 [1:08:59<05:20,  3.34s/it]"
     ]
    },
    {
     "name": "stdout",
     "output_type": "stream",
     "text": [
      "ID: TEST_1410 Question: 유심을 바꿔 끼우는 문제 중 하나 Generated answer: 요금제 변경에 대한 위약금\n"
     ]
    },
    {
     "name": "stderr",
     "output_type": "stream",
     "text": [
      " 94%|█████████▎| 1412/1507 [1:09:02<05:16,  3.33s/it]"
     ]
    },
    {
     "name": "stdout",
     "output_type": "stream",
     "text": [
      "ID: TEST_1411 Question: 정지연 한국소비자연맹의 직위 Generated answer: 정지연 한국소비자연맹 사무총장\n"
     ]
    },
    {
     "name": "stderr",
     "output_type": "stream",
     "text": [
      " 94%|█████████▍| 1413/1507 [1:09:05<05:11,  3.32s/it]"
     ]
    },
    {
     "name": "stdout",
     "output_type": "stream",
     "text": [
      "ID: TEST_1412 Question: 단말기 유통 구조의 예상 변화 Generated answer: 투명해지\n"
     ]
    },
    {
     "name": "stderr",
     "output_type": "stream",
     "text": [
      " 94%|█████████▍| 1414/1507 [1:09:09<05:07,  3.31s/it]"
     ]
    },
    {
     "name": "stdout",
     "output_type": "stream",
     "text": [
      "ID: TEST_1413 Question: 경기동행지수 순환변동치가 가장 높았던 해? Generated answer: 2018년 1월 경기동행지수 순환변동치는 101. 8에서 올해 6월 93. 0으로 떨어졌다. 제조업 · 서비스업 등 산업 분야 생산 활동을 보여주는 전산업생산지수도 2018년\n"
     ]
    },
    {
     "name": "stderr",
     "output_type": "stream",
     "text": [
      " 94%|█████████▍| 1415/1507 [1:09:12<05:01,  3.28s/it]"
     ]
    },
    {
     "name": "stdout",
     "output_type": "stream",
     "text": [
      "ID: TEST_1414 Question: 공매도 금지 조치가 시행된 시작 월? Generated answer: 3월16일\n"
     ]
    },
    {
     "name": "stderr",
     "output_type": "stream",
     "text": [
      " 94%|█████████▍| 1416/1507 [1:09:14<04:31,  2.99s/it]"
     ]
    },
    {
     "name": "stdout",
     "output_type": "stream",
     "text": [
      "ID: TEST_1415 Question: 전산업생산지수가 가장 높았던 해? Generated answer: 2018년 107. 4\n"
     ]
    },
    {
     "name": "stderr",
     "output_type": "stream",
     "text": [
      " 94%|█████████▍| 1417/1507 [1:09:17<04:36,  3.07s/it]"
     ]
    },
    {
     "name": "stdout",
     "output_type": "stream",
     "text": [
      "ID: TEST_1416 Question: 최근 주가지수가 가장 높았던 월? Generated answer: 7월 2249. 37\n"
     ]
    },
    {
     "name": "stderr",
     "output_type": "stream",
     "text": [
      " 94%|█████████▍| 1418/1507 [1:09:20<04:13,  2.85s/it]"
     ]
    },
    {
     "name": "stdout",
     "output_type": "stream",
     "text": [
      "ID: TEST_1417 Question: 프랑스를 포함한 공매도 금지 해제한 국가 수? Generated answer: 6개국\n"
     ]
    },
    {
     "name": "stderr",
     "output_type": "stream",
     "text": [
      " 94%|█████████▍| 1419/1507 [1:09:23<04:19,  2.95s/it]"
     ]
    },
    {
     "name": "stdout",
     "output_type": "stream",
     "text": [
      "ID: TEST_1418 Question: 시금치 가격이 오른 비율 Generated answer: 16. 2 %\n"
     ]
    },
    {
     "name": "stderr",
     "output_type": "stream",
     "text": [
      " 94%|█████████▍| 1420/1507 [1:09:26<04:25,  3.05s/it]"
     ]
    },
    {
     "name": "stdout",
     "output_type": "stream",
     "text": [
      "ID: TEST_1419 Question: 깐마늘 1㎏ 가격 Generated answer: 9841원\n"
     ]
    },
    {
     "name": "stderr",
     "output_type": "stream",
     "text": [
      " 94%|█████████▍| 1421/1507 [1:09:30<04:28,  3.13s/it]"
     ]
    },
    {
     "name": "stdout",
     "output_type": "stream",
     "text": [
      "ID: TEST_1420 Question: 풀무원 국산 콩두부 무게 Generated answer: 300g ) 의 시장 가격은 4000원대 후반\n"
     ]
    },
    {
     "name": "stderr",
     "output_type": "stream",
     "text": [
      " 94%|█████████▍| 1422/1507 [1:09:33<04:30,  3.18s/it]"
     ]
    },
    {
     "name": "stdout",
     "output_type": "stream",
     "text": [
      "ID: TEST_1421 Question: 달걀 한판 소비자 가격 날짜 Generated answer: 11일 기준 6106원\n"
     ]
    },
    {
     "name": "stderr",
     "output_type": "stream",
     "text": [
      " 94%|█████████▍| 1423/1507 [1:09:36<04:30,  3.22s/it]"
     ]
    },
    {
     "name": "stdout",
     "output_type": "stream",
     "text": [
      "ID: TEST_1422 Question: 닭고기 소매가격 증가율 Generated answer: 5652원\n"
     ]
    },
    {
     "name": "stderr",
     "output_type": "stream",
     "text": [
      " 94%|█████████▍| 1424/1507 [1:09:39<04:23,  3.18s/it]"
     ]
    },
    {
     "name": "stdout",
     "output_type": "stream",
     "text": [
      "ID: TEST_1423 Question: 이재용의 나이는 Generated answer: 이재용 ( 52\n"
     ]
    },
    {
     "name": "stderr",
     "output_type": "stream",
     "text": [
      " 95%|█████████▍| 1425/1507 [1:09:42<04:02,  2.95s/it]"
     ]
    },
    {
     "name": "stdout",
     "output_type": "stream",
     "text": [
      "ID: TEST_1424 Question: 재판부 기피 신청 이후 열린 이재용의 첫 공판 날짜는 Generated answer: 9일 서울고법 형사1부\n"
     ]
    },
    {
     "name": "stderr",
     "output_type": "stream",
     "text": [
      " 95%|█████████▍| 1426/1507 [1:09:45<04:00,  2.97s/it]"
     ]
    },
    {
     "name": "stdout",
     "output_type": "stream",
     "text": [
      "ID: TEST_1425 Question: 홍순탁 회계사가 소속된 단체는 Generated answer: 참여연대는 준법감시제도를 양형 사유로 고려하는 것 자체를 반대했으며 삼성에 대한 부정적 의견을 수차 드러냈다는 것이다.\n"
     ]
    },
    {
     "name": "stderr",
     "output_type": "stream",
     "text": [
      " 95%|█████████▍| 1427/1507 [1:09:47<03:46,  2.83s/it]"
     ]
    },
    {
     "name": "stdout",
     "output_type": "stream",
     "text": [
      "ID: TEST_1426 Question: 김경수 변호사가 속한 법무법인은 Generated answer: 율촌의\n"
     ]
    },
    {
     "name": "stderr",
     "output_type": "stream",
     "text": [
      " 95%|█████████▍| 1428/1507 [1:09:50<03:53,  2.96s/it]"
     ]
    },
    {
     "name": "stdout",
     "output_type": "stream",
     "text": [
      "ID: TEST_1427 Question: 전문심리위원단이 직무수행 중 가질 지위는 Generated answer: 공무원의 지위\n"
     ]
    },
    {
     "name": "stderr",
     "output_type": "stream",
     "text": [
      " 95%|█████████▍| 1429/1507 [1:09:53<03:31,  2.71s/it]"
     ]
    },
    {
     "name": "stdout",
     "output_type": "stream",
     "text": [
      "ID: TEST_1428 Question: 이마트가 버섯 매장을 개편하게 된 고객 의견 비율 Generated answer: 22. 3 % 였으며, 버섯 요리에 대한 설명이 부족하다는 답변도 16. 9 % 로 나타났다. 이에 이마트는 고객의 의견을 반영하여 버섯 매장을'고객 관점\n"
     ]
    },
    {
     "name": "stderr",
     "output_type": "stream",
     "text": [
      " 95%|█████████▍| 1430/1507 [1:09:54<02:54,  2.26s/it]"
     ]
    },
    {
     "name": "stdout",
     "output_type": "stream",
     "text": [
      "ID: TEST_1429 Question: 버섯 요리에 대한 설명이 부족하다는 고객 의견 비율 Generated answer: 16. 9 %\n"
     ]
    },
    {
     "name": "stderr",
     "output_type": "stream",
     "text": [
      " 95%|█████████▍| 1431/1507 [1:09:56<02:50,  2.24s/it]"
     ]
    },
    {
     "name": "stdout",
     "output_type": "stream",
     "text": [
      "ID: TEST_1430 Question: 기존 이마트에서 판매하던 버섯 품종 개수 Generated answer: 10종의\n"
     ]
    },
    {
     "name": "stderr",
     "output_type": "stream",
     "text": [
      " 95%|█████████▌| 1432/1507 [1:09:59<03:07,  2.50s/it]"
     ]
    },
    {
     "name": "stdout",
     "output_type": "stream",
     "text": [
      "ID: TEST_1431 Question: 품종 다양화 이후 이마트에서 판매하는 송이버섯 품종 개수 Generated answer: 20종의 버섯을 운영 중이다. 송이버섯만 해도 양송이, 새송이, 해송이, 이슬송이, 참송이 등 5가지\n"
     ]
    },
    {
     "name": "stderr",
     "output_type": "stream",
     "text": [
      " 95%|█████████▌| 1433/1507 [1:10:01<02:44,  2.23s/it]"
     ]
    },
    {
     "name": "stdout",
     "output_type": "stream",
     "text": [
      "ID: TEST_1432 Question: 해송이버섯의 매출 상승률 Generated answer: 156. 1 %\n"
     ]
    },
    {
     "name": "stderr",
     "output_type": "stream",
     "text": [
      " 95%|█████████▌| 1434/1507 [1:10:05<03:23,  2.79s/it]"
     ]
    },
    {
     "name": "stdout",
     "output_type": "stream",
     "text": [
      "ID: TEST_1433 Question: 3분기 실질 국내총생산(GDP) 증가율은 Generated answer: 1. 9 %\n"
     ]
    },
    {
     "name": "stderr",
     "output_type": "stream",
     "text": [
      " 95%|█████████▌| 1435/1507 [1:10:09<03:44,  3.12s/it]"
     ]
    },
    {
     "name": "stdout",
     "output_type": "stream",
     "text": [
      "ID: TEST_1434 Question: 3분기 수출 증가율은 Generated answer: 15. 6 %\n"
     ]
    },
    {
     "name": "stderr",
     "output_type": "stream",
     "text": [
      " 95%|█████████▌| 1436/1507 [1:10:13<03:56,  3.34s/it]"
     ]
    },
    {
     "name": "stdout",
     "output_type": "stream",
     "text": [
      "ID: TEST_1435 Question: 3분기 순수출의 성장 기여도는 Generated answer: 3. 7 % 포인트\n"
     ]
    },
    {
     "name": "stderr",
     "output_type": "stream",
     "text": [
      " 95%|█████████▌| 1437/1507 [1:10:17<04:15,  3.65s/it]"
     ]
    },
    {
     "name": "stdout",
     "output_type": "stream",
     "text": [
      "ID: TEST_1436 Question: 8~9월 코로나19 재확산 영향으로 감소한 3분기 성장률은 Generated answer: 1. 9 %\n"
     ]
    },
    {
     "name": "stderr",
     "output_type": "stream",
     "text": [
      " 95%|█████████▌| 1438/1507 [1:10:21<04:27,  3.88s/it]"
     ]
    },
    {
     "name": "stdout",
     "output_type": "stream",
     "text": [
      "ID: TEST_1437 Question: 한은의 올해 성장률 전망치는 Generated answer: - 1. 3 %\n"
     ]
    },
    {
     "name": "stderr",
     "output_type": "stream",
     "text": [
      " 95%|█████████▌| 1439/1507 [1:10:25<04:11,  3.70s/it]"
     ]
    },
    {
     "name": "stdout",
     "output_type": "stream",
     "text": [
      "ID: TEST_1438 Question: 대한적십자사가 헌혈자 명단을 비교하는 기관은 Generated answer: 중앙재난안전대책본부\n"
     ]
    },
    {
     "name": "stderr",
     "output_type": "stream",
     "text": [
      " 96%|█████████▌| 1440/1507 [1:10:28<04:00,  3.58s/it]"
     ]
    },
    {
     "name": "stdout",
     "output_type": "stream",
     "text": [
      "ID: TEST_1439 Question: 미국 대선이 열리는 날짜는 Generated answer: 오는 3일\n"
     ]
    },
    {
     "name": "stderr",
     "output_type": "stream",
     "text": [
      " 96%|█████████▌| 1441/1507 [1:10:31<03:50,  3.50s/it]"
     ]
    },
    {
     "name": "stdout",
     "output_type": "stream",
     "text": [
      "ID: TEST_1440 Question: 트럼프 대통령이 선호하는 대북 접근 방식은 Generated answer: ‘ 톱다운\n"
     ]
    },
    {
     "name": "stderr",
     "output_type": "stream",
     "text": [
      " 96%|█████████▌| 1442/1507 [1:10:35<03:43,  3.43s/it]"
     ]
    },
    {
     "name": "stdout",
     "output_type": "stream",
     "text": [
      "ID: TEST_1441 Question: 한국 정부가 북핵 문제 돌파구로 여기는 인물은 Generated answer: 트럼프 대통령의 방식이 북핵 문제의 돌파구를 찾는 데 더 좋은 기회가 될 것으로 여긴다고 보도하면서다.\n"
     ]
    },
    {
     "name": "stderr",
     "output_type": "stream",
     "text": [
      " 96%|█████████▌| 1443/1507 [1:10:38<03:35,  3.36s/it]"
     ]
    },
    {
     "name": "stdout",
     "output_type": "stream",
     "text": [
      "ID: TEST_1442 Question: 트럼프 대통령의 이스라엘 정책을 칭송하는 국가는 Generated answer: 이스라엘 우파 정부는 2017년 취임 이후 꾸준히 ‘ 친 ( 親 ) 이스라엘\n"
     ]
    },
    {
     "name": "stderr",
     "output_type": "stream",
     "text": [
      " 96%|█████████▌| 1444/1507 [1:10:40<03:12,  3.05s/it]"
     ]
    },
    {
     "name": "stdout",
     "output_type": "stream",
     "text": [
      "ID: TEST_1443 Question: 유럽 중에서 트럼프 대통령을 지지하는 지역은 Generated answer: 서유럽, “ 트럼프가 답 ” 이라는 동유럽\n"
     ]
    },
    {
     "name": "stderr",
     "output_type": "stream",
     "text": [
      " 96%|█████████▌| 1445/1507 [1:10:43<03:10,  3.07s/it]"
     ]
    },
    {
     "name": "stdout",
     "output_type": "stream",
     "text": [
      "ID: TEST_1444 Question: 진용진이 영상에서 다룬 게임 종류 Generated answer: 마피아 게임을 하면 어떻게 될까?'라는 제목의 영상을 올렸다. 해당 영상은 17일 오후 2시 기준 조회 수 70만회를 기록했다. 게임 시작에 앞서 진씨는 \" 마피아\n"
     ]
    },
    {
     "name": "stderr",
     "output_type": "stream",
     "text": [
      " 96%|█████████▌| 1446/1507 [1:10:46<02:55,  2.87s/it]"
     ]
    },
    {
     "name": "stdout",
     "output_type": "stream",
     "text": [
      "ID: TEST_1445 Question: 해당 영상의 조회 수 Generated answer: 70만회\n"
     ]
    },
    {
     "name": "stderr",
     "output_type": "stream",
     "text": [
      " 96%|█████████▌| 1447/1507 [1:10:49<02:54,  2.91s/it]"
     ]
    },
    {
     "name": "stdout",
     "output_type": "stream",
     "text": [
      "ID: TEST_1446 Question: 게임에 참여한 사기 전과자 수 Generated answer: 4명이 가면을 쓰고 나온다. 이들은 본인을 각각'사기 폭행'' 보험 사기'' 온라인 사기'전과자라고 설명하며 \" 지금은 평범하게 살고 있다 \" 고 말한다.\n"
     ]
    },
    {
     "name": "stderr",
     "output_type": "stream",
     "text": [
      " 96%|█████████▌| 1448/1507 [1:10:52<02:54,  2.95s/it]"
     ]
    },
    {
     "name": "stdout",
     "output_type": "stream",
     "text": [
      "ID: TEST_1447 Question: 사기 전과자 중 복역한 사람의 형기 Generated answer: 사기죄로 2년\n"
     ]
    },
    {
     "name": "stderr",
     "output_type": "stream",
     "text": [
      " 96%|█████████▌| 1449/1507 [1:10:54<02:44,  2.84s/it]"
     ]
    },
    {
     "name": "stdout",
     "output_type": "stream",
     "text": [
      "ID: TEST_1448 Question: 댓글 수 Generated answer: 8000여개\n"
     ]
    },
    {
     "name": "stderr",
     "output_type": "stream",
     "text": [
      " 96%|█████████▌| 1450/1507 [1:10:55<02:06,  2.21s/it]"
     ]
    },
    {
     "name": "stdout",
     "output_type": "stream",
     "text": [
      "ID: TEST_1449 Question: 무안군이 지난해 수출한 양배추의 양 Generated answer: 1112톤\n"
     ]
    },
    {
     "name": "stderr",
     "output_type": "stream",
     "text": [
      " 96%|█████████▋| 1451/1507 [1:10:57<01:53,  2.03s/it]"
     ]
    },
    {
     "name": "stdout",
     "output_type": "stream",
     "text": [
      "ID: TEST_1450 Question: 무안군의 최대 수출시장 Generated answer: 동남아시아와 대만, 홍콩\n"
     ]
    },
    {
     "name": "stderr",
     "output_type": "stream",
     "text": [
      " 96%|█████████▋| 1452/1507 [1:10:58<01:36,  1.76s/it]"
     ]
    },
    {
     "name": "stdout",
     "output_type": "stream",
     "text": [
      "ID: TEST_1451 Question: 무안군이 농가와 업체에 지원한 수출물류비 Generated answer: 1억2500만원\n"
     ]
    },
    {
     "name": "stderr",
     "output_type": "stream",
     "text": [
      " 96%|█████████▋| 1453/1507 [1:10:59<01:30,  1.68s/it]"
     ]
    },
    {
     "name": "stdout",
     "output_type": "stream",
     "text": [
      "ID: TEST_1452 Question: 일본과 미국에 수출한 농산물 Generated answer: 무안김과 팽이버섯\n"
     ]
    },
    {
     "name": "stderr",
     "output_type": "stream",
     "text": [
      " 96%|█████████▋| 1454/1507 [1:11:00<01:19,  1.51s/it]"
     ]
    },
    {
     "name": "stdout",
     "output_type": "stream",
     "text": [
      "ID: TEST_1453 Question: 무안군이 수출한 전체 농산물의 양 Generated answer: 91 % 를\n"
     ]
    },
    {
     "name": "stderr",
     "output_type": "stream",
     "text": [
      " 97%|█████████▋| 1455/1507 [1:11:04<01:57,  2.25s/it]"
     ]
    },
    {
     "name": "stdout",
     "output_type": "stream",
     "text": [
      "ID: TEST_1454 Question: 부산시가 요구하는 특별법의 주요 내용 Generated answer: 동남권 관문공항의 조속한 건설\n"
     ]
    },
    {
     "name": "stderr",
     "output_type": "stream",
     "text": [
      " 97%|█████████▋| 1456/1507 [1:11:08<02:10,  2.56s/it]"
     ]
    },
    {
     "name": "stdout",
     "output_type": "stream",
     "text": [
      "ID: TEST_1455 Question: 산은이 현산의 아시아나항공 재실사 요청을 거절한 날짜 Generated answer: 아시아나항공 재실사 요청을 거절한 날짜\n"
     ]
    },
    {
     "name": "stderr",
     "output_type": "stream",
     "text": [
      " 97%|█████████▋| 1457/1507 [1:11:12<02:30,  3.02s/it]"
     ]
    },
    {
     "name": "stdout",
     "output_type": "stream",
     "text": [
      "ID: TEST_1456 Question: 현산이 매도자 측에 아시아나항공 재실사를 요구한 날짜 Generated answer: 지난달 26일\n"
     ]
    },
    {
     "name": "stderr",
     "output_type": "stream",
     "text": [
      " 97%|█████████▋| 1458/1507 [1:11:14<02:20,  2.87s/it]"
     ]
    },
    {
     "name": "stdout",
     "output_type": "stream",
     "text": [
      "ID: TEST_1457 Question: 매수자 측의 컨소시엄 구성 기업 중 하나 Generated answer: 현산 · 미래에셋대우\n"
     ]
    },
    {
     "name": "stderr",
     "output_type": "stream",
     "text": [
      " 97%|█████████▋| 1459/1507 [1:11:17<02:14,  2.81s/it]"
     ]
    },
    {
     "name": "stdout",
     "output_type": "stream",
     "text": [
      "ID: TEST_1458 Question: 최 부행장이 시정조치를 요구한 기한 Generated answer: 11일까지\n"
     ]
    },
    {
     "name": "stderr",
     "output_type": "stream",
     "text": [
      " 97%|█████████▋| 1460/1507 [1:11:20<02:12,  2.82s/it]"
     ]
    },
    {
     "name": "stdout",
     "output_type": "stream",
     "text": [
      "ID: TEST_1459 Question: 현산 측의 재실사 요청 기간 Generated answer: 12주간\n"
     ]
    },
    {
     "name": "stderr",
     "output_type": "stream",
     "text": [
      " 97%|█████████▋| 1461/1507 [1:11:22<02:01,  2.63s/it]"
     ]
    },
    {
     "name": "stdout",
     "output_type": "stream",
     "text": [
      "ID: TEST_1460 Question: 전남 브랜드관이 올해 몇 번째 수출을 진행했어 Generated answer: 10번째\n"
     ]
    },
    {
     "name": "stderr",
     "output_type": "stream",
     "text": [
      " 97%|█████████▋| 1462/1507 [1:11:24<01:52,  2.50s/it]"
     ]
    },
    {
     "name": "stdout",
     "output_type": "stream",
     "text": [
      "ID: TEST_1461 Question: 이번 선적식에서 수출된 제품 수는 Generated answer: 14개 기업 29개\n"
     ]
    },
    {
     "name": "stderr",
     "output_type": "stream",
     "text": [
      " 97%|█████████▋| 1463/1507 [1:11:26<01:46,  2.41s/it]"
     ]
    },
    {
     "name": "stdout",
     "output_type": "stream",
     "text": [
      "ID: TEST_1462 Question: 새로 입점한 제품 수는 Generated answer: 5개 제품\n"
     ]
    },
    {
     "name": "stderr",
     "output_type": "stream",
     "text": [
      " 97%|█████████▋| 1464/1507 [1:11:28<01:40,  2.35s/it]"
     ]
    },
    {
     "name": "stdout",
     "output_type": "stream",
     "text": [
      "ID: TEST_1463 Question: 도내 기업이 아마존 기준을 충족하면 수출 기회가 많아지는 나라는 Generated answer: 미국은 물론 제3국\n"
     ]
    },
    {
     "name": "stderr",
     "output_type": "stream",
     "text": [
      " 97%|█████████▋| 1465/1507 [1:11:31<01:42,  2.44s/it]"
     ]
    },
    {
     "name": "stdout",
     "output_type": "stream",
     "text": [
      "ID: TEST_1464 Question: 전남도 농수산수출팀 문의 전화번호는 Generated answer: 061 - 286 - 2461\n"
     ]
    },
    {
     "name": "stderr",
     "output_type": "stream",
     "text": [
      " 97%|█████████▋| 1466/1507 [1:11:34<01:50,  2.69s/it]"
     ]
    },
    {
     "name": "stdout",
     "output_type": "stream",
     "text": [
      "ID: TEST_1465 Question: 이동걸 산업은행 회장이 앞으로 집중하겠다고 밝힌 것은 Generated answer: 신산업 스케일업\n"
     ]
    },
    {
     "name": "stderr",
     "output_type": "stream",
     "text": [
      " 97%|█████████▋| 1467/1507 [1:11:37<01:49,  2.74s/it]"
     ]
    },
    {
     "name": "stdout",
     "output_type": "stream",
     "text": [
      "ID: TEST_1466 Question: 이 회장이 언급한 1960~70년대 정부가 육성한 산업은 Generated answer: 중화학 공업\n"
     ]
    },
    {
     "name": "stderr",
     "output_type": "stream",
     "text": [
      " 97%|█████████▋| 1468/1507 [1:11:41<01:53,  2.91s/it]"
     ]
    },
    {
     "name": "stdout",
     "output_type": "stream",
     "text": [
      "ID: TEST_1467 Question: 이 회장이 특히 초점을 맞추겠다고 한 것은 Generated answer: 유니콘 기업이 탄생할 수 있는 환경\n"
     ]
    },
    {
     "name": "stderr",
     "output_type": "stream",
     "text": [
      " 97%|█████████▋| 1469/1507 [1:11:44<01:53,  2.98s/it]"
     ]
    },
    {
     "name": "stdout",
     "output_type": "stream",
     "text": [
      "ID: TEST_1468 Question: 이 회장은 누구를 향해 노사 신뢰를 강조했나 Generated answer: 노조를 향해 \" 약속이 이행되지 않으면 조직의 고통이 더 커지고 회사는 회북 불가능 상태에 빠질 수도 있음을 깊이 헤아려달라 \" 며 \" 특히 노사 신뢰, 회사와 채권단\n"
     ]
    },
    {
     "name": "stderr",
     "output_type": "stream",
     "text": [
      " 98%|█████████▊| 1470/1507 [1:11:46<01:44,  2.81s/it]"
     ]
    },
    {
     "name": "stdout",
     "output_type": "stream",
     "text": [
      "ID: TEST_1469 Question: 이 회장이 연임 결정된 날은 Generated answer: 10일 저녁\n"
     ]
    },
    {
     "name": "stderr",
     "output_type": "stream",
     "text": [
      " 98%|█████████▊| 1471/1507 [1:11:50<01:57,  3.27s/it]"
     ]
    },
    {
     "name": "stdout",
     "output_type": "stream",
     "text": [
      "ID: TEST_1470 Question: 14일 0시 기준 코로나19 신규 환자 수는 Generated answer: 103명으로\n"
     ]
    },
    {
     "name": "stderr",
     "output_type": "stream",
     "text": [
      " 98%|█████████▊| 1472/1507 [1:11:54<02:01,  3.48s/it]"
     ]
    },
    {
     "name": "stdout",
     "output_type": "stream",
     "text": [
      "ID: TEST_1471 Question: 성북구 사랑제일교회 첫 확진 판정 교인 수는 Generated answer: 1명이\n"
     ]
    },
    {
     "name": "stderr",
     "output_type": "stream",
     "text": [
      " 98%|█████████▊| 1473/1507 [1:11:58<02:01,  3.56s/it]"
     ]
    },
    {
     "name": "stdout",
     "output_type": "stream",
     "text": [
      "ID: TEST_1472 Question: 우리제일교회 관련 경기지역 확진자 수는 Generated answer: 25명으로\n"
     ]
    },
    {
     "name": "stderr",
     "output_type": "stream",
     "text": [
      " 98%|█████████▊| 1474/1507 [1:12:02<01:57,  3.56s/it]"
     ]
    },
    {
     "name": "stdout",
     "output_type": "stream",
     "text": [
      "ID: TEST_1473 Question: 검사 중인 용인시 종교시설 수는 Generated answer: 754개\n"
     ]
    },
    {
     "name": "stderr",
     "output_type": "stream",
     "text": [
      " 98%|█████████▊| 1475/1507 [1:12:06<01:59,  3.73s/it]"
     ]
    },
    {
     "name": "stdout",
     "output_type": "stream",
     "text": [
      "ID: TEST_1474 Question: 폐쇄된 서울 통일상가 상인 검사 인원은 Generated answer: 416명\n"
     ]
    },
    {
     "name": "stderr",
     "output_type": "stream",
     "text": [
      " 98%|█████████▊| 1476/1507 [1:12:09<01:54,  3.68s/it]"
     ]
    },
    {
     "name": "stdout",
     "output_type": "stream",
     "text": [
      "ID: TEST_1475 Question: 경찰개혁위가 권고한 보안분실 이전 시기는 언제야 Generated answer: 2018년 6월\n"
     ]
    },
    {
     "name": "stderr",
     "output_type": "stream",
     "text": [
      " 98%|█████████▊| 1477/1507 [1:12:14<01:54,  3.82s/it]"
     ]
    },
    {
     "name": "stdout",
     "output_type": "stream",
     "text": [
      "ID: TEST_1476 Question: 경찰이 국정원 대공수사권 이관 시 당면한 과제는 무엇이야 Generated answer: 대공 수사의 투명성을 확보\n"
     ]
    },
    {
     "name": "stderr",
     "output_type": "stream",
     "text": [
      " 98%|█████████▊| 1478/1507 [1:12:18<01:53,  3.91s/it]"
     ]
    },
    {
     "name": "stdout",
     "output_type": "stream",
     "text": [
      "ID: TEST_1477 Question: 옛 치안본부 산하 대공분실이 개명된 시기는 언제야 Generated answer: 1991년 바꿔 단 간판이다. 옛 치안본부의 서울 용산구 남영동 대공분실에서는 1987년\n"
     ]
    },
    {
     "name": "stderr",
     "output_type": "stream",
     "text": [
      " 98%|█████████▊| 1479/1507 [1:12:21<01:46,  3.81s/it]"
     ]
    },
    {
     "name": "stdout",
     "output_type": "stream",
     "text": [
      "ID: TEST_1478 Question: 국정원이 유지하는 활동은 무엇이야 Generated answer: 대북 정보 수집과 방첩 활동\n"
     ]
    },
    {
     "name": "stderr",
     "output_type": "stream",
     "text": [
      " 98%|█████████▊| 1480/1507 [1:12:26<01:47,  3.98s/it]"
     ]
    },
    {
     "name": "stdout",
     "output_type": "stream",
     "text": [
      "ID: TEST_1479 Question: 문재인 대통령 대선 후보 시절 공약한 신규 기구는 무엇이야 Generated answer: 안보수사국\n"
     ]
    },
    {
     "name": "stderr",
     "output_type": "stream",
     "text": [
      " 98%|█████████▊| 1481/1507 [1:12:29<01:38,  3.78s/it]"
     ]
    },
    {
     "name": "stdout",
     "output_type": "stream",
     "text": [
      "ID: TEST_1480 Question: 사법행정자문회의의 정식 출범 연도는 Generated answer: 2019년 8월\n"
     ]
    },
    {
     "name": "stderr",
     "output_type": "stream",
     "text": [
      " 98%|█████████▊| 1482/1507 [1:12:32<01:27,  3.52s/it]"
     ]
    },
    {
     "name": "stdout",
     "output_type": "stream",
     "text": [
      "ID: TEST_1481 Question: 김명수 대법원장의 취임 시기는 Generated answer: 2017년 9월\n"
     ]
    },
    {
     "name": "stderr",
     "output_type": "stream",
     "text": [
      " 98%|█████████▊| 1483/1507 [1:12:34<01:17,  3.24s/it]"
     ]
    },
    {
     "name": "stdout",
     "output_type": "stream",
     "text": [
      "ID: TEST_1482 Question: 사법행정자문회의의 첫 회의가 열린 시기는 Generated answer: 2019년 8월\n"
     ]
    },
    {
     "name": "stderr",
     "output_type": "stream",
     "text": [
      " 98%|█████████▊| 1484/1507 [1:12:39<01:22,  3.58s/it]"
     ]
    },
    {
     "name": "stdout",
     "output_type": "stream",
     "text": [
      "ID: TEST_1483 Question: 대법원이 꼽은 주요 성과 중 고등법원 부장판사 전용 차량 배정기준 변경을 포함한 회의체는 Generated answer: 사법행정자문회의\n"
     ]
    },
    {
     "name": "stderr",
     "output_type": "stream",
     "text": [
      " 99%|█████████▊| 1485/1507 [1:12:42<01:16,  3.50s/it]"
     ]
    },
    {
     "name": "stdout",
     "output_type": "stream",
     "text": [
      "ID: TEST_1484 Question: 2019년 접수된 소송 건수는 전체 몇 건인지 Generated answer: 663만4344건\n"
     ]
    },
    {
     "name": "stderr",
     "output_type": "stream",
     "text": [
      " 99%|█████████▊| 1486/1507 [1:12:45<01:12,  3.44s/it]"
     ]
    },
    {
     "name": "stdout",
     "output_type": "stream",
     "text": [
      "ID: TEST_1485 Question: 특별방역 집중관리기간은 언제부터 언제까지야 Generated answer: 10월 4일\n"
     ]
    },
    {
     "name": "stderr",
     "output_type": "stream",
     "text": [
      " 99%|█████████▊| 1487/1507 [1:12:49<01:07,  3.39s/it]"
     ]
    },
    {
     "name": "stdout",
     "output_type": "stream",
     "text": [
      "ID: TEST_1486 Question: 제주도에 예상되는 관광객 수는 얼마야 Generated answer: 20만명\n"
     ]
    },
    {
     "name": "stderr",
     "output_type": "stream",
     "text": [
      " 99%|█████████▊| 1488/1507 [1:12:52<01:02,  3.29s/it]"
     ]
    },
    {
     "name": "stdout",
     "output_type": "stream",
     "text": [
      "ID: TEST_1487 Question: 마스크가 코로나19를 막기 위한 무엇으로 비유되었어 Generated answer: 최고의 백신\n"
     ]
    },
    {
     "name": "stderr",
     "output_type": "stream",
     "text": [
      " 99%|█████████▉| 1489/1507 [1:12:55<00:59,  3.32s/it]"
     ]
    },
    {
     "name": "stdout",
     "output_type": "stream",
     "text": [
      "ID: TEST_1488 Question: 집합금지 조치를 받은 유흥시설 종류는 몇 가지야 Generated answer: 5종 1379곳\n"
     ]
    },
    {
     "name": "stderr",
     "output_type": "stream",
     "text": [
      " 99%|█████████▉| 1490/1507 [1:12:58<00:54,  3.19s/it]"
     ]
    },
    {
     "name": "stdout",
     "output_type": "stream",
     "text": [
      "ID: TEST_1489 Question: 방역수칙 위반 시 관련 법률은 무엇이야 Generated answer: 감염병 예방 및 관리\n"
     ]
    },
    {
     "name": "stderr",
     "output_type": "stream",
     "text": [
      " 99%|█████████▉| 1491/1507 [1:12:59<00:40,  2.52s/it]"
     ]
    },
    {
     "name": "stdout",
     "output_type": "stream",
     "text": [
      "ID: TEST_1490 Question: GS칼텍스가 기증한 중고 물품의 수량 Generated answer: 2500만원\n"
     ]
    },
    {
     "name": "stderr",
     "output_type": "stream",
     "text": [
      " 99%|█████████▉| 1492/1507 [1:13:00<00:29,  1.98s/it]"
     ]
    },
    {
     "name": "stdout",
     "output_type": "stream",
     "text": [
      "ID: TEST_1491 Question: 행사에 참여한 단체 중 하나 Generated answer: 여수보육원과 여수YWCA\n"
     ]
    },
    {
     "name": "stderr",
     "output_type": "stream",
     "text": [
      " 99%|█████████▉| 1493/1507 [1:13:01<00:24,  1.72s/it]"
     ]
    },
    {
     "name": "stdout",
     "output_type": "stream",
     "text": [
      "ID: TEST_1492 Question: MFC 프로젝트에서 달성한 무재해 인시 Generated answer: 400만 인시\n"
     ]
    },
    {
     "name": "stderr",
     "output_type": "stream",
     "text": [
      " 99%|█████████▉| 1494/1507 [1:13:02<00:20,  1.56s/it]"
     ]
    },
    {
     "name": "stdout",
     "output_type": "stream",
     "text": [
      "ID: TEST_1493 Question: 복지시설 요청으로 신규 구매해 전달된 물품의 종류 Generated answer: 메모리폼 토퍼 32점 등 일부 제품\n"
     ]
    },
    {
     "name": "stderr",
     "output_type": "stream",
     "text": [
      " 99%|█████████▉| 1495/1507 [1:13:03<00:16,  1.40s/it]"
     ]
    },
    {
     "name": "stdout",
     "output_type": "stream",
     "text": [
      "ID: TEST_1494 Question: 여수사랑상품권 지급 금액 Generated answer: 1억5000만원\n"
     ]
    },
    {
     "name": "stderr",
     "output_type": "stream",
     "text": [
      " 99%|█████████▉| 1496/1507 [1:13:06<00:21,  1.96s/it]"
     ]
    },
    {
     "name": "stdout",
     "output_type": "stream",
     "text": [
      "ID: TEST_1495 Question: 사고 지점 인근에 아파트 주차장 입구까지의 거리는 Generated answer: 20m 떨어진\n"
     ]
    },
    {
     "name": "stderr",
     "output_type": "stream",
     "text": [
      " 99%|█████████▉| 1497/1507 [1:13:11<00:26,  2.69s/it]"
     ]
    },
    {
     "name": "stdout",
     "output_type": "stream",
     "text": [
      "ID: TEST_1496 Question: 보령시에서 조성 중인 해변 둘레길의 이름 Generated answer: 천북굴따라길\n"
     ]
    },
    {
     "name": "stderr",
     "output_type": "stream",
     "text": [
      " 99%|█████████▉| 1498/1507 [1:13:15<00:27,  3.06s/it]"
     ]
    },
    {
     "name": "stdout",
     "output_type": "stream",
     "text": [
      "ID: TEST_1497 Question: 서산시가 추진 중인 산책로의 형태 Generated answer: 데크길 형태\n"
     ]
    },
    {
     "name": "stderr",
     "output_type": "stream",
     "text": [
      " 99%|█████████▉| 1499/1507 [1:13:18<00:26,  3.28s/it]"
     ]
    },
    {
     "name": "stdout",
     "output_type": "stream",
     "text": [
      "ID: TEST_1498 Question: 태안 롱비치 둘레길 제1코스의 테마 Generated answer: 봄맞이 향기길\n"
     ]
    },
    {
     "name": "stderr",
     "output_type": "stream",
     "text": [
      "100%|█████████▉| 1500/1507 [1:13:23<00:25,  3.63s/it]"
     ]
    },
    {
     "name": "stdout",
     "output_type": "stream",
     "text": [
      "ID: TEST_1499 Question: 가야산 등산로의 완공 목표 연도 Generated answer: 2022년 말\n"
     ]
    },
    {
     "name": "stderr",
     "output_type": "stream",
     "text": [
      "100%|█████████▉| 1501/1507 [1:13:27<00:22,  3.80s/it]"
     ]
    },
    {
     "name": "stdout",
     "output_type": "stream",
     "text": [
      "ID: TEST_1500 Question: 옥천군이 진행하는 축제의 온라인 판매 마감일 Generated answer: 지난달 24일\n"
     ]
    },
    {
     "name": "stderr",
     "output_type": "stream",
     "text": [
      "100%|█████████▉| 1502/1507 [1:13:29<00:16,  3.37s/it]"
     ]
    },
    {
     "name": "stdout",
     "output_type": "stream",
     "text": [
      "ID: TEST_1501 Question: 국방부가 자체적으로 거리두기 단계를 올린 지역들은 Generated answer: 수도권 · 강원\n"
     ]
    },
    {
     "name": "stderr",
     "output_type": "stream",
     "text": [
      "100%|█████████▉| 1503/1507 [1:13:34<00:14,  3.74s/it]"
     ]
    },
    {
     "name": "stdout",
     "output_type": "stream",
     "text": [
      "ID: TEST_1502 Question: 신월 배수 저류 터널의 총 길이는 Generated answer: 1. 3㎞\n"
     ]
    },
    {
     "name": "stderr",
     "output_type": "stream",
     "text": [
      "100%|█████████▉| 1504/1507 [1:13:39<00:11,  3.97s/it]"
     ]
    },
    {
     "name": "stdout",
     "output_type": "stream",
     "text": [
      "ID: TEST_1503 Question: 신월 배수 저류 터널의 지름은 Generated answer: 6. 5m\n"
     ]
    },
    {
     "name": "stderr",
     "output_type": "stream",
     "text": [
      "100%|█████████▉| 1505/1507 [1:13:43<00:08,  4.00s/it]"
     ]
    },
    {
     "name": "stdout",
     "output_type": "stream",
     "text": [
      "ID: TEST_1504 Question: 강남역 터널의 예정 완공 연도는 Generated answer: 오는 2022년\n"
     ]
    },
    {
     "name": "stderr",
     "output_type": "stream",
     "text": [
      "100%|█████████▉| 1506/1507 [1:13:47<00:04,  4.12s/it]"
     ]
    },
    {
     "name": "stdout",
     "output_type": "stream",
     "text": [
      "ID: TEST_1505 Question: 원주천댐의 사업비는 Generated answer: 689억원\n"
     ]
    },
    {
     "name": "stderr",
     "output_type": "stream",
     "text": [
      "100%|██████████| 1507/1507 [1:13:51<00:00,  2.94s/it]"
     ]
    },
    {
     "name": "stdout",
     "output_type": "stream",
     "text": [
      "ID: TEST_1506 Question: 봉화댐의 완공 목표 연도는 Generated answer: 2024년\n"
     ]
    },
    {
     "name": "stderr",
     "output_type": "stream",
     "text": [
      "\n"
     ]
    }
   ],
   "source": [
    "import re\n",
    "TEST_fOLDER = '/home/jovyan/work/prj_data/open/test.csv'\n",
    "csv = pd.read_csv(TEST_fOLDER)\n",
    "\n",
    "def get_prediction(question, context):\n",
    "    inputs = tokenizer(\n",
    "        question,\n",
    "        context,\n",
    "        max_length=512,\n",
    "        return_tensors=\"pt\",\n",
    "        truncation=\"only_second\",\n",
    "        stride=256,\n",
    "        return_overflowing_tokens=True,\n",
    "        return_offsets_mapping=True,\n",
    "        padding=\"max_length\",\n",
    "    )\n",
    "    # inputs.pop(\"token_type_ids\")\n",
    "    offset_mapping = inputs.pop(\"offset_mapping\")\n",
    "    sample_map = inputs.pop(\"overflow_to_sample_mapping\")\n",
    "    \n",
    "    inputs = {k: v.to(DEVICE) for k, v in inputs.items()}\n",
    "\n",
    "    \n",
    "    with torch.no_grad():\n",
    "        outputs = model(**inputs)\n",
    "\n",
    "    # 모든 청크에 대한 start/end 로짓 가져오기\n",
    "    start_logits = outputs.start_logits\n",
    "    end_logits = outputs.end_logits\n",
    "    \n",
    "    # 가장 높은 점수의 답변 찾기\n",
    "    max_answer_score = -float('inf')\n",
    "    best_answer = \"\"\n",
    "\n",
    "    for i in range(len(start_logits)):\n",
    "        start_indexes = torch.argsort(start_logits[i], descending=True)[:20]\n",
    "        end_indexes = torch.argsort(end_logits[i], descending=True)[:20]\n",
    "        \n",
    "        for start_index in start_indexes:\n",
    "            for end_index in end_indexes:\n",
    "                # 답변의 길이를 50 토큰으로 제한\n",
    "                if end_index < start_index or end_index - start_index + 1 > 50 or end_index - start_index <= 1:\n",
    "                    continue\n",
    "                # 답변이 CLS일때는 제외\n",
    "                if start_index==0 or end_index==0:\n",
    "                    continue\n",
    "                \n",
    "                answer_score = start_logits[i][start_index] + end_logits[i][end_index]\n",
    "                if answer_score > max_answer_score:\n",
    "                    max_answer_score = answer_score\n",
    "                    best_answer = tokenizer.decode(inputs[\"input_ids\"][i][start_index:end_index+1])\n",
    "    return best_answer\n",
    "    \n",
    "submission_dict = {}\n",
    "for _, row in tqdm(csv.iterrows(), total=len(csv)):\n",
    "    answer = get_prediction(row['question'], row['context'])\n",
    "    \n",
    "    def clean_prediction(text):\n",
    "        special_tokens = list(tokenizer.special_tokens_map.values())\n",
    "        pattern = '|'.join(map(re.escape, special_tokens))\n",
    "        cleaned_text = re.sub(pattern, '', text)\n",
    "        cleaned_text = ' '.join(cleaned_text.split())\n",
    "        return cleaned_text\n",
    "\n",
    "    answer = clean_prediction(answer)\n",
    "    submission_dict[row['id']] = answer\n",
    "    print(f\"ID: {row['id']} Question: {row['question']} Generated answer: {answer}\")\n",
    "    \n",
    "df = pd.DataFrame(list(submission_dict.items()), columns=['id', 'answer'])"
   ]
  },
  {
   "cell_type": "code",
   "execution_count": 4,
   "id": "e52c3fbe-8a73-4ad9-a91b-e7ec7068b86c",
   "metadata": {},
   "outputs": [],
   "source": [
    "df.to_csv('bert_stride256.csv', index=False)"
   ]
  },
  {
   "cell_type": "code",
   "execution_count": null,
   "id": "bdf6b8ec-928e-4fee-a4aa-31903b37f20a",
   "metadata": {},
   "outputs": [],
   "source": [
    "할거: roberta_v2(진행중) -> roberta_v2 + answer변경(or 제일 좋았던 모델) -> illuni/illuni-llama-2-ko-7b -> guided text generation"
   ]
  },
  {
   "cell_type": "code",
   "execution_count": null,
   "id": "319b7c91-b6fa-4300-9a66-a088f4fa44cc",
   "metadata": {},
   "outputs": [],
   "source": []
  },
  {
   "cell_type": "code",
   "execution_count": null,
   "id": "3e456bce-4591-4d4b-b59d-fd497cc2e27d",
   "metadata": {},
   "outputs": [],
   "source": []
  }
 ],
 "metadata": {
  "kernelspec": {
   "display_name": "qa",
   "language": "python",
   "name": "qa"
  },
  "language_info": {
   "codemirror_mode": {
    "name": "ipython",
    "version": 3
   },
   "file_extension": ".py",
   "mimetype": "text/x-python",
   "name": "python",
   "nbconvert_exporter": "python",
   "pygments_lexer": "ipython3",
   "version": "3.9.19"
  }
 },
 "nbformat": 4,
 "nbformat_minor": 5
}
