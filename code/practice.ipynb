{
 "cells": [
  {
   "cell_type": "code",
   "execution_count": 4,
   "id": "04180d4d-bdcd-467c-9592-28b8ab1b0390",
   "metadata": {},
   "outputs": [
    {
     "name": "stdout",
     "output_type": "stream",
     "text": [
      "Total number of records: 33716\n",
      "First part number of records: 11238\n",
      "Second part number of records: 11238\n",
      "Third part number of records: 11240\n"
     ]
    }
   ],
   "source": [
    "import pandas as pd\n",
    "\n",
    "file_path = '/home/jovyan/work/prj_data/open/train.csv'\n",
    "train_data = pd.read_csv(file_path)\n",
    "\n",
    "data_length = len(train_data)\n",
    "print(f\"Total number of records: {data_length}\")\n",
    "\n",
    "split_size = data_length // 3\n",
    "\n",
    "data_part1 = train_data.sample(n=split_size, random_state=42)\n",
    "remaining_data = train_data.drop(data_part1.index)\n",
    "data_part2 = remaining_data.sample(n=split_size, random_state=43)\n",
    "data_part3 = remaining_data.drop(data_part2.index)\n",
    "\n",
    "print(f\"First part number of records: {len(data_part1)}\")\n",
    "print(f\"Second part number of records: {len(data_part2)}\")\n",
    "print(f\"Third part number of records: {len(data_part3)}\")\n",
    "\n",
    "data_part1.to_csv('/home/jovyan/work/datasets/sampled_train(1).csv', index=False)\n",
    "data_part2.to_csv('/home/jovyan/work/datasets/sampled_train(2).csv', index=False)\n",
    "data_part3.to_csv('/home/jovyan/work/datasets/sampled_train(3).csv', index=False)"
   ]
  },
  {
   "cell_type": "code",
   "execution_count": null,
   "id": "5206a691-a39d-4dfd-8d3d-eb567a3e1783",
   "metadata": {},
   "outputs": [],
   "source": []
  }
 ],
 "metadata": {
  "kernelspec": {
   "display_name": "Python 3 (ipykernel)",
   "language": "python",
   "name": "python3"
  },
  "language_info": {
   "codemirror_mode": {
    "name": "ipython",
    "version": 3
   },
   "file_extension": ".py",
   "mimetype": "text/x-python",
   "name": "python",
   "nbconvert_exporter": "python",
   "pygments_lexer": "ipython3",
   "version": "3.11.9"
  }
 },
 "nbformat": 4,
 "nbformat_minor": 5
}
